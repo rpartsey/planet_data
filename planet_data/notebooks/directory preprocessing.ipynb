{
 "cells": [
  {
   "cell_type": "code",
   "execution_count": 67,
   "metadata": {},
   "outputs": [],
   "source": [
    "import os\n",
    "from glob import glob\n",
    "import shutil\n",
    "import pandas as pd\n",
    "import geopandas as gpd"
   ]
  },
  {
   "cell_type": "code",
   "execution_count": 68,
   "metadata": {},
   "outputs": [],
   "source": [
    "wfdp_path = '/datasets/rpartsey/satellite/planet/wfdp_labels'"
   ]
  },
  {
   "cell_type": "code",
   "execution_count": 69,
   "metadata": {},
   "outputs": [
    {
     "data": {
      "text/plain": [
       "['Zaporizhzhia', 'Lugansk', 'Kharkiv']"
      ]
     },
     "execution_count": 69,
     "metadata": {},
     "output_type": "execute_result"
    }
   ],
   "source": [
    "os.listdir(wfdp_path)"
   ]
  },
  {
   "cell_type": "code",
   "execution_count": 70,
   "metadata": {},
   "outputs": [
    {
     "data": {
      "text/plain": [
       "['Kharkiv_2017_autumn_Leiberiuk_2019-06-25.geojson',\n",
       " 'Kharkiv_2017_spring_Leiberiuk_2019-07-17.geojson',\n",
       " 'Kharkiv_2017_summer_Leiberiuk_2019-07-02.geojson',\n",
       " 'Kharkiv_2018_spring_Burned_Areas.geojson',\n",
       " 'Kharkiv_2019_spring_Leiberiuk_2019-08-25.geojson',\n",
       " 'Lugansk_2017_autumn_Kuzminova_2019_06_22.geojson',\n",
       " 'Lugansk_2017_spring_Leiberiuk_2019-10-08.geojson',\n",
       " 'Lugansk_2017_summer_Leiberiuk_2019-09-13.geojson',\n",
       " 'Lugansk_2018_autumn_Kuzminova_2019-02-22.geojson',\n",
       " 'Lugansk_2018_autumn_Kuzminova_2019-03-27.geojson',\n",
       " 'Lugansk_2018_autumn_Kuzminova_2019_04_30.geojson',\n",
       " 'Lugansk_2018_spring_Kuzminova_2019-03-27.geojson',\n",
       " 'Lugansk_2018_spring_Kuzminova_2019-06-05.geojson',\n",
       " 'Lugansk_2018_summer_Kuzminova_2019-03-27.geojson',\n",
       " 'Lugansk_2018_summer_Kuzminova_2019_04_30.geojson',\n",
       " 'Zaporozhje_2017_autumn_Leiberiuk_2019-02-17.geojson',\n",
       " 'Zaporozhje_2017_spring_Leiberiuk_2019-02-08.geojson',\n",
       " 'Zaporozhje_2018_autumn_Leiberiuk_2019-01-16.geojson',\n",
       " 'Zaporozhje_2018_spring_Leiberiuk_2019-01-16.geojson',\n",
       " 'Zaporozhje_2018_summer_Leiberiuk_2019-01-16.geojson',\n",
       " 'Zaporozhje_2019_spring_Leiberiuk_2019-06-11.geojson']"
      ]
     },
     "execution_count": 70,
     "metadata": {},
     "output_type": "execute_result"
    }
   ],
   "source": [
    "geojson_paths = glob(os.path.join(wfdp_path, '*', '*.geojson'))\n",
    "sorted([os.path.basename(f) for f in geojson_paths])"
   ]
  },
  {
   "cell_type": "code",
   "execution_count": 71,
   "metadata": {},
   "outputs": [
    {
     "data": {
      "text/plain": [
       "(2277, 5)"
      ]
     },
     "execution_count": 71,
     "metadata": {},
     "output_type": "execute_result"
    }
   ],
   "source": [
    "poly_gdf = pd.concat([gpd.read_file(f) for f in geojson_paths])\n",
    "poly_gdf.shape"
   ]
  },
  {
   "cell_type": "code",
   "execution_count": 53,
   "metadata": {},
   "outputs": [
    {
     "data": {
      "text/html": [
       "<div>\n",
       "<style scoped>\n",
       "    .dataframe tbody tr th:only-of-type {\n",
       "        vertical-align: middle;\n",
       "    }\n",
       "\n",
       "    .dataframe tbody tr th {\n",
       "        vertical-align: top;\n",
       "    }\n",
       "\n",
       "    .dataframe thead th {\n",
       "        text-align: right;\n",
       "    }\n",
       "</style>\n",
       "<table border=\"1\" class=\"dataframe\">\n",
       "  <thead>\n",
       "    <tr style=\"text-align: right;\">\n",
       "      <th></th>\n",
       "      <th>date</th>\n",
       "      <th>planet_img</th>\n",
       "      <th>firms_sour</th>\n",
       "      <th>editor</th>\n",
       "      <th>geometry</th>\n",
       "    </tr>\n",
       "  </thead>\n",
       "  <tbody>\n",
       "    <tr>\n",
       "      <th>0</th>\n",
       "      <td>2018-08-28</td>\n",
       "      <td>20180831_075824_0f35_tms.xml</td>\n",
       "      <td>V1</td>\n",
       "      <td>Oleksandr Leiberiuk - 0001</td>\n",
       "      <td>POLYGON ((36.62941 47.27804, 36.63887 47.27809...</td>\n",
       "    </tr>\n",
       "    <tr>\n",
       "      <th>1</th>\n",
       "      <td>2018-08-22</td>\n",
       "      <td>20180823_075453_0e20_tms.xml</td>\n",
       "      <td>V1</td>\n",
       "      <td>Oleksandr Leiberiuk - 0002</td>\n",
       "      <td>POLYGON ((36.85774 46.82754, 36.85798 46.82746...</td>\n",
       "    </tr>\n",
       "    <tr>\n",
       "      <th>2</th>\n",
       "      <td>2018-08-23</td>\n",
       "      <td>20180824_075716_1011_tms.xml</td>\n",
       "      <td>V1</td>\n",
       "      <td>Oleksandr Leiberiuk - 0003</td>\n",
       "      <td>POLYGON ((36.85279 46.81438, 36.85312 46.81543...</td>\n",
       "    </tr>\n",
       "    <tr>\n",
       "      <th>3</th>\n",
       "      <td>2018-08-22</td>\n",
       "      <td>20180823_073520_0f3c_tms.xml</td>\n",
       "      <td>_</td>\n",
       "      <td>Oleksandr Leiberiuk - 0004</td>\n",
       "      <td>POLYGON ((35.86952 46.65867, 35.86971 46.65775...</td>\n",
       "    </tr>\n",
       "    <tr>\n",
       "      <th>4</th>\n",
       "      <td>2018-08-22</td>\n",
       "      <td>20180823_073521_0f3c_tms.xml</td>\n",
       "      <td>_</td>\n",
       "      <td>Oleksandr Leiberiuk - 0005</td>\n",
       "      <td>POLYGON ((35.85320 46.66909, 35.85242 46.67009...</td>\n",
       "    </tr>\n",
       "  </tbody>\n",
       "</table>\n",
       "</div>"
      ],
      "text/plain": [
       "         date                    planet_img firms_sour  \\\n",
       "0  2018-08-28  20180831_075824_0f35_tms.xml         V1   \n",
       "1  2018-08-22  20180823_075453_0e20_tms.xml         V1   \n",
       "2  2018-08-23  20180824_075716_1011_tms.xml         V1   \n",
       "3  2018-08-22  20180823_073520_0f3c_tms.xml          _   \n",
       "4  2018-08-22  20180823_073521_0f3c_tms.xml          _   \n",
       "\n",
       "                       editor  \\\n",
       "0  Oleksandr Leiberiuk - 0001   \n",
       "1  Oleksandr Leiberiuk - 0002   \n",
       "2  Oleksandr Leiberiuk - 0003   \n",
       "3  Oleksandr Leiberiuk - 0004   \n",
       "4  Oleksandr Leiberiuk - 0005   \n",
       "\n",
       "                                            geometry  \n",
       "0  POLYGON ((36.62941 47.27804, 36.63887 47.27809...  \n",
       "1  POLYGON ((36.85774 46.82754, 36.85798 46.82746...  \n",
       "2  POLYGON ((36.85279 46.81438, 36.85312 46.81543...  \n",
       "3  POLYGON ((35.86952 46.65867, 35.86971 46.65775...  \n",
       "4  POLYGON ((35.85320 46.66909, 35.85242 46.67009...  "
      ]
     },
     "execution_count": 53,
     "metadata": {},
     "output_type": "execute_result"
    }
   ],
   "source": [
    "poly_gdf.head()"
   ]
  },
  {
   "cell_type": "code",
   "execution_count": 76,
   "metadata": {},
   "outputs": [],
   "source": [
    "def valid_invalid_split(path):\n",
    "    df = gpd.read_file(path) \n",
    "    \n",
    "    file_name = os.path.basename(path)\n",
    "    \n",
    "    none_fields_mask = df.planet_img.isna() | df.geometry.isna()\n",
    "    print('Number of none fields: ', none_fields_mask.sum())\n",
    "    \n",
    "    none_df = df[none_fields_mask]\n",
    "    if none_df.shape[0] > 0:\n",
    "        none_path = path.replace(file_name, 'none_{}'.format(file_name))\n",
    "        none_df.to_file(none_path, driver='GeoJSON')\n",
    "    \n",
    "    df = df[~none_fields_mask]\n",
    "    \n",
    "    invalid_symbols = ['Sentinel', '10.04.18', ',', '?????', 'NULL', '(', ')']\n",
    "    invalid_symbols_mask = df.planet_img.map(lambda p_img: any(s in p_img for s in invalid_symbols))\n",
    "    print('Number of invalid symbols fields: ',invalid_symbols_mask.sum())\n",
    "    \n",
    "    invalid_symbols_df = df[invalid_symbols_mask]\n",
    "    if invalid_symbols_df.shape[0] > 0:\n",
    "        inv_symbols_path = path.replace(file_name, 'inv_symbols_{}'.format(file_name))\n",
    "        invalid_symbols_df.to_file(inv_symbols_path, driver='GeoJSON')\n",
    "    \n",
    "    df = df[~invalid_symbols_mask]\n",
    "    if df.shape[0] > 0:\n",
    "        df.to_file(path, driver='GeoJSON')\n",
    "    else:\n",
    "        os.remove(path)"
   ]
  },
  {
   "cell_type": "code",
   "execution_count": 77,
   "metadata": {},
   "outputs": [
    {
     "name": "stdout",
     "output_type": "stream",
     "text": [
      "/datasets/rpartsey/satellite/planet/wfdp_labels/Zaporizhzhia/Zaporozhje_2018_summer_Leiberiuk_2019-01-16.geojson\n",
      "Number of none fields:  0\n",
      "Number of invalid symbols fields:  0\n",
      "\n",
      "/datasets/rpartsey/satellite/planet/wfdp_labels/Zaporizhzhia/Zaporozhje_2019_spring_Leiberiuk_2019-06-11.geojson\n",
      "Number of none fields:  0\n",
      "Number of invalid symbols fields:  0\n",
      "\n",
      "/datasets/rpartsey/satellite/planet/wfdp_labels/Zaporizhzhia/Zaporozhje_2018_autumn_Leiberiuk_2019-01-16.geojson\n",
      "Number of none fields:  0\n",
      "Number of invalid symbols fields:  0\n",
      "\n",
      "/datasets/rpartsey/satellite/planet/wfdp_labels/Zaporizhzhia/Zaporozhje_2018_spring_Leiberiuk_2019-01-16.geojson\n",
      "Number of none fields:  0\n",
      "Number of invalid symbols fields:  0\n",
      "\n",
      "/datasets/rpartsey/satellite/planet/wfdp_labels/Zaporizhzhia/Zaporozhje_2017_autumn_Leiberiuk_2019-02-17.geojson\n",
      "Number of none fields:  0\n",
      "Number of invalid symbols fields:  0\n",
      "\n",
      "/datasets/rpartsey/satellite/planet/wfdp_labels/Zaporizhzhia/Zaporozhje_2017_spring_Leiberiuk_2019-02-08.geojson\n",
      "Number of none fields:  0\n",
      "Number of invalid symbols fields:  0\n",
      "\n",
      "/datasets/rpartsey/satellite/planet/wfdp_labels/Lugansk/Lugansk_2018_spring_Kuzminova_2019-06-05.geojson\n",
      "Number of none fields:  0\n",
      "Number of invalid symbols fields:  0\n",
      "\n",
      "/datasets/rpartsey/satellite/planet/wfdp_labels/Lugansk/Lugansk_2017_autumn_Kuzminova_2019_06_22.geojson\n",
      "Number of none fields:  0\n",
      "Number of invalid symbols fields:  0\n",
      "\n",
      "/datasets/rpartsey/satellite/planet/wfdp_labels/Lugansk/Lugansk_2018_autumn_Kuzminova_2019-03-27.geojson\n",
      "Number of none fields:  0\n",
      "Number of invalid symbols fields:  0\n",
      "\n",
      "/datasets/rpartsey/satellite/planet/wfdp_labels/Lugansk/Lugansk_2018_autumn_Kuzminova_2019_04_30.geojson\n",
      "Number of none fields:  0\n",
      "Number of invalid symbols fields:  0\n",
      "\n",
      "/datasets/rpartsey/satellite/planet/wfdp_labels/Lugansk/Lugansk_2018_spring_Kuzminova_2019-03-27.geojson\n",
      "Number of none fields:  0\n",
      "Number of invalid symbols fields:  145\n",
      "\n",
      "/datasets/rpartsey/satellite/planet/wfdp_labels/Lugansk/Lugansk_2017_summer_Leiberiuk_2019-09-13.geojson\n",
      "Number of none fields:  0\n",
      "Number of invalid symbols fields:  0\n",
      "\n",
      "/datasets/rpartsey/satellite/planet/wfdp_labels/Lugansk/Lugansk_2018_summer_Kuzminova_2019-03-27.geojson\n",
      "Number of none fields:  0\n",
      "Number of invalid symbols fields:  61\n",
      "\n",
      "/datasets/rpartsey/satellite/planet/wfdp_labels/Lugansk/Lugansk_2017_spring_Leiberiuk_2019-10-08.geojson\n",
      "Number of none fields:  0\n",
      "Number of invalid symbols fields:  1\n",
      "\n",
      "/datasets/rpartsey/satellite/planet/wfdp_labels/Lugansk/Lugansk_2018_summer_Kuzminova_2019_04_30.geojson\n",
      "Number of none fields:  0\n",
      "Number of invalid symbols fields:  0\n",
      "\n",
      "/datasets/rpartsey/satellite/planet/wfdp_labels/Lugansk/Lugansk_2018_autumn_Kuzminova_2019-02-22.geojson\n",
      "Number of none fields:  0\n",
      "Number of invalid symbols fields:  1\n",
      "\n",
      "/datasets/rpartsey/satellite/planet/wfdp_labels/Kharkiv/Kharkiv_2017_spring_Leiberiuk_2019-07-17.geojson\n",
      "Number of none fields:  1\n",
      "Number of invalid symbols fields:  0\n",
      "\n",
      "/datasets/rpartsey/satellite/planet/wfdp_labels/Kharkiv/Kharkiv_2017_autumn_Leiberiuk_2019-06-25.geojson\n",
      "Number of none fields:  0\n",
      "Number of invalid symbols fields:  0\n",
      "\n",
      "/datasets/rpartsey/satellite/planet/wfdp_labels/Kharkiv/Kharkiv_2017_summer_Leiberiuk_2019-07-02.geojson\n",
      "Number of none fields:  0\n",
      "Number of invalid symbols fields:  0\n",
      "\n",
      "/datasets/rpartsey/satellite/planet/wfdp_labels/Kharkiv/Kharkiv_2019_spring_Leiberiuk_2019-08-25.geojson\n",
      "Number of none fields:  0\n",
      "Number of invalid symbols fields:  0\n",
      "\n",
      "/datasets/rpartsey/satellite/planet/wfdp_labels/Kharkiv/Kharkiv_2018_spring_Burned_Areas.geojson\n",
      "Number of none fields:  15\n",
      "Number of invalid symbols fields:  12\n",
      "\n"
     ]
    }
   ],
   "source": [
    "for path in geojson_paths:\n",
    "    print(path)\n",
    "    valid_invalid_split(path)\n",
    "    print()"
   ]
  },
  {
   "cell_type": "code",
   "execution_count": 24,
   "metadata": {},
   "outputs": [],
   "source": [
    "def check_duplicate_poly(df, epsilon=0.1):\n",
    "    for row, poly in df.iterrows():\n",
    "        for col, another in df.iterrows():\n",
    "            if row >= col:\n",
    "                continue\n",
    "            "
   ]
  },
  {
   "cell_type": "code",
   "execution_count": null,
   "metadata": {},
   "outputs": [],
   "source": []
  }
 ],
 "metadata": {
  "kernelspec": {
   "display_name": "Python 3",
   "language": "python",
   "name": "python3"
  },
  "language_info": {
   "codemirror_mode": {
    "name": "ipython",
    "version": 3
   },
   "file_extension": ".py",
   "mimetype": "text/x-python",
   "name": "python",
   "nbconvert_exporter": "python",
   "pygments_lexer": "ipython3",
   "version": "3.6.9"
  }
 },
 "nbformat": 4,
 "nbformat_minor": 4
}
