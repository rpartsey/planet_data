{
 "cells": [
  {
   "cell_type": "code",
   "execution_count": 55,
   "metadata": {},
   "outputs": [],
   "source": [
    "import os\n",
    "import re\n",
    "from glob import glob, iglob\n",
    "import pandas as pd"
   ]
  },
  {
   "cell_type": "code",
   "execution_count": 56,
   "metadata": {},
   "outputs": [],
   "source": [
    "data_directory = '/datasets/rpartsey/satellite/planet/SNP_Planet_Scenes_2017_Summer_Autumn_I'"
   ]
  },
  {
   "cell_type": "code",
   "execution_count": 57,
   "metadata": {},
   "outputs": [
    {
     "name": "stdout",
     "output_type": "stream",
     "text": [
      "Number of images: 30\n",
      "Number of udm masks: 30\n",
      "Number of shapes: 29\n",
      "Number of xmls: 30\n",
      "Number of jsons: 30\n"
     ]
    }
   ],
   "source": [
    "def iter_files(glob_pattern, regex_patter=None):\n",
    "    files = iglob(glob_pattern)\n",
    "    if regex_patter is not None:\n",
    "        files = filter(lambda path: regex_patter.match(path), files)\n",
    "    return files \n",
    "    \n",
    "\n",
    "image_name_pattern = re.compile(r'.*_Analytic(MS)?\\.tif$')\n",
    "metadata_xml_name_pattern = re.compile(r'.*_Analytic(MS)?_metadata?\\.xml$')\n",
    "\n",
    "image_files = list(iter_files(os.path.join(data_directory, '*/*.tif'), image_name_pattern))\n",
    "udm_mask_files = list(iter_files(os.path.join(data_directory, '*/*_DN_udm.tif')))\n",
    "shape_files = list(iter_files(os.path.join(data_directory, '*/*.shp')))\n",
    "xml_files = list(iter_files(os.path.join(data_directory, '*/*_metadata.xml'), metadata_xml_name_pattern))\n",
    "json_files = list(iter_files(os.path.join(data_directory, '*/*_metadata.json')))\n",
    "\n",
    "print('Number of images:', len(image_files))\n",
    "print('Number of udm masks:', len(udm_mask_files))\n",
    "print('Number of shapes:', len(shape_files))\n",
    "print('Number of xmls:', len(xml_files))\n",
    "print('Number of jsons:', len(json_files))"
   ]
  },
  {
   "cell_type": "code",
   "execution_count": 58,
   "metadata": {},
   "outputs": [],
   "source": [
    "image_df = pd.DataFrame({'image': image_files})\n",
    "udm_mask_df = pd.DataFrame({'udm_mask': udm_mask_files})\n",
    "shape_df = pd.DataFrame({'shape_file': shape_files})\n",
    "xml_df = pd.DataFrame({'xml': xml_files})\n",
    "json_df =pd.DataFrame({'json': json_files})\n",
    "\n",
    "\n",
    "def transform(df):\n",
    "    df['id'] = df.iloc[:, 0].map(lambda path: path.split('/')[-2])\n",
    "    df = df.set_index('id')\n",
    "    df.iloc[:,0] = df.iloc[:,0].map(lambda path: os.path.basename(path))\n",
    "    return df\n",
    "\n",
    "image_df = transform(image_df)\n",
    "udm_mask_df = transform(udm_mask_df)\n",
    "shape_df = transform(shape_df)\n",
    "xml_df = transform(xml_df)\n",
    "json_df = transform(json_df)"
   ]
  },
  {
   "cell_type": "code",
   "execution_count": 59,
   "metadata": {},
   "outputs": [],
   "source": [
    "files_df = pd.concat([image_df, udm_mask_df, shape_df, xml_df, json_df], axis=1, sort=False)"
   ]
  },
  {
   "cell_type": "code",
   "execution_count": 60,
   "metadata": {},
   "outputs": [
    {
     "name": "stdout",
     "output_type": "stream",
     "text": [
      "(30, 5)\n"
     ]
    },
    {
     "data": {
      "text/html": [
       "<div>\n",
       "<style scoped>\n",
       "    .dataframe tbody tr th:only-of-type {\n",
       "        vertical-align: middle;\n",
       "    }\n",
       "\n",
       "    .dataframe tbody tr th {\n",
       "        vertical-align: top;\n",
       "    }\n",
       "\n",
       "    .dataframe thead th {\n",
       "        text-align: right;\n",
       "    }\n",
       "</style>\n",
       "<table border=\"1\" class=\"dataframe\">\n",
       "  <thead>\n",
       "    <tr style=\"text-align: right;\">\n",
       "      <th></th>\n",
       "      <th>image</th>\n",
       "      <th>udm_mask</th>\n",
       "      <th>shape_file</th>\n",
       "      <th>xml</th>\n",
       "      <th>json</th>\n",
       "    </tr>\n",
       "  </thead>\n",
       "  <tbody>\n",
       "    <tr>\n",
       "      <th>20170806_075516_1033</th>\n",
       "      <td>20170806_075516_1033_3B_AnalyticMS.tif</td>\n",
       "      <td>20170806_075516_1033_3B_AnalyticMS_DN_udm.tif</td>\n",
       "      <td>20170806_075516_1033.shp</td>\n",
       "      <td>20170806_075516_1033_3B_AnalyticMS_metadata.xml</td>\n",
       "      <td>20170806_075516_1033_metadata.json</td>\n",
       "    </tr>\n",
       "    <tr>\n",
       "      <th>20170814_075356_102e</th>\n",
       "      <td>20170814_075356_102e_3B_AnalyticMS.tif</td>\n",
       "      <td>20170814_075356_102e_3B_AnalyticMS_DN_udm.tif</td>\n",
       "      <td>20170814_075356_102e.shp</td>\n",
       "      <td>20170814_075356_102e_3B_AnalyticMS_metadata.xml</td>\n",
       "      <td>20170814_075356_102e_metadata.json</td>\n",
       "    </tr>\n",
       "    <tr>\n",
       "      <th>20170809_075116_1041</th>\n",
       "      <td>20170809_075116_1041_3B_AnalyticMS.tif</td>\n",
       "      <td>20170809_075116_1041_3B_AnalyticMS_DN_udm.tif</td>\n",
       "      <td>20170809_075116_1041.shp</td>\n",
       "      <td>20170809_075116_1041_3B_AnalyticMS_metadata.xml</td>\n",
       "      <td>20170809_075116_1041_metadata.json</td>\n",
       "    </tr>\n",
       "    <tr>\n",
       "      <th>20171011_075449_1015</th>\n",
       "      <td>20171011_075449_1015_3B_AnalyticMS.tif</td>\n",
       "      <td>20171011_075449_1015_3B_AnalyticMS_DN_udm.tif</td>\n",
       "      <td>20171011_075449_1015.shp</td>\n",
       "      <td>20171011_075449_1015_3B_AnalyticMS_metadata.xml</td>\n",
       "      <td>20171011_075449_1015_metadata.json</td>\n",
       "    </tr>\n",
       "    <tr>\n",
       "      <th>20170629_075104_1044</th>\n",
       "      <td>20170629_075104_1044_3B_AnalyticMS.tif</td>\n",
       "      <td>20170629_075104_1044_3B_AnalyticMS_DN_udm.tif</td>\n",
       "      <td>20170629_075104_1044.shp</td>\n",
       "      <td>20170629_075104_1044_3B_AnalyticMS_metadata.xml</td>\n",
       "      <td>20170629_075104_1044_metadata.json</td>\n",
       "    </tr>\n",
       "  </tbody>\n",
       "</table>\n",
       "</div>"
      ],
      "text/plain": [
       "                                                       image  \\\n",
       "20170806_075516_1033  20170806_075516_1033_3B_AnalyticMS.tif   \n",
       "20170814_075356_102e  20170814_075356_102e_3B_AnalyticMS.tif   \n",
       "20170809_075116_1041  20170809_075116_1041_3B_AnalyticMS.tif   \n",
       "20171011_075449_1015  20171011_075449_1015_3B_AnalyticMS.tif   \n",
       "20170629_075104_1044  20170629_075104_1044_3B_AnalyticMS.tif   \n",
       "\n",
       "                                                           udm_mask  \\\n",
       "20170806_075516_1033  20170806_075516_1033_3B_AnalyticMS_DN_udm.tif   \n",
       "20170814_075356_102e  20170814_075356_102e_3B_AnalyticMS_DN_udm.tif   \n",
       "20170809_075116_1041  20170809_075116_1041_3B_AnalyticMS_DN_udm.tif   \n",
       "20171011_075449_1015  20171011_075449_1015_3B_AnalyticMS_DN_udm.tif   \n",
       "20170629_075104_1044  20170629_075104_1044_3B_AnalyticMS_DN_udm.tif   \n",
       "\n",
       "                                    shape_file  \\\n",
       "20170806_075516_1033  20170806_075516_1033.shp   \n",
       "20170814_075356_102e  20170814_075356_102e.shp   \n",
       "20170809_075116_1041  20170809_075116_1041.shp   \n",
       "20171011_075449_1015  20171011_075449_1015.shp   \n",
       "20170629_075104_1044  20170629_075104_1044.shp   \n",
       "\n",
       "                                                                  xml  \\\n",
       "20170806_075516_1033  20170806_075516_1033_3B_AnalyticMS_metadata.xml   \n",
       "20170814_075356_102e  20170814_075356_102e_3B_AnalyticMS_metadata.xml   \n",
       "20170809_075116_1041  20170809_075116_1041_3B_AnalyticMS_metadata.xml   \n",
       "20171011_075449_1015  20171011_075449_1015_3B_AnalyticMS_metadata.xml   \n",
       "20170629_075104_1044  20170629_075104_1044_3B_AnalyticMS_metadata.xml   \n",
       "\n",
       "                                                    json  \n",
       "20170806_075516_1033  20170806_075516_1033_metadata.json  \n",
       "20170814_075356_102e  20170814_075356_102e_metadata.json  \n",
       "20170809_075116_1041  20170809_075116_1041_metadata.json  \n",
       "20171011_075449_1015  20171011_075449_1015_metadata.json  \n",
       "20170629_075104_1044  20170629_075104_1044_metadata.json  "
      ]
     },
     "execution_count": 60,
     "metadata": {},
     "output_type": "execute_result"
    }
   ],
   "source": [
    "print(files_df.shape)\n",
    "files_df.head()"
   ]
  },
  {
   "cell_type": "code",
   "execution_count": 61,
   "metadata": {},
   "outputs": [
    {
     "name": "stdout",
     "output_type": "stream",
     "text": [
      "Number of invalid subdirectories:  1\n"
     ]
    },
    {
     "data": {
      "text/html": [
       "<div>\n",
       "<style scoped>\n",
       "    .dataframe tbody tr th:only-of-type {\n",
       "        vertical-align: middle;\n",
       "    }\n",
       "\n",
       "    .dataframe tbody tr th {\n",
       "        vertical-align: top;\n",
       "    }\n",
       "\n",
       "    .dataframe thead th {\n",
       "        text-align: right;\n",
       "    }\n",
       "</style>\n",
       "<table border=\"1\" class=\"dataframe\">\n",
       "  <thead>\n",
       "    <tr style=\"text-align: right;\">\n",
       "      <th></th>\n",
       "      <th>image</th>\n",
       "      <th>udm_mask</th>\n",
       "      <th>shape_file</th>\n",
       "      <th>xml</th>\n",
       "      <th>json</th>\n",
       "    </tr>\n",
       "  </thead>\n",
       "  <tbody>\n",
       "    <tr>\n",
       "      <th>20170812_075232_1002</th>\n",
       "      <td>20170812_075232_1002_3B_Analytic.tif</td>\n",
       "      <td>20170812_075232_1002_3B_Analytic_DN_udm.tif</td>\n",
       "      <td>NaN</td>\n",
       "      <td>20170812_075232_1002_3B_Analytic_metadata.xml</td>\n",
       "      <td>20170812_075232_1002_metadata.json</td>\n",
       "    </tr>\n",
       "  </tbody>\n",
       "</table>\n",
       "</div>"
      ],
      "text/plain": [
       "                                                     image  \\\n",
       "20170812_075232_1002  20170812_075232_1002_3B_Analytic.tif   \n",
       "\n",
       "                                                         udm_mask shape_file  \\\n",
       "20170812_075232_1002  20170812_075232_1002_3B_Analytic_DN_udm.tif        NaN   \n",
       "\n",
       "                                                                xml  \\\n",
       "20170812_075232_1002  20170812_075232_1002_3B_Analytic_metadata.xml   \n",
       "\n",
       "                                                    json  \n",
       "20170812_075232_1002  20170812_075232_1002_metadata.json  "
      ]
     },
     "execution_count": 61,
     "metadata": {},
     "output_type": "execute_result"
    }
   ],
   "source": [
    "invalid_subdirectories = files_df[files_df.isna().any(axis=1)]\n",
    "print('Number of invalid subdirectories: ', invalid_subdirectories.shape[0])\n",
    "invalid_subdirectories.head()"
   ]
  },
  {
   "cell_type": "code",
   "execution_count": 62,
   "metadata": {},
   "outputs": [
    {
     "data": {
      "text/plain": [
       "(29, 5)"
      ]
     },
     "execution_count": 62,
     "metadata": {},
     "output_type": "execute_result"
    }
   ],
   "source": [
    "files_df = files_df.dropna(axis=0)\n",
    "files_df.shape"
   ]
  },
  {
   "cell_type": "code",
   "execution_count": 63,
   "metadata": {},
   "outputs": [],
   "source": [
    "files_df.to_csv(os.path.join(data_directory, 'files.csv'), index=True)"
   ]
  },
  {
   "cell_type": "code",
   "execution_count": 64,
   "metadata": {},
   "outputs": [
    {
     "name": "stdout",
     "output_type": "stream",
     "text": [
      "(29, 5)\n"
     ]
    },
    {
     "data": {
      "text/html": [
       "<div>\n",
       "<style scoped>\n",
       "    .dataframe tbody tr th:only-of-type {\n",
       "        vertical-align: middle;\n",
       "    }\n",
       "\n",
       "    .dataframe tbody tr th {\n",
       "        vertical-align: top;\n",
       "    }\n",
       "\n",
       "    .dataframe thead th {\n",
       "        text-align: right;\n",
       "    }\n",
       "</style>\n",
       "<table border=\"1\" class=\"dataframe\">\n",
       "  <thead>\n",
       "    <tr style=\"text-align: right;\">\n",
       "      <th></th>\n",
       "      <th>image</th>\n",
       "      <th>udm_mask</th>\n",
       "      <th>shape_file</th>\n",
       "      <th>xml</th>\n",
       "      <th>json</th>\n",
       "    </tr>\n",
       "  </thead>\n",
       "  <tbody>\n",
       "    <tr>\n",
       "      <th>20170806_075516_1033</th>\n",
       "      <td>20170806_075516_1033_3B_AnalyticMS.tif</td>\n",
       "      <td>20170806_075516_1033_3B_AnalyticMS_DN_udm.tif</td>\n",
       "      <td>20170806_075516_1033.shp</td>\n",
       "      <td>20170806_075516_1033_3B_AnalyticMS_metadata.xml</td>\n",
       "      <td>20170806_075516_1033_metadata.json</td>\n",
       "    </tr>\n",
       "    <tr>\n",
       "      <th>20170814_075356_102e</th>\n",
       "      <td>20170814_075356_102e_3B_AnalyticMS.tif</td>\n",
       "      <td>20170814_075356_102e_3B_AnalyticMS_DN_udm.tif</td>\n",
       "      <td>20170814_075356_102e.shp</td>\n",
       "      <td>20170814_075356_102e_3B_AnalyticMS_metadata.xml</td>\n",
       "      <td>20170814_075356_102e_metadata.json</td>\n",
       "    </tr>\n",
       "    <tr>\n",
       "      <th>20170809_075116_1041</th>\n",
       "      <td>20170809_075116_1041_3B_AnalyticMS.tif</td>\n",
       "      <td>20170809_075116_1041_3B_AnalyticMS_DN_udm.tif</td>\n",
       "      <td>20170809_075116_1041.shp</td>\n",
       "      <td>20170809_075116_1041_3B_AnalyticMS_metadata.xml</td>\n",
       "      <td>20170809_075116_1041_metadata.json</td>\n",
       "    </tr>\n",
       "    <tr>\n",
       "      <th>20171011_075449_1015</th>\n",
       "      <td>20171011_075449_1015_3B_AnalyticMS.tif</td>\n",
       "      <td>20171011_075449_1015_3B_AnalyticMS_DN_udm.tif</td>\n",
       "      <td>20171011_075449_1015.shp</td>\n",
       "      <td>20171011_075449_1015_3B_AnalyticMS_metadata.xml</td>\n",
       "      <td>20171011_075449_1015_metadata.json</td>\n",
       "    </tr>\n",
       "    <tr>\n",
       "      <th>20170629_075104_1044</th>\n",
       "      <td>20170629_075104_1044_3B_AnalyticMS.tif</td>\n",
       "      <td>20170629_075104_1044_3B_AnalyticMS_DN_udm.tif</td>\n",
       "      <td>20170629_075104_1044.shp</td>\n",
       "      <td>20170629_075104_1044_3B_AnalyticMS_metadata.xml</td>\n",
       "      <td>20170629_075104_1044_metadata.json</td>\n",
       "    </tr>\n",
       "  </tbody>\n",
       "</table>\n",
       "</div>"
      ],
      "text/plain": [
       "                                                       image  \\\n",
       "20170806_075516_1033  20170806_075516_1033_3B_AnalyticMS.tif   \n",
       "20170814_075356_102e  20170814_075356_102e_3B_AnalyticMS.tif   \n",
       "20170809_075116_1041  20170809_075116_1041_3B_AnalyticMS.tif   \n",
       "20171011_075449_1015  20171011_075449_1015_3B_AnalyticMS.tif   \n",
       "20170629_075104_1044  20170629_075104_1044_3B_AnalyticMS.tif   \n",
       "\n",
       "                                                           udm_mask  \\\n",
       "20170806_075516_1033  20170806_075516_1033_3B_AnalyticMS_DN_udm.tif   \n",
       "20170814_075356_102e  20170814_075356_102e_3B_AnalyticMS_DN_udm.tif   \n",
       "20170809_075116_1041  20170809_075116_1041_3B_AnalyticMS_DN_udm.tif   \n",
       "20171011_075449_1015  20171011_075449_1015_3B_AnalyticMS_DN_udm.tif   \n",
       "20170629_075104_1044  20170629_075104_1044_3B_AnalyticMS_DN_udm.tif   \n",
       "\n",
       "                                    shape_file  \\\n",
       "20170806_075516_1033  20170806_075516_1033.shp   \n",
       "20170814_075356_102e  20170814_075356_102e.shp   \n",
       "20170809_075116_1041  20170809_075116_1041.shp   \n",
       "20171011_075449_1015  20171011_075449_1015.shp   \n",
       "20170629_075104_1044  20170629_075104_1044.shp   \n",
       "\n",
       "                                                                  xml  \\\n",
       "20170806_075516_1033  20170806_075516_1033_3B_AnalyticMS_metadata.xml   \n",
       "20170814_075356_102e  20170814_075356_102e_3B_AnalyticMS_metadata.xml   \n",
       "20170809_075116_1041  20170809_075116_1041_3B_AnalyticMS_metadata.xml   \n",
       "20171011_075449_1015  20171011_075449_1015_3B_AnalyticMS_metadata.xml   \n",
       "20170629_075104_1044  20170629_075104_1044_3B_AnalyticMS_metadata.xml   \n",
       "\n",
       "                                                    json  \n",
       "20170806_075516_1033  20170806_075516_1033_metadata.json  \n",
       "20170814_075356_102e  20170814_075356_102e_metadata.json  \n",
       "20170809_075116_1041  20170809_075116_1041_metadata.json  \n",
       "20171011_075449_1015  20171011_075449_1015_metadata.json  \n",
       "20170629_075104_1044  20170629_075104_1044_metadata.json  "
      ]
     },
     "execution_count": 64,
     "metadata": {},
     "output_type": "execute_result"
    }
   ],
   "source": [
    "files_df = pd.read_csv(os.path.join(data_directory, 'files.csv'), index_col=0)\n",
    "print(files_df.shape)\n",
    "files_df.head()"
   ]
  },
  {
   "cell_type": "code",
   "execution_count": null,
   "metadata": {},
   "outputs": [],
   "source": []
  }
 ],
 "metadata": {
  "kernelspec": {
   "display_name": "Python 3",
   "language": "python",
   "name": "python3"
  },
  "language_info": {
   "codemirror_mode": {
    "name": "ipython",
    "version": 3
   },
   "file_extension": ".py",
   "mimetype": "text/x-python",
   "name": "python",
   "nbconvert_exporter": "python",
   "pygments_lexer": "ipython3",
   "version": "3.6.9"
  }
 },
 "nbformat": 4,
 "nbformat_minor": 2
}
