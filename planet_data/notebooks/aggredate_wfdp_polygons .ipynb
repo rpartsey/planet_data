{
 "cells": [
  {
   "cell_type": "code",
   "execution_count": 1,
   "metadata": {},
   "outputs": [],
   "source": [
    "import os\n",
    "from glob import glob\n",
    "import pandas as pd\n",
    "import geopandas as gpd"
   ]
  },
  {
   "cell_type": "code",
   "execution_count": 2,
   "metadata": {},
   "outputs": [],
   "source": [
    "wfdp_path = '/datasets/rpartsey/satellite/planet/wfdp_labels'"
   ]
  },
  {
   "cell_type": "code",
   "execution_count": 3,
   "metadata": {},
   "outputs": [
    {
     "data": {
      "text/plain": [
       "['Zaporizhzhia', 'Lugansk', 'aggregated_polygons.geojson', 'Kharkiv']"
      ]
     },
     "execution_count": 3,
     "metadata": {},
     "output_type": "execute_result"
    }
   ],
   "source": [
    "os.listdir(wfdp_path)"
   ]
  },
  {
   "cell_type": "code",
   "execution_count": 4,
   "metadata": {},
   "outputs": [
    {
     "name": "stdout",
     "output_type": "stream",
     "text": [
      "21\n"
     ]
    },
    {
     "data": {
      "text/plain": [
       "['/datasets/rpartsey/satellite/planet/wfdp_labels/Kharkiv/wfdp_Kharkiv_2017_summer_Leiberiuk_2019-07-02.geojson',\n",
       " '/datasets/rpartsey/satellite/planet/wfdp_labels/Kharkiv/Burned_Areas_spring_2018.geojson',\n",
       " '/datasets/rpartsey/satellite/planet/wfdp_labels/Kharkiv/wfdp_Kharkiv_2019_spring_Leiberiuk_2019-08-25.geojson',\n",
       " '/datasets/rpartsey/satellite/planet/wfdp_labels/Kharkiv/wfdp_Kharkiv_2017_autumn_Leiberiuk_2019-06-25.geojson',\n",
       " '/datasets/rpartsey/satellite/planet/wfdp_labels/Kharkiv/wfdp_Kharkiv_2017_spring_Leiberiuk_2019-07-17.geojson']"
      ]
     },
     "execution_count": 4,
     "metadata": {},
     "output_type": "execute_result"
    }
   ],
   "source": [
    "geojsons = glob(os.path.join(wfdp_path, '*', '*.geojson'))\n",
    "print(len(geojsons))\n",
    "geojsons[-5:]"
   ]
  },
  {
   "cell_type": "code",
   "execution_count": 5,
   "metadata": {},
   "outputs": [
    {
     "name": "stdout",
     "output_type": "stream",
     "text": [
      "wfdp_Zaporozhje_2018_summer_Leiberiuk_2019-01-16.geojson\n",
      "0\n",
      "wfdp_Zaporozhje_2019_spring_Leiberiuk_2019-06-11.geojson\n",
      "0\n",
      "wfdp_Zaporozhje_2017_autumn_Leiberiuk_2019-02-17.geojson\n",
      "0\n",
      "wfdp_Zaporozhje_2017_spring_Leiberiuk_2019-02-08.geojson\n",
      "0\n",
      "wfdp_Zaporozhje_2018_autumn_Leiberiuk_2019-01-16.geojson\n",
      "0\n",
      "wfdp_Zaporozhje_2018_spring_Leiberiuk_2019-01-16.geojson\n",
      "0\n",
      "wfdp_Lugansk_2017_summer_Leiberiuk_2019-09-13.geojson\n",
      "0\n",
      "wfdp_Lugansk_2017_spring_Leiberiuk_2019-10-08.geojson\n",
      "0\n",
      "wfdp_Lugansk_2018_autumn_Kuzminova_2019-02-22.geojson\n",
      "0\n",
      "wfdp_Lugansk_2018_spring_Kuzminova_2019-03-27.geojson\n",
      "145\n",
      "wfdp_Lugansk_2018_autumn_Kuzminova_2019_04_30.geojson\n",
      "0\n",
      "wfdp_Lugansk_2018_autumn_Kuzminova_2019-03-27.geojson\n",
      "0\n",
      "wfdp_Lugansk_2018_summer_Kuzminova_2019-03-27.geojson\n",
      "61\n",
      "wfdp_Lugansk_2017_autumn_Kuzminova_2019_06_22.geojson\n"
     ]
    },
    {
     "ename": "TypeError",
     "evalue": "argument of type 'NoneType' is not iterable",
     "output_type": "error",
     "traceback": [
      "\u001b[0;31m---------------------------------------------------------------------------\u001b[0m",
      "\u001b[0;31mTypeError\u001b[0m                                 Traceback (most recent call last)",
      "\u001b[0;32m<ipython-input-5-c7dd880d30d5>\u001b[0m in \u001b[0;36m<module>\u001b[0;34m\u001b[0m\n\u001b[1;32m      1\u001b[0m \u001b[0;32mfor\u001b[0m \u001b[0mf\u001b[0m \u001b[0;32min\u001b[0m \u001b[0mgeojsons\u001b[0m\u001b[0;34m:\u001b[0m\u001b[0;34m\u001b[0m\u001b[0;34m\u001b[0m\u001b[0m\n\u001b[1;32m      2\u001b[0m     \u001b[0mprint\u001b[0m\u001b[0;34m(\u001b[0m\u001b[0mos\u001b[0m\u001b[0;34m.\u001b[0m\u001b[0mpath\u001b[0m\u001b[0;34m.\u001b[0m\u001b[0mbasename\u001b[0m\u001b[0;34m(\u001b[0m\u001b[0mf\u001b[0m\u001b[0;34m)\u001b[0m\u001b[0;34m)\u001b[0m\u001b[0;34m\u001b[0m\u001b[0;34m\u001b[0m\u001b[0m\n\u001b[0;32m----> 3\u001b[0;31m     \u001b[0mprint\u001b[0m\u001b[0;34m(\u001b[0m\u001b[0mgpd\u001b[0m\u001b[0;34m.\u001b[0m\u001b[0mread_file\u001b[0m\u001b[0;34m(\u001b[0m\u001b[0mf\u001b[0m\u001b[0;34m)\u001b[0m\u001b[0;34m[\u001b[0m\u001b[0;34m'planet_img'\u001b[0m\u001b[0;34m]\u001b[0m\u001b[0;34m.\u001b[0m\u001b[0mmap\u001b[0m\u001b[0;34m(\u001b[0m\u001b[0;32mlambda\u001b[0m \u001b[0mx\u001b[0m\u001b[0;34m:\u001b[0m \u001b[0;34m'Sentinel'\u001b[0m \u001b[0;32min\u001b[0m \u001b[0mx\u001b[0m\u001b[0;34m)\u001b[0m\u001b[0;34m.\u001b[0m\u001b[0msum\u001b[0m\u001b[0;34m(\u001b[0m\u001b[0;34m)\u001b[0m\u001b[0;34m)\u001b[0m\u001b[0;34m\u001b[0m\u001b[0;34m\u001b[0m\u001b[0m\n\u001b[0m",
      "\u001b[0;32m~/.virtualenvs/satellite_data-env/lib/python3.6/site-packages/pandas/core/series.py\u001b[0m in \u001b[0;36mmap\u001b[0;34m(self, arg, na_action)\u001b[0m\n\u001b[1;32m   3628\u001b[0m         \u001b[0mdtype\u001b[0m\u001b[0;34m:\u001b[0m \u001b[0mobject\u001b[0m\u001b[0;34m\u001b[0m\u001b[0;34m\u001b[0m\u001b[0m\n\u001b[1;32m   3629\u001b[0m         \"\"\"\n\u001b[0;32m-> 3630\u001b[0;31m         \u001b[0mnew_values\u001b[0m \u001b[0;34m=\u001b[0m \u001b[0msuper\u001b[0m\u001b[0;34m(\u001b[0m\u001b[0;34m)\u001b[0m\u001b[0;34m.\u001b[0m\u001b[0m_map_values\u001b[0m\u001b[0;34m(\u001b[0m\u001b[0marg\u001b[0m\u001b[0;34m,\u001b[0m \u001b[0mna_action\u001b[0m\u001b[0;34m=\u001b[0m\u001b[0mna_action\u001b[0m\u001b[0;34m)\u001b[0m\u001b[0;34m\u001b[0m\u001b[0;34m\u001b[0m\u001b[0m\n\u001b[0m\u001b[1;32m   3631\u001b[0m         \u001b[0;32mreturn\u001b[0m \u001b[0mself\u001b[0m\u001b[0;34m.\u001b[0m\u001b[0m_constructor\u001b[0m\u001b[0;34m(\u001b[0m\u001b[0mnew_values\u001b[0m\u001b[0;34m,\u001b[0m \u001b[0mindex\u001b[0m\u001b[0;34m=\u001b[0m\u001b[0mself\u001b[0m\u001b[0;34m.\u001b[0m\u001b[0mindex\u001b[0m\u001b[0;34m)\u001b[0m\u001b[0;34m.\u001b[0m\u001b[0m__finalize__\u001b[0m\u001b[0;34m(\u001b[0m\u001b[0mself\u001b[0m\u001b[0;34m)\u001b[0m\u001b[0;34m\u001b[0m\u001b[0;34m\u001b[0m\u001b[0m\n\u001b[1;32m   3632\u001b[0m \u001b[0;34m\u001b[0m\u001b[0m\n",
      "\u001b[0;32m~/.virtualenvs/satellite_data-env/lib/python3.6/site-packages/pandas/core/base.py\u001b[0m in \u001b[0;36m_map_values\u001b[0;34m(self, mapper, na_action)\u001b[0m\n\u001b[1;32m   1143\u001b[0m \u001b[0;34m\u001b[0m\u001b[0m\n\u001b[1;32m   1144\u001b[0m         \u001b[0;31m# mapper is a function\u001b[0m\u001b[0;34m\u001b[0m\u001b[0;34m\u001b[0m\u001b[0;34m\u001b[0m\u001b[0m\n\u001b[0;32m-> 1145\u001b[0;31m         \u001b[0mnew_values\u001b[0m \u001b[0;34m=\u001b[0m \u001b[0mmap_f\u001b[0m\u001b[0;34m(\u001b[0m\u001b[0mvalues\u001b[0m\u001b[0;34m,\u001b[0m \u001b[0mmapper\u001b[0m\u001b[0;34m)\u001b[0m\u001b[0;34m\u001b[0m\u001b[0;34m\u001b[0m\u001b[0m\n\u001b[0m\u001b[1;32m   1146\u001b[0m \u001b[0;34m\u001b[0m\u001b[0m\n\u001b[1;32m   1147\u001b[0m         \u001b[0;32mreturn\u001b[0m \u001b[0mnew_values\u001b[0m\u001b[0;34m\u001b[0m\u001b[0;34m\u001b[0m\u001b[0m\n",
      "\u001b[0;32mpandas/_libs/lib.pyx\u001b[0m in \u001b[0;36mpandas._libs.lib.map_infer\u001b[0;34m()\u001b[0m\n",
      "\u001b[0;32m<ipython-input-5-c7dd880d30d5>\u001b[0m in \u001b[0;36m<lambda>\u001b[0;34m(x)\u001b[0m\n\u001b[1;32m      1\u001b[0m \u001b[0;32mfor\u001b[0m \u001b[0mf\u001b[0m \u001b[0;32min\u001b[0m \u001b[0mgeojsons\u001b[0m\u001b[0;34m:\u001b[0m\u001b[0;34m\u001b[0m\u001b[0;34m\u001b[0m\u001b[0m\n\u001b[1;32m      2\u001b[0m     \u001b[0mprint\u001b[0m\u001b[0;34m(\u001b[0m\u001b[0mos\u001b[0m\u001b[0;34m.\u001b[0m\u001b[0mpath\u001b[0m\u001b[0;34m.\u001b[0m\u001b[0mbasename\u001b[0m\u001b[0;34m(\u001b[0m\u001b[0mf\u001b[0m\u001b[0;34m)\u001b[0m\u001b[0;34m)\u001b[0m\u001b[0;34m\u001b[0m\u001b[0;34m\u001b[0m\u001b[0m\n\u001b[0;32m----> 3\u001b[0;31m     \u001b[0mprint\u001b[0m\u001b[0;34m(\u001b[0m\u001b[0mgpd\u001b[0m\u001b[0;34m.\u001b[0m\u001b[0mread_file\u001b[0m\u001b[0;34m(\u001b[0m\u001b[0mf\u001b[0m\u001b[0;34m)\u001b[0m\u001b[0;34m[\u001b[0m\u001b[0;34m'planet_img'\u001b[0m\u001b[0;34m]\u001b[0m\u001b[0;34m.\u001b[0m\u001b[0mmap\u001b[0m\u001b[0;34m(\u001b[0m\u001b[0;32mlambda\u001b[0m \u001b[0mx\u001b[0m\u001b[0;34m:\u001b[0m \u001b[0;34m'Sentinel'\u001b[0m \u001b[0;32min\u001b[0m \u001b[0mx\u001b[0m\u001b[0;34m)\u001b[0m\u001b[0;34m.\u001b[0m\u001b[0msum\u001b[0m\u001b[0;34m(\u001b[0m\u001b[0;34m)\u001b[0m\u001b[0;34m)\u001b[0m\u001b[0;34m\u001b[0m\u001b[0;34m\u001b[0m\u001b[0m\n\u001b[0m",
      "\u001b[0;31mTypeError\u001b[0m: argument of type 'NoneType' is not iterable"
     ]
    }
   ],
   "source": [
    "for f in geojsons:\n",
    "    print(os.path.basename(f))\n",
    "    print(gpd.read_file(f)['planet_img'].map(lambda x: 'Sentinel' in x).sum())"
   ]
  },
  {
   "cell_type": "code",
   "execution_count": 6,
   "metadata": {},
   "outputs": [],
   "source": [
    "dataframes = []\n",
    "\n",
    "for f in geojsons:\n",
    "    df = gpd.read_file(f) \n",
    "    df['source'] = os.path.basename(f)\n",
    "    dataframes.append(df)\n",
    "    \n",
    "gdf = pd.concat(dataframes).reset_index(drop=True)\n",
    "gdf = gdf[['source', 'date', 'planet_img', 'firms_sour', 'editor', 'geometry']]"
   ]
  },
  {
   "cell_type": "code",
   "execution_count": 7,
   "metadata": {},
   "outputs": [
    {
     "data": {
      "text/plain": [
       "(2277, 6)"
      ]
     },
     "execution_count": 7,
     "metadata": {},
     "output_type": "execute_result"
    }
   ],
   "source": [
    "gdf.shape"
   ]
  },
  {
   "cell_type": "code",
   "execution_count": 8,
   "metadata": {},
   "outputs": [
    {
     "data": {
      "text/html": [
       "<div>\n",
       "<style scoped>\n",
       "    .dataframe tbody tr th:only-of-type {\n",
       "        vertical-align: middle;\n",
       "    }\n",
       "\n",
       "    .dataframe tbody tr th {\n",
       "        vertical-align: top;\n",
       "    }\n",
       "\n",
       "    .dataframe thead th {\n",
       "        text-align: right;\n",
       "    }\n",
       "</style>\n",
       "<table border=\"1\" class=\"dataframe\">\n",
       "  <thead>\n",
       "    <tr style=\"text-align: right;\">\n",
       "      <th></th>\n",
       "      <th>source</th>\n",
       "      <th>date</th>\n",
       "      <th>planet_img</th>\n",
       "      <th>firms_sour</th>\n",
       "      <th>editor</th>\n",
       "      <th>geometry</th>\n",
       "    </tr>\n",
       "  </thead>\n",
       "  <tbody>\n",
       "    <tr>\n",
       "      <th>0</th>\n",
       "      <td>wfdp_Zaporozhje_2018_summer_Leiberiuk_2019-01-...</td>\n",
       "      <td>2018-08-28</td>\n",
       "      <td>20180831_075824_0f35_tms.xml</td>\n",
       "      <td>V1</td>\n",
       "      <td>Oleksandr Leiberiuk - 0001</td>\n",
       "      <td>POLYGON ((36.62941 47.27804, 36.63887 47.27809...</td>\n",
       "    </tr>\n",
       "    <tr>\n",
       "      <th>1</th>\n",
       "      <td>wfdp_Zaporozhje_2018_summer_Leiberiuk_2019-01-...</td>\n",
       "      <td>2018-08-22</td>\n",
       "      <td>20180823_075453_0e20_tms.xml</td>\n",
       "      <td>V1</td>\n",
       "      <td>Oleksandr Leiberiuk - 0002</td>\n",
       "      <td>POLYGON ((36.85774 46.82754, 36.85798 46.82746...</td>\n",
       "    </tr>\n",
       "    <tr>\n",
       "      <th>2</th>\n",
       "      <td>wfdp_Zaporozhje_2018_summer_Leiberiuk_2019-01-...</td>\n",
       "      <td>2018-08-23</td>\n",
       "      <td>20180824_075716_1011_tms.xml</td>\n",
       "      <td>V1</td>\n",
       "      <td>Oleksandr Leiberiuk - 0003</td>\n",
       "      <td>POLYGON ((36.85279 46.81438, 36.85312 46.81543...</td>\n",
       "    </tr>\n",
       "    <tr>\n",
       "      <th>3</th>\n",
       "      <td>wfdp_Zaporozhje_2018_summer_Leiberiuk_2019-01-...</td>\n",
       "      <td>2018-08-22</td>\n",
       "      <td>20180823_073520_0f3c_tms.xml</td>\n",
       "      <td>_</td>\n",
       "      <td>Oleksandr Leiberiuk - 0004</td>\n",
       "      <td>POLYGON ((35.86952 46.65867, 35.86971 46.65775...</td>\n",
       "    </tr>\n",
       "    <tr>\n",
       "      <th>4</th>\n",
       "      <td>wfdp_Zaporozhje_2018_summer_Leiberiuk_2019-01-...</td>\n",
       "      <td>2018-08-22</td>\n",
       "      <td>20180823_073521_0f3c_tms.xml</td>\n",
       "      <td>_</td>\n",
       "      <td>Oleksandr Leiberiuk - 0005</td>\n",
       "      <td>POLYGON ((35.85320 46.66909, 35.85242 46.67009...</td>\n",
       "    </tr>\n",
       "  </tbody>\n",
       "</table>\n",
       "</div>"
      ],
      "text/plain": [
       "                                              source        date  \\\n",
       "0  wfdp_Zaporozhje_2018_summer_Leiberiuk_2019-01-...  2018-08-28   \n",
       "1  wfdp_Zaporozhje_2018_summer_Leiberiuk_2019-01-...  2018-08-22   \n",
       "2  wfdp_Zaporozhje_2018_summer_Leiberiuk_2019-01-...  2018-08-23   \n",
       "3  wfdp_Zaporozhje_2018_summer_Leiberiuk_2019-01-...  2018-08-22   \n",
       "4  wfdp_Zaporozhje_2018_summer_Leiberiuk_2019-01-...  2018-08-22   \n",
       "\n",
       "                     planet_img firms_sour                      editor  \\\n",
       "0  20180831_075824_0f35_tms.xml         V1  Oleksandr Leiberiuk - 0001   \n",
       "1  20180823_075453_0e20_tms.xml         V1  Oleksandr Leiberiuk - 0002   \n",
       "2  20180824_075716_1011_tms.xml         V1  Oleksandr Leiberiuk - 0003   \n",
       "3  20180823_073520_0f3c_tms.xml          _  Oleksandr Leiberiuk - 0004   \n",
       "4  20180823_073521_0f3c_tms.xml          _  Oleksandr Leiberiuk - 0005   \n",
       "\n",
       "                                            geometry  \n",
       "0  POLYGON ((36.62941 47.27804, 36.63887 47.27809...  \n",
       "1  POLYGON ((36.85774 46.82754, 36.85798 46.82746...  \n",
       "2  POLYGON ((36.85279 46.81438, 36.85312 46.81543...  \n",
       "3  POLYGON ((35.86952 46.65867, 35.86971 46.65775...  \n",
       "4  POLYGON ((35.85320 46.66909, 35.85242 46.67009...  "
      ]
     },
     "execution_count": 8,
     "metadata": {},
     "output_type": "execute_result"
    }
   ],
   "source": [
    "gdf.head()"
   ]
  },
  {
   "cell_type": "code",
   "execution_count": 9,
   "metadata": {},
   "outputs": [
    {
     "data": {
      "text/html": [
       "<div>\n",
       "<style scoped>\n",
       "    .dataframe tbody tr th:only-of-type {\n",
       "        vertical-align: middle;\n",
       "    }\n",
       "\n",
       "    .dataframe tbody tr th {\n",
       "        vertical-align: top;\n",
       "    }\n",
       "\n",
       "    .dataframe thead th {\n",
       "        text-align: right;\n",
       "    }\n",
       "</style>\n",
       "<table border=\"1\" class=\"dataframe\">\n",
       "  <thead>\n",
       "    <tr style=\"text-align: right;\">\n",
       "      <th></th>\n",
       "      <th>source</th>\n",
       "      <th>date</th>\n",
       "      <th>planet_img</th>\n",
       "      <th>firms_sour</th>\n",
       "      <th>editor</th>\n",
       "      <th>geometry</th>\n",
       "    </tr>\n",
       "  </thead>\n",
       "  <tbody>\n",
       "    <tr>\n",
       "      <th>95</th>\n",
       "      <td>wfdp_Zaporozhje_2019_spring_Leiberiuk_2019-06-...</td>\n",
       "      <td>20190313_080517_1040_tms.xml</td>\n",
       "      <td>2019-03-12</td>\n",
       "      <td>None</td>\n",
       "      <td>Oleksandr Leiberiuk - 0057</td>\n",
       "      <td>POLYGON ((36.05376 47.64156, 36.05419 47.64142...</td>\n",
       "    </tr>\n",
       "  </tbody>\n",
       "</table>\n",
       "</div>"
      ],
      "text/plain": [
       "                                               source  \\\n",
       "95  wfdp_Zaporozhje_2019_spring_Leiberiuk_2019-06-...   \n",
       "\n",
       "                            date  planet_img firms_sour  \\\n",
       "95  20190313_080517_1040_tms.xml  2019-03-12       None   \n",
       "\n",
       "                        editor  \\\n",
       "95  Oleksandr Leiberiuk - 0057   \n",
       "\n",
       "                                             geometry  \n",
       "95  POLYGON ((36.05376 47.64156, 36.05419 47.64142...  "
      ]
     },
     "execution_count": 9,
     "metadata": {},
     "output_type": "execute_result"
    }
   ],
   "source": [
    "gdf[gdf.date.map(lambda x: len(x) > 10)]"
   ]
  },
  {
   "cell_type": "code",
   "execution_count": 10,
   "metadata": {},
   "outputs": [
    {
     "data": {
      "text/plain": [
       "source        wfdp_Zaporozhje_2019_spring_Leiberiuk_2019-06-...\n",
       "date                               20190313_080517_1040_tms.xml\n",
       "planet_img                                           2019-03-12\n",
       "firms_sour                                                 None\n",
       "editor                               Oleksandr Leiberiuk - 0057\n",
       "geometry      POLYGON ((36.05376137457734 47.64155603858262,...\n",
       "Name: 95, dtype: object"
      ]
     },
     "execution_count": 10,
     "metadata": {},
     "output_type": "execute_result"
    }
   ],
   "source": [
    "gdf.loc[95]"
   ]
  },
  {
   "cell_type": "code",
   "execution_count": 11,
   "metadata": {},
   "outputs": [],
   "source": [
    "# fix incorrect date\n",
    "date = gdf.loc[95, 'date']\n",
    "gdf.loc[95, 'date'] = gdf.loc[95, 'planet_img']\n",
    "gdf.loc[95, 'planet_img'] = date"
   ]
  },
  {
   "cell_type": "code",
   "execution_count": 12,
   "metadata": {},
   "outputs": [
    {
     "data": {
      "text/plain": [
       "source        wfdp_Zaporozhje_2019_spring_Leiberiuk_2019-06-...\n",
       "date                                                 2019-03-12\n",
       "planet_img                         20190313_080517_1040_tms.xml\n",
       "firms_sour                                                 None\n",
       "editor                               Oleksandr Leiberiuk - 0057\n",
       "geometry      POLYGON ((36.05376137457734 47.64155603858262,...\n",
       "Name: 95, dtype: object"
      ]
     },
     "execution_count": 12,
     "metadata": {},
     "output_type": "execute_result"
    }
   ],
   "source": [
    "gdf.loc[95]"
   ]
  },
  {
   "cell_type": "code",
   "execution_count": 13,
   "metadata": {},
   "outputs": [
    {
     "data": {
      "text/plain": [
       "(2277, 6)"
      ]
     },
     "execution_count": 13,
     "metadata": {},
     "output_type": "execute_result"
    }
   ],
   "source": [
    "gdf.shape"
   ]
  },
  {
   "cell_type": "code",
   "execution_count": 15,
   "metadata": {},
   "outputs": [],
   "source": [
    "gdf.to_file(os.path.join(wfdp_path, 'aggregated_polygons.geojson'), driver='GeoJSON')"
   ]
  },
  {
   "cell_type": "code",
   "execution_count": null,
   "metadata": {},
   "outputs": [],
   "source": []
  }
 ],
 "metadata": {
  "kernelspec": {
   "display_name": "Python 3",
   "language": "python",
   "name": "python3"
  },
  "language_info": {
   "codemirror_mode": {
    "name": "ipython",
    "version": 3
   },
   "file_extension": ".py",
   "mimetype": "text/x-python",
   "name": "python",
   "nbconvert_exporter": "python",
   "pygments_lexer": "ipython3",
   "version": "3.6.9"
  }
 },
 "nbformat": 4,
 "nbformat_minor": 4
}
