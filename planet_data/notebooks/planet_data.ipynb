{
 "cells": [
  {
   "cell_type": "code",
   "execution_count": 16,
   "metadata": {},
   "outputs": [],
   "source": [
    "import pandas as pd\n",
    "import geopandas as gpd\n",
    "from shapely.geometry import box\n",
    "import rasterio\n",
    "import os\n",
    "import datetime\n",
    "from datetime import timedelta\n",
    "from planet import api\n",
    "from planet.api import filters\n",
    "import json\n",
    "from time import sleep\n",
    "import numpy as np\n",
    "import matplotlib.pyplot as plt"
   ]
  },
  {
   "cell_type": "code",
   "execution_count": 2,
   "metadata": {},
   "outputs": [],
   "source": [
    "# Generate bounding box polygons from cropped images\n",
    "# for index, row in df.iterrows():\n",
    "#     image_path = row.image_path\n",
    "#     with rasterio.open(image_path) as src:\n",
    "#         bounds = src.bounds\n",
    "#         crs = src.crs\n",
    "#     bbox = box(bounds.left, bounds.bottom, bounds.right, bounds.top)\n",
    "#     gseries = gpd.GeoSeries([bbox])\n",
    "#     gseries.crs = crs\n",
    "#     gseries.to_file(image_path.replace('images', 'bboxes').replace('tif', 'geojson'), driver='GeoJSON')"
   ]
  },
  {
   "cell_type": "code",
   "execution_count": 3,
   "metadata": {},
   "outputs": [],
   "source": [
    "all_files_csv = '/datasets/rpartsey/satellite/planet/smart_crop/all_files.csv'"
   ]
  },
  {
   "cell_type": "code",
   "execution_count": 4,
   "metadata": {},
   "outputs": [],
   "source": [
    "df = pd.read_csv(all_files_csv, parse_dates=['date'], date_parser=lambda x: datetime.datetime.strptime(x, '%Y-%m-%d'))"
   ]
  },
  {
   "cell_type": "code",
   "execution_count": 5,
   "metadata": {},
   "outputs": [
    {
     "data": {
      "text/html": [
       "<div>\n",
       "<style scoped>\n",
       "    .dataframe tbody tr th:only-of-type {\n",
       "        vertical-align: middle;\n",
       "    }\n",
       "\n",
       "    .dataframe tbody tr th {\n",
       "        vertical-align: top;\n",
       "    }\n",
       "\n",
       "    .dataframe thead th {\n",
       "        text-align: right;\n",
       "    }\n",
       "</style>\n",
       "<table border=\"1\" class=\"dataframe\">\n",
       "  <thead>\n",
       "    <tr style=\"text-align: right;\">\n",
       "      <th></th>\n",
       "      <th>date</th>\n",
       "      <th>image_path</th>\n",
       "      <th>mask_path</th>\n",
       "      <th>bbox_path</th>\n",
       "      <th>label</th>\n",
       "    </tr>\n",
       "  </thead>\n",
       "  <tbody>\n",
       "    <tr>\n",
       "      <th>0</th>\n",
       "      <td>2017-03-11</td>\n",
       "      <td>/datasets/rpartsey/satellite/planet/smart_crop...</td>\n",
       "      <td>/datasets/rpartsey/satellite/planet/smart_crop...</td>\n",
       "      <td>/datasets/rpartsey/satellite/planet/smart_crop...</td>\n",
       "      <td>1</td>\n",
       "    </tr>\n",
       "    <tr>\n",
       "      <th>1</th>\n",
       "      <td>2017-03-11</td>\n",
       "      <td>/datasets/rpartsey/satellite/planet/smart_crop...</td>\n",
       "      <td>/datasets/rpartsey/satellite/planet/smart_crop...</td>\n",
       "      <td>/datasets/rpartsey/satellite/planet/smart_crop...</td>\n",
       "      <td>1</td>\n",
       "    </tr>\n",
       "    <tr>\n",
       "      <th>2</th>\n",
       "      <td>2017-03-11</td>\n",
       "      <td>/datasets/rpartsey/satellite/planet/smart_crop...</td>\n",
       "      <td>/datasets/rpartsey/satellite/planet/smart_crop...</td>\n",
       "      <td>/datasets/rpartsey/satellite/planet/smart_crop...</td>\n",
       "      <td>1</td>\n",
       "    </tr>\n",
       "    <tr>\n",
       "      <th>3</th>\n",
       "      <td>2017-03-11</td>\n",
       "      <td>/datasets/rpartsey/satellite/planet/smart_crop...</td>\n",
       "      <td>/datasets/rpartsey/satellite/planet/smart_crop...</td>\n",
       "      <td>/datasets/rpartsey/satellite/planet/smart_crop...</td>\n",
       "      <td>1</td>\n",
       "    </tr>\n",
       "    <tr>\n",
       "      <th>4</th>\n",
       "      <td>2017-03-11</td>\n",
       "      <td>/datasets/rpartsey/satellite/planet/smart_crop...</td>\n",
       "      <td>/datasets/rpartsey/satellite/planet/smart_crop...</td>\n",
       "      <td>/datasets/rpartsey/satellite/planet/smart_crop...</td>\n",
       "      <td>1</td>\n",
       "    </tr>\n",
       "  </tbody>\n",
       "</table>\n",
       "</div>"
      ],
      "text/plain": [
       "        date                                         image_path  \\\n",
       "0 2017-03-11  /datasets/rpartsey/satellite/planet/smart_crop...   \n",
       "1 2017-03-11  /datasets/rpartsey/satellite/planet/smart_crop...   \n",
       "2 2017-03-11  /datasets/rpartsey/satellite/planet/smart_crop...   \n",
       "3 2017-03-11  /datasets/rpartsey/satellite/planet/smart_crop...   \n",
       "4 2017-03-11  /datasets/rpartsey/satellite/planet/smart_crop...   \n",
       "\n",
       "                                           mask_path  \\\n",
       "0  /datasets/rpartsey/satellite/planet/smart_crop...   \n",
       "1  /datasets/rpartsey/satellite/planet/smart_crop...   \n",
       "2  /datasets/rpartsey/satellite/planet/smart_crop...   \n",
       "3  /datasets/rpartsey/satellite/planet/smart_crop...   \n",
       "4  /datasets/rpartsey/satellite/planet/smart_crop...   \n",
       "\n",
       "                                           bbox_path  label  \n",
       "0  /datasets/rpartsey/satellite/planet/smart_crop...      1  \n",
       "1  /datasets/rpartsey/satellite/planet/smart_crop...      1  \n",
       "2  /datasets/rpartsey/satellite/planet/smart_crop...      1  \n",
       "3  /datasets/rpartsey/satellite/planet/smart_crop...      1  \n",
       "4  /datasets/rpartsey/satellite/planet/smart_crop...      1  "
      ]
     },
     "execution_count": 5,
     "metadata": {},
     "output_type": "execute_result"
    }
   ],
   "source": [
    "df.head()"
   ]
  },
  {
   "cell_type": "code",
   "execution_count": 6,
   "metadata": {},
   "outputs": [],
   "source": [
    "one_day = timedelta(days=1)\n",
    "\n",
    "df['day_before'] = df['date'] - one_day\n",
    "df['day_after'] = df['date'] + one_day"
   ]
  },
  {
   "cell_type": "code",
   "execution_count": 7,
   "metadata": {},
   "outputs": [
    {
     "data": {
      "text/html": [
       "<div>\n",
       "<style scoped>\n",
       "    .dataframe tbody tr th:only-of-type {\n",
       "        vertical-align: middle;\n",
       "    }\n",
       "\n",
       "    .dataframe tbody tr th {\n",
       "        vertical-align: top;\n",
       "    }\n",
       "\n",
       "    .dataframe thead th {\n",
       "        text-align: right;\n",
       "    }\n",
       "</style>\n",
       "<table border=\"1\" class=\"dataframe\">\n",
       "  <thead>\n",
       "    <tr style=\"text-align: right;\">\n",
       "      <th></th>\n",
       "      <th>date</th>\n",
       "      <th>image_path</th>\n",
       "      <th>mask_path</th>\n",
       "      <th>bbox_path</th>\n",
       "      <th>label</th>\n",
       "      <th>day_before</th>\n",
       "      <th>day_after</th>\n",
       "    </tr>\n",
       "  </thead>\n",
       "  <tbody>\n",
       "    <tr>\n",
       "      <th>0</th>\n",
       "      <td>2017-03-11</td>\n",
       "      <td>/datasets/rpartsey/satellite/planet/smart_crop...</td>\n",
       "      <td>/datasets/rpartsey/satellite/planet/smart_crop...</td>\n",
       "      <td>/datasets/rpartsey/satellite/planet/smart_crop...</td>\n",
       "      <td>1</td>\n",
       "      <td>2017-03-10</td>\n",
       "      <td>2017-03-12</td>\n",
       "    </tr>\n",
       "    <tr>\n",
       "      <th>1</th>\n",
       "      <td>2017-03-11</td>\n",
       "      <td>/datasets/rpartsey/satellite/planet/smart_crop...</td>\n",
       "      <td>/datasets/rpartsey/satellite/planet/smart_crop...</td>\n",
       "      <td>/datasets/rpartsey/satellite/planet/smart_crop...</td>\n",
       "      <td>1</td>\n",
       "      <td>2017-03-10</td>\n",
       "      <td>2017-03-12</td>\n",
       "    </tr>\n",
       "    <tr>\n",
       "      <th>2</th>\n",
       "      <td>2017-03-11</td>\n",
       "      <td>/datasets/rpartsey/satellite/planet/smart_crop...</td>\n",
       "      <td>/datasets/rpartsey/satellite/planet/smart_crop...</td>\n",
       "      <td>/datasets/rpartsey/satellite/planet/smart_crop...</td>\n",
       "      <td>1</td>\n",
       "      <td>2017-03-10</td>\n",
       "      <td>2017-03-12</td>\n",
       "    </tr>\n",
       "    <tr>\n",
       "      <th>3</th>\n",
       "      <td>2017-03-11</td>\n",
       "      <td>/datasets/rpartsey/satellite/planet/smart_crop...</td>\n",
       "      <td>/datasets/rpartsey/satellite/planet/smart_crop...</td>\n",
       "      <td>/datasets/rpartsey/satellite/planet/smart_crop...</td>\n",
       "      <td>1</td>\n",
       "      <td>2017-03-10</td>\n",
       "      <td>2017-03-12</td>\n",
       "    </tr>\n",
       "    <tr>\n",
       "      <th>4</th>\n",
       "      <td>2017-03-11</td>\n",
       "      <td>/datasets/rpartsey/satellite/planet/smart_crop...</td>\n",
       "      <td>/datasets/rpartsey/satellite/planet/smart_crop...</td>\n",
       "      <td>/datasets/rpartsey/satellite/planet/smart_crop...</td>\n",
       "      <td>1</td>\n",
       "      <td>2017-03-10</td>\n",
       "      <td>2017-03-12</td>\n",
       "    </tr>\n",
       "  </tbody>\n",
       "</table>\n",
       "</div>"
      ],
      "text/plain": [
       "        date                                         image_path  \\\n",
       "0 2017-03-11  /datasets/rpartsey/satellite/planet/smart_crop...   \n",
       "1 2017-03-11  /datasets/rpartsey/satellite/planet/smart_crop...   \n",
       "2 2017-03-11  /datasets/rpartsey/satellite/planet/smart_crop...   \n",
       "3 2017-03-11  /datasets/rpartsey/satellite/planet/smart_crop...   \n",
       "4 2017-03-11  /datasets/rpartsey/satellite/planet/smart_crop...   \n",
       "\n",
       "                                           mask_path  \\\n",
       "0  /datasets/rpartsey/satellite/planet/smart_crop...   \n",
       "1  /datasets/rpartsey/satellite/planet/smart_crop...   \n",
       "2  /datasets/rpartsey/satellite/planet/smart_crop...   \n",
       "3  /datasets/rpartsey/satellite/planet/smart_crop...   \n",
       "4  /datasets/rpartsey/satellite/planet/smart_crop...   \n",
       "\n",
       "                                           bbox_path  label day_before  \\\n",
       "0  /datasets/rpartsey/satellite/planet/smart_crop...      1 2017-03-10   \n",
       "1  /datasets/rpartsey/satellite/planet/smart_crop...      1 2017-03-10   \n",
       "2  /datasets/rpartsey/satellite/planet/smart_crop...      1 2017-03-10   \n",
       "3  /datasets/rpartsey/satellite/planet/smart_crop...      1 2017-03-10   \n",
       "4  /datasets/rpartsey/satellite/planet/smart_crop...      1 2017-03-10   \n",
       "\n",
       "   day_after  \n",
       "0 2017-03-12  \n",
       "1 2017-03-12  \n",
       "2 2017-03-12  \n",
       "3 2017-03-12  \n",
       "4 2017-03-12  "
      ]
     },
     "execution_count": 7,
     "metadata": {},
     "output_type": "execute_result"
    }
   ],
   "source": [
    "df.head()"
   ]
  },
  {
   "cell_type": "code",
   "execution_count": 8,
   "metadata": {},
   "outputs": [],
   "source": [
    "df.to_csv('/datasets/rpartsey/satellite/planet/smart_crop/ready_for_api.csv', index=False)"
   ]
  },
  {
   "cell_type": "code",
   "execution_count": 4,
   "metadata": {},
   "outputs": [],
   "source": [
    "DATE_TEMPLATE = '%Y-%m-%d'\n",
    "all_files_csv = '/datasets/rpartsey/satellite/planet/smart_crop/all_files.csv'\n",
    "df = pd.read_csv(all_files_csv, parse_dates=['date'], date_parser=lambda x: datetime.datetime.strptime(x, DATE_TEMPLATE))"
   ]
  },
  {
   "cell_type": "code",
   "execution_count": 5,
   "metadata": {},
   "outputs": [
    {
     "data": {
      "text/html": [
       "<div>\n",
       "<style scoped>\n",
       "    .dataframe tbody tr th:only-of-type {\n",
       "        vertical-align: middle;\n",
       "    }\n",
       "\n",
       "    .dataframe tbody tr th {\n",
       "        vertical-align: top;\n",
       "    }\n",
       "\n",
       "    .dataframe thead th {\n",
       "        text-align: right;\n",
       "    }\n",
       "</style>\n",
       "<table border=\"1\" class=\"dataframe\">\n",
       "  <thead>\n",
       "    <tr style=\"text-align: right;\">\n",
       "      <th></th>\n",
       "      <th>date</th>\n",
       "      <th>image_path</th>\n",
       "      <th>mask_path</th>\n",
       "      <th>bbox_path</th>\n",
       "      <th>label</th>\n",
       "    </tr>\n",
       "  </thead>\n",
       "  <tbody>\n",
       "    <tr>\n",
       "      <th>0</th>\n",
       "      <td>2017-03-11</td>\n",
       "      <td>/datasets/rpartsey/satellite/planet/smart_crop...</td>\n",
       "      <td>/datasets/rpartsey/satellite/planet/smart_crop...</td>\n",
       "      <td>/datasets/rpartsey/satellite/planet/smart_crop...</td>\n",
       "      <td>1</td>\n",
       "    </tr>\n",
       "    <tr>\n",
       "      <th>1</th>\n",
       "      <td>2017-03-11</td>\n",
       "      <td>/datasets/rpartsey/satellite/planet/smart_crop...</td>\n",
       "      <td>/datasets/rpartsey/satellite/planet/smart_crop...</td>\n",
       "      <td>/datasets/rpartsey/satellite/planet/smart_crop...</td>\n",
       "      <td>1</td>\n",
       "    </tr>\n",
       "    <tr>\n",
       "      <th>2</th>\n",
       "      <td>2017-03-11</td>\n",
       "      <td>/datasets/rpartsey/satellite/planet/smart_crop...</td>\n",
       "      <td>/datasets/rpartsey/satellite/planet/smart_crop...</td>\n",
       "      <td>/datasets/rpartsey/satellite/planet/smart_crop...</td>\n",
       "      <td>1</td>\n",
       "    </tr>\n",
       "    <tr>\n",
       "      <th>3</th>\n",
       "      <td>2017-03-11</td>\n",
       "      <td>/datasets/rpartsey/satellite/planet/smart_crop...</td>\n",
       "      <td>/datasets/rpartsey/satellite/planet/smart_crop...</td>\n",
       "      <td>/datasets/rpartsey/satellite/planet/smart_crop...</td>\n",
       "      <td>1</td>\n",
       "    </tr>\n",
       "    <tr>\n",
       "      <th>4</th>\n",
       "      <td>2017-03-11</td>\n",
       "      <td>/datasets/rpartsey/satellite/planet/smart_crop...</td>\n",
       "      <td>/datasets/rpartsey/satellite/planet/smart_crop...</td>\n",
       "      <td>/datasets/rpartsey/satellite/planet/smart_crop...</td>\n",
       "      <td>1</td>\n",
       "    </tr>\n",
       "    <tr>\n",
       "      <th>5</th>\n",
       "      <td>2017-03-28</td>\n",
       "      <td>/datasets/rpartsey/satellite/planet/smart_crop...</td>\n",
       "      <td>/datasets/rpartsey/satellite/planet/smart_crop...</td>\n",
       "      <td>/datasets/rpartsey/satellite/planet/smart_crop...</td>\n",
       "      <td>1</td>\n",
       "    </tr>\n",
       "    <tr>\n",
       "      <th>6</th>\n",
       "      <td>2017-03-28</td>\n",
       "      <td>/datasets/rpartsey/satellite/planet/smart_crop...</td>\n",
       "      <td>/datasets/rpartsey/satellite/planet/smart_crop...</td>\n",
       "      <td>/datasets/rpartsey/satellite/planet/smart_crop...</td>\n",
       "      <td>1</td>\n",
       "    </tr>\n",
       "    <tr>\n",
       "      <th>7</th>\n",
       "      <td>2017-03-28</td>\n",
       "      <td>/datasets/rpartsey/satellite/planet/smart_crop...</td>\n",
       "      <td>/datasets/rpartsey/satellite/planet/smart_crop...</td>\n",
       "      <td>/datasets/rpartsey/satellite/planet/smart_crop...</td>\n",
       "      <td>1</td>\n",
       "    </tr>\n",
       "    <tr>\n",
       "      <th>8</th>\n",
       "      <td>2017-03-28</td>\n",
       "      <td>/datasets/rpartsey/satellite/planet/smart_crop...</td>\n",
       "      <td>/datasets/rpartsey/satellite/planet/smart_crop...</td>\n",
       "      <td>/datasets/rpartsey/satellite/planet/smart_crop...</td>\n",
       "      <td>1</td>\n",
       "    </tr>\n",
       "    <tr>\n",
       "      <th>9</th>\n",
       "      <td>2017-03-28</td>\n",
       "      <td>/datasets/rpartsey/satellite/planet/smart_crop...</td>\n",
       "      <td>/datasets/rpartsey/satellite/planet/smart_crop...</td>\n",
       "      <td>/datasets/rpartsey/satellite/planet/smart_crop...</td>\n",
       "      <td>1</td>\n",
       "    </tr>\n",
       "  </tbody>\n",
       "</table>\n",
       "</div>"
      ],
      "text/plain": [
       "        date                                         image_path  \\\n",
       "0 2017-03-11  /datasets/rpartsey/satellite/planet/smart_crop...   \n",
       "1 2017-03-11  /datasets/rpartsey/satellite/planet/smart_crop...   \n",
       "2 2017-03-11  /datasets/rpartsey/satellite/planet/smart_crop...   \n",
       "3 2017-03-11  /datasets/rpartsey/satellite/planet/smart_crop...   \n",
       "4 2017-03-11  /datasets/rpartsey/satellite/planet/smart_crop...   \n",
       "5 2017-03-28  /datasets/rpartsey/satellite/planet/smart_crop...   \n",
       "6 2017-03-28  /datasets/rpartsey/satellite/planet/smart_crop...   \n",
       "7 2017-03-28  /datasets/rpartsey/satellite/planet/smart_crop...   \n",
       "8 2017-03-28  /datasets/rpartsey/satellite/planet/smart_crop...   \n",
       "9 2017-03-28  /datasets/rpartsey/satellite/planet/smart_crop...   \n",
       "\n",
       "                                           mask_path  \\\n",
       "0  /datasets/rpartsey/satellite/planet/smart_crop...   \n",
       "1  /datasets/rpartsey/satellite/planet/smart_crop...   \n",
       "2  /datasets/rpartsey/satellite/planet/smart_crop...   \n",
       "3  /datasets/rpartsey/satellite/planet/smart_crop...   \n",
       "4  /datasets/rpartsey/satellite/planet/smart_crop...   \n",
       "5  /datasets/rpartsey/satellite/planet/smart_crop...   \n",
       "6  /datasets/rpartsey/satellite/planet/smart_crop...   \n",
       "7  /datasets/rpartsey/satellite/planet/smart_crop...   \n",
       "8  /datasets/rpartsey/satellite/planet/smart_crop...   \n",
       "9  /datasets/rpartsey/satellite/planet/smart_crop...   \n",
       "\n",
       "                                           bbox_path  label  \n",
       "0  /datasets/rpartsey/satellite/planet/smart_crop...      1  \n",
       "1  /datasets/rpartsey/satellite/planet/smart_crop...      1  \n",
       "2  /datasets/rpartsey/satellite/planet/smart_crop...      1  \n",
       "3  /datasets/rpartsey/satellite/planet/smart_crop...      1  \n",
       "4  /datasets/rpartsey/satellite/planet/smart_crop...      1  \n",
       "5  /datasets/rpartsey/satellite/planet/smart_crop...      1  \n",
       "6  /datasets/rpartsey/satellite/planet/smart_crop...      1  \n",
       "7  /datasets/rpartsey/satellite/planet/smart_crop...      1  \n",
       "8  /datasets/rpartsey/satellite/planet/smart_crop...      1  \n",
       "9  /datasets/rpartsey/satellite/planet/smart_crop...      1  "
      ]
     },
     "execution_count": 5,
     "metadata": {},
     "output_type": "execute_result"
    }
   ],
   "source": [
    "df.head(10)"
   ]
  },
  {
   "cell_type": "code",
   "execution_count": 6,
   "metadata": {},
   "outputs": [],
   "source": [
    "PLANET_API_KEY = os.getenv('PLANET_API_KEY')\n",
    "client = api.ClientV1(api_key=PLANET_API_KEY)"
   ]
  },
  {
   "cell_type": "code",
   "execution_count": 7,
   "metadata": {},
   "outputs": [],
   "source": [
    "counts = []\n",
    "\n",
    "one_day = timedelta(days=1)\n",
    "LIMIT = 10\n",
    "\n",
    "for index, row in df.iterrows(): \n",
    "\n",
    "    bbox_path = row.bbox_path\n",
    "    date = row.date\n",
    "    \n",
    "    # day_before = (date - one_day).strftime(DATE_TEMPLATE)\n",
    "    # two_weeks_before = (date - 14 * one_day).strftime(DATE_TEMPLATE)\n",
    "    \n",
    "    day_after = (date + one_day).strftime(DATE_TEMPLATE)\n",
    "    two_weeks_after = (date + 14 * one_day).strftime(DATE_TEMPLATE)\n",
    "    \n",
    "    shape = gpd.read_file(bbox_path).to_crs(epsg=4326)\n",
    "    json_poly = shape.geometry.to_json()\n",
    "    aoi = json.loads(json_poly)[\"features\"][0][\"geometry\"]\n",
    "    \n",
    "    \n",
    "    query = filters.and_filter(\n",
    "        filters.geom_filter(aoi),\n",
    "        filters.range_filter('cloud_cover', lt=0.35),\n",
    "        filters.and_filter(\n",
    "            filters.date_range('acquired', lt=two_weeks_after),\n",
    "            filters.date_range('acquired', gt=day_after),\n",
    "        )\n",
    "    )\n",
    "    \n",
    "    request = filters.build_search_request(\n",
    "        query, item_types=['PSScene4Band']\n",
    "    )\n",
    "    result = client.quick_search(request)\n",
    "    \n",
    "    counts.append(len(list(result.items_iter(limit=LIMIT))))\n",
    "    sleep(1)\n",
    "    \n",
    "#     for i, item in enumerate(result.items_iter(limit=15)):\n",
    "#         props = item['properties']\n",
    "#         print(i, '{0},{cloud_cover},{acquired}\\n'.format(item['id'], **props))\n",
    "        \n",
    "    "
   ]
  },
  {
   "cell_type": "code",
   "execution_count": 8,
   "metadata": {},
   "outputs": [],
   "source": [
    "counts = np.array(counts)"
   ]
  },
  {
   "cell_type": "code",
   "execution_count": 17,
   "metadata": {},
   "outputs": [
    {
     "data": {
      "text/plain": [
       "array([ 0,  0,  0,  0,  0,  1,  3,  2,  2,  2,  3,  2,  2,  2,  2,  2,  2,\n",
       "        4,  3,  4,  3,  5,  2,  4,  2,  3,  3,  3,  3,  2,  3,  4,  1,  2,\n",
       "        3,  3,  2,  4,  4,  4,  4,  4,  3,  4,  4,  4,  3,  2,  2,  3,  4,\n",
       "        3,  3,  2,  2,  3,  3,  5,  3,  4,  4,  4,  4,  4,  4,  4,  4,  4,\n",
       "        4,  3,  4,  6,  3,  1,  2,  4,  4,  4,  2,  2,  3,  3,  4,  4,  4,\n",
       "        4,  3,  3,  3,  2,  3,  5,  4,  4,  4,  3,  2,  3,  1,  3,  3,  3,\n",
       "        4,  5,  5,  3,  4,  1,  1,  3,  3,  2,  2,  2,  4,  4,  8,  4,  8,\n",
       "        4,  7,  8,  7,  5,  5,  6,  6,  0,  5,  6,  4,  5,  6,  6,  5,  6,\n",
       "        6,  4,  4,  4,  5,  5,  5,  3,  5,  3,  3,  4,  4,  5,  4,  2,  5,\n",
       "        4,  4,  3,  4,  4,  2,  1,  4,  4,  3,  4,  2,  2,  2,  3,  2,  3,\n",
       "        1,  2,  2,  1,  1,  2,  1,  2,  4,  2,  3,  4,  3,  2,  2,  1,  2,\n",
       "        7,  6,  4,  4,  5,  6,  4,  6,  7,  6,  8,  6,  5,  6,  5,  5,  5,\n",
       "        3,  4,  5,  5,  6,  6,  3,  3,  1,  1,  1,  2,  2,  1,  1,  2,  2,\n",
       "        1,  1,  2,  0,  1,  2,  1,  1,  1,  0,  0,  0,  2,  1,  0,  2,  1,\n",
       "        3,  1,  1,  1,  3,  2,  3,  3,  4,  0,  3,  3,  3,  3,  3,  3,  2,\n",
       "        2,  2,  1,  0,  1,  1,  1,  1,  1,  2,  1,  2,  1,  1,  4,  3,  3,\n",
       "        3,  1,  1,  3,  2,  2,  4,  2,  2,  1,  1,  3,  3,  3,  2,  2,  3,\n",
       "        3,  2,  3,  2,  2,  2,  2,  2,  6,  5, 10, 10, 10, 10,  9,  8, 10,\n",
       "       10, 10, 10, 10, 10, 10, 10, 10, 10, 10, 10, 10, 10, 10, 10,  8, 10,\n",
       "       10,  4,  5,  7,  4,  4,  7,  1,  1,  5,  5,  4,  4,  3,  3,  3,  3,\n",
       "        5, 10, 10, 10, 10, 10, 10, 10, 10, 10, 10, 10, 10, 10, 10, 10, 10,\n",
       "       10, 10, 10, 10,  3,  2,  5,  8,  7, 10,  8,  4,  3,  8,  5,  0,  0,\n",
       "        0,  0,  0,  0,  1,  0,  3,  2,  3,  3,  4,  2,  3,  4,  5,  2,  4,\n",
       "        4,  4,  2,  3,  2,  4,  5,  4,  4,  3,  4,  5,  3,  4,  5,  4,  3,\n",
       "        5,  4,  3,  4,  3,  4,  3,  2,  4,  3,  4,  4,  1,  2,  1,  2,  3,\n",
       "        2,  3,  3,  2,  3,  3,  6,  1,  3,  3,  2,  5,  3,  1,  6,  3,  3,\n",
       "        7,  7,  2,  2,  5,  5,  3,  4,  5,  5,  4,  5,  7,  6,  5,  3,  6,\n",
       "        4,  3,  1,  4,  2,  2,  3,  3,  2,  1,  3,  3,  3,  2,  2,  2,  3,\n",
       "        1,  2,  2,  1,  3,  2,  5,  5,  2,  1,  1,  1,  2,  1,  2,  2,  2,\n",
       "        4,  2,  1,  2,  2,  3,  2,  1,  1,  0,  2,  5,  3,  3,  5,  3,  4,\n",
       "        6,  3,  3,  3,  3,  3,  0,  0,  3,  2,  0,  0,  0,  1,  0,  1,  0,\n",
       "        2,  3,  1,  3,  2,  3,  1,  2,  2,  4,  4,  3,  1,  0,  1,  3,  2,\n",
       "        4,  6,  4,  2,  8,  4,  7,  8,  6, 10,  6,  4, 10, 10, 10, 10, 10,\n",
       "       10, 10, 10, 10, 10, 10, 10, 10, 10, 10, 10, 10, 10, 10, 10, 10, 10,\n",
       "       10, 10, 10, 10, 10, 10, 10, 10, 10, 10, 10,  9,  8, 10, 10, 10, 10,\n",
       "       10, 10, 10, 10,  9, 10, 10, 10, 10, 10,  6, 10, 10,  8, 10,  9, 10,\n",
       "       10, 10, 10, 10, 10,  7, 10,  9,  8, 10, 10,  9,  9, 10,  8,  8,  7,\n",
       "        8, 10,  8,  7, 10,  6,  9,  7,  7,  7,  6,  5,  4,  7,  3,  3,  4,\n",
       "        5,  1,  5,  2,  5,  3,  6,  4,  4,  6,  7,  6,  5,  6,  3,  3,  4,\n",
       "        5,  6,  5,  3,  5, 10, 10, 10, 10, 10, 10, 10, 10, 10, 10, 10, 10,\n",
       "       10, 10, 10, 10, 10, 10, 10, 10, 10, 10, 10, 10, 10, 10, 10, 10, 10,\n",
       "       10, 10, 10, 10, 10, 10, 10, 10, 10, 10, 10, 10, 10, 10, 10, 10, 10,\n",
       "       10, 10, 10, 10, 10, 10, 10, 10, 10, 10, 10, 10, 10, 10, 10, 10, 10,\n",
       "       10, 10, 10, 10, 10, 10, 10, 10, 10,  2,  3,  3,  3,  2,  1,  3,  3,\n",
       "        4,  6,  7,  5,  5,  4,  7,  7,  7,  9,  7,  9, 10,  5,  7,  5,  6,\n",
       "        5,  2,  8,  0,  3,  2,  3,  6,  8,  7,  5,  6,  4,  5,  6])"
      ]
     },
     "execution_count": 17,
     "metadata": {},
     "output_type": "execute_result"
    }
   ],
   "source": [
    "counts"
   ]
  },
  {
   "cell_type": "code",
   "execution_count": 18,
   "metadata": {},
   "outputs": [
    {
     "data": {
      "text/plain": [
       "(array([ 30.,  67., 111., 133., 106.,  61.,  38.,  26.,  20., 188.]),\n",
       " array([ 0.,  1.,  2.,  3.,  4.,  5.,  6.,  7.,  8.,  9., 10.]),\n",
       " <a list of 10 Patch objects>)"
      ]
     },
     "execution_count": 18,
     "metadata": {},
     "output_type": "execute_result"
    },
    {
     "data": {
      "image/png": "[encoded data removed]",
      "text/plain": [
       "<Figure size 432x288 with 1 Axes>"
      ]
     },
     "metadata": {
      "needs_background": "light"
     },
     "output_type": "display_data"
    }
   ],
   "source": [
    "plt.hist(counts)"
   ]
  },
  {
   "cell_type": "code",
   "execution_count": 32,
   "metadata": {},
   "outputs": [],
   "source": [
    "df[(counts <= 2)].to_csv('/datasets/rpartsey/satellite/planet/smart_crop/ploblematic_files_lte2.csv', index=False)"
   ]
  },
  {
   "cell_type": "code",
   "execution_count": 134,
   "metadata": {},
   "outputs": [
    {
     "data": {
      "text/plain": [
       "6"
      ]
     },
     "execution_count": 134,
     "metadata": {},
     "output_type": "execute_result"
    }
   ],
   "source": [
    "len(list(result.items_iter(limit=15)))"
   ]
  },
  {
   "cell_type": "code",
   "execution_count": 12,
   "metadata": {},
   "outputs": [
    {
     "data": {
      "text/plain": [
       "date                                                 2017-03-11\n",
       "image_path    /datasets/rpartsey/satellite/planet/smart_crop...\n",
       "mask_path     /datasets/rpartsey/satellite/planet/smart_crop...\n",
       "bbox_path     /datasets/rpartsey/satellite/planet/smart_crop...\n",
       "label                                                         1\n",
       "day_before                                           2017-03-10\n",
       "day_after                                            2017-03-12\n",
       "Name: 0, dtype: object"
      ]
     },
     "execution_count": 12,
     "metadata": {},
     "output_type": "execute_result"
    }
   ],
   "source": [
    "row = df.iloc[0]\n",
    "\n",
    "bbox_path = row.bbox_path\n",
    "day_before = row.day_before\n",
    "\n",
    "row"
   ]
  },
  {
   "cell_type": "code",
   "execution_count": 13,
   "metadata": {},
   "outputs": [
    {
     "data": {
      "text/html": [
       "<div>\n",
       "<style scoped>\n",
       "    .dataframe tbody tr th:only-of-type {\n",
       "        vertical-align: middle;\n",
       "    }\n",
       "\n",
       "    .dataframe tbody tr th {\n",
       "        vertical-align: top;\n",
       "    }\n",
       "\n",
       "    .dataframe thead th {\n",
       "        text-align: right;\n",
       "    }\n",
       "</style>\n",
       "<table border=\"1\" class=\"dataframe\">\n",
       "  <thead>\n",
       "    <tr style=\"text-align: right;\">\n",
       "      <th></th>\n",
       "      <th>geometry</th>\n",
       "    </tr>\n",
       "  </thead>\n",
       "  <tbody>\n",
       "    <tr>\n",
       "      <th>0</th>\n",
       "      <td>POLYGON ((646572.000 5539761.000, 646572.000 5...</td>\n",
       "    </tr>\n",
       "  </tbody>\n",
       "</table>\n",
       "</div>"
      ],
      "text/plain": [
       "                                            geometry\n",
       "0  POLYGON ((646572.000 5539761.000, 646572.000 5..."
      ]
     },
     "execution_count": 13,
     "metadata": {},
     "output_type": "execute_result"
    }
   ],
   "source": [
    "shape = gpd.read_file(bbox_path)\n",
    "shape"
   ]
  },
  {
   "cell_type": "code",
   "execution_count": 14,
   "metadata": {},
   "outputs": [
    {
     "data": {
      "text/html": [
       "<div>\n",
       "<style scoped>\n",
       "    .dataframe tbody tr th:only-of-type {\n",
       "        vertical-align: middle;\n",
       "    }\n",
       "\n",
       "    .dataframe tbody tr th {\n",
       "        vertical-align: top;\n",
       "    }\n",
       "\n",
       "    .dataframe thead th {\n",
       "        text-align: right;\n",
       "    }\n",
       "</style>\n",
       "<table border=\"1\" class=\"dataframe\">\n",
       "  <thead>\n",
       "    <tr style=\"text-align: right;\">\n",
       "      <th></th>\n",
       "      <th>geometry</th>\n",
       "    </tr>\n",
       "  </thead>\n",
       "  <tbody>\n",
       "    <tr>\n",
       "      <th>0</th>\n",
       "      <td>POLYGON ((35.04492 49.99214, 35.04538 50.00306...</td>\n",
       "    </tr>\n",
       "  </tbody>\n",
       "</table>\n",
       "</div>"
      ],
      "text/plain": [
       "                                            geometry\n",
       "0  POLYGON ((35.04492 49.99214, 35.04538 50.00306..."
      ]
     },
     "execution_count": 14,
     "metadata": {},
     "output_type": "execute_result"
    }
   ],
   "source": [
    "shape = shape.to_crs(epsg=4326)\n",
    "shape"
   ]
  },
  {
   "cell_type": "code",
   "execution_count": 15,
   "metadata": {},
   "outputs": [
    {
     "data": {
      "image/svg+xml": [
       "<svg xmlns=\"http://www.w3.org/2000/svg\" xmlns:xlink=\"http://www.w3.org/1999/xlink\" width=\"100.0\" height=\"100.0\" viewBox=\"35.008970699724216 49.99074277164432 0.037813921146465646 0.014326081912713562\" preserveAspectRatio=\"xMinYMin meet\"><g transform=\"matrix(1,0,0,-1,0,99.99581162520136)\"><path fill-rule=\"evenodd\" fill=\"#66cc99\" stroke=\"#555555\" stroke-width=\"0.0007562784229293129\" opacity=\"0.6\" d=\"M 35.044920674497035,49.992143287242335 L 35.04538410527267,50.00306409801688 L 35.01082682928814,50.00366833795902 L 35.01037121532223,49.992747294859676 L 35.044920674497035,49.992143287242335 z\" /></g></svg>"
      ],
      "text/plain": [
       "<shapely.geometry.polygon.Polygon at 0x7fbf11826518>"
      ]
     },
     "execution_count": 15,
     "metadata": {},
     "output_type": "execute_result"
    }
   ],
   "source": [
    "poly = shape.geometry[0]\n",
    "poly"
   ]
  },
  {
   "cell_type": "code",
   "execution_count": 16,
   "metadata": {},
   "outputs": [
    {
     "data": {
      "text/plain": [
       "'/datasets/rpartsey/satellite/planet/smart_crop/with_mask/bboxes/spring-20170311_075415_0e0f-0.geojson'"
      ]
     },
     "execution_count": 16,
     "metadata": {},
     "output_type": "execute_result"
    }
   ],
   "source": [
    "bbox_path"
   ]
  },
  {
   "cell_type": "code",
   "execution_count": 17,
   "metadata": {},
   "outputs": [
    {
     "data": {
      "text/plain": [
       "0    POLYGON ((35.04492 49.99214, 35.04538 50.00306...\n",
       "Name: geometry, dtype: geometry"
      ]
     },
     "execution_count": 17,
     "metadata": {},
     "output_type": "execute_result"
    }
   ],
   "source": [
    "shape.geometry"
   ]
  },
  {
   "cell_type": "code",
   "execution_count": 18,
   "metadata": {},
   "outputs": [],
   "source": [
    "json_poly = shape.geometry.to_json()\n",
    "aoi = json.loads(json_poly)[\"features\"][0][\"geometry\"]"
   ]
  },
  {
   "cell_type": "code",
   "execution_count": 19,
   "metadata": {},
   "outputs": [
    {
     "data": {
      "text/plain": [
       "'{\"type\": \"FeatureCollection\", \"features\": [{\"id\": \"0\", \"type\": \"Feature\", \"properties\": {}, \"geometry\": {\"type\": \"Polygon\", \"coordinates\": [[[35.044920674497035, 49.992143287242335], [35.04538410527267, 50.00306409801688], [35.01082682928814, 50.00366833795902], [35.01037121532223, 49.992747294859676], [35.044920674497035, 49.992143287242335]]]}, \"bbox\": [35.01037121532223, 49.992143287242335, 35.04538410527267, 50.00366833795902]}], \"bbox\": [35.01037121532223, 49.992143287242335, 35.04538410527267, 50.00366833795902]}'"
      ]
     },
     "execution_count": 19,
     "metadata": {},
     "output_type": "execute_result"
    }
   ],
   "source": [
    "json_poly"
   ]
  },
  {
   "cell_type": "code",
   "execution_count": 20,
   "metadata": {},
   "outputs": [
    {
     "data": {
      "text/plain": [
       "{'type': 'Polygon',\n",
       " 'coordinates': [[[35.044920674497035, 49.992143287242335],\n",
       "   [35.04538410527267, 50.00306409801688],\n",
       "   [35.01082682928814, 50.00366833795902],\n",
       "   [35.01037121532223, 49.992747294859676],\n",
       "   [35.044920674497035, 49.992143287242335]]]}"
      ]
     },
     "execution_count": 20,
     "metadata": {},
     "output_type": "execute_result"
    }
   ],
   "source": [
    "aoi"
   ]
  },
  {
   "cell_type": "code",
   "execution_count": 21,
   "metadata": {},
   "outputs": [
    {
     "data": {
      "text/plain": [
       "{'type': 'Polygon',\n",
       " 'coordinates': [[[35.044920674497035, 49.992143287242335],\n",
       "   [35.04538410527267, 50.00306409801688],\n",
       "   [35.01082682928814, 50.00366833795902],\n",
       "   [35.01037121532223, 49.992747294859676],\n",
       "   [35.044920674497035, 49.992143287242335]]]}"
      ]
     },
     "execution_count": 21,
     "metadata": {},
     "output_type": "execute_result"
    }
   ],
   "source": [
    "aoi"
   ]
  },
  {
   "cell_type": "code",
   "execution_count": 33,
   "metadata": {},
   "outputs": [
    {
     "data": {
      "text/plain": [
       "{'field_name': 'acquired',\n",
       " 'type': 'DateRangeFilter',\n",
       " 'config': {'lt': '2017-03-10T00:00:00Z'}}"
      ]
     },
     "execution_count": 33,
     "metadata": {},
     "output_type": "execute_result"
    }
   ],
   "source": [
    "filters.date_range('acquired', lt=day_before)"
   ]
  },
  {
   "cell_type": "code",
   "execution_count": 100,
   "metadata": {},
   "outputs": [],
   "source": [
    "query = filters.and_filter(\n",
    "    filters.geom_filter(aoi),\n",
    "    filters.range_filter('cloud_cover', lt=0.3),\n",
    "#     filters.date_range('acquired', lt=day_before)\n",
    "    filters.and_filter(\n",
    "        filters.date_range('acquired', lt=day_before),\n",
    "        filters.date_range('acquired', gt='2017-03-01'),\n",
    "    )\n",
    ")"
   ]
  },
  {
   "cell_type": "code",
   "execution_count": 101,
   "metadata": {},
   "outputs": [
    {
     "data": {
      "text/plain": [
       "{'type': 'AndFilter',\n",
       " 'config': ({'field_name': 'geometry',\n",
       "   'type': 'GeometryFilter',\n",
       "   'config': {'type': 'Polygon',\n",
       "    'coordinates': [[[35.044920674497035, 49.992143287242335],\n",
       "      [35.04538410527267, 50.00306409801688],\n",
       "      [35.01082682928814, 50.00366833795902],\n",
       "      [35.01037121532223, 49.992747294859676],\n",
       "      [35.044920674497035, 49.992143287242335]]]}},\n",
       "  {'field_name': 'cloud_cover', 'type': 'RangeFilter', 'config': {'lt': 0.3}},\n",
       "  {'type': 'AndFilter',\n",
       "   'config': ({'field_name': 'acquired',\n",
       "     'type': 'DateRangeFilter',\n",
       "     'config': {'lt': '2017-03-10T00:00:00Z'}},\n",
       "    {'field_name': 'acquired',\n",
       "     'type': 'DateRangeFilter',\n",
       "     'config': {'gt': '2017-03-01T00:00:00Z'}})})}"
      ]
     },
     "execution_count": 101,
     "metadata": {},
     "output_type": "execute_result"
    }
   ],
   "source": [
    "query"
   ]
  },
  {
   "cell_type": "code",
   "execution_count": 102,
   "metadata": {},
   "outputs": [],
   "source": [
    "request = filters.build_search_request(\n",
    "    query, item_types=['PSScene4Band']\n",
    ")"
   ]
  },
  {
   "cell_type": "code",
   "execution_count": 103,
   "metadata": {},
   "outputs": [],
   "source": [
    "result = client.quick_search(request)"
   ]
  },
  {
   "cell_type": "code",
   "execution_count": 104,
   "metadata": {
    "scrolled": true
   },
   "outputs": [
    {
     "name": "stdout",
     "output_type": "stream",
     "text": [
      "0 20170304_064903_1_0c79,0.05,2017-03-04T06:49:03.950421Z\n",
      "\n",
      "1 20170307_075339_0e20,0.05,2017-03-07T07:53:39.056621Z\n",
      "\n",
      "2 20170307_075337_0e20,0.11,2017-03-07T07:53:37.977962Z\n",
      "\n",
      "3 20170304_075417_0e0d,0.2,2017-03-04T07:54:17.318702Z\n",
      "\n",
      "4 20170304_075519_0e3a,0.12,2017-03-04T07:55:19.971793Z\n",
      "\n",
      "5 20170304_075518_0e3a,0.19,2017-03-04T07:55:18.876556Z\n",
      "\n"
     ]
    }
   ],
   "source": [
    "for i, item in enumerate(result.items_iter(limit=15)):\n",
    "    props = item['properties']\n",
    "    print(i, '{0},{cloud_cover},{acquired}\\n'.format(item['id'], **props))"
   ]
  },
  {
   "cell_type": "code",
   "execution_count": 145,
   "metadata": {},
   "outputs": [
    {
     "data": {
      "text/plain": [
       "0"
      ]
     },
     "execution_count": 145,
     "metadata": {},
     "output_type": "execute_result"
    }
   ],
   "source": [
    "result.size"
   ]
  },
  {
   "cell_type": "code",
   "execution_count": 105,
   "metadata": {},
   "outputs": [],
   "source": [
    "clip_request = {\n",
    "    \"name\": \"just clip3\",\n",
    "    \"products\": [\n",
    "        {\n",
    "            \"item_ids\": [\n",
    "                \"20170307_075337_0e20\",\n",
    "                \"20170304_075417_0e0d\",\n",
    "                \"20170304_075519_0e3a\",\n",
    "                \"20170304_075518_0e3a\"\n",
    "            ],\n",
    "            \"item_type\": \"PSScene4Band\",\n",
    "            \"product_bundle\": \"analytic\"\n",
    "        }\n",
    "    ],\n",
    "    \"tools\": [\n",
    "        {\n",
    "            \"clip\": {\n",
    "                \"aoi\": {\n",
    "                    \"type\": \"Polygon\",\n",
    "                    \"coordinates\": [[[35.044920674497035, 49.992143287242335],\n",
    "                                     [35.04538410527267, 50.00306409801688],\n",
    "                                     [35.01082682928814, 50.00366833795902],\n",
    "                                     [35.01037121532223, 49.992747294859676],\n",
    "                                     [35.044920674497035, 49.992143287242335]]]\n",
    "                }\n",
    "            }\n",
    "        }\n",
    "    ],\n",
    "      \"delivery\":{  \n",
    "      \"archive_filename\":\"{{name}}_{{order_id}}.zip\",\n",
    "      \"archive_type\":\"zip\",\n",
    "}"
   ]
  },
  {
   "cell_type": "code",
   "execution_count": 106,
   "metadata": {},
   "outputs": [],
   "source": [
    "order_model = client.create_order(clip_request)"
   ]
  },
  {
   "cell_type": "code",
   "execution_count": 107,
   "metadata": {},
   "outputs": [
    {
     "data": {
      "text/plain": [
       "{'_links': {'_self': 'https://api.planet.com/compute/ops/orders/v2/bbeb8fee-387f-44a4-bd62-68eccc3c0ec0'},\n",
       " 'created_on': '2020-05-06T14:21:20.788Z',\n",
       " 'error_hints': [],\n",
       " 'id': 'bbeb8fee-387f-44a4-bd62-68eccc3c0ec0',\n",
       " 'last_message': 'Preparing order',\n",
       " 'last_modified': '2020-05-06T14:21:20.788Z',\n",
       " 'name': 'just clip3',\n",
       " 'products': [{'item_ids': ['20170307_075337_0e20',\n",
       "    '20170304_075417_0e0d',\n",
       "    '20170304_075519_0e3a',\n",
       "    '20170304_075518_0e3a'],\n",
       "   'item_type': 'PSScene4Band',\n",
       "   'product_bundle': 'analytic'}],\n",
       " 'state': 'queued',\n",
       " 'tools': [{'clip': {'aoi': {'coordinates': [[[35.044920674497035,\n",
       "        49.992143287242335],\n",
       "       [35.04538410527267, 50.00306409801688],\n",
       "       [35.01082682928814, 50.00366833795902],\n",
       "       [35.01037121532223, 49.992747294859676],\n",
       "       [35.044920674497035, 49.992143287242335]]],\n",
       "     'type': 'Polygon'}}}]}"
      ]
     },
     "execution_count": 107,
     "metadata": {},
     "output_type": "execute_result"
    }
   ],
   "source": [
    "order_model.get()"
   ]
  },
  {
   "cell_type": "code",
   "execution_count": 59,
   "metadata": {},
   "outputs": [],
   "source": [
    "orders = client.get_orders()"
   ]
  },
  {
   "cell_type": "code",
   "execution_count": 60,
   "metadata": {},
   "outputs": [],
   "source": [
    "order = next(orders.items_iter(limit=1))"
   ]
  },
  {
   "cell_type": "code",
   "execution_count": 61,
   "metadata": {},
   "outputs": [
    {
     "data": {
      "text/plain": [
       "{'_links': {'_self': 'https://api.planet.com/compute/ops/orders/v2/571ce6c5-0b28-40fe-85ef-b318c56267e7'},\n",
       " 'created_on': '2020-05-06T13:11:00.833Z',\n",
       " 'error_hints': [],\n",
       " 'id': '571ce6c5-0b28-40fe-85ef-b318c56267e7',\n",
       " 'last_message': 'Waiting for manifest delivery to complete',\n",
       " 'last_modified': '2020-05-06T13:16:44.518Z',\n",
       " 'name': 'just clip',\n",
       " 'products': [{'item_ids': ['20170304_064903_1_0c79', '20170307_075339_0e20'],\n",
       "   'item_type': 'PSScene4Band',\n",
       "   'product_bundle': 'analytic'}],\n",
       " 'state': 'running',\n",
       " 'tools': [{'clip': {'aoi': {'coordinates': [[[35.044920674497035,\n",
       "        49.992143287242335],\n",
       "       [35.04538410527267, 50.00306409801688],\n",
       "       [35.01082682928814, 50.00366833795902],\n",
       "       [35.01037121532223, 49.992747294859676],\n",
       "       [35.044920674497035, 49.992143287242335]]],\n",
       "     'type': 'Polygon'}}}]}"
      ]
     },
     "execution_count": 61,
     "metadata": {},
     "output_type": "execute_result"
    }
   ],
   "source": [
    "order"
   ]
  },
  {
   "cell_type": "code",
   "execution_count": 58,
   "metadata": {},
   "outputs": [],
   "source": [
    "client.get_item?"
   ]
  },
  {
   "cell_type": "code",
   "execution_count": null,
   "metadata": {},
   "outputs": [],
   "source": []
  }
 ],
 "metadata": {
  "kernelspec": {
   "display_name": "Python 3",
   "language": "python",
   "name": "python3"
  },
  "language_info": {
   "codemirror_mode": {
    "name": "ipython",
    "version": 3
   },
   "file_extension": ".py",
   "mimetype": "text/x-python",
   "name": "python",
   "nbconvert_exporter": "python",
   "pygments_lexer": "ipython3",
   "version": "3.6.9"
  }
 },
 "nbformat": 4,
 "nbformat_minor": 4
}
