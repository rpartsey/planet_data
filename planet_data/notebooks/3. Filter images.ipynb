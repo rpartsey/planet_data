{
 "cells": [
  {
   "cell_type": "code",
   "execution_count": 1,
   "metadata": {},
   "outputs": [],
   "source": [
    "import os\n",
    "from glob import glob\n",
    "import rasterio\n",
    "import numpy as np\n",
    "import pandas as pd\n",
    "import cv2\n",
    "import matplotlib.pyplot as plt"
   ]
  },
  {
   "cell_type": "code",
   "execution_count": 2,
   "metadata": {},
   "outputs": [],
   "source": [
    "base_dest_dir = '/datasets/rpartsey/satellite/planet/2017-su-au-1_2017-sp-1_2017-sp-2_256x256'\n",
    "dest_image_dir = os.path.join(base_dest_dir, 'images')\n",
    "dest_mask_dir = os.path.join(base_dest_dir, 'masks')"
   ]
  },
  {
   "cell_type": "code",
   "execution_count": 3,
   "metadata": {},
   "outputs": [],
   "source": [
    "images = glob(os.path.join(dest_image_dir, '*.tif'))\n",
    "masks = glob(os.path.join(dest_mask_dir, '*.tif'))\n",
    "\n",
    "data = {\n",
    "    'image': sorted(images),\n",
    "    'mask': sorted(masks)\n",
    "}\n",
    "df = pd.DataFrame(data)"
   ]
  },
  {
   "cell_type": "code",
   "execution_count": 4,
   "metadata": {},
   "outputs": [
    {
     "name": "stdout",
     "output_type": "stream",
     "text": [
      "(42553, 2)\n"
     ]
    },
    {
     "data": {
      "text/html": [
       "<div>\n",
       "<style scoped>\n",
       "    .dataframe tbody tr th:only-of-type {\n",
       "        vertical-align: middle;\n",
       "    }\n",
       "\n",
       "    .dataframe tbody tr th {\n",
       "        vertical-align: top;\n",
       "    }\n",
       "\n",
       "    .dataframe thead th {\n",
       "        text-align: right;\n",
       "    }\n",
       "</style>\n",
       "<table border=\"1\" class=\"dataframe\">\n",
       "  <thead>\n",
       "    <tr style=\"text-align: right;\">\n",
       "      <th></th>\n",
       "      <th>image</th>\n",
       "      <th>mask</th>\n",
       "    </tr>\n",
       "  </thead>\n",
       "  <tbody>\n",
       "    <tr>\n",
       "      <th>0</th>\n",
       "      <td>/datasets/rpartsey/satellite/planet/2017-su-au...</td>\n",
       "      <td>/datasets/rpartsey/satellite/planet/2017-su-au...</td>\n",
       "    </tr>\n",
       "    <tr>\n",
       "      <th>1</th>\n",
       "      <td>/datasets/rpartsey/satellite/planet/2017-su-au...</td>\n",
       "      <td>/datasets/rpartsey/satellite/planet/2017-su-au...</td>\n",
       "    </tr>\n",
       "    <tr>\n",
       "      <th>2</th>\n",
       "      <td>/datasets/rpartsey/satellite/planet/2017-su-au...</td>\n",
       "      <td>/datasets/rpartsey/satellite/planet/2017-su-au...</td>\n",
       "    </tr>\n",
       "    <tr>\n",
       "      <th>3</th>\n",
       "      <td>/datasets/rpartsey/satellite/planet/2017-su-au...</td>\n",
       "      <td>/datasets/rpartsey/satellite/planet/2017-su-au...</td>\n",
       "    </tr>\n",
       "    <tr>\n",
       "      <th>4</th>\n",
       "      <td>/datasets/rpartsey/satellite/planet/2017-su-au...</td>\n",
       "      <td>/datasets/rpartsey/satellite/planet/2017-su-au...</td>\n",
       "    </tr>\n",
       "  </tbody>\n",
       "</table>\n",
       "</div>"
      ],
      "text/plain": [
       "                                               image  \\\n",
       "0  /datasets/rpartsey/satellite/planet/2017-su-au...   \n",
       "1  /datasets/rpartsey/satellite/planet/2017-su-au...   \n",
       "2  /datasets/rpartsey/satellite/planet/2017-su-au...   \n",
       "3  /datasets/rpartsey/satellite/planet/2017-su-au...   \n",
       "4  /datasets/rpartsey/satellite/planet/2017-su-au...   \n",
       "\n",
       "                                                mask  \n",
       "0  /datasets/rpartsey/satellite/planet/2017-su-au...  \n",
       "1  /datasets/rpartsey/satellite/planet/2017-su-au...  \n",
       "2  /datasets/rpartsey/satellite/planet/2017-su-au...  \n",
       "3  /datasets/rpartsey/satellite/planet/2017-su-au...  \n",
       "4  /datasets/rpartsey/satellite/planet/2017-su-au...  "
      ]
     },
     "execution_count": 4,
     "metadata": {},
     "output_type": "execute_result"
    }
   ],
   "source": [
    "print(df.shape)\n",
    "df.head()"
   ]
  },
  {
   "cell_type": "code",
   "execution_count": 5,
   "metadata": {},
   "outputs": [
    {
     "name": "stdout",
     "output_type": "stream",
     "text": [
      "Number of black images: 5502\n"
     ]
    }
   ],
   "source": [
    "black_images = []\n",
    "\n",
    "for _, (image_path, mask_path) in df.iterrows():\n",
    "    with rasterio.open(image_path) as image_src:\n",
    "        with rasterio.open(mask_path) as mask_src:\n",
    "            bands = image_src.read()\n",
    "            data_mask = bands.sum(axis=0).astype(bool).astype(np.uint8)\n",
    "            \n",
    "            mask = mask_src.read()\n",
    "#             print(data_mask.sum(), (data_mask.sum() < ((256*256) // 2)), not mask.any())\n",
    "            black_images.append((data_mask.sum() < ((256*256) // 2)) and not mask.any())\n",
    "    \n",
    "black_images = np.array(black_images)\n",
    "print('Number of black images:', np.sum(black_images))"
   ]
  },
  {
   "cell_type": "code",
   "execution_count": 6,
   "metadata": {},
   "outputs": [
    {
     "data": {
      "text/plain": [
       "(37051, 2)"
      ]
     },
     "execution_count": 6,
     "metadata": {},
     "output_type": "execute_result"
    }
   ],
   "source": [
    "df = df[~black_images]\n",
    "df.shape"
   ]
  },
  {
   "cell_type": "code",
   "execution_count": 7,
   "metadata": {},
   "outputs": [
    {
     "name": "stdout",
     "output_type": "stream",
     "text": [
      "Number of images with burned areas: 921\n"
     ]
    }
   ],
   "source": [
    "mask_exists = []\n",
    "\n",
    "for _, (image_path, mask_path) in df.iterrows():\n",
    "    with rasterio.open(mask_path) as mask_src:\n",
    "        mask = mask_src.read()\n",
    "        mask_exists.append(mask.any())\n",
    "        \n",
    "mask_exists = np.array(mask_exists)\n",
    "print('Number of images with burned areas:', mask_exists.sum())"
   ]
  },
  {
   "cell_type": "code",
   "execution_count": 8,
   "metadata": {},
   "outputs": [
    {
     "name": "stdout",
     "output_type": "stream",
     "text": [
      "Numner of spring images: 26171\n",
      "Numner of summer-autumn images: 10880\n"
     ]
    },
    {
     "data": {
      "text/html": [
       "<div>\n",
       "<style scoped>\n",
       "    .dataframe tbody tr th:only-of-type {\n",
       "        vertical-align: middle;\n",
       "    }\n",
       "\n",
       "    .dataframe tbody tr th {\n",
       "        vertical-align: top;\n",
       "    }\n",
       "\n",
       "    .dataframe thead th {\n",
       "        text-align: right;\n",
       "    }\n",
       "</style>\n",
       "<table border=\"1\" class=\"dataframe\">\n",
       "  <thead>\n",
       "    <tr style=\"text-align: right;\">\n",
       "      <th></th>\n",
       "      <th>image</th>\n",
       "      <th>mask</th>\n",
       "      <th>mask_exists</th>\n",
       "      <th>summer-autumn</th>\n",
       "      <th>spring</th>\n",
       "    </tr>\n",
       "  </thead>\n",
       "  <tbody>\n",
       "    <tr>\n",
       "      <th>1</th>\n",
       "      <td>/datasets/rpartsey/satellite/planet/2017-su-au...</td>\n",
       "      <td>/datasets/rpartsey/satellite/planet/2017-su-au...</td>\n",
       "      <td>False</td>\n",
       "      <td>False</td>\n",
       "      <td>True</td>\n",
       "    </tr>\n",
       "    <tr>\n",
       "      <th>2</th>\n",
       "      <td>/datasets/rpartsey/satellite/planet/2017-su-au...</td>\n",
       "      <td>/datasets/rpartsey/satellite/planet/2017-su-au...</td>\n",
       "      <td>False</td>\n",
       "      <td>False</td>\n",
       "      <td>True</td>\n",
       "    </tr>\n",
       "    <tr>\n",
       "      <th>6</th>\n",
       "      <td>/datasets/rpartsey/satellite/planet/2017-su-au...</td>\n",
       "      <td>/datasets/rpartsey/satellite/planet/2017-su-au...</td>\n",
       "      <td>False</td>\n",
       "      <td>False</td>\n",
       "      <td>True</td>\n",
       "    </tr>\n",
       "    <tr>\n",
       "      <th>7</th>\n",
       "      <td>/datasets/rpartsey/satellite/planet/2017-su-au...</td>\n",
       "      <td>/datasets/rpartsey/satellite/planet/2017-su-au...</td>\n",
       "      <td>False</td>\n",
       "      <td>False</td>\n",
       "      <td>True</td>\n",
       "    </tr>\n",
       "    <tr>\n",
       "      <th>8</th>\n",
       "      <td>/datasets/rpartsey/satellite/planet/2017-su-au...</td>\n",
       "      <td>/datasets/rpartsey/satellite/planet/2017-su-au...</td>\n",
       "      <td>False</td>\n",
       "      <td>False</td>\n",
       "      <td>True</td>\n",
       "    </tr>\n",
       "  </tbody>\n",
       "</table>\n",
       "</div>"
      ],
      "text/plain": [
       "                                               image  \\\n",
       "1  /datasets/rpartsey/satellite/planet/2017-su-au...   \n",
       "2  /datasets/rpartsey/satellite/planet/2017-su-au...   \n",
       "6  /datasets/rpartsey/satellite/planet/2017-su-au...   \n",
       "7  /datasets/rpartsey/satellite/planet/2017-su-au...   \n",
       "8  /datasets/rpartsey/satellite/planet/2017-su-au...   \n",
       "\n",
       "                                                mask  mask_exists  \\\n",
       "1  /datasets/rpartsey/satellite/planet/2017-su-au...        False   \n",
       "2  /datasets/rpartsey/satellite/planet/2017-su-au...        False   \n",
       "6  /datasets/rpartsey/satellite/planet/2017-su-au...        False   \n",
       "7  /datasets/rpartsey/satellite/planet/2017-su-au...        False   \n",
       "8  /datasets/rpartsey/satellite/planet/2017-su-au...        False   \n",
       "\n",
       "   summer-autumn  spring  \n",
       "1          False    True  \n",
       "2          False    True  \n",
       "6          False    True  \n",
       "7          False    True  \n",
       "8          False    True  "
      ]
     },
     "execution_count": 8,
     "metadata": {},
     "output_type": "execute_result"
    }
   ],
   "source": [
    "df['mask_exists'] = mask_exists\n",
    "df['summer-autumn'] = df['image'].map(lambda path: 'summer-autumn' in path)\n",
    "df['spring'] = df['image'].map(lambda path: 'spring' in path)\n",
    "\n",
    "print('Numner of spring images:', df['spring'].sum())\n",
    "print('Numner of summer-autumn images:', df['summer-autumn'].sum())\n",
    "\n",
    "df.head()"
   ]
  },
  {
   "cell_type": "code",
   "execution_count": 9,
   "metadata": {},
   "outputs": [],
   "source": [
    "df.to_csv('/datasets/rpartsey/satellite/planet/2017-su-au-1_2017-sp-1_2017-sp-2_256x256_no_black.csv', index=False)"
   ]
  },
  {
   "cell_type": "code",
   "execution_count": 10,
   "metadata": {},
   "outputs": [],
   "source": [
    "df = pd.read_csv('/datasets/rpartsey/satellite/planet/2017-su-au-1_2017-sp-1_2017-sp-2_256x256_no_black.csv')"
   ]
  },
  {
   "cell_type": "code",
   "execution_count": 11,
   "metadata": {},
   "outputs": [
    {
     "data": {
      "text/html": [
       "<div>\n",
       "<style scoped>\n",
       "    .dataframe tbody tr th:only-of-type {\n",
       "        vertical-align: middle;\n",
       "    }\n",
       "\n",
       "    .dataframe tbody tr th {\n",
       "        vertical-align: top;\n",
       "    }\n",
       "\n",
       "    .dataframe thead th {\n",
       "        text-align: right;\n",
       "    }\n",
       "</style>\n",
       "<table border=\"1\" class=\"dataframe\">\n",
       "  <thead>\n",
       "    <tr style=\"text-align: right;\">\n",
       "      <th></th>\n",
       "      <th>image</th>\n",
       "      <th>mask</th>\n",
       "      <th>mask_exists</th>\n",
       "      <th>summer-autumn</th>\n",
       "      <th>spring</th>\n",
       "    </tr>\n",
       "  </thead>\n",
       "  <tbody>\n",
       "    <tr>\n",
       "      <th>0</th>\n",
       "      <td>/datasets/rpartsey/satellite/planet/2017-su-au...</td>\n",
       "      <td>/datasets/rpartsey/satellite/planet/2017-su-au...</td>\n",
       "      <td>False</td>\n",
       "      <td>False</td>\n",
       "      <td>True</td>\n",
       "    </tr>\n",
       "    <tr>\n",
       "      <th>1</th>\n",
       "      <td>/datasets/rpartsey/satellite/planet/2017-su-au...</td>\n",
       "      <td>/datasets/rpartsey/satellite/planet/2017-su-au...</td>\n",
       "      <td>False</td>\n",
       "      <td>False</td>\n",
       "      <td>True</td>\n",
       "    </tr>\n",
       "    <tr>\n",
       "      <th>2</th>\n",
       "      <td>/datasets/rpartsey/satellite/planet/2017-su-au...</td>\n",
       "      <td>/datasets/rpartsey/satellite/planet/2017-su-au...</td>\n",
       "      <td>False</td>\n",
       "      <td>False</td>\n",
       "      <td>True</td>\n",
       "    </tr>\n",
       "    <tr>\n",
       "      <th>3</th>\n",
       "      <td>/datasets/rpartsey/satellite/planet/2017-su-au...</td>\n",
       "      <td>/datasets/rpartsey/satellite/planet/2017-su-au...</td>\n",
       "      <td>False</td>\n",
       "      <td>False</td>\n",
       "      <td>True</td>\n",
       "    </tr>\n",
       "    <tr>\n",
       "      <th>4</th>\n",
       "      <td>/datasets/rpartsey/satellite/planet/2017-su-au...</td>\n",
       "      <td>/datasets/rpartsey/satellite/planet/2017-su-au...</td>\n",
       "      <td>False</td>\n",
       "      <td>False</td>\n",
       "      <td>True</td>\n",
       "    </tr>\n",
       "  </tbody>\n",
       "</table>\n",
       "</div>"
      ],
      "text/plain": [
       "                                               image  \\\n",
       "0  /datasets/rpartsey/satellite/planet/2017-su-au...   \n",
       "1  /datasets/rpartsey/satellite/planet/2017-su-au...   \n",
       "2  /datasets/rpartsey/satellite/planet/2017-su-au...   \n",
       "3  /datasets/rpartsey/satellite/planet/2017-su-au...   \n",
       "4  /datasets/rpartsey/satellite/planet/2017-su-au...   \n",
       "\n",
       "                                                mask  mask_exists  \\\n",
       "0  /datasets/rpartsey/satellite/planet/2017-su-au...        False   \n",
       "1  /datasets/rpartsey/satellite/planet/2017-su-au...        False   \n",
       "2  /datasets/rpartsey/satellite/planet/2017-su-au...        False   \n",
       "3  /datasets/rpartsey/satellite/planet/2017-su-au...        False   \n",
       "4  /datasets/rpartsey/satellite/planet/2017-su-au...        False   \n",
       "\n",
       "   summer-autumn  spring  \n",
       "0          False    True  \n",
       "1          False    True  \n",
       "2          False    True  \n",
       "3          False    True  \n",
       "4          False    True  "
      ]
     },
     "execution_count": 11,
     "metadata": {},
     "output_type": "execute_result"
    }
   ],
   "source": [
    "df.head()"
   ]
  },
  {
   "cell_type": "code",
   "execution_count": 12,
   "metadata": {},
   "outputs": [
    {
     "name": "stdout",
     "output_type": "stream",
     "text": [
      "(843, 5)\n",
      "(25328, 5)\n"
     ]
    }
   ],
   "source": [
    "spring_with_mask = df[df['spring'] & df['mask_exists']]\n",
    "spring_without_mask = df[df['spring'] & (~df['mask_exists'])]\n",
    "\n",
    "print(spring_with_mask.shape)\n",
    "print(spring_without_mask.shape)"
   ]
  },
  {
   "cell_type": "code",
   "execution_count": 13,
   "metadata": {},
   "outputs": [
    {
     "name": "stdout",
     "output_type": "stream",
     "text": [
      "(78, 5)\n",
      "(10802, 5)\n"
     ]
    }
   ],
   "source": [
    "summer_autumn_with_mask = df[df['summer-autumn'] & df['mask_exists']]\n",
    "summer_autumn_without_mask = df[df['summer-autumn'] & (~df['mask_exists'])]\n",
    "\n",
    "print(summer_autumn_with_mask.shape)\n",
    "print(summer_autumn_without_mask.shape)"
   ]
  },
  {
   "cell_type": "code",
   "execution_count": 14,
   "metadata": {},
   "outputs": [],
   "source": [
    "num_samples = 2000\n",
    "\n",
    "def sample_rows(df, n):\n",
    "    return df.sample(min(df.shape[0], n))\n",
    "\n",
    "sp_with_mask  = sample_rows(spring_with_mask, num_samples)\n",
    "sp_without_mask  = sample_rows(spring_without_mask, num_samples)\n",
    "\n",
    "\n",
    "su_au_with_mask  = sample_rows(summer_autumn_with_mask, num_samples)\n",
    "su_au_without_mask  = sample_rows(summer_autumn_without_mask, num_samples)\n"
   ]
  },
  {
   "cell_type": "code",
   "execution_count": 21,
   "metadata": {},
   "outputs": [],
   "source": [
    "small_df = pd.concat([sp_with_mask, sp_without_mask, su_au_with_mask, su_au_without_mask])"
   ]
  },
  {
   "cell_type": "code",
   "execution_count": 22,
   "metadata": {},
   "outputs": [
    {
     "data": {
      "text/plain": [
       "(4921, 5)"
      ]
     },
     "execution_count": 22,
     "metadata": {},
     "output_type": "execute_result"
    }
   ],
   "source": [
    "small_df.shape"
   ]
  },
  {
   "cell_type": "code",
   "execution_count": 26,
   "metadata": {},
   "outputs": [
    {
     "data": {
      "text/html": [
       "<div>\n",
       "<style scoped>\n",
       "    .dataframe tbody tr th:only-of-type {\n",
       "        vertical-align: middle;\n",
       "    }\n",
       "\n",
       "    .dataframe tbody tr th {\n",
       "        vertical-align: top;\n",
       "    }\n",
       "\n",
       "    .dataframe thead th {\n",
       "        text-align: right;\n",
       "    }\n",
       "</style>\n",
       "<table border=\"1\" class=\"dataframe\">\n",
       "  <thead>\n",
       "    <tr style=\"text-align: right;\">\n",
       "      <th></th>\n",
       "      <th>image</th>\n",
       "      <th>mask</th>\n",
       "      <th>mask_exists</th>\n",
       "      <th>summer-autumn</th>\n",
       "      <th>spring</th>\n",
       "    </tr>\n",
       "  </thead>\n",
       "  <tbody>\n",
       "    <tr>\n",
       "      <th>0</th>\n",
       "      <td>/datasets/rpartsey/satellite/planet/2017-su-au...</td>\n",
       "      <td>/datasets/rpartsey/satellite/planet/2017-su-au...</td>\n",
       "      <td>True</td>\n",
       "      <td>False</td>\n",
       "      <td>True</td>\n",
       "    </tr>\n",
       "    <tr>\n",
       "      <th>1</th>\n",
       "      <td>/datasets/rpartsey/satellite/planet/2017-su-au...</td>\n",
       "      <td>/datasets/rpartsey/satellite/planet/2017-su-au...</td>\n",
       "      <td>True</td>\n",
       "      <td>False</td>\n",
       "      <td>True</td>\n",
       "    </tr>\n",
       "    <tr>\n",
       "      <th>2</th>\n",
       "      <td>/datasets/rpartsey/satellite/planet/2017-su-au...</td>\n",
       "      <td>/datasets/rpartsey/satellite/planet/2017-su-au...</td>\n",
       "      <td>True</td>\n",
       "      <td>False</td>\n",
       "      <td>True</td>\n",
       "    </tr>\n",
       "    <tr>\n",
       "      <th>3</th>\n",
       "      <td>/datasets/rpartsey/satellite/planet/2017-su-au...</td>\n",
       "      <td>/datasets/rpartsey/satellite/planet/2017-su-au...</td>\n",
       "      <td>True</td>\n",
       "      <td>False</td>\n",
       "      <td>True</td>\n",
       "    </tr>\n",
       "    <tr>\n",
       "      <th>4</th>\n",
       "      <td>/datasets/rpartsey/satellite/planet/2017-su-au...</td>\n",
       "      <td>/datasets/rpartsey/satellite/planet/2017-su-au...</td>\n",
       "      <td>True</td>\n",
       "      <td>False</td>\n",
       "      <td>True</td>\n",
       "    </tr>\n",
       "  </tbody>\n",
       "</table>\n",
       "</div>"
      ],
      "text/plain": [
       "                                               image  \\\n",
       "0  /datasets/rpartsey/satellite/planet/2017-su-au...   \n",
       "1  /datasets/rpartsey/satellite/planet/2017-su-au...   \n",
       "2  /datasets/rpartsey/satellite/planet/2017-su-au...   \n",
       "3  /datasets/rpartsey/satellite/planet/2017-su-au...   \n",
       "4  /datasets/rpartsey/satellite/planet/2017-su-au...   \n",
       "\n",
       "                                                mask  mask_exists  \\\n",
       "0  /datasets/rpartsey/satellite/planet/2017-su-au...         True   \n",
       "1  /datasets/rpartsey/satellite/planet/2017-su-au...         True   \n",
       "2  /datasets/rpartsey/satellite/planet/2017-su-au...         True   \n",
       "3  /datasets/rpartsey/satellite/planet/2017-su-au...         True   \n",
       "4  /datasets/rpartsey/satellite/planet/2017-su-au...         True   \n",
       "\n",
       "   summer-autumn  spring  \n",
       "0          False    True  \n",
       "1          False    True  \n",
       "2          False    True  \n",
       "3          False    True  \n",
       "4          False    True  "
      ]
     },
     "execution_count": 26,
     "metadata": {},
     "output_type": "execute_result"
    }
   ],
   "source": [
    "small_df.head()"
   ]
  },
  {
   "cell_type": "code",
   "execution_count": 24,
   "metadata": {},
   "outputs": [],
   "source": [
    "small_df.to_csv('/datasets/rpartsey/satellite/planet/2017-su-au-1_2017-sp-1_2017-sp-2_256x256_no_black_small.csv', index=False)"
   ]
  },
  {
   "cell_type": "code",
   "execution_count": 25,
   "metadata": {},
   "outputs": [],
   "source": [
    "small_df = pd.read_csv('/datasets/rpartsey/satellite/planet/2017-su-au-1_2017-sp-1_2017-sp-2_256x256_no_black_small.csv')"
   ]
  },
  {
   "cell_type": "code",
   "execution_count": null,
   "metadata": {},
   "outputs": [],
   "source": []
  },
  {
   "cell_type": "code",
   "execution_count": null,
   "metadata": {},
   "outputs": [],
   "source": []
  },
  {
   "cell_type": "code",
   "execution_count": null,
   "metadata": {},
   "outputs": [],
   "source": []
  }
 ],
 "metadata": {
  "kernelspec": {
   "display_name": "Python 3",
   "language": "python",
   "name": "python3"
  },
  "language_info": {
   "codemirror_mode": {
    "name": "ipython",
    "version": 3
   },
   "file_extension": ".py",
   "mimetype": "text/x-python",
   "name": "python",
   "nbconvert_exporter": "python",
   "pygments_lexer": "ipython3",
   "version": "3.6.9"
  }
 },
 "nbformat": 4,
 "nbformat_minor": 2
}
