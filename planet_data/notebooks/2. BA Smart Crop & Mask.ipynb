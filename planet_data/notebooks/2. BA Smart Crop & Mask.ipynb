{
 "cells": [
  {
   "cell_type": "code",
   "execution_count": 2,
   "metadata": {},
   "outputs": [],
   "source": [
    "import os\n",
    "from glob import glob\n",
    "import pandas as pd\n",
    "import numpy as np\n",
    "import rasterio\n",
    "import rasterio.mask\n",
    "from rasterio.features import rasterize\n",
    "import geopandas as gpd\n",
    "from rasterio.windows import Window\n",
    "from IPython.display import display\n",
    "from shapely.geometry import box, Polygon, MultiPolygon\n",
    "import rasterio.windows as rio_windows\n",
    "import matplotlib.pyplot as plt\n",
    "import math"
   ]
  },
  {
   "cell_type": "code",
   "execution_count": 3,
   "metadata": {},
   "outputs": [
    {
     "data": {
      "text/html": [
       "<div>\n",
       "<style scoped>\n",
       "    .dataframe tbody tr th:only-of-type {\n",
       "        vertical-align: middle;\n",
       "    }\n",
       "\n",
       "    .dataframe tbody tr th {\n",
       "        vertical-align: top;\n",
       "    }\n",
       "\n",
       "    .dataframe thead th {\n",
       "        text-align: right;\n",
       "    }\n",
       "</style>\n",
       "<table border=\"1\" class=\"dataframe\">\n",
       "  <thead>\n",
       "    <tr style=\"text-align: right;\">\n",
       "      <th></th>\n",
       "      <th>base_dir</th>\n",
       "      <th>tag</th>\n",
       "    </tr>\n",
       "  </thead>\n",
       "  <tbody>\n",
       "    <tr>\n",
       "      <th>0</th>\n",
       "      <td>/datasets/rpartsey/satellite/planet/SNP_Planet...</td>\n",
       "      <td>spring</td>\n",
       "    </tr>\n",
       "    <tr>\n",
       "      <th>1</th>\n",
       "      <td>/datasets/rpartsey/satellite/planet/SNP_Planet...</td>\n",
       "      <td>spring</td>\n",
       "    </tr>\n",
       "    <tr>\n",
       "      <th>2</th>\n",
       "      <td>/datasets/rpartsey/satellite/planet/SNP_Planet...</td>\n",
       "      <td>summer-autumn</td>\n",
       "    </tr>\n",
       "  </tbody>\n",
       "</table>\n",
       "</div>"
      ],
      "text/plain": [
       "                                            base_dir            tag\n",
       "0  /datasets/rpartsey/satellite/planet/SNP_Planet...         spring\n",
       "1  /datasets/rpartsey/satellite/planet/SNP_Planet...         spring\n",
       "2  /datasets/rpartsey/satellite/planet/SNP_Planet...  summer-autumn"
      ]
     },
     "execution_count": 3,
     "metadata": {},
     "output_type": "execute_result"
    }
   ],
   "source": [
    "directories_to_process = [\n",
    "    ('/datasets/rpartsey/satellite/planet/SNP_Planet_Scenes_2017_Spring_I', 'spring'),\n",
    "    ('/datasets/rpartsey/satellite/planet/SNP_Planet_Scenes_2017_Spring_II', 'spring'),\n",
    "    ('/datasets/rpartsey/satellite/planet/SNP_Planet_Scenes_2017_Summer_Autumn_I', 'summer-autumn')\n",
    "]\n",
    "\n",
    "base_dirs_df = pd.DataFrame(directories_to_process, columns=['base_dir', 'tag'])\n",
    "base_dirs_df.head()"
   ]
  },
  {
   "cell_type": "code",
   "execution_count": 4,
   "metadata": {},
   "outputs": [
    {
     "name": "stdout",
     "output_type": "stream",
     "text": [
      "(103, 6)\n"
     ]
    },
    {
     "data": {
      "text/html": [
       "<div>\n",
       "<style scoped>\n",
       "    .dataframe tbody tr th:only-of-type {\n",
       "        vertical-align: middle;\n",
       "    }\n",
       "\n",
       "    .dataframe tbody tr th {\n",
       "        vertical-align: top;\n",
       "    }\n",
       "\n",
       "    .dataframe thead th {\n",
       "        text-align: right;\n",
       "    }\n",
       "</style>\n",
       "<table border=\"1\" class=\"dataframe\">\n",
       "  <thead>\n",
       "    <tr style=\"text-align: right;\">\n",
       "      <th></th>\n",
       "      <th>image</th>\n",
       "      <th>udm_mask</th>\n",
       "      <th>shape_file</th>\n",
       "      <th>xml</th>\n",
       "      <th>json</th>\n",
       "      <th>base_dir_id</th>\n",
       "    </tr>\n",
       "  </thead>\n",
       "  <tbody>\n",
       "    <tr>\n",
       "      <th>20170402_074845_0f17</th>\n",
       "      <td>20170402_074845_0f17_3B_AnalyticMS.tif</td>\n",
       "      <td>20170402_074845_0f17_3B_AnalyticMS_DN_udm.tif</td>\n",
       "      <td>20170402_074845_0f17.shp</td>\n",
       "      <td>20170402_074845_0f17_3B_AnalyticMS_metadata.xml</td>\n",
       "      <td>20170402_074845_0f17_metadata.json</td>\n",
       "      <td>0</td>\n",
       "    </tr>\n",
       "    <tr>\n",
       "      <th>20170406_074822_1034</th>\n",
       "      <td>20170406_074822_1034_3B_AnalyticMS.tif</td>\n",
       "      <td>20170406_074822_1034_3B_AnalyticMS_DN_udm.tif</td>\n",
       "      <td>20170406_074822_1034.shp</td>\n",
       "      <td>20170406_074822_1034_3B_AnalyticMS_metadata.xml</td>\n",
       "      <td>20170406_074822_1034_metadata.json</td>\n",
       "      <td>0</td>\n",
       "    </tr>\n",
       "    <tr>\n",
       "      <th>20170330_075419_0e2f</th>\n",
       "      <td>20170330_075419_0e2f_3B_AnalyticMS.tif</td>\n",
       "      <td>20170330_075419_0e2f_3B_AnalyticMS_DN_udm.tif</td>\n",
       "      <td>20170330_075419_0e2f.shp</td>\n",
       "      <td>20170330_075419_0e2f_3B_AnalyticMS_metadata.xml</td>\n",
       "      <td>20170330_075419_0e2f_metadata.json</td>\n",
       "      <td>0</td>\n",
       "    </tr>\n",
       "    <tr>\n",
       "      <th>20170311_075415_0e0f</th>\n",
       "      <td>20170311_075415_0e0f_3B_AnalyticMS.tif</td>\n",
       "      <td>20170311_075415_0e0f_3B_AnalyticMS_DN_udm.tif</td>\n",
       "      <td>20170311_075415_0e0f.shp</td>\n",
       "      <td>20170311_075415_0e0f_3B_AnalyticMS_metadata.xml</td>\n",
       "      <td>20170311_075415_0e0f_metadata.json</td>\n",
       "      <td>0</td>\n",
       "    </tr>\n",
       "    <tr>\n",
       "      <th>20170311_075416_0e0f</th>\n",
       "      <td>20170311_075416_0e0f_3B_AnalyticMS.tif</td>\n",
       "      <td>20170311_075416_0e0f_3B_AnalyticMS_DN_udm.tif</td>\n",
       "      <td>20170311_075416_0e0f.shp</td>\n",
       "      <td>20170311_075416_0e0f_3B_AnalyticMS_metadata.xml</td>\n",
       "      <td>20170311_075416_0e0f_metadata.json</td>\n",
       "      <td>0</td>\n",
       "    </tr>\n",
       "  </tbody>\n",
       "</table>\n",
       "</div>"
      ],
      "text/plain": [
       "                                                       image  \\\n",
       "20170402_074845_0f17  20170402_074845_0f17_3B_AnalyticMS.tif   \n",
       "20170406_074822_1034  20170406_074822_1034_3B_AnalyticMS.tif   \n",
       "20170330_075419_0e2f  20170330_075419_0e2f_3B_AnalyticMS.tif   \n",
       "20170311_075415_0e0f  20170311_075415_0e0f_3B_AnalyticMS.tif   \n",
       "20170311_075416_0e0f  20170311_075416_0e0f_3B_AnalyticMS.tif   \n",
       "\n",
       "                                                           udm_mask  \\\n",
       "20170402_074845_0f17  20170402_074845_0f17_3B_AnalyticMS_DN_udm.tif   \n",
       "20170406_074822_1034  20170406_074822_1034_3B_AnalyticMS_DN_udm.tif   \n",
       "20170330_075419_0e2f  20170330_075419_0e2f_3B_AnalyticMS_DN_udm.tif   \n",
       "20170311_075415_0e0f  20170311_075415_0e0f_3B_AnalyticMS_DN_udm.tif   \n",
       "20170311_075416_0e0f  20170311_075416_0e0f_3B_AnalyticMS_DN_udm.tif   \n",
       "\n",
       "                                    shape_file  \\\n",
       "20170402_074845_0f17  20170402_074845_0f17.shp   \n",
       "20170406_074822_1034  20170406_074822_1034.shp   \n",
       "20170330_075419_0e2f  20170330_075419_0e2f.shp   \n",
       "20170311_075415_0e0f  20170311_075415_0e0f.shp   \n",
       "20170311_075416_0e0f  20170311_075416_0e0f.shp   \n",
       "\n",
       "                                                                  xml  \\\n",
       "20170402_074845_0f17  20170402_074845_0f17_3B_AnalyticMS_metadata.xml   \n",
       "20170406_074822_1034  20170406_074822_1034_3B_AnalyticMS_metadata.xml   \n",
       "20170330_075419_0e2f  20170330_075419_0e2f_3B_AnalyticMS_metadata.xml   \n",
       "20170311_075415_0e0f  20170311_075415_0e0f_3B_AnalyticMS_metadata.xml   \n",
       "20170311_075416_0e0f  20170311_075416_0e0f_3B_AnalyticMS_metadata.xml   \n",
       "\n",
       "                                                    json  base_dir_id  \n",
       "20170402_074845_0f17  20170402_074845_0f17_metadata.json            0  \n",
       "20170406_074822_1034  20170406_074822_1034_metadata.json            0  \n",
       "20170330_075419_0e2f  20170330_075419_0e2f_metadata.json            0  \n",
       "20170311_075415_0e0f  20170311_075415_0e0f_metadata.json            0  \n",
       "20170311_075416_0e0f  20170311_075416_0e0f_metadata.json            0  "
      ]
     },
     "execution_count": 4,
     "metadata": {},
     "output_type": "execute_result"
    }
   ],
   "source": [
    "dfs = []\n",
    "\n",
    "for i, row in base_dirs_df.iterrows():\n",
    "    df = pd.read_csv(os.path.join(row.base_dir, 'files.csv'), index_col=0)\n",
    "    df['base_dir_id'] = i\n",
    "    dfs.append(df)\n",
    "\n",
    "files_df = pd.concat(dfs, axis=0, sort=False)\n",
    "print(files_df.shape)\n",
    "files_df.head()"
   ]
  },
  {
   "cell_type": "code",
   "execution_count": 5,
   "metadata": {},
   "outputs": [
    {
     "data": {
      "text/plain": [
       "array(['spring', 'summer-autumn'], dtype=object)"
      ]
     },
     "execution_count": 5,
     "metadata": {},
     "output_type": "execute_result"
    }
   ],
   "source": [
    "merged_df = pd.merge(base_dirs_df, files_df, how='inner', left_index=True, right_on='base_dir_id')\n",
    "merged_df.tag.unique()"
   ]
  },
  {
   "cell_type": "code",
   "execution_count": 6,
   "metadata": {},
   "outputs": [],
   "source": [
    "merged_df['tag'] = merged_df['tag'].map(lambda tag: tag.replace('-', '_'))"
   ]
  },
  {
   "cell_type": "code",
   "execution_count": 7,
   "metadata": {},
   "outputs": [
    {
     "data": {
      "text/html": [
       "<div>\n",
       "<style scoped>\n",
       "    .dataframe tbody tr th:only-of-type {\n",
       "        vertical-align: middle;\n",
       "    }\n",
       "\n",
       "    .dataframe tbody tr th {\n",
       "        vertical-align: top;\n",
       "    }\n",
       "\n",
       "    .dataframe thead th {\n",
       "        text-align: right;\n",
       "    }\n",
       "</style>\n",
       "<table border=\"1\" class=\"dataframe\">\n",
       "  <thead>\n",
       "    <tr style=\"text-align: right;\">\n",
       "      <th></th>\n",
       "      <th>base_dir</th>\n",
       "      <th>tag</th>\n",
       "      <th>image</th>\n",
       "      <th>udm_mask</th>\n",
       "      <th>shape_file</th>\n",
       "      <th>xml</th>\n",
       "      <th>json</th>\n",
       "      <th>base_dir_id</th>\n",
       "    </tr>\n",
       "  </thead>\n",
       "  <tbody>\n",
       "    <tr>\n",
       "      <th>20170402_074845_0f17</th>\n",
       "      <td>/datasets/rpartsey/satellite/planet/SNP_Planet...</td>\n",
       "      <td>spring</td>\n",
       "      <td>20170402_074845_0f17_3B_AnalyticMS.tif</td>\n",
       "      <td>20170402_074845_0f17_3B_AnalyticMS_DN_udm.tif</td>\n",
       "      <td>20170402_074845_0f17.shp</td>\n",
       "      <td>20170402_074845_0f17_3B_AnalyticMS_metadata.xml</td>\n",
       "      <td>20170402_074845_0f17_metadata.json</td>\n",
       "      <td>0</td>\n",
       "    </tr>\n",
       "    <tr>\n",
       "      <th>20170406_074822_1034</th>\n",
       "      <td>/datasets/rpartsey/satellite/planet/SNP_Planet...</td>\n",
       "      <td>spring</td>\n",
       "      <td>20170406_074822_1034_3B_AnalyticMS.tif</td>\n",
       "      <td>20170406_074822_1034_3B_AnalyticMS_DN_udm.tif</td>\n",
       "      <td>20170406_074822_1034.shp</td>\n",
       "      <td>20170406_074822_1034_3B_AnalyticMS_metadata.xml</td>\n",
       "      <td>20170406_074822_1034_metadata.json</td>\n",
       "      <td>0</td>\n",
       "    </tr>\n",
       "  </tbody>\n",
       "</table>\n",
       "</div>"
      ],
      "text/plain": [
       "                                                               base_dir  \\\n",
       "20170402_074845_0f17  /datasets/rpartsey/satellite/planet/SNP_Planet...   \n",
       "20170406_074822_1034  /datasets/rpartsey/satellite/planet/SNP_Planet...   \n",
       "\n",
       "                         tag                                   image  \\\n",
       "20170402_074845_0f17  spring  20170402_074845_0f17_3B_AnalyticMS.tif   \n",
       "20170406_074822_1034  spring  20170406_074822_1034_3B_AnalyticMS.tif   \n",
       "\n",
       "                                                           udm_mask  \\\n",
       "20170402_074845_0f17  20170402_074845_0f17_3B_AnalyticMS_DN_udm.tif   \n",
       "20170406_074822_1034  20170406_074822_1034_3B_AnalyticMS_DN_udm.tif   \n",
       "\n",
       "                                    shape_file  \\\n",
       "20170402_074845_0f17  20170402_074845_0f17.shp   \n",
       "20170406_074822_1034  20170406_074822_1034.shp   \n",
       "\n",
       "                                                                  xml  \\\n",
       "20170402_074845_0f17  20170402_074845_0f17_3B_AnalyticMS_metadata.xml   \n",
       "20170406_074822_1034  20170406_074822_1034_3B_AnalyticMS_metadata.xml   \n",
       "\n",
       "                                                    json  base_dir_id  \n",
       "20170402_074845_0f17  20170402_074845_0f17_metadata.json            0  \n",
       "20170406_074822_1034  20170406_074822_1034_metadata.json            0  "
      ]
     },
     "execution_count": 7,
     "metadata": {},
     "output_type": "execute_result"
    }
   ],
   "source": [
    "merged_df.head(2)"
   ]
  },
  {
   "cell_type": "code",
   "execution_count": null,
   "metadata": {},
   "outputs": [],
   "source": [
    "def plot_poly(polygon):\n",
    "    fig, axs = plt.subplots()\n",
    "    axs.set_aspect('equal', 'datalim')\n",
    "\n",
    "    if isinstance(polygon, MultiPolygon):        \n",
    "        for sub_polygon in polygon:\n",
    "            xs, ys = sub_polygon.exterior.xy    \n",
    "            axs.fill(xs, ys, alpha=0.5, fc='g', ec='none')\n",
    "    else:\n",
    "        xs, ys = polygon.exterior.xy    \n",
    "        axs.fill(xs, ys, alpha=0.5, fc='g', ec='none')\n",
    "\n",
    "    bbox = box(*polygon.bounds)\n",
    "    xs, ys = bbox.exterior.xy\n",
    "    axs.plot(xs, ys, alpha=0.5, c='b')\n",
    "\n",
    "    xs, ys = bbox.centroid.xy\n",
    "    axs.scatter(xs, ys, alpha=1, fc='k')\n",
    "\n",
    "    plt.show()\n"
   ]
  },
  {
   "cell_type": "code",
   "execution_count": null,
   "metadata": {},
   "outputs": [],
   "source": [
    "\n",
    "for polygon in shapes_df.geometry:\n",
    "    plot_poly(polygon)"
   ]
  },
  {
   "cell_type": "code",
   "execution_count": 8,
   "metadata": {},
   "outputs": [],
   "source": [
    "padding = 128\n",
    "dest_dir_path = '/datasets/rpartsey/satellite/planet/smart_crop'\n",
    "\n",
    "df = merged_df\n",
    "\n",
    "\n",
    "for image_id, row in df.iterrows():\n",
    "    tif_path = os.path.join(row.base_dir, image_id, row.image)\n",
    "    shapefile_path = os.path.join(row.base_dir, image_id, row.shape_file)\n",
    "    \n",
    "    shapes_df = gpd.read_file(shapefile_path)\n",
    "    shapes = shapes_df['geometry']\n",
    "    break"
   ]
  },
  {
   "cell_type": "code",
   "execution_count": 9,
   "metadata": {},
   "outputs": [
    {
     "data": {
      "text/html": [
       "<div>\n",
       "<style scoped>\n",
       "    .dataframe tbody tr th:only-of-type {\n",
       "        vertical-align: middle;\n",
       "    }\n",
       "\n",
       "    .dataframe tbody tr th {\n",
       "        vertical-align: top;\n",
       "    }\n",
       "\n",
       "    .dataframe thead th {\n",
       "        text-align: right;\n",
       "    }\n",
       "</style>\n",
       "<table border=\"1\" class=\"dataframe\">\n",
       "  <thead>\n",
       "    <tr style=\"text-align: right;\">\n",
       "      <th></th>\n",
       "      <th>id</th>\n",
       "      <th>Dates</th>\n",
       "      <th>PlanetImg</th>\n",
       "      <th>FIRMSSourc</th>\n",
       "      <th>Note</th>\n",
       "      <th>Editor</th>\n",
       "      <th>geometry</th>\n",
       "    </tr>\n",
       "  </thead>\n",
       "  <tbody>\n",
       "    <tr>\n",
       "      <th>0</th>\n",
       "      <td>0</td>\n",
       "      <td>2017-03-26</td>\n",
       "      <td>20170402_074845_0f17_tms.xml</td>\n",
       "      <td>_</td>\n",
       "      <td>None</td>\n",
       "      <td>Oleksandr Leiberiuk - 0051</td>\n",
       "      <td>POLYGON ((34.97926 50.09216, 34.98053 50.09158...</td>\n",
       "    </tr>\n",
       "    <tr>\n",
       "      <th>1</th>\n",
       "      <td>0</td>\n",
       "      <td>2017-03-27</td>\n",
       "      <td>20170411_075456_0e30_tms.xml</td>\n",
       "      <td>_</td>\n",
       "      <td>None</td>\n",
       "      <td>Oleksandr Leiberiuk - 0052</td>\n",
       "      <td>POLYGON ((34.96350 50.10919, 34.96420 50.10948...</td>\n",
       "    </tr>\n",
       "    <tr>\n",
       "      <th>2</th>\n",
       "      <td>0</td>\n",
       "      <td>2017-04-15</td>\n",
       "      <td>20170402_074845_0f17_tms.xml</td>\n",
       "      <td>M6,V1</td>\n",
       "      <td>None</td>\n",
       "      <td>Oleksandr Leiberiuk - 0079</td>\n",
       "      <td>POLYGON ((34.97092 50.06544, 34.97092 50.06491...</td>\n",
       "    </tr>\n",
       "    <tr>\n",
       "      <th>3</th>\n",
       "      <td>0</td>\n",
       "      <td>2017-04-01</td>\n",
       "      <td>20170402_074845_0f17_tms.xml</td>\n",
       "      <td>_</td>\n",
       "      <td>None</td>\n",
       "      <td>Oleksandr Leiberiuk - 0081</td>\n",
       "      <td>POLYGON ((34.97940 50.07008, 34.98014 50.06984...</td>\n",
       "    </tr>\n",
       "  </tbody>\n",
       "</table>\n",
       "</div>"
      ],
      "text/plain": [
       "   id       Dates                     PlanetImg FIRMSSourc  Note  \\\n",
       "0   0  2017-03-26  20170402_074845_0f17_tms.xml          _  None   \n",
       "1   0  2017-03-27  20170411_075456_0e30_tms.xml          _  None   \n",
       "2   0  2017-04-15  20170402_074845_0f17_tms.xml      M6,V1  None   \n",
       "3   0  2017-04-01  20170402_074845_0f17_tms.xml          _  None   \n",
       "\n",
       "                       Editor  \\\n",
       "0  Oleksandr Leiberiuk - 0051   \n",
       "1  Oleksandr Leiberiuk - 0052   \n",
       "2  Oleksandr Leiberiuk - 0079   \n",
       "3  Oleksandr Leiberiuk - 0081   \n",
       "\n",
       "                                            geometry  \n",
       "0  POLYGON ((34.97926 50.09216, 34.98053 50.09158...  \n",
       "1  POLYGON ((34.96350 50.10919, 34.96420 50.10948...  \n",
       "2  POLYGON ((34.97092 50.06544, 34.97092 50.06491...  \n",
       "3  POLYGON ((34.97940 50.07008, 34.98014 50.06984...  "
      ]
     },
     "execution_count": 9,
     "metadata": {},
     "output_type": "execute_result"
    }
   ],
   "source": [
    "shapes_df"
   ]
  },
  {
   "cell_type": "code",
   "execution_count": 12,
   "metadata": {},
   "outputs": [
    {
     "data": {
      "text/plain": [
       "<Geographic 2D CRS: EPSG:4326>\n",
       "Name: WGS 84\n",
       "Axis Info [ellipsoidal]:\n",
       "- Lat[north]: Geodetic latitude (degree)\n",
       "- Lon[east]: Geodetic longitude (degree)\n",
       "Area of Use:\n",
       "- name: World\n",
       "- bounds: (-180.0, -90.0, 180.0, 90.0)\n",
       "Datum: World Geodetic System 1984\n",
       "- Ellipsoid: WGS 84\n",
       "- Prime Meridian: Greenwich"
      ]
     },
     "execution_count": 12,
     "metadata": {},
     "output_type": "execute_result"
    }
   ],
   "source": [
    "shapes_df.crs"
   ]
  },
  {
   "cell_type": "code",
   "execution_count": 10,
   "metadata": {},
   "outputs": [
    {
     "data": {
      "text/plain": [
       "'/datasets/rpartsey/satellite/planet/SNP_Planet_Scenes_2017_Spring_I/20170402_074845_0f17/20170402_074845_0f17.shp'"
      ]
     },
     "execution_count": 10,
     "metadata": {},
     "output_type": "execute_result"
    }
   ],
   "source": [
    "shapefile_path"
   ]
  },
  {
   "cell_type": "code",
   "execution_count": 193,
   "metadata": {},
   "outputs": [
    {
     "name": "stderr",
     "output_type": "stream",
     "text": [
      "/home/rpartsey/.virtualenvs/change_detection/lib/python3.6/site-packages/pyproj/crs/crs.py:53: FutureWarning: '+init=<authority>:<code>' syntax is deprecated. '<authority>:<code>' is the preferred initialization method. When making the change, be mindful of axis order changes: https://pyproj4.github.io/pyproj/stable/gotchas.html#axis-order-changes-in-proj-6\n",
      "  return _prepare_from_string(\" \".join(pjargs))\n",
      "/home/rpartsey/.virtualenvs/change_detection/lib/python3.6/site-packages/pyproj/crs/crs.py:53: FutureWarning: '+init=<authority>:<code>' syntax is deprecated. '<authority>:<code>' is the preferred initialization method. When making the change, be mindful of axis order changes: https://pyproj4.github.io/pyproj/stable/gotchas.html#axis-order-changes-in-proj-6\n",
      "  return _prepare_from_string(\" \".join(pjargs))\n",
      "/home/rpartsey/.virtualenvs/change_detection/lib/python3.6/site-packages/pyproj/crs/crs.py:53: FutureWarning: '+init=<authority>:<code>' syntax is deprecated. '<authority>:<code>' is the preferred initialization method. When making the change, be mindful of axis order changes: https://pyproj4.github.io/pyproj/stable/gotchas.html#axis-order-changes-in-proj-6\n",
      "  return _prepare_from_string(\" \".join(pjargs))\n",
      "/home/rpartsey/.virtualenvs/change_detection/lib/python3.6/site-packages/pyproj/crs/crs.py:53: FutureWarning: '+init=<authority>:<code>' syntax is deprecated. '<authority>:<code>' is the preferred initialization method. When making the change, be mindful of axis order changes: https://pyproj4.github.io/pyproj/stable/gotchas.html#axis-order-changes-in-proj-6\n",
      "  return _prepare_from_string(\" \".join(pjargs))\n",
      "/home/rpartsey/.virtualenvs/change_detection/lib/python3.6/site-packages/pyproj/crs/crs.py:53: FutureWarning: '+init=<authority>:<code>' syntax is deprecated. '<authority>:<code>' is the preferred initialization method. When making the change, be mindful of axis order changes: https://pyproj4.github.io/pyproj/stable/gotchas.html#axis-order-changes-in-proj-6\n",
      "  return _prepare_from_string(\" \".join(pjargs))\n",
      "/home/rpartsey/.virtualenvs/change_detection/lib/python3.6/site-packages/pyproj/crs/crs.py:53: FutureWarning: '+init=<authority>:<code>' syntax is deprecated. '<authority>:<code>' is the preferred initialization method. When making the change, be mindful of axis order changes: https://pyproj4.github.io/pyproj/stable/gotchas.html#axis-order-changes-in-proj-6\n",
      "  return _prepare_from_string(\" \".join(pjargs))\n",
      "/home/rpartsey/.virtualenvs/change_detection/lib/python3.6/site-packages/pyproj/crs/crs.py:53: FutureWarning: '+init=<authority>:<code>' syntax is deprecated. '<authority>:<code>' is the preferred initialization method. When making the change, be mindful of axis order changes: https://pyproj4.github.io/pyproj/stable/gotchas.html#axis-order-changes-in-proj-6\n",
      "  return _prepare_from_string(\" \".join(pjargs))\n",
      "/home/rpartsey/.virtualenvs/change_detection/lib/python3.6/site-packages/pyproj/crs/crs.py:53: FutureWarning: '+init=<authority>:<code>' syntax is deprecated. '<authority>:<code>' is the preferred initialization method. When making the change, be mindful of axis order changes: https://pyproj4.github.io/pyproj/stable/gotchas.html#axis-order-changes-in-proj-6\n",
      "  return _prepare_from_string(\" \".join(pjargs))\n",
      "/home/rpartsey/.virtualenvs/change_detection/lib/python3.6/site-packages/pyproj/crs/crs.py:53: FutureWarning: '+init=<authority>:<code>' syntax is deprecated. '<authority>:<code>' is the preferred initialization method. When making the change, be mindful of axis order changes: https://pyproj4.github.io/pyproj/stable/gotchas.html#axis-order-changes-in-proj-6\n",
      "  return _prepare_from_string(\" \".join(pjargs))\n",
      "/home/rpartsey/.virtualenvs/change_detection/lib/python3.6/site-packages/pyproj/crs/crs.py:53: FutureWarning: '+init=<authority>:<code>' syntax is deprecated. '<authority>:<code>' is the preferred initialization method. When making the change, be mindful of axis order changes: https://pyproj4.github.io/pyproj/stable/gotchas.html#axis-order-changes-in-proj-6\n",
      "  return _prepare_from_string(\" \".join(pjargs))\n",
      "/home/rpartsey/.virtualenvs/change_detection/lib/python3.6/site-packages/pyproj/crs/crs.py:53: FutureWarning: '+init=<authority>:<code>' syntax is deprecated. '<authority>:<code>' is the preferred initialization method. When making the change, be mindful of axis order changes: https://pyproj4.github.io/pyproj/stable/gotchas.html#axis-order-changes-in-proj-6\n",
      "  return _prepare_from_string(\" \".join(pjargs))\n",
      "/home/rpartsey/.virtualenvs/change_detection/lib/python3.6/site-packages/pyproj/crs/crs.py:53: FutureWarning: '+init=<authority>:<code>' syntax is deprecated. '<authority>:<code>' is the preferred initialization method. When making the change, be mindful of axis order changes: https://pyproj4.github.io/pyproj/stable/gotchas.html#axis-order-changes-in-proj-6\n",
      "  return _prepare_from_string(\" \".join(pjargs))\n",
      "/home/rpartsey/.virtualenvs/change_detection/lib/python3.6/site-packages/pyproj/crs/crs.py:53: FutureWarning: '+init=<authority>:<code>' syntax is deprecated. '<authority>:<code>' is the preferred initialization method. When making the change, be mindful of axis order changes: https://pyproj4.github.io/pyproj/stable/gotchas.html#axis-order-changes-in-proj-6\n",
      "  return _prepare_from_string(\" \".join(pjargs))\n",
      "/home/rpartsey/.virtualenvs/change_detection/lib/python3.6/site-packages/pyproj/crs/crs.py:53: FutureWarning: '+init=<authority>:<code>' syntax is deprecated. '<authority>:<code>' is the preferred initialization method. When making the change, be mindful of axis order changes: https://pyproj4.github.io/pyproj/stable/gotchas.html#axis-order-changes-in-proj-6\n",
      "  return _prepare_from_string(\" \".join(pjargs))\n",
      "/home/rpartsey/.virtualenvs/change_detection/lib/python3.6/site-packages/pyproj/crs/crs.py:53: FutureWarning: '+init=<authority>:<code>' syntax is deprecated. '<authority>:<code>' is the preferred initialization method. When making the change, be mindful of axis order changes: https://pyproj4.github.io/pyproj/stable/gotchas.html#axis-order-changes-in-proj-6\n",
      "  return _prepare_from_string(\" \".join(pjargs))\n",
      "/home/rpartsey/.virtualenvs/change_detection/lib/python3.6/site-packages/pyproj/crs/crs.py:53: FutureWarning: '+init=<authority>:<code>' syntax is deprecated. '<authority>:<code>' is the preferred initialization method. When making the change, be mindful of axis order changes: https://pyproj4.github.io/pyproj/stable/gotchas.html#axis-order-changes-in-proj-6\n",
      "  return _prepare_from_string(\" \".join(pjargs))\n",
      "/home/rpartsey/.virtualenvs/change_detection/lib/python3.6/site-packages/pyproj/crs/crs.py:53: FutureWarning: '+init=<authority>:<code>' syntax is deprecated. '<authority>:<code>' is the preferred initialization method. When making the change, be mindful of axis order changes: https://pyproj4.github.io/pyproj/stable/gotchas.html#axis-order-changes-in-proj-6\n",
      "  return _prepare_from_string(\" \".join(pjargs))\n",
      "/home/rpartsey/.virtualenvs/change_detection/lib/python3.6/site-packages/pyproj/crs/crs.py:53: FutureWarning: '+init=<authority>:<code>' syntax is deprecated. '<authority>:<code>' is the preferred initialization method. When making the change, be mindful of axis order changes: https://pyproj4.github.io/pyproj/stable/gotchas.html#axis-order-changes-in-proj-6\n",
      "  return _prepare_from_string(\" \".join(pjargs))\n",
      "/home/rpartsey/.virtualenvs/change_detection/lib/python3.6/site-packages/pyproj/crs/crs.py:53: FutureWarning: '+init=<authority>:<code>' syntax is deprecated. '<authority>:<code>' is the preferred initialization method. When making the change, be mindful of axis order changes: https://pyproj4.github.io/pyproj/stable/gotchas.html#axis-order-changes-in-proj-6\n",
      "  return _prepare_from_string(\" \".join(pjargs))\n",
      "/home/rpartsey/.virtualenvs/change_detection/lib/python3.6/site-packages/pyproj/crs/crs.py:53: FutureWarning: '+init=<authority>:<code>' syntax is deprecated. '<authority>:<code>' is the preferred initialization method. When making the change, be mindful of axis order changes: https://pyproj4.github.io/pyproj/stable/gotchas.html#axis-order-changes-in-proj-6\n",
      "  return _prepare_from_string(\" \".join(pjargs))\n",
      "/home/rpartsey/.virtualenvs/change_detection/lib/python3.6/site-packages/pyproj/crs/crs.py:53: FutureWarning: '+init=<authority>:<code>' syntax is deprecated. '<authority>:<code>' is the preferred initialization method. When making the change, be mindful of axis order changes: https://pyproj4.github.io/pyproj/stable/gotchas.html#axis-order-changes-in-proj-6\n",
      "  return _prepare_from_string(\" \".join(pjargs))\n"
     ]
    },
    {
     "name": "stderr",
     "output_type": "stream",
     "text": [
      "/home/rpartsey/.virtualenvs/change_detection/lib/python3.6/site-packages/pyproj/crs/crs.py:53: FutureWarning: '+init=<authority>:<code>' syntax is deprecated. '<authority>:<code>' is the preferred initialization method. When making the change, be mindful of axis order changes: https://pyproj4.github.io/pyproj/stable/gotchas.html#axis-order-changes-in-proj-6\n",
      "  return _prepare_from_string(\" \".join(pjargs))\n",
      "/home/rpartsey/.virtualenvs/change_detection/lib/python3.6/site-packages/pyproj/crs/crs.py:53: FutureWarning: '+init=<authority>:<code>' syntax is deprecated. '<authority>:<code>' is the preferred initialization method. When making the change, be mindful of axis order changes: https://pyproj4.github.io/pyproj/stable/gotchas.html#axis-order-changes-in-proj-6\n",
      "  return _prepare_from_string(\" \".join(pjargs))\n",
      "/home/rpartsey/.virtualenvs/change_detection/lib/python3.6/site-packages/pyproj/crs/crs.py:53: FutureWarning: '+init=<authority>:<code>' syntax is deprecated. '<authority>:<code>' is the preferred initialization method. When making the change, be mindful of axis order changes: https://pyproj4.github.io/pyproj/stable/gotchas.html#axis-order-changes-in-proj-6\n",
      "  return _prepare_from_string(\" \".join(pjargs))\n",
      "/home/rpartsey/.virtualenvs/change_detection/lib/python3.6/site-packages/pyproj/crs/crs.py:53: FutureWarning: '+init=<authority>:<code>' syntax is deprecated. '<authority>:<code>' is the preferred initialization method. When making the change, be mindful of axis order changes: https://pyproj4.github.io/pyproj/stable/gotchas.html#axis-order-changes-in-proj-6\n",
      "  return _prepare_from_string(\" \".join(pjargs))\n",
      "/home/rpartsey/.virtualenvs/change_detection/lib/python3.6/site-packages/pyproj/crs/crs.py:53: FutureWarning: '+init=<authority>:<code>' syntax is deprecated. '<authority>:<code>' is the preferred initialization method. When making the change, be mindful of axis order changes: https://pyproj4.github.io/pyproj/stable/gotchas.html#axis-order-changes-in-proj-6\n",
      "  return _prepare_from_string(\" \".join(pjargs))\n",
      "/home/rpartsey/.virtualenvs/change_detection/lib/python3.6/site-packages/pyproj/crs/crs.py:53: FutureWarning: '+init=<authority>:<code>' syntax is deprecated. '<authority>:<code>' is the preferred initialization method. When making the change, be mindful of axis order changes: https://pyproj4.github.io/pyproj/stable/gotchas.html#axis-order-changes-in-proj-6\n",
      "  return _prepare_from_string(\" \".join(pjargs))\n",
      "/home/rpartsey/.virtualenvs/change_detection/lib/python3.6/site-packages/pyproj/crs/crs.py:53: FutureWarning: '+init=<authority>:<code>' syntax is deprecated. '<authority>:<code>' is the preferred initialization method. When making the change, be mindful of axis order changes: https://pyproj4.github.io/pyproj/stable/gotchas.html#axis-order-changes-in-proj-6\n",
      "  return _prepare_from_string(\" \".join(pjargs))\n",
      "/home/rpartsey/.virtualenvs/change_detection/lib/python3.6/site-packages/pyproj/crs/crs.py:53: FutureWarning: '+init=<authority>:<code>' syntax is deprecated. '<authority>:<code>' is the preferred initialization method. When making the change, be mindful of axis order changes: https://pyproj4.github.io/pyproj/stable/gotchas.html#axis-order-changes-in-proj-6\n",
      "  return _prepare_from_string(\" \".join(pjargs))\n",
      "/home/rpartsey/.virtualenvs/change_detection/lib/python3.6/site-packages/pyproj/crs/crs.py:53: FutureWarning: '+init=<authority>:<code>' syntax is deprecated. '<authority>:<code>' is the preferred initialization method. When making the change, be mindful of axis order changes: https://pyproj4.github.io/pyproj/stable/gotchas.html#axis-order-changes-in-proj-6\n",
      "  return _prepare_from_string(\" \".join(pjargs))\n",
      "/home/rpartsey/.virtualenvs/change_detection/lib/python3.6/site-packages/pyproj/crs/crs.py:53: FutureWarning: '+init=<authority>:<code>' syntax is deprecated. '<authority>:<code>' is the preferred initialization method. When making the change, be mindful of axis order changes: https://pyproj4.github.io/pyproj/stable/gotchas.html#axis-order-changes-in-proj-6\n",
      "  return _prepare_from_string(\" \".join(pjargs))\n",
      "/home/rpartsey/.virtualenvs/change_detection/lib/python3.6/site-packages/pyproj/crs/crs.py:53: FutureWarning: '+init=<authority>:<code>' syntax is deprecated. '<authority>:<code>' is the preferred initialization method. When making the change, be mindful of axis order changes: https://pyproj4.github.io/pyproj/stable/gotchas.html#axis-order-changes-in-proj-6\n",
      "  return _prepare_from_string(\" \".join(pjargs))\n",
      "/home/rpartsey/.virtualenvs/change_detection/lib/python3.6/site-packages/pyproj/crs/crs.py:53: FutureWarning: '+init=<authority>:<code>' syntax is deprecated. '<authority>:<code>' is the preferred initialization method. When making the change, be mindful of axis order changes: https://pyproj4.github.io/pyproj/stable/gotchas.html#axis-order-changes-in-proj-6\n",
      "  return _prepare_from_string(\" \".join(pjargs))\n",
      "/home/rpartsey/.virtualenvs/change_detection/lib/python3.6/site-packages/pyproj/crs/crs.py:53: FutureWarning: '+init=<authority>:<code>' syntax is deprecated. '<authority>:<code>' is the preferred initialization method. When making the change, be mindful of axis order changes: https://pyproj4.github.io/pyproj/stable/gotchas.html#axis-order-changes-in-proj-6\n",
      "  return _prepare_from_string(\" \".join(pjargs))\n",
      "/home/rpartsey/.virtualenvs/change_detection/lib/python3.6/site-packages/pyproj/crs/crs.py:53: FutureWarning: '+init=<authority>:<code>' syntax is deprecated. '<authority>:<code>' is the preferred initialization method. When making the change, be mindful of axis order changes: https://pyproj4.github.io/pyproj/stable/gotchas.html#axis-order-changes-in-proj-6\n",
      "  return _prepare_from_string(\" \".join(pjargs))\n",
      "/home/rpartsey/.virtualenvs/change_detection/lib/python3.6/site-packages/pyproj/crs/crs.py:53: FutureWarning: '+init=<authority>:<code>' syntax is deprecated. '<authority>:<code>' is the preferred initialization method. When making the change, be mindful of axis order changes: https://pyproj4.github.io/pyproj/stable/gotchas.html#axis-order-changes-in-proj-6\n",
      "  return _prepare_from_string(\" \".join(pjargs))\n",
      "/home/rpartsey/.virtualenvs/change_detection/lib/python3.6/site-packages/pyproj/crs/crs.py:53: FutureWarning: '+init=<authority>:<code>' syntax is deprecated. '<authority>:<code>' is the preferred initialization method. When making the change, be mindful of axis order changes: https://pyproj4.github.io/pyproj/stable/gotchas.html#axis-order-changes-in-proj-6\n",
      "  return _prepare_from_string(\" \".join(pjargs))\n",
      "/home/rpartsey/.virtualenvs/change_detection/lib/python3.6/site-packages/pyproj/crs/crs.py:53: FutureWarning: '+init=<authority>:<code>' syntax is deprecated. '<authority>:<code>' is the preferred initialization method. When making the change, be mindful of axis order changes: https://pyproj4.github.io/pyproj/stable/gotchas.html#axis-order-changes-in-proj-6\n",
      "  return _prepare_from_string(\" \".join(pjargs))\n",
      "/home/rpartsey/.virtualenvs/change_detection/lib/python3.6/site-packages/pyproj/crs/crs.py:53: FutureWarning: '+init=<authority>:<code>' syntax is deprecated. '<authority>:<code>' is the preferred initialization method. When making the change, be mindful of axis order changes: https://pyproj4.github.io/pyproj/stable/gotchas.html#axis-order-changes-in-proj-6\n",
      "  return _prepare_from_string(\" \".join(pjargs))\n",
      "/home/rpartsey/.virtualenvs/change_detection/lib/python3.6/site-packages/pyproj/crs/crs.py:53: FutureWarning: '+init=<authority>:<code>' syntax is deprecated. '<authority>:<code>' is the preferred initialization method. When making the change, be mindful of axis order changes: https://pyproj4.github.io/pyproj/stable/gotchas.html#axis-order-changes-in-proj-6\n",
      "  return _prepare_from_string(\" \".join(pjargs))\n",
      "/home/rpartsey/.virtualenvs/change_detection/lib/python3.6/site-packages/pyproj/crs/crs.py:53: FutureWarning: '+init=<authority>:<code>' syntax is deprecated. '<authority>:<code>' is the preferred initialization method. When making the change, be mindful of axis order changes: https://pyproj4.github.io/pyproj/stable/gotchas.html#axis-order-changes-in-proj-6\n",
      "  return _prepare_from_string(\" \".join(pjargs))\n",
      "/home/rpartsey/.virtualenvs/change_detection/lib/python3.6/site-packages/pyproj/crs/crs.py:53: FutureWarning: '+init=<authority>:<code>' syntax is deprecated. '<authority>:<code>' is the preferred initialization method. When making the change, be mindful of axis order changes: https://pyproj4.github.io/pyproj/stable/gotchas.html#axis-order-changes-in-proj-6\n",
      "  return _prepare_from_string(\" \".join(pjargs))\n",
      "/home/rpartsey/.virtualenvs/change_detection/lib/python3.6/site-packages/pyproj/crs/crs.py:53: FutureWarning: '+init=<authority>:<code>' syntax is deprecated. '<authority>:<code>' is the preferred initialization method. When making the change, be mindful of axis order changes: https://pyproj4.github.io/pyproj/stable/gotchas.html#axis-order-changes-in-proj-6\n",
      "  return _prepare_from_string(\" \".join(pjargs))\n"
     ]
    },
    {
     "name": "stderr",
     "output_type": "stream",
     "text": [
      "/home/rpartsey/.virtualenvs/change_detection/lib/python3.6/site-packages/pyproj/crs/crs.py:53: FutureWarning: '+init=<authority>:<code>' syntax is deprecated. '<authority>:<code>' is the preferred initialization method. When making the change, be mindful of axis order changes: https://pyproj4.github.io/pyproj/stable/gotchas.html#axis-order-changes-in-proj-6\n",
      "  return _prepare_from_string(\" \".join(pjargs))\n",
      "/home/rpartsey/.virtualenvs/change_detection/lib/python3.6/site-packages/pyproj/crs/crs.py:53: FutureWarning: '+init=<authority>:<code>' syntax is deprecated. '<authority>:<code>' is the preferred initialization method. When making the change, be mindful of axis order changes: https://pyproj4.github.io/pyproj/stable/gotchas.html#axis-order-changes-in-proj-6\n",
      "  return _prepare_from_string(\" \".join(pjargs))\n",
      "/home/rpartsey/.virtualenvs/change_detection/lib/python3.6/site-packages/pyproj/crs/crs.py:53: FutureWarning: '+init=<authority>:<code>' syntax is deprecated. '<authority>:<code>' is the preferred initialization method. When making the change, be mindful of axis order changes: https://pyproj4.github.io/pyproj/stable/gotchas.html#axis-order-changes-in-proj-6\n",
      "  return _prepare_from_string(\" \".join(pjargs))\n",
      "/home/rpartsey/.virtualenvs/change_detection/lib/python3.6/site-packages/pyproj/crs/crs.py:53: FutureWarning: '+init=<authority>:<code>' syntax is deprecated. '<authority>:<code>' is the preferred initialization method. When making the change, be mindful of axis order changes: https://pyproj4.github.io/pyproj/stable/gotchas.html#axis-order-changes-in-proj-6\n",
      "  return _prepare_from_string(\" \".join(pjargs))\n",
      "/home/rpartsey/.virtualenvs/change_detection/lib/python3.6/site-packages/pyproj/crs/crs.py:53: FutureWarning: '+init=<authority>:<code>' syntax is deprecated. '<authority>:<code>' is the preferred initialization method. When making the change, be mindful of axis order changes: https://pyproj4.github.io/pyproj/stable/gotchas.html#axis-order-changes-in-proj-6\n",
      "  return _prepare_from_string(\" \".join(pjargs))\n",
      "/home/rpartsey/.virtualenvs/change_detection/lib/python3.6/site-packages/pyproj/crs/crs.py:53: FutureWarning: '+init=<authority>:<code>' syntax is deprecated. '<authority>:<code>' is the preferred initialization method. When making the change, be mindful of axis order changes: https://pyproj4.github.io/pyproj/stable/gotchas.html#axis-order-changes-in-proj-6\n",
      "  return _prepare_from_string(\" \".join(pjargs))\n",
      "/home/rpartsey/.virtualenvs/change_detection/lib/python3.6/site-packages/pyproj/crs/crs.py:53: FutureWarning: '+init=<authority>:<code>' syntax is deprecated. '<authority>:<code>' is the preferred initialization method. When making the change, be mindful of axis order changes: https://pyproj4.github.io/pyproj/stable/gotchas.html#axis-order-changes-in-proj-6\n",
      "  return _prepare_from_string(\" \".join(pjargs))\n",
      "/home/rpartsey/.virtualenvs/change_detection/lib/python3.6/site-packages/pyproj/crs/crs.py:53: FutureWarning: '+init=<authority>:<code>' syntax is deprecated. '<authority>:<code>' is the preferred initialization method. When making the change, be mindful of axis order changes: https://pyproj4.github.io/pyproj/stable/gotchas.html#axis-order-changes-in-proj-6\n",
      "  return _prepare_from_string(\" \".join(pjargs))\n",
      "/home/rpartsey/.virtualenvs/change_detection/lib/python3.6/site-packages/pyproj/crs/crs.py:53: FutureWarning: '+init=<authority>:<code>' syntax is deprecated. '<authority>:<code>' is the preferred initialization method. When making the change, be mindful of axis order changes: https://pyproj4.github.io/pyproj/stable/gotchas.html#axis-order-changes-in-proj-6\n",
      "  return _prepare_from_string(\" \".join(pjargs))\n",
      "/home/rpartsey/.virtualenvs/change_detection/lib/python3.6/site-packages/pyproj/crs/crs.py:53: FutureWarning: '+init=<authority>:<code>' syntax is deprecated. '<authority>:<code>' is the preferred initialization method. When making the change, be mindful of axis order changes: https://pyproj4.github.io/pyproj/stable/gotchas.html#axis-order-changes-in-proj-6\n",
      "  return _prepare_from_string(\" \".join(pjargs))\n",
      "/home/rpartsey/.virtualenvs/change_detection/lib/python3.6/site-packages/pyproj/crs/crs.py:53: FutureWarning: '+init=<authority>:<code>' syntax is deprecated. '<authority>:<code>' is the preferred initialization method. When making the change, be mindful of axis order changes: https://pyproj4.github.io/pyproj/stable/gotchas.html#axis-order-changes-in-proj-6\n",
      "  return _prepare_from_string(\" \".join(pjargs))\n",
      "/home/rpartsey/.virtualenvs/change_detection/lib/python3.6/site-packages/pyproj/crs/crs.py:53: FutureWarning: '+init=<authority>:<code>' syntax is deprecated. '<authority>:<code>' is the preferred initialization method. When making the change, be mindful of axis order changes: https://pyproj4.github.io/pyproj/stable/gotchas.html#axis-order-changes-in-proj-6\n",
      "  return _prepare_from_string(\" \".join(pjargs))\n",
      "/home/rpartsey/.virtualenvs/change_detection/lib/python3.6/site-packages/pyproj/crs/crs.py:53: FutureWarning: '+init=<authority>:<code>' syntax is deprecated. '<authority>:<code>' is the preferred initialization method. When making the change, be mindful of axis order changes: https://pyproj4.github.io/pyproj/stable/gotchas.html#axis-order-changes-in-proj-6\n",
      "  return _prepare_from_string(\" \".join(pjargs))\n",
      "/home/rpartsey/.virtualenvs/change_detection/lib/python3.6/site-packages/pyproj/crs/crs.py:53: FutureWarning: '+init=<authority>:<code>' syntax is deprecated. '<authority>:<code>' is the preferred initialization method. When making the change, be mindful of axis order changes: https://pyproj4.github.io/pyproj/stable/gotchas.html#axis-order-changes-in-proj-6\n",
      "  return _prepare_from_string(\" \".join(pjargs))\n",
      "/home/rpartsey/.virtualenvs/change_detection/lib/python3.6/site-packages/pyproj/crs/crs.py:53: FutureWarning: '+init=<authority>:<code>' syntax is deprecated. '<authority>:<code>' is the preferred initialization method. When making the change, be mindful of axis order changes: https://pyproj4.github.io/pyproj/stable/gotchas.html#axis-order-changes-in-proj-6\n",
      "  return _prepare_from_string(\" \".join(pjargs))\n",
      "/home/rpartsey/.virtualenvs/change_detection/lib/python3.6/site-packages/pyproj/crs/crs.py:53: FutureWarning: '+init=<authority>:<code>' syntax is deprecated. '<authority>:<code>' is the preferred initialization method. When making the change, be mindful of axis order changes: https://pyproj4.github.io/pyproj/stable/gotchas.html#axis-order-changes-in-proj-6\n",
      "  return _prepare_from_string(\" \".join(pjargs))\n",
      "/home/rpartsey/.virtualenvs/change_detection/lib/python3.6/site-packages/pyproj/crs/crs.py:53: FutureWarning: '+init=<authority>:<code>' syntax is deprecated. '<authority>:<code>' is the preferred initialization method. When making the change, be mindful of axis order changes: https://pyproj4.github.io/pyproj/stable/gotchas.html#axis-order-changes-in-proj-6\n",
      "  return _prepare_from_string(\" \".join(pjargs))\n",
      "/home/rpartsey/.virtualenvs/change_detection/lib/python3.6/site-packages/pyproj/crs/crs.py:53: FutureWarning: '+init=<authority>:<code>' syntax is deprecated. '<authority>:<code>' is the preferred initialization method. When making the change, be mindful of axis order changes: https://pyproj4.github.io/pyproj/stable/gotchas.html#axis-order-changes-in-proj-6\n",
      "  return _prepare_from_string(\" \".join(pjargs))\n",
      "/home/rpartsey/.virtualenvs/change_detection/lib/python3.6/site-packages/pyproj/crs/crs.py:53: FutureWarning: '+init=<authority>:<code>' syntax is deprecated. '<authority>:<code>' is the preferred initialization method. When making the change, be mindful of axis order changes: https://pyproj4.github.io/pyproj/stable/gotchas.html#axis-order-changes-in-proj-6\n",
      "  return _prepare_from_string(\" \".join(pjargs))\n",
      "/home/rpartsey/.virtualenvs/change_detection/lib/python3.6/site-packages/pyproj/crs/crs.py:53: FutureWarning: '+init=<authority>:<code>' syntax is deprecated. '<authority>:<code>' is the preferred initialization method. When making the change, be mindful of axis order changes: https://pyproj4.github.io/pyproj/stable/gotchas.html#axis-order-changes-in-proj-6\n",
      "  return _prepare_from_string(\" \".join(pjargs))\n",
      "/home/rpartsey/.virtualenvs/change_detection/lib/python3.6/site-packages/pyproj/crs/crs.py:53: FutureWarning: '+init=<authority>:<code>' syntax is deprecated. '<authority>:<code>' is the preferred initialization method. When making the change, be mindful of axis order changes: https://pyproj4.github.io/pyproj/stable/gotchas.html#axis-order-changes-in-proj-6\n",
      "  return _prepare_from_string(\" \".join(pjargs))\n",
      "/home/rpartsey/.virtualenvs/change_detection/lib/python3.6/site-packages/pyproj/crs/crs.py:53: FutureWarning: '+init=<authority>:<code>' syntax is deprecated. '<authority>:<code>' is the preferred initialization method. When making the change, be mindful of axis order changes: https://pyproj4.github.io/pyproj/stable/gotchas.html#axis-order-changes-in-proj-6\n",
      "  return _prepare_from_string(\" \".join(pjargs))\n"
     ]
    },
    {
     "name": "stderr",
     "output_type": "stream",
     "text": [
      "/home/rpartsey/.virtualenvs/change_detection/lib/python3.6/site-packages/pyproj/crs/crs.py:53: FutureWarning: '+init=<authority>:<code>' syntax is deprecated. '<authority>:<code>' is the preferred initialization method. When making the change, be mindful of axis order changes: https://pyproj4.github.io/pyproj/stable/gotchas.html#axis-order-changes-in-proj-6\n",
      "  return _prepare_from_string(\" \".join(pjargs))\n",
      "/home/rpartsey/.virtualenvs/change_detection/lib/python3.6/site-packages/pyproj/crs/crs.py:53: FutureWarning: '+init=<authority>:<code>' syntax is deprecated. '<authority>:<code>' is the preferred initialization method. When making the change, be mindful of axis order changes: https://pyproj4.github.io/pyproj/stable/gotchas.html#axis-order-changes-in-proj-6\n",
      "  return _prepare_from_string(\" \".join(pjargs))\n",
      "/home/rpartsey/.virtualenvs/change_detection/lib/python3.6/site-packages/pyproj/crs/crs.py:53: FutureWarning: '+init=<authority>:<code>' syntax is deprecated. '<authority>:<code>' is the preferred initialization method. When making the change, be mindful of axis order changes: https://pyproj4.github.io/pyproj/stable/gotchas.html#axis-order-changes-in-proj-6\n",
      "  return _prepare_from_string(\" \".join(pjargs))\n",
      "/home/rpartsey/.virtualenvs/change_detection/lib/python3.6/site-packages/pyproj/crs/crs.py:53: FutureWarning: '+init=<authority>:<code>' syntax is deprecated. '<authority>:<code>' is the preferred initialization method. When making the change, be mindful of axis order changes: https://pyproj4.github.io/pyproj/stable/gotchas.html#axis-order-changes-in-proj-6\n",
      "  return _prepare_from_string(\" \".join(pjargs))\n",
      "/home/rpartsey/.virtualenvs/change_detection/lib/python3.6/site-packages/pyproj/crs/crs.py:53: FutureWarning: '+init=<authority>:<code>' syntax is deprecated. '<authority>:<code>' is the preferred initialization method. When making the change, be mindful of axis order changes: https://pyproj4.github.io/pyproj/stable/gotchas.html#axis-order-changes-in-proj-6\n",
      "  return _prepare_from_string(\" \".join(pjargs))\n",
      "/home/rpartsey/.virtualenvs/change_detection/lib/python3.6/site-packages/pyproj/crs/crs.py:53: FutureWarning: '+init=<authority>:<code>' syntax is deprecated. '<authority>:<code>' is the preferred initialization method. When making the change, be mindful of axis order changes: https://pyproj4.github.io/pyproj/stable/gotchas.html#axis-order-changes-in-proj-6\n",
      "  return _prepare_from_string(\" \".join(pjargs))\n",
      "/home/rpartsey/.virtualenvs/change_detection/lib/python3.6/site-packages/pyproj/crs/crs.py:53: FutureWarning: '+init=<authority>:<code>' syntax is deprecated. '<authority>:<code>' is the preferred initialization method. When making the change, be mindful of axis order changes: https://pyproj4.github.io/pyproj/stable/gotchas.html#axis-order-changes-in-proj-6\n",
      "  return _prepare_from_string(\" \".join(pjargs))\n",
      "/home/rpartsey/.virtualenvs/change_detection/lib/python3.6/site-packages/pyproj/crs/crs.py:53: FutureWarning: '+init=<authority>:<code>' syntax is deprecated. '<authority>:<code>' is the preferred initialization method. When making the change, be mindful of axis order changes: https://pyproj4.github.io/pyproj/stable/gotchas.html#axis-order-changes-in-proj-6\n",
      "  return _prepare_from_string(\" \".join(pjargs))\n",
      "/home/rpartsey/.virtualenvs/change_detection/lib/python3.6/site-packages/pyproj/crs/crs.py:53: FutureWarning: '+init=<authority>:<code>' syntax is deprecated. '<authority>:<code>' is the preferred initialization method. When making the change, be mindful of axis order changes: https://pyproj4.github.io/pyproj/stable/gotchas.html#axis-order-changes-in-proj-6\n",
      "  return _prepare_from_string(\" \".join(pjargs))\n",
      "/home/rpartsey/.virtualenvs/change_detection/lib/python3.6/site-packages/pyproj/crs/crs.py:53: FutureWarning: '+init=<authority>:<code>' syntax is deprecated. '<authority>:<code>' is the preferred initialization method. When making the change, be mindful of axis order changes: https://pyproj4.github.io/pyproj/stable/gotchas.html#axis-order-changes-in-proj-6\n",
      "  return _prepare_from_string(\" \".join(pjargs))\n",
      "/home/rpartsey/.virtualenvs/change_detection/lib/python3.6/site-packages/pyproj/crs/crs.py:53: FutureWarning: '+init=<authority>:<code>' syntax is deprecated. '<authority>:<code>' is the preferred initialization method. When making the change, be mindful of axis order changes: https://pyproj4.github.io/pyproj/stable/gotchas.html#axis-order-changes-in-proj-6\n",
      "  return _prepare_from_string(\" \".join(pjargs))\n",
      "/home/rpartsey/.virtualenvs/change_detection/lib/python3.6/site-packages/pyproj/crs/crs.py:53: FutureWarning: '+init=<authority>:<code>' syntax is deprecated. '<authority>:<code>' is the preferred initialization method. When making the change, be mindful of axis order changes: https://pyproj4.github.io/pyproj/stable/gotchas.html#axis-order-changes-in-proj-6\n",
      "  return _prepare_from_string(\" \".join(pjargs))\n",
      "/home/rpartsey/.virtualenvs/change_detection/lib/python3.6/site-packages/pyproj/crs/crs.py:53: FutureWarning: '+init=<authority>:<code>' syntax is deprecated. '<authority>:<code>' is the preferred initialization method. When making the change, be mindful of axis order changes: https://pyproj4.github.io/pyproj/stable/gotchas.html#axis-order-changes-in-proj-6\n",
      "  return _prepare_from_string(\" \".join(pjargs))\n",
      "/home/rpartsey/.virtualenvs/change_detection/lib/python3.6/site-packages/pyproj/crs/crs.py:53: FutureWarning: '+init=<authority>:<code>' syntax is deprecated. '<authority>:<code>' is the preferred initialization method. When making the change, be mindful of axis order changes: https://pyproj4.github.io/pyproj/stable/gotchas.html#axis-order-changes-in-proj-6\n",
      "  return _prepare_from_string(\" \".join(pjargs))\n",
      "/home/rpartsey/.virtualenvs/change_detection/lib/python3.6/site-packages/pyproj/crs/crs.py:53: FutureWarning: '+init=<authority>:<code>' syntax is deprecated. '<authority>:<code>' is the preferred initialization method. When making the change, be mindful of axis order changes: https://pyproj4.github.io/pyproj/stable/gotchas.html#axis-order-changes-in-proj-6\n",
      "  return _prepare_from_string(\" \".join(pjargs))\n",
      "/home/rpartsey/.virtualenvs/change_detection/lib/python3.6/site-packages/pyproj/crs/crs.py:53: FutureWarning: '+init=<authority>:<code>' syntax is deprecated. '<authority>:<code>' is the preferred initialization method. When making the change, be mindful of axis order changes: https://pyproj4.github.io/pyproj/stable/gotchas.html#axis-order-changes-in-proj-6\n",
      "  return _prepare_from_string(\" \".join(pjargs))\n",
      "/home/rpartsey/.virtualenvs/change_detection/lib/python3.6/site-packages/pyproj/crs/crs.py:53: FutureWarning: '+init=<authority>:<code>' syntax is deprecated. '<authority>:<code>' is the preferred initialization method. When making the change, be mindful of axis order changes: https://pyproj4.github.io/pyproj/stable/gotchas.html#axis-order-changes-in-proj-6\n",
      "  return _prepare_from_string(\" \".join(pjargs))\n",
      "/home/rpartsey/.virtualenvs/change_detection/lib/python3.6/site-packages/pyproj/crs/crs.py:53: FutureWarning: '+init=<authority>:<code>' syntax is deprecated. '<authority>:<code>' is the preferred initialization method. When making the change, be mindful of axis order changes: https://pyproj4.github.io/pyproj/stable/gotchas.html#axis-order-changes-in-proj-6\n",
      "  return _prepare_from_string(\" \".join(pjargs))\n",
      "/home/rpartsey/.virtualenvs/change_detection/lib/python3.6/site-packages/pyproj/crs/crs.py:53: FutureWarning: '+init=<authority>:<code>' syntax is deprecated. '<authority>:<code>' is the preferred initialization method. When making the change, be mindful of axis order changes: https://pyproj4.github.io/pyproj/stable/gotchas.html#axis-order-changes-in-proj-6\n",
      "  return _prepare_from_string(\" \".join(pjargs))\n",
      "/home/rpartsey/.virtualenvs/change_detection/lib/python3.6/site-packages/pyproj/crs/crs.py:53: FutureWarning: '+init=<authority>:<code>' syntax is deprecated. '<authority>:<code>' is the preferred initialization method. When making the change, be mindful of axis order changes: https://pyproj4.github.io/pyproj/stable/gotchas.html#axis-order-changes-in-proj-6\n",
      "  return _prepare_from_string(\" \".join(pjargs))\n",
      "/home/rpartsey/.virtualenvs/change_detection/lib/python3.6/site-packages/pyproj/crs/crs.py:53: FutureWarning: '+init=<authority>:<code>' syntax is deprecated. '<authority>:<code>' is the preferred initialization method. When making the change, be mindful of axis order changes: https://pyproj4.github.io/pyproj/stable/gotchas.html#axis-order-changes-in-proj-6\n",
      "  return _prepare_from_string(\" \".join(pjargs))\n"
     ]
    },
    {
     "name": "stderr",
     "output_type": "stream",
     "text": [
      "/home/rpartsey/.virtualenvs/change_detection/lib/python3.6/site-packages/pyproj/crs/crs.py:53: FutureWarning: '+init=<authority>:<code>' syntax is deprecated. '<authority>:<code>' is the preferred initialization method. When making the change, be mindful of axis order changes: https://pyproj4.github.io/pyproj/stable/gotchas.html#axis-order-changes-in-proj-6\n",
      "  return _prepare_from_string(\" \".join(pjargs))\n",
      "/home/rpartsey/.virtualenvs/change_detection/lib/python3.6/site-packages/pyproj/crs/crs.py:53: FutureWarning: '+init=<authority>:<code>' syntax is deprecated. '<authority>:<code>' is the preferred initialization method. When making the change, be mindful of axis order changes: https://pyproj4.github.io/pyproj/stable/gotchas.html#axis-order-changes-in-proj-6\n",
      "  return _prepare_from_string(\" \".join(pjargs))\n",
      "/home/rpartsey/.virtualenvs/change_detection/lib/python3.6/site-packages/pyproj/crs/crs.py:53: FutureWarning: '+init=<authority>:<code>' syntax is deprecated. '<authority>:<code>' is the preferred initialization method. When making the change, be mindful of axis order changes: https://pyproj4.github.io/pyproj/stable/gotchas.html#axis-order-changes-in-proj-6\n",
      "  return _prepare_from_string(\" \".join(pjargs))\n",
      "/home/rpartsey/.virtualenvs/change_detection/lib/python3.6/site-packages/pyproj/crs/crs.py:53: FutureWarning: '+init=<authority>:<code>' syntax is deprecated. '<authority>:<code>' is the preferred initialization method. When making the change, be mindful of axis order changes: https://pyproj4.github.io/pyproj/stable/gotchas.html#axis-order-changes-in-proj-6\n",
      "  return _prepare_from_string(\" \".join(pjargs))\n",
      "/home/rpartsey/.virtualenvs/change_detection/lib/python3.6/site-packages/pyproj/crs/crs.py:53: FutureWarning: '+init=<authority>:<code>' syntax is deprecated. '<authority>:<code>' is the preferred initialization method. When making the change, be mindful of axis order changes: https://pyproj4.github.io/pyproj/stable/gotchas.html#axis-order-changes-in-proj-6\n",
      "  return _prepare_from_string(\" \".join(pjargs))\n",
      "/home/rpartsey/.virtualenvs/change_detection/lib/python3.6/site-packages/pyproj/crs/crs.py:53: FutureWarning: '+init=<authority>:<code>' syntax is deprecated. '<authority>:<code>' is the preferred initialization method. When making the change, be mindful of axis order changes: https://pyproj4.github.io/pyproj/stable/gotchas.html#axis-order-changes-in-proj-6\n",
      "  return _prepare_from_string(\" \".join(pjargs))\n",
      "/home/rpartsey/.virtualenvs/change_detection/lib/python3.6/site-packages/pyproj/crs/crs.py:53: FutureWarning: '+init=<authority>:<code>' syntax is deprecated. '<authority>:<code>' is the preferred initialization method. When making the change, be mindful of axis order changes: https://pyproj4.github.io/pyproj/stable/gotchas.html#axis-order-changes-in-proj-6\n",
      "  return _prepare_from_string(\" \".join(pjargs))\n",
      "/home/rpartsey/.virtualenvs/change_detection/lib/python3.6/site-packages/pyproj/crs/crs.py:53: FutureWarning: '+init=<authority>:<code>' syntax is deprecated. '<authority>:<code>' is the preferred initialization method. When making the change, be mindful of axis order changes: https://pyproj4.github.io/pyproj/stable/gotchas.html#axis-order-changes-in-proj-6\n",
      "  return _prepare_from_string(\" \".join(pjargs))\n",
      "/home/rpartsey/.virtualenvs/change_detection/lib/python3.6/site-packages/pyproj/crs/crs.py:53: FutureWarning: '+init=<authority>:<code>' syntax is deprecated. '<authority>:<code>' is the preferred initialization method. When making the change, be mindful of axis order changes: https://pyproj4.github.io/pyproj/stable/gotchas.html#axis-order-changes-in-proj-6\n",
      "  return _prepare_from_string(\" \".join(pjargs))\n",
      "/home/rpartsey/.virtualenvs/change_detection/lib/python3.6/site-packages/pyproj/crs/crs.py:53: FutureWarning: '+init=<authority>:<code>' syntax is deprecated. '<authority>:<code>' is the preferred initialization method. When making the change, be mindful of axis order changes: https://pyproj4.github.io/pyproj/stable/gotchas.html#axis-order-changes-in-proj-6\n",
      "  return _prepare_from_string(\" \".join(pjargs))\n",
      "/home/rpartsey/.virtualenvs/change_detection/lib/python3.6/site-packages/pyproj/crs/crs.py:53: FutureWarning: '+init=<authority>:<code>' syntax is deprecated. '<authority>:<code>' is the preferred initialization method. When making the change, be mindful of axis order changes: https://pyproj4.github.io/pyproj/stable/gotchas.html#axis-order-changes-in-proj-6\n",
      "  return _prepare_from_string(\" \".join(pjargs))\n",
      "/home/rpartsey/.virtualenvs/change_detection/lib/python3.6/site-packages/pyproj/crs/crs.py:53: FutureWarning: '+init=<authority>:<code>' syntax is deprecated. '<authority>:<code>' is the preferred initialization method. When making the change, be mindful of axis order changes: https://pyproj4.github.io/pyproj/stable/gotchas.html#axis-order-changes-in-proj-6\n",
      "  return _prepare_from_string(\" \".join(pjargs))\n",
      "/home/rpartsey/.virtualenvs/change_detection/lib/python3.6/site-packages/pyproj/crs/crs.py:53: FutureWarning: '+init=<authority>:<code>' syntax is deprecated. '<authority>:<code>' is the preferred initialization method. When making the change, be mindful of axis order changes: https://pyproj4.github.io/pyproj/stable/gotchas.html#axis-order-changes-in-proj-6\n",
      "  return _prepare_from_string(\" \".join(pjargs))\n",
      "/home/rpartsey/.virtualenvs/change_detection/lib/python3.6/site-packages/pyproj/crs/crs.py:53: FutureWarning: '+init=<authority>:<code>' syntax is deprecated. '<authority>:<code>' is the preferred initialization method. When making the change, be mindful of axis order changes: https://pyproj4.github.io/pyproj/stable/gotchas.html#axis-order-changes-in-proj-6\n",
      "  return _prepare_from_string(\" \".join(pjargs))\n",
      "/home/rpartsey/.virtualenvs/change_detection/lib/python3.6/site-packages/pyproj/crs/crs.py:53: FutureWarning: '+init=<authority>:<code>' syntax is deprecated. '<authority>:<code>' is the preferred initialization method. When making the change, be mindful of axis order changes: https://pyproj4.github.io/pyproj/stable/gotchas.html#axis-order-changes-in-proj-6\n",
      "  return _prepare_from_string(\" \".join(pjargs))\n",
      "/home/rpartsey/.virtualenvs/change_detection/lib/python3.6/site-packages/pyproj/crs/crs.py:53: FutureWarning: '+init=<authority>:<code>' syntax is deprecated. '<authority>:<code>' is the preferred initialization method. When making the change, be mindful of axis order changes: https://pyproj4.github.io/pyproj/stable/gotchas.html#axis-order-changes-in-proj-6\n",
      "  return _prepare_from_string(\" \".join(pjargs))\n",
      "/home/rpartsey/.virtualenvs/change_detection/lib/python3.6/site-packages/pyproj/crs/crs.py:53: FutureWarning: '+init=<authority>:<code>' syntax is deprecated. '<authority>:<code>' is the preferred initialization method. When making the change, be mindful of axis order changes: https://pyproj4.github.io/pyproj/stable/gotchas.html#axis-order-changes-in-proj-6\n",
      "  return _prepare_from_string(\" \".join(pjargs))\n"
     ]
    }
   ],
   "source": [
    "# NOTE SOME IMAGES MAY HAVE 3 CHANNELS\n",
    "\n",
    "padding = 128\n",
    "dest_dir_path = '/datasets/rpartsey/satellite/planet/smart_crop'\n",
    "\n",
    "df = merged_df\n",
    "\n",
    "\n",
    "for image_id, row in df.iterrows():\n",
    "    tif_path = os.path.join(row.base_dir, image_id, row.image)\n",
    "    shapefile_path = os.path.join(row.base_dir, image_id, row.shape_file)\n",
    "    \n",
    "    shapes_df = gpd.read_file(shapefile_path)\n",
    "    shapes = shapes_df['geometry']\n",
    "    \n",
    "    with rasterio.open(tif_path) as src:\n",
    "        shapes_crs = shapes.crs\n",
    "        shapes = shapes.to_crs({'init': src.meta['crs']['init']})\n",
    "\n",
    "        for poly_id, polygon in enumerate(shapes):\n",
    "            # geo coordinates\n",
    "            (minx, miny, maxx, maxy) = polygon.bounds\n",
    "            \n",
    "            top_left = (minx, maxy)\n",
    "            bottom_right = (maxx, miny)\n",
    "            \n",
    "            # pixel coordinates\n",
    "            minr, minc = src.index(*top_left)\n",
    "            maxr, maxc = src.index(*bottom_right)\n",
    "            \n",
    "            # expanding bounding box by adding padding\n",
    "            minr -= padding\n",
    "            minc -= padding\n",
    "            maxr += padding\n",
    "            maxc += padding\n",
    "            \n",
    "            window = rio_windows.Window(\n",
    "                col_off=minc,\n",
    "                row_off=minr,\n",
    "                width=maxc-minc,\n",
    "                height=maxr-minr\n",
    "            )\n",
    "            \n",
    "            dest_meta = src.meta.copy()\n",
    "            dest_meta.update({\n",
    "                'height': window.height,\n",
    "                'width': window.width,\n",
    "                'transform': rasterio.windows.transform(window, src.transform)\n",
    "            })\n",
    "            \n",
    "            # store geojson mask\n",
    "            dest_geojson_name = '{}-{}-{}.geojson'.format(row.tag, image_id, poly_id) \n",
    "            dest_geojson_path = os.path.join(dest_dir_path, 'geojsons', dest_geojson_name)\n",
    "            \n",
    "            gseries = gpd.GeoSeries([polygon])\n",
    "            gseries.crs = shapes.crs\n",
    "            gseries.to_crs(shapes_crs).to_file(dest_geojson_path, driver='GeoJSON')\n",
    "            \n",
    "            \n",
    "            # srore cropped image\n",
    "            dest_image_name = '{}-{}-{}.tif'.format(row.tag, image_id, poly_id) \n",
    "            dest_image_path = os.path.join(dest_dir_path, 'images', dest_image_name)\n",
    "            \n",
    "            with rasterio.open(dest_image_path, 'w', **dest_meta) as dest:\n",
    "                dest.write(src.read(window=window, boundless=True, fill_value=0))\n",
    "                "
   ]
  },
  {
   "cell_type": "code",
   "execution_count": 161,
   "metadata": {},
   "outputs": [
    {
     "data": {
      "image/svg+xml": [
       "<svg xmlns=\"http://www.w3.org/2000/svg\" xmlns:xlink=\"http://www.w3.org/1999/xlink\" width=\"300\" height=\"249.5370232090354\" viewBox=\"641489.3744420233 5550530.693531545 721.1053160771262 249.5370232090354\" preserveAspectRatio=\"xMinYMin meet\"><g transform=\"matrix(1,0,0,-1,0,11101310.924086299)\"><path fill-rule=\"evenodd\" fill=\"#66cc99\" stroke=\"#555555\" stroke-width=\"4.807368773847508\" opacity=\"0.6\" d=\"M 641571.769281435,5550753.522950455 L 641664.317919522,5550691.978187457 L 641771.864351512,5550669.943324358 L 641875.4241167323,5550663.804544008 L 641980.5767467354,5550664.821195115 L 642055.8228359697,5550650.822114832 L 642117.054067499,5550627.562125196 L 642183.7721538013,5550599.11536408 L 642152.7932273415,5550557.401135844 L 642005.9556721204,5550581.939839611 L 641904.0339267626,5550593.453227841 L 641864.6999892958,5550597.741662574 L 641764.7962157681,5550600.422277615 L 641734.1812348305,5550612.05424874 L 641645.9942694572,5550643.49247267 L 641613.3628399777,5550663.960367565 L 641557.7142229015,5550678.484947333 L 641527.1001853794,5550690.117895011 L 641516.0820463225,5550702.270202443 L 641572.8524205668,5550712.663571739 L 641574.6338500117,5550712.7107957285 L 641587.1038559927,5550713.041380312 L 641566.8017635262,5550739.1693597315 L 641571.769281435,5550753.522950455 z M 641622.4541507162,5550690.86788077 L 641607.5710100118,5550680.695552707 L 641614.6732178926,5550681.772753832 L 641633.7552419545,5550668.056665727 L 641649.13311226,5550659.575668699 L 641701.2900125015,5550642.292648353 L 641758.9095357581,5550620.710588191 L 641768.8254668467,5550616.529331352 L 641807.8997191131,5550622.011155899 L 641755.110847252,5550629.498676954 L 641683.1220045352,5550655.143942533 L 641622.4541507162,5550690.86788077 z M 641982.4120457191,5550629.314360909 L 641972.7084678544,5550625.500826547 L 641990.8300823723,5550614.426946595 L 641990.9009296343,5550611.762141097 L 641982.8843339194,5550611.549015707 L 641973.2751747246,5550604.182390821 L 641981.3862377761,5550600.842420768 L 642022.548997842,5550594.825673552 L 642044.0684032822,5550590.064560042 L 642065.446082216,5550590.633164514 L 642064.36632211,5550597.715645809 L 642050.8871620982,5550601.801614948 L 642007.6831421936,5550617.541721555 L 641982.4120457191,5550629.314360909 z\" /></g></svg>"
      ],
      "text/plain": [
       "<shapely.geometry.polygon.Polygon at 0x7f10dc3fcbe0>"
      ]
     },
     "execution_count": 161,
     "metadata": {},
     "output_type": "execute_result"
    }
   ],
   "source": [
    "polygon"
   ]
  },
  {
   "cell_type": "code",
   "execution_count": 185,
   "metadata": {},
   "outputs": [
    {
     "data": {
      "text/plain": [
       "<Projected CRS: EPSG:32636>\n",
       "Name: WGS 84 / UTM zone 36N\n",
       "Axis Info [cartesian]:\n",
       "- E[east]: Easting (metre)\n",
       "- N[north]: Northing (metre)\n",
       "Area of Use:\n",
       "- name: World - N hemisphere - 30°E to 36°E - by country\n",
       "- bounds: (30.0, 0.0, 36.0, 84.0)\n",
       "Coordinate Operation:\n",
       "- name: UTM zone 36N\n",
       "- method: Transverse Mercator\n",
       "Datum: World Geodetic System 1984\n",
       "- Ellipsoid: WGS 84\n",
       "- Prime Meridian: Greenwich"
      ]
     },
     "execution_count": 185,
     "metadata": {},
     "output_type": "execute_result"
    }
   ],
   "source": [
    "shapes.crs"
   ]
  },
  {
   "cell_type": "code",
   "execution_count": 180,
   "metadata": {},
   "outputs": [],
   "source": [
    "series = gpd.GeoSeries([polygon])"
   ]
  },
  {
   "cell_type": "code",
   "execution_count": 187,
   "metadata": {},
   "outputs": [],
   "source": [
    "series.crs = shapes.crs"
   ]
  },
  {
   "cell_type": "code",
   "execution_count": 189,
   "metadata": {},
   "outputs": [
    {
     "data": {
      "text/plain": [
       "<Projected CRS: EPSG:32636>\n",
       "Name: WGS 84 / UTM zone 36N\n",
       "Axis Info [cartesian]:\n",
       "- E[east]: Easting (metre)\n",
       "- N[north]: Northing (metre)\n",
       "Area of Use:\n",
       "- name: World - N hemisphere - 30°E to 36°E - by country\n",
       "- bounds: (30.0, 0.0, 36.0, 84.0)\n",
       "Coordinate Operation:\n",
       "- name: UTM zone 36N\n",
       "- method: Transverse Mercator\n",
       "Datum: World Geodetic System 1984\n",
       "- Ellipsoid: WGS 84\n",
       "- Prime Meridian: Greenwich"
      ]
     },
     "execution_count": 189,
     "metadata": {},
     "output_type": "execute_result"
    }
   ],
   "source": [
    "series.crs"
   ]
  },
  {
   "cell_type": "code",
   "execution_count": 116,
   "metadata": {},
   "outputs": [
    {
     "data": {
      "text/plain": [
       "1234"
      ]
     },
     "execution_count": 116,
     "metadata": {},
     "output_type": "execute_result"
    }
   ],
   "source": [
    "heights.max()"
   ]
  },
  {
   "cell_type": "code",
   "execution_count": 117,
   "metadata": {},
   "outputs": [
    {
     "data": {
      "text/plain": [
       "1745"
      ]
     },
     "execution_count": 117,
     "metadata": {},
     "output_type": "execute_result"
    }
   ],
   "source": [
    "widths.max()"
   ]
  },
  {
   "cell_type": "code",
   "execution_count": 119,
   "metadata": {},
   "outputs": [
    {
     "data": {
      "text/plain": [
       "(array([55., 95., 50., 40., 40., 21.,  9., 12., 11.,  8.,  5.,  4.,  7.,\n",
       "         2.,  3.,  4.,  0.,  0.,  1.,  1.,  0.,  1.,  2.,  1.,  0.,  0.,\n",
       "         2.,  0.,  0.,  0.,  0.,  0.,  0.,  1.]),\n",
       " array([  18.        ,   53.76470588,   89.52941176,  125.29411765,\n",
       "         161.05882353,  196.82352941,  232.58823529,  268.35294118,\n",
       "         304.11764706,  339.88235294,  375.64705882,  411.41176471,\n",
       "         447.17647059,  482.94117647,  518.70588235,  554.47058824,\n",
       "         590.23529412,  626.        ,  661.76470588,  697.52941176,\n",
       "         733.29411765,  769.05882353,  804.82352941,  840.58823529,\n",
       "         876.35294118,  912.11764706,  947.88235294,  983.64705882,\n",
       "        1019.41176471, 1055.17647059, 1090.94117647, 1126.70588235,\n",
       "        1162.47058824, 1198.23529412, 1234.        ]),\n",
       " <a list of 34 Patch objects>)"
      ]
     },
     "execution_count": 119,
     "metadata": {},
     "output_type": "execute_result"
    },
    {
     "data": {
      "image/png": "[encoded data removed]",
      "text/plain": [
       "<Figure size 432x288 with 1 Axes>"
      ]
     },
     "metadata": {
      "needs_background": "light"
     },
     "output_type": "display_data"
    }
   ],
   "source": [
    "plt.hist(heights, bins='auto')"
   ]
  },
  {
   "cell_type": "code",
   "execution_count": 120,
   "metadata": {},
   "outputs": [
    {
     "data": {
      "text/plain": [
       "(array([73., 75., 54., 44., 36., 20., 16.,  9., 12.,  9.,  6.,  1.,  2.,\n",
       "         3.,  1.,  3.,  0.,  0.,  0.,  0.,  2.,  0.,  2.,  1.,  2.,  0.,\n",
       "         2.,  0.,  0.,  0.,  0.,  0.,  0.,  0.,  0.,  0.,  0.,  0.,  0.,\n",
       "         1.,  0.,  0.,  1.]),\n",
       " array([  18.        ,   58.1627907 ,   98.3255814 ,  138.48837209,\n",
       "         178.65116279,  218.81395349,  258.97674419,  299.13953488,\n",
       "         339.30232558,  379.46511628,  419.62790698,  459.79069767,\n",
       "         499.95348837,  540.11627907,  580.27906977,  620.44186047,\n",
       "         660.60465116,  700.76744186,  740.93023256,  781.09302326,\n",
       "         821.25581395,  861.41860465,  901.58139535,  941.74418605,\n",
       "         981.90697674, 1022.06976744, 1062.23255814, 1102.39534884,\n",
       "        1142.55813953, 1182.72093023, 1222.88372093, 1263.04651163,\n",
       "        1303.20930233, 1343.37209302, 1383.53488372, 1423.69767442,\n",
       "        1463.86046512, 1504.02325581, 1544.18604651, 1584.34883721,\n",
       "        1624.51162791, 1664.6744186 , 1704.8372093 , 1745.        ]),\n",
       " <a list of 43 Patch objects>)"
      ]
     },
     "execution_count": 120,
     "metadata": {},
     "output_type": "execute_result"
    },
    {
     "data": {
      "image/png": "[encoded data removed]",
      "text/plain": [
       "<Figure size 432x288 with 1 Axes>"
      ]
     },
     "metadata": {
      "needs_background": "light"
     },
     "output_type": "display_data"
    }
   ],
   "source": [
    "plt.hist(widths, bins='auto')"
   ]
  },
  {
   "cell_type": "code",
   "execution_count": 194,
   "metadata": {},
   "outputs": [
    {
     "data": {
      "text/plain": [
       "375.0"
      ]
     },
     "execution_count": 194,
     "metadata": {},
     "output_type": "execute_result"
    }
   ],
   "source": [
    "np.sum([55., 95., 50., 40., 40., 21.,  9., 12., 11.,  8.,  5.,  4.,  7.,\n",
    "         2.,  3.,  4.,  0.,  0.,  1.,  1.,  0.,  1.,  2.,  1.,  0.,  0.,\n",
    "         2.,  0.,  0.,  0.,  0.,  0.,  0.,  1.])"
   ]
  },
  {
   "cell_type": "code",
   "execution_count": 39,
   "metadata": {},
   "outputs": [],
   "source": [
    "shapes_df = pd.concat(dfs)"
   ]
  },
  {
   "cell_type": "code",
   "execution_count": 40,
   "metadata": {},
   "outputs": [
    {
     "data": {
      "text/plain": [
       "(375, 7)"
      ]
     },
     "execution_count": 40,
     "metadata": {},
     "output_type": "execute_result"
    }
   ],
   "source": [
    "shapes_df.shape"
   ]
  },
  {
   "cell_type": "code",
   "execution_count": 41,
   "metadata": {},
   "outputs": [],
   "source": [
    "shapes = shapes_df['geometry']"
   ]
  },
  {
   "cell_type": "code",
   "execution_count": 90,
   "metadata": {},
   "outputs": [
    {
     "data": {
      "image/svg+xml": [
       "<svg xmlns=\"http://www.w3.org/2000/svg\" xmlns:xlink=\"http://www.w3.org/1999/xlink\" width=\"100.0\" height=\"100.0\" viewBox=\"34.98843154889426 49.973496458142975 0.0794627102864851 0.031224246784780973\" preserveAspectRatio=\"xMinYMin meet\"><g transform=\"matrix(1,0,0,-1,0,99.97821716307072)\"><g><path fill-rule=\"evenodd\" fill=\"#66cc99\" stroke=\"#555555\" stroke-width=\"0.0015892542057297022\" opacity=\"0.6\" d=\"M 34.99630645672733,49.97869403766533 L 34.99660355579296,49.98021768686861 L 34.99681152513888,49.98090546255152 L 34.99690065485857,49.98134486964582 L 34.99657384588639,49.98193710764025 L 34.996841235045444,49.983260064567645 L 34.996900654858564,49.98360393189104 L 34.997049204391374,49.983794968230804 L 34.9972571737373,49.98404331433831 L 34.99737601336354,49.984406279419886 L 34.99749485298979,49.9847119321012 L 34.99758398270947,49.98501758284037 L 34.99758398270947,49.985246819620215 L 34.997465143083225,49.985456952375365 L 34.99716804401761,49.985456952375365 L 34.9967223954192,49.98538054057061 L 34.99624703691422,49.98518951052767 L 34.99583109822237,49.98507489213774 L 34.995444869437065,49.984922067193004 L 34.9951180604649,49.984807448165824 L 34.99485067130585,49.984692828865505 L 34.99440502270743,49.98452089940297 L 34.99410792364183,49.984654622371394 L 34.993810824576215,49.984883860880956 L 34.99336517597779,49.98503668594709 L 34.99309778681874,49.985246819620215 L 34.99277097784657,49.985399643533185 L 34.99241445896784,49.985399643533185 L 34.99238474906128,49.985285025643975 L 34.99265213822032,49.98518951052767 L 34.99271155803345,49.98509399522169 L 34.99250358868752,49.98494117033765 L 34.991909390556295,49.98501758284037 L 34.99146374195788,49.98518951052767 L 34.991374612238204,49.98538054057061 L 34.99140432214476,49.98570528990253 L 34.99327604625811,49.98574349556215 L 34.99401879392214,49.98583900957842 L 34.99455357224024,49.98587721513181 L 34.995801388315805,49.985991831609944 L 34.99624703691422,49.98603003704197 L 34.99657384588639,49.98614465315595 L 34.99698978457825,49.98618285846658 L 34.99749485298979,49.98629747421641 L 34.99782166196196,49.98673683206068 L 34.9977919520554,49.98777790310492 L 34.99770282233572,49.98798802480288 L 34.99776224214884,49.98823634926244 L 34.997732532242274,49.98840826544493 L 34.99770282233572,49.988618384389035 L 34.99755427280291,49.98888580717212 L 34.997405723270106,49.989306039969904 L 34.997197753924176,49.989668965340414 L 34.99707891429793,49.99001278684938 L 34.99681152513888,49.99039480786547 L 34.996365876540466,49.99083412828257 L 34.99660355579296,49.9912161427745 L 34.99693036476513,49.99154085270676 L 34.99782166196196,49.99182735964984 L 34.9984752799063,49.99199926299639 L 34.99936657710313,49.99222846650258 L 35.00022816439341,49.992075664286496 L 35.00076294271151,49.991750957965245 L 35.000896637291035,49.991325971379304 L 35.00101547691728,49.991211367612074 L 35.001149171496806,49.99101081036227 L 35.001149171496806,49.99079115146234 L 35.001149171496806,49.99053328973442 L 35.00101547691728,49.99037093164087 L 35.00049555355246,49.99030407814892 L 34.999945920281085,49.99026587611179 L 34.999633966262195,49.99025632559778 L 34.99912889785065,49.99017992141731 L 34.99850498981287,49.99002711269225 L 34.998475279906295,49.98981699990253 L 34.99948541672938,49.98937767019416 L 35.00004990495404,49.98922485892011 L 35.000376713926215,49.98914845310102 L 35.0007629427115,49.989033844144785 L 35.0011491714968,49.989033844144785 L 35.001327430936165,49.98901474262553 L 35.00162453000178,49.98897653956426 L 35.00162453000178,49.98907204716054 L 35.00180278944114,49.98924396035592 L 35.00192162906739,49.98941587293681 L 35.00192162906739,49.989587784903215 L 35.0016839498149,49.98979789869432 L 35.0016839498149,49.99025632559778 L 35.00162453000178,49.99089143064981 L 35.00198104888051,49.99094873294878 L 35.002099888506756,49.991025135907854 L 35.002010758787065,49.991120639436 L 35.0016839498149,49.991349847129776 L 35.0016839498149,49.99148355111332 L 35.00156511018865,49.99157905373113 L 35.001475980468975,49.991808259240074 L 35.001505690375524,49.992132965174434 L 35.00129772102961,49.992744170397415 L 35.000911492244306,49.99469233520215 L 35.00106004177711,49.99505521992598 L 35.001327430936165,49.995246210785915 L 35.00215930831987,49.99560909132985 L 35.00565022234081,49.99620115370658 L 35.006719778977015,49.99629664695558 L 35.00876976252973,49.996774110355794 L 35.00945309038064,49.996812307222996 L 35.010463227203715,49.997003291103816 L 35.011413944213665,49.997194274226054 L 35.01206756215801,49.9974234529714 L 35.012453790943304,49.99723247075947 L 35.01209727206458,49.997156077662304 L 35.01138423430711,49.99694599601922 L 35.010314677670905,49.99683140564521 L 35.01044094477379,49.99667861805504 L 35.01047065468035,49.99667861805504 L 35.0107380438394,49.99648763288461 L 35.010381524960664,49.99631574558261 L 35.00996558626881,49.99635394281394 L 35.00984674664257,49.99639214001491 L 35.00960906739008,49.99650673143579 L 35.00931196832447,49.99646853432584 L 35.00916341879166,49.99643033718555 L 35.00883660981949,49.99627754832094 L 35.00853951075388,49.996105660267936 L 35.00886631972605,49.995952870371646 L 35.00883660981949,49.99572368461687 L 35.00848009094076,49.995532695653445 L 35.00827212159483,49.99564728912253 L 35.00821270178171,49.9957427834715 L 35.0080641522489,49.99593377160047 L 35.00794531262266,49.995838277630796 L 35.0080641522489,49.995585217694014 L 35.00776705318329,49.99548972303212 L 35.00741053430456,49.99554701985201 L 35.00705401542583,49.99562341550566 L 35.006727206453654,49.995776206448824 L 35.00622213804211,49.99579530528258 L 35.0057764894437,49.995776206448824 L 35.00533084084528,49.995585217694014 L 35.00497432196655,49.99543242614397 L 35.005004031873106,49.99510774248808 L 35.00497432196655,49.99503134601515 L 35.00455838327469,49.99503134601515 L 35.00408302476971,49.99510774248808 L 35.00351853654505,49.99512684158736 L 35.003191727572876,49.99508864338123 L 35.00295404832039,49.99484035430179 L 35.00331056719912,49.994572964628624 L 35.003607666264735,49.99447746795645 L 35.00372650589098,49.99430557346859 L 35.00414244458283,49.99424827516942 L 35.00423157430252,49.99440107048214 L 35.004528673368135,49.99447746795645 L 35.00476635262062,49.99449656730605 L 35.005390260658395,49.99489765189544 L 35.00550910028464,49.994974048580794 L 35.00577648944369,49.995145940679045 L 35.00631126776179,49.99491675107816 L 35.006281557855225,49.99478305663985 L 35.00640039748148,49.99451566664806 L 35.00663807673396,49.99453476598249 L 35.00711343523894,49.99466846111115 L 35.00735111449143,49.99495494942083 L 35.00794531262265,49.99499314773316 L 35.00776705318329,49.994687560384904 L 35.00744024421111,49.99445836859924 L 35.007054015425815,49.9942291757212 L 35.00654894701428,49.99403818082168 L 35.00663807673396,49.99323599395976 L 35.00717285505207,49.99256749468585 L 35.007143145145506,49.99270119528407 L 35.006935175799576,49.99293039544477 L 35.007083725332386,49.99323599395974 L 35.007083725332386,49.993350592902175 L 35.007143145145506,49.99371348775153 L 35.007291694678315,49.99380898594091 L 35.00746995411768,49.993923583517855 L 35.0075293739308,49.99399998175075 L 35.00785618290298,49.994381971094604 L 35.008658350380124,49.994095479371204 L 35.009371388137595,49.99428647404312 L 35.00972790701633,49.99411457887252 L 35.009995296175376,49.99384718516357 L 35.01017355561474,49.993503391067264 L 35.01011413580162,49.99323599395974 L 35.00984674664257,49.993064095034036 L 35.00934167823103,49.99296859536534 L 35.008955449445736,49.993083194945015 L 35.008658350380124,49.99331239328505 L 35.00809386215546,49.99346519157152 L 35.00809386215546,49.993350592902175 L 35.008064152248906,49.99298769531426 L 35.0083018315014,49.99266299515108 L 35.00848009094076,49.992261891922624 L 35.008331541407955,49.99210908981274 L 35.00794531262266,49.99182258454811 L 35.00794531262266,49.99151697705111 L 35.00788589280953,49.991325971379304 L 35.00779676308986,49.99117316629564 L 35.00821270178171,49.99077205064101 L 35.00842067112764,49.9905237392735 L 35.00853951075388,49.99044733551787 L 35.00880689991293,49.99063834467936 L 35.009103998978546,49.991020360726466 L 35.009163418791665,49.991402373739064 L 35.00934167823103,49.99172708241392 L 35.0100547159885,49.991918086492646 L 35.01079746365253,49.991707981964325 L 35.01088659337221,49.99145967542924 L 35.010203265521305,49.991211367612074 L 35.00984674664256,49.99102991108876 L 35.00963877729663,49.990724298554525 L 35.009252548511334,49.99041868407823 L 35.00910399897853,49.9900939665692 L 35.00901486925884,49.98965463939085 L 35.00883660981948,49.98934901811726 L 35.00842067112762,49.9890242933861 L 35.00833154140794,49.988527651321235 L 35.00845038103419,49.988584956436604 L 35.00868806028667,49.98879507460881 L 35.008985159352285,49.98904339490157 L 35.009609067390066,49.988966988794196 L 35.00951993767038,49.98873776974378 L 35.00963877729663,49.988470346137596 L 35.009757616922876,49.988489447873064 L 35.01073804383939,49.988527651321235 L 35.01109456271812,49.988298430177004 L 35.01097572309188,49.98808830983511 L 35.010292395240974,49.987859086597034 L 35.00957935748351,49.98783998461122 L 35.009044579165405,49.9876489643358 L 35.010648914119706,49.98544262517122 L 35.01061920421314,49.98517518324385 L 35.01044094477378,49.985156080192134 L 35.00999529617536,49.98485043033301 L 35.00957935748351,49.98452567522966 L 35.009668487203186,49.98427733161244 L 35.009876456549115,49.98397167616963 L 35.010084425895045,49.98364691513362 L 35.01032210514753,49.983322151905085 L 35.006912893369645,49.9809532243866 L 35.00605130607937,49.980666652664794 L 35.005724497107195,49.98036097428004 L 35.00536797822847,49.9801890293351 L 35.00492232963005,49.980036188868155 L 35.00453610084475,49.979864242762446 L 35.00423900177915,49.9797496116839 L 35.003941902713535,49.97978782207377 L 35.00376364327417,49.98009350410016 L 35.00376364327417,49.98030365936667 L 35.00361509374137,49.98043739405831 L 35.003317994675754,49.98055202349811 L 35.003317994675754,49.980628442972915 L 35.00346654420856,49.98074307195752 L 35.00355567392824,49.980762176761736 L 35.00403103243322,49.98108695727261 L 35.003941902713535,49.981220689786866 L 35.00391219280698,49.98139263104466 L 35.003941902713535,49.98152636270921 L 35.00406074233978,49.981717407299406 L 35.00397161262009,49.981927555472375 L 35.00340712439544,49.98202307706572 L 35.00313973523639,49.98215680697774 L 35.003169445142944,49.98232874488983 L 35.0030506055167,49.98238605739063 L 35.002694086637966,49.982366953231285 L 35.002694086637966,49.98248157807357 L 35.002753506451086,49.98280634697687 L 35.00242669747892,49.982997386484044 L 35.00159482009521,49.98316932139183 L 35.001238301216475,49.98297828256745 L 35.00120859130991,49.982787242984436 L 35.001238301216475,49.98269172290842 L 35.00132743093616,49.98257709856685 L 35.001921629067375,49.982252328115884 L 35.00156511018865,49.981984868451136 L 35.0010600417771,49.981755616126414 L 35.000762942711496,49.98166009400201 L 35.000049904954025,49.98164098955438 L 34.99933686719657,49.981583676165926 L 34.99880208887846,49.98137352649081 L 34.998891218598146,49.981029643224126 L 34.99898034831783,49.98101053852613 L 34.999218027570315,49.98099143382054 L 34.99972309598186,49.98091501492233 L 34.999990485140906,49.980762176761736 L 35.00031729411308,49.98060933811559 L 35.00055497336557,49.980418289125126 L 35.00049555355244,49.98028455438037 L 35.000198454486835,49.980017083775635 L 35.0002281643934,49.97982603243327 L 35.00070352289837,49.979673190813145 L 35.001149171496785,49.979539453997226 L 35.001149171496785,49.97925287385415 L 35.00111946159023,49.97881344765268 L 35.00106004177711,49.97819728893715 L 35.000614393178694,49.97825460635985 L 35.00043613373933,49.978388346747245 L 35.000287584206525,49.97873224889352 L 35.00010932476715,49.97903793762661 L 34.99996077523435,49.97922899209851 L 34.99978251579498,49.97951557238383 L 34.999396287009695,49.97976394058366 L 34.999247737476885,49.979974097289755 L 34.99999048514091,49.980203358103985 L 35.00025787429996,49.98031798810142 L 35.000079614860596,49.98041351289063 L 34.999723095981864,49.98054724727691 L 34.99927744738345,49.98043261782571 L 34.99895063841128,49.98031798810142 L 34.998683249252224,49.98031798810142 L 34.998415860093175,49.98027977813261 L 34.99817818084068,49.98006962276179 L 34.998207890747246,49.97976394058366 L 34.99844556999974,49.979458256463325 L 34.99877237897191,49.97924809750397 L 34.99895063841128,49.97907614858168 L 34.999188317663766,49.978885093502846 L 34.99933686719657,49.97877046009137 L 34.99966367616874,49.978483875367786 L 34.99963396626218,49.97833102948388 L 34.99963396626218,49.97808265388695 L 35.000020195047476,49.97802533625941 L 35.000228164393405,49.97787248891884 L 34.99996077523435,49.97775785309476 L 34.99960425635562,49.97764321699756 L 34.99927744738345,49.97760500490447 L 34.998475279906295,49.977452156228615 L 34.99773253224227,49.977299307067206 L 34.996870944952,49.97708913867743 L 34.995831098222354,49.976802543939215 L 34.994672411866475,49.97651594749396 L 34.99395937410901,49.97643952148692 L 34.99345430569747,49.97657326691957 L 34.99354343541715,49.97695539467869 L 34.993840534482764,49.97733751940307 L 34.994464442520545,49.97775785309476 L 34.99502893074521,49.9777769590844 L 34.995593418969875,49.977738747097526 L 34.996128197287966,49.97775785309476 L 34.99672239541919,49.97789159486296 L 34.997316593550416,49.97802533625941 L 34.99791079168163,49.9781590772841 L 34.998267310560365,49.97829281793704 L 34.998415860093175,49.97859850946205 L 34.99832673037349,49.97877046009137 L 34.99802963130788,49.97882777683125 L 34.99743543317666,49.97871314328322 L 34.997168044017606,49.97859850946205 L 34.99657384588639,49.978483875367786 L 34.99615790719453,49.978483875367786 L 34.99630645672733,49.97869403766533 z M 35.00370422346105,49.98670340280055 L 35.00345168925528,49.986598339260304 L 35.00324371990935,49.98637866020729 L 35.00297633075031,49.98626404465092 L 35.002679231684695,49.98617808280441 L 35.00230785785268,49.9861016721452 L 35.001951338973946,49.985977504565106 L 35.00165423990833,49.985881990823856 L 35.00108975168368,49.98570051419295 L 35.00104518682383,49.98557634557731 L 35.00104518682383,49.98542352222573 L 35.00110460663696,49.985299352895055 L 35.00120859130992,49.98531845588987 L 35.00146112551569,49.985442625171224 L 35.001579965141936,49.98522294083995 L 35.00110460663696,49.98505101327213 L 35.000911492244306,49.98488863667162 L 35.00089663729103,49.98466894981025 L 35.00097091205743,49.98447791694132 L 35.001505690375524,49.98442060693271 L 35.001906774114104,49.98456388182621 L 35.00214445336659,49.98479312076822 L 35.002114743460034,49.985041461722574 L 35.00196619392723,49.98525159537484 L 35.00184735430098,49.985394867793254 L 35.00184735430098,49.985442625171224 L 35.001891919160826,49.98549993396221 L 35.00204046869363,49.98563365420897 L 35.00233756775924,49.98567185992548 L 35.002872346077346,49.98570051419295 L 35.00302089561015,49.98572916844335 L 35.00316944514296,49.9858342338821 L 35.003258574862635,49.9859297477182 L 35.003436834302,49.986053915421564 L 35.00367451355449,49.986197185450244 L 35.003912192806986,49.98636910892137 L 35.00401617747995,49.98645507042648 L 35.004283566638996,49.986617441739234 L 35.00401617747995,49.98676071008942 L 35.00370422346105,49.98670340280055 z M 35.00333284962904,49.98567185992548 L 35.003050605516705,49.98559544846211 L 35.00296147579703,49.98545217664113 L 35.00297633075031,49.98521338932453 L 35.00308031542327,49.98506056481979 L 35.00342197934872,49.984859981920515 L 35.00355567392825,49.984611640029215 L 35.00373393336761,49.984430158605555 L 35.00400132252666,49.98435374516969 L 35.00412016215291,49.984382400222366 L 35.00414987205947,49.98449702026235 L 35.004090452246345,49.98470715629299 L 35.00414987205947,49.98482177555915 L 35.004298421592274,49.98495549769115 L 35.0044321161718,49.9850319101711 L 35.00444697112508,49.985146528663456 L 35.00426871168572,49.985184734766875 L 35.00438755131196,49.98536621334371 L 35.00446182607837,49.98545217664113 L 35.00446182607837,49.98567185992548 L 35.00446182607837,49.98581513109213 L 35.00431327654556,49.9859297477182 L 35.00401617747995,49.98584378527425 L 35.003912192806986,49.985681411349866 L 35.00383791804058,49.98540441927264 L 35.00362994869465,49.98547127957525 L 35.00333284962904,49.98567185992548 z M 35.004669795424306,49.98902906876568 L 35.00437269635869,49.98895266263555 L 35.00403103243324,49.98880940081438 L 35.00397161262012,49.9886852402242 L 35.004016177479954,49.988532426750126 L 35.00438755131197,49.98843691808227 L 35.004669795424306,49.98833185832858 L 35.00508573411616,49.98821724742645 L 35.00523428364897,49.98810263625121 L 35.00542739804161,49.988054881514266 L 35.00563536738754,49.988083534362126 L 35.00575420701378,49.98823634926243 L 35.00570964215394,49.98837961279052 L 35.00532341336865,49.988599282704776 L 35.00532341336865,49.98877119759001 L 35.00548681785473,49.98880940081438 L 35.00575420701378,49.988818951615734 L 35.00590275654658,49.98884760400842 L 35.005932466453146,49.98903861952341 L 35.00581362682691,49.989162779201344 L 35.00578391692034,49.989286938558756 L 35.00591761149987,49.98943019895748 L 35.006199855612195,49.98944930031173 L 35.006600939350776,49.98924873571368 L 35.006957458229515,49.98917232993252 L 35.00670492402374,49.98950660432898 L 35.00652666458437,49.989678515971065 L 35.00630384028516,49.989850426998665 L 35.00587304664003,49.989888629365794 L 35.00554623766786,49.98983132580372 L 35.00495203953663,49.98981222460118 L 35.004521245891496,49.98968806659984 L 35.004981749443196,49.9892582864278 L 35.00517486383584,49.98913412699642 L 35.005249138602245,49.989000416481105 L 35.00526399355553,49.988933561084046 L 35.00517486383584,49.98884760400842 L 35.00502631430304,49.98878074839895 L 35.004877764770235,49.988666138566494 L 35.004669795424306,49.988818951615734 L 35.00465494047102,49.98885715480219 L 35.004669795424306,49.98902906876568 z M 35.003793353180754,49.98257709856685 L 35.00542739804161,49.98057112837821 L 35.00565022234082,49.98056157593911 L 35.00414987205948,49.98265351482491 L 35.003793353180754,49.98257709856685 z M 35.005813626826914,49.992233241564 L 35.00524913860225,49.99219504105929 L 35.00510058906945,49.99211863995884 L 35.005278848508816,49.991774833504714 L 35.005546237667865,49.991507426785546 L 35.00617014570565,49.990915306616 L 35.00619985561221,49.990858004277214 L 35.00649695467782,49.99104901180766 L 35.006586084397505,49.9911445152884 L 35.00661579430407,49.991354622278436 L 35.00628898533189,49.99167933127571 L 35.00611072589252,49.9918321347511 L 35.005813626826914,49.992233241564 z M 35.00516000888257,49.99349384119618 L 35.0049817494432,49.99334104300073 L 35.00521942869569,49.992825345506716 L 35.00557594757443,49.99246244395504 L 35.00563536738755,49.99280624549332 L 35.00563536738755,49.99320734418146 L 35.00516000888257,49.99349384119618 z M 35.005026314303045,49.99124001857948 L 35.00480349000384,49.99123046825891 L 35.00501145934976,49.991134964948856 L 35.00516000888257,49.99102036072645 L 35.00548681785474,49.99068609685119 L 35.00578391692035,49.99042823456 L 35.00591761149988,49.99036138114771 L 35.00624442047205,49.99036138114771 L 35.006333550191734,49.99046643646816 L 35.00619985561221,49.9906096933535 L 35.005962176359716,49.990781601052625 L 35.005665077294104,49.99100125999617 L 35.00547196290146,49.99116361596178 L 35.005026314303045,49.99124001857948 z\" /><path fill-rule=\"evenodd\" fill=\"#66cc99\" stroke=\"#555555\" stroke-width=\"0.0015892542057297022\" opacity=\"0.6\" d=\"M 35.01496427804775,49.992815795500974 L 35.0149197131879,49.993369692699375 L 35.01503855281415,49.99342699204542 L 35.01533565187976,49.99369438809089 L 35.015454491506006,49.994114578872534 L 35.01566246085193,49.99445836859925 L 35.015840720291294,49.99474485816063 L 35.01575159057162,49.99501224687796 L 35.01572188066505,49.995184138839655 L 35.01607839954379,49.99520323790858 L 35.01625665898315,49.99524143602367 L 35.016405208515955,49.99524143602367 L 35.01693998683406,49.995184138839655 L 35.01673201748813,49.99533693117865 L 35.01658346795533,49.995508821979676 L 35.01670230758157,49.99560431660363 L 35.0170588264603,49.99545152511428 L 35.01711824627342,49.99537512918753 L 35.01800954347026,49.99529873313941 L 35.018336352442425,49.99533693117865 L 35.01901968029334,49.99545152511428 L 35.01928706945238,49.995508821979676 L 35.01985155767704,49.99583350292735 L 35.02053488552795,49.995986293202954 L 35.02178270160352,49.99611998429583 L 35.02279283842659,49.99608178687864 L 35.023743555436546,49.996043589431125 L 35.02463485263338,49.99602449069599 L 35.02567469936302,49.99602449069599 L 35.02652143170001,49.995795305282584 L 35.02669969113938,49.99571890990204 L 35.027115629831236,49.99548972303212 L 35.02762069824277,49.99516503976314 L 35.02806634684119,49.99485945350727 L 35.02851199543961,49.994687560384904 L 35.028838804411784,49.994725758909645 L 35.0292844530102,49.994687560384904 L 35.02964097188893,49.994649361829815 L 35.030027200674226,49.994802155868086 L 35.02984894123486,49.99505044514477 L 35.029670681795494,49.99526053506984 L 35.02955184216924,49.99569981103794 L 35.02999749076766,49.99577620644883 L 35.030354009646395,49.99568071216625 L 35.0314235662826,49.99564251440011 L 35.03406774796654,49.99560431660363 L 35.03457281637807,49.99556611877681 L 35.035018464976496,49.99545152511428 L 35.036110304042616,49.99562819022999 L 35.03738783002474,49.99631574558262 L 35.03884361544623,49.99727066726255 L 35.0400914315218,49.998015493007514 L 35.040596499933336,49.99841654824492 L 35.04104214853176,49.998607525753584 L 35.04163634666298,49.99881760013695 L 35.041933445728596,49.999046771144684 L 35.04240880423357,49.99910406372594 L 35.04264648348605,49.99895128335754 L 35.042676193392616,49.99902767360243 L 35.042884162738545,49.99918045372807 L 35.04332981133696,49.99910406372594 L 35.04312184199104,49.99879850250366 L 35.043092132084475,49.99868391654465 L 35.04243851414013,49.998454743807336 L 35.04243851414013,49.998703014223445 L 35.0420819952614,49.9987412095583 L 35.041844316008905,49.998703014223445 L 35.04154721694329,49.99843564602992 L 35.04166605656954,49.997996395055615 L 35.04258706367294,49.99717517594797 L 35.04291387264511,49.99696509438835 L 35.043210971710714,49.99700329110383 L 35.04353778068289,49.996984192749885 L 35.04395371937474,49.99696509438835 L 35.04407255900099,49.99707968444375 L 35.04445878778628,49.99717517594797 L 35.04472617694533,49.99707968444375 L 35.044963856197825,49.99707968444375 L 35.04526095526344,49.99727066726255 L 35.045023276010944,49.99763353252833 L 35.04487472647814,49.99797729709614 L 35.04457762741253,49.998454743807336 L 35.04445878778628,49.99885579538076 L 35.044035421617785,49.999371428202394 L 35.04406513152435,49.99956240191815 L 35.04445136030964,49.9996960830678 L 35.04468903956213,49.99996344425202 L 35.044926718814615,50.000078027161535 L 35.04676873302141,50.00074642202422 L 35.04748177077887,50.00099468060647 L 35.049739723677526,50.001453000774845 L 35.0508984100334,50.00175854512633 L 35.05149260816462,50.001777641583814 L 35.05164115769743,50.0014720973537 L 35.051849127043354,50.001128357773595 L 35.05190854685648,50.00063184070773 L 35.05214622610897,50.00045996822094 L 35.05247303508114,50.00053635606871 L 35.052562164800825,50.000650937612775 L 35.05279984405331,50.000803712580066 L 35.05279984405331,50.00045519397643 L 35.052888973773,50.000264223807044 L 35.05300781339924,50.00011144712537 L 35.052948393586114,49.99993957277816 L 35.05274042424019,49.99988228119255 L 35.05271071433363,49.99971040602608 L 35.052888973773,49.99963401686597 L 35.05312665302549,49.99955762758449 L 35.053037523305804,49.999423946049845 L 35.05274042424019,49.9991756793565 L 35.052978103492684,49.99902289921569 L 35.05312665302549,49.99875553280104 L 35.05315636293204,49.998717337477565 L 35.0534237520911,49.99867914212376 L 35.053334622371416,49.998469067135424 L 35.05080928031372,49.99793432665958 L 35.05098753975309,49.997838836663064 L 35.05134405863182,49.997724248416894 L 35.05208680629585,49.997552365535604 L 35.0525027449877,49.99759056178455 L 35.052888973773,49.99760965989764 L 35.05351288181078,49.997571463663874 L 35.05375056106327,49.997686052274155 L 35.054107079942,49.998010718520256 L 35.054433888914176,49.9982589912292 L 35.05535489601756,49.99812530608368 L 35.05529547620444,49.997838836663064 L 35.05487953751259,49.9976669541914 L 35.05446359882074,49.997418678425355 L 35.05538460592413,49.997132204794546 L 35.0562461932144,49.99717040137727 L 35.0562461932144,49.99747597294669 L 35.0562461932144,49.99770515034931 L 35.05633532293409,49.99797252260509 L 35.05672155171938,49.99795342463613 L 35.057048360691546,49.997838836663064 L 35.05737516966372,49.998010718520256 L 35.05832588667368,49.99822079551127 L 35.059068634337706,49.99844996936369 L 35.05966283246893,49.99866004443548 L 35.060583839572324,49.99892741138113 L 35.06162368630196,49.99909928934677 L 35.06269324293817,49.999347556434586 L 35.063643959948116,49.999443043434695 L 35.06397076892029,49.999213874315835 L 35.06417873826622,49.99900380166394 L 35.06429757789246,49.9989656065377 L 35.064951195836805,49.99866004443548 L 35.064951195836805,49.99850726265612 L 35.06474322649088,49.99833538257403 L 35.06420844817278,49.99814440398436 L 35.063851929294046,49.99799162056646 L 35.063228021256265,49.997819738641006 L 35.06284179247097,49.997819738641006 L 35.06236643396599,49.997819738641006 L 35.06189107546101,49.997724248416894 L 35.061980205180696,49.99751416925632 L 35.06221788443318,49.99749507110529 L 35.06260411321848,49.997418678425355 L 35.062752662751286,49.99730408917784 L 35.06304976181689,49.9971513030897 L 35.06325773116282,49.99718949965725 L 35.063346860882504,49.997323187404724 L 35.063584540135,49.997418678425355 L 35.06429757789246,49.99749507110529 L 35.06441641751871,49.997418678425355 L 35.06435699770558,49.99730408917784 L 35.063584540135,49.99691734845133 L 35.0631983113497,49.996649970327844 L 35.06278237265785,49.99642078789574 L 35.06227730424631,49.996344393508956 L 35.06203962499382,49.99640168931042 L 35.061237457516675,49.99649718216115 L 35.06102948817074,49.996478083606185 L 35.06079180891825,49.996478083606185 L 35.06064325938545,49.99640168931042 L 35.060435290039514,49.99626799900079 L 35.060227320693585,49.99617250569491 L 35.05987080181485,49.996096110913655 L 35.05939544330988,49.99600061726638 L 35.059068634337706,49.99586692584162 L 35.05877153527209,49.995714135186724 L 35.0578505281687,49.99538945343304 L 35.058214474524085,49.99523666126094 L 35.058749252842176,49.99523666126094 L 35.059284031160274,49.995293958382376 L 35.05955142031933,49.995427651400206 L 35.05981880947838,49.99537035443807 L 35.05981880947838,49.995274859349486 L 35.05981880947838,49.994969273791526 L 35.05969996985213,49.994892877098586 L 35.059165191534035,49.994911976283205 L 35.05857099340281,49.994969273791526 L 35.057917375458466,49.99493107546023 L 35.0575905664863,49.994873777906385 L 35.05723404760756,49.9947400833486 L 35.05690723863539,49.994568189799516 L 35.05663984947634,49.99449179246937 L 35.056045651345116,49.99449179246937 L 35.05461957583019,49.993708712837076 L 35.054055087605526,49.99342221710252 L 35.053490599380865,49.9931357196611 L 35.0527775616234,49.992791920478304 L 35.05218336349218,49.992791920478304 L 35.05185655452001,49.992849220512795 L 35.0513217762019,49.99294472041855 L 35.050786997883804,49.993021120206606 L 35.050311639378826,49.993021120206606 L 35.049539181808235,49.993002020270964 L 35.04882614405077,49.992925620452574 L 35.048291365732666,49.992849220512795 L 35.04745948834896,49.992791920478304 L 35.04647906143244,49.99269642026911 L 35.045617474142176,49.9924481188376 L 35.04537979488968,49.992104314739 L 35.04540950479625,49.99191331139993 L 35.0454392147028,49.991741407746154 L 35.04537979488968,49.99155040296571 L 35.04508269582407,49.99120659244918 L 35.044696467038776,49.99099170962819 L 35.044488497692846,49.99091530661601 L 35.04413197881412,49.99085800427723 L 35.0436863302157,49.99074339939482 L 35.043032712271355,49.990495087879374 L 35.04288416273855,49.990361381147714 L 35.04243851414013,49.99024677508185 L 35.04217112498108,49.990074865470994 L 35.042208262364284,49.99039958310898 L 35.042208262364284,49.99053328973442 L 35.042000293018354,49.99066699598816 L 35.04176261376587,49.99064789511752 L 35.04131696516745,49.990495087879374 L 35.041019866101834,49.99041868407823 L 35.040841606662475,49.990495087879374 L 35.04093073638216,49.990590592460116 L 35.040693057129666,49.99070519770666 L 35.04039595806405,49.99057149155914 L 35.04003943918533,49.990590592460116 L 35.03977205002627,49.99057149155914 L 35.03977205002627,49.99041868407823 L 35.0399800193722,49.990304078148924 L 35.04018798871813,49.99032317915611 L 35.04054450759686,49.990304078148924 L 35.04057421750342,49.99017037088623 L 35.04030682834438,49.99003666325179 L 35.040009729278765,49.98988385407157 L 35.03995030946564,49.98971194316345 L 35.039801759932836,49.989597335549995 L 35.03965321040003,49.9898265505038 L 35.03962350049346,49.99001756213082 L 35.03950466086722,49.990208572999215 L 35.03905901226881,49.99039958310898 L 35.038761913203196,49.9903422801557 L 35.03843510423102,49.990304078148924 L 35.03822713488509,49.99041868407823 L 35.037930035819485,49.990628794239306 L 35.03790032591292,49.99022767404432 L 35.03795974572605,49.99003666325179 L 35.03831626460478,49.98965463939086 L 35.038553943857266,49.98940632225399 L 35.03867278348351,49.989196206752176 L 35.03861336367039,49.98906249640945 L 35.03831626460478,49.988909684134015 L 35.037930035819485,49.988986090332425 L 35.037930035819485,49.98929171391225 L 35.037781486286676,49.98965463939086 L 35.037424967407944,49.989520930322634 L 35.037365547594824,49.98940632225399 L 35.03706844852921,49.98929171391225 L 35.03647425039799,49.98917710529741 L 35.03635541077175,49.98927261249541 L 35.03614744142582,49.98961643683787 L 35.035709220304035,49.98963553811816 L 35.031074474880505,49.989329916723186 L 35.030450566842724,49.98944452497388 L 35.03013861282382,49.98941587293681 L 35.02988607861805,49.98935856881146 L 35.02978209394509,49.98917710529741 L 35.03006433805742,49.989033844144785 L 35.03040600198287,49.98877597299472 L 35.030584261422234,49.9885754055888 L 35.03092592534769,49.988441693520166 L 35.03119331450674,49.98832708287977 L 35.031624108151874,49.98810741172231 L 35.0318320774978,49.98798324931993 L 35.03202519189045,49.987801780616834 L 35.03201033693717,49.98763941330211 L 35.03186178740437,49.9875343518064 L 35.03138642889939,49.98741018792469 L 35.029529559739316,49.98704724550957 L 35.02911362104746,49.986999489724745 L 35.028697682355606,49.98706634781022 L 35.028638262542486,49.98721916594233 L 35.028712537308884,49.98732422812651 L 35.0284748580564,49.98758210706018 L 35.02880166702857,49.98763941330211 L 35.02909876609418,49.98773492355362 L 35.02949984983275,49.98785908659704 L 35.029484994879475,49.98796414738343 L 35.0290096363745,49.987868637587106 L 35.02880166702857,49.98795459641233 L 35.02872739226217,49.988059656990096 L 35.028281743663754,49.988059656990096 L 35.02804406441126,49.988174268267755 L 35.028222323850635,49.9884321426439 L 35.02810348422438,49.98876642218483 L 35.02785095001862,49.98907204716054 L 35.0274795761866,49.98924396035592 L 35.0273310266538,49.98900519186305 L 35.027464721233315,49.98886193019837 L 35.027657835625966,49.98874732055937 L 35.0274795761866,49.98865181231824 L 35.02710820235458,49.988594507282535 L 35.02670711861601,49.98842259176573 L 35.02654371412993,49.988594507282535 L 35.026246615064316,49.98876642218483 L 35.02615748534463,49.98878552380271 L 35.025741546652775,49.98879507460881 L 35.02551872235357,49.98894788724839 L 35.025325607960916,49.98915800383505 L 35.025266188147796,49.98930126461783 L 35.02557814216669,49.9893108153215 L 35.02578611151262,49.98938722088267 L 35.02591980609214,49.98948272766343 L 35.02606835562494,49.98946362632245 L 35.026142630391355,49.989377670194166 L 35.02618719525119,49.98930126461783 L 35.02618719525119,49.98942542361773 L 35.02639516459712,49.98942542361773 L 35.02635059973728,49.989587784903215 L 35.02604607319505,49.98974059502414 L 35.02571926422287,49.98962598747896 L 35.024976516558844,49.98964508875546 L 35.024768547212915,49.98977879747851 L 35.024649707586676,49.99002711269225 L 35.024560577866986,49.99033272965685 L 35.02435260852106,49.9905619411058 L 35.02435260852106,49.990542840193456 L 35.02435260852106,49.990237224564034 L 35.024649707586676,49.989836101103165 L 35.02467941749323,49.98966419002436 L 35.024709127399795,49.98951137966067 L 35.02461999768011,49.989396771569275 L 35.02426347880138,49.98945407564911 L 35.023936669829205,49.989568683603956 L 35.023669280670156,49.98979789869432 L 35.02343160141766,49.98998891043513 L 35.0232533419783,49.990122618202314 L 35.023104792445494,49.99031362865345 L 35.023104792445494,49.99063834467936 L 35.02301566272581,49.990752949812105 L 35.02245117450115,49.99060014290775 L 35.02203523580929,49.99048553741086 L 35.021589587210876,49.990428234560014 L 35.02135190795839,49.99077205064101 L 35.021084518799334,49.9909439577598 L 35.02099538907966,49.99105856216427 L 35.021084518799334,49.991345071980625 L 35.02126277823871,49.991478775977455 L 35.021292488145264,49.99161247960255 L 35.02090625935997,49.99161247960255 L 35.02025264141563,49.99155517809446 L 35.01974757300409,49.991478775977455 L 35.01924250459255,49.99140237373907 L 35.01873743618101,49.99144057487344 L 35.01864830646133,49.99163158009008 L 35.01861859655477,49.991746182855934 L 35.01835120739572,49.991784383717196 L 35.01793526870386,49.991784383717196 L 35.01728165075952,49.991994487911725 L 35.01713310122671,49.992185490928385 L 35.01710339132015,49.99237649318642 L 35.01713310122671,49.99273939538671 L 35.01731136066608,49.99315959451307 L 35.01713310122671,49.993197794251586 L 35.01692513188078,49.99300679525559 L 35.01692513188078,49.99270119528407 L 35.016895421974226,49.99251019431568 L 35.016806292254536,49.99224279168545 L 35.01677658234798,49.99208998951488 L 35.01627151393644,49.991784383717196 L 35.015855575244586,49.991918086492646 L 35.015558476178974,49.99208998951488 L 35.01532079692648,49.99231919258866 L 35.01496427804775,49.992815795500974 z M 35.02126277823868,49.995441975630065 L 35.02072799992058,49.99535603018689 L 35.02043090085497,49.99530828265206 L 35.02014865674264,49.995212787440195 L 35.019910977490156,49.99504089558092 L 35.01989612253687,49.99484990390548 L 35.01986641263031,49.99468756038491 L 35.019703008144226,49.994534765982515 L 35.0196435883311,49.994391520789335 L 35.01986641263031,49.994391520789335 L 35.0201040918828,49.99456341496995 L 35.02040119094841,49.99471620928131 L 35.02077256478042,49.99491675107818 L 35.021441037678045,49.99515549022205 L 35.02166386197726,49.995375129187536 L 35.02126277823868,49.995441975630065 z M 35.02332761674467,49.99484990390548 L 35.02289682309954,49.994725758909645 L 35.02255515917409,49.994515666648084 L 35.02243631954784,49.99434377229679 L 35.02225806010848,49.99416232759267 L 35.02218378534207,49.99404773058469 L 35.02219864029536,49.99388538435589 L 35.02199067094943,49.99365618874686 L 35.02191639618302,49.9934747414483 L 35.022005525902706,49.99332194319219 L 35.02227291506176,49.993493841196184 L 35.02245117450113,49.99386628476353 L 35.02257001412737,49.99410502912282 L 35.02282254833314,49.99433422259258 L 35.02322363207171,49.99459206394031 L 35.02359500590373,49.99471620928131 L 35.02377326534309,49.99487855270515 L 35.02332761674467,49.99484990390548 z M 35.02160444216413,49.99386628476353 L 35.02136676291165,49.99368483825773 L 35.021233068332116,49.9934747414483 L 35.02129248814524,49.993398342380935 L 35.02147074758461,49.993341043000754 L 35.02169357188382,49.99362753921892 L 35.021708426837094,49.99372303757901 L 35.02176784665022,49.99389493414923 L 35.02160444216413,49.99386628476353 z M 35.02257001412737,49.993379242595125 L 35.02228777001504,49.99326464372098 L 35.02227291506176,49.99315004457372 L 35.022213495248636,49.99305454507571 L 35.02243631954784,49.99299724528588 L 35.02255515917409,49.993111844797276 L 35.02264428889377,49.99316914445056 L 35.02279283842658,49.99326464372098 L 35.02257001412737,49.993379242595125 z M 35.02307508253891,49.99342699204542 L 35.02303051767907,49.993293293465115 L 35.02307508253891,49.99320734418148 L 35.023208777118434,49.99315004457372 L 35.023461311324205,49.993235993959765 L 35.023505876184046,49.993360142801734 L 35.02341674646436,49.993446091812274 L 35.02307508253891,49.99342699204542 z M 35.028378300860076,49.99419097680201 L 35.027412728896834,49.99412412862036 L 35.028794239551935,49.99321689410948 L 35.02923988815035,49.99342699204544 L 35.03002720067422,49.99350339106729 L 35.031809795067886,49.993742137228274 L 35.030948207777605,49.99371348775154 L 35.028794239551935,49.993446091812274 L 35.02861598011256,49.99343654192981 L 35.028393155813355,49.993532040669194 L 35.0279029423551,49.993923583517876 L 35.02773953786901,49.99400953152136 L 35.02809605674774,49.99410502912283 L 35.02834859095351,49.99410502912283 L 35.028378300860076,49.99419097680201 z M 35.03170581039492,49.99490720148778 L 35.03137900142275,49.994916751078186 L 35.031052192450574,49.99481170547937 L 35.03136414646947,49.99460161359332 L 35.03152755095555,49.994496567306065 L 35.0321068941335,49.99442016986212 L 35.03230000852614,49.99442016986212 L 35.0321068941335,49.99457296462865 L 35.03224058871302,49.99464936182983 L 35.03230000852614,49.994763957404054 L 35.03170581039492,49.99490720148778 z M 35.03425714862087,49.99242424363241 L 35.03348469105028,49.992080439363114 L 35.033128172171544,49.991889435929224 L 35.03283107310593,49.99166023080716 L 35.032593393853446,49.99133552168093 L 35.03265281366657,49.991068112518995 L 35.032920202825615,49.99093440738046 L 35.03324701179779,49.99093440738046 L 35.03345498114372,49.99114451528841 L 35.03348469105028,49.9913737228684 L 35.033633240583086,49.991469225704314 L 35.033841209929015,49.991602929355956 L 35.03431656843399,49.99171753219009 L 35.03485134675209,49.99183213475112 L 35.03508902600458,49.99177483350475 L 35.035148445817704,49.991679331275726 L 35.034791926938965,49.9914310245927 L 35.03473250712585,49.991240018579504 L 35.034791926938965,49.990972608886544 L 35.035059316098014,49.99089620584401 L 35.03529699535051,49.99068609685121 L 35.03559409441612,49.99055239065059 L 35.03592090338829,49.99055239065059 L 35.0362180024539,49.99049508787939 L 35.0362180024539,49.99080070187018 L 35.03624771236046,49.99101081036228 L 35.03630713217358,49.9911636159618 L 35.03630713217358,49.991469225704314 L 35.036099162827654,49.99166023080716 L 35.03583177366861,49.991908536306745 L 35.03574264394892,49.99215684052426 L 35.035504964696436,49.99221414131547 L 35.034940476471775,49.992137740245354 L 35.0347622170324,49.992137740245354 L 35.03458395759304,49.992386043279424 L 35.03425714862087,49.99242424363241 z M 35.036247712360456,49.9940477305847 L 35.035995178154685,49.99403818082171 L 35.03586148357516,49.993894934149246 L 35.036114017780925,49.993770786687946 L 35.03632198712686,49.99375168705007 L 35.03663394114575,49.99378033650404 L 35.03666365105231,49.99383763536076 L 35.03666365105231,49.993990431978304 L 35.036247712360456,49.9940477305847 z M 35.044923005076306,49.992939945427786 L 35.044923005076306,49.993064095034065 L 35.044729890683655,49.993102294848434 L 35.04453677629101,49.9931309446893 L 35.04418025741228,49.9930449951155 L 35.044091127692596,49.99287309550702 L 35.044165402459,49.99257704474093 L 35.0443139519918,49.9922905422642 L 35.04455163124429,49.99245289387724 L 35.04465561591726,49.99270119528409 L 35.044923005076306,49.992939945427786 z M 35.049839994612164,49.99773379744786 L 35.04830993442426,49.997418678425355 L 35.04839906414395,49.99720859792966 L 35.04808711012506,49.997160852234444 L 35.0475968966668,49.99715130308971 L 35.04732950750775,49.99709400818149 L 35.047448347133994,49.99693167223743 L 35.047760301152884,49.99693167223743 L 35.04795341554553,49.9968361802496 L 35.048265369564426,49.996797983401365 L 35.048324789377546,49.996797983401365 L 35.04856246863004,49.99690302466099 L 35.0487407280694,49.99705581153808 L 35.048844712742365,49.9971035573376 L 35.048993262275175,49.996797983401365 L 35.04906753704157,49.996501956798724 L 35.04924579648094,49.99630142161306 L 35.04939434601374,49.99622502703663 L 35.04955775049983,49.99619637903917 L 35.049736009939195,49.996339618855764 L 35.04995883423841,49.996492407523135 L 35.050196513490896,49.99651150607242 L 35.050671871995874,49.99659744945032 L 35.05083527648196,49.996673843435055 L 35.051043245827884,49.99672158961388 L 35.051147230500845,49.99691257385503 L 35.051072955734455,49.99708445902348 L 35.05093926115492,49.99723724532404 L 35.050731291809,49.997361383835745 L 35.05037477293026,49.99755236553562 L 35.05021136844418,49.99763830705307 L 35.049839994612164,49.99773379744786 z M 35.058359310318565,49.99771469938407 L 35.058359310318565,49.99729454006157 L 35.058195905832484,49.99717995051822 L 35.05791366172015,49.99706536070178 L 35.05785424190703,49.99692212304718 L 35.05783938695375,49.99681708182928 L 35.057928516673435,49.996759786522794 L 35.05812163106607,49.996702491148035 L 35.058299890505445,49.99659744945032 L 35.05847814994482,49.99642556254089 L 35.05858213461778,49.996139082993054 L 35.05889408863667,49.996139082993054 L 35.05913176788916,49.99615818168268 L 35.05947343181461,49.99621547770604 L 35.05972596602038,49.99631097092659 L 35.059919080413025,49.99641601325013 L 35.06005277499255,49.99658790019369 L 35.06009733985239,49.996845729456915 L 35.06005277499255,49.997046262372486 L 35.06005277499255,49.99720859792966 L 35.06002306508599,49.99732318740474 L 35.059711111067095,49.99734228562403 L 35.05922089760884,49.99754281646864 L 35.05895350844979,49.99763830705307 L 35.05852271480465,49.99771469938407 L 35.058359310318565,49.99771469938407 z M 35.0458811495629,49.9997915693757 L 35.045925714422744,49.99951465856032 L 35.045821729749775,49.9994382690892 L 35.045182966758716,49.999342782079616 L 35.04504927217919,49.999304587222674 L 35.04501956227263,49.99912316123785 L 35.045182966758716,49.99884624657267 L 35.04522753161856,49.998645721164294 L 35.045509775730885,49.99843564602993 L 35.045717745076814,49.99840699934958 L 35.04613368376867,49.99827331461561 L 35.04637136302116,49.998149178458355 L 35.04656447741381,49.99809188473923 L 35.04654962246053,49.998235118909044 L 35.04635650806788,49.99837835265216 L 35.0463416531146,49.99857887917565 L 35.046282233301476,49.99881760013696 L 35.04619310358179,49.99906586867936 L 35.046178248628514,49.99928548978283 L 35.04611882881539,49.99942872039678 L 35.04597027928258,49.99981066661453 L 35.0458811495629,49.9997915693757 z M 35.04690614133927,49.99951465856032 L 35.04684672152615,49.99961014522855 L 35.046831866572866,49.999543304580705 L 35.04669817199334,49.999380976906195 L 35.04662389722694,49.99918045372807 L 35.04666846208678,49.99907541744385 L 35.046787301713024,49.999008576052596 L 35.04692099629255,49.999027673602434 L 35.04723295031145,49.999027673602434 L 35.04754490433034,49.99908496620644 L 35.04744091965737,49.999199551209635 L 35.04758946919018,49.99945736646836 L 35.04770830881642,49.99965788849154 L 35.047663743956576,49.99982976384577 L 35.04753004937705,49.999638791192034 L 35.04738149984425,49.99942872039678 L 35.047292370124566,49.99935233078911 L 35.04690614133927,49.99951465856032 z M 35.06286036116259,49.99890353939287 L 35.06237014770433,49.998703014223445 L 35.06189478919936,49.99868391654465 L 35.06156798022718,49.998578879175646 L 35.06152341536734,49.99842609713837 L 35.0615531252739,49.99828286353749 L 35.06187993424608,49.99837835265215 L 35.06229587293793,49.99853113484115 L 35.06244442247074,49.99855023258064 L 35.06271181162978,49.998578879175646 L 35.062934635929,49.998703014223445 L 35.06299405574212,49.99879850250366 L 35.06286036116259,49.99890353939287 z\" /></g></g></svg>"
      ],
      "text/plain": [
       "<shapely.geometry.multipolygon.MultiPolygon at 0x7f11288134a8>"
      ]
     },
     "execution_count": 90,
     "metadata": {},
     "output_type": "execute_result"
    }
   ],
   "source": [
    "multi_poly = shapes.iloc[4]\n",
    "multi_poly"
   ]
  },
  {
   "cell_type": "code",
   "execution_count": 91,
   "metadata": {},
   "outputs": [
    {
     "ename": "NotImplementedError",
     "evalue": "Multi-part geometries do not provide a coordinate sequence",
     "output_type": "error",
     "traceback": [
      "\u001b[0;31m---------------------------------------------------------------------------\u001b[0m",
      "\u001b[0;31mNotImplementedError\u001b[0m                       Traceback (most recent call last)",
      "\u001b[0;32m<ipython-input-91-6136010f9420>\u001b[0m in \u001b[0;36m<module>\u001b[0;34m\u001b[0m\n\u001b[0;32m----> 1\u001b[0;31m \u001b[0mmulti_poly\u001b[0m\u001b[0;34m.\u001b[0m\u001b[0mcoords\u001b[0m\u001b[0;34m\u001b[0m\u001b[0;34m\u001b[0m\u001b[0m\n\u001b[0m",
      "\u001b[0;32m~/.virtualenvs/change_detection/lib/python3.6/site-packages/shapely/geometry/base.py\u001b[0m in \u001b[0;36mcoords\u001b[0;34m(self)\u001b[0m\n\u001b[1;32m    839\u001b[0m     \u001b[0;32mdef\u001b[0m \u001b[0mcoords\u001b[0m\u001b[0;34m(\u001b[0m\u001b[0mself\u001b[0m\u001b[0;34m)\u001b[0m\u001b[0;34m:\u001b[0m\u001b[0;34m\u001b[0m\u001b[0;34m\u001b[0m\u001b[0m\n\u001b[1;32m    840\u001b[0m         raise NotImplementedError(\n\u001b[0;32m--> 841\u001b[0;31m             \"Multi-part geometries do not provide a coordinate sequence\")\n\u001b[0m\u001b[1;32m    842\u001b[0m \u001b[0;34m\u001b[0m\u001b[0m\n\u001b[1;32m    843\u001b[0m     \u001b[0;34m@\u001b[0m\u001b[0mproperty\u001b[0m\u001b[0;34m\u001b[0m\u001b[0;34m\u001b[0m\u001b[0m\n",
      "\u001b[0;31mNotImplementedError\u001b[0m: Multi-part geometries do not provide a coordinate sequence"
     ]
    }
   ],
   "source": [
    "multi_poly."
   ]
  },
  {
   "cell_type": "code",
   "execution_count": 92,
   "metadata": {},
   "outputs": [],
   "source": []
  },
  {
   "cell_type": "code",
   "execution_count": 195,
   "metadata": {
    "scrolled": true
   },
   "outputs": [
    {
     "data": {
      "image/png": "[encoded data removed]",
      "text/plain": [
       "<Figure size 432x288 with 1 Axes>"
      ]
     },
     "metadata": {
      "needs_background": "light"
     },
     "output_type": "display_data"
    }
   ],
   "source": []
  },
  {
   "cell_type": "code",
   "execution_count": 19,
   "metadata": {},
   "outputs": [
    {
     "data": {
      "text/html": [
       "<div>\n",
       "<style scoped>\n",
       "    .dataframe tbody tr th:only-of-type {\n",
       "        vertical-align: middle;\n",
       "    }\n",
       "\n",
       "    .dataframe tbody tr th {\n",
       "        vertical-align: top;\n",
       "    }\n",
       "\n",
       "    .dataframe thead th {\n",
       "        text-align: right;\n",
       "    }\n",
       "</style>\n",
       "<table border=\"1\" class=\"dataframe\">\n",
       "  <thead>\n",
       "    <tr style=\"text-align: right;\">\n",
       "      <th></th>\n",
       "      <th>id</th>\n",
       "      <th>Dates</th>\n",
       "      <th>PlanetImg</th>\n",
       "      <th>FIRMSSourc</th>\n",
       "      <th>Note</th>\n",
       "      <th>Editor</th>\n",
       "      <th>geometry</th>\n",
       "    </tr>\n",
       "  </thead>\n",
       "  <tbody>\n",
       "    <tr>\n",
       "      <th>0</th>\n",
       "      <td>0</td>\n",
       "      <td>2017-03-26</td>\n",
       "      <td>20170402_074845_0f17_tms.xml</td>\n",
       "      <td>_</td>\n",
       "      <td>None</td>\n",
       "      <td>Oleksandr Leiberiuk - 0051</td>\n",
       "      <td>POLYGON ((34.97926 50.09216, 34.98053 50.09158...</td>\n",
       "    </tr>\n",
       "    <tr>\n",
       "      <th>1</th>\n",
       "      <td>0</td>\n",
       "      <td>2017-03-27</td>\n",
       "      <td>20170411_075456_0e30_tms.xml</td>\n",
       "      <td>_</td>\n",
       "      <td>None</td>\n",
       "      <td>Oleksandr Leiberiuk - 0052</td>\n",
       "      <td>POLYGON ((34.96350 50.10919, 34.96420 50.10948...</td>\n",
       "    </tr>\n",
       "    <tr>\n",
       "      <th>2</th>\n",
       "      <td>0</td>\n",
       "      <td>2017-04-15</td>\n",
       "      <td>20170402_074845_0f17_tms.xml</td>\n",
       "      <td>M6,V1</td>\n",
       "      <td>None</td>\n",
       "      <td>Oleksandr Leiberiuk - 0079</td>\n",
       "      <td>POLYGON ((34.97092 50.06544, 34.97092 50.06491...</td>\n",
       "    </tr>\n",
       "    <tr>\n",
       "      <th>3</th>\n",
       "      <td>0</td>\n",
       "      <td>2017-04-01</td>\n",
       "      <td>20170402_074845_0f17_tms.xml</td>\n",
       "      <td>_</td>\n",
       "      <td>None</td>\n",
       "      <td>Oleksandr Leiberiuk - 0081</td>\n",
       "      <td>POLYGON ((34.97940 50.07008, 34.98014 50.06984...</td>\n",
       "    </tr>\n",
       "    <tr>\n",
       "      <th>0</th>\n",
       "      <td>0</td>\n",
       "      <td>2017-04-03</td>\n",
       "      <td>20170406_074822_1034_tms.xml</td>\n",
       "      <td>M6,V1</td>\n",
       "      <td>На снимке небольшая облачность</td>\n",
       "      <td>Oleksandr Leiberiuk - 0208</td>\n",
       "      <td>MULTIPOLYGON (((34.99631 49.97869, 34.99660 49...</td>\n",
       "    </tr>\n",
       "  </tbody>\n",
       "</table>\n",
       "</div>"
      ],
      "text/plain": [
       "   id       Dates                     PlanetImg FIRMSSourc  \\\n",
       "0   0  2017-03-26  20170402_074845_0f17_tms.xml          _   \n",
       "1   0  2017-03-27  20170411_075456_0e30_tms.xml          _   \n",
       "2   0  2017-04-15  20170402_074845_0f17_tms.xml      M6,V1   \n",
       "3   0  2017-04-01  20170402_074845_0f17_tms.xml          _   \n",
       "0   0  2017-04-03  20170406_074822_1034_tms.xml      M6,V1   \n",
       "\n",
       "                             Note                      Editor  \\\n",
       "0                            None  Oleksandr Leiberiuk - 0051   \n",
       "1                            None  Oleksandr Leiberiuk - 0052   \n",
       "2                            None  Oleksandr Leiberiuk - 0079   \n",
       "3                            None  Oleksandr Leiberiuk - 0081   \n",
       "0  На снимке небольшая облачность  Oleksandr Leiberiuk - 0208   \n",
       "\n",
       "                                            geometry  \n",
       "0  POLYGON ((34.97926 50.09216, 34.98053 50.09158...  \n",
       "1  POLYGON ((34.96350 50.10919, 34.96420 50.10948...  \n",
       "2  POLYGON ((34.97092 50.06544, 34.97092 50.06491...  \n",
       "3  POLYGON ((34.97940 50.07008, 34.98014 50.06984...  \n",
       "0  MULTIPOLYGON (((34.99631 49.97869, 34.99660 49...  "
      ]
     },
     "execution_count": 19,
     "metadata": {},
     "output_type": "execute_result"
    }
   ],
   "source": [
    "shapes_df.head()\n",
    "shapes = shapes_df['geometry']\n",
    "vertices = _build_polygon_vertices(**window.todict())  # vertices in pixel coordinates\n",
    "#             poly = geometry.Polygon([src.xy(*v) for v in vertices])  # vertices in geo coordinates"
   ]
  },
  {
   "cell_type": "code",
   "execution_count": null,
   "metadata": {},
   "outputs": [],
   "source": [
    "shapes_df = shapes_df.to_crs({'init': src.meta['crs']['init']})"
   ]
  },
  {
   "cell_type": "code",
   "execution_count": 37,
   "metadata": {},
   "outputs": [
    {
     "data": {
      "image/svg+xml": [
       "<svg xmlns=\"http://www.w3.org/2000/svg\" xmlns:xlink=\"http://www.w3.org/1999/xlink\" width=\"100.0\" height=\"100.0\" viewBox=\"34.978095354109676 50.089886018764986 0.010033567349019279 0.002644795783780296\" preserveAspectRatio=\"xMinYMin meet\"><g transform=\"matrix(1,0,0,-1,0,100.18241683331375)\"><path fill-rule=\"evenodd\" fill=\"#66cc99\" stroke=\"#555555\" stroke-width=\"0.0002006713469803856\" opacity=\"0.6\" d=\"M 34.98775730785318,50.0902576323705 L 34.98775730785318,50.09215920094325 L 34.97846696771519,50.09215920094325 L 34.97846696771519,50.0902576323705 L 34.98775730785318,50.0902576323705 z\" /></g></svg>"
      ],
      "text/plain": [
       "<shapely.geometry.polygon.Polygon at 0x7f48fc19c160>"
      ]
     },
     "metadata": {},
     "output_type": "display_data"
    },
    {
     "data": {
      "image/svg+xml": [
       "<svg xmlns=\"http://www.w3.org/2000/svg\" xmlns:xlink=\"http://www.w3.org/1999/xlink\" width=\"100.0\" height=\"100.0\" viewBox=\"34.962884334115614 50.09352710742701 0.012634401079424151 0.01656395056907911\" preserveAspectRatio=\"xMinYMin meet\"><g transform=\"matrix(1,0,0,-1,0,100.2036181654231)\"><path fill-rule=\"evenodd\" fill=\"#66cc99\" stroke=\"#555555\" stroke-width=\"0.0003312790113815822\" opacity=\"0.6\" d=\"M 34.97490525554433,50.09414058707772 L 34.97490525554433,50.10947757834538 L 34.963497813766324,50.10947757834538 L 34.963497813766324,50.09414058707772 L 34.97490525554433,50.09414058707772 z\" /></g></svg>"
      ],
      "text/plain": [
       "<shapely.geometry.polygon.Polygon at 0x7f48fc19c160>"
      ]
     },
     "metadata": {},
     "output_type": "display_data"
    },
    {
     "data": {
      "image/svg+xml": [
       "<svg xmlns=\"http://www.w3.org/2000/svg\" xmlns:xlink=\"http://www.w3.org/1999/xlink\" width=\"100.0\" height=\"100.0\" viewBox=\"34.962651373417984 50.04205821995029 0.013474824365736993 0.02428421967081107\" preserveAspectRatio=\"xMinYMin meet\"><g transform=\"matrix(1,0,0,-1,0,100.1084006595714)\"><path fill-rule=\"evenodd\" fill=\"#66cc99\" stroke=\"#555555\" stroke-width=\"0.0004856843934162214\" opacity=\"0.6\" d=\"M 34.975226782240355,50.04295763549366 L 34.975226782240355,50.06544302407774 L 34.96355078896135,50.06544302407774 L 34.96355078896135,50.04295763549366 L 34.975226782240355,50.04295763549366 z\" /></g></svg>"
      ],
      "text/plain": [
       "<shapely.geometry.polygon.Polygon at 0x7f48fc19c160>"
      ]
     },
     "metadata": {},
     "output_type": "display_data"
    },
    {
     "data": {
      "image/svg+xml": [
       "<svg xmlns=\"http://www.w3.org/2000/svg\" xmlns:xlink=\"http://www.w3.org/1999/xlink\" width=\"100.0\" height=\"100.0\" viewBox=\"34.979133040755194 50.06838807495209 0.004026880735459315 0.0018429262464678686\" preserveAspectRatio=\"xMinYMin meet\"><g transform=\"matrix(1,0,0,-1,0,100.13861907615065)\"><path fill-rule=\"evenodd\" fill=\"#66cc99\" stroke=\"#555555\" stroke-width=\"8.05376147091863e-05\" opacity=\"0.6\" d=\"M 34.98301077775971,50.06853721868303 L 34.98301077775971,50.07008185746761 L 34.97928218448614,50.07008185746761 L 34.97928218448614,50.06853721868303 L 34.98301077775971,50.06853721868303 z\" /></g></svg>"
      ],
      "text/plain": [
       "<shapely.geometry.polygon.Polygon at 0x7f48fc19c160>"
      ]
     },
     "metadata": {},
     "output_type": "display_data"
    },
    {
     "data": {
      "image/svg+xml": [
       "<svg xmlns=\"http://www.w3.org/2000/svg\" xmlns:xlink=\"http://www.w3.org/1999/xlink\" width=\"100.0\" height=\"100.0\" viewBox=\"34.98843154889426 49.973496458142975 0.0794627102864851 0.031224246784780973\" preserveAspectRatio=\"xMinYMin meet\"><g transform=\"matrix(1,0,0,-1,0,99.97821716307072)\"><path fill-rule=\"evenodd\" fill=\"#66cc99\" stroke=\"#555555\" stroke-width=\"0.0015892542057297022\" opacity=\"0.6\" d=\"M 35.064951195836805,49.97643952148692 L 35.064951195836805,50.001777641583814 L 34.991374612238204,50.001777641583814 L 34.991374612238204,49.97643952148692 L 35.064951195836805,49.97643952148692 z\" /></g></svg>"
      ],
      "text/plain": [
       "<shapely.geometry.polygon.Polygon at 0x7f48fc19c160>"
      ]
     },
     "metadata": {},
     "output_type": "display_data"
    },
    {
     "data": {
      "image/svg+xml": [
       "<svg xmlns=\"http://www.w3.org/2000/svg\" xmlns:xlink=\"http://www.w3.org/1999/xlink\" width=\"100.0\" height=\"100.0\" viewBox=\"34.98671087152789 49.98070773114268 0.002620470014555565 0.0028885623719148157\" preserveAspectRatio=\"xMinYMin meet\"><g transform=\"matrix(1,0,0,-1,0,99.96430402465728)\"><path fill-rule=\"evenodd\" fill=\"#66cc99\" stroke=\"#555555\" stroke-width=\"5.777124743829631e-05\" opacity=\"0.6\" d=\"M 34.98922435775089,49.98081471493423 L 34.98922435775089,49.98348930972304 L 34.986817855319444,49.98348930972304 L 34.986817855319444,49.98081471493423 L 34.98922435775089,49.98081471493423 z\" /></g></svg>"
      ],
      "text/plain": [
       "<shapely.geometry.polygon.Polygon at 0x7f48fc19c160>"
      ]
     },
     "metadata": {},
     "output_type": "display_data"
    },
    {
     "data": {
      "image/svg+xml": [
       "<svg xmlns=\"http://www.w3.org/2000/svg\" xmlns:xlink=\"http://www.w3.org/1999/xlink\" width=\"100.0\" height=\"100.0\" viewBox=\"35.141199392656425 50.04061763544644 0.01649256333087834 0.010670496648074845\" preserveAspectRatio=\"xMinYMin meet\"><g transform=\"matrix(1,0,0,-1,0,100.09190576754095)\"><path fill-rule=\"evenodd\" fill=\"#66cc99\" stroke=\"#555555\" stroke-width=\"0.0003298512666175668\" opacity=\"0.6\" d=\"M 35.15708112030838,50.04122847112536 L 35.15708112030838,50.05067729641559 L 35.141810228335345,50.05067729641559 L 35.141810228335345,50.04122847112536 L 35.15708112030838,50.04122847112536 z\" /></g></svg>"
      ],
      "text/plain": [
       "<shapely.geometry.polygon.Polygon at 0x7f48fc19c160>"
      ]
     },
     "metadata": {},
     "output_type": "display_data"
    },
    {
     "data": {
      "image/svg+xml": [
       "<svg xmlns=\"http://www.w3.org/2000/svg\" xmlns:xlink=\"http://www.w3.org/1999/xlink\" width=\"100.0\" height=\"100.0\" viewBox=\"35.015022509464536 49.99478000225732 0.02580171690252797 0.0059791220380205345\" preserveAspectRatio=\"xMinYMin meet\"><g transform=\"matrix(1,0,0,-1,0,99.99553912655267)\"><path fill-rule=\"evenodd\" fill=\"#66cc99\" stroke=\"#555555\" stroke-width=\"0.0005160343380505594\" opacity=\"0.6\" d=\"M 35.03986860722252,49.99573562140186 L 35.03986860722252,49.9998035051508 L 35.01597812860908,49.9998035051508 L 35.01597812860908,49.99573562140186 L 35.03986860722252,49.99573562140186 z\" /></g></svg>"
      ],
      "text/plain": [
       "<shapely.geometry.polygon.Polygon at 0x7f48fc19c160>"
      ]
     },
     "metadata": {},
     "output_type": "display_data"
    },
    {
     "data": {
      "image/svg+xml": [
       "<svg xmlns=\"http://www.w3.org/2000/svg\" xmlns:xlink=\"http://www.w3.org/1999/xlink\" width=\"100.0\" height=\"100.0\" viewBox=\"34.99678775721362 49.9977593427059 0.01026774370751582 0.00490702607279303\" preserveAspectRatio=\"xMinYMin meet\"><g transform=\"matrix(1,0,0,-1,0,100.00042571148458)\"><path fill-rule=\"evenodd\" fill=\"#66cc99\" stroke=\"#555555\" stroke-width=\"0.00020535487415031638\" opacity=\"0.6\" d=\"M 35.00667521411715,49.99813962950988 L 35.00667521411715,50.00228608197471 L 34.9971680440176,50.00228608197471 L 34.9971680440176,49.99813962950988 L 35.00667521411715,49.99813962950988 z\" /></g></svg>"
      ],
      "text/plain": [
       "<shapely.geometry.polygon.Polygon at 0x7f48fc19c160>"
      ]
     },
     "metadata": {},
     "output_type": "display_data"
    },
    {
     "data": {
      "image/svg+xml": [
       "<svg xmlns=\"http://www.w3.org/2000/svg\" xmlns:xlink=\"http://www.w3.org/1999/xlink\" width=\"100.0\" height=\"100.0\" viewBox=\"34.98307960632632 49.973269542387385 0.0033691034040259638 0.0019787813579910107\" preserveAspectRatio=\"xMinYMin meet\"><g transform=\"matrix(1,0,0,-1,0,99.94851786613276)\"><path fill-rule=\"evenodd\" fill=\"#66cc99\" stroke=\"#555555\" stroke-width=\"6.738206808051928e-05\" opacity=\"0.6\" d=\"M 34.98632392812279,49.97339432399494 L 34.98632392812279,49.97512354213782 L 34.983204387933874,49.97512354213782 L 34.983204387933874,49.97339432399494 L 34.98632392812279,49.97339432399494 z\" /></g></svg>"
      ],
      "text/plain": [
       "<shapely.geometry.polygon.Polygon at 0x7f48fc19c160>"
      ]
     },
     "metadata": {},
     "output_type": "display_data"
    },
    {
     "data": {
      "image/svg+xml": [
       "<svg xmlns=\"http://www.w3.org/2000/svg\" xmlns:xlink=\"http://www.w3.org/1999/xlink\" width=\"100.0\" height=\"100.0\" viewBox=\"35.021429790286746 49.88228933922273 0.005255164692918868 0.005618209431119681\" preserveAspectRatio=\"xMinYMin meet\"><g transform=\"matrix(1,0,0,-1,0,99.77019688787658)\"><path fill-rule=\"evenodd\" fill=\"#66cc99\" stroke=\"#555555\" stroke-width=\"0.00011236418862239361\" opacity=\"0.6\" d=\"M 35.02647687314888,49.882497421053515 L 35.02647687314888,49.887699466823065 L 35.02163787211753,49.887699466823065 L 35.02163787211753,49.882497421053515 L 35.02647687314888,49.882497421053515 z\" /></g></svg>"
      ],
      "text/plain": [
       "<shapely.geometry.polygon.Polygon at 0x7f48fc19c160>"
      ]
     },
     "metadata": {},
     "output_type": "display_data"
    },
    {
     "data": {
      "image/svg+xml": [
       "<svg xmlns=\"http://www.w3.org/2000/svg\" xmlns:xlink=\"http://www.w3.org/1999/xlink\" width=\"100.0\" height=\"100.0\" viewBox=\"35.09175934213555 49.918791460634736 0.011968338759615449 0.0020438476851580845\" preserveAspectRatio=\"xMinYMin meet\"><g transform=\"matrix(1,0,0,-1,0,99.83962676895463)\"><path fill-rule=\"evenodd\" fill=\"#66cc99\" stroke=\"#555555\" stroke-width=\"0.00023936677519230897\" opacity=\"0.6\" d=\"M 35.103284409089255,49.91923473244065 L 35.103284409089255,49.92039203651398 L 35.09220261394147,49.92039203651398 L 35.09220261394147,49.91923473244065 L 35.103284409089255,49.91923473244065 z\" /></g></svg>"
      ],
      "text/plain": [
       "<shapely.geometry.polygon.Polygon at 0x7f48fc19c160>"
      ]
     },
     "metadata": {},
     "output_type": "display_data"
    },
    {
     "data": {
      "image/svg+xml": [
       "<svg xmlns=\"http://www.w3.org/2000/svg\" xmlns:xlink=\"http://www.w3.org/1999/xlink\" width=\"100.0\" height=\"100.0\" viewBox=\"34.86386154926624 49.98341141826002 0.013187633324356796 0.012523574251162017\" preserveAspectRatio=\"xMinYMin meet\"><g transform=\"matrix(1,0,0,-1,0,99.9793464107712)\"><path fill-rule=\"evenodd\" fill=\"#66cc99\" stroke=\"#555555\" stroke-width=\"0.0002637526664871359\" opacity=\"0.6\" d=\"M 34.87656075172673,49.98389984912389 L 34.87656075172673,49.99544656164731 L 34.86434998013011,49.99544656164731 L 34.86434998013011,49.98389984912389 L 34.87656075172673,49.98389984912389 z\" /></g></svg>"
      ],
      "text/plain": [
       "<shapely.geometry.polygon.Polygon at 0x7f48fc19c160>"
      ]
     },
     "metadata": {},
     "output_type": "display_data"
    },
    {
     "data": {
      "image/svg+xml": [
       "<svg xmlns=\"http://www.w3.org/2000/svg\" xmlns:xlink=\"http://www.w3.org/1999/xlink\" width=\"100.0\" height=\"100.0\" viewBox=\"34.92137873997229 49.97710507043674 0.010011050114833608 0.005193075891384069\" preserveAspectRatio=\"xMinYMin meet\"><g transform=\"matrix(1,0,0,-1,0,99.95940321676487)\"><path fill-rule=\"evenodd\" fill=\"#66cc99\" stroke=\"#555555\" stroke-width=\"0.00020022100229667218\" opacity=\"0.6\" d=\"M 34.93101901045324,49.977475850070626 L 34.93101901045324,49.981927366694244 L 34.92174951960617,49.981927366694244 L 34.92174951960617,49.977475850070626 L 34.93101901045324,49.977475850070626 z\" /></g></svg>"
      ],
      "text/plain": [
       "<shapely.geometry.polygon.Polygon at 0x7f48fc19c160>"
      ]
     },
     "metadata": {},
     "output_type": "display_data"
    },
    {
     "data": {
      "image/svg+xml": [
       "<svg xmlns=\"http://www.w3.org/2000/svg\" xmlns:xlink=\"http://www.w3.org/1999/xlink\" width=\"100.0\" height=\"100.0\" viewBox=\"34.93140583343668 49.97525163515512 0.002791542820482107 0.0017926314645109187\" preserveAspectRatio=\"xMinYMin meet\"><g transform=\"matrix(1,0,0,-1,0,99.95229590177475)\"><path fill-rule=\"evenodd\" fill=\"#66cc99\" stroke=\"#555555\" stroke-width=\"5.5830856409642136e-05\" opacity=\"0.6\" d=\"M 34.934093985782326,49.97535502562995 L 34.934093985782326,49.976940876144795 L 34.93150922391151,49.976940876144795 L 34.93150922391151,49.97535502562995 L 34.934093985782326,49.97535502562995 z\" /></g></svg>"
      ],
      "text/plain": [
       "<shapely.geometry.polygon.Polygon at 0x7f48fc19c160>"
      ]
     },
     "metadata": {},
     "output_type": "display_data"
    },
    {
     "data": {
      "image/svg+xml": [
       "<svg xmlns=\"http://www.w3.org/2000/svg\" xmlns:xlink=\"http://www.w3.org/1999/xlink\" width=\"100.0\" height=\"100.0\" viewBox=\"34.915579366211574 49.97404683130547 0.010171483610264431 0.004555649174115217\" preserveAspectRatio=\"xMinYMin meet\"><g transform=\"matrix(1,0,0,-1,0,99.95264931178505)\"><path fill-rule=\"evenodd\" fill=\"#66cc99\" stroke=\"#555555\" stroke-width=\"0.00020342967220528862\" opacity=\"0.6\" d=\"M 34.92537412820664,49.97442355292067 L 34.92537412820664,49.97822575886439 L 34.91595608782677,49.97822575886439 L 34.91595608782677,49.97442355292067 L 34.92537412820664,49.97442355292067 z\" /></g></svg>"
      ],
      "text/plain": [
       "<shapely.geometry.polygon.Polygon at 0x7f48fc19c160>"
      ]
     },
     "metadata": {},
     "output_type": "display_data"
    },
    {
     "data": {
      "image/svg+xml": [
       "<svg xmlns=\"http://www.w3.org/2000/svg\" xmlns:xlink=\"http://www.w3.org/1999/xlink\" width=\"100.0\" height=\"100.0\" viewBox=\"34.9268501163646 49.96484499503075 0.018706545567141575 0.00942110977316446\" preserveAspectRatio=\"xMinYMin meet\"><g transform=\"matrix(1,0,0,-1,0,99.93911109983466)\"><path fill-rule=\"evenodd\" fill=\"#66cc99\" stroke=\"#555555\" stroke-width=\"0.0003741309113428315\" opacity=\"0.6\" d=\"M 34.94486382691073,49.96553783005176 L 34.94486382691073,49.97357326978291 L 34.927542951385604,49.97357326978291 L 34.927542951385604,49.96553783005176 L 34.94486382691073,49.96553783005176 z\" /></g></svg>"
      ],
      "text/plain": [
       "<shapely.geometry.polygon.Polygon at 0x7f48fbe8a128>"
      ]
     },
     "metadata": {},
     "output_type": "display_data"
    },
    {
     "data": {
      "image/svg+xml": [
       "<svg xmlns=\"http://www.w3.org/2000/svg\" xmlns:xlink=\"http://www.w3.org/1999/xlink\" width=\"100.0\" height=\"100.0\" viewBox=\"35.01929049239999 49.93266324425535 0.002213982237037726 0.0019711697284066076\" preserveAspectRatio=\"xMinYMin meet\"><g transform=\"matrix(1,0,0,-1,0,99.86729765823911)\"><path fill-rule=\"evenodd\" fill=\"#66cc99\" stroke=\"#555555\" stroke-width=\"4.427964474075452e-05\" opacity=\"0.6\" d=\"M 35.02142247529491,49.932745243597466 L 35.02142247529491,49.934552414641644 L 35.019372491742104,49.934552414641644 L 35.019372491742104,49.932745243597466 L 35.02142247529491,49.932745243597466 z\" /></g></svg>"
      ],
      "text/plain": [
       "<shapely.geometry.polygon.Polygon at 0x7f48fbe8a128>"
      ]
     },
     "metadata": {},
     "output_type": "display_data"
    },
    {
     "data": {
      "image/svg+xml": [
       "<svg xmlns=\"http://www.w3.org/2000/svg\" xmlns:xlink=\"http://www.w3.org/1999/xlink\" width=\"100.0\" height=\"100.0\" viewBox=\"35.06388803314083 49.91711208473576 0.016572780078647043 0.01223556860335151\" preserveAspectRatio=\"xMinYMin meet\"><g transform=\"matrix(1,0,0,-1,0,99.84645973807488)\"><path fill-rule=\"evenodd\" fill=\"#66cc99\" stroke=\"#555555\" stroke-width=\"0.00033145560157294085\" opacity=\"0.6\" d=\"M 35.0798470065499,49.91772589140534 L 35.0798470065499,49.92873384666954 L 35.064501839810404,49.92873384666954 L 35.064501839810404,49.91772589140534 L 35.0798470065499,49.91772589140534 z\" /></g></svg>"
      ],
      "text/plain": [
       "<shapely.geometry.polygon.Polygon at 0x7f48fbe8a278>"
      ]
     },
     "metadata": {},
     "output_type": "display_data"
    },
    {
     "data": {
      "image/svg+xml": [
       "<svg xmlns=\"http://www.w3.org/2000/svg\" xmlns:xlink=\"http://www.w3.org/1999/xlink\" width=\"100.0\" height=\"100.0\" viewBox=\"35.19793289613805 50.23624930819475 0.0023457743362840233 0.001945055309725774\" preserveAspectRatio=\"xMinYMin meet\"><g transform=\"matrix(1,0,0,-1,0,100.47444367169922)\"><path fill-rule=\"evenodd\" fill=\"#66cc99\" stroke=\"#555555\" stroke-width=\"4.6915486725680465e-05\" opacity=\"0.6\" d=\"M 35.20019178994336,50.23633618872572 L 35.20019178994336,50.238107482973504 L 35.19801977666902,50.238107482973504 L 35.19801977666902,50.23633618872572 L 35.20019178994336,50.23633618872572 z\" /></g></svg>"
      ],
      "text/plain": [
       "<shapely.geometry.polygon.Polygon at 0x7f48fbe8a278>"
      ]
     },
     "metadata": {},
     "output_type": "display_data"
    },
    {
     "data": {
      "image/svg+xml": [
       "<svg xmlns=\"http://www.w3.org/2000/svg\" xmlns:xlink=\"http://www.w3.org/1999/xlink\" width=\"100.0\" height=\"100.0\" viewBox=\"35.20139301781944 50.22283857810628 0.003788362831855352 0.00198803097345035\" preserveAspectRatio=\"xMinYMin meet\"><g transform=\"matrix(1,0,0,-1,0,100.447665187186)\"><path fill-rule=\"evenodd\" fill=\"#66cc99\" stroke=\"#555555\" stroke-width=\"7.576725663710704e-05\" opacity=\"0.6\" d=\"M 35.205041070916785,50.22297888784079 L 35.205041070916785,50.224686299345215 L 35.20153332755395,50.224686299345215 L 35.20153332755395,50.22297888784079 L 35.205041070916785,50.22297888784079 z\" /></g></svg>"
      ],
      "text/plain": [
       "<shapely.geometry.polygon.Polygon at 0x7f48fc19c160>"
      ]
     },
     "metadata": {},
     "output_type": "display_data"
    },
    {
     "data": {
      "image/svg+xml": [
       "<svg xmlns=\"http://www.w3.org/2000/svg\" xmlns:xlink=\"http://www.w3.org/1999/xlink\" width=\"100.0\" height=\"100.0\" viewBox=\"35.121602190818955 50.17339726951234 0.007347854091001693 0.004135701928710489\" preserveAspectRatio=\"xMinYMin meet\"><g transform=\"matrix(1,0,0,-1,0,100.3509302409534)\"><path fill-rule=\"evenodd\" fill=\"#66cc99\" stroke=\"#555555\" stroke-width=\"0.00014695708182003387\" opacity=\"0.6\" d=\"M 35.12867790216585,50.17366941225645 L 35.12867790216585,50.177260828696944 L 35.12187433356306,50.177260828696944 L 35.12187433356306,50.17366941225645 L 35.12867790216585,50.17366941225645 z\" /></g></svg>"
      ],
      "text/plain": [
       "<shapely.geometry.polygon.Polygon at 0x7f48fc19c160>"
      ]
     },
     "metadata": {},
     "output_type": "display_data"
    },
    {
     "data": {
      "image/svg+xml": [
       "<svg xmlns=\"http://www.w3.org/2000/svg\" xmlns:xlink=\"http://www.w3.org/1999/xlink\" width=\"100.0\" height=\"100.0\" viewBox=\"35.29258517310843 50.00786659948933 0.008659180983109138 0.01587597661837492\" preserveAspectRatio=\"xMinYMin meet\"><g transform=\"matrix(1,0,0,-1,0,100.03160917559704)\"><path fill-rule=\"evenodd\" fill=\"#66cc99\" stroke=\"#555555\" stroke-width=\"0.00031751953236749844\" opacity=\"0.6\" d=\"M 35.300656354957525,50.008454598623345 L 35.300656354957525,50.023154576973695 L 35.29317317224244,50.023154576973695 L 35.29317317224244,50.008454598623345 L 35.300656354957525,50.008454598623345 z\" /></g></svg>"
      ],
      "text/plain": [
       "<shapely.geometry.polygon.Polygon at 0x7f48fc19c160>"
      ]
     },
     "metadata": {},
     "output_type": "display_data"
    },
    {
     "data": {
      "image/svg+xml": [
       "<svg xmlns=\"http://www.w3.org/2000/svg\" xmlns:xlink=\"http://www.w3.org/1999/xlink\" width=\"100.0\" height=\"100.0\" viewBox=\"35.29319931696023 50.03403642208688 0.004107097483007749 0.002575121288174387\" preserveAspectRatio=\"xMinYMin meet\"><g transform=\"matrix(1,0,0,-1,0,100.07064796546193)\"><path fill-rule=\"evenodd\" fill=\"#66cc99\" stroke=\"#555555\" stroke-width=\"8.214194966015498e-05\" opacity=\"0.6\" d=\"M 35.29715429972164,50.03418853680847 L 35.29715429972164,50.03645942865346 L 35.29335143168182,50.03645942865346 L 35.29335143168182,50.03418853680847 L 35.29715429972164,50.03418853680847 z\" /></g></svg>"
      ],
      "text/plain": [
       "<shapely.geometry.polygon.Polygon at 0x7f48fc19c160>"
      ]
     },
     "metadata": {},
     "output_type": "display_data"
    },
    {
     "data": {
      "image/svg+xml": [
       "<svg xmlns=\"http://www.w3.org/2000/svg\" xmlns:xlink=\"http://www.w3.org/1999/xlink\" width=\"100.0\" height=\"100.0\" viewBox=\"35.27669962325244 50.034641710355274 0.003994794036209726 0.0023950318667260717\" preserveAspectRatio=\"xMinYMin meet\"><g transform=\"matrix(1,0,0,-1,0,100.07167845257727)\"><path fill-rule=\"evenodd\" fill=\"#66cc99\" stroke=\"#555555\" stroke-width=\"7.989588072419451e-05\" opacity=\"0.6\" d=\"M 35.280546461953975,50.03478966568995 L 35.280546461953975,50.036888786887324 L 35.276847578587116,50.036888786887324 L 35.276847578587116,50.03478966568995 L 35.280546461953975,50.03478966568995 z\" /></g></svg>"
      ],
      "text/plain": [
       "<shapely.geometry.polygon.Polygon at 0x7f48fc19c160>"
      ]
     },
     "metadata": {},
     "output_type": "display_data"
    },
    {
     "data": {
      "image/svg+xml": [
       "<svg xmlns=\"http://www.w3.org/2000/svg\" xmlns:xlink=\"http://www.w3.org/1999/xlink\" width=\"100.0\" height=\"100.0\" viewBox=\"35.28204978102089 50.04069216117345 0.0010933289716206218 0.0011230940055071414\" preserveAspectRatio=\"xMinYMin meet\"><g transform=\"matrix(1,0,0,-1,0,100.08250741635241)\"><path fill-rule=\"evenodd\" fill=\"#66cc99\" stroke=\"#555555\" stroke-width=\"2.246188011014283e-05\" opacity=\"0.6\" d=\"M 35.28310151391823,50.04073375724773 L 35.28310151391823,50.041773659104685 L 35.28209137709516,50.041773659104685 L 35.28209137709516,50.04073375724773 L 35.28310151391823,50.04073375724773 z\" /></g></svg>"
      ],
      "text/plain": [
       "<shapely.geometry.polygon.Polygon at 0x7f48fc19c160>"
      ]
     },
     "metadata": {},
     "output_type": "display_data"
    },
    {
     "data": {
      "image/svg+xml": [
       "<svg xmlns=\"http://www.w3.org/2000/svg\" xmlns:xlink=\"http://www.w3.org/1999/xlink\" width=\"100.0\" height=\"100.0\" viewBox=\"35.337286001297976 50.01049000645033 0.006199852416862939 0.011803747487981298\" preserveAspectRatio=\"xMinYMin meet\"><g transform=\"matrix(1,0,0,-1,0,100.03278376038864)\"><path fill-rule=\"evenodd\" fill=\"#66cc99\" stroke=\"#555555\" stroke-width=\"0.00023607494975962594\" opacity=\"0.6\" d=\"M 35.34304867788195,50.01092718228322 L 35.34304867788195,50.02185657810543 L 35.33772317713086,50.02185657810543 L 35.33772317713086,50.01092718228322 L 35.34304867788195,50.01092718228322 z\" /></g></svg>"
      ],
      "text/plain": [
       "<shapely.geometry.polygon.Polygon at 0x7f48fc19c160>"
      ]
     },
     "metadata": {},
     "output_type": "display_data"
    },
    {
     "data": {
      "image/svg+xml": [
       "<svg xmlns=\"http://www.w3.org/2000/svg\" xmlns:xlink=\"http://www.w3.org/1999/xlink\" width=\"100.0\" height=\"100.0\" viewBox=\"35.35099349972074 50.02638600631827 0.0029066778568207496 0.002190735459201676\" preserveAspectRatio=\"xMinYMin meet\"><g transform=\"matrix(1,0,0,-1,0,100.05496274809573)\"><path fill-rule=\"evenodd\" fill=\"#66cc99\" stroke=\"#555555\" stroke-width=\"5.813355713641499e-05\" opacity=\"0.6\" d=\"M 35.35379252284212,50.026493661053706 L 35.35379252284212,50.02846908704203 L 35.351101154456174,50.02846908704203 L 35.351101154456174,50.026493661053706 L 35.35379252284212,50.026493661053706 z\" /></g></svg>"
      ],
      "text/plain": [
       "<shapely.geometry.polygon.Polygon at 0x7f48fc19c160>"
      ]
     },
     "metadata": {},
     "output_type": "display_data"
    },
    {
     "data": {
      "image/svg+xml": [
       "<svg xmlns=\"http://www.w3.org/2000/svg\" xmlns:xlink=\"http://www.w3.org/1999/xlink\" width=\"100.0\" height=\"100.0\" viewBox=\"35.336223656393905 50.02517896534077 0.0020706068939020383 0.005091419968842104\" preserveAspectRatio=\"xMinYMin meet\"><g transform=\"matrix(1,0,0,-1,0,100.05544935065038)\"><path fill-rule=\"evenodd\" fill=\"#66cc99\" stroke=\"#555555\" stroke-width=\"0.00010182839937684208\" opacity=\"0.6\" d=\"M 35.33810569217785,50.02536753645073 L 35.33810569217785,50.030081814199654 L 35.336412227503864,50.030081814199654 L 35.336412227503864,50.02536753645073 L 35.33810569217785,50.02536753645073 z\" /></g></svg>"
      ],
      "text/plain": [
       "<shapely.geometry.polygon.Polygon at 0x7f48fc19c160>"
      ]
     },
     "metadata": {},
     "output_type": "display_data"
    },
    {
     "data": {
      "image/svg+xml": [
       "<svg xmlns=\"http://www.w3.org/2000/svg\" xmlns:xlink=\"http://www.w3.org/1999/xlink\" width=\"100.0\" height=\"100.0\" viewBox=\"35.33936832427954 50.02473537825207 0.0020500614070186884 0.005215139634564991\" preserveAspectRatio=\"xMinYMin meet\"><g transform=\"matrix(1,0,0,-1,0,100.0546858961387)\"><path fill-rule=\"evenodd\" fill=\"#66cc99\" stroke=\"#555555\" stroke-width=\"0.00010430279269129983\" opacity=\"0.6\" d=\"M 35.34122523236676,50.02492853157187 L 35.34122523236676,50.029757364566834 L 35.33956147759934,50.029757364566834 L 35.33956147759934,50.02492853157187 L 35.34122523236676,50.02492853157187 z\" /></g></svg>"
      ],
      "text/plain": [
       "<shapely.geometry.polygon.Polygon at 0x7f48fc19c160>"
      ]
     },
     "metadata": {},
     "output_type": "display_data"
    },
    {
     "data": {
      "image/svg+xml": [
       "<svg xmlns=\"http://www.w3.org/2000/svg\" xmlns:xlink=\"http://www.w3.org/1999/xlink\" width=\"100.0\" height=\"100.0\" viewBox=\"35.25830480917794 49.993720053914636 0.0011770638896280161 0.002253515398280115\" preserveAspectRatio=\"xMinYMin meet\"><g transform=\"matrix(1,0,0,-1,0,99.98969362322755)\"><path fill-rule=\"evenodd\" fill=\"#66cc99\" stroke=\"#555555\" stroke-width=\"4.507030796560229e-05\" opacity=\"0.6\" d=\"M 35.2593984095343,49.99380351744791 L 35.2593984095343,49.995890105779644 L 35.258388272711215,49.995890105779644 L 35.258388272711215,49.99380351744791 L 35.2593984095343,49.99380351744791 z\" /></g></svg>"
      ],
      "text/plain": [
       "<shapely.geometry.polygon.Polygon at 0x7f48fc19c160>"
      ]
     },
     "metadata": {},
     "output_type": "display_data"
    },
    {
     "data": {
      "image/svg+xml": [
       "<svg xmlns=\"http://www.w3.org/2000/svg\" xmlns:xlink=\"http://www.w3.org/1999/xlink\" width=\"100.0\" height=\"100.0\" viewBox=\"35.358750491042855 49.97080380510668 0.00575755706729808 0.0022131131919493896\" preserveAspectRatio=\"xMinYMin meet\"><g transform=\"matrix(1,0,0,-1,0,99.94382072340531)\"><path fill-rule=\"evenodd\" fill=\"#66cc99\" stroke=\"#555555\" stroke-width=\"0.00011515114134596161\" opacity=\"0.6\" d=\"M 35.36429480525581,49.97101704796102 L 35.36429480525581,49.97280367544428 L 35.3589637338972,49.97280367544428 L 35.3589637338972,49.97101704796102 L 35.36429480525581,49.97101704796102 z\" /></g></svg>"
      ],
      "text/plain": [
       "<shapely.geometry.polygon.Polygon at 0x7f48fc19c160>"
      ]
     },
     "metadata": {},
     "output_type": "display_data"
    },
    {
     "data": {
      "image/svg+xml": [
       "<svg xmlns=\"http://www.w3.org/2000/svg\" xmlns:xlink=\"http://www.w3.org/1999/xlink\" width=\"100.0\" height=\"100.0\" viewBox=\"35.355487006356704 49.97722213634113 0.006385253118104117 0.005523895005616453\" preserveAspectRatio=\"xMinYMin meet\"><g transform=\"matrix(1,0,0,-1,0,99.95996816768789)\"><path fill-rule=\"evenodd\" fill=\"#66cc99\" stroke=\"#555555\" stroke-width=\"0.00012770506236208233\" opacity=\"0.6\" d=\"M 35.361635768618584,49.97745862719736 L 35.361635768618584,49.982509540490526 L 35.35572349721293,49.982509540490526 L 35.35572349721293,49.97745862719736 L 35.361635768618584,49.97745862719736 z\" /></g></svg>"
      ],
      "text/plain": [
       "<shapely.geometry.polygon.Polygon at 0x7f48fc19c160>"
      ]
     },
     "metadata": {},
     "output_type": "display_data"
    },
    {
     "data": {
      "image/svg+xml": [
       "<svg xmlns=\"http://www.w3.org/2000/svg\" xmlns:xlink=\"http://www.w3.org/1999/xlink\" width=\"100.0\" height=\"100.0\" viewBox=\"35.34558647709429 49.9860282012196 0.0037701871426065736 0.0014731741604734339\" preserveAspectRatio=\"xMinYMin meet\"><g transform=\"matrix(1,0,0,-1,0,99.97352957659967)\"><path fill-rule=\"evenodd\" fill=\"#66cc99\" stroke=\"#555555\" stroke-width=\"7.540374285213148e-05\" opacity=\"0.6\" d=\"M 35.349217027676055,49.986167837780435 L 35.349217027676055,49.98736173881923 L 35.345726113655125,49.98736173881923 L 35.345726113655125,49.986167837780435 L 35.349217027676055,49.986167837780435 z\" /></g></svg>"
      ],
      "text/plain": [
       "<shapely.geometry.polygon.Polygon at 0x7f48fc19c160>"
      ]
     },
     "metadata": {},
     "output_type": "display_data"
    },
    {
     "data": {
      "image/svg+xml": [
       "<svg xmlns=\"http://www.w3.org/2000/svg\" xmlns:xlink=\"http://www.w3.org/1999/xlink\" width=\"100.0\" height=\"100.0\" viewBox=\"35.34443076172905 49.992051324473195 0.008502975257783874 0.0017567481399822782\" preserveAspectRatio=\"xMinYMin meet\"><g transform=\"matrix(1,0,0,-1,0,99.98585939708637)\"><path fill-rule=\"evenodd\" fill=\"#66cc99\" stroke=\"#555555\" stroke-width=\"0.00017005950515567748\" opacity=\"0.6\" d=\"M 35.35261881197729,49.99236624948274 L 35.35261881197729,49.99349314760363 L 35.3447456867386,49.99349314760363 L 35.3447456867386,49.99236624948274 L 35.35261881197729,49.99236624948274 z\" /></g></svg>"
      ],
      "text/plain": [
       "<shapely.geometry.polygon.Polygon at 0x7f48fc19c160>"
      ]
     },
     "metadata": {},
     "output_type": "display_data"
    },
    {
     "data": {
      "image/svg+xml": [
       "<svg xmlns=\"http://www.w3.org/2000/svg\" xmlns:xlink=\"http://www.w3.org/1999/xlink\" width=\"100.0\" height=\"100.0\" viewBox=\"35.350605606271195 49.966643295041706 0.0028529620146784396 0.00418221917454531\" preserveAspectRatio=\"xMinYMin meet\"><g transform=\"matrix(1,0,0,-1,0,99.93746880925795)\"><path fill-rule=\"evenodd\" fill=\"#66cc99\" stroke=\"#555555\" stroke-width=\"8.36443834909062e-05\" opacity=\"0.6\" d=\"M 35.353303671279406,49.966798192048174 L 35.353303671279406,49.970670617209784 L 35.35076050327766,49.970670617209784 L 35.35076050327766,49.966798192048174 L 35.353303671279406,49.966798192048174 z\" /></g></svg>"
      ],
      "text/plain": [
       "<shapely.geometry.polygon.Polygon at 0x7f48fc19c160>"
      ]
     },
     "metadata": {},
     "output_type": "display_data"
    },
    {
     "data": {
      "image/svg+xml": [
       "<svg xmlns=\"http://www.w3.org/2000/svg\" xmlns:xlink=\"http://www.w3.org/1999/xlink\" width=\"100.0\" height=\"100.0\" viewBox=\"35.376933334051635 49.963888186649136 0.007588504334179902 0.0030178622542180733\" preserveAspectRatio=\"xMinYMin meet\"><g transform=\"matrix(1,0,0,-1,0,99.9307942355525)\"><path fill-rule=\"evenodd\" fill=\"#66cc99\" stroke=\"#555555\" stroke-width=\"0.00015177008668359804\" opacity=\"0.6\" d=\"M 35.384240782669735,49.964169242365216 L 35.384240782669735,49.966624993187274 L 35.377214389767715,49.966624993187274 L 35.377214389767715,49.964169242365216 L 35.384240782669735,49.964169242365216 z\" /></g></svg>"
      ],
      "text/plain": [
       "<shapely.geometry.polygon.Polygon at 0x7f48fc19c160>"
      ]
     },
     "metadata": {},
     "output_type": "display_data"
    },
    {
     "data": {
      "image/svg+xml": [
       "<svg xmlns=\"http://www.w3.org/2000/svg\" xmlns:xlink=\"http://www.w3.org/1999/xlink\" width=\"100.0\" height=\"100.0\" viewBox=\"35.20434317613463 50.006655339881846 0.002091483185139964 0.005974875508421462\" preserveAspectRatio=\"xMinYMin meet\"><g transform=\"matrix(1,0,0,-1,0,100.01928555527212)\"><path fill-rule=\"evenodd\" fill=\"#66cc99\" stroke=\"#555555\" stroke-width=\"0.00011949751016842924\" opacity=\"0.6\" d=\"M 35.20621336763427,50.006876631567344 L 35.20621336763427,50.01240892370477 L 35.20456446782013,50.01240892370477 L 35.20456446782013,50.006876631567344 L 35.20621336763427,50.006876631567344 z\" /></g></svg>"
      ],
      "text/plain": [
       "<shapely.geometry.polygon.Polygon at 0x7f48fc19c160>"
      ]
     },
     "metadata": {},
     "output_type": "display_data"
    },
    {
     "data": {
      "image/svg+xml": [
       "<svg xmlns=\"http://www.w3.org/2000/svg\" xmlns:xlink=\"http://www.w3.org/1999/xlink\" width=\"100.0\" height=\"100.0\" viewBox=\"35.19332818115869 50.0132235432621 0.009385359482656952 0.004732951209582836\" preserveAspectRatio=\"xMinYMin meet\"><g transform=\"matrix(1,0,0,-1,0,100.03118003773378)\"><path fill-rule=\"evenodd\" fill=\"#66cc99\" stroke=\"#555555\" stroke-width=\"0.00018770718965313904\" opacity=\"0.6\" d=\"M 35.20236593473458,50.01357114916887 L 35.20236593473458,50.017608888564915 L 35.19367578706546,50.017608888564915 L 35.19367578706546,50.01357114916887 L 35.20236593473458,50.01357114916887 z\" /></g></svg>"
      ],
      "text/plain": [
       "<shapely.geometry.polygon.Polygon at 0x7f48fc19c160>"
      ]
     },
     "metadata": {},
     "output_type": "display_data"
    },
    {
     "data": {
      "image/svg+xml": [
       "<svg xmlns=\"http://www.w3.org/2000/svg\" xmlns:xlink=\"http://www.w3.org/1999/xlink\" width=\"100.0\" height=\"100.0\" viewBox=\"35.178577806749225 50.01190893027797 0.007764981178823405 0.0031334858570133406\" preserveAspectRatio=\"xMinYMin meet\"><g transform=\"matrix(1,0,0,-1,0,100.02695134641294)\"><path fill-rule=\"evenodd\" fill=\"#66cc99\" stroke=\"#555555\" stroke-width=\"0.0001552996235764681\" opacity=\"0.6\" d=\"M 35.186055196032534,50.01219652217348 L 35.186055196032534,50.01475482423947 L 35.17886539864474,50.01475482423947 L 35.17886539864474,50.01219652217348 L 35.186055196032534,50.01219652217348 z\" /></g></svg>"
      ],
      "text/plain": [
       "<shapely.geometry.polygon.Polygon at 0x7f48fc19c160>"
      ]
     },
     "metadata": {},
     "output_type": "display_data"
    },
    {
     "data": {
      "image/svg+xml": [
       "<svg xmlns=\"http://www.w3.org/2000/svg\" xmlns:xlink=\"http://www.w3.org/1999/xlink\" width=\"100.0\" height=\"100.0\" viewBox=\"35.21413521711969 50.016326532460496 0.0018931152460766043 0.0016865481976040542\" preserveAspectRatio=\"xMinYMin meet\"><g transform=\"matrix(1,0,0,-1,0,100.03433961311859)\"><path fill-rule=\"evenodd\" fill=\"#66cc99\" stroke=\"#555555\" stroke-width=\"3.7862304921532086e-05\" opacity=\"0.6\" d=\"M 35.21595821698628,50.01639664783998 L 35.21595821698628,50.017942965278614 L 35.214205332499176,50.017942965278614 L 35.214205332499176,50.01639664783998 L 35.21595821698628,50.01639664783998 z\" /></g></svg>"
      ],
      "text/plain": [
       "<shapely.geometry.polygon.Polygon at 0x7f48fc19c160>"
      ]
     },
     "metadata": {},
     "output_type": "display_data"
    },
    {
     "data": {
      "image/svg+xml": [
       "<svg xmlns=\"http://www.w3.org/2000/svg\" xmlns:xlink=\"http://www.w3.org/1999/xlink\" width=\"100.0\" height=\"100.0\" viewBox=\"35.13710824009985 50.00117027850006 0.004636528017933017 0.002730465599739773\" preserveAspectRatio=\"xMinYMin meet\"><g transform=\"matrix(1,0,0,-1,0,100.00507102259986)\"><path fill-rule=\"evenodd\" fill=\"#66cc99\" stroke=\"#555555\" stroke-width=\"9.273056035866034e-05\" opacity=\"0.6\" d=\"M 35.14157304485786,50.00134200175999 L 35.14157304485786,50.00372902083988 L 35.137279963359774,50.00372902083988 L 35.137279963359774,50.00134200175999 L 35.14157304485786,50.00134200175999 z\" /></g></svg>"
      ],
      "text/plain": [
       "<shapely.geometry.polygon.Polygon at 0x7f48fc19c160>"
      ]
     },
     "metadata": {},
     "output_type": "display_data"
    },
    {
     "data": {
      "image/svg+xml": [
       "<svg xmlns=\"http://www.w3.org/2000/svg\" xmlns:xlink=\"http://www.w3.org/1999/xlink\" width=\"100.0\" height=\"100.0\" viewBox=\"35.35443319597097 49.97344945179979 0.008166064917389804 0.004576718823663839\" preserveAspectRatio=\"xMinYMin meet\"><g transform=\"matrix(1,0,0,-1,0,99.95147562242323)\"><path fill-rule=\"evenodd\" fill=\"#66cc99\" stroke=\"#555555\" stroke-width=\"0.00016332129834779608\" opacity=\"0.6\" d=\"M 35.36229681403957,49.97375189864858 L 35.36229681403957,49.97772372377466 L 35.35473564281976,49.97772372377466 L 35.35473564281976,49.97375189864858 L 35.36229681403957,49.97375189864858 z\" /></g></svg>"
      ],
      "text/plain": [
       "<shapely.geometry.polygon.Polygon at 0x7f48fc19c160>"
      ]
     },
     "metadata": {},
     "output_type": "display_data"
    },
    {
     "data": {
      "image/svg+xml": [
       "<svg xmlns=\"http://www.w3.org/2000/svg\" xmlns:xlink=\"http://www.w3.org/1999/xlink\" width=\"100.0\" height=\"100.0\" viewBox=\"35.11032024974166 49.954903249702944 0.009651679085479259 0.005862313458216306\" preserveAspectRatio=\"xMinYMin meet\"><g transform=\"matrix(1,0,0,-1,0,99.91566881286411)\"><path fill-rule=\"evenodd\" fill=\"#66cc99\" stroke=\"#555555\" stroke-width=\"0.00019303358170958518\" opacity=\"0.6\" d=\"M 35.119614459231386,49.9552607192987 L 35.119614459231386,49.960408093565405 L 35.11067771933742,49.960408093565405 L 35.11067771933742,49.9552607192987 L 35.119614459231386,49.9552607192987 z\" /></g></svg>"
      ],
      "text/plain": [
       "<shapely.geometry.polygon.Polygon at 0x7f48fc19c160>"
      ]
     },
     "metadata": {},
     "output_type": "display_data"
    },
    {
     "data": {
      "image/svg+xml": [
       "<svg xmlns=\"http://www.w3.org/2000/svg\" xmlns:xlink=\"http://www.w3.org/1999/xlink\" width=\"100.0\" height=\"100.0\" viewBox=\"35.25482709614797 49.960152811136126 0.011795070584533107 0.006240286827065233\" preserveAspectRatio=\"xMinYMin meet\"><g transform=\"matrix(1,0,0,-1,0,99.92654590909932)\"><path fill-rule=\"evenodd\" fill=\"#66cc99\" stroke=\"#555555\" stroke-width=\"0.00023590141169066214\" opacity=\"0.6\" d=\"M 35.26618531226641,49.96058966560222 L 35.26618531226641,49.9659562434971 L 35.255263950614065,49.9659562434971 L 35.255263950614065,49.96058966560222 L 35.26618531226641,49.96058966560222 z\" /></g></svg>"
      ],
      "text/plain": [
       "<shapely.geometry.polygon.Polygon at 0x7f48fc19c160>"
      ]
     },
     "metadata": {},
     "output_type": "display_data"
    },
    {
     "data": {
      "image/svg+xml": [
       "<svg xmlns=\"http://www.w3.org/2000/svg\" xmlns:xlink=\"http://www.w3.org/1999/xlink\" width=\"100.0\" height=\"100.0\" viewBox=\"35.34295036304061 49.92276062564294 0.014743838230643291 0.009282837906845032\" preserveAspectRatio=\"xMinYMin meet\"><g transform=\"matrix(1,0,0,-1,0,99.85480408919273)\"><path fill-rule=\"evenodd\" fill=\"#66cc99\" stroke=\"#555555\" stroke-width=\"0.0002948767646128658\" opacity=\"0.6\" d=\"M 35.35714813318864,49.92330669372555 L 35.35714813318864,49.93149739546717 L 35.34349643112322,49.93149739546717 L 35.34349643112322,49.92330669372555 L 35.35714813318864,49.92330669372555 z\" /></g></svg>"
      ],
      "text/plain": [
       "<shapely.geometry.polygon.Polygon at 0x7f48fc19c160>"
      ]
     },
     "metadata": {},
     "output_type": "display_data"
    },
    {
     "data": {
      "image/svg+xml": [
       "<svg xmlns=\"http://www.w3.org/2000/svg\" xmlns:xlink=\"http://www.w3.org/1999/xlink\" width=\"100.0\" height=\"100.0\" viewBox=\"34.976535510659964 50.04548361639295 0.007067972700149028 0.009585711393434337\" preserveAspectRatio=\"xMinYMin meet\"><g transform=\"matrix(1,0,0,-1,0,100.10055294417933)\"><path fill-rule=\"evenodd\" fill=\"#66cc99\" stroke=\"#555555\" stroke-width=\"0.00019171422786868676\" opacity=\"0.6\" d=\"M 34.98324845701221,50.045838642740854 L 34.98324845701221,50.05471430143848 L 34.97689053700787,50.05471430143848 L 34.97689053700787,50.045838642740854 L 34.98324845701221,50.045838642740854 z\" /></g></svg>"
      ],
      "text/plain": [
       "<shapely.geometry.polygon.Polygon at 0x7f48fc19c160>"
      ]
     },
     "metadata": {},
     "output_type": "display_data"
    },
    {
     "data": {
      "image/svg+xml": [
       "<svg xmlns=\"http://www.w3.org/2000/svg\" xmlns:xlink=\"http://www.w3.org/1999/xlink\" width=\"100.0\" height=\"100.0\" viewBox=\"34.92010777518884 50.033138550931625 0.008695495452684554 0.005872256845528057\" preserveAspectRatio=\"xMinYMin meet\"><g transform=\"matrix(1,0,0,-1,0,100.07214935870877)\"><path fill-rule=\"evenodd\" fill=\"#66cc99\" stroke=\"#555555\" stroke-width=\"0.00017390990905369108\" opacity=\"0.6\" d=\"M 34.928481215254386,50.03346060631876 L 34.928481215254386,50.038688752390016 L 34.920429830575976,50.038688752390016 L 34.920429830575976,50.03346060631876 L 34.928481215254386,50.03346060631876 z\" /></g></svg>"
      ],
      "text/plain": [
       "<shapely.geometry.polygon.Polygon at 0x7f48fc19c160>"
      ]
     },
     "metadata": {},
     "output_type": "display_data"
    },
    {
     "data": {
      "image/svg+xml": [
       "<svg xmlns=\"http://www.w3.org/2000/svg\" xmlns:xlink=\"http://www.w3.org/1999/xlink\" width=\"100.0\" height=\"100.0\" viewBox=\"34.97423447136048 50.03573486888757 0.011230344680591031 0.0051253145463192595\" preserveAspectRatio=\"xMinYMin meet\"><g transform=\"matrix(1,0,0,-1,0,100.07659505232147)\"><path fill-rule=\"evenodd\" fill=\"#66cc99\" stroke=\"#555555\" stroke-width=\"0.00022460689361182063\" opacity=\"0.6\" d=\"M 34.9850488773492,50.036150807579446 L 34.9850488773492,50.04044424474202 L 34.974650410052355,50.04044424474202 L 34.974650410052355,50.036150807579446 L 34.9850488773492,50.036150807579446 z\" /></g></svg>"
      ],
      "text/plain": [
       "<shapely.geometry.polygon.Polygon at 0x7f48fc19c160>"
      ]
     },
     "metadata": {},
     "output_type": "display_data"
    },
    {
     "data": {
      "image/svg+xml": [
       "<svg xmlns=\"http://www.w3.org/2000/svg\" xmlns:xlink=\"http://www.w3.org/1999/xlink\" width=\"100.0\" height=\"100.0\" viewBox=\"34.92011609396265 49.99121939475538 0.03775000147629015 0.024517743547342263\" preserveAspectRatio=\"xMinYMin meet\"><g transform=\"matrix(1,0,0,-1,0,100.00695653305812)\"><path fill-rule=\"evenodd\" fill=\"#66cc99\" stroke=\"#555555\" stroke-width=\"0.0007550000295258031\" opacity=\"0.6\" d=\"M 34.95646794723611,49.99261754295821 L 34.95646794723611,50.0143389900999 L 34.92151424216547,50.0143389900999 L 34.92151424216547,49.99261754295821 L 34.95646794723611,49.99261754295821 z\" /></g></svg>"
      ],
      "text/plain": [
       "<shapely.geometry.polygon.Polygon at 0x7f48fc19c160>"
      ]
     },
     "metadata": {},
     "output_type": "display_data"
    },
    {
     "data": {
      "image/svg+xml": [
       "<svg xmlns=\"http://www.w3.org/2000/svg\" xmlns:xlink=\"http://www.w3.org/1999/xlink\" width=\"100.0\" height=\"100.0\" viewBox=\"35.01757112366661 50.04000469099202 0.003882490589575127 0.002291076855698293\" preserveAspectRatio=\"xMinYMin meet\"><g transform=\"matrix(1,0,0,-1,0,100.08230045883974)\"><path fill-rule=\"evenodd\" fill=\"#66cc99\" stroke=\"#555555\" stroke-width=\"7.764981179150254e-05\" opacity=\"0.6\" d=\"M 35.021309818308424,50.040148486939785 L 35.021309818308424,50.042151971899955 L 35.01771491961438,50.042151971899955 L 35.01771491961438,50.040148486939785 L 35.021309818308424,50.040148486939785 z\" /></g></svg>"
      ],
      "text/plain": [
       "<shapely.geometry.polygon.Polygon at 0x7f48fc19c160>"
      ]
     },
     "metadata": {},
     "output_type": "display_data"
    },
    {
     "data": {
      "image/svg+xml": [
       "<svg xmlns=\"http://www.w3.org/2000/svg\" xmlns:xlink=\"http://www.w3.org/1999/xlink\" width=\"100.0\" height=\"100.0\" viewBox=\"35.06392252374482 50.009729326323885 0.019123672655247503 0.010857136101371623\" preserveAspectRatio=\"xMinYMin meet\"><g transform=\"matrix(1,0,0,-1,0,100.03031578874914)\"><path fill-rule=\"evenodd\" fill=\"#66cc99\" stroke=\"#555555\" stroke-width=\"0.0003824734531049501\" opacity=\"0.6\" d=\"M 35.08233791222765,50.010437610496304 L 35.08233791222765,50.01987817825284 L 35.06463080791724,50.01987817825284 L 35.06463080791724,50.010437610496304 L 35.08233791222765,50.010437610496304 z\" /></g></svg>"
      ],
      "text/plain": [
       "<shapely.geometry.polygon.Polygon at 0x7f48fc19c160>"
      ]
     },
     "metadata": {},
     "output_type": "display_data"
    },
    {
     "data": {
      "image/svg+xml": [
       "<svg xmlns=\"http://www.w3.org/2000/svg\" xmlns:xlink=\"http://www.w3.org/1999/xlink\" width=\"100.0\" height=\"100.0\" viewBox=\"34.95175703663108 50.15030260156511 0.013248907035929847 0.005534008494429088\" preserveAspectRatio=\"xMinYMin meet\"><g transform=\"matrix(1,0,0,-1,0,100.30613921162464)\"><path fill-rule=\"evenodd\" fill=\"#66cc99\" stroke=\"#555555\" stroke-width=\"0.00026497814071859695\" opacity=\"0.6\" d=\"M 34.96451524340642,50.1507933018257 L 34.96451524340642,50.155345909798946 L 34.95224773689167,50.155345909798946 L 34.95224773689167,50.1507933018257 L 34.96451524340642,50.1507933018257 z\" /></g></svg>"
      ],
      "text/plain": [
       "<shapely.geometry.polygon.Polygon at 0x7f48fc19c160>"
      ]
     },
     "metadata": {},
     "output_type": "display_data"
    },
    {
     "data": {
      "image/svg+xml": [
       "<svg xmlns=\"http://www.w3.org/2000/svg\" xmlns:xlink=\"http://www.w3.org/1999/xlink\" width=\"100.0\" height=\"100.0\" viewBox=\"35.110971213618626 50.17682804404532 0.003205461238835028 0.0015902266084282246\" preserveAspectRatio=\"xMinYMin meet\"><g transform=\"matrix(1,0,0,-1,0,100.35524631469907)\"><path fill-rule=\"evenodd\" fill=\"#66cc99\" stroke=\"#555555\" stroke-width=\"6.410922477670055e-05\" opacity=\"0.6\" d=\"M 35.11405795407084,50.176946764831946 L 35.11405795407084,50.17829954986713 L 35.11108993440525,50.17829954986713 L 35.11108993440525,50.176946764831946 L 35.11405795407084,50.176946764831946 z\" /></g></svg>"
      ],
      "text/plain": [
       "<shapely.geometry.polygon.Polygon at 0x7f48fc19c160>"
      ]
     },
     "metadata": {},
     "output_type": "display_data"
    },
    {
     "data": {
      "image/svg+xml": [
       "<svg xmlns=\"http://www.w3.org/2000/svg\" xmlns:xlink=\"http://www.w3.org/1999/xlink\" width=\"100.0\" height=\"100.0\" viewBox=\"35.05979637492358 50.14323013017776 0.03840777880753876 0.013039661171660555\" preserveAspectRatio=\"xMinYMin meet\"><g transform=\"matrix(1,0,0,-1,0,100.29949992152719)\"><path fill-rule=\"evenodd\" fill=\"#66cc99\" stroke=\"#555555\" stroke-width=\"0.0007681555761507753\" opacity=\"0.6\" d=\"M 35.09678164340491,50.14465264050397 L 35.09678164340491,50.154847281023216 L 35.06121888524979,50.154847281023216 L 35.06121888524979,50.14465264050397 L 35.09678164340491,50.14465264050397 z\" /></g></svg>"
      ],
      "text/plain": [
       "<shapely.geometry.polygon.Polygon at 0x7f48fc19c160>"
      ]
     },
     "metadata": {},
     "output_type": "display_data"
    },
    {
     "data": {
      "image/svg+xml": [
       "<svg xmlns=\"http://www.w3.org/2000/svg\" xmlns:xlink=\"http://www.w3.org/1999/xlink\" width=\"100.0\" height=\"100.0\" viewBox=\"35.282007144746736 49.93331066649031 0.011596133050232993 0.008790733354111069\" preserveAspectRatio=\"xMinYMin meet\"><g transform=\"matrix(1,0,0,-1,0,99.87541206633472)\"><path fill-rule=\"evenodd\" fill=\"#66cc99\" stroke=\"#555555\" stroke-width=\"0.00023192266100465985\" opacity=\"0.6\" d=\"M 35.2931737913877,49.933740152899574 L 35.2931737913877,49.94167191343515 L 35.282436631156,49.94167191343515 L 35.282436631156,49.933740152899574 L 35.2931737913877,49.933740152899574 z\" /></g></svg>"
      ],
      "text/plain": [
       "<shapely.geometry.polygon.Polygon at 0x7f48fc19c160>"
      ]
     },
     "metadata": {},
     "output_type": "display_data"
    },
    {
     "data": {
      "image/svg+xml": [
       "<svg xmlns=\"http://www.w3.org/2000/svg\" xmlns:xlink=\"http://www.w3.org/1999/xlink\" width=\"100.0\" height=\"100.0\" viewBox=\"35.2769216406207 49.95106069060305 0.003311347345814397 0.0018510479066904395\" preserveAspectRatio=\"xMinYMin meet\"><g transform=\"matrix(1,0,0,-1,0,99.9039724291128)\"><path fill-rule=\"evenodd\" fill=\"#66cc99\" stroke=\"#555555\" stroke-width=\"6.622694691628795e-05\" opacity=\"0.6\" d=\"M 35.280110345472224,49.95118333309734 L 35.280110345472224,49.95278909601545 L 35.27704428311499,49.95278909601545 L 35.27704428311499,49.95118333309734 L 35.280110345472224,49.95118333309734 z\" /></g></svg>"
      ],
      "text/plain": [
       "<shapely.geometry.polygon.Polygon at 0x7f48fc19c160>"
      ]
     },
     "metadata": {},
     "output_type": "display_data"
    },
    {
     "data": {
      "image/svg+xml": [
       "<svg xmlns=\"http://www.w3.org/2000/svg\" xmlns:xlink=\"http://www.w3.org/1999/xlink\" width=\"100.0\" height=\"100.0\" viewBox=\"35.30993915069105 49.96490461091649 0.0014140734920644604 0.001923608131100707\" preserveAspectRatio=\"xMinYMin meet\"><g transform=\"matrix(1,0,0,-1,0,99.93173282996409)\"><path fill-rule=\"evenodd\" fill=\"#66cc99\" stroke=\"#555555\" stroke-width=\"3.847216262201414e-05\" opacity=\"0.6\" d=\"M 35.31128197943752,49.96497585566209 L 35.31128197943752,49.966756974301994 L 35.31001039543665,49.966756974301994 L 35.31001039543665,49.96497585566209 L 35.31128197943752,49.96497585566209 z\" /></g></svg>"
      ],
      "text/plain": [
       "<shapely.geometry.polygon.Polygon at 0x7f48fc19c160>"
      ]
     },
     "metadata": {},
     "output_type": "display_data"
    },
    {
     "data": {
      "image/svg+xml": [
       "<svg xmlns=\"http://www.w3.org/2000/svg\" xmlns:xlink=\"http://www.w3.org/1999/xlink\" width=\"100.0\" height=\"100.0\" viewBox=\"35.23571233646386 49.95453382962419 0.0022332342564865826 0.0010600069260604528\" preserveAspectRatio=\"xMinYMin meet\"><g transform=\"matrix(1,0,0,-1,0,99.91012766617445)\"><path fill-rule=\"evenodd\" fill=\"#66cc99\" stroke=\"#555555\" stroke-width=\"4.466468512973165e-05\" opacity=\"0.6\" d=\"M 35.23786285834048,49.95461654200406 L 35.23786285834048,49.95551112417038 L 35.235795048843734,49.95551112417038 L 35.235795048843734,49.95461654200406 L 35.23786285834048,49.95461654200406 z\" /></g></svg>"
      ],
      "text/plain": [
       "<shapely.geometry.polygon.Polygon at 0x7f48fc19c160>"
      ]
     },
     "metadata": {},
     "output_type": "display_data"
    },
    {
     "data": {
      "image/svg+xml": [
       "<svg xmlns=\"http://www.w3.org/2000/svg\" xmlns:xlink=\"http://www.w3.org/1999/xlink\" width=\"100.0\" height=\"100.0\" viewBox=\"35.302901408994444 49.91945986721003 0.004315661027249007 0.0011709146857512565\" preserveAspectRatio=\"xMinYMin meet\"><g transform=\"matrix(1,0,0,-1,0,99.8400906491058)\"><path fill-rule=\"evenodd\" fill=\"#66cc99\" stroke=\"#555555\" stroke-width=\"8.631322054498014e-05\" opacity=\"0.6\" d=\"M 35.30705723072439,49.91961970650733 L 35.30705723072439,49.92047094259848 L 35.30306124829175,49.92047094259848 L 35.30306124829175,49.91961970650733 L 35.30705723072439,49.91961970650733 z\" /></g></svg>"
      ],
      "text/plain": [
       "<shapely.geometry.polygon.Polygon at 0x7f48fc19c160>"
      ]
     },
     "metadata": {},
     "output_type": "display_data"
    },
    {
     "data": {
      "image/svg+xml": [
       "<svg xmlns=\"http://www.w3.org/2000/svg\" xmlns:xlink=\"http://www.w3.org/1999/xlink\" width=\"100.0\" height=\"100.0\" viewBox=\"35.34749276392205 49.907301118557946 0.0022572521663093426 0.0023970425436132814\" preserveAspectRatio=\"xMinYMin meet\"><g transform=\"matrix(1,0,0,-1,0,99.81699927965951)\"><path fill-rule=\"evenodd\" fill=\"#66cc99\" stroke=\"#555555\" stroke-width=\"4.794085087226563e-05\" opacity=\"0.6\" d=\"M 35.34966123673489,49.907389897911415 L 35.34966123673489,49.90960938174809 L 35.34758154327552,49.90960938174809 L 35.34758154327552,49.907389897911415 L 35.34966123673489,49.907389897911415 z\" /></g></svg>"
      ],
      "text/plain": [
       "<shapely.geometry.polygon.Polygon at 0x7f48fc19c160>"
      ]
     },
     "metadata": {},
     "output_type": "display_data"
    },
    {
     "data": {
      "image/svg+xml": [
       "<svg xmlns=\"http://www.w3.org/2000/svg\" xmlns:xlink=\"http://www.w3.org/1999/xlink\" width=\"100.0\" height=\"100.0\" viewBox=\"35.34947376722447 49.914615128577026 0.0040589674345596904 0.0034954346952886794\" preserveAspectRatio=\"xMinYMin meet\"><g transform=\"matrix(1,0,0,-1,0,99.83272569184933)\"><path fill-rule=\"evenodd\" fill=\"#66cc99\" stroke=\"#555555\" stroke-width=\"8.117934869119381e-05\" opacity=\"0.6\" d=\"M 35.35338240253182,49.91476546070423 L 35.35338240253182,49.91796023114511 L 35.34962409935167,49.91796023114511 L 35.34962409935167,49.91476546070423 L 35.35338240253182,49.91476546070423 z\" /></g></svg>"
      ],
      "text/plain": [
       "<shapely.geometry.polygon.Polygon at 0x7f48fc19c160>"
      ]
     },
     "metadata": {},
     "output_type": "display_data"
    },
    {
     "data": {
      "image/svg+xml": [
       "<svg xmlns=\"http://www.w3.org/2000/svg\" xmlns:xlink=\"http://www.w3.org/1999/xlink\" width=\"100.0\" height=\"100.0\" viewBox=\"35.33847010913093 49.92754818490362 0.0033530600546427536 0.0019027345868138923\" preserveAspectRatio=\"xMinYMin meet\"><g transform=\"matrix(1,0,0,-1,0,99.85699910439405)\"><path fill-rule=\"evenodd\" fill=\"#66cc99\" stroke=\"#555555\" stroke-width=\"6.706120109285507e-05\" opacity=\"0.6\" d=\"M 35.34169898177614,49.927672372313054 L 35.34169898177614,49.929326732081 L 35.338594296540364,49.929326732081 L 35.338594296540364,49.927672372313054 L 35.34169898177614,49.927672372313054 z\" /></g></svg>"
      ],
      "text/plain": [
       "<shapely.geometry.polygon.Polygon at 0x7f48fc19c160>"
      ]
     },
     "metadata": {},
     "output_type": "display_data"
    },
    {
     "data": {
      "image/svg+xml": [
       "<svg xmlns=\"http://www.w3.org/2000/svg\" xmlns:xlink=\"http://www.w3.org/1999/xlink\" width=\"100.0\" height=\"100.0\" viewBox=\"35.3494437479692 49.93005865470734 0.0018613592887675168 0.0010463026748510629\" preserveAspectRatio=\"xMinYMin meet\"><g transform=\"matrix(1,0,0,-1,0,99.86116361208953)\"><path fill-rule=\"evenodd\" fill=\"#66cc99\" stroke=\"#555555\" stroke-width=\"3.722718577535034e-05\" opacity=\"0.6\" d=\"M 35.351236168025046,49.930127593940256 L 35.351236168025046,49.93103601814927 L 35.349512687202115,49.93103601814927 L 35.349512687202115,49.930127593940256 L 35.351236168025046,49.930127593940256 z\" /></g></svg>"
      ],
      "text/plain": [
       "<shapely.geometry.polygon.Polygon at 0x7f48fc19c160>"
      ]
     },
     "metadata": {},
     "output_type": "display_data"
    },
    {
     "data": {
      "image/svg+xml": [
       "<svg xmlns=\"http://www.w3.org/2000/svg\" xmlns:xlink=\"http://www.w3.org/1999/xlink\" width=\"100.0\" height=\"100.0\" viewBox=\"35.35365068298807 49.931338040347505 0.003786230492309528 0.002259792591786436\" preserveAspectRatio=\"xMinYMin meet\"><g transform=\"matrix(1,0,0,-1,0,99.8649358732868)\"><path fill-rule=\"evenodd\" fill=\"#66cc99\" stroke=\"#555555\" stroke-width=\"7.572460984619056e-05\" opacity=\"0.6\" d=\"M 35.357296682721405,49.93147827110648 L 35.357296682721405,49.93345760218032 L 35.35379091374704,49.93345760218032 L 35.35379091374704,49.93147827110648 L 35.357296682721405,49.93147827110648 z\" /></g></svg>"
      ],
      "text/plain": [
       "<shapely.geometry.polygon.Polygon at 0x7f48fc19c160>"
      ]
     },
     "metadata": {},
     "output_type": "display_data"
    },
    {
     "data": {
      "image/svg+xml": [
       "<svg xmlns=\"http://www.w3.org/2000/svg\" xmlns:xlink=\"http://www.w3.org/1999/xlink\" width=\"100.0\" height=\"100.0\" viewBox=\"35.372966615877 49.93304667437067 0.0017848226367291886 0.0013949554014374144\" preserveAspectRatio=\"xMinYMin meet\"><g transform=\"matrix(1,0,0,-1,0,99.86748830414278)\"><path fill-rule=\"evenodd\" fill=\"#66cc99\" stroke=\"#555555\" stroke-width=\"3.5696452734583775e-05\" opacity=\"0.6\" d=\"M 35.37468533397163,49.93311277891277 L 35.37468533397163,49.93437552523001 L 35.3730327204191,49.93437552523001 L 35.3730327204191,49.93311277891277 L 35.37468533397163,49.93311277891277 z\" /></g></svg>"
      ],
      "text/plain": [
       "<shapely.geometry.polygon.Polygon at 0x7f48fc19c160>"
      ]
     },
     "metadata": {},
     "output_type": "display_data"
    },
    {
     "data": {
      "image/svg+xml": [
       "<svg xmlns=\"http://www.w3.org/2000/svg\" xmlns:xlink=\"http://www.w3.org/1999/xlink\" width=\"100.0\" height=\"100.0\" viewBox=\"35.357098109133396 49.95010815172801 0.0018770718966223399 0.0009515055912387993\" preserveAspectRatio=\"xMinYMin meet\"><g transform=\"matrix(1,0,0,-1,0,99.90116780904725)\"><path fill-rule=\"evenodd\" fill=\"#66cc99\" stroke=\"#555555\" stroke-width=\"3.7541437932446795e-05\" opacity=\"0.6\" d=\"M 35.35890565984866,49.95017767290937 L 35.35890565984866,49.95099013613789 L 35.357167630314756,49.95099013613789 L 35.357167630314756,49.95017767290937 L 35.35890565984866,49.95017767290937 z\" /></g></svg>"
      ],
      "text/plain": [
       "<shapely.geometry.polygon.Polygon at 0x7f48fc19c160>"
      ]
     },
     "metadata": {},
     "output_type": "display_data"
    },
    {
     "data": {
      "image/svg+xml": [
       "<svg xmlns=\"http://www.w3.org/2000/svg\" xmlns:xlink=\"http://www.w3.org/1999/xlink\" width=\"100.0\" height=\"100.0\" viewBox=\"35.34748101237915 49.95598260190337 0.007652677732345126 0.005092016475352068\" preserveAspectRatio=\"xMinYMin meet\"><g transform=\"matrix(1,0,0,-1,0,99.91705722028209)\"><path fill-rule=\"evenodd\" fill=\"#66cc99\" stroke=\"#555555\" stroke-width=\"0.00015305355464690252\" opacity=\"0.6\" d=\"M 35.35485025760289,49.956266034411975 L 35.35485025760289,49.96079118587012 L 35.34776444488775,49.96079118587012 L 35.34776444488775,49.956266034411975 L 35.35485025760289,49.956266034411975 z\" /></g></svg>"
      ],
      "text/plain": [
       "<shapely.geometry.polygon.Polygon at 0x7f48fc19c160>"
      ]
     },
     "metadata": {},
     "output_type": "display_data"
    },
    {
     "data": {
      "image/svg+xml": [
       "<svg xmlns=\"http://www.w3.org/2000/svg\" xmlns:xlink=\"http://www.w3.org/1999/xlink\" width=\"100.0\" height=\"100.0\" viewBox=\"35.1033028292313 49.91872447039379 0.00912866589037975 0.0022256451337057115\" preserveAspectRatio=\"xMinYMin meet\"><g transform=\"matrix(1,0,0,-1,0,99.83967458592129)\"><path fill-rule=\"evenodd\" fill=\"#66cc99\" stroke=\"#555555\" stroke-width=\"0.000182573317807595\" opacity=\"0.6\" d=\"M 35.112093396385,49.919062569130475 L 35.112093396385,49.92061201679081 L 35.10364092796799,49.92061201679081 L 35.10364092796799,49.919062569130475 L 35.112093396385,49.919062569130475 z\" /></g></svg>"
      ],
      "text/plain": [
       "<shapely.geometry.polygon.Polygon at 0x7f48fc19c160>"
      ]
     },
     "metadata": {},
     "output_type": "display_data"
    },
    {
     "data": {
      "image/svg+xml": [
       "<svg xmlns=\"http://www.w3.org/2000/svg\" xmlns:xlink=\"http://www.w3.org/1999/xlink\" width=\"100.0\" height=\"100.0\" viewBox=\"35.27178471231337 50.073516453675154 0.006504329048482305 0.0198247484630798\" preserveAspectRatio=\"xMinYMin meet\"><g transform=\"matrix(1,0,0,-1,0,100.16685765581339)\"><path fill-rule=\"evenodd\" fill=\"#66cc99\" stroke=\"#555555\" stroke-width=\"0.000396494969261596\" opacity=\"0.6\" d=\"M 35.27755479141877,50.07425070361823 L 35.27755479141877,50.092606952195155 L 35.27251896225645,50.092606952195155 L 35.27251896225645,50.07425070361823 L 35.27755479141877,50.07425070361823 z\" /></g></svg>"
      ],
      "text/plain": [
       "<shapely.geometry.polygon.Polygon at 0x7f48fc19c160>"
      ]
     },
     "metadata": {},
     "output_type": "display_data"
    },
    {
     "data": {
      "image/svg+xml": [
       "<svg xmlns=\"http://www.w3.org/2000/svg\" xmlns:xlink=\"http://www.w3.org/1999/xlink\" width=\"100.0\" height=\"100.0\" viewBox=\"35.33199344160909 50.04160806548413 0.00514189352874439 0.0037055519644439983\" preserveAspectRatio=\"xMinYMin meet\"><g transform=\"matrix(1,0,0,-1,0,100.0869216829327)\"><path fill-rule=\"evenodd\" fill=\"#66cc99\" stroke=\"#555555\" stroke-width=\"0.0001028378705748878\" opacity=\"0.6\" d=\"M 35.33694489463677,50.04179850598519 L 35.33694489463677,50.045123176947506 L 35.33218388211016,50.045123176947506 L 35.33218388211016,50.04179850598519 L 35.33694489463677,50.04179850598519 z\" /></g></svg>"
      ],
      "text/plain": [
       "<shapely.geometry.polygon.Polygon at 0x7f48fc19c160>"
      ]
     },
     "metadata": {},
     "output_type": "display_data"
    },
    {
     "data": {
      "image/svg+xml": [
       "<svg xmlns=\"http://www.w3.org/2000/svg\" xmlns:xlink=\"http://www.w3.org/1999/xlink\" width=\"100.0\" height=\"100.0\" viewBox=\"35.36116098428141 50.03288391581617 0.0022870297266948114 0.0034006652180309516\" preserveAspectRatio=\"xMinYMin meet\"><g transform=\"matrix(1,0,0,-1,0,100.06916849685038)\"><path fill-rule=\"evenodd\" fill=\"#66cc99\" stroke=\"#555555\" stroke-width=\"6.801330436061902e-05\" opacity=\"0.6\" d=\"M 35.36332206344448,50.0330098663798 L 35.36332206344448,50.036158630470574 L 35.36128693484504,50.036158630470574 L 35.36128693484504,50.0330098663798 L 35.36332206344448,50.0330098663798 z\" /></g></svg>"
      ],
      "text/plain": [
       "<shapely.geometry.polygon.Polygon at 0x7f48fc19c160>"
      ]
     },
     "metadata": {},
     "output_type": "display_data"
    },
    {
     "data": {
      "image/svg+xml": [
       "<svg xmlns=\"http://www.w3.org/2000/svg\" xmlns:xlink=\"http://www.w3.org/1999/xlink\" width=\"100.0\" height=\"100.0\" viewBox=\"35.122180834412895 50.07924541421656 0.004631891746271322 0.004975022086668446\" preserveAspectRatio=\"xMinYMin meet\"><g transform=\"matrix(1,0,0,-1,0,100.16346585051978)\"><path fill-rule=\"evenodd\" fill=\"#66cc99\" stroke=\"#555555\" stroke-width=\"9.950044173336891e-05\" opacity=\"0.6\" d=\"M 35.12662846608188,50.07942967429384 L 35.12662846608188,50.08403617622594 L 35.12236509449018,50.08403617622594 L 35.12236509449018,50.07942967429384 L 35.12662846608188,50.07942967429384 z\" /></g></svg>"
      ],
      "text/plain": [
       "<shapely.geometry.polygon.Polygon at 0x7f48fc19c160>"
      ]
     },
     "metadata": {},
     "output_type": "display_data"
    },
    {
     "data": {
      "image/svg+xml": [
       "<svg xmlns=\"http://www.w3.org/2000/svg\" xmlns:xlink=\"http://www.w3.org/1999/xlink\" width=\"100.0\" height=\"100.0\" viewBox=\"35.14997659035211 50.07478072957249 0.008727582151749402 0.006661846670482419\" preserveAspectRatio=\"xMinYMin meet\"><g transform=\"matrix(1,0,0,-1,0,100.15622330581546)\"><path fill-rule=\"evenodd\" fill=\"#66cc99\" stroke=\"#555555\" stroke-width=\"0.00017455164303498805\" opacity=\"0.6\" d=\"M 35.15838092872046,50.07510397335589 L 35.15838092872046,50.08111933245957 L 35.15029983413551,50.08111933245957 L 35.15029983413551,50.07510397335589 L 35.15838092872046,50.07510397335589 z\" /></g></svg>"
      ],
      "text/plain": [
       "<shapely.geometry.polygon.Polygon at 0x7f48fc19c160>"
      ]
     },
     "metadata": {},
     "output_type": "display_data"
    },
    {
     "data": {
      "image/svg+xml": [
       "<svg xmlns=\"http://www.w3.org/2000/svg\" xmlns:xlink=\"http://www.w3.org/1999/xlink\" width=\"100.0\" height=\"100.0\" viewBox=\"35.141199392656425 50.04061763544644 0.01649256333087834 0.010670496648074845\" preserveAspectRatio=\"xMinYMin meet\"><g transform=\"matrix(1,0,0,-1,0,100.09190576754095)\"><path fill-rule=\"evenodd\" fill=\"#66cc99\" stroke=\"#555555\" stroke-width=\"0.0003298512666175668\" opacity=\"0.6\" d=\"M 35.15708112030838,50.04122847112536 L 35.15708112030838,50.05067729641559 L 35.141810228335345,50.05067729641559 L 35.141810228335345,50.04122847112536 L 35.15708112030838,50.04122847112536 z\" /></g></svg>"
      ],
      "text/plain": [
       "<shapely.geometry.polygon.Polygon at 0x7f48fc19c160>"
      ]
     },
     "metadata": {},
     "output_type": "display_data"
    },
    {
     "data": {
      "image/svg+xml": [
       "<svg xmlns=\"http://www.w3.org/2000/svg\" xmlns:xlink=\"http://www.w3.org/1999/xlink\" width=\"100.0\" height=\"100.0\" viewBox=\"35.06650829834998 49.87160785698816 0.019524756394694975 0.008851131902346765\" preserveAspectRatio=\"xMinYMin meet\"><g transform=\"matrix(1,0,0,-1,0,99.75206684587867)\"><path fill-rule=\"evenodd\" fill=\"#66cc99\" stroke=\"#555555\" stroke-width=\"0.0003904951278938995\" opacity=\"0.6\" d=\"M 35.08530991561894,49.872330996113895 L 35.08530991561894,49.87973584976478 L 35.06723143747571,49.87973584976478 L 35.06723143747571,49.872330996113895 L 35.08530991561894,49.872330996113895 z\" /></g></svg>"
      ],
      "text/plain": [
       "<shapely.geometry.polygon.Polygon at 0x7f48fc19c160>"
      ]
     },
     "metadata": {},
     "output_type": "display_data"
    },
    {
     "data": {
      "image/svg+xml": [
       "<svg xmlns=\"http://www.w3.org/2000/svg\" xmlns:xlink=\"http://www.w3.org/1999/xlink\" width=\"100.0\" height=\"100.0\" viewBox=\"35.21072197799647 50.19013850067264 0.01706047566370472 0.006327898230090057\" preserveAspectRatio=\"xMinYMin meet\"><g transform=\"matrix(1,0,0,-1,0,100.38660489957536)\"><path fill-rule=\"evenodd\" fill=\"#66cc99\" stroke=\"#555555\" stroke-width=\"0.00034120951327409443\" opacity=\"0.6\" d=\"M 35.22715058419115,50.190770370141664 L 35.22715058419115,50.195834529433704 L 35.211353847465496,50.195834529433704 L 35.211353847465496,50.190770370141664 L 35.22715058419115,50.190770370141664 z\" /></g></svg>"
      ],
      "text/plain": [
       "<shapely.geometry.polygon.Polygon at 0x7f48fc19c160>"
      ]
     },
     "metadata": {},
     "output_type": "display_data"
    },
    {
     "data": {
      "image/svg+xml": [
       "<svg xmlns=\"http://www.w3.org/2000/svg\" xmlns:xlink=\"http://www.w3.org/1999/xlink\" width=\"100.0\" height=\"100.0\" viewBox=\"35.21133456649205 50.19635534801776 0.016357699115040703 0.013575896017698597\" preserveAspectRatio=\"xMinYMin meet\"><g transform=\"matrix(1,0,0,-1,0,100.40628659205322)\"><path fill-rule=\"evenodd\" fill=\"#66cc99\" stroke=\"#555555\" stroke-width=\"0.00032715398230081404\" opacity=\"0.6\" d=\"M 35.22708642489913,50.19696118872572 L 35.22708642489913,50.2093254033275 L 35.21194040720001,50.2093254033275 L 35.21194040720001,50.19696118872572 L 35.22708642489913,50.19696118872572 z\" /></g></svg>"
      ],
      "text/plain": [
       "<shapely.geometry.polygon.Polygon at 0x7f48fc19c160>"
      ]
     },
     "metadata": {},
     "output_type": "display_data"
    },
    {
     "data": {
      "image/svg+xml": [
       "<svg xmlns=\"http://www.w3.org/2000/svg\" xmlns:xlink=\"http://www.w3.org/1999/xlink\" width=\"100.0\" height=\"100.0\" viewBox=\"35.22643273020886 50.19083100067259 0.006359933628317549 0.004652522123905101\" preserveAspectRatio=\"xMinYMin meet\"><g transform=\"matrix(1,0,0,-1,0,100.38631452346908)\"><path fill-rule=\"evenodd\" fill=\"#66cc99\" stroke=\"#555555\" stroke-width=\"0.00012719867256635097\" opacity=\"0.6\" d=\"M 35.23255711073983,50.191066553769936 L 35.23255711073983,50.195247969699146 L 35.22666828330621,50.195247969699146 L 35.22666828330621,50.191066553769936 L 35.23255711073983,50.191066553769936 z\" /></g></svg>"
      ],
      "text/plain": [
       "<shapely.geometry.polygon.Polygon at 0x7f48fc19c160>"
      ]
     },
     "metadata": {},
     "output_type": "display_data"
    },
    {
     "data": {
      "image/svg+xml": [
       "<svg xmlns=\"http://www.w3.org/2000/svg\" xmlns:xlink=\"http://www.w3.org/1999/xlink\" width=\"100.0\" height=\"100.0\" viewBox=\"35.191089027348234 50.159956037467474 0.012735210867788282 0.0033414921235888073\" preserveAspectRatio=\"xMinYMin meet\"><g transform=\"matrix(1,0,0,-1,0,100.32325356705854)\"><path fill-rule=\"evenodd\" fill=\"#66cc99\" stroke=\"#555555\" stroke-width=\"0.0002547042173557657\" opacity=\"0.6\" d=\"M 35.203352563739436,50.16042771194406 L 35.203352563739436,50.16282585511448 L 35.19156070182482,50.16282585511448 L 35.19156070182482,50.16042771194406 L 35.203352563739436,50.16042771194406 z\" /></g></svg>"
      ],
      "text/plain": [
       "<shapely.geometry.polygon.Polygon at 0x7f48fc19c160>"
      ]
     },
     "metadata": {},
     "output_type": "display_data"
    },
    {
     "data": {
      "image/svg+xml": [
       "<svg xmlns=\"http://www.w3.org/2000/svg\" xmlns:xlink=\"http://www.w3.org/1999/xlink\" width=\"100.0\" height=\"100.0\" viewBox=\"35.18122224853925 50.161403547235295 0.004075010784092115 0.0018815581692521732\" preserveAspectRatio=\"xMinYMin meet\"><g transform=\"matrix(1,0,0,-1,0,100.32468865263985)\"><path fill-rule=\"evenodd\" fill=\"#66cc99\" stroke=\"#555555\" stroke-width=\"8.150021568184229e-05\" opacity=\"0.6\" d=\"M 35.185146332998,50.161554473560635 L 35.185146332998,50.16313417907921 L 35.18137317486459,50.16313417907921 L 35.18137317486459,50.161554473560635 L 35.185146332998,50.161554473560635 z\" /></g></svg>"
      ],
      "text/plain": [
       "<shapely.geometry.polygon.Polygon at 0x7f48fc19c160>"
      ]
     },
     "metadata": {},
     "output_type": "display_data"
    },
    {
     "data": {
      "image/svg+xml": [
       "<svg xmlns=\"http://www.w3.org/2000/svg\" xmlns:xlink=\"http://www.w3.org/1999/xlink\" width=\"100.0\" height=\"100.0\" viewBox=\"35.19718835232586 50.15997122738641 0.0021498088388440806 0.0015867370187621077\" preserveAspectRatio=\"xMinYMin meet\"><g transform=\"matrix(1,0,0,-1,0,100.32152919179157)\"><path fill-rule=\"evenodd\" fill=\"#66cc99\" stroke=\"#555555\" stroke-width=\"4.299617677688161e-05\" opacity=\"0.6\" d=\"M 35.19925853861512,50.16005084993599 L 35.19925853861512,50.161478341855585 L 35.197267974875444,50.161478341855585 L 35.197267974875444,50.16005084993599 L 35.19925853861512,50.16005084993599 z\" /></g></svg>"
      ],
      "text/plain": [
       "<shapely.geometry.polygon.Polygon at 0x7f48fc19c160>"
      ]
     },
     "metadata": {},
     "output_type": "display_data"
    },
    {
     "data": {
      "image/svg+xml": [
       "<svg xmlns=\"http://www.w3.org/2000/svg\" xmlns:xlink=\"http://www.w3.org/1999/xlink\" width=\"100.0\" height=\"100.0\" viewBox=\"35.184138572967406 50.148771168004075 0.01718242736126996 0.007852241075759991\" preserveAspectRatio=\"xMinYMin meet\"><g transform=\"matrix(1,0,0,-1,0,100.30539457708392)\"><path fill-rule=\"evenodd\" fill=\"#66cc99\" stroke=\"#555555\" stroke-width=\"0.00034364854722539916\" opacity=\"0.6\" d=\"M 35.20068461413011,50.14940755420264 L 35.20068461413011,50.15598702288127 L 35.18477495916597,50.15598702288127 L 35.18477495916597,50.14940755420264 L 35.20068461413011,50.14940755420264 z\" /></g></svg>"
      ],
      "text/plain": [
       "<shapely.geometry.polygon.Polygon at 0x7f48fc19c160>"
      ]
     },
     "metadata": {},
     "output_type": "display_data"
    },
    {
     "data": {
      "image/svg+xml": [
       "<svg xmlns=\"http://www.w3.org/2000/svg\" xmlns:xlink=\"http://www.w3.org/1999/xlink\" width=\"100.0\" height=\"100.0\" viewBox=\"35.20150553772122 50.14994479865227 0.00631200848046376 0.001961971884604452\" preserveAspectRatio=\"xMinYMin meet\"><g transform=\"matrix(1,0,0,-1,0,100.30185156918915)\"><path fill-rule=\"evenodd\" fill=\"#66cc99\" stroke=\"#555555\" stroke-width=\"0.0001262401696092752\" opacity=\"0.6\" d=\"M 35.207583768109814,50.15017857674414 L 35.207583768109814,50.15167299244501 L 35.201739315813086,50.15167299244501 L 35.201739315813086,50.15017857674414 L 35.207583768109814,50.15017857674414 z\" /></g></svg>"
      ],
      "text/plain": [
       "<shapely.geometry.polygon.Polygon at 0x7f48fc19c160>"
      ]
     },
     "metadata": {},
     "output_type": "display_data"
    },
    {
     "data": {
      "image/svg+xml": [
       "<svg xmlns=\"http://www.w3.org/2000/svg\" xmlns:xlink=\"http://www.w3.org/1999/xlink\" width=\"100.0\" height=\"100.0\" viewBox=\"35.232581451572415 50.14584860117778 0.0009887763746263545 0.0013159688996395857\" preserveAspectRatio=\"xMinYMin meet\"><g transform=\"matrix(1,0,0,-1,0,100.29301317125521)\"><path fill-rule=\"evenodd\" fill=\"#66cc99\" stroke=\"#555555\" stroke-width=\"2.6319377992791716e-05\" opacity=\"0.6\" d=\"M 35.233521488358164,50.14589734076666 L 35.233521488358164,50.147115830488545 L 35.23263019116129,50.147115830488545 L 35.23263019116129,50.14589734076666 L 35.233521488358164,50.14589734076666 z\" /></g></svg>"
      ],
      "text/plain": [
       "<shapely.geometry.polygon.Polygon at 0x7f48fc19c160>"
      ]
     },
     "metadata": {},
     "output_type": "display_data"
    },
    {
     "data": {
      "image/svg+xml": [
       "<svg xmlns=\"http://www.w3.org/2000/svg\" xmlns:xlink=\"http://www.w3.org/1999/xlink\" width=\"100.0\" height=\"100.0\" viewBox=\"35.200140031542766 50.15218294487202 0.0028717595683218633 0.0024304353866000383\" preserveAspectRatio=\"xMinYMin meet\"><g transform=\"matrix(1,0,0,-1,0,100.30679632513063)\"><path fill-rule=\"evenodd\" fill=\"#66cc99\" stroke=\"#555555\" stroke-width=\"5.7435191366437265e-05\" opacity=\"0.6\" d=\"M 35.2029054296456,50.15228930633751 L 35.2029054296456,50.154507018793126 L 35.20024639300826,50.154507018793126 L 35.20024639300826,50.15228930633751 L 35.2029054296456,50.15228930633751 z\" /></g></svg>"
      ],
      "text/plain": [
       "<shapely.geometry.polygon.Polygon at 0x7f48fc19c160>"
      ]
     },
     "metadata": {},
     "output_type": "display_data"
    },
    {
     "data": {
      "image/svg+xml": [
       "<svg xmlns=\"http://www.w3.org/2000/svg\" xmlns:xlink=\"http://www.w3.org/1999/xlink\" width=\"100.0\" height=\"100.0\" viewBox=\"34.876725528681476 49.94622773472414 0.04933329984471868 0.016529620733130912\" preserveAspectRatio=\"xMinYMin meet\"><g transform=\"matrix(1,0,0,-1,0,99.9089850901814)\"><path fill-rule=\"evenodd\" fill=\"#66cc99\" stroke=\"#555555\" stroke-width=\"0.0009866659968943735\" opacity=\"0.6\" d=\"M 34.924231669272686,49.94805489397765 L 34.924231669272686,49.96093019620376 L 34.878552687934985,49.96093019620376 L 34.878552687934985,49.94805489397765 L 34.924231669272686,49.94805489397765 z\" /></g></svg>"
      ],
      "text/plain": [
       "<shapely.geometry.polygon.Polygon at 0x7f48fc19c160>"
      ]
     },
     "metadata": {},
     "output_type": "display_data"
    },
    {
     "data": {
      "image/svg+xml": [
       "<svg xmlns=\"http://www.w3.org/2000/svg\" xmlns:xlink=\"http://www.w3.org/1999/xlink\" width=\"100.0\" height=\"100.0\" viewBox=\"34.939542372519895 49.96064540805351 0.016171696339334574 0.009974541891409672\" preserveAspectRatio=\"xMinYMin meet\"><g transform=\"matrix(1,0,0,-1,0,99.93126535799843)\"><path fill-rule=\"evenodd\" fill=\"#66cc99\" stroke=\"#555555\" stroke-width=\"0.0003234339267866915\" opacity=\"0.6\" d=\"M 34.95511511714296,49.96124435976978 L 34.95511511714296,49.97002099822865 L 34.940141324236166,49.97002099822865 L 34.940141324236166,49.96124435976978 L 34.95511511714296,49.96124435976978 z\" /></g></svg>"
      ],
      "text/plain": [
       "<shapely.geometry.polygon.Polygon at 0x7f48fc19c160>"
      ]
     },
     "metadata": {},
     "output_type": "display_data"
    },
    {
     "data": {
      "image/svg+xml": [
       "<svg xmlns=\"http://www.w3.org/2000/svg\" xmlns:xlink=\"http://www.w3.org/1999/xlink\" width=\"100.0\" height=\"100.0\" viewBox=\"34.951802047256926 49.91441432860001 0.006274169255910067 0.0070915815373808755\" preserveAspectRatio=\"xMinYMin meet\"><g transform=\"matrix(1,0,0,-1,0,99.8359202387374)\"><path fill-rule=\"evenodd\" fill=\"#66cc99\" stroke=\"#555555\" stroke-width=\"0.0001418316307476175\" opacity=\"0.6\" d=\"M 34.957813565344786,49.91467697976806 L 34.957813565344786,49.92124325896934 L 34.95206469842498,49.92124325896934 L 34.95206469842498,49.91467697976806 L 34.957813565344786,49.91467697976806 z\" /></g></svg>"
      ],
      "text/plain": [
       "<shapely.geometry.polygon.Polygon at 0x7f48fc19c160>"
      ]
     },
     "metadata": {},
     "output_type": "display_data"
    },
    {
     "data": {
      "image/svg+xml": [
       "<svg xmlns=\"http://www.w3.org/2000/svg\" xmlns:xlink=\"http://www.w3.org/1999/xlink\" width=\"100.0\" height=\"100.0\" viewBox=\"34.9501258299227 49.926718848859 0.01825733178073108 0.017128749737416626\" preserveAspectRatio=\"xMinYMin meet\"><g transform=\"matrix(1,0,0,-1,0,99.87056644745542)\"><path fill-rule=\"evenodd\" fill=\"#66cc99\" stroke=\"#555555\" stroke-width=\"0.0003651466356146216\" opacity=\"0.6\" d=\"M 34.96770696423007,49.92739504633236 L 34.96770696423007,49.94317140112305 L 34.95080202739606,49.94317140112305 L 34.95080202739606,49.92739504633236 L 34.96770696423007,49.92739504633236 z\" /></g></svg>"
      ],
      "text/plain": [
       "<shapely.geometry.polygon.Polygon at 0x7f48fc19c160>"
      ]
     },
     "metadata": {},
     "output_type": "display_data"
    },
    {
     "data": {
      "image/svg+xml": [
       "<svg xmlns=\"http://www.w3.org/2000/svg\" xmlns:xlink=\"http://www.w3.org/1999/xlink\" width=\"100.0\" height=\"100.0\" viewBox=\"34.9459296027198 49.8926592262901 0.01925201945245192 0.015764201500374497\" preserveAspectRatio=\"xMinYMin meet\"><g transform=\"matrix(1,0,0,-1,0,99.80108265408057)\"><path fill-rule=\"evenodd\" fill=\"#66cc99\" stroke=\"#555555\" stroke-width=\"0.0003850403890490384\" opacity=\"0.6\" d=\"M 34.96446858441475,49.8933722640476 L 34.96446858441475,49.907710390032975 L 34.9466426404773,49.907710390032975 L 34.9466426404773,49.8933722640476 L 34.96446858441475,49.8933722640476 z\" /></g></svg>"
      ],
      "text/plain": [
       "<shapely.geometry.polygon.Polygon at 0x7f48fc19c160>"
      ]
     },
     "metadata": {},
     "output_type": "display_data"
    },
    {
     "data": {
      "image/svg+xml": [
       "<svg xmlns=\"http://www.w3.org/2000/svg\" xmlns:xlink=\"http://www.w3.org/1999/xlink\" width=\"100.0\" height=\"100.0\" viewBox=\"34.98659117503926 49.9084354806107 0.0043156610272561124 0.003093948097884436\" preserveAspectRatio=\"xMinYMin meet\"><g transform=\"matrix(1,0,0,-1,0,99.81996490931928)\"><path fill-rule=\"evenodd\" fill=\"#66cc99\" stroke=\"#555555\" stroke-width=\"8.631322054512224e-05\" opacity=\"0.6\" d=\"M 34.99074699676921,49.908595319908 L 34.99074699676921,49.91136958941128 L 34.98675101433656,49.91136958941128 L 34.98675101433656,49.908595319908 L 34.99074699676921,49.908595319908 z\" /></g></svg>"
      ],
      "text/plain": [
       "<shapely.geometry.polygon.Polygon at 0x7f48fc19c160>"
      ]
     },
     "metadata": {},
     "output_type": "display_data"
    },
    {
     "data": {
      "image/svg+xml": [
       "<svg xmlns=\"http://www.w3.org/2000/svg\" xmlns:xlink=\"http://www.w3.org/1999/xlink\" width=\"100.0\" height=\"100.0\" viewBox=\"35.007898243802536 49.896415067759236 0.0022704009117333612 0.004981053038427774\" preserveAspectRatio=\"xMinYMin meet\"><g transform=\"matrix(1,0,0,-1,0,99.79781118855689)\"><path fill-rule=\"evenodd\" fill=\"#66cc99\" stroke=\"#555555\" stroke-width=\"9.962106076855548e-05\" opacity=\"0.6\" d=\"M 35.0099841612684,49.89659955120511 L 35.0099841612684,49.90121163735179 L 35.00808272724841,49.90121163735179 L 35.00808272724841,49.89659955120511 L 35.0099841612684,49.89659955120511 z\" /></g></svg>"
      ],
      "text/plain": [
       "<shapely.geometry.polygon.Polygon at 0x7f48fc19c160>"
      ]
     },
     "metadata": {},
     "output_type": "display_data"
    },
    {
     "data": {
      "image/svg+xml": [
       "<svg xmlns=\"http://www.w3.org/2000/svg\" xmlns:xlink=\"http://www.w3.org/1999/xlink\" width=\"100.0\" height=\"100.0\" viewBox=\"35.094699434489016 49.87975845133246 0.013604760412988526 0.0069422462110324545\" preserveAspectRatio=\"xMinYMin meet\"><g transform=\"matrix(1,0,0,-1,0,99.76645914887595)\"><path fill-rule=\"evenodd\" fill=\"#66cc99\" stroke=\"#555555\" stroke-width=\"0.0002720952082597705\" opacity=\"0.6\" d=\"M 35.10780031488671,49.88026233134775 L 35.10780031488671,49.886196817528194 L 35.09520331450431,49.886196817528194 L 35.09520331450431,49.88026233134775 L 35.10780031488671,49.88026233134775 z\" /></g></svg>"
      ],
      "text/plain": [
       "<shapely.geometry.polygon.Polygon at 0x7f48fc19c160>"
      ]
     },
     "metadata": {},
     "output_type": "display_data"
    },
    {
     "data": {
      "image/svg+xml": [
       "<svg xmlns=\"http://www.w3.org/2000/svg\" xmlns:xlink=\"http://www.w3.org/1999/xlink\" width=\"100.0\" height=\"100.0\" viewBox=\"35.10917284443981 49.87353921220783 0.0021422205232966007 0.0030500759252376497\" preserveAspectRatio=\"xMinYMin meet\"><g transform=\"matrix(1,0,0,-1,0,99.7501285003409)\"><path fill-rule=\"evenodd\" fill=\"#66cc99\" stroke=\"#555555\" stroke-width=\"6.1001518504752996e-05\" opacity=\"0.6\" d=\"M 35.1112020991881,49.87365217798284 L 35.1112020991881,49.87647632235806 L 35.10928581021482,49.87647632235806 L 35.10928581021482,49.87365217798284 L 35.1112020991881,49.87365217798284 z\" /></g></svg>"
      ],
      "text/plain": [
       "<shapely.geometry.polygon.Polygon at 0x7f48fc19c160>"
      ]
     },
     "metadata": {},
     "output_type": "display_data"
    },
    {
     "data": {
      "image/svg+xml": [
       "<svg xmlns=\"http://www.w3.org/2000/svg\" xmlns:xlink=\"http://www.w3.org/1999/xlink\" width=\"100.0\" height=\"100.0\" viewBox=\"35.06705198964007 49.874749967614925 0.001636421653458342 0.000887084030097185\" preserveAspectRatio=\"xMinYMin meet\"><g transform=\"matrix(1,0,0,-1,0,99.75038701925995)\"><path fill-rule=\"evenodd\" fill=\"#66cc99\" stroke=\"#555555\" stroke-width=\"3.272843306916684e-05\" opacity=\"0.6\" d=\"M 35.06862780308414,49.87481057582431 L 35.06862780308414,49.875576443435634 L 35.06711259784946,49.875576443435634 L 35.06711259784946,49.87481057582431 L 35.06862780308414,49.87481057582431 z\" /></g></svg>"
      ],
      "text/plain": [
       "<shapely.geometry.polygon.Polygon at 0x7f48fc19c160>"
      ]
     },
     "metadata": {},
     "output_type": "display_data"
    },
    {
     "data": {
      "image/svg+xml": [
       "<svg xmlns=\"http://www.w3.org/2000/svg\" xmlns:xlink=\"http://www.w3.org/1999/xlink\" width=\"100.0\" height=\"100.0\" viewBox=\"35.184138572967406 50.148771168004075 0.01718242736126996 0.007852241075759991\" preserveAspectRatio=\"xMinYMin meet\"><g transform=\"matrix(1,0,0,-1,0,100.30539457708392)\"><path fill-rule=\"evenodd\" fill=\"#66cc99\" stroke=\"#555555\" stroke-width=\"0.00034364854722539916\" opacity=\"0.6\" d=\"M 35.20068461413011,50.14940755420264 L 35.20068461413011,50.15598702288127 L 35.18477495916597,50.15598702288127 L 35.18477495916597,50.14940755420264 L 35.20068461413011,50.14940755420264 z\" /></g></svg>"
      ],
      "text/plain": [
       "<shapely.geometry.polygon.Polygon at 0x7f48fc19c160>"
      ]
     },
     "metadata": {},
     "output_type": "display_data"
    },
    {
     "data": {
      "image/svg+xml": [
       "<svg xmlns=\"http://www.w3.org/2000/svg\" xmlns:xlink=\"http://www.w3.org/1999/xlink\" width=\"100.0\" height=\"100.0\" viewBox=\"35.20150553772122 50.14994479865227 0.00631200848046376 0.001961971884604452\" preserveAspectRatio=\"xMinYMin meet\"><g transform=\"matrix(1,0,0,-1,0,100.30185156918915)\"><path fill-rule=\"evenodd\" fill=\"#66cc99\" stroke=\"#555555\" stroke-width=\"0.0001262401696092752\" opacity=\"0.6\" d=\"M 35.207583768109814,50.15017857674414 L 35.207583768109814,50.15167299244501 L 35.201739315813086,50.15167299244501 L 35.201739315813086,50.15017857674414 L 35.207583768109814,50.15017857674414 z\" /></g></svg>"
      ],
      "text/plain": [
       "<shapely.geometry.polygon.Polygon at 0x7f48fc19c160>"
      ]
     },
     "metadata": {},
     "output_type": "display_data"
    },
    {
     "data": {
      "image/svg+xml": [
       "<svg xmlns=\"http://www.w3.org/2000/svg\" xmlns:xlink=\"http://www.w3.org/1999/xlink\" width=\"100.0\" height=\"100.0\" viewBox=\"35.19985321359163 50.13594723664527 0.019439686499779896 0.011029455011296818\" preserveAspectRatio=\"xMinYMin meet\"><g transform=\"matrix(1,0,0,-1,0,100.28292392830184)\"><path fill-rule=\"evenodd\" fill=\"#66cc99\" stroke=\"#555555\" stroke-width=\"0.0003887937299955979\" opacity=\"0.6\" d=\"M 35.21857291170253,50.13666722503415 L 35.21857291170253,50.14625670326769 L 35.20057320198051,50.14625670326769 L 35.20057320198051,50.13666722503415 L 35.21857291170253,50.13666722503415 z\" /></g></svg>"
      ],
      "text/plain": [
       "<shapely.geometry.polygon.Polygon at 0x7f48fc19c160>"
      ]
     },
     "metadata": {},
     "output_type": "display_data"
    },
    {
     "data": {
      "image/svg+xml": [
       "<svg xmlns=\"http://www.w3.org/2000/svg\" xmlns:xlink=\"http://www.w3.org/1999/xlink\" width=\"100.0\" height=\"100.0\" viewBox=\"35.232581451572415 50.14584860117778 0.0009887763746263545 0.0013159688996395857\" preserveAspectRatio=\"xMinYMin meet\"><g transform=\"matrix(1,0,0,-1,0,100.29301317125521)\"><path fill-rule=\"evenodd\" fill=\"#66cc99\" stroke=\"#555555\" stroke-width=\"2.6319377992791716e-05\" opacity=\"0.6\" d=\"M 35.233521488358164,50.14589734076666 L 35.233521488358164,50.147115830488545 L 35.23263019116129,50.147115830488545 L 35.23263019116129,50.14589734076666 L 35.233521488358164,50.14589734076666 z\" /></g></svg>"
      ],
      "text/plain": [
       "<shapely.geometry.polygon.Polygon at 0x7f48fc19c160>"
      ]
     },
     "metadata": {},
     "output_type": "display_data"
    },
    {
     "data": {
      "image/svg+xml": [
       "<svg xmlns=\"http://www.w3.org/2000/svg\" xmlns:xlink=\"http://www.w3.org/1999/xlink\" width=\"100.0\" height=\"100.0\" viewBox=\"35.23048430967968 50.13617534484647 0.007496496028188915 0.006205943949588288\" preserveAspectRatio=\"xMinYMin meet\"><g transform=\"matrix(1,0,0,-1,0,100.27855663364252)\"><path fill-rule=\"evenodd\" fill=\"#66cc99\" stroke=\"#555555\" stroke-width=\"0.0001499299205637783\" opacity=\"0.6\" d=\"M 35.237703157706825,50.136452992847516 L 35.237703157706825,50.142103640795014 L 35.23076195768073,50.142103640795014 L 35.23076195768073,50.136452992847516 L 35.237703157706825,50.136452992847516 z\" /></g></svg>"
      ],
      "text/plain": [
       "<shapely.geometry.polygon.Polygon at 0x7f48fc19c160>"
      ]
     },
     "metadata": {},
     "output_type": "display_data"
    },
    {
     "data": {
      "image/svg+xml": [
       "<svg xmlns=\"http://www.w3.org/2000/svg\" xmlns:xlink=\"http://www.w3.org/1999/xlink\" width=\"100.0\" height=\"100.0\" viewBox=\"35.21244164089814 50.13213473688684 0.003722057094137199 0.0032180031460526948\" preserveAspectRatio=\"xMinYMin meet\"><g transform=\"matrix(1,0,0,-1,0,100.26748747691974)\"><path fill-rule=\"evenodd\" fill=\"#66cc99\" stroke=\"#555555\" stroke-width=\"7.444114188274397e-05\" opacity=\"0.6\" d=\"M 35.21602584402583,50.13227259085329 L 35.21602584402583,50.13521488606644 L 35.21257949486459,50.13521488606644 L 35.21257949486459,50.13227259085329 L 35.21602584402583,50.13227259085329 z\" /></g></svg>"
      ],
      "text/plain": [
       "<shapely.geometry.polygon.Polygon at 0x7f48fc19c160>"
      ]
     },
     "metadata": {},
     "output_type": "display_data"
    },
    {
     "data": {
      "image/svg+xml": [
       "<svg xmlns=\"http://www.w3.org/2000/svg\" xmlns:xlink=\"http://www.w3.org/1999/xlink\" width=\"100.0\" height=\"100.0\" viewBox=\"35.220920254032904 50.13282819569836 0.0058237358843413745 0.004135353145784393\" preserveAspectRatio=\"xMinYMin meet\"><g transform=\"matrix(1,0,0,-1,0,100.2697917445425)\"><path fill-rule=\"evenodd\" fill=\"#66cc99\" stroke=\"#555555\" stroke-width=\"0.00011647471768682748\" opacity=\"0.6\" d=\"M 35.22652829599561,50.13304388962 L 35.22652829599561,50.136747854922504 L 35.221135947954544,50.136747854922504 L 35.221135947954544,50.13304388962 L 35.22652829599561,50.13304388962 z\" /></g></svg>"
      ],
      "text/plain": [
       "<shapely.geometry.polygon.Polygon at 0x7f48fc19c160>"
      ]
     },
     "metadata": {},
     "output_type": "display_data"
    },
    {
     "data": {
      "image/svg+xml": [
       "<svg xmlns=\"http://www.w3.org/2000/svg\" xmlns:xlink=\"http://www.w3.org/1999/xlink\" width=\"100.0\" height=\"100.0\" viewBox=\"35.17133117989186 50.08082369339849 0.004700701416297193 0.00224512675949029\" preserveAspectRatio=\"xMinYMin meet\"><g transform=\"matrix(1,0,0,-1,0,100.16389251355648)\"><path fill-rule=\"evenodd\" fill=\"#66cc99\" stroke=\"#555555\" stroke-width=\"9.401402832594386e-05\" opacity=\"0.6\" d=\"M 35.1758577812557,50.08099779345095 L 35.1758577812557,50.08289472010553 L 35.17150527994431,50.08289472010553 L 35.17150527994431,50.08099779345095 L 35.1758577812557,50.08099779345095 z\" /></g></svg>"
      ],
      "text/plain": [
       "<shapely.geometry.polygon.Polygon at 0x7f48fc19c160>"
      ]
     },
     "metadata": {},
     "output_type": "display_data"
    },
    {
     "data": {
      "image/svg+xml": [
       "<svg xmlns=\"http://www.w3.org/2000/svg\" xmlns:xlink=\"http://www.w3.org/1999/xlink\" width=\"100.0\" height=\"100.0\" viewBox=\"35.19030749141138 50.084150762237066 0.002117722139757916 0.0014722442859067542\" preserveAspectRatio=\"xMinYMin meet\"><g transform=\"matrix(1,0,0,-1,0,100.16977376876004)\"><path fill-rule=\"evenodd\" fill=\"#66cc99\" stroke=\"#555555\" stroke-width=\"4.235444279515832e-05\" opacity=\"0.6\" d=\"M 35.192346779397816,50.08422919639039 L 35.192346779397816,50.08554457236965 L 35.190385925564705,50.08554457236965 L 35.190385925564705,50.08422919639039 L 35.192346779397816,50.08422919639039 z\" /></g></svg>"
      ],
      "text/plain": [
       "<shapely.geometry.polygon.Polygon at 0x7f48fc19c160>"
      ]
     },
     "metadata": {},
     "output_type": "display_data"
    },
    {
     "data": {
      "image/svg+xml": [
       "<svg xmlns=\"http://www.w3.org/2000/svg\" xmlns:xlink=\"http://www.w3.org/1999/xlink\" width=\"100.0\" height=\"100.0\" viewBox=\"35.19138239583081 50.08033368947011 0.001973331993873728 0.0010231639984610297\" preserveAspectRatio=\"xMinYMin meet\"><g transform=\"matrix(1,0,0,-1,0,100.16169054293869)\"><path fill-rule=\"evenodd\" fill=\"#66cc99\" stroke=\"#555555\" stroke-width=\"3.9466639877474565e-05\" opacity=\"0.6\" d=\"M 35.19328264145454,50.08040677584025 L 35.19328264145454,50.08128376709843 L 35.19145548220095,50.08128376709843 L 35.19145548220095,50.08040677584025 L 35.19328264145454,50.08040677584025 z\" /></g></svg>"
      ],
      "text/plain": [
       "<shapely.geometry.polygon.Polygon at 0x7f48fc19c160>"
      ]
     },
     "metadata": {},
     "output_type": "display_data"
    },
    {
     "data": {
      "image/svg+xml": [
       "<svg xmlns=\"http://www.w3.org/2000/svg\" xmlns:xlink=\"http://www.w3.org/1999/xlink\" width=\"100.0\" height=\"100.0\" viewBox=\"35.201425008334326 50.07609376046968 0.0048612922361925825 0.005966239073131874\" preserveAspectRatio=\"xMinYMin meet\"><g transform=\"matrix(1,0,0,-1,0,100.1581537600125)\"><path fill-rule=\"evenodd\" fill=\"#66cc99\" stroke=\"#555555\" stroke-width=\"0.00011932478146263748\" opacity=\"0.6\" d=\"M 35.20606532875299,50.07631473228721 L 35.20606532875299,50.08183902772529 L 35.20164598015185,50.08183902772529 L 35.20164598015185,50.07631473228721 L 35.20606532875299,50.07631473228721 z\" /></g></svg>"
      ],
      "text/plain": [
       "<shapely.geometry.polygon.Polygon at 0x7f48fc19c160>"
      ]
     },
     "metadata": {},
     "output_type": "display_data"
    },
    {
     "data": {
      "image/svg+xml": [
       "<svg xmlns=\"http://www.w3.org/2000/svg\" xmlns:xlink=\"http://www.w3.org/1999/xlink\" width=\"100.0\" height=\"100.0\" viewBox=\"35.24958321148935 50.10165637092661 0.009417446182133915 0.005392431044946022\" preserveAspectRatio=\"xMinYMin meet\"><g transform=\"matrix(1,0,0,-1,0,100.20870517289816)\"><path fill-rule=\"evenodd\" fill=\"#66cc99\" stroke=\"#555555\" stroke-width=\"0.0001883489236426783\" opacity=\"0.6\" d=\"M 35.25865186336844,50.102005165229656 L 35.25865186336844,50.106700007668515 L 35.249932005792395,50.106700007668515 L 35.249932005792395,50.102005165229656 L 35.25865186336844,50.102005165229656 z\" /></g></svg>"
      ],
      "text/plain": [
       "<shapely.geometry.polygon.Polygon at 0x7f48fc19c160>"
      ]
     },
     "metadata": {},
     "output_type": "display_data"
    },
    {
     "data": {
      "image/svg+xml": [
       "<svg xmlns=\"http://www.w3.org/2000/svg\" xmlns:xlink=\"http://www.w3.org/1999/xlink\" width=\"100.0\" height=\"100.0\" viewBox=\"35.273769155124576 50.07273602191347 0.005952082680700244 0.005362612371243358\" preserveAspectRatio=\"xMinYMin meet\"><g transform=\"matrix(1,0,0,-1,0,100.15083465619819)\"><path fill-rule=\"evenodd\" fill=\"#66cc99\" stroke=\"#555555\" stroke-width=\"0.00011904165361400487\" opacity=\"0.6\" d=\"M 35.279500790298584,50.07295646942016 L 35.279500790298584,50.07787818677802 L 35.27398960263127,50.07787818677802 L 35.27398960263127,50.07295646942016 L 35.279500790298584,50.07295646942016 z\" /></g></svg>"
      ],
      "text/plain": [
       "<shapely.geometry.polygon.Polygon at 0x7f48fc19c160>"
      ]
     },
     "metadata": {},
     "output_type": "display_data"
    },
    {
     "data": {
      "image/svg+xml": [
       "<svg xmlns=\"http://www.w3.org/2000/svg\" xmlns:xlink=\"http://www.w3.org/1999/xlink\" width=\"100.0\" height=\"100.0\" viewBox=\"35.23752128652413 50.103256984978515 0.008005631422292936 0.00585932082771734\" preserveAspectRatio=\"xMinYMin meet\"><g transform=\"matrix(1,0,0,-1,0,100.21237329078474)\"><path fill-rule=\"evenodd\" fill=\"#66cc99\" stroke=\"#555555\" stroke-width=\"0.0001601126284458587\" opacity=\"0.6\" d=\"M 35.24523041307893,50.10355348984601 L 35.24523041307893,50.10881980093874 L 35.23781779139162,50.10881980093874 L 35.23781779139162,50.10355348984601 L 35.24523041307893,50.10355348984601 z\" /></g></svg>"
      ],
      "text/plain": [
       "<shapely.geometry.polygon.Polygon at 0x7f48fc19c160>"
      ]
     },
     "metadata": {},
     "output_type": "display_data"
    },
    {
     "data": {
      "image/svg+xml": [
       "<svg xmlns=\"http://www.w3.org/2000/svg\" xmlns:xlink=\"http://www.w3.org/1999/xlink\" width=\"100.0\" height=\"100.0\" viewBox=\"35.203723046274206 50.15129652377263 0.0023904590820080784 0.0014049391890651464\" preserveAspectRatio=\"xMinYMin meet\"><g transform=\"matrix(1,0,0,-1,0,100.30399798673432)\"><path fill-rule=\"evenodd\" fill=\"#66cc99\" stroke=\"#555555\" stroke-width=\"4.7809181640161566e-05\" opacity=\"0.6\" d=\"M 35.20602496983466,50.151385059294185 L 35.20602496983466,50.15261292744014 L 35.20381158179576,50.15261292744014 L 35.20381158179576,50.151385059294185 L 35.20602496983466,50.151385059294185 z\" /></g></svg>"
      ],
      "text/plain": [
       "<shapely.geometry.polygon.Polygon at 0x7f48fc19c160>"
      ]
     },
     "metadata": {},
     "output_type": "display_data"
    },
    {
     "data": {
      "image/svg+xml": [
       "<svg xmlns=\"http://www.w3.org/2000/svg\" xmlns:xlink=\"http://www.w3.org/1999/xlink\" width=\"100.0\" height=\"100.0\" viewBox=\"35.18931471141082 50.071425951141634 0.0008135680050784799 0.0011961478809823234\" preserveAspectRatio=\"xMinYMin meet\"><g transform=\"matrix(1,0,0,-1,0,100.14404805016426)\"><path fill-rule=\"evenodd\" fill=\"#66cc99\" stroke=\"#555555\" stroke-width=\"2.3922957619646468e-05\" opacity=\"0.6\" d=\"M 35.19008397764253,50.071470252915006 L 35.19008397764253,50.072577797249245 L 35.189359013184195,50.072577797249245 L 35.189359013184195,50.071470252915006 L 35.19008397764253,50.071470252915006 z\" /></g></svg>"
      ],
      "text/plain": [
       "<shapely.geometry.polygon.Polygon at 0x7f48fc19c160>"
      ]
     },
     "metadata": {},
     "output_type": "display_data"
    },
    {
     "data": {
      "image/svg+xml": [
       "<svg xmlns=\"http://www.w3.org/2000/svg\" xmlns:xlink=\"http://www.w3.org/1999/xlink\" width=\"100.0\" height=\"100.0\" viewBox=\"35.3211778646599 50.03518737803333 0.0032090398586888114 0.0009197892795498319\" preserveAspectRatio=\"xMinYMin meet\"><g transform=\"matrix(1,0,0,-1,0,100.0712945453462)\"><path fill-rule=\"evenodd\" fill=\"#66cc99\" stroke=\"#555555\" stroke-width=\"6.418079717377622e-05\" opacity=\"0.6\" d=\"M 35.324268051190494,50.035306231361425 L 35.324268051190494,50.03598831398478 L 35.321296717988,50.03598831398478 L 35.321296717988,50.035306231361425 L 35.324268051190494,50.035306231361425 z\" /></g></svg>"
      ],
      "text/plain": [
       "<shapely.geometry.polygon.Polygon at 0x7f48fc19c160>"
      ]
     },
     "metadata": {},
     "output_type": "display_data"
    },
    {
     "data": {
      "image/svg+xml": [
       "<svg xmlns=\"http://www.w3.org/2000/svg\" xmlns:xlink=\"http://www.w3.org/1999/xlink\" width=\"100.0\" height=\"100.0\" viewBox=\"35.36669053784609 49.99030855974256 0.008563137818562438 0.0037094503849388616\" preserveAspectRatio=\"xMinYMin meet\"><g transform=\"matrix(1,0,0,-1,0,99.98432656987006)\"><path fill-rule=\"evenodd\" fill=\"#66cc99\" stroke=\"#555555\" stroke-width=\"0.00017126275637124877\" opacity=\"0.6\" d=\"M 35.37493652241211,49.9906257129951 L 35.37493652241211,49.99370085687496 L 35.36700769109863,49.99370085687496 L 35.36700769109863,49.9906257129951 L 35.37493652241211,49.9906257129951 z\" /></g></svg>"
      ],
      "text/plain": [
       "<shapely.geometry.polygon.Polygon at 0x7f48fc19c160>"
      ]
     },
     "metadata": {},
     "output_type": "display_data"
    },
    {
     "data": {
      "image/svg+xml": [
       "<svg xmlns=\"http://www.w3.org/2000/svg\" xmlns:xlink=\"http://www.w3.org/1999/xlink\" width=\"100.0\" height=\"100.0\" viewBox=\"34.962651373417984 50.04205821995029 0.013474824365736993 0.02428421967081107\" preserveAspectRatio=\"xMinYMin meet\"><g transform=\"matrix(1,0,0,-1,0,100.1084006595714)\"><path fill-rule=\"evenodd\" fill=\"#66cc99\" stroke=\"#555555\" stroke-width=\"0.0004856843934162214\" opacity=\"0.6\" d=\"M 34.975226782240355,50.04295763549366 L 34.975226782240355,50.06544302407774 L 34.96355078896135,50.06544302407774 L 34.96355078896135,50.04295763549366 L 34.975226782240355,50.04295763549366 z\" /></g></svg>"
      ],
      "text/plain": [
       "<shapely.geometry.polygon.Polygon at 0x7f48fc19c160>"
      ]
     },
     "metadata": {},
     "output_type": "display_data"
    },
    {
     "data": {
      "image/svg+xml": [
       "<svg xmlns=\"http://www.w3.org/2000/svg\" xmlns:xlink=\"http://www.w3.org/1999/xlink\" width=\"100.0\" height=\"100.0\" viewBox=\"34.94359880411036 50.03985812480008 0.008470888559060086 0.0034895676092645544\" preserveAspectRatio=\"xMinYMin meet\"><g transform=\"matrix(1,0,0,-1,0,100.08320581720942)\"><path fill-rule=\"evenodd\" fill=\"#66cc99\" stroke=\"#555555\" stroke-width=\"0.0001694177711812017\" opacity=\"0.6\" d=\"M 34.95175595605612,50.04017186141338 L 34.95175595605612,50.04303395579604 L 34.94391254072366,50.04303395579604 L 34.94391254072366,50.04017186141338 L 34.95175595605612,50.04017186141338 z\" /></g></svg>"
      ],
      "text/plain": [
       "<shapely.geometry.polygon.Polygon at 0x7f48fc19c160>"
      ]
     },
     "metadata": {},
     "output_type": "display_data"
    },
    {
     "data": {
      "image/svg+xml": [
       "<svg xmlns=\"http://www.w3.org/2000/svg\" xmlns:xlink=\"http://www.w3.org/1999/xlink\" width=\"100.0\" height=\"100.0\" viewBox=\"34.93900862354566 49.99876945499784 0.020182533725979113 0.014465128710014596\" preserveAspectRatio=\"xMinYMin meet\"><g transform=\"matrix(1,0,0,-1,0,100.0120040387057)\"><path fill-rule=\"evenodd\" fill=\"#66cc99\" stroke=\"#555555\" stroke-width=\"0.00040365067451958225\" opacity=\"0.6\" d=\"M 34.95844365602253,49.99951695624695 L 34.95844365602253,50.01248708245875 L 34.93975612479477,50.01248708245875 L 34.93975612479477,49.99951695624695 L 34.95844365602253,49.99951695624695 z\" /></g></svg>"
      ],
      "text/plain": [
       "<shapely.geometry.polygon.Polygon at 0x7f48fc19c160>"
      ]
     },
     "metadata": {},
     "output_type": "display_data"
    },
    {
     "data": {
      "image/svg+xml": [
       "<svg xmlns=\"http://www.w3.org/2000/svg\" xmlns:xlink=\"http://www.w3.org/1999/xlink\" width=\"100.0\" height=\"100.0\" viewBox=\"34.958516123173695 49.986112227774115 0.010412133853414218 0.00572811836332221\" preserveAspectRatio=\"xMinYMin meet\"><g transform=\"matrix(1,0,0,-1,0,99.97795257391155)\"><path fill-rule=\"evenodd\" fill=\"#66cc99\" stroke=\"#555555\" stroke-width=\"0.00020824267706828436\" opacity=\"0.6\" d=\"M 34.96854262243995,49.986497862361276 L 34.96854262243995,49.991454711550276 L 34.958901757760856,49.991454711550276 L 34.958901757760856,49.986497862361276 L 34.96854262243995,49.986497862361276 z\" /></g></svg>"
      ],
      "text/plain": [
       "<shapely.geometry.polygon.Polygon at 0x7f48fc19c160>"
      ]
     },
     "metadata": {},
     "output_type": "display_data"
    },
    {
     "data": {
      "image/svg+xml": [
       "<svg xmlns=\"http://www.w3.org/2000/svg\" xmlns:xlink=\"http://www.w3.org/1999/xlink\" width=\"100.0\" height=\"100.0\" viewBox=\"34.98671087152789 49.98070773114268 0.002620470014555565 0.0028885623719148157\" preserveAspectRatio=\"xMinYMin meet\"><g transform=\"matrix(1,0,0,-1,0,99.96430402465728)\"><path fill-rule=\"evenodd\" fill=\"#66cc99\" stroke=\"#555555\" stroke-width=\"5.777124743829631e-05\" opacity=\"0.6\" d=\"M 34.98922435775089,49.98081471493423 L 34.98922435775089,49.98348930972304 L 34.986817855319444,49.98348930972304 L 34.986817855319444,49.98081471493423 L 34.98922435775089,49.98081471493423 z\" /></g></svg>"
      ],
      "text/plain": [
       "<shapely.geometry.polygon.Polygon at 0x7f48fc19c160>"
      ]
     },
     "metadata": {},
     "output_type": "display_data"
    },
    {
     "data": {
      "image/svg+xml": [
       "<svg xmlns=\"http://www.w3.org/2000/svg\" xmlns:xlink=\"http://www.w3.org/1999/xlink\" width=\"100.0\" height=\"100.0\" viewBox=\"35.146739398933086 50.07866020410584 0.0030803231123783803 0.00247788970834506\" preserveAspectRatio=\"xMinYMin meet\"><g transform=\"matrix(1,0,0,-1,0,100.15979829792002)\"><path fill-rule=\"evenodd\" fill=\"#66cc99\" stroke=\"#555555\" stroke-width=\"6.160646224756761e-05\" opacity=\"0.6\" d=\"M 35.14970563600426,50.07877429014704 L 35.14970563600426,50.08102400777298 L 35.14685348497429,50.08102400777298 L 35.14685348497429,50.07877429014704 L 35.14970563600426,50.07877429014704 z\" /></g></svg>"
      ],
      "text/plain": [
       "<shapely.geometry.polygon.Polygon at 0x7f48fc19c160>"
      ]
     },
     "metadata": {},
     "output_type": "display_data"
    },
    {
     "data": {
      "image/svg+xml": [
       "<svg xmlns=\"http://www.w3.org/2000/svg\" xmlns:xlink=\"http://www.w3.org/1999/xlink\" width=\"100.0\" height=\"100.0\" viewBox=\"35.02077147480215 50.03874138321216 0.041327668424507635 0.036417888681135935\" preserveAspectRatio=\"xMinYMin meet\"><g transform=\"matrix(1,0,0,-1,0,100.11390065510545)\"><path fill-rule=\"evenodd\" fill=\"#66cc99\" stroke=\"#555555\" stroke-width=\"0.0008265533684901527\" opacity=\"0.6\" d=\"M 35.060568488840566,50.04027203759826 L 35.060568488840566,50.073628617507204 L 35.02230212918825,50.073628617507204 L 35.02230212918825,50.04027203759826 L 35.060568488840566,50.04027203759826 z\" /></g></svg>"
      ],
      "text/plain": [
       "<shapely.geometry.polygon.Polygon at 0x7f48fc19c160>"
      ]
     },
     "metadata": {},
     "output_type": "display_data"
    },
    {
     "data": {
      "image/svg+xml": [
       "<svg xmlns=\"http://www.w3.org/2000/svg\" xmlns:xlink=\"http://www.w3.org/1999/xlink\" width=\"100.0\" height=\"100.0\" viewBox=\"35.17133117989186 50.08082369339849 0.004700701416297193 0.00224512675949029\" preserveAspectRatio=\"xMinYMin meet\"><g transform=\"matrix(1,0,0,-1,0,100.16389251355648)\"><path fill-rule=\"evenodd\" fill=\"#66cc99\" stroke=\"#555555\" stroke-width=\"9.401402832594386e-05\" opacity=\"0.6\" d=\"M 35.1758577812557,50.08099779345095 L 35.1758577812557,50.08289472010553 L 35.17150527994431,50.08289472010553 L 35.17150527994431,50.08099779345095 L 35.1758577812557,50.08099779345095 z\" /></g></svg>"
      ],
      "text/plain": [
       "<shapely.geometry.polygon.Polygon at 0x7f48fc19c160>"
      ]
     },
     "metadata": {},
     "output_type": "display_data"
    },
    {
     "data": {
      "image/svg+xml": [
       "<svg xmlns=\"http://www.w3.org/2000/svg\" xmlns:xlink=\"http://www.w3.org/1999/xlink\" width=\"100.0\" height=\"100.0\" viewBox=\"35.19030749141138 50.084150762237066 0.002117722139757916 0.0014722442859067542\" preserveAspectRatio=\"xMinYMin meet\"><g transform=\"matrix(1,0,0,-1,0,100.16977376876004)\"><path fill-rule=\"evenodd\" fill=\"#66cc99\" stroke=\"#555555\" stroke-width=\"4.235444279515832e-05\" opacity=\"0.6\" d=\"M 35.192346779397816,50.08422919639039 L 35.192346779397816,50.08554457236965 L 35.190385925564705,50.08554457236965 L 35.190385925564705,50.08422919639039 L 35.192346779397816,50.08422919639039 z\" /></g></svg>"
      ],
      "text/plain": [
       "<shapely.geometry.polygon.Polygon at 0x7f48fc19c160>"
      ]
     },
     "metadata": {},
     "output_type": "display_data"
    },
    {
     "data": {
      "image/svg+xml": [
       "<svg xmlns=\"http://www.w3.org/2000/svg\" xmlns:xlink=\"http://www.w3.org/1999/xlink\" width=\"100.0\" height=\"100.0\" viewBox=\"35.19138239583081 50.08033368947011 0.001973331993873728 0.0010231639984610297\" preserveAspectRatio=\"xMinYMin meet\"><g transform=\"matrix(1,0,0,-1,0,100.16169054293869)\"><path fill-rule=\"evenodd\" fill=\"#66cc99\" stroke=\"#555555\" stroke-width=\"3.9466639877474565e-05\" opacity=\"0.6\" d=\"M 35.19328264145454,50.08040677584025 L 35.19328264145454,50.08128376709843 L 35.19145548220095,50.08128376709843 L 35.19145548220095,50.08040677584025 L 35.19328264145454,50.08040677584025 z\" /></g></svg>"
      ],
      "text/plain": [
       "<shapely.geometry.polygon.Polygon at 0x7f48fc19c160>"
      ]
     },
     "metadata": {},
     "output_type": "display_data"
    },
    {
     "data": {
      "image/svg+xml": [
       "<svg xmlns=\"http://www.w3.org/2000/svg\" xmlns:xlink=\"http://www.w3.org/1999/xlink\" width=\"100.0\" height=\"100.0\" viewBox=\"35.201425008334326 50.07609376046968 0.0048612922361925825 0.005966239073131874\" preserveAspectRatio=\"xMinYMin meet\"><g transform=\"matrix(1,0,0,-1,0,100.1581537600125)\"><path fill-rule=\"evenodd\" fill=\"#66cc99\" stroke=\"#555555\" stroke-width=\"0.00011932478146263748\" opacity=\"0.6\" d=\"M 35.20606532875299,50.07631473228721 L 35.20606532875299,50.08183902772529 L 35.20164598015185,50.08183902772529 L 35.20164598015185,50.07631473228721 L 35.20606532875299,50.07631473228721 z\" /></g></svg>"
      ],
      "text/plain": [
       "<shapely.geometry.polygon.Polygon at 0x7f48fc19c160>"
      ]
     },
     "metadata": {},
     "output_type": "display_data"
    },
    {
     "data": {
      "image/svg+xml": [
       "<svg xmlns=\"http://www.w3.org/2000/svg\" xmlns:xlink=\"http://www.w3.org/1999/xlink\" width=\"100.0\" height=\"100.0\" viewBox=\"35.12720870055712 50.036507198111586 0.015417658911474064 0.007915832708924597\" preserveAspectRatio=\"xMinYMin meet\"><g transform=\"matrix(1,0,0,-1,0,100.08093022893209)\"><path fill-rule=\"evenodd\" fill=\"#66cc99\" stroke=\"#555555\" stroke-width=\"0.0003083531782294813\" opacity=\"0.6\" d=\"M 35.14205533506446,50.03707822251572 L 35.14205533506446,50.04385200641638 L 35.12777972496125,50.04385200641638 L 35.12777972496125,50.03707822251572 L 35.14205533506446,50.03707822251572 z\" /></g></svg>"
      ],
      "text/plain": [
       "<shapely.geometry.polygon.Polygon at 0x7f48fc19c160>"
      ]
     },
     "metadata": {},
     "output_type": "display_data"
    },
    {
     "data": {
      "image/svg+xml": [
       "<svg xmlns=\"http://www.w3.org/2000/svg\" xmlns:xlink=\"http://www.w3.org/1999/xlink\" width=\"100.0\" height=\"100.0\" viewBox=\"35.14778459344595 50.04815947719119 0.0033370167050819077 0.0012964635212426856\" preserveAspectRatio=\"xMinYMin meet\"><g transform=\"matrix(1,0,0,-1,0,100.09761541790363)\"><path fill-rule=\"evenodd\" fill=\"#66cc99\" stroke=\"#555555\" stroke-width=\"6.674033410163815e-05\" opacity=\"0.6\" d=\"M 35.15099801693973,50.04828307040249 L 35.15099801693973,50.049332347501135 L 35.14790818665725,50.049332347501135 L 35.14790818665725,50.04828307040249 L 35.15099801693973,50.04828307040249 z\" /></g></svg>"
      ],
      "text/plain": [
       "<shapely.geometry.polygon.Polygon at 0x7f48fc19c160>"
      ]
     },
     "metadata": {},
     "output_type": "display_data"
    },
    {
     "data": {
      "image/svg+xml": [
       "<svg xmlns=\"http://www.w3.org/2000/svg\" xmlns:xlink=\"http://www.w3.org/1999/xlink\" width=\"100.0\" height=\"100.0\" viewBox=\"35.151682533186936 50.05002110923464 0.006385253118381229 0.0032009422152299294\" preserveAspectRatio=\"xMinYMin meet\"><g transform=\"matrix(1,0,0,-1,0,100.10324316068451)\"><path fill-rule=\"evenodd\" fill=\"#66cc99\" stroke=\"#555555\" stroke-width=\"0.00012770506236762459\" opacity=\"0.6\" d=\"M 35.15783129544908,50.05025760009088 L 35.15783129544908,50.05298556059363 L 35.151919024043174,50.05298556059363 L 35.151919024043174,50.05025760009088 L 35.15783129544908,50.05025760009088 z\" /></g></svg>"
      ],
      "text/plain": [
       "<shapely.geometry.polygon.Polygon at 0x7f48fc19c160>"
      ]
     },
     "metadata": {},
     "output_type": "display_data"
    },
    {
     "data": {
      "image/svg+xml": [
       "<svg xmlns=\"http://www.w3.org/2000/svg\" xmlns:xlink=\"http://www.w3.org/1999/xlink\" width=\"100.0\" height=\"100.0\" viewBox=\"35.169715258074035 50.056748551246464 0.0032086699087230386 0.0012867686642579201\" preserveAspectRatio=\"xMinYMin meet\"><g transform=\"matrix(1,0,0,-1,0,100.11478387115719)\"><path fill-rule=\"evenodd\" fill=\"#66cc99\" stroke=\"#555555\" stroke-width=\"6.417339817446077e-05\" opacity=\"0.6\" d=\"M 35.17280508835651,50.05686739087271 L 35.17280508835651,50.057916480284476 L 35.16983409770028,50.057916480284476 L 35.16983409770028,50.05686739087271 L 35.17280508835651,50.05686739087271 z\" /></g></svg>"
      ],
      "text/plain": [
       "<shapely.geometry.polygon.Polygon at 0x7f48fc19c160>"
      ]
     },
     "metadata": {},
     "output_type": "display_data"
    },
    {
     "data": {
      "image/svg+xml": [
       "<svg xmlns=\"http://www.w3.org/2000/svg\" xmlns:xlink=\"http://www.w3.org/1999/xlink\" width=\"100.0\" height=\"100.0\" viewBox=\"35.17708004681179 50.05723874783865 0.005101785154870697 0.004347592524588606\" preserveAspectRatio=\"xMinYMin meet\"><g transform=\"matrix(1,0,0,-1,0,100.1188250882019)\"><path fill-rule=\"evenodd\" fill=\"#66cc99\" stroke=\"#555555\" stroke-width=\"0.00010203570309741394\" opacity=\"0.6\" d=\"M 35.181992876960926,50.057427702844386 L 35.181992876960926,50.06139738535751 L 35.17726900181752,50.06139738535751 L 35.17726900181752,50.057427702844386 L 35.181992876960926,50.057427702844386 z\" /></g></svg>"
      ],
      "text/plain": [
       "<shapely.geometry.polygon.Polygon at 0x7f48fc19c160>"
      ]
     },
     "metadata": {},
     "output_type": "display_data"
    },
    {
     "data": {
      "image/svg+xml": [
       "<svg xmlns=\"http://www.w3.org/2000/svg\" xmlns:xlink=\"http://www.w3.org/1999/xlink\" width=\"100.0\" height=\"100.0\" viewBox=\"35.173570712648626 50.05665119986748 0.0015882916048255424 0.0007947956050102789\" preserveAspectRatio=\"xMinYMin meet\"><g transform=\"matrix(1,0,0,-1,0,100.11409719533998)\"><path fill-rule=\"evenodd\" fill=\"#66cc99\" stroke=\"#555555\" stroke-width=\"3.176583209651085e-05\" opacity=\"0.6\" d=\"M 35.17510017863846,50.056710025482474 L 35.17510017863846,50.0573871698575 L 35.17362953826362,50.0573871698575 L 35.17362953826362,50.056710025482474 L 35.17510017863846,50.056710025482474 z\" /></g></svg>"
      ],
      "text/plain": [
       "<shapely.geometry.polygon.Polygon at 0x7f48fc19c160>"
      ]
     },
     "metadata": {},
     "output_type": "display_data"
    },
    {
     "data": {
      "image/svg+xml": [
       "<svg xmlns=\"http://www.w3.org/2000/svg\" xmlns:xlink=\"http://www.w3.org/1999/xlink\" width=\"100.0\" height=\"100.0\" viewBox=\"35.138138678082356 50.05353238741425 0.0064815132156539335 0.005840110212133709\" preserveAspectRatio=\"xMinYMin meet\"><g transform=\"matrix(1,0,0,-1,0,100.11290488504063)\"><path fill-rule=\"evenodd\" fill=\"#66cc99\" stroke=\"#555555\" stroke-width=\"0.00012963026431307866\" opacity=\"0.6\" d=\"M 35.14438013525299,50.05377244345927 L 35.14438013525299,50.05913244158136 L 35.13837873412738,50.05913244158136 L 35.13837873412738,50.05377244345927 L 35.14438013525299,50.05377244345927 z\" /></g></svg>"
      ],
      "text/plain": [
       "<shapely.geometry.polygon.Polygon at 0x7f48fbe8acc0>"
      ]
     },
     "metadata": {},
     "output_type": "display_data"
    },
    {
     "data": {
      "image/svg+xml": [
       "<svg xmlns=\"http://www.w3.org/2000/svg\" xmlns:xlink=\"http://www.w3.org/1999/xlink\" width=\"100.0\" height=\"100.0\" viewBox=\"35.295334536451406 50.05724583696547 0.0045563112704058994 0.0038279825045179905\" preserveAspectRatio=\"xMinYMin meet\"><g transform=\"matrix(1,0,0,-1,0,100.11831965643546)\"><path fill-rule=\"evenodd\" fill=\"#66cc99\" stroke=\"#555555\" stroke-width=\"9.112622540811799e-05\" opacity=\"0.6\" d=\"M 35.29972209545254,50.057414589234746 L 35.29972209545254,50.060905067200714 L 35.29550328872068,50.060905067200714 L 35.29550328872068,50.057414589234746 L 35.29972209545254,50.057414589234746 z\" /></g></svg>"
      ],
      "text/plain": [
       "<shapely.geometry.polygon.Polygon at 0x7f48fbe8acc0>"
      ]
     },
     "metadata": {},
     "output_type": "display_data"
    },
    {
     "data": {
      "image/svg+xml": [
       "<svg xmlns=\"http://www.w3.org/2000/svg\" xmlns:xlink=\"http://www.w3.org/1999/xlink\" width=\"100.0\" height=\"100.0\" viewBox=\"35.29655383101673 50.05428673869513 0.003722057094137199 0.0034850589598889314\" preserveAspectRatio=\"xMinYMin meet\"><g transform=\"matrix(1,0,0,-1,0,100.11205853635016)\"><path fill-rule=\"evenodd\" fill=\"#66cc99\" stroke=\"#555555\" stroke-width=\"7.444114188274397e-05\" opacity=\"0.6\" d=\"M 35.30013803414442,50.05442459266158 L 35.30013803414442,50.05763394368857 L 35.29669168498318,50.05763394368857 L 35.29669168498318,50.05442459266158 L 35.30013803414442,50.05442459266158 z\" /></g></svg>"
      ],
      "text/plain": [
       "<shapely.geometry.polygon.Polygon at 0x7f48fbe8acc0>"
      ]
     },
     "metadata": {},
     "output_type": "display_data"
    },
    {
     "data": {
      "image/svg+xml": [
       "<svg xmlns=\"http://www.w3.org/2000/svg\" xmlns:xlink=\"http://www.w3.org/1999/xlink\" width=\"100.0\" height=\"100.0\" viewBox=\"35.288629901837496 50.04347524256125 0.007500265911666304 0.0028641724648750255\" preserveAspectRatio=\"xMinYMin meet\"><g transform=\"matrix(1,0,0,-1,0,100.08981465758737)\"><path fill-rule=\"evenodd\" fill=\"#66cc99\" stroke=\"#555555\" stroke-width=\"0.00015000531823332607\" opacity=\"0.6\" d=\"M 35.2958523801228,50.04375303018761 L 35.2958523801228,50.046061627399766 L 35.288907689463855,50.046061627399766 L 35.288907689463855,50.04375303018761 L 35.2958523801228,50.04375303018761 z\" /></g></svg>"
      ],
      "text/plain": [
       "<shapely.geometry.polygon.Polygon at 0x7f48fc19c160>"
      ]
     },
     "metadata": {},
     "output_type": "display_data"
    },
    {
     "data": {
      "image/svg+xml": [
       "<svg xmlns=\"http://www.w3.org/2000/svg\" xmlns:xlink=\"http://www.w3.org/1999/xlink\" width=\"100.0\" height=\"100.0\" viewBox=\"35.325832052636756 50.04006525247246 0.005550998942112528 0.004856889216533489\" preserveAspectRatio=\"xMinYMin meet\"><g transform=\"matrix(1,0,0,-1,0,100.08498739416146)\"><path fill-rule=\"evenodd\" fill=\"#66cc99\" stroke=\"#555555\" stroke-width=\"0.00011101997884225057\" opacity=\"0.6\" d=\"M 35.331177459025454,50.04027084502587 L 35.331177459025454,50.04471654913558 L 35.32603764519017,50.04471654913558 L 35.32603764519017,50.04027084502587 L 35.331177459025454,50.04027084502587 z\" /></g></svg>"
      ],
      "text/plain": [
       "<shapely.geometry.polygon.Polygon at 0x7f48fc19c160>"
      ]
     },
     "metadata": {},
     "output_type": "display_data"
    },
    {
     "data": {
      "image/svg+xml": [
       "<svg xmlns=\"http://www.w3.org/2000/svg\" xmlns:xlink=\"http://www.w3.org/1999/xlink\" width=\"100.0\" height=\"100.0\" viewBox=\"35.29912627393266 50.04860783217231 0.004385457995262243 0.004656294487602963\" preserveAspectRatio=\"xMinYMin meet\"><g transform=\"matrix(1,0,0,-1,0,100.10187195883222)\"><path fill-rule=\"evenodd\" fill=\"#66cc99\" stroke=\"#555555\" stroke-width=\"9.312588975205926e-05\" opacity=\"0.6\" d=\"M 35.30333927657653,50.0487802875237 L 35.30333927657653,50.05309167130852 L 35.29929872928405,50.05309167130852 L 35.29929872928405,50.0487802875237 L 35.30333927657653,50.0487802875237 z\" /></g></svg>"
      ],
      "text/plain": [
       "<shapely.geometry.polygon.Polygon at 0x7f48fc19c160>"
      ]
     },
     "metadata": {},
     "output_type": "display_data"
    },
    {
     "data": {
      "image/svg+xml": [
       "<svg xmlns=\"http://www.w3.org/2000/svg\" xmlns:xlink=\"http://www.w3.org/1999/xlink\" width=\"100.0\" height=\"100.0\" viewBox=\"35.32838888719553 50.05276816881656 0.004099075808397856 0.0017057103703166376\" preserveAspectRatio=\"xMinYMin meet\"><g transform=\"matrix(1,0,0,-1,0,100.10724204800344)\"><path fill-rule=\"evenodd\" fill=\"#66cc99\" stroke=\"#555555\" stroke-width=\"8.198151616795713e-05\" opacity=\"0.6\" d=\"M 35.3323361453814,50.05291998643909 L 35.3323361453814,50.05432206156435 L 35.32854070481806,50.05432206156435 L 35.32854070481806,50.05291998643909 L 35.3323361453814,50.05291998643909 z\" /></g></svg>"
      ],
      "text/plain": [
       "<shapely.geometry.polygon.Polygon at 0x7f48fc19c160>"
      ]
     },
     "metadata": {},
     "output_type": "display_data"
    },
    {
     "data": {
      "image/svg+xml": [
       "<svg xmlns=\"http://www.w3.org/2000/svg\" xmlns:xlink=\"http://www.w3.org/1999/xlink\" width=\"100.0\" height=\"100.0\" viewBox=\"35.2867608516157 50.04160668981421 0.0014118147598409791 0.0007867057228807539\" preserveAspectRatio=\"xMinYMin meet\"><g transform=\"matrix(1,0,0,-1,0,100.0840000853513)\"><path fill-rule=\"evenodd\" fill=\"#66cc99\" stroke=\"#555555\" stroke-width=\"2.8236295196819583e-05\" opacity=\"0.6\" d=\"M 35.28812037693999,50.04165897924976 L 35.28812037693999,50.04234110610154 L 35.286813141051255,50.04234110610154 L 35.286813141051255,50.04165897924976 L 35.28812037693999,50.04165897924976 z\" /></g></svg>"
      ],
      "text/plain": [
       "<shapely.geometry.polygon.Polygon at 0x7f48fc19c160>"
      ]
     },
     "metadata": {},
     "output_type": "display_data"
    },
    {
     "data": {
      "image/svg+xml": [
       "<svg xmlns=\"http://www.w3.org/2000/svg\" xmlns:xlink=\"http://www.w3.org/1999/xlink\" width=\"100.0\" height=\"100.0\" viewBox=\"35.316427381714455 50.04439288235761 0.0053905654466817055 0.0018254681668281592\" preserveAspectRatio=\"xMinYMin meet\"><g transform=\"matrix(1,0,0,-1,0,100.09061123288205)\"><path fill-rule=\"evenodd\" fill=\"#66cc99\" stroke=\"#555555\" stroke-width=\"0.00010781130893363412\" opacity=\"0.6\" d=\"M 35.32161829658904,50.04459253292971 L 35.32161829658904,50.04601869995234 L 35.316627032286554,50.04601869995234 L 35.316627032286554,50.04459253292971 L 35.32161829658904,50.04459253292971 z\" /></g></svg>"
      ],
      "text/plain": [
       "<shapely.geometry.polygon.Polygon at 0x7f48fc19c160>"
      ]
     },
     "metadata": {},
     "output_type": "display_data"
    },
    {
     "data": {
      "image/svg+xml": [
       "<svg xmlns=\"http://www.w3.org/2000/svg\" xmlns:xlink=\"http://www.w3.org/1999/xlink\" width=\"100.0\" height=\"100.0\" viewBox=\"35.330569000139086 50.046107189539555 0.0019893753434132577 0.0011203705632993888\" preserveAspectRatio=\"xMinYMin meet\"><g transform=\"matrix(1,0,0,-1,0,100.09333474964241)\"><path fill-rule=\"evenodd\" fill=\"#66cc99\" stroke=\"#555555\" stroke-width=\"3.978750686826516e-05\" opacity=\"0.6\" d=\"M 35.33248469491422,50.04618087010783 L 35.33248469491422,50.04715387953458 L 35.33064268070736,50.04715387953458 L 35.33064268070736,50.04618087010783 L 35.33248469491422,50.04618087010783 z\" /></g></svg>"
      ],
      "text/plain": [
       "<shapely.geometry.polygon.Polygon at 0x7f48fc19c160>"
      ]
     },
     "metadata": {},
     "output_type": "display_data"
    },
    {
     "data": {
      "image/svg+xml": [
       "<svg xmlns=\"http://www.w3.org/2000/svg\" xmlns:xlink=\"http://www.w3.org/1999/xlink\" width=\"100.0\" height=\"100.0\" viewBox=\"35.316829208200595 50.050142817712086 0.0022621122856492093 0.0013407974184289628\" preserveAspectRatio=\"xMinYMin meet\"><g transform=\"matrix(1,0,0,-1,0,100.10162643284261)\"><path fill-rule=\"evenodd\" fill=\"#66cc99\" stroke=\"#555555\" stroke-width=\"4.5242245712984185e-05\" opacity=\"0.6\" d=\"M 35.31900753854974,50.05022659964859 L 35.31900753854974,50.05139983319401 L 35.3169129901371,50.05139983319401 L 35.3169129901371,50.05022659964859 L 35.31900753854974,50.05022659964859 z\" /></g></svg>"
      ],
      "text/plain": [
       "<shapely.geometry.polygon.Polygon at 0x7f48fc19c160>"
      ]
     },
     "metadata": {},
     "output_type": "display_data"
    },
    {
     "data": {
      "image/svg+xml": [
       "<svg xmlns=\"http://www.w3.org/2000/svg\" xmlns:xlink=\"http://www.w3.org/1999/xlink\" width=\"100.0\" height=\"100.0\" viewBox=\"35.13836188302997 50.03042992223591 0.013877497354698676 0.009166968091015804\" preserveAspectRatio=\"xMinYMin meet\"><g transform=\"matrix(1,0,0,-1,0,100.07002681256284)\"><path fill-rule=\"evenodd\" fill=\"#66cc99\" stroke=\"#555555\" stroke-width=\"0.00027754994709397354\" opacity=\"0.6\" d=\"M 35.151725399001165,50.030943903619416 L 35.151725399001165,50.03908290894342 L 35.13887586441348,50.03908290894342 L 35.13887586441348,50.030943903619416 L 35.151725399001165,50.030943903619416 z\" /></g></svg>"
      ],
      "text/plain": [
       "<shapely.geometry.polygon.Polygon at 0x7f48fc19c160>"
      ]
     },
     "metadata": {},
     "output_type": "display_data"
    },
    {
     "data": {
      "image/svg+xml": [
       "<svg xmlns=\"http://www.w3.org/2000/svg\" xmlns:xlink=\"http://www.w3.org/1999/xlink\" width=\"100.0\" height=\"100.0\" viewBox=\"35.23229569460425 50.02394557519547 0.010909477689239111 0.003976527617830072\" preserveAspectRatio=\"xMinYMin meet\"><g transform=\"matrix(1,0,0,-1,0,100.05186767800876)\"><path fill-rule=\"evenodd\" fill=\"#66cc99\" stroke=\"#555555\" stroke-width=\"0.00021818955378478223\" opacity=\"0.6\" d=\"M 35.242801117564255,50.0243496299247 L 35.242801117564255,50.02751804808407 L 35.23269974933348,50.02751804808407 L 35.23269974933348,50.0243496299247 L 35.242801117564255,50.0243496299247 z\" /></g></svg>"
      ],
      "text/plain": [
       "<shapely.geometry.polygon.Polygon at 0x7f48fc19c160>"
      ]
     },
     "metadata": {},
     "output_type": "display_data"
    },
    {
     "data": {
      "image/svg+xml": [
       "<svg xmlns=\"http://www.w3.org/2000/svg\" xmlns:xlink=\"http://www.w3.org/1999/xlink\" width=\"100.0\" height=\"100.0\" viewBox=\"35.217201873674945 50.013011372794864 0.00693072700257602 0.004885230869675183\" preserveAspectRatio=\"xMinYMin meet\"><g transform=\"matrix(1,0,0,-1,0,100.0309079764594)\"><path fill-rule=\"evenodd\" fill=\"#66cc99\" stroke=\"#555555\" stroke-width=\"0.00013861454005152041\" opacity=\"0.6\" d=\"M 35.22387590708483,50.01326806638755 L 35.22387590708483,50.01763991007185 L 35.217458567267634,50.01763991007185 L 35.217458567267634,50.01326806638755 L 35.22387590708483,50.01326806638755 z\" /></g></svg>"
      ],
      "text/plain": [
       "<shapely.geometry.polygon.Polygon at 0x7f48fc19c160>"
      ]
     },
     "metadata": {},
     "output_type": "display_data"
    },
    {
     "data": {
      "image/svg+xml": [
       "<svg xmlns=\"http://www.w3.org/2000/svg\" xmlns:xlink=\"http://www.w3.org/1999/xlink\" width=\"100.0\" height=\"100.0\" viewBox=\"35.253360612554225 50.01383283907659 0.0024706758296133557 0.002015774380410562\" preserveAspectRatio=\"xMinYMin meet\"><g transform=\"matrix(1,0,0,-1,0,100.0296814525336)\"><path fill-rule=\"evenodd\" fill=\"#66cc99\" stroke=\"#555555\" stroke-width=\"4.9413516592267115e-05\" opacity=\"0.6\" d=\"M 35.25573978187163,50.0139243455888 L 35.25573978187163,50.0157571069448 L 35.25345211906643,50.0157571069448 L 35.25345211906643,50.0139243455888 L 35.25573978187163,50.0139243455888 z\" /></g></svg>"
      ],
      "text/plain": [
       "<shapely.geometry.polygon.Polygon at 0x7f48fc19c160>"
      ]
     },
     "metadata": {},
     "output_type": "display_data"
    },
    {
     "data": {
      "image/svg+xml": [
       "<svg xmlns=\"http://www.w3.org/2000/svg\" xmlns:xlink=\"http://www.w3.org/1999/xlink\" width=\"100.0\" height=\"100.0\" viewBox=\"35.338298100339784 50.01435257532321 0.0024472360683773786 0.004159657745667289\" preserveAspectRatio=\"xMinYMin meet\"><g transform=\"matrix(1,0,0,-1,0,100.03286480839208)\"><path fill-rule=\"evenodd\" fill=\"#66cc99\" stroke=\"#555555\" stroke-width=\"8.319315491334578e-05\" opacity=\"0.6\" d=\"M 35.340591275010176,50.014506636721194 L 35.340591275010176,50.01835817167089 L 35.33845216173777,50.01835817167089 L 35.33845216173777,50.014506636721194 L 35.340591275010176,50.014506636721194 z\" /></g></svg>"
      ],
      "text/plain": [
       "<shapely.geometry.polygon.Polygon at 0x7f48fc19c160>"
      ]
     },
     "metadata": {},
     "output_type": "display_data"
    },
    {
     "data": {
      "image/svg+xml": [
       "<svg xmlns=\"http://www.w3.org/2000/svg\" xmlns:xlink=\"http://www.w3.org/1999/xlink\" width=\"100.0\" height=\"100.0\" viewBox=\"35.34843737545674 50.02772383432149 0.008550802290038462 0.004868660319644391\" preserveAspectRatio=\"xMinYMin meet\"><g transform=\"matrix(1,0,0,-1,0,100.06031632896263)\"><path fill-rule=\"evenodd\" fill=\"#66cc99\" stroke=\"#555555\" stroke-width=\"0.00017101604580076923\" opacity=\"0.6\" d=\"M 35.356671481365666,50.028040530702604 L 35.356671481365666,50.032275798260024 L 35.34875407183785,50.032275798260024 L 35.34875407183785,50.028040530702604 L 35.356671481365666,50.028040530702604 z\" /></g></svg>"
      ],
      "text/plain": [
       "<shapely.geometry.polygon.Polygon at 0x7f48fc19c160>"
      ]
     },
     "metadata": {},
     "output_type": "display_data"
    },
    {
     "data": {
      "image/svg+xml": [
       "<svg xmlns=\"http://www.w3.org/2000/svg\" xmlns:xlink=\"http://www.w3.org/1999/xlink\" width=\"100.0\" height=\"100.0\" viewBox=\"35.26399019835156 50.0247678032113 0.0029840630150061997 0.002024755403603251\" preserveAspectRatio=\"xMinYMin meet\"><g transform=\"matrix(1,0,0,-1,0,100.0515603618262)\"><path fill-rule=\"evenodd\" fill=\"#66cc99\" stroke=\"#555555\" stroke-width=\"5.9681260300124e-05\" opacity=\"0.6\" d=\"M 35.266863740514154,50.02487832406371 L 35.266863740514154,50.02668203776249 L 35.26410071920397,50.02668203776249 L 35.26410071920397,50.02487832406371 L 35.266863740514154,50.02487832406371 z\" /></g></svg>"
      ],
      "text/plain": [
       "<shapely.geometry.polygon.Polygon at 0x7f48fc19c160>"
      ]
     },
     "metadata": {},
     "output_type": "display_data"
    },
    {
     "data": {
      "image/svg+xml": [
       "<svg xmlns=\"http://www.w3.org/2000/svg\" xmlns:xlink=\"http://www.w3.org/1999/xlink\" width=\"100.0\" height=\"100.0\" viewBox=\"35.23506938690869 50.02751384365257 0.0025348492277998957 0.0012088669857277523\" preserveAspectRatio=\"xMinYMin meet\"><g transform=\"matrix(1,0,0,-1,0,100.05623655429088)\"><path fill-rule=\"evenodd\" fill=\"#66cc99\" stroke=\"#555555\" stroke-width=\"5.069698455599792e-05\" opacity=\"0.6\" d=\"M 35.237510352831755,50.02760772695731 L 35.237510352831755,50.02862882733356 L 35.23516327021343,50.02862882733356 L 35.23516327021343,50.02760772695731 L 35.237510352831755,50.02760772695731 z\" /></g></svg>"
      ],
      "text/plain": [
       "<shapely.geometry.polygon.Polygon at 0x7f48fc19c160>"
      ]
     },
     "metadata": {},
     "output_type": "display_data"
    },
    {
     "data": {
      "image/svg+xml": [
       "<svg xmlns=\"http://www.w3.org/2000/svg\" xmlns:xlink=\"http://www.w3.org/1999/xlink\" width=\"100.0\" height=\"100.0\" viewBox=\"35.23747714490785 50.030122457975985 0.0008388734184094915 0.000896613945613467\" preserveAspectRatio=\"xMinYMin meet\"><g transform=\"matrix(1,0,0,-1,0,100.06114152989758)\"><path fill-rule=\"evenodd\" fill=\"#66cc99\" stroke=\"#555555\" stroke-width=\"1.793227891226934e-05\" opacity=\"0.6\" d=\"M 35.238282810402346,50.0301556658999 L 35.238282810402346,50.030985863997685 L 35.23751035283176,50.030985863997685 L 35.23751035283176,50.0301556658999 L 35.238282810402346,50.0301556658999 z\" /></g></svg>"
      ],
      "text/plain": [
       "<shapely.geometry.polygon.Polygon at 0x7f48fc19c160>"
      ]
     },
     "metadata": {},
     "output_type": "display_data"
    },
    {
     "data": {
      "image/svg+xml": [
       "<svg xmlns=\"http://www.w3.org/2000/svg\" xmlns:xlink=\"http://www.w3.org/1999/xlink\" width=\"100.0\" height=\"100.0\" viewBox=\"35.355293115603 50.03398305246458 0.0036391547403624713 0.003705855601261021\" preserveAspectRatio=\"xMinYMin meet\"><g transform=\"matrix(1,0,0,-1,0,100.07167196053041)\"><path fill-rule=\"evenodd\" fill=\"#66cc99\" stroke=\"#555555\" stroke-width=\"7.411711202522042e-05\" opacity=\"0.6\" d=\"M 35.358795016432204,50.03412030637573 L 35.358795016432204,50.03755165415468 L 35.35543036951415,50.03755165415468 L 35.35543036951415,50.03412030637573 L 35.358795016432204,50.03412030637573 z\" /></g></svg>"
      ],
      "text/plain": [
       "<shapely.geometry.polygon.Polygon at 0x7f48fc19c160>"
      ]
     },
     "metadata": {},
     "output_type": "display_data"
    },
    {
     "data": {
      "image/svg+xml": [
       "<svg xmlns=\"http://www.w3.org/2000/svg\" xmlns:xlink=\"http://www.w3.org/1999/xlink\" width=\"100.0\" height=\"100.0\" viewBox=\"35.361826318198645 50.039531136944134 0.0025829792764184845 0.0022329997509231703\" preserveAspectRatio=\"xMinYMin meet\"><g transform=\"matrix(1,0,0,-1,0,100.0812952736392)\"><path fill-rule=\"evenodd\" fill=\"#66cc99\" stroke=\"#555555\" stroke-width=\"5.165958552836969e-05\" opacity=\"0.6\" d=\"M 35.36431363157594,50.03962680284326 L 35.36431363157594,50.04166847079593 L 35.36192198409777,50.04166847079593 L 35.36192198409777,50.03962680284326 L 35.36431363157594,50.03962680284326 z\" /></g></svg>"
      ],
      "text/plain": [
       "<shapely.geometry.polygon.Polygon at 0x7f48fc19c160>"
      ]
     },
     "metadata": {},
     "output_type": "display_data"
    },
    {
     "data": {
      "image/svg+xml": [
       "<svg xmlns=\"http://www.w3.org/2000/svg\" xmlns:xlink=\"http://www.w3.org/1999/xlink\" width=\"100.0\" height=\"100.0\" viewBox=\"35.37226400257169 50.02566528557597 0.006738206808066138 0.002598635576781305\" preserveAspectRatio=\"xMinYMin meet\"><g transform=\"matrix(1,0,0,-1,0,100.05392920672872)\"><path fill-rule=\"evenodd\" fill=\"#66cc99\" stroke=\"#555555\" stroke-width=\"0.00013476413616132278\" opacity=\"0.6\" d=\"M 35.37875264616464,50.02591484879108 L 35.37875264616464,50.028014357937636 L 35.372513565786804,50.028014357937636 L 35.372513565786804,50.02591484879108 L 35.37875264616464,50.02591484879108 z\" /></g></svg>"
      ],
      "text/plain": [
       "<shapely.geometry.polygon.Polygon at 0x7f48fc19c160>"
      ]
     },
     "metadata": {},
     "output_type": "display_data"
    },
    {
     "data": {
      "image/svg+xml": [
       "<svg xmlns=\"http://www.w3.org/2000/svg\" xmlns:xlink=\"http://www.w3.org/1999/xlink\" width=\"100.0\" height=\"100.0\" viewBox=\"35.36711468156653 50.02463569932417 0.00619273292358713 0.003932480500004942\" preserveAspectRatio=\"xMinYMin meet\"><g transform=\"matrix(1,0,0,-1,0,100.05320387914836)\"><path fill-rule=\"evenodd\" fill=\"#66cc99\" stroke=\"#555555\" stroke-width=\"0.00012385465847174258\" opacity=\"0.6\" d=\"M 35.373078054011465,50.02486505980282 L 35.373078054011465,50.02833881934553 L 35.367344042045175,50.02833881934553 L 35.367344042045175,50.02486505980282 L 35.373078054011465,50.02486505980282 z\" /></g></svg>"
      ],
      "text/plain": [
       "<shapely.geometry.polygon.Polygon at 0x7f48fc19c160>"
      ]
     },
     "metadata": {},
     "output_type": "display_data"
    },
    {
     "data": {
      "image/svg+xml": [
       "<svg xmlns=\"http://www.w3.org/2000/svg\" xmlns:xlink=\"http://www.w3.org/1999/xlink\" width=\"100.0\" height=\"100.0\" viewBox=\"35.382763186451314 50.03385766299201 0.00261506597551886 0.0017394609006231576\" preserveAspectRatio=\"xMinYMin meet\"><g transform=\"matrix(1,0,0,-1,0,100.06945478688465)\"><path fill-rule=\"evenodd\" fill=\"#66cc99\" stroke=\"#555555\" stroke-width=\"5.23013195103772e-05\" opacity=\"0.6\" d=\"M 35.38528139813144,50.033954517287405 L 35.38528139813144,50.03550026959724 L 35.382860040746706,50.03550026959724 L 35.382860040746706,50.033954517287405 L 35.38528139813144,50.033954517287405 z\" /></g></svg>"
      ],
      "text/plain": [
       "<shapely.geometry.polygon.Polygon at 0x7f48fc19c160>"
      ]
     },
     "metadata": {},
     "output_type": "display_data"
    },
    {
     "data": {
      "image/svg+xml": [
       "<svg xmlns=\"http://www.w3.org/2000/svg\" xmlns:xlink=\"http://www.w3.org/1999/xlink\" width=\"100.0\" height=\"100.0\" viewBox=\"35.37933288063977 50.0324646397613 0.0033851467535725988 0.0019587581453279768\" preserveAspectRatio=\"xMinYMin meet\"><g transform=\"matrix(1,0,0,-1,0,100.06688803766792)\"><path fill-rule=\"evenodd\" fill=\"#66cc99\" stroke=\"#555555\" stroke-width=\"6.770293507145197e-05\" opacity=\"0.6\" d=\"M 35.38259265158766,50.03259001556699 L 35.38259265158766,50.03429802210094 L 35.37945825644546,50.03429802210094 L 35.37945825644546,50.03259001556699 L 35.38259265158766,50.03259001556699 z\" /></g></svg>"
      ],
      "text/plain": [
       "<shapely.geometry.polygon.Polygon at 0x7f48fc19c160>"
      ]
     },
     "metadata": {},
     "output_type": "display_data"
    },
    {
     "data": {
      "image/svg+xml": [
       "<svg xmlns=\"http://www.w3.org/2000/svg\" xmlns:xlink=\"http://www.w3.org/1999/xlink\" width=\"100.0\" height=\"100.0\" viewBox=\"35.376890280671866 50.03410534909535 0.0018530068722100168 0.0008767428686553558\" preserveAspectRatio=\"xMinYMin meet\"><g transform=\"matrix(1,0,0,-1,0,100.06908744105935)\"><path fill-rule=\"evenodd\" fill=\"#66cc99\" stroke=\"#555555\" stroke-width=\"3.7060137444200336e-05\" opacity=\"0.6\" d=\"M 35.37867465765992,50.0341739789795 L 35.37867465765992,50.03491346207985 L 35.37695891055602,50.03491346207985 L 35.37695891055602,50.0341739789795 L 35.37867465765992,50.0341739789795 z\" /></g></svg>"
      ],
      "text/plain": [
       "<shapely.geometry.polygon.Polygon at 0x7f48fc19c160>"
      ]
     },
     "metadata": {},
     "output_type": "display_data"
    },
    {
     "data": {
      "image/svg+xml": [
       "<svg xmlns=\"http://www.w3.org/2000/svg\" xmlns:xlink=\"http://www.w3.org/1999/xlink\" width=\"100.0\" height=\"100.0\" viewBox=\"35.165969335516344 50.02744005141053 0.0024481335004438165 0.0015326008518954382\" preserveAspectRatio=\"xMinYMin meet\"><g transform=\"matrix(1,0,0,-1,0,100.05641270367295)\"><path fill-rule=\"evenodd\" fill=\"#66cc99\" stroke=\"#555555\" stroke-width=\"4.896267000887633e-05\" opacity=\"0.6\" d=\"M 35.16832679740566,50.027530723021655 L 35.16832679740566,50.0288819806513 L 35.16606000712747,50.0288819806513 L 35.16606000712747,50.027530723021655 L 35.16832679740566,50.027530723021655 z\" /></g></svg>"
      ],
      "text/plain": [
       "<shapely.geometry.polygon.Polygon at 0x7f48fc19c160>"
      ]
     },
     "metadata": {},
     "output_type": "display_data"
    },
    {
     "data": {
      "image/svg+xml": [
       "<svg xmlns=\"http://www.w3.org/2000/svg\" xmlns:xlink=\"http://www.w3.org/1999/xlink\" width=\"100.0\" height=\"100.0\" viewBox=\"35.18778622768734 50.06980010704826 0.001185103726079717 0.0013872926980624811\" preserveAspectRatio=\"xMinYMin meet\"><g transform=\"matrix(1,0,0,-1,0,100.14098750679457)\"><path fill-rule=\"evenodd\" fill=\"#66cc99\" stroke=\"#555555\" stroke-width=\"2.7745853961249624e-05\" opacity=\"0.6\" d=\"M 35.18891995020238,50.069851488259296 L 35.18891995020238,50.071136018535285 L 35.18783760889838,50.071136018535285 L 35.18783760889838,50.069851488259296 L 35.18891995020238,50.069851488259296 z\" /></g></svg>"
      ],
      "text/plain": [
       "<shapely.geometry.polygon.Polygon at 0x7f48fc19c160>"
      ]
     },
     "metadata": {},
     "output_type": "display_data"
    },
    {
     "data": {
      "image/svg+xml": [
       "<svg xmlns=\"http://www.w3.org/2000/svg\" xmlns:xlink=\"http://www.w3.org/1999/xlink\" width=\"100.0\" height=\"100.0\" viewBox=\"35.194688108122264 50.012213686557885 0.0017975034260047096 0.0012748667934516789\" preserveAspectRatio=\"xMinYMin meet\"><g transform=\"matrix(1,0,0,-1,0,100.02570223990922)\"><path fill-rule=\"evenodd\" fill=\"#66cc99\" stroke=\"#555555\" stroke-width=\"3.5950068520094194e-05\" opacity=\"0.6\" d=\"M 35.196419037347304,50.01228026075885 L 35.196419037347304,50.01342197915037 L 35.19475468232323,50.01342197915037 L 35.19475468232323,50.01228026075885 L 35.196419037347304,50.01228026075885 z\" /></g></svg>"
      ],
      "text/plain": [
       "<shapely.geometry.polygon.Polygon at 0x7f48fc19c160>"
      ]
     },
     "metadata": {},
     "output_type": "display_data"
    },
    {
     "data": {
      "image/svg+xml": [
       "<svg xmlns=\"http://www.w3.org/2000/svg\" xmlns:xlink=\"http://www.w3.org/1999/xlink\" width=\"100.0\" height=\"100.0\" viewBox=\"35.33360106232768 50.050711153313365 0.0010631319079053014 0.0005528081551631203\" preserveAspectRatio=\"xMinYMin meet\"><g transform=\"matrix(1,0,0,-1,0,100.1019751147819)\"><path fill-rule=\"evenodd\" fill=\"#66cc99\" stroke=\"#555555\" stroke-width=\"2.1262638158106027e-05\" opacity=\"0.6\" d=\"M 35.33462481897974,50.05075052856921 L 35.33462481897974,50.05122458621268 L 35.333640437583526,50.05122458621268 L 35.333640437583526,50.05075052856921 L 35.33462481897974,50.05075052856921 z\" /></g></svg>"
      ],
      "text/plain": [
       "<shapely.geometry.polygon.Polygon at 0x7f48fc19c160>"
      ]
     },
     "metadata": {},
     "output_type": "display_data"
    },
    {
     "data": {
      "image/svg+xml": [
       "<svg xmlns=\"http://www.w3.org/2000/svg\" xmlns:xlink=\"http://www.w3.org/1999/xlink\" width=\"100.0\" height=\"100.0\" viewBox=\"35.3015131886628 50.02887970363747 0.010556523999284195 0.0023946649812316423\" preserveAspectRatio=\"xMinYMin meet\"><g transform=\"matrix(1,0,0,-1,0,100.06015407225618)\"><path fill-rule=\"evenodd\" fill=\"#66cc99\" stroke=\"#555555\" stroke-width=\"0.0002111304799856839\" opacity=\"0.6\" d=\"M 35.311678730291746,50.02927068600781 L 35.311678730291746,50.03088338624836 L 35.301904171033144,50.03088338624836 L 35.301904171033144,50.02927068600781 L 35.311678730291746,50.02927068600781 z\" /></g></svg>"
      ],
      "text/plain": [
       "<shapely.geometry.polygon.Polygon at 0x7f48fc19c160>"
      ]
     },
     "metadata": {},
     "output_type": "display_data"
    },
    {
     "data": {
      "image/svg+xml": [
       "<svg xmlns=\"http://www.w3.org/2000/svg\" xmlns:xlink=\"http://www.w3.org/1999/xlink\" width=\"100.0\" height=\"100.0\" viewBox=\"35.31030642970771 50.02552391667307 0.00917679593859333 0.003914880585128344\" preserveAspectRatio=\"xMinYMin meet\"><g transform=\"matrix(1,0,0,-1,0,100.05496271393127)\"><path fill-rule=\"evenodd\" fill=\"#66cc99\" stroke=\"#555555\" stroke-width=\"0.00018353591877186658\" opacity=\"0.6\" d=\"M 35.31914334431524,50.02586379800413 L 35.31914334431524,50.02909891592714 L 35.31064631103877,50.02909891592714 L 35.31064631103877,50.02586379800413 L 35.31914334431524,50.02586379800413 z\" /></g></svg>"
      ],
      "text/plain": [
       "<shapely.geometry.polygon.Polygon at 0x7f48fc19c160>"
      ]
     },
     "metadata": {},
     "output_type": "display_data"
    },
    {
     "data": {
      "image/svg+xml": [
       "<svg xmlns=\"http://www.w3.org/2000/svg\" xmlns:xlink=\"http://www.w3.org/1999/xlink\" width=\"100.0\" height=\"100.0\" viewBox=\"35.346358805233265 50.02999001066266 0.0029437162731227318 0.0034420913460451175\" preserveAspectRatio=\"xMinYMin meet\"><g transform=\"matrix(1,0,0,-1,0,100.06342211267136)\"><path fill-rule=\"evenodd\" fill=\"#66cc99\" stroke=\"#555555\" stroke-width=\"6.884182692090234e-05\" opacity=\"0.6\" d=\"M 35.34917503664172,50.03011749552733 L 35.34917503664172,50.03330461714403 L 35.346486290097936,50.03330461714403 L 35.346486290097936,50.03011749552733 L 35.34917503664172,50.03011749552733 z\" /></g></svg>"
      ],
      "text/plain": [
       "<shapely.geometry.polygon.Polygon at 0x7f48fc19c160>"
      ]
     },
     "metadata": {},
     "output_type": "display_data"
    },
    {
     "data": {
      "image/svg+xml": [
       "<svg xmlns=\"http://www.w3.org/2000/svg\" xmlns:xlink=\"http://www.w3.org/1999/xlink\" width=\"100.0\" height=\"100.0\" viewBox=\"35.35352929963163 50.036190021681264 0.001452262064084664 0.001957853367990481\" preserveAspectRatio=\"xMinYMin meet\"><g transform=\"matrix(1,0,0,-1,0,100.07433789673053)\"><path fill-rule=\"evenodd\" fill=\"#66cc99\" stroke=\"#555555\" stroke-width=\"3.9157067359809616e-05\" opacity=\"0.6\" d=\"M 35.354909048608015,50.036262534768966 L 35.354909048608015,50.03807536196155 L 35.35360181271933,50.03807536196155 L 35.35360181271933,50.036262534768966 L 35.354909048608015,50.036262534768966 z\" /></g></svg>"
      ],
      "text/plain": [
       "<shapely.geometry.polygon.Polygon at 0x7f48fc19c160>"
      ]
     },
     "metadata": {},
     "output_type": "display_data"
    },
    {
     "data": {
      "image/svg+xml": [
       "<svg xmlns=\"http://www.w3.org/2000/svg\" xmlns:xlink=\"http://www.w3.org/1999/xlink\" width=\"100.0\" height=\"100.0\" viewBox=\"35.35856633810568 50.031529398572985 0.005936039330904919 0.0022049946209463656\" preserveAspectRatio=\"xMinYMin meet\"><g transform=\"matrix(1,0,0,-1,0,100.06526379176691)\"><path fill-rule=\"evenodd\" fill=\"#66cc99\" stroke=\"#555555\" stroke-width=\"0.00011872078661809838\" opacity=\"0.6\" d=\"M 35.364282524128036,50.031749251881536 L 35.364282524128036,50.03351453988538 L 35.35878619141423,50.03351453988538 L 35.35878619141423,50.031749251881536 L 35.364282524128036,50.031749251881536 z\" /></g></svg>"
      ],
      "text/plain": [
       "<shapely.geometry.polygon.Polygon at 0x7f48fc19c160>"
      ]
     },
     "metadata": {},
     "output_type": "display_data"
    },
    {
     "data": {
      "image/svg+xml": [
       "<svg xmlns=\"http://www.w3.org/2000/svg\" xmlns:xlink=\"http://www.w3.org/1999/xlink\" width=\"100.0\" height=\"100.0\" viewBox=\"35.36443612434498 50.026728182891446 0.00999099592789321 0.004768468545982785\" preserveAspectRatio=\"xMinYMin meet\"><g transform=\"matrix(1,0,0,-1,0,100.05822483432888)\"><path fill-rule=\"evenodd\" fill=\"#66cc99\" stroke=\"#555555\" stroke-width=\"0.0001998199185578642\" opacity=\"0.6\" d=\"M 35.37405708338665,50.02709821977766 L 35.37405708338665,50.03112661455121 L 35.36480616123119,50.03112661455121 L 35.36480616123119,50.02709821977766 L 35.37405708338665,50.02709821977766 z\" /></g></svg>"
      ],
      "text/plain": [
       "<shapely.geometry.polygon.Polygon at 0x7f48fc19c160>"
      ]
     },
     "metadata": {},
     "output_type": "display_data"
    },
    {
     "data": {
      "image/svg+xml": [
       "<svg xmlns=\"http://www.w3.org/2000/svg\" xmlns:xlink=\"http://www.w3.org/1999/xlink\" width=\"100.0\" height=\"100.0\" viewBox=\"35.36295761084496 50.03246163976042 0.0065938166621819505 0.006294437113901097\" preserveAspectRatio=\"xMinYMin meet\"><g transform=\"matrix(1,0,0,-1,0,100.07121771663475)\"><path fill-rule=\"evenodd\" fill=\"#66cc99\" stroke=\"#555555\" stroke-width=\"0.00013187633324363902\" opacity=\"0.6\" d=\"M 35.369307212075206,50.032705855192354 L 35.369307212075206,50.03851186144239 L 35.36320182627689,50.03851186144239 L 35.36320182627689,50.032705855192354 L 35.369307212075206,50.032705855192354 z\" /></g></svg>"
      ],
      "text/plain": [
       "<shapely.geometry.polygon.Polygon at 0x7f48fc19c160>"
      ]
     },
     "metadata": {},
     "output_type": "display_data"
    },
    {
     "data": {
      "image/svg+xml": [
       "<svg xmlns=\"http://www.w3.org/2000/svg\" xmlns:xlink=\"http://www.w3.org/1999/xlink\" width=\"100.0\" height=\"100.0\" viewBox=\"35.37765539871982 50.02389954966232 0.010837282616307675 0.005204615870631812\" preserveAspectRatio=\"xMinYMin meet\"><g transform=\"matrix(1,0,0,-1,0,100.05300371519527)\"><path fill-rule=\"evenodd\" fill=\"#66cc99\" stroke=\"#555555\" stroke-width=\"0.0002167456523261535\" opacity=\"0.6\" d=\"M 35.38809130049848,50.02430093049996 L 35.38809130049848,50.028702784695305 L 35.37805677955746,50.028702784695305 L 35.37805677955746,50.02430093049996 L 35.38809130049848,50.02430093049996 z\" /></g></svg>"
      ],
      "text/plain": [
       "<shapely.geometry.polygon.Polygon at 0x7f48fc19c160>"
      ]
     },
     "metadata": {},
     "output_type": "display_data"
    },
    {
     "data": {
      "image/svg+xml": [
       "<svg xmlns=\"http://www.w3.org/2000/svg\" xmlns:xlink=\"http://www.w3.org/1999/xlink\" width=\"100.0\" height=\"100.0\" viewBox=\"35.39518015847872 50.03014071963613 0.008390671810992956 0.002883057740305617\" preserveAspectRatio=\"xMinYMin meet\"><g transform=\"matrix(1,0,0,-1,0,100.06316449701256)\"><path fill-rule=\"evenodd\" fill=\"#66cc99\" stroke=\"#555555\" stroke-width=\"0.00016781343621985912\" opacity=\"0.6\" d=\"M 35.40326006466709,50.03045148525876 L 35.40326006466709,50.032713011753806 L 35.39549092410135,50.032713011753806 L 35.39549092410135,50.03045148525876 L 35.40326006466709,50.03045148525876 z\" /></g></svg>"
      ],
      "text/plain": [
       "<shapely.geometry.polygon.Polygon at 0x7f48fc19c160>"
      ]
     },
     "metadata": {},
     "output_type": "display_data"
    },
    {
     "data": {
      "image/svg+xml": [
       "<svg xmlns=\"http://www.w3.org/2000/svg\" xmlns:xlink=\"http://www.w3.org/1999/xlink\" width=\"100.0\" height=\"100.0\" viewBox=\"35.34013411504219 49.998910609250224 0.007395984139321854 0.0038730850346553325\" preserveAspectRatio=\"xMinYMin meet\"><g transform=\"matrix(1,0,0,-1,0,100.0016943035351)\"><path fill-rule=\"evenodd\" fill=\"#66cc99\" stroke=\"#555555\" stroke-width=\"0.00014791968278643708\" opacity=\"0.6\" d=\"M 35.34725617384302,49.999184534588714 L 35.34725617384302,50.00250976894639 L 35.34040804038068,50.00250976894639 L 35.34040804038068,49.999184534588714 L 35.34725617384302,49.999184534588714 z\" /></g></svg>"
      ],
      "text/plain": [
       "<shapely.geometry.polygon.Polygon at 0x7f48fc19c160>"
      ]
     },
     "metadata": {},
     "output_type": "display_data"
    },
    {
     "data": {
      "image/svg+xml": [
       "<svg xmlns=\"http://www.w3.org/2000/svg\" xmlns:xlink=\"http://www.w3.org/1999/xlink\" width=\"100.0\" height=\"100.0\" viewBox=\"35.36106385291731 49.976156346466915 0.009626009725806739 0.0021746618747826574\" preserveAspectRatio=\"xMinYMin meet\"><g transform=\"matrix(1,0,0,-1,0,99.9544873548086)\"><path fill-rule=\"evenodd\" fill=\"#66cc99\" stroke=\"#555555\" stroke-width=\"0.0001925201945161348\" opacity=\"0.6\" d=\"M 35.370333343764386,49.97651286534565 L 35.370333343764386,49.977974489462966 L 35.361420371796044,49.977974489462966 L 35.361420371796044,49.97651286534565 L 35.370333343764386,49.97651286534565 z\" /></g></svg>"
      ],
      "text/plain": [
       "<shapely.geometry.polygon.Polygon at 0x7f48fc19c160>"
      ]
     },
     "metadata": {},
     "output_type": "display_data"
    },
    {
     "data": {
      "image/svg+xml": [
       "<svg xmlns=\"http://www.w3.org/2000/svg\" xmlns:xlink=\"http://www.w3.org/1999/xlink\" width=\"100.0\" height=\"100.0\" viewBox=\"35.35817827824258 49.98255392611688 0.008021674771505616 0.00157804257215588\" preserveAspectRatio=\"xMinYMin meet\"><g transform=\"matrix(1,0,0,-1,0,99.96668589480592)\"><path fill-rule=\"evenodd\" fill=\"#66cc99\" stroke=\"#555555\" stroke-width=\"0.00016043349543011233\" opacity=\"0.6\" d=\"M 35.36590285394848,49.98285102518249 L 35.36590285394848,49.98383486962342 L 35.358475377308196,49.98383486962342 L 35.358475377308196,49.98285102518249 L 35.36590285394848,49.98285102518249 z\" /></g></svg>"
      ],
      "text/plain": [
       "<shapely.geometry.polygon.Polygon at 0x7f48fc19c160>"
      ]
     },
     "metadata": {},
     "output_type": "display_data"
    },
    {
     "data": {
      "image/svg+xml": [
       "<svg xmlns=\"http://www.w3.org/2000/svg\" xmlns:xlink=\"http://www.w3.org/1999/xlink\" width=\"100.0\" height=\"100.0\" viewBox=\"35.349885649123244 49.98603189790632 0.0027033043979969307 0.0014514532452238882\" preserveAspectRatio=\"xMinYMin meet\"><g transform=\"matrix(1,0,0,-1,0,99.97351524905787)\"><path fill-rule=\"evenodd\" fill=\"#66cc99\" stroke=\"#555555\" stroke-width=\"5.4066087959938616e-05\" opacity=\"0.6\" d=\"M 35.35248883113613,49.986132020291436 L 35.35248883113613,49.98738322876643 L 35.34998577150836,49.98738322876643 L 35.34998577150836,49.986132020291436 L 35.35248883113613,49.986132020291436 z\" /></g></svg>"
      ],
      "text/plain": [
       "<shapely.geometry.polygon.Polygon at 0x7f48fc19c160>"
      ]
     },
     "metadata": {},
     "output_type": "display_data"
    },
    {
     "data": {
      "image/svg+xml": [
       "<svg xmlns=\"http://www.w3.org/2000/svg\" xmlns:xlink=\"http://www.w3.org/1999/xlink\" width=\"100.0\" height=\"100.0\" viewBox=\"35.042482072575915 50.00207512481517 0.0136368471115631 0.005382952815544684\" preserveAspectRatio=\"xMinYMin meet\"><g transform=\"matrix(1,0,0,-1,0,100.00953320244588)\"><path fill-rule=\"evenodd\" fill=\"#66cc99\" stroke=\"#555555\" stroke-width=\"0.00027273694223126197\" opacity=\"0.6\" d=\"M 35.055613851275936,50.00258019322671 L 35.055613851275936,50.006953009219174 L 35.04298714098746,50.006953009219174 L 35.04298714098746,50.00258019322671 L 35.055613851275936,50.00258019322671 z\" /></g></svg>"
      ],
      "text/plain": [
       "<shapely.geometry.polygon.Polygon at 0x7f48fc19c160>"
      ]
     },
     "metadata": {},
     "output_type": "display_data"
    },
    {
     "data": {
      "image/svg+xml": [
       "<svg xmlns=\"http://www.w3.org/2000/svg\" xmlns:xlink=\"http://www.w3.org/1999/xlink\" width=\"100.0\" height=\"100.0\" viewBox=\"35.053500882721316 50.01337106294233 0.002502762528692415 0.001979986558829694\" preserveAspectRatio=\"xMinYMin meet\"><g transform=\"matrix(1,0,0,-1,0,100.02872211244349)\"><path fill-rule=\"evenodd\" fill=\"#66cc99\" stroke=\"#555555\" stroke-width=\"5.00552505738483e-05\" opacity=\"0.6\" d=\"M 35.05591095034154,50.0134637578508 L 35.05591095034154,50.015258354592696 L 35.05359357762978,50.015258354592696 L 35.05359357762978,50.0134637578508 L 35.05591095034154,50.0134637578508 z\" /></g></svg>"
      ],
      "text/plain": [
       "<shapely.geometry.polygon.Polygon at 0x7f48fc19c160>"
      ]
     },
     "metadata": {},
     "output_type": "display_data"
    },
    {
     "data": {
      "image/svg+xml": [
       "<svg xmlns=\"http://www.w3.org/2000/svg\" xmlns:xlink=\"http://www.w3.org/1999/xlink\" width=\"100.0\" height=\"100.0\" viewBox=\"35.115693933648735 49.97282790725115 0.014487144637328697 0.003081780855140437\" preserveAspectRatio=\"xMinYMin meet\"><g transform=\"matrix(1,0,0,-1,0,99.94873759535744)\"><path fill-rule=\"evenodd\" fill=\"#66cc99\" stroke=\"#555555\" stroke-width=\"0.00028974289274657394\" opacity=\"0.6\" d=\"M 35.12964451737357,49.973364468163645 L 35.12964451737357,49.9753731271938 L 35.11623049456123,49.9753731271938 L 35.11623049456123,49.973364468163645 L 35.12964451737357,49.973364468163645 z\" /></g></svg>"
      ],
      "text/plain": [
       "<shapely.geometry.polygon.Polygon at 0x7f48fc19c160>"
      ]
     },
     "metadata": {},
     "output_type": "display_data"
    },
    {
     "data": {
      "image/svg+xml": [
       "<svg xmlns=\"http://www.w3.org/2000/svg\" xmlns:xlink=\"http://www.w3.org/1999/xlink\" width=\"100.0\" height=\"100.0\" viewBox=\"35.36669053784609 49.99030855974256 0.008563137818562438 0.0037094503849388616\" preserveAspectRatio=\"xMinYMin meet\"><g transform=\"matrix(1,0,0,-1,0,99.98432656987006)\"><path fill-rule=\"evenodd\" fill=\"#66cc99\" stroke=\"#555555\" stroke-width=\"0.00017126275637124877\" opacity=\"0.6\" d=\"M 35.37493652241211,49.9906257129951 L 35.37493652241211,49.99370085687496 L 35.36700769109863,49.99370085687496 L 35.36700769109863,49.9906257129951 L 35.37493652241211,49.9906257129951 z\" /></g></svg>"
      ],
      "text/plain": [
       "<shapely.geometry.polygon.Polygon at 0x7f48fc19c160>"
      ]
     },
     "metadata": {},
     "output_type": "display_data"
    },
    {
     "data": {
      "image/svg+xml": [
       "<svg xmlns=\"http://www.w3.org/2000/svg\" xmlns:xlink=\"http://www.w3.org/1999/xlink\" width=\"100.0\" height=\"100.0\" viewBox=\"35.35963458358735 49.99133111066034 0.0027434127718493073 0.0014447363116332212\" preserveAspectRatio=\"xMinYMin meet\"><g transform=\"matrix(1,0,0,-1,0,99.98410695763232)\"><path fill-rule=\"evenodd\" fill=\"#66cc99\" stroke=\"#555555\" stroke-width=\"5.486825543698615e-05\" opacity=\"0.6\" d=\"M 35.36227638847876,49.99143271854078 L 35.36227638847876,49.992674239091535 L 35.35973619146779,49.992674239091535 L 35.35973619146779,49.99143271854078 L 35.36227638847876,49.99143271854078 z\" /></g></svg>"
      ],
      "text/plain": [
       "<shapely.geometry.polygon.Polygon at 0x7f48fc19c160>"
      ]
     },
     "metadata": {},
     "output_type": "display_data"
    },
    {
     "data": {
      "image/svg+xml": [
       "<svg xmlns=\"http://www.w3.org/2000/svg\" xmlns:xlink=\"http://www.w3.org/1999/xlink\" width=\"100.0\" height=\"100.0\" viewBox=\"35.35743158889827 49.98996730206563 0.0010588713049983767 0.0016606248524624334\" preserveAspectRatio=\"xMinYMin meet\"><g transform=\"matrix(1,0,0,-1,0,99.98159522898372)\"><path fill-rule=\"evenodd\" fill=\"#66cc99\" stroke=\"#555555\" stroke-width=\"3.321249704924867e-05\" opacity=\"0.6\" d=\"M 35.35842895557911,49.99002880668979 L 35.35842895557911,49.99156642229393 L 35.357493093522436,49.99156642229393 L 35.357493093522436,49.99002880668979 L 35.35842895557911,49.99002880668979 z\" /></g></svg>"
      ],
      "text/plain": [
       "<shapely.geometry.polygon.Polygon at 0x7f48fc19c160>"
      ]
     },
     "metadata": {},
     "output_type": "display_data"
    },
    {
     "data": {
      "image/svg+xml": [
       "<svg xmlns=\"http://www.w3.org/2000/svg\" xmlns:xlink=\"http://www.w3.org/1999/xlink\" width=\"100.0\" height=\"100.0\" viewBox=\"35.35244092391173 49.96527397025408 0.02871759568198229 0.011605117887576455\" preserveAspectRatio=\"xMinYMin meet\"><g transform=\"matrix(1,0,0,-1,0,99.94215305839575)\"><path fill-rule=\"evenodd\" fill=\"#66cc99\" stroke=\"#555555\" stroke-width=\"0.0005743519136396458\" opacity=\"0.6\" d=\"M 35.38009490493882,49.96633758490897 L 35.38009490493882,49.97581547348677 L 35.35350453856662,49.97581547348677 L 35.35350453856662,49.96633758490897 L 35.38009490493882,49.96633758490897 z\" /></g></svg>"
      ],
      "text/plain": [
       "<shapely.geometry.polygon.Polygon at 0x7f48fc19c160>"
      ]
     },
     "metadata": {},
     "output_type": "display_data"
    },
    {
     "data": {
      "image/svg+xml": [
       "<svg xmlns=\"http://www.w3.org/2000/svg\" xmlns:xlink=\"http://www.w3.org/1999/xlink\" width=\"100.0\" height=\"100.0\" viewBox=\"35.201163636839325 49.96347769973557 0.0009240969337085403 0.0007488215493083317\" preserveAspectRatio=\"xMinYMin meet\"><g transform=\"matrix(1,0,0,-1,0,99.92770422102045)\"><path fill-rule=\"evenodd\" fill=\"#66cc99\" stroke=\"#555555\" stroke-width=\"1.8481938674170806e-05\" opacity=\"0.6\" d=\"M 35.20205350796068,49.96351192554793 L 35.20205350796068,49.96419229547252 L 35.20119786265168,49.96419229547252 L 35.20119786265168,49.96351192554793 L 35.20205350796068,49.96351192554793 z\" /></g></svg>"
      ],
      "text/plain": [
       "<shapely.geometry.polygon.Polygon at 0x7f48fc19c160>"
      ]
     },
     "metadata": {},
     "output_type": "display_data"
    },
    {
     "data": {
      "image/svg+xml": [
       "<svg xmlns=\"http://www.w3.org/2000/svg\" xmlns:xlink=\"http://www.w3.org/1999/xlink\" width=\"100.0\" height=\"100.0\" viewBox=\"35.217509789750714 49.95392197819998 0.0014118147598480846 0.00119032339935643\" preserveAspectRatio=\"xMinYMin meet\"><g transform=\"matrix(1,0,0,-1,0,99.90903427979931)\"><path fill-rule=\"evenodd\" fill=\"#66cc99\" stroke=\"#555555\" stroke-width=\"2.823629519696169e-05\" opacity=\"0.6\" d=\"M 35.21886931507501,49.95397426763553 L 35.21886931507501,49.955060012163784 L 35.217562079186266,49.955060012163784 L 35.217562079186266,49.95397426763553 L 35.21886931507501,49.95397426763553 z\" /></g></svg>"
      ],
      "text/plain": [
       "<shapely.geometry.polygon.Polygon at 0x7f48fc19c160>"
      ]
     },
     "metadata": {},
     "output_type": "display_data"
    },
    {
     "data": {
      "image/svg+xml": [
       "<svg xmlns=\"http://www.w3.org/2000/svg\" xmlns:xlink=\"http://www.w3.org/1999/xlink\" width=\"100.0\" height=\"100.0\" viewBox=\"35.33233334967095 49.95553752102789 0.01647331131151475 0.014109388042989224\" preserveAspectRatio=\"xMinYMin meet\"><g transform=\"matrix(1,0,0,-1,0,99.92518443009877)\"><path fill-rule=\"evenodd\" fill=\"#66cc99\" stroke=\"#555555\" stroke-width=\"0.00032946622623029496\" opacity=\"0.6\" d=\"M 35.34819653834129,49.95614764366906 L 35.34819653834129,49.96903678642971 L 35.33294347231212,49.96903678642971 L 35.33294347231212,49.95614764366906 L 35.34819653834129,49.95614764366906 z\" /></g></svg>"
      ],
      "text/plain": [
       "<shapely.geometry.polygon.Polygon at 0x7f48fc19c160>"
      ]
     },
     "metadata": {},
     "output_type": "display_data"
    },
    {
     "data": {
      "image/svg+xml": [
       "<svg xmlns=\"http://www.w3.org/2000/svg\" xmlns:xlink=\"http://www.w3.org/1999/xlink\" width=\"100.0\" height=\"100.0\" viewBox=\"35.07627854879289 50.19362372191149 0.028174380531005738 0.02152767146020551\" preserveAspectRatio=\"xMinYMin meet\"><g transform=\"matrix(1,0,0,-1,0,100.40877511528319)\"><path fill-rule=\"evenodd\" fill=\"#66cc99\" stroke=\"#555555\" stroke-width=\"0.0005634876106201148\" opacity=\"0.6\" d=\"M 35.10340943374867,50.19466721748672 L 35.10340943374867,50.214107897796474 L 35.07732204436812,50.214107897796474 L 35.07732204436812,50.19466721748672 L 35.10340943374867,50.19466721748672 z\" /></g></svg>"
      ],
      "text/plain": [
       "<shapely.geometry.polygon.Polygon at 0x7f48fc19c160>"
      ]
     },
     "metadata": {},
     "output_type": "display_data"
    },
    {
     "data": {
      "image/svg+xml": [
       "<svg xmlns=\"http://www.w3.org/2000/svg\" xmlns:xlink=\"http://www.w3.org/1999/xlink\" width=\"100.0\" height=\"100.0\" viewBox=\"35.105538239058426 50.1892404365133 0.04287623893804238 0.014645873893812222\" preserveAspectRatio=\"xMinYMin meet\"><g transform=\"matrix(1,0,0,-1,0,100.39312674692042)\"><path fill-rule=\"evenodd\" fill=\"#66cc99\" stroke=\"#555555\" stroke-width=\"0.0008575247787608475\" opacity=\"0.6\" d=\"M 35.14682646914691,50.19082844536286 L 35.14682646914691,50.202298301557555 L 35.107126247907985,50.202298301557555 L 35.107126247907985,50.19082844536286 L 35.14682646914691,50.19082844536286 z\" /></g></svg>"
      ],
      "text/plain": [
       "<shapely.geometry.polygon.Polygon at 0x7f48fc19c160>"
      ]
     },
     "metadata": {},
     "output_type": "display_data"
    },
    {
     "data": {
      "image/svg+xml": [
       "<svg xmlns=\"http://www.w3.org/2000/svg\" xmlns:xlink=\"http://www.w3.org/1999/xlink\" width=\"100.0\" height=\"100.0\" viewBox=\"35.12700469923541 50.20244279270799 0.0033116814159228625 0.0023360176991076287\" preserveAspectRatio=\"xMinYMin meet\"><g transform=\"matrix(1,0,0,-1,0,100.40722160311509)\"><path fill-rule=\"evenodd\" fill=\"#66cc99\" stroke=\"#555555\" stroke-width=\"6.623362831845725e-05\" opacity=\"0.6\" d=\"M 35.130193725784075,50.202565447575246 L 35.130193725784075,50.204656155539844 L 35.12712735410266,50.204656155539844 L 35.12712735410266,50.202565447575246 L 35.130193725784075,50.202565447575246 z\" /></g></svg>"
      ],
      "text/plain": [
       "<shapely.geometry.polygon.Polygon at 0x7f48fc19c160>"
      ]
     },
     "metadata": {},
     "output_type": "display_data"
    },
    {
     "data": {
      "image/svg+xml": [
       "<svg xmlns=\"http://www.w3.org/2000/svg\" xmlns:xlink=\"http://www.w3.org/1999/xlink\" width=\"100.0\" height=\"100.0\" viewBox=\"35.05136407010379 49.954310151962 0.005956501147778681 0.008017150682057661\" preserveAspectRatio=\"xMinYMin meet\"><g transform=\"matrix(1,0,0,-1,0,99.91663745460605)\"><path fill-rule=\"evenodd\" fill=\"#66cc99\" stroke=\"#555555\" stroke-width=\"0.00016034301364115322\" opacity=\"0.6\" d=\"M 35.05702363974482,49.954607083468744 L 35.05702363974482,49.96203037113731 L 35.05166100161053,49.96203037113731 L 35.05166100161053,49.954607083468744 L 35.05702363974482,49.954607083468744 z\" /></g></svg>"
      ],
      "text/plain": [
       "<shapely.geometry.polygon.Polygon at 0x7f48fc19c160>"
      ]
     },
     "metadata": {},
     "output_type": "display_data"
    },
    {
     "data": {
      "image/svg+xml": [
       "<svg xmlns=\"http://www.w3.org/2000/svg\" xmlns:xlink=\"http://www.w3.org/1999/xlink\" width=\"100.0\" height=\"100.0\" viewBox=\"35.090661790151444 49.957707165717125 0.00583977923365353 0.0028695327834427076\" preserveAspectRatio=\"xMinYMin meet\"><g transform=\"matrix(1,0,0,-1,0,99.9182838642177)\"><path fill-rule=\"evenodd\" fill=\"#66cc99\" stroke=\"#555555\" stroke-width=\"0.0001167955846730706\" opacity=\"0.6\" d=\"M 35.09628528126533,49.95792345383689 L 35.09628528126533,49.9603604103808 L 35.09087807827121,49.9603604103808 L 35.09087807827121,49.95792345383689 L 35.09628528126533,49.95792345383689 z\" /></g></svg>"
      ],
      "text/plain": [
       "<shapely.geometry.polygon.Polygon at 0x7f48fc19c160>"
      ]
     },
     "metadata": {},
     "output_type": "display_data"
    },
    {
     "data": {
      "image/svg+xml": [
       "<svg xmlns=\"http://www.w3.org/2000/svg\" xmlns:xlink=\"http://www.w3.org/1999/xlink\" width=\"100.0\" height=\"100.0\" viewBox=\"35.02380083383193 49.95586715940941 0.010620697397470735 0.0058326894351665715\" preserveAspectRatio=\"xMinYMin meet\"><g transform=\"matrix(1,0,0,-1,0,99.91756700825398)\"><path fill-rule=\"evenodd\" fill=\"#66cc99\" stroke=\"#555555\" stroke-width=\"0.0002124139479494147\" opacity=\"0.6\" d=\"M 35.03402817206653,49.95626051857228 L 35.03402817206653,49.961306489681704 L 35.0241941929948,49.961306489681704 L 35.0241941929948,49.95626051857228 L 35.03402817206653,49.95626051857228 z\" /></g></svg>"
      ],
      "text/plain": [
       "<shapely.geometry.polygon.Polygon at 0x7f48fc19c160>"
      ]
     },
     "metadata": {},
     "output_type": "display_data"
    },
    {
     "data": {
      "image/svg+xml": [
       "<svg xmlns=\"http://www.w3.org/2000/svg\" xmlns:xlink=\"http://www.w3.org/1999/xlink\" width=\"100.0\" height=\"100.0\" viewBox=\"35.126204829544676 49.949582203658835 0.0043124523573467854 0.002804601883262592\" preserveAspectRatio=\"xMinYMin meet\"><g transform=\"matrix(1,0,0,-1,0,99.90196900920094)\"><path fill-rule=\"evenodd\" fill=\"#66cc99\" stroke=\"#555555\" stroke-width=\"8.624904714693571e-05\" opacity=\"0.6\" d=\"M 35.13035756144434,49.949741924116516 L 35.13035756144434,49.95222708508442 L 35.12636455000236,49.95222708508442 L 35.12636455000236,49.949741924116516 L 35.13035756144434,49.949741924116516 z\" /></g></svg>"
      ],
      "text/plain": [
       "<shapely.geometry.polygon.Polygon at 0x7f48fc19c160>"
      ]
     },
     "metadata": {},
     "output_type": "display_data"
    },
    {
     "data": {
      "image/svg+xml": [
       "<svg xmlns=\"http://www.w3.org/2000/svg\" xmlns:xlink=\"http://www.w3.org/1999/xlink\" width=\"100.0\" height=\"100.0\" viewBox=\"35.13533407484473 49.94615359429106 0.004177004760329339 0.005211279220056042\" preserveAspectRatio=\"xMinYMin meet\"><g transform=\"matrix(1,0,0,-1,0,99.89751846780217)\"><path fill-rule=\"evenodd\" fill=\"#66cc99\" stroke=\"#555555\" stroke-width=\"0.00010422558440112084\" opacity=\"0.6\" d=\"M 35.139318069263574,49.946346604632545 L 35.139318069263574,49.951171863169634 L 35.13552708518621,49.951171863169634 L 35.13552708518621,49.946346604632545 L 35.139318069263574,49.946346604632545 z\" /></g></svg>"
      ],
      "text/plain": [
       "<shapely.geometry.polygon.Polygon at 0x7f48fc19c160>"
      ]
     },
     "metadata": {},
     "output_type": "display_data"
    },
    {
     "data": {
      "image/svg+xml": [
       "<svg xmlns=\"http://www.w3.org/2000/svg\" xmlns:xlink=\"http://www.w3.org/1999/xlink\" width=\"100.0\" height=\"100.0\" viewBox=\"35.19914716606111 49.92970868132 0.008522227277602212 0.003599375603265287\" preserveAspectRatio=\"xMinYMin meet\"><g transform=\"matrix(1,0,0,-1,0,99.86301673824326)\"><path fill-rule=\"evenodd\" fill=\"#66cc99\" stroke=\"#555555\" stroke-width=\"0.00017044454555204425\" opacity=\"0.6\" d=\"M 35.20735375529139,49.93002431936732 L 35.20735375529139,49.93299241887595 L 35.19946280410843,49.93299241887595 L 35.19946280410843,49.93002431936732 L 35.20735375529139,49.93002431936732 z\" /></g></svg>"
      ],
      "text/plain": [
       "<shapely.geometry.polygon.Polygon at 0x7f48fc19c160>"
      ]
     },
     "metadata": {},
     "output_type": "display_data"
    },
    {
     "data": {
      "image/svg+xml": [
       "<svg xmlns=\"http://www.w3.org/2000/svg\" xmlns:xlink=\"http://www.w3.org/1999/xlink\" width=\"100.0\" height=\"100.0\" viewBox=\"35.20829902165454 49.93163081046501 0.006380705260681907 0.007847975246015437\" preserveAspectRatio=\"xMinYMin meet\"><g transform=\"matrix(1,0,0,-1,0,99.87110959617604)\"><path fill-rule=\"evenodd\" fill=\"#66cc99\" stroke=\"#555555\" stroke-width=\"0.00015695950492030874\" opacity=\"0.6\" d=\"M 35.21438906116537,49.93192147621486 L 35.21438906116537,49.93918811996117 L 35.20858968740439,49.93918811996117 L 35.20858968740439,49.93192147621486 L 35.21438906116537,49.93192147621486 z\" /></g></svg>"
      ],
      "text/plain": [
       "<shapely.geometry.polygon.Polygon at 0x7f48fc19c160>"
      ]
     },
     "metadata": {},
     "output_type": "display_data"
    },
    {
     "data": {
      "image/svg+xml": [
       "<svg xmlns=\"http://www.w3.org/2000/svg\" xmlns:xlink=\"http://www.w3.org/1999/xlink\" width=\"100.0\" height=\"100.0\" viewBox=\"35.28042016037779 49.93817900251091 0.00695639636215617 0.005402522479187155\" preserveAspectRatio=\"xMinYMin meet\"><g transform=\"matrix(1,0,0,-1,0,99.881760527501)\"><path fill-rule=\"evenodd\" fill=\"#66cc99\" stroke=\"#555555\" stroke-width=\"0.00013912792724312339\" opacity=\"0.6\" d=\"M 35.28711891243023,49.93843664682062 L 35.28711891243023,49.94332388068038 L 35.2806778046875,49.94332388068038 L 35.2806778046875,49.93843664682062 L 35.28711891243023,49.93843664682062 z\" /></g></svg>"
      ],
      "text/plain": [
       "<shapely.geometry.polygon.Polygon at 0x7f48fc19c160>"
      ]
     },
     "metadata": {},
     "output_type": "display_data"
    },
    {
     "data": {
      "image/svg+xml": [
       "<svg xmlns=\"http://www.w3.org/2000/svg\" xmlns:xlink=\"http://www.w3.org/1999/xlink\" width=\"100.0\" height=\"100.0\" viewBox=\"35.25238375343226 49.93233697378501 0.0023615810528383463 0.0020337478105005857\" preserveAspectRatio=\"xMinYMin meet\"><g transform=\"matrix(1,0,0,-1,0,99.86670769538053)\"><path fill-rule=\"evenodd\" fill=\"#66cc99\" stroke=\"#555555\" stroke-width=\"4.723162105676692e-05\" opacity=\"0.6\" d=\"M 35.254657868520184,49.93242443974993 L 35.254657868520184,49.934283255630596 L 35.25247121939718,49.934283255630596 L 35.25247121939718,49.93242443974993 L 35.254657868520184,49.93242443974993 z\" /></g></svg>"
      ],
      "text/plain": [
       "<shapely.geometry.polygon.Polygon at 0x7f48fc19c160>"
      ]
     },
     "metadata": {},
     "output_type": "display_data"
    },
    {
     "data": {
      "image/svg+xml": [
       "<svg xmlns=\"http://www.w3.org/2000/svg\" xmlns:xlink=\"http://www.w3.org/1999/xlink\" width=\"100.0\" height=\"100.0\" viewBox=\"35.01265285362538 49.93575436699413 0.01227316240094467 0.0024197759457678103\" preserveAspectRatio=\"xMinYMin meet\"><g transform=\"matrix(1,0,0,-1,0,99.87392850993403)\"><path fill-rule=\"evenodd\" fill=\"#66cc99\" stroke=\"#555555\" stroke-width=\"0.0002454632480188934\" opacity=\"0.6\" d=\"M 35.02447145445592,49.93620892856454 L 35.02447145445592,49.93771958136949 L 35.01310741519579,49.93771958136949 L 35.01310741519579,49.93620892856454 L 35.02447145445592,49.93620892856454 z\" /></g></svg>"
      ],
      "text/plain": [
       "<shapely.geometry.polygon.Polygon at 0x7f48fc19c160>"
      ]
     },
     "metadata": {},
     "output_type": "display_data"
    },
    {
     "data": {
      "image/svg+xml": [
       "<svg xmlns=\"http://www.w3.org/2000/svg\" xmlns:xlink=\"http://www.w3.org/1999/xlink\" width=\"100.0\" height=\"100.0\" viewBox=\"35.14503946528781 49.90038083608433 0.004824867289656254 0.005574773229305663\" preserveAspectRatio=\"xMinYMin meet\"><g transform=\"matrix(1,0,0,-1,0,99.80633644539796)\"><path fill-rule=\"evenodd\" fill=\"#66cc99\" stroke=\"#555555\" stroke-width=\"0.00011149546458611326\" opacity=\"0.6\" d=\"M 35.1496578594949,49.900587309166895 L 35.1496578594949,49.90574913623107 L 35.14524593837037,49.90574913623107 L 35.14524593837037,49.900587309166895 L 35.1496578594949,49.900587309166895 z\" /></g></svg>"
      ],
      "text/plain": [
       "<shapely.geometry.polygon.Polygon at 0x7f48fc19c160>"
      ]
     },
     "metadata": {},
     "output_type": "display_data"
    },
    {
     "data": {
      "image/svg+xml": [
       "<svg xmlns=\"http://www.w3.org/2000/svg\" xmlns:xlink=\"http://www.w3.org/1999/xlink\" width=\"100.0\" height=\"100.0\" viewBox=\"35.08210972144426 49.90340114516616 0.010827536179711217 0.013418039610670007\" preserveAspectRatio=\"xMinYMin meet\"><g transform=\"matrix(1,0,0,-1,0,99.82022032994298)\"><path fill-rule=\"evenodd\" fill=\"#66cc99\" stroke=\"#555555\" stroke-width=\"0.00026836079221340017\" opacity=\"0.6\" d=\"M 35.092440293193945,49.903898109596184 L 35.092440293193945,49.9163222203468 L 35.08260668587429,49.9163222203468 L 35.08260668587429,49.903898109596184 L 35.092440293193945,49.903898109596184 z\" /></g></svg>"
      ],
      "text/plain": [
       "<shapely.geometry.polygon.Polygon at 0x7f48fc19c160>"
      ]
     },
     "metadata": {},
     "output_type": "display_data"
    },
    {
     "data": {
      "image/svg+xml": [
       "<svg xmlns=\"http://www.w3.org/2000/svg\" xmlns:xlink=\"http://www.w3.org/1999/xlink\" width=\"100.0\" height=\"100.0\" viewBox=\"34.973990015269884 49.933517275514504 0.016460476631827703 0.00628670615294169\" preserveAspectRatio=\"xMinYMin meet\"><g transform=\"matrix(1,0,0,-1,0,99.87332125718194)\"><path fill-rule=\"evenodd\" fill=\"#66cc99\" stroke=\"#555555\" stroke-width=\"0.00032920953263655407\" opacity=\"0.6\" d=\"M 34.98984084461905,49.93412692279716 L 34.98984084461905,49.93919433438479 L 34.97459966255254,49.93919433438479 L 34.97459966255254,49.93412692279716 L 34.98984084461905,49.93412692279716 z\" /></g></svg>"
      ],
      "text/plain": [
       "<shapely.geometry.polygon.Polygon at 0x7f48fc19c160>"
      ]
     },
     "metadata": {},
     "output_type": "display_data"
    },
    {
     "data": {
      "image/svg+xml": [
       "<svg xmlns=\"http://www.w3.org/2000/svg\" xmlns:xlink=\"http://www.w3.org/1999/xlink\" width=\"100.0\" height=\"100.0\" viewBox=\"35.01364381767329 50.10757757834353 0.007075117148744425 0.004039470199757034\" preserveAspectRatio=\"xMinYMin meet\"><g transform=\"matrix(1,0,0,-1,0,100.21919462688682)\"><path fill-rule=\"evenodd\" fill=\"#66cc99\" stroke=\"#555555\" stroke-width=\"0.0001415023429748885\" opacity=\"0.6\" d=\"M 35.02045689344616,50.10783961971941 L 35.02045689344616,50.11135500716741 L 35.01390585904917,50.11135500716741 L 35.01390585904917,50.10783961971941 L 35.02045689344616,50.10783961971941 z\" /></g></svg>"
      ],
      "text/plain": [
       "<shapely.geometry.polygon.Polygon at 0x7f48fc19c160>"
      ]
     },
     "metadata": {},
     "output_type": "display_data"
    },
    {
     "data": {
      "image/svg+xml": [
       "<svg xmlns=\"http://www.w3.org/2000/svg\" xmlns:xlink=\"http://www.w3.org/1999/xlink\" width=\"100.0\" height=\"100.0\" viewBox=\"35.03097808869842 50.13744541264202 0.009533038431676744 0.003886959469348028\" preserveAspectRatio=\"xMinYMin meet\"><g transform=\"matrix(1,0,0,-1,0,100.2787777847534)\"><path fill-rule=\"evenodd\" fill=\"#66cc99\" stroke=\"#555555\" stroke-width=\"0.00019066076863353488\" opacity=\"0.6\" d=\"M 35.04015805163262,50.137798488139495 L 35.04015805163262,50.1409792966139 L 35.03133116419589,50.1409792966139 L 35.03133116419589,50.137798488139495 L 35.04015805163262,50.137798488139495 z\" /></g></svg>"
      ],
      "text/plain": [
       "<shapely.geometry.polygon.Polygon at 0x7f48fc19c160>"
      ]
     },
     "metadata": {},
     "output_type": "display_data"
    },
    {
     "data": {
      "image/svg+xml": [
       "<svg xmlns=\"http://www.w3.org/2000/svg\" xmlns:xlink=\"http://www.w3.org/1999/xlink\" width=\"100.0\" height=\"100.0\" viewBox=\"35.14606229729724 50.155972025097526 0.011608967729813457 0.0038150101406202452\" preserveAspectRatio=\"xMinYMin meet\"><g transform=\"matrix(1,0,0,-1,0,100.31575906033567)\"><path fill-rule=\"evenodd\" fill=\"#66cc99\" stroke=\"#555555\" stroke-width=\"0.00023217935459626915\" opacity=\"0.6\" d=\"M 35.15724130325928,50.1564019868653 L 35.15724130325928,50.159357073470375 L 35.14649225906501,50.159357073470375 L 35.14649225906501,50.1564019868653 L 35.15724130325928,50.1564019868653 z\" /></g></svg>"
      ],
      "text/plain": [
       "<shapely.geometry.polygon.Polygon at 0x7f48fc19c160>"
      ]
     },
     "metadata": {},
     "output_type": "display_data"
    },
    {
     "data": {
      "image/svg+xml": [
       "<svg xmlns=\"http://www.w3.org/2000/svg\" xmlns:xlink=\"http://www.w3.org/1999/xlink\" width=\"100.0\" height=\"100.0\" viewBox=\"35.200140031542766 50.15218294487202 0.0028717595683218633 0.0024304353866000383\" preserveAspectRatio=\"xMinYMin meet\"><g transform=\"matrix(1,0,0,-1,0,100.30679632513063)\"><path fill-rule=\"evenodd\" fill=\"#66cc99\" stroke=\"#555555\" stroke-width=\"5.7435191366437265e-05\" opacity=\"0.6\" d=\"M 35.2029054296456,50.15228930633751 L 35.2029054296456,50.154507018793126 L 35.20024639300826,50.154507018793126 L 35.20024639300826,50.15228930633751 L 35.2029054296456,50.15228930633751 z\" /></g></svg>"
      ],
      "text/plain": [
       "<shapely.geometry.polygon.Polygon at 0x7f48fc19c160>"
      ]
     },
     "metadata": {},
     "output_type": "display_data"
    },
    {
     "data": {
      "image/svg+xml": [
       "<svg xmlns=\"http://www.w3.org/2000/svg\" xmlns:xlink=\"http://www.w3.org/1999/xlink\" width=\"100.0\" height=\"100.0\" viewBox=\"35.19810727973576 50.148640199933816 0.002406502431561819 0.0021867280646503673\" preserveAspectRatio=\"xMinYMin meet\"><g transform=\"matrix(1,0,0,-1,0,100.29946712793227)\"><path fill-rule=\"evenodd\" fill=\"#66cc99\" stroke=\"#555555\" stroke-width=\"4.8130048631236375e-05\" opacity=\"0.6\" d=\"M 35.20042465244763,50.148729329653506 L 35.20042465244763,50.150737798278776 L 35.19819640945545,50.150737798278776 L 35.19819640945545,50.148729329653506 L 35.20042465244763,50.148729329653506 z\" /></g></svg>"
      ],
      "text/plain": [
       "<shapely.geometry.polygon.Polygon at 0x7f48fc19c160>"
      ]
     },
     "metadata": {},
     "output_type": "display_data"
    },
    {
     "data": {
      "image/svg+xml": [
       "<svg xmlns=\"http://www.w3.org/2000/svg\" xmlns:xlink=\"http://www.w3.org/1999/xlink\" width=\"100.0\" height=\"100.0\" viewBox=\"35.21331934609385 50.14393357229678 0.005599128990731117 0.0030255175928886047\" preserveAspectRatio=\"xMinYMin meet\"><g transform=\"matrix(1,0,0,-1,0,100.29089266218645)\"><path fill-rule=\"evenodd\" fill=\"#66cc99\" stroke=\"#555555\" stroke-width=\"0.00011198257981462234\" opacity=\"0.6\" d=\"M 35.218711099936776,50.14414094744458 L 35.218711099936776,50.14675171474187 L 35.21352672124165,50.14675171474187 L 35.21352672124165,50.14414094744458 L 35.218711099936776,50.14414094744458 z\" /></g></svg>"
      ],
      "text/plain": [
       "<shapely.geometry.polygon.Polygon at 0x7f48fc19c160>"
      ]
     },
     "metadata": {},
     "output_type": "display_data"
    },
    {
     "data": {
      "image/svg+xml": [
       "<svg xmlns=\"http://www.w3.org/2000/svg\" xmlns:xlink=\"http://www.w3.org/1999/xlink\" width=\"100.0\" height=\"100.0\" viewBox=\"34.94961247891935 50.12708061797693 0.007830845037027245 0.009255768868328573\" preserveAspectRatio=\"xMinYMin meet\"><g transform=\"matrix(1,0,0,-1,0,100.26341700482219)\"><path fill-rule=\"evenodd\" fill=\"#66cc99\" stroke=\"#555555\" stroke-width=\"0.00018511537736657147\" opacity=\"0.6\" d=\"M 34.957100517701996,50.12742342423131 L 34.957100517701996,50.13599358059088 L 34.94995528517373,50.13599358059088 L 34.94995528517373,50.12742342423131 L 34.957100517701996,50.12742342423131 z\" /></g></svg>"
      ],
      "text/plain": [
       "<shapely.geometry.polygon.Polygon at 0x7f48fc19c160>"
      ]
     },
     "metadata": {},
     "output_type": "display_data"
    },
    {
     "data": {
      "image/svg+xml": [
       "<svg xmlns=\"http://www.w3.org/2000/svg\" xmlns:xlink=\"http://www.w3.org/1999/xlink\" width=\"100.0\" height=\"100.0\" viewBox=\"34.97965605620936 50.132662070531 0.0029595518032436985 0.0030542453932795866\" preserveAspectRatio=\"xMinYMin meet\"><g transform=\"matrix(1,0,0,-1,0,100.26837838645528)\"><path fill-rule=\"evenodd\" fill=\"#66cc99\" stroke=\"#555555\" stroke-width=\"6.108490786559173e-05\" opacity=\"0.6\" d=\"M 34.98250248781285,50.13277519073075 L 34.98250248781285,50.13560319572453 L 34.97976917640911,50.13560319572453 L 34.97976917640911,50.13277519073075 L 34.98250248781285,50.13277519073075 z\" /></g></svg>"
      ],
      "text/plain": [
       "<shapely.geometry.polygon.Polygon at 0x7f48fc19c160>"
      ]
     },
     "metadata": {},
     "output_type": "display_data"
    },
    {
     "data": {
      "image/svg+xml": [
       "<svg xmlns=\"http://www.w3.org/2000/svg\" xmlns:xlink=\"http://www.w3.org/1999/xlink\" width=\"100.0\" height=\"100.0\" viewBox=\"35.034129689545296 50.11203233299531 0.028910115877664566 0.007875857571015388\" preserveAspectRatio=\"xMinYMin meet\"><g transform=\"matrix(1,0,0,-1,0,100.23194052356163)\"><path fill-rule=\"evenodd\" fill=\"#66cc99\" stroke=\"#555555\" stroke-width=\"0.0005782023175532913\" opacity=\"0.6\" d=\"M 35.06196906039045,50.11310307802782 L 35.06196906039045,50.11883744553382 L 35.0352004345778,50.11883744553382 L 35.0352004345778,50.11310307802782 L 35.06196906039045,50.11310307802782 z\" /></g></svg>"
      ],
      "text/plain": [
       "<shapely.geometry.polygon.Polygon at 0x7f48fc19c160>"
      ]
     },
     "metadata": {},
     "output_type": "display_data"
    },
    {
     "data": {
      "image/svg+xml": [
       "<svg xmlns=\"http://www.w3.org/2000/svg\" xmlns:xlink=\"http://www.w3.org/1999/xlink\" width=\"100.0\" height=\"100.0\" viewBox=\"35.21222727502579 50.114479651689095 0.026522348480327196 0.02795978762326712\" preserveAspectRatio=\"xMinYMin meet\"><g transform=\"matrix(1,0,0,-1,0,100.25691909100146)\"><path fill-rule=\"evenodd\" fill=\"#66cc99\" stroke=\"#555555\" stroke-width=\"0.0005591957524653424\" opacity=\"0.6\" d=\"M 35.23771407581636,50.11551519937885 L 35.23771407581636,50.14140389162261 L 35.21326282271554,50.14140389162261 L 35.21326282271554,50.11551519937885 L 35.23771407581636,50.11551519937885 z\" /></g></svg>"
      ],
      "text/plain": [
       "<shapely.geometry.polygon.Polygon at 0x7f48fc19c160>"
      ]
     },
     "metadata": {},
     "output_type": "display_data"
    },
    {
     "data": {
      "image/svg+xml": [
       "<svg xmlns=\"http://www.w3.org/2000/svg\" xmlns:xlink=\"http://www.w3.org/1999/xlink\" width=\"100.0\" height=\"100.0\" viewBox=\"35.2021837294607 50.09340051417079 0.008743625501310248 0.0027728082408771115\" preserveAspectRatio=\"xMinYMin meet\"><g transform=\"matrix(1,0,0,-1,0,100.18957383658245)\"><path fill-rule=\"evenodd\" fill=\"#66cc99\" stroke=\"#555555\" stroke-width=\"0.00017487251002620496\" opacity=\"0.6\" d=\"M 35.21060351698048,50.09372435215232 L 35.21060351698048,50.09584948443013 L 35.20250756744223,50.09584948443013 L 35.20250756744223,50.09372435215232 L 35.21060351698048,50.09372435215232 z\" /></g></svg>"
      ],
      "text/plain": [
       "<shapely.geometry.polygon.Polygon at 0x7f48fc19c160>"
      ]
     },
     "metadata": {},
     "output_type": "display_data"
    },
    {
     "data": {
      "image/svg+xml": [
       "<svg xmlns=\"http://www.w3.org/2000/svg\" xmlns:xlink=\"http://www.w3.org/1999/xlink\" width=\"100.0\" height=\"100.0\" viewBox=\"35.212416415478906 50.10651018051479 0.0015882916048255424 0.0010894359328332825\" preserveAspectRatio=\"xMinYMin meet\"><g transform=\"matrix(1,0,0,-1,0,100.21410979696242)\"><path fill-rule=\"evenodd\" fill=\"#66cc99\" stroke=\"#555555\" stroke-width=\"3.176583209651085e-05\" opacity=\"0.6\" d=\"M 35.21394588146874,50.10656900612978 L 35.21394588146874,50.10754079083263 L 35.2124752410939,50.10754079083263 L 35.2124752410939,50.10656900612978 L 35.21394588146874,50.10656900612978 z\" /></g></svg>"
      ],
      "text/plain": [
       "<shapely.geometry.polygon.Polygon at 0x7f48fc19c160>"
      ]
     },
     "metadata": {},
     "output_type": "display_data"
    },
    {
     "data": {
      "image/svg+xml": [
       "<svg xmlns=\"http://www.w3.org/2000/svg\" xmlns:xlink=\"http://www.w3.org/1999/xlink\" width=\"100.0\" height=\"100.0\" viewBox=\"35.03446886228064 50.107400039819694 0.002087052632106179 0.0035085606100366817\" preserveAspectRatio=\"xMinYMin meet\"><g transform=\"matrix(1,0,0,-1,0,100.21830864024943)\"><path fill-rule=\"evenodd\" fill=\"#66cc99\" stroke=\"#555555\" stroke-width=\"7.017121220073363e-05\" opacity=\"0.6\" d=\"M 35.03642596822348,50.10752998650896 L 35.03642596822348,50.11077865374047 L 35.0345988089699,50.11077865374047 L 35.0345988089699,50.10752998650896 L 35.03642596822348,50.10752998650896 z\" /></g></svg>"
      ],
      "text/plain": [
       "<shapely.geometry.polygon.Polygon at 0x7f48fc19c160>"
      ]
     },
     "metadata": {},
     "output_type": "display_data"
    },
    {
     "data": {
      "image/svg+xml": [
       "<svg xmlns=\"http://www.w3.org/2000/svg\" xmlns:xlink=\"http://www.w3.org/1999/xlink\" width=\"100.0\" height=\"100.0\" viewBox=\"35.20500319959347 50.08052895091999 0.006417339817474499 0.004488385367366732\" preserveAspectRatio=\"xMinYMin meet\"><g transform=\"matrix(1,0,0,-1,0,100.16554628720735)\"><path fill-rule=\"evenodd\" fill=\"#66cc99\" stroke=\"#555555\" stroke-width=\"0.00012834679634948998\" opacity=\"0.6\" d=\"M 35.211182860158445,50.08076663017249 L 35.211182860158445,50.08477965703486 L 35.20524087884597,50.08477965703486 L 35.20524087884597,50.08076663017249 L 35.211182860158445,50.08076663017249 z\" /></g></svg>"
      ],
      "text/plain": [
       "<shapely.geometry.polygon.Polygon at 0x7f48fc19c160>"
      ]
     },
     "metadata": {},
     "output_type": "display_data"
    },
    {
     "data": {
      "image/svg+xml": [
       "<svg xmlns=\"http://www.w3.org/2000/svg\" xmlns:xlink=\"http://www.w3.org/1999/xlink\" width=\"100.0\" height=\"100.0\" viewBox=\"35.09708869886298 49.97431609150239 0.005647259039143648 0.001985086695142968\" preserveAspectRatio=\"xMinYMin meet\"><g transform=\"matrix(1,0,0,-1,0,99.95061726969992)\"><path fill-rule=\"evenodd\" fill=\"#66cc99\" stroke=\"#555555\" stroke-width=\"0.00011294518078287296\" opacity=\"0.6\" d=\"M 35.102526800159936,49.97452524924458 L 35.102526800159936,49.97609202045534 L 35.097297856605174,49.97609202045534 L 35.097297856605174,49.97452524924458 L 35.102526800159936,49.97452524924458 z\" /></g></svg>"
      ],
      "text/plain": [
       "<shapely.geometry.polygon.Polygon at 0x7f48fc19c160>"
      ]
     },
     "metadata": {},
     "output_type": "display_data"
    },
    {
     "data": {
      "image/svg+xml": [
       "<svg xmlns=\"http://www.w3.org/2000/svg\" xmlns:xlink=\"http://www.w3.org/1999/xlink\" width=\"100.0\" height=\"100.0\" viewBox=\"35.15272270374596 49.933092343905464 0.006751041487994769 0.0029325408189961877\" preserveAspectRatio=\"xMinYMin meet\"><g transform=\"matrix(1,0,0,-1,0,99.86911722862993)\"><path fill-rule=\"evenodd\" fill=\"#66cc99\" stroke=\"#555555\" stroke-width=\"0.0001350208297598954\" opacity=\"0.6\" d=\"M 35.15922370666032,49.9333423824791 L 35.15922370666032,49.93577484615083 L 35.15297274231959,49.93577484615083 L 35.15297274231959,49.9333423824791 L 35.15922370666032,49.9333423824791 z\" /></g></svg>"
      ],
      "text/plain": [
       "<shapely.geometry.polygon.Polygon at 0x7f48fc19c160>"
      ]
     },
     "metadata": {},
     "output_type": "display_data"
    },
    {
     "data": {
      "image/svg+xml": [
       "<svg xmlns=\"http://www.w3.org/2000/svg\" xmlns:xlink=\"http://www.w3.org/1999/xlink\" width=\"100.0\" height=\"100.0\" viewBox=\"35.20500319959347 50.08052895091999 0.006417339817474499 0.004488385367366732\" preserveAspectRatio=\"xMinYMin meet\"><g transform=\"matrix(1,0,0,-1,0,100.16554628720735)\"><path fill-rule=\"evenodd\" fill=\"#66cc99\" stroke=\"#555555\" stroke-width=\"0.00012834679634948998\" opacity=\"0.6\" d=\"M 35.211182860158445,50.08076663017249 L 35.211182860158445,50.08477965703486 L 35.20524087884597,50.08477965703486 L 35.20524087884597,50.08076663017249 L 35.211182860158445,50.08076663017249 z\" /></g></svg>"
      ],
      "text/plain": [
       "<shapely.geometry.polygon.Polygon at 0x7f48fc19c160>"
      ]
     },
     "metadata": {},
     "output_type": "display_data"
    },
    {
     "data": {
      "image/svg+xml": [
       "<svg xmlns=\"http://www.w3.org/2000/svg\" xmlns:xlink=\"http://www.w3.org/1999/xlink\" width=\"100.0\" height=\"100.0\" viewBox=\"35.36208423965817 49.990156617231634 0.010151429423331138 0.004665099554230778\" preserveAspectRatio=\"xMinYMin meet\"><g transform=\"matrix(1,0,0,-1,0,99.9849783340175)\"><path fill-rule=\"evenodd\" fill=\"#66cc99\" stroke=\"#555555\" stroke-width=\"0.00020302858846662274\" opacity=\"0.6\" d=\"M 35.37185969021397,49.990532596099165 L 35.37185969021397,49.99444573791833 L 35.3624602185257,49.99444573791833 L 35.3624602185257,49.990532596099165 L 35.37185969021397,49.990532596099165 z\" /></g></svg>"
      ],
      "text/plain": [
       "<shapely.geometry.polygon.Polygon at 0x7f48fc19c160>"
      ]
     },
     "metadata": {},
     "output_type": "display_data"
    },
    {
     "data": {
      "image/svg+xml": [
       "<svg xmlns=\"http://www.w3.org/2000/svg\" xmlns:xlink=\"http://www.w3.org/1999/xlink\" width=\"100.0\" height=\"100.0\" viewBox=\"35.152251159412344 50.22662647633639 0.020371858407081334 0.013850011061947498\" preserveAspectRatio=\"xMinYMin meet\"><g transform=\"matrix(1,0,0,-1,0,100.46710296373473)\"><path fill-rule=\"evenodd\" fill=\"#66cc99\" stroke=\"#555555\" stroke-width=\"0.0004074371681416267\" opacity=\"0.6\" d=\"M 35.17186850454509,50.22738098961073 L 35.17186850454509,50.239721974124 L 35.15300567268668,50.239721974124 L 35.15300567268668,50.22738098961073 L 35.17186850454509,50.22738098961073 z\" /></g></svg>"
      ],
      "text/plain": [
       "<shapely.geometry.polygon.Polygon at 0x7f48fc19c160>"
      ]
     },
     "metadata": {},
     "output_type": "display_data"
    },
    {
     "data": {
      "image/svg+xml": [
       "<svg xmlns=\"http://www.w3.org/2000/svg\" xmlns:xlink=\"http://www.w3.org/1999/xlink\" width=\"100.0\" height=\"100.0\" viewBox=\"34.95874295831031 49.97096710702095 0.008198151616468863 0.006306063837214992\" preserveAspectRatio=\"xMinYMin meet\"><g transform=\"matrix(1,0,0,-1,0,99.94824027787911)\"><path fill-rule=\"evenodd\" fill=\"#66cc99\" stroke=\"#555555\" stroke-width=\"0.00016396303232937726\" opacity=\"0.6\" d=\"M 34.966637474681725,49.971270742266 L 34.966637474681725,49.97696953561311 L 34.959046593555364,49.97696953561311 L 34.959046593555364,49.971270742266 L 34.966637474681725,49.971270742266 z\" /></g></svg>"
      ],
      "text/plain": [
       "<shapely.geometry.polygon.Polygon at 0x7f48fc19c160>"
      ]
     },
     "metadata": {},
     "output_type": "display_data"
    },
    {
     "data": {
      "image/svg+xml": [
       "<svg xmlns=\"http://www.w3.org/2000/svg\" xmlns:xlink=\"http://www.w3.org/1999/xlink\" width=\"100.0\" height=\"100.0\" viewBox=\"34.908865984129726 49.96181984383323 0.01106991118467704 0.0035911766814535895\" preserveAspectRatio=\"xMinYMin meet\"><g transform=\"matrix(1,0,0,-1,0,99.92723086434792)\"><path fill-rule=\"evenodd\" fill=\"#66cc99\" stroke=\"#555555\" stroke-width=\"0.00022139822369354078\" opacity=\"0.6\" d=\"M 34.91952589860386,49.96222984054378 L 34.91952589860386,49.96500102380414 L 34.90927598084027,49.96500102380414 L 34.90927598084027,49.96222984054378 L 34.91952589860386,49.96222984054378 z\" /></g></svg>"
      ],
      "text/plain": [
       "<shapely.geometry.polygon.Polygon at 0x7f48fc19c160>"
      ]
     },
     "metadata": {},
     "output_type": "display_data"
    },
    {
     "data": {
      "image/svg+xml": [
       "<svg xmlns=\"http://www.w3.org/2000/svg\" xmlns:xlink=\"http://www.w3.org/1999/xlink\" width=\"100.0\" height=\"100.0\" viewBox=\"34.93015775578496 49.96022134635318 0.011108014139772138 0.005961493766747594\" preserveAspectRatio=\"xMinYMin meet\"><g transform=\"matrix(1,0,0,-1,0,99.9264041864731)\"><path fill-rule=\"evenodd\" fill=\"#66cc99\" stroke=\"#555555\" stroke-width=\"0.00022216028279544274\" opacity=\"0.6\" d=\"M 34.94085436199363,49.96063275428428 L 34.94085436199363,49.965771432188824 L 34.930569163716065,49.965771432188824 L 34.930569163716065,49.96063275428428 L 34.94085436199363,49.96063275428428 z\" /></g></svg>"
      ],
      "text/plain": [
       "<shapely.geometry.polygon.Polygon at 0x7f48fc19c160>"
      ]
     },
     "metadata": {},
     "output_type": "display_data"
    },
    {
     "data": {
      "image/svg+xml": [
       "<svg xmlns=\"http://www.w3.org/2000/svg\" xmlns:xlink=\"http://www.w3.org/1999/xlink\" width=\"100.0\" height=\"100.0\" viewBox=\"35.25467837711645 50.0252362190426 0.0017863892693057437 0.002257191383328916\" preserveAspectRatio=\"xMinYMin meet\"><g transform=\"matrix(1,0,0,-1,0,100.05272962946853)\"><path fill-rule=\"evenodd\" fill=\"#66cc99\" stroke=\"#555555\" stroke-width=\"4.514382766657832e-05\" opacity=\"0.6\" d=\"M 35.25638116670489,50.02531981872346 L 35.25638116670489,50.02740981074506 L 35.25476197679731,50.02740981074506 L 35.25476197679731,50.02531981872346 L 35.25638116670489,50.02531981872346 z\" /></g></svg>"
      ],
      "text/plain": [
       "<shapely.geometry.polygon.Polygon at 0x7f48fc19c160>"
      ]
     },
     "metadata": {},
     "output_type": "display_data"
    },
    {
     "data": {
      "image/svg+xml": [
       "<svg xmlns=\"http://www.w3.org/2000/svg\" xmlns:xlink=\"http://www.w3.org/1999/xlink\" width=\"100.0\" height=\"100.0\" viewBox=\"35.346748303996485 50.02232635268686 0.004291596002751419 0.0020453494570489283\" preserveAspectRatio=\"xMinYMin meet\"><g transform=\"matrix(1,0,0,-1,0,100.04669805483077)\"><path fill-rule=\"evenodd\" fill=\"#66cc99\" stroke=\"#555555\" stroke-width=\"8.583192005502838e-05\" opacity=\"0.6\" d=\"M 35.35088095199914,50.02248530068696 L 35.35088095199914,50.02421275414381 L 35.34690725199658,50.02421275414381 L 35.34690725199658,50.02248530068696 L 35.35088095199914,50.02248530068696 z\" /></g></svg>"
      ],
      "text/plain": [
       "<shapely.geometry.polygon.Polygon at 0x7f48fc19c160>"
      ]
     },
     "metadata": {},
     "output_type": "display_data"
    },
    {
     "data": {
      "image/svg+xml": [
       "<svg xmlns=\"http://www.w3.org/2000/svg\" xmlns:xlink=\"http://www.w3.org/1999/xlink\" width=\"100.0\" height=\"100.0\" viewBox=\"35.38724867932068 50.02319247559165 0.012276991925958214 0.006005569722844939\" preserveAspectRatio=\"xMinYMin meet\"><g transform=\"matrix(1,0,0,-1,0,100.05239052090614)\"><path fill-rule=\"evenodd\" fill=\"#66cc99\" stroke=\"#555555\" stroke-width=\"0.0002455398385191643\" opacity=\"0.6\" d=\"M 35.39907096784197,50.02364717899631 L 35.39907096784197,50.02874334190983 L 35.38770338272534,50.02874334190983 L 35.38770338272534,50.02364717899631 L 35.39907096784197,50.02364717899631 z\" /></g></svg>"
      ],
      "text/plain": [
       "<shapely.geometry.polygon.Polygon at 0x7f48fc19c160>"
      ]
     },
     "metadata": {},
     "output_type": "display_data"
    },
    {
     "data": {
      "image/svg+xml": [
       "<svg xmlns=\"http://www.w3.org/2000/svg\" xmlns:xlink=\"http://www.w3.org/1999/xlink\" width=\"100.0\" height=\"100.0\" viewBox=\"35.14481479118603 50.079813338822134 0.0027033043980466687 0.0011630376972959766\" preserveAspectRatio=\"xMinYMin meet\"><g transform=\"matrix(1,0,0,-1,0,100.16078971534156)\"><path fill-rule=\"evenodd\" fill=\"#66cc99\" stroke=\"#555555\" stroke-width=\"5.406608796093337e-05\" opacity=\"0.6\" d=\"M 35.14741797319896,50.07991346120725 L 35.14741797319896,50.08087625413432 L 35.14491491357114,50.08087625413432 L 35.14491491357114,50.07991346120725 L 35.14741797319896,50.07991346120725 z\" /></g></svg>"
      ],
      "text/plain": [
       "<shapely.geometry.polygon.Polygon at 0x7f48fc19c160>"
      ]
     },
     "metadata": {},
     "output_type": "display_data"
    },
    {
     "data": {
      "image/svg+xml": [
       "<svg xmlns=\"http://www.w3.org/2000/svg\" xmlns:xlink=\"http://www.w3.org/1999/xlink\" width=\"100.0\" height=\"100.0\" viewBox=\"35.24295000021958 50.01942449210055 0.013701020509728323 0.007906184639942637\" preserveAspectRatio=\"xMinYMin meet\"><g transform=\"matrix(1,0,0,-1,0,100.04675516884103)\"><path fill-rule=\"evenodd\" fill=\"#66cc99\" stroke=\"#555555\" stroke-width=\"0.00027402041019456645\" opacity=\"0.6\" d=\"M 35.25614357552524,50.01993193730461 L 35.25614357552524,50.026823231536426 L 35.243457445423644,50.026823231536426 L 35.243457445423644,50.01993193730461 L 35.25614357552524,50.01993193730461 z\" /></g></svg>"
      ],
      "text/plain": [
       "<shapely.geometry.polygon.Polygon at 0x7f48fc19c160>"
      ]
     },
     "metadata": {},
     "output_type": "display_data"
    },
    {
     "data": {
      "image/svg+xml": [
       "<svg xmlns=\"http://www.w3.org/2000/svg\" xmlns:xlink=\"http://www.w3.org/1999/xlink\" width=\"100.0\" height=\"100.0\" viewBox=\"35.2532962918257 49.97147083789287 0.00793343634902044 0.00586628805691447\" preserveAspectRatio=\"xMinYMin meet\"><g transform=\"matrix(1,0,0,-1,0,99.94880796384265)\"><path fill-rule=\"evenodd\" fill=\"#66cc99\" stroke=\"#555555\" stroke-width=\"0.00015866872698040878\" opacity=\"0.6\" d=\"M 35.26093589719883,49.971764668868765 L 35.26093589719883,49.977043294973896 L 35.25359012280159,49.977043294973896 L 35.25359012280159,49.971764668868765 L 35.26093589719883,49.971764668868765 z\" /></g></svg>"
      ],
      "text/plain": [
       "<shapely.geometry.polygon.Polygon at 0x7f48fc19c160>"
      ]
     },
     "metadata": {},
     "output_type": "display_data"
    },
    {
     "data": {
      "image/svg+xml": [
       "<svg xmlns=\"http://www.w3.org/2000/svg\" xmlns:xlink=\"http://www.w3.org/1999/xlink\" width=\"100.0\" height=\"100.0\" viewBox=\"35.15272270374596 49.933092343905464 0.006751041487994769 0.0029325408189961877\" preserveAspectRatio=\"xMinYMin meet\"><g transform=\"matrix(1,0,0,-1,0,99.86911722862993)\"><path fill-rule=\"evenodd\" fill=\"#66cc99\" stroke=\"#555555\" stroke-width=\"0.0001350208297598954\" opacity=\"0.6\" d=\"M 35.15922370666032,49.9333423824791 L 35.15922370666032,49.93577484615083 L 35.15297274231959,49.93577484615083 L 35.15297274231959,49.9333423824791 L 35.15922370666032,49.9333423824791 z\" /></g></svg>"
      ],
      "text/plain": [
       "<shapely.geometry.polygon.Polygon at 0x7f48fc19c160>"
      ]
     },
     "metadata": {},
     "output_type": "display_data"
    },
    {
     "data": {
      "image/svg+xml": [
       "<svg xmlns=\"http://www.w3.org/2000/svg\" xmlns:xlink=\"http://www.w3.org/1999/xlink\" width=\"100.0\" height=\"100.0\" viewBox=\"34.90402208096402 49.95788866458111 0.005486825543691509 0.0038945739391778034\" preserveAspectRatio=\"xMinYMin meet\"><g transform=\"matrix(1,0,0,-1,0,99.9196719031014)\"><path fill-rule=\"evenodd\" fill=\"#66cc99\" stroke=\"#555555\" stroke-width=\"0.00010973651087383019\" opacity=\"0.6\" d=\"M 34.909305690746834,49.95809188034199 L 34.909305690746834,49.961580022759414 L 34.904225296724896,49.961580022759414 L 34.904225296724896,49.95809188034199 L 34.909305690746834,49.95809188034199 z\" /></g></svg>"
      ],
      "text/plain": [
       "<shapely.geometry.polygon.Polygon at 0x7f48fc19c160>"
      ]
     },
     "metadata": {},
     "output_type": "display_data"
    },
    {
     "data": {
      "image/svg+xml": [
       "<svg xmlns=\"http://www.w3.org/2000/svg\" xmlns:xlink=\"http://www.w3.org/1999/xlink\" width=\"100.0\" height=\"100.0\" viewBox=\"35.00345344040579 50.02555032109393 0.005794879897294436 0.009244475575563627\" preserveAspectRatio=\"xMinYMin meet\"><g transform=\"matrix(1,0,0,-1,0,100.06034511776343)\"><path fill-rule=\"evenodd\" fill=\"#66cc99\" stroke=\"#555555\" stroke-width=\"0.00018488951151127253\" opacity=\"0.6\" d=\"M 35.008905932318804,50.025892709078214 L 35.008905932318804,50.03445240868521 L 35.003795828390075,50.03445240868521 L 35.003795828390075,50.025892709078214 L 35.008905932318804,50.025892709078214 z\" /></g></svg>"
      ],
      "text/plain": [
       "<shapely.geometry.polygon.Polygon at 0x7f48fc19c160>"
      ]
     },
     "metadata": {},
     "output_type": "display_data"
    },
    {
     "data": {
      "image/svg+xml": [
       "<svg xmlns=\"http://www.w3.org/2000/svg\" xmlns:xlink=\"http://www.w3.org/1999/xlink\" width=\"100.0\" height=\"100.0\" viewBox=\"34.98532853112617 50.0317880548241 0.00619273292358713 0.004714362240285652\" preserveAspectRatio=\"xMinYMin meet\"><g transform=\"matrix(1,0,0,-1,0,100.06829047188847)\"><path fill-rule=\"evenodd\" fill=\"#66cc99\" stroke=\"#555555\" stroke-width=\"0.00012385465847174258\" opacity=\"0.6\" d=\"M 34.99129190357111,50.03201741530275 L 34.99129190357111,50.036273056585735 L 34.98555789160482,50.036273056585735 L 34.98555789160482,50.03201741530275 L 34.99129190357111,50.03201741530275 z\" /></g></svg>"
      ],
      "text/plain": [
       "<shapely.geometry.polygon.Polygon at 0x7f48fc19c160>"
      ]
     },
     "metadata": {},
     "output_type": "display_data"
    },
    {
     "data": {
      "image/svg+xml": [
       "<svg xmlns=\"http://www.w3.org/2000/svg\" xmlns:xlink=\"http://www.w3.org/1999/xlink\" width=\"100.0\" height=\"100.0\" viewBox=\"34.99451008064981 50.03436459912803 0.003353060054486434 0.0010689564445272026\" preserveAspectRatio=\"xMinYMin meet\"><g transform=\"matrix(1,0,0,-1,0,100.06979815470059)\"><path fill-rule=\"evenodd\" fill=\"#66cc99\" stroke=\"#555555\" stroke-width=\"6.706120108972868e-05\" opacity=\"0.6\" d=\"M 34.99773895329487,50.03448878653746 L 34.99773895329487,50.035309368163134 L 34.99463426805924,50.035309368163134 L 34.99463426805924,50.03448878653746 L 34.99773895329487,50.03448878653746 z\" /></g></svg>"
      ],
      "text/plain": [
       "<shapely.geometry.polygon.Polygon at 0x7f48fc19c160>"
      ]
     },
     "metadata": {},
     "output_type": "display_data"
    },
    {
     "data": {
      "image/svg+xml": [
       "<svg xmlns=\"http://www.w3.org/2000/svg\" xmlns:xlink=\"http://www.w3.org/1999/xlink\" width=\"100.0\" height=\"100.0\" viewBox=\"35.144831990242224 49.94121649532559 0.02840314603217564 0.0053618886019961565\" preserveAspectRatio=\"xMinYMin meet\"><g transform=\"matrix(1,0,0,-1,0,99.88779487925318)\"><path fill-rule=\"evenodd\" fill=\"#66cc99\" stroke=\"#555555\" stroke-width=\"0.0005680629206435129\" opacity=\"0.6\" d=\"M 35.17218316790284,49.942268463697154 L 35.17218316790284,49.945526415556024 L 35.14588395861379,49.945526415556024 L 35.14588395861379,49.942268463697154 L 35.17218316790284,49.942268463697154 z\" /></g></svg>"
      ],
      "text/plain": [
       "<shapely.geometry.polygon.Polygon at 0x7f48fc19c160>"
      ]
     },
     "metadata": {},
     "output_type": "display_data"
    },
    {
     "data": {
      "image/svg+xml": [
       "<svg xmlns=\"http://www.w3.org/2000/svg\" xmlns:xlink=\"http://www.w3.org/1999/xlink\" width=\"100.0\" height=\"100.0\" viewBox=\"35.18151376422638 49.95155001660502 0.007055702473387271 0.008938762845559722\" preserveAspectRatio=\"xMinYMin meet\"><g transform=\"matrix(1,0,0,-1,0,99.9120387960556)\"><path fill-rule=\"evenodd\" fill=\"#66cc99\" stroke=\"#555555\" stroke-width=\"0.00017877525691119443\" opacity=\"0.6\" d=\"M 35.188238401409194,49.95188108189559 L 35.188238401409194,49.960157714160005 L 35.181844829516955,49.960157714160005 L 35.181844829516955,49.95188108189559 L 35.188238401409194,49.95188108189559 z\" /></g></svg>"
      ],
      "text/plain": [
       "<shapely.geometry.polygon.Polygon at 0x7f48fc19c160>"
      ]
     },
     "metadata": {},
     "output_type": "display_data"
    },
    {
     "data": {
      "image/svg+xml": [
       "<svg xmlns=\"http://www.w3.org/2000/svg\" xmlns:xlink=\"http://www.w3.org/1999/xlink\" width=\"100.0\" height=\"100.0\" viewBox=\"34.9650554402057 49.938857226129734 0.0013367755225957012 0.002003120011217163\" preserveAspectRatio=\"xMinYMin meet\"><g transform=\"matrix(1,0,0,-1,0,99.87971757227069)\"><path fill-rule=\"evenodd\" fill=\"#66cc99\" stroke=\"#555555\" stroke-width=\"4.006240022434327e-05\" opacity=\"0.6\" d=\"M 34.96631802609825,49.93893141575978 L 34.96631802609825,49.9407861565109 L 34.96512962983575,49.9407861565109 L 34.96512962983575,49.93893141575978 L 34.96631802609825,49.93893141575978 z\" /></g></svg>"
      ],
      "text/plain": [
       "<shapely.geometry.polygon.Polygon at 0x7f48fc19c160>"
      ]
     },
     "metadata": {},
     "output_type": "display_data"
    },
    {
     "data": {
      "image/svg+xml": [
       "<svg xmlns=\"http://www.w3.org/2000/svg\" xmlns:xlink=\"http://www.w3.org/1999/xlink\" width=\"100.0\" height=\"100.0\" viewBox=\"35.02231143360595 49.88147226525041 0.003413889549719329 0.00377317450062975\" preserveAspectRatio=\"xMinYMin meet\"><g transform=\"matrix(1,0,0,-1,0,99.76671770500144)\"><path fill-rule=\"evenodd\" fill=\"#66cc99\" stroke=\"#555555\" stroke-width=\"7.5463490012595e-05\" opacity=\"0.6\" d=\"M 35.02558557595194,49.881612012454134 L 35.02558557595194,49.88510569254731 L 35.022451180809675,49.88510569254731 L 35.022451180809675,49.881612012454134 L 35.02558557595194,49.881612012454134 z\" /></g></svg>"
      ],
      "text/plain": [
       "<shapely.geometry.polygon.Polygon at 0x7f48fc19c160>"
      ]
     },
     "metadata": {},
     "output_type": "display_data"
    },
    {
     "data": {
      "image/svg+xml": [
       "<svg xmlns=\"http://www.w3.org/2000/svg\" xmlns:xlink=\"http://www.w3.org/1999/xlink\" width=\"100.0\" height=\"100.0\" viewBox=\"35.105304032587476 49.884070155210836 0.0011228492688530878 0.0019227017560723425\" preserveAspectRatio=\"xMinYMin meet\"><g transform=\"matrix(1,0,0,-1,0,99.77006301217774)\"><path fill-rule=\"evenodd\" fill=\"#66cc99\" stroke=\"#555555\" stroke-width=\"3.845403512144685e-05\" opacity=\"0.6\" d=\"M 35.10635567068018,49.884141366386984 L 35.10635567068018,49.88592164579076 L 35.105375243763625,49.88592164579076 L 35.105375243763625,49.884141366386984 L 35.10635567068018,49.884141366386984 z\" /></g></svg>"
      ],
      "text/plain": [
       "<shapely.geometry.polygon.Polygon at 0x7f48fc19c160>"
      ]
     },
     "metadata": {},
     "output_type": "display_data"
    },
    {
     "data": {
      "image/svg+xml": [
       "<svg xmlns=\"http://www.w3.org/2000/svg\" xmlns:xlink=\"http://www.w3.org/1999/xlink\" width=\"100.0\" height=\"100.0\" viewBox=\"34.9316943882042 50.1172256100166 0.07270846013193477 0.011205075448451396\" preserveAspectRatio=\"xMinYMin meet\"><g transform=\"matrix(1,0,0,-1,0,100.24565629548164)\"><path fill-rule=\"evenodd\" fill=\"#66cc99\" stroke=\"#555555\" stroke-width=\"0.0014541692026386955\" opacity=\"0.6\" d=\"M 35.00170994240532,50.11991851594741 L 35.00170994240532,50.125737779534234 L 34.934387294135014,50.125737779534234 L 34.934387294135014,50.11991851594741 L 35.00170994240532,50.11991851594741 z\" /></g></svg>"
      ],
      "text/plain": [
       "<shapely.geometry.polygon.Polygon at 0x7f48fc19c160>"
      ]
     },
     "metadata": {},
     "output_type": "display_data"
    },
    {
     "data": {
      "image/svg+xml": [
       "<svg xmlns=\"http://www.w3.org/2000/svg\" xmlns:xlink=\"http://www.w3.org/1999/xlink\" width=\"100.0\" height=\"100.0\" viewBox=\"34.94397884036964 50.10922590685736 0.016973863817192125 0.011997522612496425\" preserveAspectRatio=\"xMinYMin meet\"><g transform=\"matrix(1,0,0,-1,0,100.23044933632721)\"><path fill-rule=\"evenodd\" fill=\"#66cc99\" stroke=\"#555555\" stroke-width=\"0.0003394772763438425\" opacity=\"0.6\" d=\"M 34.96032404256397,50.10985456848022 L 34.96032404256397,50.120594767846995 L 34.9446075019925,50.120594767846995 L 34.9446075019925,50.10985456848022 L 34.96032404256397,50.10985456848022 z\" /></g></svg>"
      ],
      "text/plain": [
       "<shapely.geometry.polygon.Polygon at 0x7f48fc19c160>"
      ]
     },
     "metadata": {},
     "output_type": "display_data"
    },
    {
     "data": {
      "image/svg+xml": [
       "<svg xmlns=\"http://www.w3.org/2000/svg\" xmlns:xlink=\"http://www.w3.org/1999/xlink\" width=\"100.0\" height=\"100.0\" viewBox=\"35.028293510488574 50.09801756059658 0.012944833411403067 0.016427445244914907\" preserveAspectRatio=\"xMinYMin meet\"><g transform=\"matrix(1,0,0,-1,0,100.21246256643808)\"><path fill-rule=\"evenodd\" fill=\"#66cc99\" stroke=\"#555555\" stroke-width=\"0.0003285489048982981\" opacity=\"0.6\" d=\"M 35.04062992000202,50.09862598449454 L 35.04062992000202,50.11383658194354 L 35.02890193438653,50.11383658194354 L 35.02890193438653,50.09862598449454 L 35.04062992000202,50.09862598449454 z\" /></g></svg>"
      ],
      "text/plain": [
       "<shapely.geometry.polygon.Polygon at 0x7f48fc19c160>"
      ]
     },
     "metadata": {},
     "output_type": "display_data"
    },
    {
     "data": {
      "image/svg+xml": [
       "<svg xmlns=\"http://www.w3.org/2000/svg\" xmlns:xlink=\"http://www.w3.org/1999/xlink\" width=\"100.0\" height=\"100.0\" viewBox=\"35.059132245909055 50.10595378883985 0.004708056999604082 0.005000543660180767\" preserveAspectRatio=\"xMinYMin meet\"><g transform=\"matrix(1,0,0,-1,0,100.21690812133988)\"><path fill-rule=\"evenodd\" fill=\"#66cc99\" stroke=\"#555555\" stroke-width=\"0.00010001087320361534\" opacity=\"0.6\" d=\"M 35.06365509758791,50.106138994160595 L 35.06365509758791,50.11076912717928 L 35.0593174512298,50.11076912717928 L 35.0593174512298,50.106138994160595 L 35.06365509758791,50.106138994160595 z\" /></g></svg>"
      ],
      "text/plain": [
       "<shapely.geometry.polygon.Polygon at 0x7f48fc19c160>"
      ]
     },
     "metadata": {},
     "output_type": "display_data"
    },
    {
     "data": {
      "image/svg+xml": [
       "<svg xmlns=\"http://www.w3.org/2000/svg\" xmlns:xlink=\"http://www.w3.org/1999/xlink\" width=\"100.0\" height=\"100.0\" viewBox=\"34.962884334115614 50.09352710742701 0.012634401079424151 0.01656395056907911\" preserveAspectRatio=\"xMinYMin meet\"><g transform=\"matrix(1,0,0,-1,0,100.2036181654231)\"><path fill-rule=\"evenodd\" fill=\"#66cc99\" stroke=\"#555555\" stroke-width=\"0.0003312790113815822\" opacity=\"0.6\" d=\"M 34.97490525554433,50.09414058707772 L 34.97490525554433,50.10947757834538 L 34.963497813766324,50.10947757834538 L 34.963497813766324,50.09414058707772 L 34.97490525554433,50.09414058707772 z\" /></g></svg>"
      ],
      "text/plain": [
       "<shapely.geometry.polygon.Polygon at 0x7f48fc19c160>"
      ]
     },
     "metadata": {},
     "output_type": "display_data"
    },
    {
     "data": {
      "image/svg+xml": [
       "<svg xmlns=\"http://www.w3.org/2000/svg\" xmlns:xlink=\"http://www.w3.org/1999/xlink\" width=\"100.0\" height=\"100.0\" viewBox=\"35.08687037202108 50.10253205818288 0.005583085641205798 0.0024525446438730114\" preserveAspectRatio=\"xMinYMin meet\"><g transform=\"matrix(1,0,0,-1,0,100.20751666100963)\"><path fill-rule=\"evenodd\" fill=\"#66cc99\" stroke=\"#555555\" stroke-width=\"0.00011166171282411596\" opacity=\"0.6\" d=\"M 35.09224667671261,50.102738839132556 L 35.09224667671261,50.10477782187708 L 35.08707715297076,50.10477782187708 L 35.08707715297076,50.102738839132556 L 35.09224667671261,50.102738839132556 z\" /></g></svg>"
      ],
      "text/plain": [
       "<shapely.geometry.polygon.Polygon at 0x7f48fc19c160>"
      ]
     },
     "metadata": {},
     "output_type": "display_data"
    },
    {
     "data": {
      "image/svg+xml": [
       "<svg xmlns=\"http://www.w3.org/2000/svg\" xmlns:xlink=\"http://www.w3.org/1999/xlink\" width=\"100.0\" height=\"100.0\" viewBox=\"35.09343140629188 50.10100773347718 0.0020053245827611477 0.002104419140067648\" preserveAspectRatio=\"xMinYMin meet\"><g transform=\"matrix(1,0,0,-1,0,100.20411988609443)\"><path fill-rule=\"evenodd\" fill=\"#66cc99\" stroke=\"#555555\" stroke-width=\"4.208838280135296e-05\" opacity=\"0.6\" d=\"M 35.095358789425006,50.101085674926814 L 35.095358789425006,50.10303421116762 L 35.09350934774151,50.10303421116762 L 35.09350934774151,50.101085674926814 L 35.095358789425006,50.101085674926814 z\" /></g></svg>"
      ],
      "text/plain": [
       "<shapely.geometry.polygon.Polygon at 0x7f48fc19c160>"
      ]
     },
     "metadata": {},
     "output_type": "display_data"
    },
    {
     "data": {
      "image/svg+xml": [
       "<svg xmlns=\"http://www.w3.org/2000/svg\" xmlns:xlink=\"http://www.w3.org/1999/xlink\" width=\"100.0\" height=\"100.0\" viewBox=\"35.10156815989654 50.10587570074789 0.005214088601690037 0.002825205956916932\" preserveAspectRatio=\"xMinYMin meet\"><g transform=\"matrix(1,0,0,-1,0,100.2145766074527)\"><path fill-rule=\"evenodd\" fill=\"#66cc99\" stroke=\"#555555\" stroke-width=\"0.00010428177203380074\" opacity=\"0.6\" d=\"M 35.10658913410557,50.106068815140546 L 35.10658913410557,50.108507792312146 L 35.101761274289196,50.108507792312146 L 35.101761274289196,50.106068815140546 L 35.10658913410557,50.106068815140546 z\" /></g></svg>"
      ],
      "text/plain": [
       "<shapely.geometry.polygon.Polygon at 0x7f48fc19c160>"
      ]
     },
     "metadata": {},
     "output_type": "display_data"
    },
    {
     "data": {
      "image/svg+xml": [
       "<svg xmlns=\"http://www.w3.org/2000/svg\" xmlns:xlink=\"http://www.w3.org/1999/xlink\" width=\"100.0\" height=\"100.0\" viewBox=\"35.16719418934553 50.078889880577044 0.022746393207896176 0.009434405123705858\" preserveAspectRatio=\"xMinYMin meet\"><g transform=\"matrix(1,0,0,-1,0,100.1672141662778)\"><path fill-rule=\"evenodd\" fill=\"#66cc99\" stroke=\"#555555\" stroke-width=\"0.00045492786415792354\" opacity=\"0.6\" d=\"M 35.189098123545726,50.079732339584744 L 35.189098123545726,50.08748182669305 L 35.16803664835323,50.08748182669305 L 35.16803664835323,50.079732339584744 L 35.189098123545726,50.079732339584744 z\" /></g></svg>"
      ],
      "text/plain": [
       "<shapely.geometry.polygon.Polygon at 0x7f48fc19c160>"
      ]
     },
     "metadata": {},
     "output_type": "display_data"
    },
    {
     "data": {
      "image/svg+xml": [
       "<svg xmlns=\"http://www.w3.org/2000/svg\" xmlns:xlink=\"http://www.w3.org/1999/xlink\" width=\"100.0\" height=\"100.0\" viewBox=\"35.172159789185976 50.06562662719815 0.005791649185262315 0.001592327559691853\" preserveAspectRatio=\"xMinYMin meet\"><g transform=\"matrix(1,0,0,-1,0,100.13284558195599)\"><path fill-rule=\"evenodd\" fill=\"#66cc99\" stroke=\"#555555\" stroke-width=\"0.0001158329837052463\" opacity=\"0.6\" d=\"M 35.17773693284586,50.06584113272353 L 35.17773693284586,50.06700444923246 L 35.172374294711354,50.06700444923246 L 35.172374294711354,50.06584113272353 L 35.17773693284586,50.06584113272353 z\" /></g></svg>"
      ],
      "text/plain": [
       "<shapely.geometry.polygon.Polygon at 0x7f48fc19c160>"
      ]
     },
     "metadata": {},
     "output_type": "display_data"
    },
    {
     "data": {
      "image/svg+xml": [
       "<svg xmlns=\"http://www.w3.org/2000/svg\" xmlns:xlink=\"http://www.w3.org/1999/xlink\" width=\"100.0\" height=\"100.0\" viewBox=\"35.19196441290044 50.069858060890525 0.0025027625288061017 0.0024545899289734052\" preserveAspectRatio=\"xMinYMin meet\"><g transform=\"matrix(1,0,0,-1,0,100.14217071171002)\"><path fill-rule=\"evenodd\" fill=\"#66cc99\" stroke=\"#555555\" stroke-width=\"5.0055250576122034e-05\" opacity=\"0.6\" d=\"M 35.19437448052077,50.069950755799 L 35.19437448052077,50.072219955911024 L 35.192057107808914,50.072219955911024 L 35.192057107808914,50.069950755799 L 35.19437448052077,50.069950755799 z\" /></g></svg>"
      ],
      "text/plain": [
       "<shapely.geometry.polygon.Polygon at 0x7f48fc19c160>"
      ]
     },
     "metadata": {},
     "output_type": "display_data"
    },
    {
     "data": {
      "image/svg+xml": [
       "<svg xmlns=\"http://www.w3.org/2000/svg\" xmlns:xlink=\"http://www.w3.org/1999/xlink\" width=\"100.0\" height=\"100.0\" viewBox=\"35.14834224839214 50.06893485650049 0.045835849646266524 0.017554339257912943\" preserveAspectRatio=\"xMinYMin meet\"><g transform=\"matrix(1,0,0,-1,0,100.1554240522589)\"><path fill-rule=\"evenodd\" fill=\"#66cc99\" stroke=\"#555555\" stroke-width=\"0.0009167169929253305\" opacity=\"0.6\" d=\"M 35.19248047397743,50.070632480561464 L 35.19248047397743,50.08479157169743 L 35.150039872453114,50.08479157169743 L 35.150039872453114,50.070632480561464 L 35.19248047397743,50.070632480561464 z\" /></g></svg>"
      ],
      "text/plain": [
       "<shapely.geometry.polygon.Polygon at 0x7f48fc19c160>"
      ]
     },
     "metadata": {},
     "output_type": "display_data"
    },
    {
     "data": {
      "image/svg+xml": [
       "<svg xmlns=\"http://www.w3.org/2000/svg\" xmlns:xlink=\"http://www.w3.org/1999/xlink\" width=\"100.0\" height=\"100.0\" viewBox=\"35.19702787227586 50.074786038928 0.013989800802079344 0.007566363409516441\" preserveAspectRatio=\"xMinYMin meet\"><g transform=\"matrix(1,0,0,-1,0,100.15713844126552)\"><path fill-rule=\"evenodd\" fill=\"#66cc99\" stroke=\"#555555\" stroke-width=\"0.00027979601604158686\" opacity=\"0.6\" d=\"M 35.210499532307495,50.07530417969845 L 35.210499532307495,50.081834261567074 L 35.197546013046306,50.081834261567074 L 35.197546013046306,50.07530417969845 L 35.210499532307495,50.07530417969845 z\" /></g></svg>"
      ],
      "text/plain": [
       "<shapely.geometry.polygon.Polygon at 0x7f48fc19c160>"
      ]
     },
     "metadata": {},
     "output_type": "display_data"
    },
    {
     "data": {
      "image/svg+xml": [
       "<svg xmlns=\"http://www.w3.org/2000/svg\" xmlns:xlink=\"http://www.w3.org/1999/xlink\" width=\"100.0\" height=\"100.0\" viewBox=\"35.17874177931364 50.07587333785592 0.002476502955403248 0.003552051372807341\" preserveAspectRatio=\"xMinYMin meet\"><g transform=\"matrix(1,0,0,-1,0,100.15529872708464)\"><path fill-rule=\"evenodd\" fill=\"#66cc99\" stroke=\"#555555\" stroke-width=\"7.104102745614683e-05\" opacity=\"0.6\" d=\"M 35.18108672481079,50.07600489531417 L 35.18108672481079,50.07929383177047 L 35.17887333677189,50.07929383177047 L 35.17887333677189,50.07600489531417 L 35.18108672481079,50.07600489531417 z\" /></g></svg>"
      ],
      "text/plain": [
       "<shapely.geometry.polygon.Polygon at 0x7f48fc19c160>"
      ]
     },
     "metadata": {},
     "output_type": "display_data"
    },
    {
     "data": {
      "image/svg+xml": [
       "<svg xmlns=\"http://www.w3.org/2000/svg\" xmlns:xlink=\"http://www.w3.org/1999/xlink\" width=\"100.0\" height=\"100.0\" viewBox=\"35.156087621032974 50.08360456614971 0.0031605398600973444 0.0018354535229860858\" preserveAspectRatio=\"xMinYMin meet\"><g transform=\"matrix(1,0,0,-1,0,100.1690445858224)\"><path fill-rule=\"evenodd\" fill=\"#66cc99\" stroke=\"#555555\" stroke-width=\"6.321079720194688e-05\" opacity=\"0.6\" d=\"M 35.15913110386121,50.08372162318157 L 35.15913110386121,50.08532296264084 L 35.15620467806483,50.08532296264084 L 35.15620467806483,50.08372162318157 L 35.15913110386121,50.08372162318157 z\" /></g></svg>"
      ],
      "text/plain": [
       "<shapely.geometry.polygon.Polygon at 0x7f48fc19c160>"
      ]
     },
     "metadata": {},
     "output_type": "display_data"
    },
    {
     "data": {
      "image/svg+xml": [
       "<svg xmlns=\"http://www.w3.org/2000/svg\" xmlns:xlink=\"http://www.w3.org/1999/xlink\" width=\"100.0\" height=\"100.0\" viewBox=\"35.1163443819254 50.05883463754672 0.0019252019452267177 0.0012107257192823795\" preserveAspectRatio=\"xMinYMin meet\"><g transform=\"matrix(1,0,0,-1,0,100.11888000081271)\"><path fill-rule=\"evenodd\" fill=\"#66cc99\" stroke=\"#555555\" stroke-width=\"3.8504038904534355e-05\" opacity=\"0.6\" d=\"M 35.11819828009488,50.058905941322465 L 35.11819828009488,50.05997405949025 L 35.11641568570115,50.05997405949025 L 35.11641568570115,50.058905941322465 L 35.11819828009488,50.058905941322465 z\" /></g></svg>"
      ],
      "text/plain": [
       "<shapely.geometry.polygon.Polygon at 0x7f48fc19c160>"
      ]
     },
     "metadata": {},
     "output_type": "display_data"
    },
    {
     "data": {
      "image/svg+xml": [
       "<svg xmlns=\"http://www.w3.org/2000/svg\" xmlns:xlink=\"http://www.w3.org/1999/xlink\" width=\"100.0\" height=\"100.0\" viewBox=\"35.12095476522573 50.040994548039095 0.007797067878236419 0.004465107251547806\" preserveAspectRatio=\"xMinYMin meet\"><g transform=\"matrix(1,0,0,-1,0,100.08645420332974)\"><path fill-rule=\"evenodd\" fill=\"#66cc99\" stroke=\"#555555\" stroke-width=\"0.00015594135756472839\" opacity=\"0.6\" d=\"M 35.12846305281218,50.041283328330884 L 35.12846305281218,50.04517087499885 L 35.12124354551752,50.04517087499885 L 35.12124354551752,50.041283328330884 L 35.12846305281218,50.041283328330884 z\" /></g></svg>"
      ],
      "text/plain": [
       "<shapely.geometry.polygon.Polygon at 0x7f48fc19c160>"
      ]
     },
     "metadata": {},
     "output_type": "display_data"
    },
    {
     "data": {
      "image/svg+xml": [
       "<svg xmlns=\"http://www.w3.org/2000/svg\" xmlns:xlink=\"http://www.w3.org/1999/xlink\" width=\"100.0\" height=\"100.0\" viewBox=\"35.12704930690843 50.041280576169676 0.006385253118381229 0.0033826946870121333\" preserveAspectRatio=\"xMinYMin meet\"><g transform=\"matrix(1,0,0,-1,0,100.08594384702636)\"><path fill-rule=\"evenodd\" fill=\"#66cc99\" stroke=\"#555555\" stroke-width=\"0.00012770506236762459\" opacity=\"0.6\" d=\"M 35.133198069170575,50.041517067025914 L 35.133198069170575,50.04442678000045 L 35.12728579776467,50.04442678000045 L 35.12728579776467,50.041517067025914 L 35.133198069170575,50.041517067025914 z\" /></g></svg>"
      ],
      "text/plain": [
       "<shapely.geometry.polygon.Polygon at 0x7f48fc19c160>"
      ]
     },
     "metadata": {},
     "output_type": "display_data"
    },
    {
     "data": {
      "image/svg+xml": [
       "<svg xmlns=\"http://www.w3.org/2000/svg\" xmlns:xlink=\"http://www.w3.org/1999/xlink\" width=\"100.0\" height=\"100.0\" viewBox=\"35.15657144686131 50.04664306735876 0.00583977923390222 0.002283158932961271\" preserveAspectRatio=\"xMinYMin meet\"><g transform=\"matrix(1,0,0,-1,0,100.09556929365047)\"><path fill-rule=\"evenodd\" fill=\"#66cc99\" stroke=\"#555555\" stroke-width=\"0.0001167955846780444\" opacity=\"0.6\" d=\"M 35.162194937975435,50.04685935547853 L 35.162194937975435,50.048709938171946 L 35.15678773498108,50.048709938171946 L 35.15678773498108,50.04685935547853 L 35.162194937975435,50.04685935547853 z\" /></g></svg>"
      ],
      "text/plain": [
       "<shapely.geometry.polygon.Polygon at 0x7f48fc19c160>"
      ]
     },
     "metadata": {},
     "output_type": "display_data"
    },
    {
     "data": {
      "image/svg+xml": [
       "<svg xmlns=\"http://www.w3.org/2000/svg\" xmlns:xlink=\"http://www.w3.org/1999/xlink\" width=\"100.0\" height=\"100.0\" viewBox=\"35.157466012147886 50.048476615262054 0.022396515962974206 0.010947685078996017\" preserveAspectRatio=\"xMinYMin meet\"><g transform=\"matrix(1,0,0,-1,0,100.1079009156031)\"><path fill-rule=\"evenodd\" fill=\"#66cc99\" stroke=\"#555555\" stroke-width=\"0.0004479303192594841\" opacity=\"0.6\" d=\"M 35.17903302751964,50.04930611585328 L 35.17903302751964,50.05859479974983 L 35.15829551273911,50.05859479974983 L 35.15829551273911,50.04930611585328 L 35.17903302751964,50.04930611585328 z\" /></g></svg>"
      ],
      "text/plain": [
       "<shapely.geometry.polygon.Polygon at 0x7f48fc19c160>"
      ]
     },
     "metadata": {},
     "output_type": "display_data"
    },
    {
     "data": {
      "image/svg+xml": [
       "<svg xmlns=\"http://www.w3.org/2000/svg\" xmlns:xlink=\"http://www.w3.org/1999/xlink\" width=\"100.0\" height=\"100.0\" viewBox=\"35.173168886162365 50.05273172603109 0.005919995981606974 0.002574995920141987\" preserveAspectRatio=\"xMinYMin meet\"><g transform=\"matrix(1,0,0,-1,0,100.10803844798232)\"><path fill-rule=\"evenodd\" fill=\"#66cc99\" stroke=\"#555555\" stroke-width=\"0.00011839991963213947\" opacity=\"0.6\" d=\"M 35.17886962303354,50.05295098514152 L 35.17886962303354,50.0550874628408 L 35.173388145272796,50.0550874628408 L 35.173388145272796,50.05295098514152 L 35.17886962303354,50.05295098514152 z\" /></g></svg>"
      ],
      "text/plain": [
       "<shapely.geometry.polygon.Polygon at 0x7f48fc19c160>"
      ]
     },
     "metadata": {},
     "output_type": "display_data"
    },
    {
     "data": {
      "image/svg+xml": [
       "<svg xmlns=\"http://www.w3.org/2000/svg\" xmlns:xlink=\"http://www.w3.org/1999/xlink\" width=\"100.0\" height=\"100.0\" viewBox=\"35.18280885954465 50.05893465958956 0.0009305142735271943 0.0007365027456955886\" preserveAspectRatio=\"xMinYMin meet\"><g transform=\"matrix(1,0,0,-1,0,100.11860582192482)\"><path fill-rule=\"evenodd\" fill=\"#66cc99\" stroke=\"#555555\" stroke-width=\"1.8610285470543884e-05\" opacity=\"0.6\" d=\"M 35.18370491032657,50.05896912308117 L 35.18370491032657,50.05963669884365 L 35.18284332303626,50.05963669884365 L 35.18284332303626,50.05896912308117 L 35.18370491032657,50.05896912308117 z\" /></g></svg>"
      ],
      "text/plain": [
       "<shapely.geometry.polygon.Polygon at 0x7f48fc19c160>"
      ]
     },
     "metadata": {},
     "output_type": "display_data"
    },
    {
     "data": {
      "image/svg+xml": [
       "<svg xmlns=\"http://www.w3.org/2000/svg\" xmlns:xlink=\"http://www.w3.org/1999/xlink\" width=\"100.0\" height=\"100.0\" viewBox=\"35.1000543826572 50.027618189823684 0.026218641529872855 0.009561098650074484\" preserveAspectRatio=\"xMinYMin meet\"><g transform=\"matrix(1,0,0,-1,0,100.06479747829744)\"><path fill-rule=\"evenodd\" fill=\"#66cc99\" stroke=\"#555555\" stroke-width=\"0.0005243728305974571\" opacity=\"0.6\" d=\"M 35.12530196338967,50.02858925062109 L 35.12530196338967,50.036208227676354 L 35.1010254434546,50.036208227676354 L 35.1010254434546,50.02858925062109 L 35.12530196338967,50.02858925062109 z\" /></g></svg>"
      ],
      "text/plain": [
       "<shapely.geometry.polygon.Polygon at 0x7f48fbe8a470>"
      ]
     },
     "metadata": {},
     "output_type": "display_data"
    },
    {
     "data": {
      "image/svg+xml": [
       "<svg xmlns=\"http://www.w3.org/2000/svg\" xmlns:xlink=\"http://www.w3.org/1999/xlink\" width=\"100.0\" height=\"100.0\" viewBox=\"35.1211170648656 50.023291344389804 0.02425754450901252 0.01482234118664394\" preserveAspectRatio=\"xMinYMin meet\"><g transform=\"matrix(1,0,0,-1,0,100.06140502996625)\"><path fill-rule=\"evenodd\" fill=\"#66cc99\" stroke=\"#555555\" stroke-width=\"0.00048515089018025037\" opacity=\"0.6\" d=\"M 35.14447618180021,50.02418977196421 L 35.14447618180021,50.03721525800204 L 35.122015492440006,50.03721525800204 L 35.122015492440006,50.02418977196421 L 35.14447618180021,50.02418977196421 z\" /></g></svg>"
      ],
      "text/plain": [
       "<shapely.geometry.polygon.Polygon at 0x7f48fbe8acc0>"
      ]
     },
     "metadata": {},
     "output_type": "display_data"
    },
    {
     "data": {
      "image/svg+xml": [
       "<svg xmlns=\"http://www.w3.org/2000/svg\" xmlns:xlink=\"http://www.w3.org/1999/xlink\" width=\"100.0\" height=\"100.0\" viewBox=\"35.14412254522103 50.03878199269672 0.0018362496076917978 0.002328680343644862\" preserveAspectRatio=\"xMinYMin meet\"><g transform=\"matrix(1,0,0,-1,0,100.07989266573708)\"><path fill-rule=\"evenodd\" fill=\"#66cc99\" stroke=\"#555555\" stroke-width=\"4.657360687289724e-05\" opacity=\"0.6\" d=\"M 35.14587254740859,50.038868240116855 L 35.14587254740859,50.04102442562023 L 35.144208792641166,50.04102442562023 L 35.144208792641166,50.038868240116855 L 35.14587254740859,50.038868240116855 z\" /></g></svg>"
      ],
      "text/plain": [
       "<shapely.geometry.polygon.Polygon at 0x7f48fbe8acc0>"
      ]
     },
     "metadata": {},
     "output_type": "display_data"
    },
    {
     "data": {
      "image/svg+xml": [
       "<svg xmlns=\"http://www.w3.org/2000/svg\" xmlns:xlink=\"http://www.w3.org/1999/xlink\" width=\"100.0\" height=\"100.0\" viewBox=\"35.1492852612524 50.038851242283584 0.0032281725942837625 0.0024239260119927053\" preserveAspectRatio=\"xMinYMin meet\"><g transform=\"matrix(1,0,0,-1,0,100.08012641057917)\"><path fill-rule=\"evenodd\" fill=\"#66cc99\" stroke=\"#555555\" stroke-width=\"6.456345188567525e-05\" opacity=\"0.6\" d=\"M 35.15239387189875,50.03897080423152 L 35.15239387189875,50.041155606347644 L 35.149404823200335,50.041155606347644 L 35.149404823200335,50.03897080423152 L 35.15239387189875,50.03897080423152 z\" /></g></svg>"
      ],
      "text/plain": [
       "<shapely.geometry.polygon.Polygon at 0x7f48fbe8ada0>"
      ]
     },
     "metadata": {},
     "output_type": "display_data"
    },
    {
     "data": {
      "image/svg+xml": [
       "<svg xmlns=\"http://www.w3.org/2000/svg\" xmlns:xlink=\"http://www.w3.org/1999/xlink\" width=\"100.0\" height=\"100.0\" viewBox=\"35.14879659641237 50.03192851336359 0.004075010783935795 0.0038108710982669436\" preserveAspectRatio=\"xMinYMin meet\"><g transform=\"matrix(1,0,0,-1,0,100.06766789782544)\"><path fill-rule=\"evenodd\" fill=\"#66cc99\" stroke=\"#555555\" stroke-width=\"8.150021567871591e-05\" opacity=\"0.6\" d=\"M 35.15272068087097,50.03207943968892 L 35.15272068087097,50.03558845813652 L 35.1489475227377,50.03558845813652 L 35.1489475227377,50.03207943968892 L 35.15272068087097,50.03207943968892 z\" /></g></svg>"
      ],
      "text/plain": [
       "<shapely.geometry.polygon.Polygon at 0x7f48fbe8ada0>"
      ]
     },
     "metadata": {},
     "output_type": "display_data"
    },
    {
     "data": {
      "image/svg+xml": [
       "<svg xmlns=\"http://www.w3.org/2000/svg\" xmlns:xlink=\"http://www.w3.org/1999/xlink\" width=\"100.0\" height=\"100.0\" viewBox=\"35.18630416504952 50.017518279486545 0.004508181221574148 0.001756133280103711\" preserveAspectRatio=\"xMinYMin meet\"><g transform=\"matrix(1,0,0,-1,0,100.03679269225319)\"><path fill-rule=\"evenodd\" fill=\"#66cc99\" stroke=\"#555555\" stroke-width=\"9.016362443148296e-05\" opacity=\"0.6\" d=\"M 35.19064537659622,50.01768524916142 L 35.19064537659622,50.01910744309178 L 35.18647113472439,50.01910744309178 L 35.18647113472439,50.01768524916142 L 35.19064537659622,50.01768524916142 z\" /></g></svg>"
      ],
      "text/plain": [
       "<shapely.geometry.polygon.Polygon at 0x7f48fbe8ada0>"
      ]
     },
     "metadata": {},
     "output_type": "display_data"
    },
    {
     "data": {
      "image/svg+xml": [
       "<svg xmlns=\"http://www.w3.org/2000/svg\" xmlns:xlink=\"http://www.w3.org/1999/xlink\" width=\"100.0\" height=\"100.0\" viewBox=\"35.10983244154881 50.03743903345282 0.007137672866953437 0.006914608607331729\" preserveAspectRatio=\"xMinYMin meet\"><g transform=\"matrix(1,0,0,-1,0,100.08179267551297)\"><path fill-rule=\"evenodd\" fill=\"#66cc99\" stroke=\"#555555\" stroke-width=\"0.00014275345733906874\" opacity=\"0.6\" d=\"M 35.11670575616143,50.037703391707154 L 35.11670575616143,50.04408928380582 L 35.110096799803145,50.04408928380582 L 35.110096799803145,50.037703391707154 L 35.11670575616143,50.037703391707154 z\" /></g></svg>"
      ],
      "text/plain": [
       "<shapely.geometry.polygon.Polygon at 0x7f48fc19c160>"
      ]
     },
     "metadata": {},
     "output_type": "display_data"
    },
    {
     "data": {
      "image/svg+xml": [
       "<svg xmlns=\"http://www.w3.org/2000/svg\" xmlns:xlink=\"http://www.w3.org/1999/xlink\" width=\"100.0\" height=\"100.0\" viewBox=\"35.190237181431456 50.08747482594266 0.001532585886202753 0.0011241615048120934\" preserveAspectRatio=\"xMinYMin meet\"><g transform=\"matrix(1,0,0,-1,0,100.17607381339013)\"><path fill-rule=\"evenodd\" fill=\"#66cc99\" stroke=\"#555555\" stroke-width=\"3.065171772405506e-05\" opacity=\"0.6\" d=\"M 35.19171300487743,50.08753158838289 L 35.19171300487743,50.08854222500724 L 35.19029394387169,50.08854222500724 L 35.19029394387169,50.08753158838289 L 35.19171300487743,50.08753158838289 z\" /></g></svg>"
      ],
      "text/plain": [
       "<shapely.geometry.polygon.Polygon at 0x7f48fc19c160>"
      ]
     },
     "metadata": {},
     "output_type": "display_data"
    },
    {
     "data": {
      "image/svg+xml": [
       "<svg xmlns=\"http://www.w3.org/2000/svg\" xmlns:xlink=\"http://www.w3.org/1999/xlink\" width=\"100.0\" height=\"100.0\" viewBox=\"34.91142710967059 49.973548663727435 0.009176795938600435 0.006908414245067718\" preserveAspectRatio=\"xMinYMin meet\"><g transform=\"matrix(1,0,0,-1,0,99.95400574169994)\"><path fill-rule=\"evenodd\" fill=\"#66cc99\" stroke=\"#555555\" stroke-width=\"0.0001835359187720087\" opacity=\"0.6\" d=\"M 34.92026402427813,49.97388854505849 L 34.92026402427813,49.980117196641444 L 34.91176699100165,49.980117196641444 L 34.91176699100165,49.97388854505849 L 34.92026402427813,49.97388854505849 z\" /></g></svg>"
      ],
      "text/plain": [
       "<shapely.geometry.polygon.Polygon at 0x7f48fc19c160>"
      ]
     },
     "metadata": {},
     "output_type": "display_data"
    },
    {
     "data": {
      "image/svg+xml": [
       "<svg xmlns=\"http://www.w3.org/2000/svg\" xmlns:xlink=\"http://www.w3.org/1999/xlink\" width=\"100.0\" height=\"100.0\" viewBox=\"34.96811123459668 49.98769012366224 0.004427964473862289 0.002448270856334034\" preserveAspectRatio=\"xMinYMin meet\"><g transform=\"matrix(1,0,0,-1,0,99.97782851818081)\"><path fill-rule=\"evenodd\" fill=\"#66cc99\" stroke=\"#555555\" stroke-width=\"8.855928947724578e-05\" opacity=\"0.6\" d=\"M 34.972375200386324,49.987854122346455 L 34.972375200386324,49.98997439583436 L 34.96827523328089,49.98997439583436 L 34.96827523328089,49.987854122346455 L 34.972375200386324,49.987854122346455 z\" /></g></svg>"
      ],
      "text/plain": [
       "<shapely.geometry.polygon.Polygon at 0x7f48fc19c160>"
      ]
     },
     "metadata": {},
     "output_type": "display_data"
    },
    {
     "data": {
      "image/svg+xml": [
       "<svg xmlns=\"http://www.w3.org/2000/svg\" xmlns:xlink=\"http://www.w3.org/1999/xlink\" width=\"100.0\" height=\"100.0\" viewBox=\"34.94057330627757 49.95483943247062 0.015209095366770953 0.008076742266460712\" preserveAspectRatio=\"xMinYMin meet\"><g transform=\"matrix(1,0,0,-1,0,99.91775560720771)\"><path fill-rule=\"evenodd\" fill=\"#66cc99\" stroke=\"#555555\" stroke-width=\"0.00030418190733541903\" opacity=\"0.6\" d=\"M 34.95521910181594,49.95540273229902 L 34.95521910181594,49.96235287490868 L 34.94113660610597,49.96235287490868 L 34.94113660610597,49.95540273229902 L 34.95521910181594,49.95540273229902 z\" /></g></svg>"
      ],
      "text/plain": [
       "<shapely.geometry.polygon.Polygon at 0x7f48fc19c160>"
      ]
     },
     "metadata": {},
     "output_type": "display_data"
    },
    {
     "data": {
      "image/svg+xml": [
       "<svg xmlns=\"http://www.w3.org/2000/svg\" xmlns:xlink=\"http://www.w3.org/1999/xlink\" width=\"100.0\" height=\"100.0\" viewBox=\"34.88910936048383 49.949537469535805 0.041301597979753524 0.01429731388843436\" preserveAspectRatio=\"xMinYMin meet\"><g transform=\"matrix(1,0,0,-1,0,99.91337225296004)\"><path fill-rule=\"evenodd\" fill=\"#66cc99\" stroke=\"#555555\" stroke-width=\"0.0008260319595950705\" opacity=\"0.6\" d=\"M 34.928881269649516,49.95106715834987 L 34.928881269649516,49.96230509461017 L 34.890639049297896,49.96230509461017 L 34.890639049297896,49.95106715834987 L 34.928881269649516,49.95106715834987 z\" /></g></svg>"
      ],
      "text/plain": [
       "<shapely.geometry.polygon.Polygon at 0x7f48fc19c160>"
      ]
     },
     "metadata": {},
     "output_type": "display_data"
    },
    {
     "data": {
      "image/svg+xml": [
       "<svg xmlns=\"http://www.w3.org/2000/svg\" xmlns:xlink=\"http://www.w3.org/1999/xlink\" width=\"100.0\" height=\"100.0\" viewBox=\"35.011196108874316 49.95287194745554 0.00401083738574215 0.0022373151675054714\" preserveAspectRatio=\"xMinYMin meet\"><g transform=\"matrix(1,0,0,-1,0,99.90798121007859)\"><path fill-rule=\"evenodd\" fill=\"#66cc99\" stroke=\"#555555\" stroke-width=\"8.0216747714843e-05\" opacity=\"0.6\" d=\"M 35.015058396727255,49.953020496988344 L 35.015058396727255,49.954960713090244 L 35.01134465840712,49.954960713090244 L 35.01134465840712,49.953020496988344 L 35.015058396727255,49.953020496988344 z\" /></g></svg>"
      ],
      "text/plain": [
       "<shapely.geometry.polygon.Polygon at 0x7f48fc19c160>"
      ]
     },
     "metadata": {},
     "output_type": "display_data"
    },
    {
     "data": {
      "image/svg+xml": [
       "<svg xmlns=\"http://www.w3.org/2000/svg\" xmlns:xlink=\"http://www.w3.org/1999/xlink\" width=\"100.0\" height=\"100.0\" viewBox=\"34.99045474479476 49.94228309717762 0.0022507965451552536 0.0029115172673215284\" preserveAspectRatio=\"xMinYMin meet\"><g transform=\"matrix(1,0,0,-1,0,99.88747771162257)\"><path fill-rule=\"evenodd\" fill=\"#66cc99\" stroke=\"#555555\" stroke-width=\"5.823034534643057e-05\" opacity=\"0.6\" d=\"M 34.992597707367054,49.942390931150484 L 34.992597707367054,49.94508678047208 L 34.99056257876762,49.94508678047208 L 34.99056257876762,49.942390931150484 L 34.992597707367054,49.942390931150484 z\" /></g></svg>"
      ],
      "text/plain": [
       "<shapely.geometry.polygon.Polygon at 0x7f48fc19c160>"
      ]
     },
     "metadata": {},
     "output_type": "display_data"
    },
    {
     "data": {
      "image/svg+xml": [
       "<svg xmlns=\"http://www.w3.org/2000/svg\" xmlns:xlink=\"http://www.w3.org/1999/xlink\" width=\"100.0\" height=\"100.0\" viewBox=\"34.99251392543056 49.93749956516992 0.008679452102754226 0.0035397951693738605\" preserveAspectRatio=\"xMinYMin meet\"><g transform=\"matrix(1,0,0,-1,0,99.87853892550922)\"><path fill-rule=\"evenodd\" fill=\"#66cc99\" stroke=\"#555555\" stroke-width=\"0.00017358904205508452\" opacity=\"0.6\" d=\"M 35.00087191634432,49.93782102635891 L 35.00087191634432,49.94071789915031 L 34.99283538661955,49.94071789915031 L 34.99283538661955,49.93782102635891 L 35.00087191634432,49.93782102635891 z\" /></g></svg>"
      ],
      "text/plain": [
       "<shapely.geometry.polygon.Polygon at 0x7f48fc19c160>"
      ]
     },
     "metadata": {},
     "output_type": "display_data"
    },
    {
     "data": {
      "image/svg+xml": [
       "<svg xmlns=\"http://www.w3.org/2000/svg\" xmlns:xlink=\"http://www.w3.org/1999/xlink\" width=\"100.0\" height=\"100.0\" viewBox=\"35.04598789495269 49.954660580092316 0.007781024528355829 0.0038951082397531422\" preserveAspectRatio=\"xMinYMin meet\"><g transform=\"matrix(1,0,0,-1,0,99.91321626842438)\"><path fill-rule=\"evenodd\" fill=\"#66cc99\" stroke=\"#555555\" stroke-width=\"0.00015562049056711658\" opacity=\"0.6\" d=\"M 35.0534807333874,49.95494876618596 L 35.0534807333874,49.95826750223843 L 35.04627608104633,49.95826750223843 L 35.04627608104633,49.95494876618596 L 35.0534807333874,49.95494876618596 z\" /></g></svg>"
      ],
      "text/plain": [
       "<shapely.geometry.polygon.Polygon at 0x7f48fc19c160>"
      ]
     },
     "metadata": {},
     "output_type": "display_data"
    },
    {
     "data": {
      "image/svg+xml": [
       "<svg xmlns=\"http://www.w3.org/2000/svg\" xmlns:xlink=\"http://www.w3.org/1999/xlink\" width=\"100.0\" height=\"100.0\" viewBox=\"35.043617434156815 49.957566599489624 0.00239086798275423 0.0027970629819407122\" preserveAspectRatio=\"xMinYMin meet\"><g transform=\"matrix(1,0,0,-1,0,99.91793026196119)\"><path fill-rule=\"evenodd\" fill=\"#66cc99\" stroke=\"#555555\" stroke-width=\"5.5941259638814245e-05\" opacity=\"0.6\" d=\"M 35.04590470721431,49.95767019441488 L 35.04590470721431,49.96026006754631 L 35.04372102908207,49.96026006754631 L 35.04372102908207,49.95767019441488 L 35.04590470721431,49.95767019441488 z\" /></g></svg>"
      ],
      "text/plain": [
       "<shapely.geometry.polygon.Polygon at 0x7f48fc19c160>"
      ]
     },
     "metadata": {},
     "output_type": "display_data"
    },
    {
     "data": {
      "image/svg+xml": [
       "<svg xmlns=\"http://www.w3.org/2000/svg\" xmlns:xlink=\"http://www.w3.org/1999/xlink\" width=\"100.0\" height=\"100.0\" viewBox=\"35.05469081788162 49.96698374004584 0.00783717625175484 0.0028354771797083345\" preserveAspectRatio=\"xMinYMin meet\"><g transform=\"matrix(1,0,0,-1,0,99.9368029572714)\"><path fill-rule=\"evenodd\" fill=\"#66cc99\" stroke=\"#555555\" stroke-width=\"0.00015674352503509682\" opacity=\"0.6\" d=\"M 35.062237728346275,49.96727400583294 L 35.062237728346275,49.96952895143845 L 35.05498108366872,49.96952895143845 L 35.05498108366872,49.96727400583294 L 35.062237728346275,49.96727400583294 z\" /></g></svg>"
      ],
      "text/plain": [
       "<shapely.geometry.polygon.Polygon at 0x7f48fc19c160>"
      ]
     },
     "metadata": {},
     "output_type": "display_data"
    },
    {
     "data": {
      "image/svg+xml": [
       "<svg xmlns=\"http://www.w3.org/2000/svg\" xmlns:xlink=\"http://www.w3.org/1999/xlink\" width=\"100.0\" height=\"100.0\" viewBox=\"35.092054293471946 49.958287932855704 0.008350563437133474 0.0041257782741155324\" preserveAspectRatio=\"xMinYMin meet\"><g transform=\"matrix(1,0,0,-1,0,99.92070164398552)\"><path fill-rule=\"evenodd\" fill=\"#66cc99\" stroke=\"#555555\" stroke-width=\"0.00016701126874266948\" opacity=\"0.6\" d=\"M 35.100095576781776,49.95859721298301 L 35.100095576781776,49.962104431002516 L 35.09236357359925,49.962104431002516 L 35.09236357359925,49.95859721298301 L 35.100095576781776,49.95859721298301 z\" /></g></svg>"
      ],
      "text/plain": [
       "<shapely.geometry.polygon.Polygon at 0x7f48fc19c160>"
      ]
     },
     "metadata": {},
     "output_type": "display_data"
    },
    {
     "data": {
      "image/svg+xml": [
       "<svg xmlns=\"http://www.w3.org/2000/svg\" xmlns:xlink=\"http://www.w3.org/1999/xlink\" width=\"100.0\" height=\"100.0\" viewBox=\"35.088115056961 49.95310356773123 0.0032086699086093518 0.0027417753657914545\" preserveAspectRatio=\"xMinYMin meet\"><g transform=\"matrix(1,0,0,-1,0,99.90894891082826)\"><path fill-rule=\"evenodd\" fill=\"#66cc99\" stroke=\"#555555\" stroke-width=\"6.417339817218703e-05\" opacity=\"0.6\" d=\"M 35.091204887243364,49.95322240735748 L 35.091204887243364,49.95572650347078 L 35.08823389658725,49.95572650347078 L 35.08823389658725,49.95322240735748 L 35.091204887243364,49.95322240735748 z\" /></g></svg>"
      ],
      "text/plain": [
       "<shapely.geometry.polygon.Polygon at 0x7f48fc19c160>"
      ]
     },
     "metadata": {},
     "output_type": "display_data"
    },
    {
     "data": {
      "image/svg+xml": [
       "<svg xmlns=\"http://www.w3.org/2000/svg\" xmlns:xlink=\"http://www.w3.org/1999/xlink\" width=\"100.0\" height=\"100.0\" viewBox=\"35.14699962502501 49.94610534361889 0.01704445455522574 0.01203642593558385\" preserveAspectRatio=\"xMinYMin meet\"><g transform=\"matrix(1,0,0,-1,0,99.90424711317337)\"><path fill-rule=\"evenodd\" fill=\"#66cc99\" stroke=\"#555555\" stroke-width=\"0.0003408890911045148\" opacity=\"0.6\" d=\"M 35.1634128034856,49.946736619713526 L 35.1634128034856,49.957510493459836 L 35.14763090111965,49.957510493459836 L 35.14763090111965,49.946736619713526 L 35.1634128034856,49.946736619713526 z\" /></g></svg>"
      ],
      "text/plain": [
       "<shapely.geometry.polygon.Polygon at 0x7f48fc19c160>"
      ]
     },
     "metadata": {},
     "output_type": "display_data"
    },
    {
     "data": {
      "image/svg+xml": [
       "<svg xmlns=\"http://www.w3.org/2000/svg\" xmlns:xlink=\"http://www.w3.org/1999/xlink\" width=\"100.0\" height=\"100.0\" viewBox=\"35.12678880746798 49.9537747789883 0.003786230492309528 0.0018020280619595042\" preserveAspectRatio=\"xMinYMin meet\"><g transform=\"matrix(1,0,0,-1,0,99.90935158603855)\"><path fill-rule=\"evenodd\" fill=\"#66cc99\" stroke=\"#555555\" stroke-width=\"7.572460984619056e-05\" opacity=\"0.6\" d=\"M 35.13043480720132,49.95391500974727 L 35.13043480720132,49.955436576291284 L 35.126929038226955,49.955436576291284 L 35.126929038226955,49.95391500974727 L 35.13043480720132,49.95391500974727 z\" /></g></svg>"
      ],
      "text/plain": [
       "<shapely.geometry.polygon.Polygon at 0x7f48fc19c160>"
      ]
     },
     "metadata": {},
     "output_type": "display_data"
    },
    {
     "data": {
      "image/svg+xml": [
       "<svg xmlns=\"http://www.w3.org/2000/svg\" xmlns:xlink=\"http://www.w3.org/1999/xlink\" width=\"100.0\" height=\"100.0\" viewBox=\"35.31357155089161 49.94747871292711 0.0011013912265909198 0.0026758359058334236\" preserveAspectRatio=\"xMinYMin meet\"><g transform=\"matrix(1,0,0,-1,0,99.89763326176005)\"><path fill-rule=\"evenodd\" fill=\"#66cc99\" stroke=\"#555555\" stroke-width=\"5.351671811666847e-05\" opacity=\"0.6\" d=\"M 35.31457383708465,49.947577817960656 L 35.31457383708465,49.95005544379939 L 35.31367065592516,49.95005544379939 L 35.31367065592516,49.947577817960656 L 35.31457383708465,49.947577817960656 z\" /></g></svg>"
      ],
      "text/plain": [
       "<shapely.geometry.polygon.Polygon at 0x7f48fc19c160>"
      ]
     },
     "metadata": {},
     "output_type": "display_data"
    },
    {
     "data": {
      "image/svg+xml": [
       "<svg xmlns=\"http://www.w3.org/2000/svg\" xmlns:xlink=\"http://www.w3.org/1999/xlink\" width=\"100.0\" height=\"100.0\" viewBox=\"35.34749276392205 49.907301118557946 0.0022572521663093426 0.0023970425436132814\" preserveAspectRatio=\"xMinYMin meet\"><g transform=\"matrix(1,0,0,-1,0,99.81699927965951)\"><path fill-rule=\"evenodd\" fill=\"#66cc99\" stroke=\"#555555\" stroke-width=\"4.794085087226563e-05\" opacity=\"0.6\" d=\"M 35.34966123673489,49.907389897911415 L 35.34966123673489,49.90960938174809 L 35.34758154327552,49.90960938174809 L 35.34758154327552,49.907389897911415 L 35.34966123673489,49.907389897911415 z\" /></g></svg>"
      ],
      "text/plain": [
       "<shapely.geometry.polygon.Polygon at 0x7f48fc19c160>"
      ]
     },
     "metadata": {},
     "output_type": "display_data"
    },
    {
     "data": {
      "image/svg+xml": [
       "<svg xmlns=\"http://www.w3.org/2000/svg\" xmlns:xlink=\"http://www.w3.org/1999/xlink\" width=\"100.0\" height=\"100.0\" viewBox=\"35.348305810761104 49.90748231573537 0.0015744480215644785 0.0017022160345376847\" preserveAspectRatio=\"xMinYMin meet\"><g transform=\"matrix(1,0,0,-1,0,99.81666684750527)\"><path fill-rule=\"evenodd\" fill=\"#66cc99\" stroke=\"#555555\" stroke-width=\"3.404432069075369e-05\" opacity=\"0.6\" d=\"M 35.34981721374435,49.90754536077369 L 35.34981721374435,49.90912148673159 L 35.34836885579942,49.90912148673159 L 35.34836885579942,49.90754536077369 L 35.34981721374435,49.90754536077369 z\" /></g></svg>"
      ],
      "text/plain": [
       "<shapely.geometry.polygon.Polygon at 0x7f48fc19c160>"
      ]
     },
     "metadata": {},
     "output_type": "display_data"
    },
    {
     "data": {
      "image/svg+xml": [
       "<svg xmlns=\"http://www.w3.org/2000/svg\" xmlns:xlink=\"http://www.w3.org/1999/xlink\" width=\"100.0\" height=\"100.0\" viewBox=\"35.252031430355046 49.9761568224141 0.0038898424636926165 0.004583366500028774\" preserveAspectRatio=\"xMinYMin meet\"><g transform=\"matrix(1,0,0,-1,0,99.95689701132822)\"><path fill-rule=\"evenodd\" fill=\"#66cc99\" stroke=\"#555555\" stroke-width=\"9.166733000057548e-05\" opacity=\"0.6\" d=\"M 35.25575151850392,49.976326576728916 L 35.25575151850392,49.98057043459931 L 35.252201184669865,49.98057043459931 L 35.252201184669865,49.976326576728916 L 35.25575151850392,49.976326576728916 z\" /></g></svg>"
      ],
      "text/plain": [
       "<shapely.geometry.polygon.Polygon at 0x7f48fc19c160>"
      ]
     },
     "metadata": {},
     "output_type": "display_data"
    },
    {
     "data": {
      "image/svg+xml": [
       "<svg xmlns=\"http://www.w3.org/2000/svg\" xmlns:xlink=\"http://www.w3.org/1999/xlink\" width=\"100.0\" height=\"100.0\" viewBox=\"35.26602529765437 49.95382505123469 0.009274595062052526 0.01001578361398714\" preserveAspectRatio=\"xMinYMin meet\"><g transform=\"matrix(1,0,0,-1,0,99.91766588608337)\"><path fill-rule=\"evenodd\" fill=\"#66cc99\" stroke=\"#555555\" stroke-width=\"0.0002003156722797428\" opacity=\"0.6\" d=\"M 35.27492893776776,49.95419600618335 L 35.27492893776776,49.96346987990001 L 35.26639625260304,49.96346987990001 L 35.26639625260304,49.95419600618335 L 35.27492893776776,49.95419600618335 z\" /></g></svg>"
      ],
      "text/plain": [
       "<shapely.geometry.polygon.Polygon at 0x7f48fc19c160>"
      ]
     },
     "metadata": {},
     "output_type": "display_data"
    },
    {
     "data": {
      "image/svg+xml": [
       "<svg xmlns=\"http://www.w3.org/2000/svg\" xmlns:xlink=\"http://www.w3.org/1999/xlink\" width=\"100.0\" height=\"100.0\" viewBox=\"35.28022490687195 49.9671795739262 0.003965916007196313 0.002006009227109473\" preserveAspectRatio=\"xMinYMin meet\"><g transform=\"matrix(1,0,0,-1,0,99.9363651570795)\"><path fill-rule=\"evenodd\" fill=\"#66cc99\" stroke=\"#555555\" stroke-width=\"7.931832014392626e-05\" opacity=\"0.6\" d=\"M 35.2840439371011,49.967326459704246 L 35.2840439371011,49.96903869737527 L 35.280371792649994,49.96903869737527 L 35.280371792649994,49.967326459704246 L 35.2840439371011,49.967326459704246 z\" /></g></svg>"
      ],
      "text/plain": [
       "<shapely.geometry.polygon.Polygon at 0x7f48fc19c160>"
      ]
     },
     "metadata": {},
     "output_type": "display_data"
    },
    {
     "data": {
      "image/svg+xml": [
       "<svg xmlns=\"http://www.w3.org/2000/svg\" xmlns:xlink=\"http://www.w3.org/1999/xlink\" width=\"100.0\" height=\"100.0\" viewBox=\"35.305391812202096 49.965126761518945 0.004697492746409182 0.00328331324509179\" preserveAspectRatio=\"xMinYMin meet\"><g transform=\"matrix(1,0,0,-1,0,99.93353683628298)\"><path fill-rule=\"evenodd\" fill=\"#66cc99\" stroke=\"#555555\" stroke-width=\"9.394985492818364e-05\" opacity=\"0.6\" d=\"M 35.30991532373567,49.96530074273178 L 35.30991532373567,49.968236093551205 L 35.30556579341493,49.968236093551205 L 35.30556579341493,49.96530074273178 L 35.30991532373567,49.96530074273178 z\" /></g></svg>"
      ],
      "text/plain": [
       "<shapely.geometry.polygon.Polygon at 0x7f48fc19c160>"
      ]
     },
     "metadata": {},
     "output_type": "display_data"
    },
    {
     "data": {
      "image/svg+xml": [
       "<svg xmlns=\"http://www.w3.org/2000/svg\" xmlns:xlink=\"http://www.w3.org/1999/xlink\" width=\"100.0\" height=\"100.0\" viewBox=\"35.348305810761104 49.90748231573537 0.0015744480215644785 0.0017022160345376847\" preserveAspectRatio=\"xMinYMin meet\"><g transform=\"matrix(1,0,0,-1,0,99.81666684750527)\"><path fill-rule=\"evenodd\" fill=\"#66cc99\" stroke=\"#555555\" stroke-width=\"3.404432069075369e-05\" opacity=\"0.6\" d=\"M 35.34981721374435,49.90754536077369 L 35.34981721374435,49.90912148673159 L 35.34836885579942,49.90912148673159 L 35.34836885579942,49.90754536077369 L 35.34981721374435,49.90754536077369 z\" /></g></svg>"
      ],
      "text/plain": [
       "<shapely.geometry.polygon.Polygon at 0x7f48fc19c160>"
      ]
     },
     "metadata": {},
     "output_type": "display_data"
    },
    {
     "data": {
      "image/svg+xml": [
       "<svg xmlns=\"http://www.w3.org/2000/svg\" xmlns:xlink=\"http://www.w3.org/1999/xlink\" width=\"100.0\" height=\"100.0\" viewBox=\"35.34848026794903 49.92807993163858 0.00661788168678612 0.005849869236506322\" preserveAspectRatio=\"xMinYMin meet\"><g transform=\"matrix(1,0,0,-1,0,99.86200973251366)\"><path fill-rule=\"evenodd\" fill=\"#66cc99\" stroke=\"#555555\" stroke-width=\"0.0001323576337357224\" opacity=\"0.6\" d=\"M 35.354853042906676,49.92832503836772 L 35.354853042906676,49.933684694145946 L 35.34872537467817,49.933684694145946 L 35.34872537467817,49.92832503836772 L 35.354853042906676,49.92832503836772 z\" /></g></svg>"
      ],
      "text/plain": [
       "<shapely.geometry.polygon.Polygon at 0x7f48fc19c160>"
      ]
     },
     "metadata": {},
     "output_type": "display_data"
    },
    {
     "data": {
      "image/svg+xml": [
       "<svg xmlns=\"http://www.w3.org/2000/svg\" xmlns:xlink=\"http://www.w3.org/1999/xlink\" width=\"100.0\" height=\"100.0\" viewBox=\"35.361561539808456 49.94533802605794 0.003770187142777104 0.002296265200392611\" preserveAspectRatio=\"xMinYMin meet\"><g transform=\"matrix(1,0,0,-1,0,99.89297231731626)\"><path fill-rule=\"evenodd\" fill=\"#66cc99\" stroke=\"#555555\" stroke-width=\"7.540374285554208e-05\" opacity=\"0.6\" d=\"M 35.36519209039039,49.945477662618785 L 35.36519209039039,49.947494654697486 L 35.3617011763693,49.947494654697486 L 35.3617011763693,49.945477662618785 L 35.36519209039039,49.945477662618785 z\" /></g></svg>"
      ],
      "text/plain": [
       "<shapely.geometry.polygon.Polygon at 0x7f48fc19c160>"
      ]
     },
     "metadata": {},
     "output_type": "display_data"
    },
    {
     "data": {
      "image/svg+xml": [
       "<svg xmlns=\"http://www.w3.org/2000/svg\" xmlns:xlink=\"http://www.w3.org/1999/xlink\" width=\"100.0\" height=\"100.0\" viewBox=\"35.357033452949274 49.94956738532211 0.004299617677723688 0.0011787530110751732\" preserveAspectRatio=\"xMinYMin meet\"><g transform=\"matrix(1,0,0,-1,0,99.9003135236553)\"><path fill-rule=\"evenodd\" fill=\"#66cc99\" stroke=\"#555555\" stroke-width=\"8.599235355447377e-05\" opacity=\"0.6\" d=\"M 35.36117382552782,49.94972663042129 L 35.36117382552782,49.95058689323401 L 35.35719269804845,49.95058689323401 L 35.35719269804845,49.94972663042129 L 35.36117382552782,49.94972663042129 z\" /></g></svg>"
      ],
      "text/plain": [
       "<shapely.geometry.polygon.Polygon at 0x7f48fc19c160>"
      ]
     },
     "metadata": {},
     "output_type": "display_data"
    },
    {
     "data": {
      "image/svg+xml": [
       "<svg xmlns=\"http://www.w3.org/2000/svg\" xmlns:xlink=\"http://www.w3.org/1999/xlink\" width=\"100.0\" height=\"100.0\" viewBox=\"35.350292869348394 49.95113116195084 0.0062087762734108765 0.0030023331961217536\" preserveAspectRatio=\"xMinYMin meet\"><g transform=\"matrix(1,0,0,-1,0,99.9052646570978)\"><path fill-rule=\"evenodd\" fill=\"#66cc99\" stroke=\"#555555\" stroke-width=\"0.00012417552546821752\" opacity=\"0.6\" d=\"M 35.356271690945015,49.95136111662763 L 35.356271690945015,49.95390354047017 L 35.350522824025184,49.95390354047017 L 35.350522824025184,49.95136111662763 L 35.356271690945015,49.95136111662763 z\" /></g></svg>"
      ],
      "text/plain": [
       "<shapely.geometry.polygon.Polygon at 0x7f48fc19c160>"
      ]
     },
     "metadata": {},
     "output_type": "display_data"
    },
    {
     "data": {
      "image/svg+xml": [
       "<svg xmlns=\"http://www.w3.org/2000/svg\" xmlns:xlink=\"http://www.w3.org/1999/xlink\" width=\"100.0\" height=\"100.0\" viewBox=\"35.38570379943629 49.9515249464614 0.0019519617507270937 0.0022864593193361316\" preserveAspectRatio=\"xMinYMin meet\"><g transform=\"matrix(1,0,0,-1,0,99.90533635224213)\"><path fill-rule=\"evenodd\" fill=\"#66cc99\" stroke=\"#555555\" stroke-width=\"4.5729186386722634e-05\" opacity=\"0.6\" d=\"M 35.387571077508525,49.95160963013989 L 35.387571077508525,49.95372672210224 L 35.38578848311479,49.95372672210224 L 35.38578848311479,49.95160963013989 L 35.387571077508525,49.95160963013989 z\" /></g></svg>"
      ],
      "text/plain": [
       "<shapely.geometry.polygon.Polygon at 0x7f48fc19c160>"
      ]
     },
     "metadata": {},
     "output_type": "display_data"
    },
    {
     "data": {
      "image/svg+xml": [
       "<svg xmlns=\"http://www.w3.org/2000/svg\" xmlns:xlink=\"http://www.w3.org/1999/xlink\" width=\"100.0\" height=\"100.0\" viewBox=\"35.14458409376154 50.03921795796815 0.005823735884334269 0.0023872008736915973\" preserveAspectRatio=\"xMinYMin meet\"><g transform=\"matrix(1,0,0,-1,0,100.08082311681)\"><path fill-rule=\"evenodd\" fill=\"#66cc99\" stroke=\"#555555\" stroke-width=\"0.00011647471768668539\" opacity=\"0.6\" d=\"M 35.15019213572423,50.03943365188979 L 35.15019213572423,50.0413894649202 L 35.144799787683176,50.0413894649202 L 35.144799787683176,50.03943365188979 L 35.15019213572423,50.03943365188979 z\" /></g></svg>"
      ],
      "text/plain": [
       "<shapely.geometry.polygon.Polygon at 0x7f48fbe8ada0>"
      ]
     },
     "metadata": {},
     "output_type": "display_data"
    },
    {
     "data": {
      "image/svg+xml": [
       "<svg xmlns=\"http://www.w3.org/2000/svg\" xmlns:xlink=\"http://www.w3.org/1999/xlink\" width=\"100.0\" height=\"100.0\" viewBox=\"35.11108651339469 50.20682770421241 0.01851530973451787 0.009292964601776532\" preserveAspectRatio=\"xMinYMin meet\"><g transform=\"matrix(1,0,0,-1,0,100.4229483730266)\"><path fill-rule=\"evenodd\" fill=\"#66cc99\" stroke=\"#555555\" stroke-width=\"0.0003703061946903574\" opacity=\"0.6\" d=\"M 35.128916070916816,50.2075134564248 L 35.128916070916816,50.215434916601794 L 35.11177226560708,50.215434916601794 L 35.11177226560708,50.2075134564248 L 35.128916070916816,50.2075134564248 z\" /></g></svg>"
      ],
      "text/plain": [
       "<shapely.geometry.polygon.Polygon at 0x7f48fbe8add8>"
      ]
     },
     "metadata": {},
     "output_type": "display_data"
    },
    {
     "data": {
      "image/svg+xml": [
       "<svg xmlns=\"http://www.w3.org/2000/svg\" xmlns:xlink=\"http://www.w3.org/1999/xlink\" width=\"100.0\" height=\"100.0\" viewBox=\"35.13421717711149 50.20677473961064 0.0038469026548639818 0.004892256637162973\" preserveAspectRatio=\"xMinYMin meet\"><g transform=\"matrix(1,0,0,-1,0,100.41844173585844)\"><path fill-rule=\"evenodd\" fill=\"#66cc99\" stroke=\"#555555\" stroke-width=\"9.784513274325945e-05\" opacity=\"0.6\" d=\"M 35.13788288507609,50.2069559343009 L 35.13788288507609,50.21148580155754 L 35.13439837180175,50.21148580155754 L 35.13439837180175,50.2069559343009 L 35.13788288507609,50.2069559343009 z\" /></g></svg>"
      ],
      "text/plain": [
       "<shapely.geometry.polygon.Polygon at 0x7f48fbe8a470>"
      ]
     },
     "metadata": {},
     "output_type": "display_data"
    },
    {
     "data": {
      "image/svg+xml": [
       "<svg xmlns=\"http://www.w3.org/2000/svg\" xmlns:xlink=\"http://www.w3.org/1999/xlink\" width=\"100.0\" height=\"100.0\" viewBox=\"35.15256755321769 50.18440277058416 0.018414955752206197 0.014640066371676141\" preserveAspectRatio=\"xMinYMin meet\"><g transform=\"matrix(1,0,0,-1,0,100.38344560753998)\"><path fill-rule=\"evenodd\" fill=\"#66cc99\" stroke=\"#555555\" stroke-width=\"0.00036829911504412396\" opacity=\"0.6\" d=\"M 35.17030047357167,50.185084805982385 L 35.17030047357167,50.198360801557605 L 35.15324958861592,50.198360801557605 L 35.15324958861592,50.185084805982385 L 35.17030047357167,50.185084805982385 z\" /></g></svg>"
      ],
      "text/plain": [
       "<shapely.geometry.polygon.Polygon at 0x7f48fc19c160>"
      ]
     },
     "metadata": {},
     "output_type": "display_data"
    },
    {
     "data": {
      "image/svg+xml": [
       "<svg xmlns=\"http://www.w3.org/2000/svg\" xmlns:xlink=\"http://www.w3.org/1999/xlink\" width=\"100.0\" height=\"100.0\" viewBox=\"35.18257107091681 50.192976531646096 0.04533491150444746 0.014984800884960237\" preserveAspectRatio=\"xMinYMin meet\"><g transform=\"matrix(1,0,0,-1,0,100.40093786417715)\"><path fill-rule=\"evenodd\" fill=\"#66cc99\" stroke=\"#555555\" stroke-width=\"0.0009066982300889492\" opacity=\"0.6\" d=\"M 35.22622691162479,50.19465560244256 L 35.22622691162479,50.20628226173459 L 35.18425014171327,50.20628226173459 L 35.18425014171327,50.19465560244256 L 35.22622691162479,50.19465560244256 z\" /></g></svg>"
      ],
      "text/plain": [
       "<shapely.geometry.polygon.Polygon at 0x7f48fc19c160>"
      ]
     },
     "metadata": {},
     "output_type": "display_data"
    },
    {
     "data": {
      "image/svg+xml": [
       "<svg xmlns=\"http://www.w3.org/2000/svg\" xmlns:xlink=\"http://www.w3.org/1999/xlink\" width=\"100.0\" height=\"100.0\" viewBox=\"35.15405474348315 50.215636089168264 0.00882000000000005 0.01056225663717214\" preserveAspectRatio=\"xMinYMin meet\"><g transform=\"matrix(1,0,0,-1,0,100.4418344349737)\"><path fill-rule=\"evenodd\" fill=\"#66cc99\" stroke=\"#555555\" stroke-width=\"0.0002112451327434428\" opacity=\"0.6\" d=\"M 35.162483548792885,50.21602728385853 L 35.162483548792885,50.22580715111517 L 35.15444593817342,50.22580715111517 L 35.15444593817342,50.21602728385853 L 35.162483548792885,50.21602728385853 z\" /></g></svg>"
      ],
      "text/plain": [
       "<shapely.geometry.polygon.Polygon at 0x7f48fc19c160>"
      ]
     },
     "metadata": {},
     "output_type": "display_data"
    },
    {
     "data": {
      "image/svg+xml": [
       "<svg xmlns=\"http://www.w3.org/2000/svg\" xmlns:xlink=\"http://www.w3.org/1999/xlink\" width=\"100.0\" height=\"100.0\" viewBox=\"35.12438482066758 50.173628278025994 0.018449851975233855 0.008910595164195456\" preserveAspectRatio=\"xMinYMin meet\"><g transform=\"matrix(1,0,0,-1,0,100.35616715121618)\"><path fill-rule=\"evenodd\" fill=\"#66cc99\" stroke=\"#555555\" stroke-width=\"0.0003689970395046771\" opacity=\"0.6\" d=\"M 35.14215134479188,50.17431160587693 L 35.14215134479188,50.18185554533925 L 35.125068148518515,50.18185554533925 L 35.125068148518515,50.17431160587693 L 35.14215134479188,50.17431160587693 z\" /></g></svg>"
      ],
      "text/plain": [
       "<shapely.geometry.polygon.Polygon at 0x7f48fc19c160>"
      ]
     },
     "metadata": {},
     "output_type": "display_data"
    },
    {
     "data": {
      "image/svg+xml": [
       "<svg xmlns=\"http://www.w3.org/2000/svg\" xmlns:xlink=\"http://www.w3.org/1999/xlink\" width=\"100.0\" height=\"100.0\" viewBox=\"35.230452455010166 50.18434200886562 0.005775605835729891 0.005678089428393207\" preserveAspectRatio=\"xMinYMin meet\"><g transform=\"matrix(1,0,0,-1,0,100.37436210715964)\"><path fill-rule=\"evenodd\" fill=\"#66cc99\" stroke=\"#555555\" stroke-width=\"0.00011551211671459783\" opacity=\"0.6\" d=\"M 35.236014149518645,50.18455592019287 L 35.236014149518645,50.18980618696676 L 35.23066636633742,50.18980618696676 L 35.23066636633742,50.18455592019287 L 35.236014149518645,50.18455592019287 z\" /></g></svg>"
      ],
      "text/plain": [
       "<shapely.geometry.polygon.Polygon at 0x7f48fc19c160>"
      ]
     },
     "metadata": {},
     "output_type": "display_data"
    },
    {
     "data": {
      "image/svg+xml": [
       "<svg xmlns=\"http://www.w3.org/2000/svg\" xmlns:xlink=\"http://www.w3.org/1999/xlink\" width=\"100.0\" height=\"100.0\" viewBox=\"35.19731013865649 50.161521550136115 0.002856953187460931 0.0030729571652869936\" preserveAspectRatio=\"xMinYMin meet\"><g transform=\"matrix(1,0,0,-1,0,100.32611605743752)\"><path fill-rule=\"evenodd\" fill=\"#66cc99\" stroke=\"#555555\" stroke-width=\"6.145914330573987e-05\" opacity=\"0.6\" d=\"M 35.200053278615606,50.16163536336446 L 35.200053278615606,50.164480694073056 L 35.197423951884836,50.164480694073056 L 35.197423951884836,50.16163536336446 L 35.200053278615606,50.16163536336446 z\" /></g></svg>"
      ],
      "text/plain": [
       "<shapely.geometry.polygon.Polygon at 0x7f48fc19c160>"
      ]
     },
     "metadata": {},
     "output_type": "display_data"
    },
    {
     "data": {
      "image/svg+xml": [
       "<svg xmlns=\"http://www.w3.org/2000/svg\" xmlns:xlink=\"http://www.w3.org/1999/xlink\" width=\"100.0\" height=\"100.0\" viewBox=\"35.225734521848125 50.156373305947696 0.005695389088010927 0.002782148767614956\" preserveAspectRatio=\"xMinYMin meet\"><g transform=\"matrix(1,0,0,-1,0,100.315528760663)\"><path fill-rule=\"evenodd\" fill=\"#66cc99\" stroke=\"#555555\" stroke-width=\"0.00011390778176021854\" opacity=\"0.6\" d=\"M 35.23121897059954,50.15658424628429 L 35.23121897059954,50.15894451437872 L 35.22594546218472,50.15894451437872 L 35.22594546218472,50.15658424628429 L 35.23121897059954,50.15658424628429 z\" /></g></svg>"
      ],
      "text/plain": [
       "<shapely.geometry.polygon.Polygon at 0x7f48fc19c160>"
      ]
     },
     "metadata": {},
     "output_type": "display_data"
    },
    {
     "data": {
      "image/svg+xml": [
       "<svg xmlns=\"http://www.w3.org/2000/svg\" xmlns:xlink=\"http://www.w3.org/1999/xlink\" width=\"100.0\" height=\"100.0\" viewBox=\"35.22571313071541 50.159816838799344 0.009080535841718529 0.008323474516096496\" preserveAspectRatio=\"xMinYMin meet\"><g transform=\"matrix(1,0,0,-1,0,100.32795715211478)\"><path fill-rule=\"evenodd\" fill=\"#66cc99\" stroke=\"#555555\" stroke-width=\"0.00018161071683437058\" opacity=\"0.6\" d=\"M 35.23445735041484,50.16015315494163 L 35.23445735041484,50.16780399717315 L 35.2260494468577,50.16780399717315 L 35.2260494468577,50.16015315494163 L 35.23445735041484,50.16015315494163 z\" /></g></svg>"
      ],
      "text/plain": [
       "<shapely.geometry.polygon.Polygon at 0x7f48fc19c160>"
      ]
     },
     "metadata": {},
     "output_type": "display_data"
    },
    {
     "data": {
      "image/svg+xml": [
       "<svg xmlns=\"http://www.w3.org/2000/svg\" xmlns:xlink=\"http://www.w3.org/1999/xlink\" width=\"100.0\" height=\"100.0\" viewBox=\"35.23340027193937 50.171708219388165 0.006080429477052007 0.0058162163687214274\" preserveAspectRatio=\"xMinYMin meet\"><g transform=\"matrix(1,0,0,-1,0,100.34923265514504)\"><path fill-rule=\"evenodd\" fill=\"#66cc99\" stroke=\"#555555\" stroke-width=\"0.00012160858954104015\" opacity=\"0.6\" d=\"M 35.239255500324674,50.17193342047991 L 35.239255500324674,50.17729923466514 L 35.23362547303111,50.17729923466514 L 35.23362547303111,50.17193342047991 L 35.239255500324674,50.17193342047991 z\" /></g></svg>"
      ],
      "text/plain": [
       "<shapely.geometry.polygon.Polygon at 0x7f48fc19c160>"
      ]
     },
     "metadata": {},
     "output_type": "display_data"
    },
    {
     "data": {
      "image/svg+xml": [
       "<svg xmlns=\"http://www.w3.org/2000/svg\" xmlns:xlink=\"http://www.w3.org/1999/xlink\" width=\"100.0\" height=\"100.0\" viewBox=\"35.00345344040579 50.02555032109393 0.005794879897294436 0.009244475575563627\" preserveAspectRatio=\"xMinYMin meet\"><g transform=\"matrix(1,0,0,-1,0,100.06034511776343)\"><path fill-rule=\"evenodd\" fill=\"#66cc99\" stroke=\"#555555\" stroke-width=\"0.00018488951151127253\" opacity=\"0.6\" d=\"M 35.008905932318804,50.025892709078214 L 35.008905932318804,50.03445240868521 L 35.003795828390075,50.03445240868521 L 35.003795828390075,50.025892709078214 L 35.008905932318804,50.025892709078214 z\" /></g></svg>"
      ],
      "text/plain": [
       "<shapely.geometry.polygon.Polygon at 0x7f48fc19c160>"
      ]
     },
     "metadata": {},
     "output_type": "display_data"
    },
    {
     "data": {
      "image/svg+xml": [
       "<svg xmlns=\"http://www.w3.org/2000/svg\" xmlns:xlink=\"http://www.w3.org/1999/xlink\" width=\"100.0\" height=\"100.0\" viewBox=\"34.88220506479286 49.99729479687394 0.049814600333071724 0.02690215201453583\" preserveAspectRatio=\"xMinYMin meet\"><g transform=\"matrix(1,0,0,-1,0,100.0214917457624)\"><path fill-rule=\"evenodd\" fill=\"#66cc99\" stroke=\"#555555\" stroke-width=\"0.0009962920066614344\" opacity=\"0.6\" d=\"M 34.93017467992841,49.99913978207146 L 34.93017467992841,50.02235196369095 L 34.884050049990385,50.02235196369095 L 34.884050049990385,49.99913978207146 L 34.93017467992841,49.99913978207146 z\" /></g></svg>"
      ],
      "text/plain": [
       "<shapely.geometry.polygon.Polygon at 0x7f48fc19c160>"
      ]
     },
     "metadata": {},
     "output_type": "display_data"
    },
    {
     "data": {
      "image/svg+xml": [
       "<svg xmlns=\"http://www.w3.org/2000/svg\" xmlns:xlink=\"http://www.w3.org/1999/xlink\" width=\"100.0\" height=\"100.0\" viewBox=\"35.00585829010347 50.03444981058621 0.007283680692822259 0.004470544165165791\" preserveAspectRatio=\"xMinYMin meet\"><g transform=\"matrix(1,0,0,-1,0,100.0733701653376)\"><path fill-rule=\"evenodd\" fill=\"#66cc99\" stroke=\"#555555\" stroke-width=\"0.00014567361385644517\" opacity=\"0.6\" d=\"M 35.012872204844705,50.034719576537796 L 35.012872204844705,50.03865058879979 L 35.006128056055054,50.03865058879979 L 35.006128056055054,50.034719576537796 L 35.012872204844705,50.034719576537796 z\" /></g></svg>"
      ],
      "text/plain": [
       "<shapely.geometry.polygon.Polygon at 0x7f48fc19c160>"
      ]
     },
     "metadata": {},
     "output_type": "display_data"
    },
    {
     "data": {
      "image/svg+xml": [
       "<svg xmlns=\"http://www.w3.org/2000/svg\" xmlns:xlink=\"http://www.w3.org/1999/xlink\" width=\"100.0\" height=\"100.0\" viewBox=\"34.963898989065484 50.03952755784601 0.0031124098114716503 0.0012418528617530455\" preserveAspectRatio=\"xMinYMin meet\"><g transform=\"matrix(1,0,0,-1,0,100.08029696855377)\"><path fill-rule=\"evenodd\" fill=\"#66cc99\" stroke=\"#555555\" stroke-width=\"6.2248196229433e-05\" opacity=\"0.6\" d=\"M 34.966896124439494,50.03964283228347 L 34.966896124439494,50.0406541362703 L 34.964014263502946,50.0406541362703 L 34.964014263502946,50.03964283228347 L 34.966896124439494,50.03964283228347 z\" /></g></svg>"
      ],
      "text/plain": [
       "<shapely.geometry.polygon.Polygon at 0x7f48fc19c160>"
      ]
     },
     "metadata": {},
     "output_type": "display_data"
    },
    {
     "data": {
      "image/svg+xml": [
       "<svg xmlns=\"http://www.w3.org/2000/svg\" xmlns:xlink=\"http://www.w3.org/1999/xlink\" width=\"100.0\" height=\"100.0\" viewBox=\"35.052043314705415 50.01858529693511 0.002951976315920035 0.001306767365882422\" preserveAspectRatio=\"xMinYMin meet\"><g transform=\"matrix(1,0,0,-1,0,100.03847736123609)\"><path fill-rule=\"evenodd\" fill=\"#66cc99\" stroke=\"#555555\" stroke-width=\"5.90395263184007e-05\" opacity=\"0.6\" d=\"M 35.05488595856519,50.018694629391256 L 35.05488595856519,50.01978273184484 L 35.05215264716156,50.01978273184484 L 35.05215264716156,50.018694629391256 L 35.05488595856519,50.018694629391256 z\" /></g></svg>"
      ],
      "text/plain": [
       "<shapely.geometry.polygon.Polygon at 0x7f48fc19c160>"
      ]
     },
     "metadata": {},
     "output_type": "display_data"
    },
    {
     "data": {
      "image/svg+xml": [
       "<svg xmlns=\"http://www.w3.org/2000/svg\" xmlns:xlink=\"http://www.w3.org/1999/xlink\" width=\"100.0\" height=\"100.0\" viewBox=\"35.07836807451296 50.01703202298824 0.004508181221581253 0.0028794999151884326\" preserveAspectRatio=\"xMinYMin meet\"><g transform=\"matrix(1,0,0,-1,0,100.03694354589166)\"><path fill-rule=\"evenodd\" fill=\"#66cc99\" stroke=\"#555555\" stroke-width=\"9.016362443162507e-05\" opacity=\"0.6\" d=\"M 35.08270928605967,50.01719899266311 L 35.08270928605967,50.019744553228556 L 35.07853504418783,50.019744553228556 L 35.07853504418783,50.01719899266311 L 35.08270928605967,50.01719899266311 z\" /></g></svg>"
      ],
      "text/plain": [
       "<shapely.geometry.polygon.Polygon at 0x7f48fc19c160>"
      ]
     },
     "metadata": {},
     "output_type": "display_data"
    },
    {
     "data": {
      "image/svg+xml": [
       "<svg xmlns=\"http://www.w3.org/2000/svg\" xmlns:xlink=\"http://www.w3.org/1999/xlink\" width=\"100.0\" height=\"100.0\" viewBox=\"35.08319232679291 50.02596365587461 0.00398061797595517 0.006410461523600475\" preserveAspectRatio=\"xMinYMin meet\"><g transform=\"matrix(1,0,0,-1,0,100.05833777327283)\"><path fill-rule=\"evenodd\" fill=\"#66cc99\" stroke=\"#555555\" stroke-width=\"0.00012820923047200948\" opacity=\"0.6\" d=\"M 35.08693552026799,50.026201080375486 L 35.08693552026799,50.03213669289734 L 35.083429751293785,50.03213669289734 L 35.083429751293785,50.026201080375486 L 35.08693552026799,50.026201080375486 z\" /></g></svg>"
      ],
      "text/plain": [
       "<shapely.geometry.polygon.Polygon at 0x7f48fc19c160>"
      ]
     },
     "metadata": {},
     "output_type": "display_data"
    },
    {
     "data": {
      "image/svg+xml": [
       "<svg xmlns=\"http://www.w3.org/2000/svg\" xmlns:xlink=\"http://www.w3.org/1999/xlink\" width=\"100.0\" height=\"100.0\" viewBox=\"35.04706601405925 50.00607210993411 0.0027754994709283665 0.0015803917890906405\" preserveAspectRatio=\"xMinYMin meet\"><g transform=\"matrix(1,0,0,-1,0,100.01372461165731)\"><path fill-rule=\"evenodd\" fill=\"#66cc99\" stroke=\"#555555\" stroke-width=\"5.5509989418567327e-05\" opacity=\"0.6\" d=\"M 35.049738717253476,50.00617490621081 L 35.049738717253476,50.0075497054465 L 35.04716881033595,50.0075497054465 L 35.04716881033595,50.00617490621081 L 35.049738717253476,50.00617490621081 z\" /></g></svg>"
      ],
      "text/plain": [
       "<shapely.geometry.polygon.Polygon at 0x7f48fc19c160>"
      ]
     },
     "metadata": {},
     "output_type": "display_data"
    },
    {
     "data": {
      "image/svg+xml": [
       "<svg xmlns=\"http://www.w3.org/2000/svg\" xmlns:xlink=\"http://www.w3.org/1999/xlink\" width=\"100.0\" height=\"100.0\" viewBox=\"35.09052566537685 50.02451226498825 0.0069467703521084445 0.003702052098333297\" preserveAspectRatio=\"xMinYMin meet\"><g transform=\"matrix(1,0,0,-1,0,100.05272658207484)\"><path fill-rule=\"evenodd\" fill=\"#66cc99\" stroke=\"#555555\" stroke-width=\"0.0001389354070421689\" opacity=\"0.6\" d=\"M 35.097215147938144,50.02476955277907 L 35.097215147938144,50.02795702929577 L 35.09078295316767,50.02795702929577 L 35.09078295316767,50.02476955277907 L 35.097215147938144,50.02476955277907 z\" /></g></svg>"
      ],
      "text/plain": [
       "<shapely.geometry.polygon.Polygon at 0x7f48fc19c160>"
      ]
     },
     "metadata": {},
     "output_type": "display_data"
    },
    {
     "data": {
      "image/svg+xml": [
       "<svg xmlns=\"http://www.w3.org/2000/svg\" xmlns:xlink=\"http://www.w3.org/1999/xlink\" width=\"100.0\" height=\"100.0\" viewBox=\"35.093636886791906 50.02805090642346 0.005968126030005294 0.005494816850912798\" preserveAspectRatio=\"xMinYMin meet\"><g transform=\"matrix(1,0,0,-1,0,100.06159662969783)\"><path fill-rule=\"evenodd\" fill=\"#66cc99\" stroke=\"#555555\" stroke-width=\"0.00011936252060010588\" opacity=\"0.6\" d=\"M 35.0993839711171,50.02827194812827 L 35.0993839711171,50.03332468156956 L 35.09385792849672,50.03332468156956 L 35.09385792849672,50.02827194812827 L 35.0993839711171,50.02827194812827 z\" /></g></svg>"
      ],
      "text/plain": [
       "<shapely.geometry.polygon.Polygon at 0x7f48fc19c160>"
      ]
     },
     "metadata": {},
     "output_type": "display_data"
    },
    {
     "data": {
      "image/svg+xml": [
       "<svg xmlns=\"http://www.w3.org/2000/svg\" xmlns:xlink=\"http://www.w3.org/1999/xlink\" width=\"100.0\" height=\"100.0\" viewBox=\"34.979888835755645 49.988087282827685 0.0020856354405935917 0.0013101402035786691\" preserveAspectRatio=\"xMinYMin meet\"><g transform=\"matrix(1,0,0,-1,0,99.97748470585896)\"><path fill-rule=\"evenodd\" fill=\"#66cc99\" stroke=\"#555555\" stroke-width=\"4.171270881187184e-05\" opacity=\"0.6\" d=\"M 34.98189722543918,49.98816452858475 L 34.98189722543918,49.9893201772742 L 34.97996608151271,49.9893201772742 L 34.97996608151271,49.98816452858475 L 34.98189722543918,49.98816452858475 z\" /></g></svg>"
      ],
      "text/plain": [
       "<shapely.geometry.polygon.Polygon at 0x7f48fc19c160>"
      ]
     },
     "metadata": {},
     "output_type": "display_data"
    },
    {
     "data": {
      "image/svg+xml": [
       "<svg xmlns=\"http://www.w3.org/2000/svg\" xmlns:xlink=\"http://www.w3.org/1999/xlink\" width=\"100.0\" height=\"100.0\" viewBox=\"34.980586945165825 49.992380691295466 0.003689970394894715 0.0020973591455728524\" preserveAspectRatio=\"xMinYMin meet\"><g transform=\"matrix(1,0,0,-1,0,99.98685874173651)\"><path fill-rule=\"evenodd\" fill=\"#66cc99\" stroke=\"#555555\" stroke-width=\"7.37994078978943e-05\" opacity=\"0.6\" d=\"M 34.98414024999054,49.99251735686565 L 34.98414024999054,49.99434138487086 L 34.98072361073601,49.99434138487086 L 34.98072361073601,49.99251735686565 L 34.98414024999054,49.99251735686565 z\" /></g></svg>"
      ],
      "text/plain": [
       "<shapely.geometry.polygon.Polygon at 0x7f48fc19c160>"
      ]
     },
     "metadata": {},
     "output_type": "display_data"
    },
    {
     "data": {
      "image/svg+xml": [
       "<svg xmlns=\"http://www.w3.org/2000/svg\" xmlns:xlink=\"http://www.w3.org/1999/xlink\" width=\"100.0\" height=\"100.0\" viewBox=\"35.03115885101508 49.99762735511942 0.006345144744251741 0.004719478603369964\" preserveAspectRatio=\"xMinYMin meet\"><g transform=\"matrix(1,0,0,-1,0,99.9999741888422)\"><path fill-rule=\"evenodd\" fill=\"#66cc99\" stroke=\"#555555\" stroke-width=\"0.0001269028948850348\" opacity=\"0.6\" d=\"M 35.03726899039843,49.99786236048032 L 35.03726899039843,50.00211182836189 L 35.03139385637598,50.00211182836189 L 35.03139385637598,49.99786236048032 L 35.03726899039843,49.99786236048032 z\" /></g></svg>"
      ],
      "text/plain": [
       "<shapely.geometry.polygon.Polygon at 0x7f48fc19c160>"
      ]
     },
     "metadata": {},
     "output_type": "display_data"
    },
    {
     "data": {
      "image/svg+xml": [
       "<svg xmlns=\"http://www.w3.org/2000/svg\" xmlns:xlink=\"http://www.w3.org/1999/xlink\" width=\"100.0\" height=\"100.0\" viewBox=\"35.01693255935737 49.983849130318816 0.004211379255053771 0.0035021348317911816\" preserveAspectRatio=\"xMinYMin meet\"><g transform=\"matrix(1,0,0,-1,0,99.97120039546942)\"><path fill-rule=\"evenodd\" fill=\"#66cc99\" stroke=\"#555555\" stroke-width=\"8.422758510107542e-05\" opacity=\"0.6\" d=\"M 35.02098796160298,49.984005107328265 L 35.02098796160298,49.98719528814116 L 35.01708853636682,49.98719528814116 L 35.01708853636682,49.984005107328265 L 35.02098796160298,49.984005107328265 z\" /></g></svg>"
      ],
      "text/plain": [
       "<shapely.geometry.polygon.Polygon at 0x7f48fc19c160>"
      ]
     },
     "metadata": {},
     "output_type": "display_data"
    },
    {
     "data": {
      "image/svg+xml": [
       "<svg xmlns=\"http://www.w3.org/2000/svg\" xmlns:xlink=\"http://www.w3.org/1999/xlink\" width=\"100.0\" height=\"100.0\" viewBox=\"35.02349664030079 49.97742861427891 0.009867305791480874 0.012081339135519897\" preserveAspectRatio=\"xMinYMin meet\"><g transform=\"matrix(1,0,0,-1,0,99.96693856769333)\"><path fill-rule=\"evenodd\" fill=\"#66cc99\" stroke=\"#555555\" stroke-width=\"0.00024162678271039795\" opacity=\"0.6\" d=\"M 35.032916489087256,49.97787607128392 L 35.032916489087256,49.98906249640941 L 35.02394409730581,49.98906249640941 L 35.02394409730581,49.97787607128392 L 35.032916489087256,49.97787607128392 z\" /></g></svg>"
      ],
      "text/plain": [
       "<shapely.geometry.polygon.Polygon at 0x7f48fc19c160>"
      ]
     },
     "metadata": {},
     "output_type": "display_data"
    },
    {
     "data": {
      "image/svg+xml": [
       "<svg xmlns=\"http://www.w3.org/2000/svg\" xmlns:xlink=\"http://www.w3.org/1999/xlink\" width=\"100.0\" height=\"100.0\" viewBox=\"35.058389337941954 50.02256897942207 0.004483542584999611 0.002500743240780423\" preserveAspectRatio=\"xMinYMin meet\"><g transform=\"matrix(1,0,0,-1,0,100.04763870208492)\"><path fill-rule=\"evenodd\" fill=\"#66cc99\" stroke=\"#555555\" stroke-width=\"8.967085169999223e-05\" opacity=\"0.6\" d=\"M 35.06270682339417,50.02273503655485 L 35.06270682339417,50.02490366553007 L 35.058555395074734,50.02490366553007 L 35.058555395074734,50.02273503655485 L 35.06270682339417,50.02273503655485 z\" /></g></svg>"
      ],
      "text/plain": [
       "<shapely.geometry.polygon.Polygon at 0x7f48fc19c160>"
      ]
     },
     "metadata": {},
     "output_type": "display_data"
    },
    {
     "data": {
      "image/svg+xml": [
       "<svg xmlns=\"http://www.w3.org/2000/svg\" xmlns:xlink=\"http://www.w3.org/1999/xlink\" width=\"100.0\" height=\"100.0\" viewBox=\"35.380338871755185 50.02873469099067 0.006417339817183176 0.00197355857793724\" preserveAspectRatio=\"xMinYMin meet\"><g transform=\"matrix(1,0,0,-1,0,100.05944294055928)\"><path fill-rule=\"evenodd\" fill=\"#66cc99\" stroke=\"#555555\" stroke-width=\"0.00012834679634366353\" opacity=\"0.6\" d=\"M 35.38651853231988,50.02897237024315 L 35.38651853231988,50.03047057031612 L 35.38057655100767,50.03047057031612 L 35.38057655100767,50.02897237024315 L 35.38651853231988,50.02897237024315 z\" /></g></svg>"
      ],
      "text/plain": [
       "<shapely.geometry.polygon.Polygon at 0x7f48fc19c160>"
      ]
     },
     "metadata": {},
     "output_type": "display_data"
    },
    {
     "data": {
      "image/svg+xml": [
       "<svg xmlns=\"http://www.w3.org/2000/svg\" xmlns:xlink=\"http://www.w3.org/1999/xlink\" width=\"100.0\" height=\"100.0\" viewBox=\"35.139177122866016 50.031734443508874 0.0022941989846501087 0.001563090236629705\" preserveAspectRatio=\"xMinYMin meet\"><g transform=\"matrix(1,0,0,-1,0,100.06503197725438)\"><path fill-rule=\"evenodd\" fill=\"#66cc99\" stroke=\"#555555\" stroke-width=\"4.588397969300217e-05\" opacity=\"0.6\" d=\"M 35.1413863515179,50.03181941384164 L 35.1413863515179,50.03321256341274 L 35.13926209319878,50.03321256341274 L 35.13926209319878,50.03181941384164 L 35.1413863515179,50.03181941384164 z\" /></g></svg>"
      ],
      "text/plain": [
       "<shapely.geometry.polygon.Polygon at 0x7f48fc19c160>"
      ]
     },
     "metadata": {},
     "output_type": "display_data"
    },
    {
     "data": {
      "image/svg+xml": [
       "<svg xmlns=\"http://www.w3.org/2000/svg\" xmlns:xlink=\"http://www.w3.org/1999/xlink\" width=\"100.0\" height=\"100.0\" viewBox=\"35.2532962918257 49.97147083789287 0.00793343634902044 0.00586628805691447\" preserveAspectRatio=\"xMinYMin meet\"><g transform=\"matrix(1,0,0,-1,0,99.94880796384265)\"><path fill-rule=\"evenodd\" fill=\"#66cc99\" stroke=\"#555555\" stroke-width=\"0.00015866872698040878\" opacity=\"0.6\" d=\"M 35.26093589719883,49.971764668868765 L 35.26093589719883,49.977043294973896 L 35.25359012280159,49.977043294973896 L 35.25359012280159,49.971764668868765 L 35.26093589719883,49.971764668868765 z\" /></g></svg>"
      ],
      "text/plain": [
       "<shapely.geometry.polygon.Polygon at 0x7f48fc19c160>"
      ]
     },
     "metadata": {},
     "output_type": "display_data"
    },
    {
     "data": {
      "image/svg+xml": [
       "<svg xmlns=\"http://www.w3.org/2000/svg\" xmlns:xlink=\"http://www.w3.org/1999/xlink\" width=\"100.0\" height=\"100.0\" viewBox=\"35.27540402749596 49.97713232285679 0.01164747176821379 0.006121434204096943\" preserveAspectRatio=\"xMinYMin meet\"><g transform=\"matrix(1,0,0,-1,0,99.96038607991767)\"><path fill-rule=\"evenodd\" fill=\"#66cc99\" stroke=\"#555555\" stroke-width=\"0.0002329494353642758\" opacity=\"0.6\" d=\"M 35.28662011142091,49.97756371070005 L 35.28662011142091,49.98282236921762 L 35.27583541533922,49.98282236921762 L 35.27583541533922,49.97756371070005 L 35.28662011142091,49.97756371070005 z\" /></g></svg>"
      ],
      "text/plain": [
       "<shapely.geometry.polygon.Polygon at 0x7f48fc19c160>"
      ]
     },
     "metadata": {},
     "output_type": "display_data"
    },
    {
     "data": {
      "image/svg+xml": [
       "<svg xmlns=\"http://www.w3.org/2000/svg\" xmlns:xlink=\"http://www.w3.org/1999/xlink\" width=\"100.0\" height=\"100.0\" viewBox=\"35.14458409376154 50.03921795796815 0.005823735884334269 0.0023872008736915973\" preserveAspectRatio=\"xMinYMin meet\"><g transform=\"matrix(1,0,0,-1,0,100.08082311681)\"><path fill-rule=\"evenodd\" fill=\"#66cc99\" stroke=\"#555555\" stroke-width=\"0.00011647471768668539\" opacity=\"0.6\" d=\"M 35.15019213572423,50.03943365188979 L 35.15019213572423,50.0413894649202 L 35.144799787683176,50.0413894649202 L 35.144799787683176,50.03943365188979 L 35.15019213572423,50.03943365188979 z\" /></g></svg>"
      ],
      "text/plain": [
       "<shapely.geometry.polygon.Polygon at 0x7f48fc19c160>"
      ]
     },
     "metadata": {},
     "output_type": "display_data"
    },
    {
     "data": {
      "image/svg+xml": [
       "<svg xmlns=\"http://www.w3.org/2000/svg\" xmlns:xlink=\"http://www.w3.org/1999/xlink\" width=\"100.0\" height=\"100.0\" viewBox=\"35.108187313530244 50.02417852746583 0.013187633324314163 0.009202809351918972\" preserveAspectRatio=\"xMinYMin meet\"><g transform=\"matrix(1,0,0,-1,0,100.05755986428358)\"><path fill-rule=\"evenodd\" fill=\"#66cc99\" stroke=\"#555555\" stroke-width=\"0.0002637526664862833\" opacity=\"0.6\" d=\"M 35.1208865159907,50.02466695832969 L 35.1208865159907,50.03289290595389 L 35.108675744394105,50.03289290595389 L 35.108675744394105,50.02466695832969 L 35.1208865159907,50.02466695832969 z\" /></g></svg>"
      ],
      "text/plain": [
       "<shapely.geometry.polygon.Polygon at 0x7f48fc19c160>"
      ]
     },
     "metadata": {},
     "output_type": "display_data"
    },
    {
     "data": {
      "image/svg+xml": [
       "<svg xmlns=\"http://www.w3.org/2000/svg\" xmlns:xlink=\"http://www.w3.org/1999/xlink\" width=\"100.0\" height=\"100.0\" viewBox=\"35.25168637577496 50.09840171177211 0.008984275744438719 0.005139137872909316\" preserveAspectRatio=\"xMinYMin meet\"><g transform=\"matrix(1,0,0,-1,0,100.20194256141713)\"><path fill-rule=\"evenodd\" fill=\"#66cc99\" stroke=\"#555555\" stroke-width=\"0.00017968551488877437\" opacity=\"0.6\" d=\"M 35.2603379005659,50.09873446272561 L 35.2603379005659,50.103208098691525 L 35.252019126728456,50.103208098691525 L 35.252019126728456,50.09873446272561 L 35.2603379005659,50.09873446272561 z\" /></g></svg>"
      ],
      "text/plain": [
       "<shapely.geometry.polygon.Polygon at 0x7f48fc19c160>"
      ]
     },
     "metadata": {},
     "output_type": "display_data"
    },
    {
     "data": {
      "image/svg+xml": [
       "<svg xmlns=\"http://www.w3.org/2000/svg\" xmlns:xlink=\"http://www.w3.org/1999/xlink\" width=\"100.0\" height=\"100.0\" viewBox=\"35.03225054784064 49.89050243443832 0.009658096425312124 0.004399815890458569\" preserveAspectRatio=\"xMinYMin meet\"><g transform=\"matrix(1,0,0,-1,0,99.78540468476709)\"><path fill-rule=\"evenodd\" fill=\"#66cc99\" stroke=\"#555555\" stroke-width=\"0.00019316192850624248\" opacity=\"0.6\" d=\"M 35.04155093699094,49.89086014171333 L 35.04155093699094,49.89454454305376 L 35.032608255115655,49.89454454305376 L 35.032608255115655,49.89086014171333 L 35.04155093699094,49.89086014171333 z\" /></g></svg>"
      ],
      "text/plain": [
       "<shapely.geometry.polygon.Polygon at 0x7f48fc19c160>"
      ]
     },
     "metadata": {},
     "output_type": "display_data"
    },
    {
     "data": {
      "image/svg+xml": [
       "<svg xmlns=\"http://www.w3.org/2000/svg\" xmlns:xlink=\"http://www.w3.org/1999/xlink\" width=\"100.0\" height=\"100.0\" viewBox=\"35.13282509769892 49.88245015182566 0.004364128244780829 0.0065743034179917\" preserveAspectRatio=\"xMinYMin meet\"><g transform=\"matrix(1,0,0,-1,0,99.77147460706931)\"><path fill-rule=\"evenodd\" fill=\"#66cc99\" stroke=\"#555555\" stroke-width=\"0.000131486068359834\" opacity=\"0.6\" d=\"M 35.136945733224515,49.882693644544844 L 35.136945733224515,49.888780962524464 L 35.133068590418105,49.888780962524464 L 35.133068590418105,49.882693644544844 L 35.136945733224515,49.882693644544844 z\" /></g></svg>"
      ],
      "text/plain": [
       "<shapely.geometry.polygon.Polygon at 0x7f48fc19c160>"
      ]
     },
     "metadata": {},
     "output_type": "display_data"
    },
    {
     "data": {
      "image/svg+xml": [
       "<svg xmlns=\"http://www.w3.org/2000/svg\" xmlns:xlink=\"http://www.w3.org/1999/xlink\" width=\"100.0\" height=\"100.0\" viewBox=\"34.9531857508766 49.96563512991494 0.005311773016963173 0.008337705034051623\" preserveAspectRatio=\"xMinYMin meet\"><g transform=\"matrix(1,0,0,-1,0,99.93960796486394)\"><path fill-rule=\"evenodd\" fill=\"#66cc99\" stroke=\"#555555\" stroke-width=\"0.00016675410068103246\" opacity=\"0.6\" d=\"M 34.95818872000341,49.96594393380509 L 34.95818872000341,49.973664031058846 L 34.95349455476675,49.973664031058846 L 34.95349455476675,49.96594393380509 L 34.95818872000341,49.96594393380509 z\" /></g></svg>"
      ],
      "text/plain": [
       "<shapely.geometry.polygon.Polygon at 0x7f48fc19c160>"
      ]
     },
     "metadata": {},
     "output_type": "display_data"
    },
    {
     "data": {
      "image/svg+xml": [
       "<svg xmlns=\"http://www.w3.org/2000/svg\" xmlns:xlink=\"http://www.w3.org/1999/xlink\" width=\"100.0\" height=\"100.0\" viewBox=\"34.95874295831031 49.97096710702095 0.008198151616468863 0.006306063837214992\" preserveAspectRatio=\"xMinYMin meet\"><g transform=\"matrix(1,0,0,-1,0,99.94824027787911)\"><path fill-rule=\"evenodd\" fill=\"#66cc99\" stroke=\"#555555\" stroke-width=\"0.00016396303232937726\" opacity=\"0.6\" d=\"M 34.966637474681725,49.971270742266 L 34.966637474681725,49.97696953561311 L 34.959046593555364,49.97696953561311 L 34.959046593555364,49.971270742266 L 34.966637474681725,49.971270742266 z\" /></g></svg>"
      ],
      "text/plain": [
       "<shapely.geometry.polygon.Polygon at 0x7f48fc19c160>"
      ]
     },
     "metadata": {},
     "output_type": "display_data"
    },
    {
     "data": {
      "image/svg+xml": [
       "<svg xmlns=\"http://www.w3.org/2000/svg\" xmlns:xlink=\"http://www.w3.org/1999/xlink\" width=\"100.0\" height=\"100.0\" viewBox=\"35.299814988260685 50.04767200081188 0.0021093046655167313 0.0022046281067105156\" preserveAspectRatio=\"xMinYMin meet\"><g transform=\"matrix(1,0,0,-1,0,100.09754862973047)\"><path fill-rule=\"evenodd\" fill=\"#66cc99\" stroke=\"#555555\" stroke-width=\"4.409256213421031e-05\" opacity=\"0.6\" d=\"M 35.301842640033364,50.04775365370472 L 35.301842640033364,50.04979497602575 L 35.29989664115352,50.04979497602575 L 35.29989664115352,50.04775365370472 L 35.301842640033364,50.04775365370472 z\" /></g></svg>"
      ],
      "text/plain": [
       "<shapely.geometry.polygon.Polygon at 0x7f48fc19c160>"
      ]
     },
     "metadata": {},
     "output_type": "display_data"
    },
    {
     "data": {
      "image/svg+xml": [
       "<svg xmlns=\"http://www.w3.org/2000/svg\" xmlns:xlink=\"http://www.w3.org/1999/xlink\" width=\"100.0\" height=\"100.0\" viewBox=\"35.13555078352135 49.88308848365918 0.0020397242656500225 0.002067460185600112\" preserveAspectRatio=\"xMinYMin meet\"><g transform=\"matrix(1,0,0,-1,0,99.76824442750396)\"><path fill-rule=\"evenodd\" fill=\"#66cc99\" stroke=\"#555555\" stroke-width=\"4.1349203712002237e-05\" opacity=\"0.6\" d=\"M 35.137513935187535,49.88316505625865 L 35.137513935187535,49.88507937124531 L 35.13562735612082,49.88507937124531 L 35.13562735612082,49.88316505625865 L 35.137513935187535,49.88316505625865 z\" /></g></svg>"
      ],
      "text/plain": [
       "<shapely.geometry.polygon.Polygon at 0x7f48fc19c160>"
      ]
     },
     "metadata": {},
     "output_type": "display_data"
    },
    {
     "data": {
      "image/svg+xml": [
       "<svg xmlns=\"http://www.w3.org/2000/svg\" xmlns:xlink=\"http://www.w3.org/1999/xlink\" width=\"100.0\" height=\"100.0\" viewBox=\"35.05925907483872 49.99990490929553 0.007091160498013949 0.004325442507415289\" preserveAspectRatio=\"xMinYMin meet\"><g transform=\"matrix(1,0,0,-1,0,100.00413526109847)\"><path fill-rule=\"evenodd\" fill=\"#66cc99\" stroke=\"#555555\" stroke-width=\"0.00014182320996027897\" opacity=\"0.6\" d=\"M 35.06608759976273,50.000167544869534 L 35.06608759976273,50.00396771622894 L 35.059521710412724,50.00396771622894 L 35.059521710412724,50.000167544869534 L 35.06608759976273,50.000167544869534 z\" /></g></svg>"
      ],
      "text/plain": [
       "<shapely.geometry.polygon.Polygon at 0x7f48fc19c160>"
      ]
     },
     "metadata": {},
     "output_type": "display_data"
    },
    {
     "data": {
      "image/svg+xml": [
       "<svg xmlns=\"http://www.w3.org/2000/svg\" xmlns:xlink=\"http://www.w3.org/1999/xlink\" width=\"100.0\" height=\"100.0\" viewBox=\"34.957913390630814 49.89343058936824 0.0037220570941514097 0.002601089459631112\" preserveAspectRatio=\"xMinYMin meet\"><g transform=\"matrix(1,0,0,-1,0,99.78946226819612)\"><path fill-rule=\"evenodd\" fill=\"#66cc99\" stroke=\"#555555\" stroke-width=\"7.44411418830282e-05\" opacity=\"0.6\" d=\"M 34.961497593758516,49.89356844333469 L 34.961497593758516,49.895893824861425 L 34.958051244597264,49.895893824861425 L 34.958051244597264,49.89356844333469 L 34.961497593758516,49.89356844333469 z\" /></g></svg>"
      ],
      "text/plain": [
       "<shapely.geometry.polygon.Polygon at 0x7f48fc19c160>"
      ]
     },
     "metadata": {},
     "output_type": "display_data"
    },
    {
     "data": {
      "image/svg+xml": [
       "<svg xmlns=\"http://www.w3.org/2000/svg\" xmlns:xlink=\"http://www.w3.org/1999/xlink\" width=\"100.0\" height=\"100.0\" viewBox=\"35.04518608629884 50.00052551956635 0.006834466905310421 0.002976162139354699\" preserveAspectRatio=\"xMinYMin meet\"><g transform=\"matrix(1,0,0,-1,0,100.00402720127207)\"><path fill-rule=\"evenodd\" fill=\"#66cc99\" stroke=\"#555555\" stroke-width=\"0.00013668933810620843\" opacity=\"0.6\" d=\"M 35.05176742480025,50.00077864797025 L 35.05176742480025,50.00324855330181 L 35.04543921470274,50.00324855330181 L 35.04543921470274,50.00077864797025 L 35.05176742480025,50.00077864797025 z\" /></g></svg>"
      ],
      "text/plain": [
       "<shapely.geometry.polygon.Polygon at 0x7f48fc19c160>"
      ]
     },
     "metadata": {},
     "output_type": "display_data"
    },
    {
     "data": {
      "image/svg+xml": [
       "<svg xmlns=\"http://www.w3.org/2000/svg\" xmlns:xlink=\"http://www.w3.org/1999/xlink\" width=\"100.0\" height=\"100.0\" viewBox=\"35.07071738174043 50.07000473606211 0.0036632538428236217 0.006136883110279712\" preserveAspectRatio=\"xMinYMin meet\"><g transform=\"matrix(1,0,0,-1,0,100.14614635523449)\"><path fill-rule=\"evenodd\" fill=\"#66cc99\" stroke=\"#555555\" stroke-width=\"0.00012273766220559422\" opacity=\"0.6\" d=\"M 35.0741533436162,50.07023202802916 L 35.0741533436162,50.07591432720534 L 35.07094467370748,50.07591432720534 L 35.07094467370748,50.07023202802916 L 35.0741533436162,50.07023202802916 z\" /></g></svg>"
      ],
      "text/plain": [
       "<shapely.geometry.polygon.Polygon at 0x7f48fc19c160>"
      ]
     },
     "metadata": {},
     "output_type": "display_data"
    },
    {
     "data": {
      "image/svg+xml": [
       "<svg xmlns=\"http://www.w3.org/2000/svg\" xmlns:xlink=\"http://www.w3.org/1999/xlink\" width=\"100.0\" height=\"100.0\" viewBox=\"35.108187313530244 50.02417852746583 0.013187633324314163 0.009202809351918972\" preserveAspectRatio=\"xMinYMin meet\"><g transform=\"matrix(1,0,0,-1,0,100.05755986428358)\"><path fill-rule=\"evenodd\" fill=\"#66cc99\" stroke=\"#555555\" stroke-width=\"0.0002637526664862833\" opacity=\"0.6\" d=\"M 35.1208865159907,50.02466695832969 L 35.1208865159907,50.03289290595389 L 35.108675744394105,50.03289290595389 L 35.108675744394105,50.02466695832969 L 35.1208865159907,50.02466695832969 z\" /></g></svg>"
      ],
      "text/plain": [
       "<shapely.geometry.polygon.Polygon at 0x7f48fc19c160>"
      ]
     },
     "metadata": {},
     "output_type": "display_data"
    },
    {
     "data": {
      "image/svg+xml": [
       "<svg xmlns=\"http://www.w3.org/2000/svg\" xmlns:xlink=\"http://www.w3.org/1999/xlink\" width=\"100.0\" height=\"100.0\" viewBox=\"35.01168965214651 49.9821024396217 0.006593816662174845 0.0043568699840221825\" preserveAspectRatio=\"xMinYMin meet\"><g transform=\"matrix(1,0,0,-1,0,99.96856174922742)\"><path fill-rule=\"evenodd\" fill=\"#66cc99\" stroke=\"#555555\" stroke-width=\"0.0001318763332434969\" opacity=\"0.6\" d=\"M 35.01803925337675,49.98234665505363 L 35.01803925337675,49.98621509417379 L 35.01193386757844,49.98621509417379 L 35.01193386757844,49.98234665505363 L 35.01803925337675,49.98234665505363 z\" /></g></svg>"
      ],
      "text/plain": [
       "<shapely.geometry.polygon.Polygon at 0x7f48fc19c160>"
      ]
     },
     "metadata": {},
     "output_type": "display_data"
    },
    {
     "data": {
      "image/svg+xml": [
       "<svg xmlns=\"http://www.w3.org/2000/svg\" xmlns:xlink=\"http://www.w3.org/1999/xlink\" width=\"100.0\" height=\"100.0\" viewBox=\"34.93439134071806 50.116996196949735 0.010427085819081583 0.0023600988346004215\" preserveAspectRatio=\"xMinYMin meet\"><g transform=\"matrix(1,0,0,-1,0,100.23635249273407)\"><path fill-rule=\"evenodd\" fill=\"#66cc99\" stroke=\"#555555\" stroke-width=\"0.00020854171638163166\" opacity=\"0.6\" d=\"M 34.94443223817347,50.117382385313405 L 34.94443223817347,50.118970107420665 L 34.93477752908173,50.118970107420665 L 34.93477752908173,50.117382385313405 L 34.94443223817347,50.117382385313405 z\" /></g></svg>"
      ],
      "text/plain": [
       "<shapely.geometry.polygon.Polygon at 0x7f48fc19c160>"
      ]
     },
     "metadata": {},
     "output_type": "display_data"
    },
    {
     "data": {
      "image/svg+xml": [
       "<svg xmlns=\"http://www.w3.org/2000/svg\" xmlns:xlink=\"http://www.w3.org/1999/xlink\" width=\"100.0\" height=\"100.0\" viewBox=\"34.94620929962786 50.114862141104595 0.002691344088674441 0.0036047121279594307\" preserveAspectRatio=\"xMinYMin meet\"><g transform=\"matrix(1,0,0,-1,0,100.23332899433714)\"><path fill-rule=\"evenodd\" fill=\"#66cc99\" stroke=\"#555555\" stroke-width=\"7.209424255918861e-05\" opacity=\"0.6\" d=\"M 34.948767135859946,50.114995648961184 L 34.948767135859946,50.118333345375966 L 34.94634280748445,50.118333345375966 L 34.94634280748445,50.114995648961184 L 34.948767135859946,50.114995648961184 z\" /></g></svg>"
      ],
      "text/plain": [
       "<shapely.geometry.polygon.Polygon at 0x7f48fc19c160>"
      ]
     },
     "metadata": {},
     "output_type": "display_data"
    },
    {
     "data": {
      "image/svg+xml": [
       "<svg xmlns=\"http://www.w3.org/2000/svg\" xmlns:xlink=\"http://www.w3.org/1999/xlink\" width=\"100.0\" height=\"100.0\" viewBox=\"35.13829928725601 50.05679619838763 0.004206566250367416 0.002451711792687661\" preserveAspectRatio=\"xMinYMin meet\"><g transform=\"matrix(1,0,0,-1,0,100.11604410856795)\"><path fill-rule=\"evenodd\" fill=\"#66cc99\" stroke=\"#555555\" stroke-width=\"8.413132500734833e-05\" opacity=\"0.6\" d=\"M 35.14235005475636,50.056951997137645 L 35.14235005475636,50.0590921114303 L 35.138455086006026,50.0590921114303 L 35.138455086006026,50.056951997137645 L 35.14235005475636,50.056951997137645 z\" /></g></svg>"
      ],
      "text/plain": [
       "<shapely.geometry.polygon.Polygon at 0x7f48fc19c160>"
      ]
     },
     "metadata": {},
     "output_type": "display_data"
    },
    {
     "data": {
      "image/svg+xml": [
       "<svg xmlns=\"http://www.w3.org/2000/svg\" xmlns:xlink=\"http://www.w3.org/1999/xlink\" width=\"100.0\" height=\"100.0\" viewBox=\"35.23779283248907 50.02695909011019 0.003898533939121762 0.0022126500338828237\" preserveAspectRatio=\"xMinYMin meet\"><g transform=\"matrix(1,0,0,-1,0,100.05613083025426)\"><path fill-rule=\"evenodd\" fill=\"#66cc99\" stroke=\"#555555\" stroke-width=\"7.797067878243525e-05\" opacity=\"0.6\" d=\"M 35.2415469762823,50.02710348025608 L 35.2415469762823,50.02902734999818 L 35.23793722263496,50.02902734999818 L 35.23793722263496,50.02710348025608 L 35.2415469762823,50.02710348025608 z\" /></g></svg>"
      ],
      "text/plain": [
       "<shapely.geometry.polygon.Polygon at 0x7f48fc19c160>"
      ]
     },
     "metadata": {},
     "output_type": "display_data"
    },
    {
     "data": {
      "image/svg+xml": [
       "<svg xmlns=\"http://www.w3.org/2000/svg\" xmlns:xlink=\"http://www.w3.org/1999/xlink\" width=\"100.0\" height=\"100.0\" viewBox=\"34.93552991650261 50.105927627495646 0.008133126938872692 0.002525641051754235\" preserveAspectRatio=\"xMinYMin meet\"><g transform=\"matrix(1,0,0,-1,0,100.21438089604305)\"><path fill-rule=\"evenodd\" fill=\"#66cc99\" stroke=\"#555555\" stroke-width=\"0.00016266253877745385\" opacity=\"0.6\" d=\"M 34.94336181651782,50.10622885441931 L 34.94336181651782,50.10815204162374 L 34.93583114342627,50.10815204162374 L 34.93583114342627,50.10622885441931 L 34.94336181651782,50.10622885441931 z\" /></g></svg>"
      ],
      "text/plain": [
       "<shapely.geometry.polygon.Polygon at 0x7f48fc19c160>"
      ]
     },
     "metadata": {},
     "output_type": "display_data"
    },
    {
     "data": {
      "image/svg+xml": [
       "<svg xmlns=\"http://www.w3.org/2000/svg\" xmlns:xlink=\"http://www.w3.org/1999/xlink\" width=\"100.0\" height=\"100.0\" viewBox=\"35.37813898474083 50.02379360821398 0.01129130940887535 0.005371378891325662\" preserveAspectRatio=\"xMinYMin meet\"><g transform=\"matrix(1,0,0,-1,0,100.05295859531928)\"><path fill-rule=\"evenodd\" fill=\"#66cc99\" stroke=\"#555555\" stroke-width=\"0.00022582618817750699\" opacity=\"0.6\" d=\"M 35.38901209750493,50.02421180485875 L 35.38901209750493,50.02874679046053 L 35.3785571813856,50.02874679046053 L 35.3785571813856,50.02421180485875 L 35.38901209750493,50.02421180485875 z\" /></g></svg>"
      ],
      "text/plain": [
       "<shapely.geometry.polygon.Polygon at 0x7f48fc19c160>"
      ]
     },
     "metadata": {},
     "output_type": "display_data"
    },
    {
     "data": {
      "image/svg+xml": [
       "<svg xmlns=\"http://www.w3.org/2000/svg\" xmlns:xlink=\"http://www.w3.org/1999/xlink\" width=\"100.0\" height=\"100.0\" viewBox=\"34.95947157194695 50.109916889334784 0.0051114111646271 0.0029507613580932457\" preserveAspectRatio=\"xMinYMin meet\"><g transform=\"matrix(1,0,0,-1,0,100.22278454002766)\"><path fill-rule=\"evenodd\" fill=\"#66cc99\" stroke=\"#555555\" stroke-width=\"0.00010222822329254199\" opacity=\"0.6\" d=\"M 34.96439367158696,50.1101062008594 L 34.96439367158696,50.11267833916826 L 34.959660883471564,50.11267833916826 L 34.959660883471564,50.1101062008594 L 34.96439367158696,50.1101062008594 z\" /></g></svg>"
      ],
      "text/plain": [
       "<shapely.geometry.polygon.Polygon at 0x7f48fbe8add8>"
      ]
     },
     "metadata": {},
     "output_type": "display_data"
    },
    {
     "data": {
      "image/svg+xml": [
       "<svg xmlns=\"http://www.w3.org/2000/svg\" xmlns:xlink=\"http://www.w3.org/1999/xlink\" width=\"100.0\" height=\"100.0\" viewBox=\"34.98390594982087 50.109180728676456 0.006930727002874448 0.005874785320905573\" preserveAspectRatio=\"xMinYMin meet\"><g transform=\"matrix(1,0,0,-1,0,100.22423624267381)\"><path fill-rule=\"evenodd\" fill=\"#66cc99\" stroke=\"#555555\" stroke-width=\"0.00013861454005748898\" opacity=\"0.6\" d=\"M 34.99057998323105,50.10943742226915 L 34.99057998323105,50.114798820404665 L 34.98416264341357,50.114798820404665 L 34.98416264341357,50.10943742226915 L 34.99057998323105,50.10943742226915 z\" /></g></svg>"
      ],
      "text/plain": [
       "<shapely.geometry.polygon.Polygon at 0x7f48fbe8add8>"
      ]
     },
     "metadata": {},
     "output_type": "display_data"
    },
    {
     "data": {
      "image/svg+xml": [
       "<svg xmlns=\"http://www.w3.org/2000/svg\" xmlns:xlink=\"http://www.w3.org/1999/xlink\" width=\"100.0\" height=\"100.0\" viewBox=\"35.032754929710634 50.05617009499853 0.003509697906210363 0.0044248533304696025\" preserveAspectRatio=\"xMinYMin meet\"><g transform=\"matrix(1,0,0,-1,0,100.11676504332752)\"><path fill-rule=\"evenodd\" fill=\"#66cc99\" stroke=\"#555555\" stroke-width=\"8.849706660939205e-05\" opacity=\"0.6\" d=\"M 35.03610074416016,50.056333978455214 L 35.03610074416016,50.06043106487231 L 35.03291881316732,50.06043106487231 L 35.03291881316732,50.056333978455214 L 35.03610074416016,50.056333978455214 z\" /></g></svg>"
      ],
      "text/plain": [
       "<shapely.geometry.polygon.Polygon at 0x7f48fbe8ada0>"
      ]
     },
     "metadata": {},
     "output_type": "display_data"
    },
    {
     "data": {
      "image/svg+xml": [
       "<svg xmlns=\"http://www.w3.org/2000/svg\" xmlns:xlink=\"http://www.w3.org/1999/xlink\" width=\"100.0\" height=\"100.0\" viewBox=\"35.071267409841 50.06470065942339 0.010935147048982685 0.004883464631816992\" preserveAspectRatio=\"xMinYMin meet\"><g transform=\"matrix(1,0,0,-1,0,100.13428478347859)\"><path fill-rule=\"evenodd\" fill=\"#66cc99\" stroke=\"#555555\" stroke-width=\"0.00021870294097965371\" opacity=\"0.6\" d=\"M 35.08179755144372,50.06510566486965 L 35.08179755144372,50.06917911860894 L 35.07167241528726,50.06917911860894 L 35.07167241528726,50.06510566486965 L 35.08179755144372,50.06510566486965 z\" /></g></svg>"
      ],
      "text/plain": [
       "<shapely.geometry.polygon.Polygon at 0x7f48fc19c160>"
      ]
     },
     "metadata": {},
     "output_type": "display_data"
    },
    {
     "data": {
      "image/svg+xml": [
       "<svg xmlns=\"http://www.w3.org/2000/svg\" xmlns:xlink=\"http://www.w3.org/1999/xlink\" width=\"100.0\" height=\"100.0\" viewBox=\"35.1466056684223 50.03113036215146 0.00571387593016226 0.005904853083080752\" preserveAspectRatio=\"xMinYMin meet\"><g transform=\"matrix(1,0,0,-1,0,100.068165577386)\"><path fill-rule=\"evenodd\" fill=\"#66cc99\" stroke=\"#555555\" stroke-width=\"0.00011809706166161504\" opacity=\"0.6\" d=\"M 35.15210084609013,50.031349060413795 L 35.15210084609013,50.0368165169722 L 35.14682436668464,50.0368165169722 L 35.14682436668464,50.031349060413795 L 35.15210084609013,50.031349060413795 z\" /></g></svg>"
      ],
      "text/plain": [
       "<shapely.geometry.polygon.Polygon at 0x7f48fc19c160>"
      ]
     },
     "metadata": {},
     "output_type": "display_data"
    },
    {
     "data": {
      "image/svg+xml": [
       "<svg xmlns=\"http://www.w3.org/2000/svg\" xmlns:xlink=\"http://www.w3.org/1999/xlink\" width=\"100.0\" height=\"100.0\" viewBox=\"35.30172058915647 50.03089277935645 0.002348746373193933 0.002315253779165971\" preserveAspectRatio=\"xMinYMin meet\"><g transform=\"matrix(1,0,0,-1,0,100.06410081249206)\"><path fill-rule=\"evenodd\" fill=\"#66cc99\" stroke=\"#555555\" stroke-width=\"4.6974927463878654e-05\" opacity=\"0.6\" d=\"M 35.30398234492325,50.03097976996286 L 35.30398234492325,50.0331210425292 L 35.30180757976288,50.0331210425292 L 35.30180757976288,50.03097976996286 L 35.30398234492325,50.03097976996286 z\" /></g></svg>"
      ],
      "text/plain": [
       "<shapely.geometry.polygon.Polygon at 0x7f48fc19c160>"
      ]
     },
     "metadata": {},
     "output_type": "display_data"
    },
    {
     "data": {
      "image/svg+xml": [
       "<svg xmlns=\"http://www.w3.org/2000/svg\" xmlns:xlink=\"http://www.w3.org/1999/xlink\" width=\"100.0\" height=\"100.0\" viewBox=\"35.02756915826193 50.04353457289311 0.0040814281239249794 0.0038739339438080833\" preserveAspectRatio=\"xMinYMin meet\"><g transform=\"matrix(1,0,0,-1,0,100.09094307973002)\"><path fill-rule=\"evenodd\" fill=\"#66cc99\" stroke=\"#555555\" stroke-width=\"8.16285624784996e-05\" opacity=\"0.6\" d=\"M 35.031499422381266,50.0436857368977 L 35.031499422381266,50.047257342832324 L 35.027720322266525,50.047257342832324 L 35.027720322266525,50.0436857368977 L 35.031499422381266,50.0436857368977 z\" /></g></svg>"
      ],
      "text/plain": [
       "<shapely.geometry.polygon.Polygon at 0x7f48fc19c160>"
      ]
     },
     "metadata": {},
     "output_type": "display_data"
    },
    {
     "data": {
      "image/svg+xml": [
       "<svg xmlns=\"http://www.w3.org/2000/svg\" xmlns:xlink=\"http://www.w3.org/1999/xlink\" width=\"100.0\" height=\"100.0\" viewBox=\"35.05745185764093 50.02607629318404 0.017143923322407773 0.00806615891819007\" preserveAspectRatio=\"xMinYMin meet\"><g transform=\"matrix(1,0,0,-1,0,100.06021874528628)\"><path fill-rule=\"evenodd\" fill=\"#66cc99\" stroke=\"#555555\" stroke-width=\"0.00034287846644815546\" opacity=\"0.6\" d=\"M 35.073960820840284,50.02671125330709 L 35.073960820840284,50.03350749197918 L 35.05808681776398,50.03350749197918 L 35.05808681776398,50.02671125330709 L 35.073960820840284,50.02671125330709 z\" /></g></svg>"
      ],
      "text/plain": [
       "<shapely.geometry.polygon.Polygon at 0x7f48fc19c160>"
      ]
     },
     "metadata": {},
     "output_type": "display_data"
    },
    {
     "data": {
      "image/svg+xml": [
       "<svg xmlns=\"http://www.w3.org/2000/svg\" xmlns:xlink=\"http://www.w3.org/1999/xlink\" width=\"100.0\" height=\"100.0\" viewBox=\"35.22028308789448 50.16016971504381 0.003704520902736874 0.004768786473761111\" preserveAspectRatio=\"xMinYMin meet\"><g transform=\"matrix(1,0,0,-1,0,100.32510821656138)\"><path fill-rule=\"evenodd\" fill=\"#66cc99\" stroke=\"#555555\" stroke-width=\"9.537572947522221e-05\" opacity=\"0.6\" d=\"M 35.223810987075964,50.16034633676506 L 35.223810987075964,50.164761879796316 L 35.22045970961573,50.164761879796316 L 35.22045970961573,50.16034633676506 L 35.223810987075964,50.16034633676506 z\" /></g></svg>"
      ],
      "text/plain": [
       "<shapely.geometry.polygon.Polygon at 0x7f48fbe8a470>"
      ]
     },
     "metadata": {},
     "output_type": "display_data"
    },
    {
     "data": {
      "image/svg+xml": [
       "<svg xmlns=\"http://www.w3.org/2000/svg\" xmlns:xlink=\"http://www.w3.org/1999/xlink\" width=\"100.0\" height=\"100.0\" viewBox=\"35.11775184959183 50.18591876746067 0.017506503022069353 0.008585816238529276\" preserveAspectRatio=\"xMinYMin meet\"><g transform=\"matrix(1,0,0,-1,0,100.38042335115986)\"><path fill-rule=\"evenodd\" fill=\"#66cc99\" stroke=\"#555555\" stroke-width=\"0.00035013006044138707\" opacity=\"0.6\" d=\"M 35.13460996361309,50.186567156461486 L 35.13460996361309,50.193856194698384 L 35.11840023859265,50.193856194698384 L 35.11840023859265,50.186567156461486 L 35.13460996361309,50.186567156461486 z\" /></g></svg>"
      ],
      "text/plain": [
       "<shapely.geometry.polygon.Polygon at 0x7f48fbe8a470>"
      ]
     },
     "metadata": {},
     "output_type": "display_data"
    },
    {
     "data": {
      "image/svg+xml": [
       "<svg xmlns=\"http://www.w3.org/2000/svg\" xmlns:xlink=\"http://www.w3.org/1999/xlink\" width=\"100.0\" height=\"100.0\" viewBox=\"35.03853668809487 50.12713822606662 0.011602550390001909 0.0056132034463374225\" preserveAspectRatio=\"xMinYMin meet\"><g transform=\"matrix(1,0,0,-1,0,100.25988965557957)\"><path fill-rule=\"evenodd\" fill=\"#66cc99\" stroke=\"#555555\" stroke-width=\"0.00023205100780003817\" opacity=\"0.6\" d=\"M 35.049709514396355,50.12756795015514 L 35.049709514396355,50.13232170542444 L 35.03896641218339,50.13232170542444 L 35.03896641218339,50.12756795015514 L 35.049709514396355,50.12756795015514 z\" /></g></svg>"
      ],
      "text/plain": [
       "<shapely.geometry.polygon.Polygon at 0x7f48fbe8a470>"
      ]
     },
     "metadata": {},
     "output_type": "display_data"
    },
    {
     "data": {
      "image/svg+xml": [
       "<svg xmlns=\"http://www.w3.org/2000/svg\" xmlns:xlink=\"http://www.w3.org/1999/xlink\" width=\"100.0\" height=\"100.0\" viewBox=\"35.40224572176522 50.02555586332154 0.003908159948842638 0.0018927702930966461\" preserveAspectRatio=\"xMinYMin meet\"><g transform=\"matrix(1,0,0,-1,0,100.05300449693618)\"><path fill-rule=\"evenodd\" fill=\"#66cc99\" stroke=\"#555555\" stroke-width=\"7.816319897685275e-05\" opacity=\"0.6\" d=\"M 35.40600913504929,50.025700609986316 L 35.40600913504929,50.027303886949866 L 35.40239046842999,50.027303886949866 L 35.40239046842999,50.025700609986316 L 35.40600913504929,50.025700609986316 z\" /></g></svg>"
      ],
      "text/plain": [
       "<shapely.geometry.polygon.Polygon at 0x7f48fbe8a470>"
      ]
     },
     "metadata": {},
     "output_type": "display_data"
    },
    {
     "data": {
      "image/svg+xml": [
       "<svg xmlns=\"http://www.w3.org/2000/svg\" xmlns:xlink=\"http://www.w3.org/1999/xlink\" width=\"100.0\" height=\"100.0\" viewBox=\"35.22028308789448 50.16016971504381 0.003704520902736874 0.004768786473761111\" preserveAspectRatio=\"xMinYMin meet\"><g transform=\"matrix(1,0,0,-1,0,100.32510821656138)\"><path fill-rule=\"evenodd\" fill=\"#66cc99\" stroke=\"#555555\" stroke-width=\"9.537572947522221e-05\" opacity=\"0.6\" d=\"M 35.223810987075964,50.16034633676506 L 35.223810987075964,50.164761879796316 L 35.22045970961573,50.164761879796316 L 35.22045970961573,50.16034633676506 L 35.223810987075964,50.16034633676506 z\" /></g></svg>"
      ],
      "text/plain": [
       "<shapely.geometry.polygon.Polygon at 0x7f48fbe8ada0>"
      ]
     },
     "metadata": {},
     "output_type": "display_data"
    },
    {
     "data": {
      "image/svg+xml": [
       "<svg xmlns=\"http://www.w3.org/2000/svg\" xmlns:xlink=\"http://www.w3.org/1999/xlink\" width=\"100.0\" height=\"100.0\" viewBox=\"35.13339560495881 50.03727461376162 0.003006410463321174 0.0031654284441771097\" preserveAspectRatio=\"xMinYMin meet\"><g transform=\"matrix(1,0,0,-1,0,100.07771465596741)\"><path fill-rule=\"evenodd\" fill=\"#66cc99\" stroke=\"#555555\" stroke-width=\"6.33085688835422e-05\" opacity=\"0.6\" d=\"M 35.1362847773316,50.03739185185214 L 35.1362847773316,50.04032280411527 L 35.13351284304933,50.04032280411527 L 35.13351284304933,50.03739185185214 L 35.1362847773316,50.03739185185214 z\" /></g></svg>"
      ],
      "text/plain": [
       "<shapely.geometry.polygon.Polygon at 0x7f48fbe8acc0>"
      ]
     },
     "metadata": {},
     "output_type": "display_data"
    },
    {
     "data": {
      "image/svg+xml": [
       "<svg xmlns=\"http://www.w3.org/2000/svg\" xmlns:xlink=\"http://www.w3.org/1999/xlink\" width=\"100.0\" height=\"100.0\" viewBox=\"35.38733004143498 50.02436709260167 0.009799277901308301 0.0032739640387049462\" preserveAspectRatio=\"xMinYMin meet\"><g transform=\"matrix(1,0,0,-1,0,100.05200814924206)\"><path fill-rule=\"evenodd\" fill=\"#66cc99\" stroke=\"#555555\" stroke-width=\"0.00019598555802616602\" opacity=\"0.6\" d=\"M 35.39676638311772,50.02473002882024 L 35.39676638311772,50.02727812042181 L 35.38769297765354,50.02727812042181 L 35.38769297765354,50.02473002882024 L 35.39676638311772,50.02473002882024 z\" /></g></svg>"
      ],
      "text/plain": [
       "<shapely.geometry.polygon.Polygon at 0x7f48fbe8acc0>"
      ]
     },
     "metadata": {},
     "output_type": "display_data"
    },
    {
     "data": {
      "image/svg+xml": [
       "<svg xmlns=\"http://www.w3.org/2000/svg\" xmlns:xlink=\"http://www.w3.org/1999/xlink\" width=\"100.0\" height=\"100.0\" viewBox=\"35.18927427099465 50.14768985147323 0.0047616661445673 0.0024697348600639657\" preserveAspectRatio=\"xMinYMin meet\"><g transform=\"matrix(1,0,0,-1,0,100.29784943780652)\"><path fill-rule=\"evenodd\" fill=\"#66cc99\" stroke=\"#555555\" stroke-width=\"9.5233322891346e-05\" opacity=\"0.6\" d=\"M 35.193859579133864,50.147866209478586 L 35.193859579133864,50.14998322832794 L 35.18945062900001,50.14998322832794 L 35.18945062900001,50.147866209478586 L 35.193859579133864,50.147866209478586 z\" /></g></svg>"
      ],
      "text/plain": [
       "<shapely.geometry.polygon.Polygon at 0x7f48fc19c160>"
      ]
     },
     "metadata": {},
     "output_type": "display_data"
    },
    {
     "data": {
      "image/svg+xml": [
       "<svg xmlns=\"http://www.w3.org/2000/svg\" xmlns:xlink=\"http://www.w3.org/1999/xlink\" width=\"100.0\" height=\"100.0\" viewBox=\"35.08892044212234 50.01664375652597 0.02041676662927472 0.013491898542909553\" preserveAspectRatio=\"xMinYMin meet\"><g transform=\"matrix(1,0,0,-1,0,100.04677941159485)\"><path fill-rule=\"evenodd\" fill=\"#66cc99\" stroke=\"#555555\" stroke-width=\"0.00040833533258549437\" opacity=\"0.6\" d=\"M 35.108581032209784,50.0173999330678 L 35.108581032209784,50.029379478527055 L 35.089676618664164,50.029379478527055 L 35.089676618664164,50.0173999330678 L 35.108581032209784,50.0173999330678 z\" /></g></svg>"
      ],
      "text/plain": [
       "<shapely.geometry.polygon.Polygon at 0x7f48fc19c160>"
      ]
     },
     "metadata": {},
     "output_type": "display_data"
    },
    {
     "data": {
      "image/svg+xml": [
       "<svg xmlns=\"http://www.w3.org/2000/svg\" xmlns:xlink=\"http://www.w3.org/1999/xlink\" width=\"100.0\" height=\"100.0\" viewBox=\"35.18110695467574 50.060852804833985 0.0040621761044690174 0.0023607327684231905\" preserveAspectRatio=\"xMinYMin meet\"><g transform=\"matrix(1,0,0,-1,0,100.1240663424364)\"><path fill-rule=\"evenodd\" fill=\"#66cc99\" stroke=\"#555555\" stroke-width=\"8.124352208938035e-05\" opacity=\"0.6\" d=\"M 35.185018679813375,50.06100325580082 L 35.185018679813375,50.06306308663557 L 35.181257405642576,50.06306308663557 L 35.181257405642576,50.06100325580082 L 35.185018679813375,50.06100325580082 z\" /></g></svg>"
      ],
      "text/plain": [
       "<shapely.geometry.polygon.Polygon at 0x7f48fc19c160>"
      ]
     },
     "metadata": {},
     "output_type": "display_data"
    },
    {
     "data": {
      "image/svg+xml": [
       "<svg xmlns=\"http://www.w3.org/2000/svg\" xmlns:xlink=\"http://www.w3.org/1999/xlink\" width=\"100.0\" height=\"100.0\" viewBox=\"35.231278073887594 50.09773394317684 0.0035808756181552326 0.002380669901256738\" preserveAspectRatio=\"xMinYMin meet\"><g transform=\"matrix(1,0,0,-1,0,100.19784855625494)\"><path fill-rule=\"evenodd\" fill=\"#66cc99\" stroke=\"#555555\" stroke-width=\"7.161751236310465e-05\" opacity=\"0.6\" d=\"M 35.23472632448286,50.097866568199734 L 35.23472632448286,50.099981988055205 L 35.23141069891049,50.099981988055205 L 35.23141069891049,50.097866568199734 L 35.23472632448286,50.097866568199734 z\" /></g></svg>"
      ],
      "text/plain": [
       "<shapely.geometry.polygon.Polygon at 0x7f48fc19c160>"
      ]
     },
     "metadata": {},
     "output_type": "display_data"
    },
    {
     "data": {
      "image/svg+xml": [
       "<svg xmlns=\"http://www.w3.org/2000/svg\" xmlns:xlink=\"http://www.w3.org/1999/xlink\" width=\"100.0\" height=\"100.0\" viewBox=\"35.26144171014303 50.10299888776282 0.005448321505028275 0.0026673947541837606\" preserveAspectRatio=\"xMinYMin meet\"><g transform=\"matrix(1,0,0,-1,0,100.20866517027983)\"><path fill-rule=\"evenodd\" fill=\"#66cc99\" stroke=\"#555555\" stroke-width=\"0.0001089664301005655\" opacity=\"0.6\" d=\"M 35.26668824196269,50.10320067744819 L 35.26668824196269,50.105464492831636 L 35.2616434998284,50.105464492831636 L 35.2616434998284,50.10320067744819 L 35.26668824196269,50.10320067744819 z\" /></g></svg>"
      ],
      "text/plain": [
       "<shapely.geometry.polygon.Polygon at 0x7f48fc19c160>"
      ]
     },
     "metadata": {},
     "output_type": "display_data"
    },
    {
     "data": {
      "image/svg+xml": [
       "<svg xmlns=\"http://www.w3.org/2000/svg\" xmlns:xlink=\"http://www.w3.org/1999/xlink\" width=\"100.0\" height=\"100.0\" viewBox=\"35.249976126007404 50.115105331514876 0.008329707083085225 0.00541007652236658\" preserveAspectRatio=\"xMinYMin meet\"><g transform=\"matrix(1,0,0,-1,0,100.23562073955212)\"><path fill-rule=\"evenodd\" fill=\"#66cc99\" stroke=\"#555555\" stroke-width=\"0.0001665941416617045\" opacity=\"0.6\" d=\"M 35.257997325420746,50.11541383918462 L 35.257997325420746,50.1202069003675 L 35.25028463367715,50.1202069003675 L 35.25028463367715,50.11541383918462 L 35.257997325420746,50.11541383918462 z\" /></g></svg>"
      ],
      "text/plain": [
       "<shapely.geometry.polygon.Polygon at 0x7f48fc19c160>"
      ]
     },
     "metadata": {},
     "output_type": "display_data"
    },
    {
     "data": {
      "image/svg+xml": [
       "<svg xmlns=\"http://www.w3.org/2000/svg\" xmlns:xlink=\"http://www.w3.org/1999/xlink\" width=\"100.0\" height=\"100.0\" viewBox=\"35.198521439251586 50.22976936751573 0.016377051214199412 0.005774215661801918\" preserveAspectRatio=\"xMinYMin meet\"><g transform=\"matrix(1,0,0,-1,0,100.46531295069326)\"><path fill-rule=\"evenodd\" fill=\"#66cc99\" stroke=\"#555555\" stroke-width=\"0.0003275410242839882\" opacity=\"0.6\" d=\"M 35.214291933013406,50.23037592496811 L 35.214291933013406,50.23493702572515 L 35.199127996703965,50.23493702572515 L 35.199127996703965,50.23037592496811 L 35.214291933013406,50.23037592496811 z\" /></g></svg>"
      ],
      "text/plain": [
       "<shapely.geometry.polygon.Polygon at 0x7f48fc19c160>"
      ]
     },
     "metadata": {},
     "output_type": "display_data"
    },
    {
     "data": {
      "image/svg+xml": [
       "<svg xmlns=\"http://www.w3.org/2000/svg\" xmlns:xlink=\"http://www.w3.org/1999/xlink\" width=\"100.0\" height=\"100.0\" viewBox=\"35.04714605554263 50.0930082843011 0.008365002452080716 0.005110923998309147\" preserveAspectRatio=\"xMinYMin meet\"><g transform=\"matrix(1,0,0,-1,0,100.19112749260051)\"><path fill-rule=\"evenodd\" fill=\"#66cc99\" stroke=\"#555555\" stroke-width=\"0.00016730004904161433\" opacity=\"0.6\" d=\"M 35.05520124308908,50.09331809920673 L 35.05520124308908,50.097809393393774 L 35.04745587044827,50.097809393393774 L 35.04745587044827,50.09331809920673 L 35.05520124308908,50.09331809920673 z\" /></g></svg>"
      ],
      "text/plain": [
       "<shapely.geometry.polygon.Polygon at 0x7f48fc19c160>"
      ]
     },
     "metadata": {},
     "output_type": "display_data"
    },
    {
     "data": {
      "image/svg+xml": [
       "<svg xmlns=\"http://www.w3.org/2000/svg\" xmlns:xlink=\"http://www.w3.org/1999/xlink\" width=\"100.0\" height=\"100.0\" viewBox=\"35.02779207169091 50.08953590447982 0.004620484668578229 0.004179185045202871\" preserveAspectRatio=\"xMinYMin meet\"><g transform=\"matrix(1,0,0,-1,0,100.18325099400484)\"><path fill-rule=\"evenodd\" fill=\"#66cc99\" stroke=\"#555555\" stroke-width=\"9.240969337156457e-05\" opacity=\"0.6\" d=\"M 35.03224142729769,50.089707033541615 L 35.03224142729769,50.09354396046322 L 35.02796320075271,50.09354396046322 L 35.02796320075271,50.089707033541615 L 35.03224142729769,50.089707033541615 z\" /></g></svg>"
      ],
      "text/plain": [
       "<shapely.geometry.polygon.Polygon at 0x7f48fc19c160>"
      ]
     },
     "metadata": {},
     "output_type": "display_data"
    },
    {
     "data": {
      "image/svg+xml": [
       "<svg xmlns=\"http://www.w3.org/2000/svg\" xmlns:xlink=\"http://www.w3.org/1999/xlink\" width=\"100.0\" height=\"100.0\" viewBox=\"35.11893647956183 50.0864125461584 0.0055734596314636065 0.002849003981694409\" preserveAspectRatio=\"xMinYMin meet\"><g transform=\"matrix(1,0,0,-1,0,100.1756740962985)\"><path fill-rule=\"evenodd\" fill=\"#66cc99\" stroke=\"#555555\" stroke-width=\"0.00011146919262927212\" opacity=\"0.6\" d=\"M 35.1243035147625,50.08661897058919 L 35.1243035147625,50.0890551257093 L 35.119142903992625,50.0890551257093 L 35.119142903992625,50.08661897058919 L 35.1243035147625,50.08661897058919 z\" /></g></svg>"
      ],
      "text/plain": [
       "<shapely.geometry.polygon.Polygon at 0x7f48fc19c160>"
      ]
     },
     "metadata": {},
     "output_type": "display_data"
    },
    {
     "data": {
      "image/svg+xml": [
       "<svg xmlns=\"http://www.w3.org/2000/svg\" xmlns:xlink=\"http://www.w3.org/1999/xlink\" width=\"100.0\" height=\"100.0\" viewBox=\"35.13886704357039 50.05462872891216 0.00656493863328933 0.0030900070331298934\" preserveAspectRatio=\"xMinYMin meet\"><g transform=\"matrix(1,0,0,-1,0,100.11234746485744)\"><path fill-rule=\"evenodd\" fill=\"#66cc99\" stroke=\"#555555\" stroke-width=\"0.0001312987726657866\" opacity=\"0.6\" d=\"M 35.14518883632837,50.054871874787466 L 35.14518883632837,50.05747559006998 L 35.1391101894457,50.05747559006998 L 35.1391101894457,50.054871874787466 L 35.14518883632837,50.054871874787466 z\" /></g></svg>"
      ],
      "text/plain": [
       "<shapely.geometry.polygon.Polygon at 0x7f48fc19c160>"
      ]
     },
     "metadata": {},
     "output_type": "display_data"
    }
   ],
   "source": []
  },
  {
   "cell_type": "code",
   "execution_count": 49,
   "metadata": {},
   "outputs": [],
   "source": [
    "bbox= box(*polygon.bounds)"
   ]
  },
  {
   "cell_type": "code",
   "execution_count": 60,
   "metadata": {},
   "outputs": [
    {
     "data": {
      "text/plain": [
       "[(35.14518883632837, 50.054871874787466),\n",
       " (35.14518883632837, 50.05747559006998),\n",
       " (35.1391101894457, 50.05747559006998),\n",
       " (35.1391101894457, 50.054871874787466),\n",
       " (35.14518883632837, 50.054871874787466)]"
      ]
     },
     "execution_count": 60,
     "metadata": {},
     "output_type": "execute_result"
    }
   ],
   "source": [
    "list(bbox.exterior.coords)"
   ]
  },
  {
   "cell_type": "code",
   "execution_count": 38,
   "metadata": {},
   "outputs": [
    {
     "data": {
      "text/plain": [
       "base_dir       /datasets/rpartsey/satellite/planet/SNP_Planet...\n",
       "tag                                                summer-autumn\n",
       "image                     20171010_075826_0e14_3B_AnalyticMS.tif\n",
       "udm_mask           20171010_075826_0e14_3B_AnalyticMS_DN_udm.tif\n",
       "shape_file                              20171010_075826_0e14.shp\n",
       "xml              20171010_075826_0e14_3B_AnalyticMS_metadata.xml\n",
       "json                          20171010_075826_0e14_metadata.json\n",
       "base_dir_id                                                    2\n",
       "Name: 20171010_075826_0e14, dtype: object"
      ]
     },
     "execution_count": 38,
     "metadata": {},
     "output_type": "execute_result"
    }
   ],
   "source": [
    "row"
   ]
  },
  {
   "cell_type": "code",
   "execution_count": 41,
   "metadata": {},
   "outputs": [],
   "source": [
    "tif_path = os.path.join(row.base_dir, row.name, row.image)\n",
    "with rasterio.open(tif_path) as src:\n",
    "    pass\n"
   ]
  },
  {
   "cell_type": "code",
   "execution_count": 61,
   "metadata": {},
   "outputs": [
    {
     "data": {
      "text/plain": [
       "BoundingBox(left=642480.0, bottom=5538795.0, right=669753.0, top=5552616.0)"
      ]
     },
     "execution_count": 61,
     "metadata": {},
     "output_type": "execute_result"
    }
   ],
   "source": [
    "src.bounds"
   ]
  },
  {
   "cell_type": "markdown",
   "metadata": {},
   "source": [
    "## Generate masks"
   ]
  },
  {
   "cell_type": "code",
   "execution_count": 197,
   "metadata": {},
   "outputs": [
    {
     "name": "stderr",
     "output_type": "stream",
     "text": [
      "/home/rpartsey/.virtualenvs/change_detection/lib/python3.6/site-packages/pyproj/crs/crs.py:53: FutureWarning: '+init=<authority>:<code>' syntax is deprecated. '<authority>:<code>' is the preferred initialization method. When making the change, be mindful of axis order changes: https://pyproj4.github.io/pyproj/stable/gotchas.html#axis-order-changes-in-proj-6\n",
      "  return _prepare_from_string(\" \".join(pjargs))\n",
      "/home/rpartsey/.virtualenvs/change_detection/lib/python3.6/site-packages/pyproj/crs/crs.py:53: FutureWarning: '+init=<authority>:<code>' syntax is deprecated. '<authority>:<code>' is the preferred initialization method. When making the change, be mindful of axis order changes: https://pyproj4.github.io/pyproj/stable/gotchas.html#axis-order-changes-in-proj-6\n",
      "  return _prepare_from_string(\" \".join(pjargs))\n",
      "/home/rpartsey/.virtualenvs/change_detection/lib/python3.6/site-packages/pyproj/crs/crs.py:53: FutureWarning: '+init=<authority>:<code>' syntax is deprecated. '<authority>:<code>' is the preferred initialization method. When making the change, be mindful of axis order changes: https://pyproj4.github.io/pyproj/stable/gotchas.html#axis-order-changes-in-proj-6\n",
      "  return _prepare_from_string(\" \".join(pjargs))\n",
      "/home/rpartsey/.virtualenvs/change_detection/lib/python3.6/site-packages/pyproj/crs/crs.py:53: FutureWarning: '+init=<authority>:<code>' syntax is deprecated. '<authority>:<code>' is the preferred initialization method. When making the change, be mindful of axis order changes: https://pyproj4.github.io/pyproj/stable/gotchas.html#axis-order-changes-in-proj-6\n",
      "  return _prepare_from_string(\" \".join(pjargs))\n",
      "/home/rpartsey/.virtualenvs/change_detection/lib/python3.6/site-packages/pyproj/crs/crs.py:53: FutureWarning: '+init=<authority>:<code>' syntax is deprecated. '<authority>:<code>' is the preferred initialization method. When making the change, be mindful of axis order changes: https://pyproj4.github.io/pyproj/stable/gotchas.html#axis-order-changes-in-proj-6\n",
      "  return _prepare_from_string(\" \".join(pjargs))\n",
      "/home/rpartsey/.virtualenvs/change_detection/lib/python3.6/site-packages/pyproj/crs/crs.py:53: FutureWarning: '+init=<authority>:<code>' syntax is deprecated. '<authority>:<code>' is the preferred initialization method. When making the change, be mindful of axis order changes: https://pyproj4.github.io/pyproj/stable/gotchas.html#axis-order-changes-in-proj-6\n",
      "  return _prepare_from_string(\" \".join(pjargs))\n",
      "/home/rpartsey/.virtualenvs/change_detection/lib/python3.6/site-packages/pyproj/crs/crs.py:53: FutureWarning: '+init=<authority>:<code>' syntax is deprecated. '<authority>:<code>' is the preferred initialization method. When making the change, be mindful of axis order changes: https://pyproj4.github.io/pyproj/stable/gotchas.html#axis-order-changes-in-proj-6\n",
      "  return _prepare_from_string(\" \".join(pjargs))\n",
      "/home/rpartsey/.virtualenvs/change_detection/lib/python3.6/site-packages/pyproj/crs/crs.py:53: FutureWarning: '+init=<authority>:<code>' syntax is deprecated. '<authority>:<code>' is the preferred initialization method. When making the change, be mindful of axis order changes: https://pyproj4.github.io/pyproj/stable/gotchas.html#axis-order-changes-in-proj-6\n",
      "  return _prepare_from_string(\" \".join(pjargs))\n",
      "/home/rpartsey/.virtualenvs/change_detection/lib/python3.6/site-packages/pyproj/crs/crs.py:53: FutureWarning: '+init=<authority>:<code>' syntax is deprecated. '<authority>:<code>' is the preferred initialization method. When making the change, be mindful of axis order changes: https://pyproj4.github.io/pyproj/stable/gotchas.html#axis-order-changes-in-proj-6\n",
      "  return _prepare_from_string(\" \".join(pjargs))\n",
      "/home/rpartsey/.virtualenvs/change_detection/lib/python3.6/site-packages/pyproj/crs/crs.py:53: FutureWarning: '+init=<authority>:<code>' syntax is deprecated. '<authority>:<code>' is the preferred initialization method. When making the change, be mindful of axis order changes: https://pyproj4.github.io/pyproj/stable/gotchas.html#axis-order-changes-in-proj-6\n",
      "  return _prepare_from_string(\" \".join(pjargs))\n",
      "/home/rpartsey/.virtualenvs/change_detection/lib/python3.6/site-packages/pyproj/crs/crs.py:53: FutureWarning: '+init=<authority>:<code>' syntax is deprecated. '<authority>:<code>' is the preferred initialization method. When making the change, be mindful of axis order changes: https://pyproj4.github.io/pyproj/stable/gotchas.html#axis-order-changes-in-proj-6\n",
      "  return _prepare_from_string(\" \".join(pjargs))\n",
      "/home/rpartsey/.virtualenvs/change_detection/lib/python3.6/site-packages/pyproj/crs/crs.py:53: FutureWarning: '+init=<authority>:<code>' syntax is deprecated. '<authority>:<code>' is the preferred initialization method. When making the change, be mindful of axis order changes: https://pyproj4.github.io/pyproj/stable/gotchas.html#axis-order-changes-in-proj-6\n",
      "  return _prepare_from_string(\" \".join(pjargs))\n",
      "/home/rpartsey/.virtualenvs/change_detection/lib/python3.6/site-packages/pyproj/crs/crs.py:53: FutureWarning: '+init=<authority>:<code>' syntax is deprecated. '<authority>:<code>' is the preferred initialization method. When making the change, be mindful of axis order changes: https://pyproj4.github.io/pyproj/stable/gotchas.html#axis-order-changes-in-proj-6\n",
      "  return _prepare_from_string(\" \".join(pjargs))\n",
      "/home/rpartsey/.virtualenvs/change_detection/lib/python3.6/site-packages/pyproj/crs/crs.py:53: FutureWarning: '+init=<authority>:<code>' syntax is deprecated. '<authority>:<code>' is the preferred initialization method. When making the change, be mindful of axis order changes: https://pyproj4.github.io/pyproj/stable/gotchas.html#axis-order-changes-in-proj-6\n",
      "  return _prepare_from_string(\" \".join(pjargs))\n",
      "/home/rpartsey/.virtualenvs/change_detection/lib/python3.6/site-packages/pyproj/crs/crs.py:53: FutureWarning: '+init=<authority>:<code>' syntax is deprecated. '<authority>:<code>' is the preferred initialization method. When making the change, be mindful of axis order changes: https://pyproj4.github.io/pyproj/stable/gotchas.html#axis-order-changes-in-proj-6\n",
      "  return _prepare_from_string(\" \".join(pjargs))\n",
      "/home/rpartsey/.virtualenvs/change_detection/lib/python3.6/site-packages/pyproj/crs/crs.py:53: FutureWarning: '+init=<authority>:<code>' syntax is deprecated. '<authority>:<code>' is the preferred initialization method. When making the change, be mindful of axis order changes: https://pyproj4.github.io/pyproj/stable/gotchas.html#axis-order-changes-in-proj-6\n",
      "  return _prepare_from_string(\" \".join(pjargs))\n",
      "/home/rpartsey/.virtualenvs/change_detection/lib/python3.6/site-packages/pyproj/crs/crs.py:53: FutureWarning: '+init=<authority>:<code>' syntax is deprecated. '<authority>:<code>' is the preferred initialization method. When making the change, be mindful of axis order changes: https://pyproj4.github.io/pyproj/stable/gotchas.html#axis-order-changes-in-proj-6\n",
      "  return _prepare_from_string(\" \".join(pjargs))\n",
      "/home/rpartsey/.virtualenvs/change_detection/lib/python3.6/site-packages/pyproj/crs/crs.py:53: FutureWarning: '+init=<authority>:<code>' syntax is deprecated. '<authority>:<code>' is the preferred initialization method. When making the change, be mindful of axis order changes: https://pyproj4.github.io/pyproj/stable/gotchas.html#axis-order-changes-in-proj-6\n",
      "  return _prepare_from_string(\" \".join(pjargs))\n",
      "/home/rpartsey/.virtualenvs/change_detection/lib/python3.6/site-packages/pyproj/crs/crs.py:53: FutureWarning: '+init=<authority>:<code>' syntax is deprecated. '<authority>:<code>' is the preferred initialization method. When making the change, be mindful of axis order changes: https://pyproj4.github.io/pyproj/stable/gotchas.html#axis-order-changes-in-proj-6\n",
      "  return _prepare_from_string(\" \".join(pjargs))\n",
      "/home/rpartsey/.virtualenvs/change_detection/lib/python3.6/site-packages/pyproj/crs/crs.py:53: FutureWarning: '+init=<authority>:<code>' syntax is deprecated. '<authority>:<code>' is the preferred initialization method. When making the change, be mindful of axis order changes: https://pyproj4.github.io/pyproj/stable/gotchas.html#axis-order-changes-in-proj-6\n",
      "  return _prepare_from_string(\" \".join(pjargs))\n",
      "/home/rpartsey/.virtualenvs/change_detection/lib/python3.6/site-packages/pyproj/crs/crs.py:53: FutureWarning: '+init=<authority>:<code>' syntax is deprecated. '<authority>:<code>' is the preferred initialization method. When making the change, be mindful of axis order changes: https://pyproj4.github.io/pyproj/stable/gotchas.html#axis-order-changes-in-proj-6\n",
      "  return _prepare_from_string(\" \".join(pjargs))\n",
      "/home/rpartsey/.virtualenvs/change_detection/lib/python3.6/site-packages/pyproj/crs/crs.py:53: FutureWarning: '+init=<authority>:<code>' syntax is deprecated. '<authority>:<code>' is the preferred initialization method. When making the change, be mindful of axis order changes: https://pyproj4.github.io/pyproj/stable/gotchas.html#axis-order-changes-in-proj-6\n",
      "  return _prepare_from_string(\" \".join(pjargs))\n",
      "/home/rpartsey/.virtualenvs/change_detection/lib/python3.6/site-packages/pyproj/crs/crs.py:53: FutureWarning: '+init=<authority>:<code>' syntax is deprecated. '<authority>:<code>' is the preferred initialization method. When making the change, be mindful of axis order changes: https://pyproj4.github.io/pyproj/stable/gotchas.html#axis-order-changes-in-proj-6\n",
      "  return _prepare_from_string(\" \".join(pjargs))\n"
     ]
    },
    {
     "name": "stderr",
     "output_type": "stream",
     "text": [
      "/home/rpartsey/.virtualenvs/change_detection/lib/python3.6/site-packages/pyproj/crs/crs.py:53: FutureWarning: '+init=<authority>:<code>' syntax is deprecated. '<authority>:<code>' is the preferred initialization method. When making the change, be mindful of axis order changes: https://pyproj4.github.io/pyproj/stable/gotchas.html#axis-order-changes-in-proj-6\n",
      "  return _prepare_from_string(\" \".join(pjargs))\n",
      "/home/rpartsey/.virtualenvs/change_detection/lib/python3.6/site-packages/pyproj/crs/crs.py:53: FutureWarning: '+init=<authority>:<code>' syntax is deprecated. '<authority>:<code>' is the preferred initialization method. When making the change, be mindful of axis order changes: https://pyproj4.github.io/pyproj/stable/gotchas.html#axis-order-changes-in-proj-6\n",
      "  return _prepare_from_string(\" \".join(pjargs))\n",
      "/home/rpartsey/.virtualenvs/change_detection/lib/python3.6/site-packages/pyproj/crs/crs.py:53: FutureWarning: '+init=<authority>:<code>' syntax is deprecated. '<authority>:<code>' is the preferred initialization method. When making the change, be mindful of axis order changes: https://pyproj4.github.io/pyproj/stable/gotchas.html#axis-order-changes-in-proj-6\n",
      "  return _prepare_from_string(\" \".join(pjargs))\n",
      "/home/rpartsey/.virtualenvs/change_detection/lib/python3.6/site-packages/pyproj/crs/crs.py:53: FutureWarning: '+init=<authority>:<code>' syntax is deprecated. '<authority>:<code>' is the preferred initialization method. When making the change, be mindful of axis order changes: https://pyproj4.github.io/pyproj/stable/gotchas.html#axis-order-changes-in-proj-6\n",
      "  return _prepare_from_string(\" \".join(pjargs))\n",
      "/home/rpartsey/.virtualenvs/change_detection/lib/python3.6/site-packages/pyproj/crs/crs.py:53: FutureWarning: '+init=<authority>:<code>' syntax is deprecated. '<authority>:<code>' is the preferred initialization method. When making the change, be mindful of axis order changes: https://pyproj4.github.io/pyproj/stable/gotchas.html#axis-order-changes-in-proj-6\n",
      "  return _prepare_from_string(\" \".join(pjargs))\n",
      "/home/rpartsey/.virtualenvs/change_detection/lib/python3.6/site-packages/pyproj/crs/crs.py:53: FutureWarning: '+init=<authority>:<code>' syntax is deprecated. '<authority>:<code>' is the preferred initialization method. When making the change, be mindful of axis order changes: https://pyproj4.github.io/pyproj/stable/gotchas.html#axis-order-changes-in-proj-6\n",
      "  return _prepare_from_string(\" \".join(pjargs))\n",
      "/home/rpartsey/.virtualenvs/change_detection/lib/python3.6/site-packages/pyproj/crs/crs.py:53: FutureWarning: '+init=<authority>:<code>' syntax is deprecated. '<authority>:<code>' is the preferred initialization method. When making the change, be mindful of axis order changes: https://pyproj4.github.io/pyproj/stable/gotchas.html#axis-order-changes-in-proj-6\n",
      "  return _prepare_from_string(\" \".join(pjargs))\n",
      "/home/rpartsey/.virtualenvs/change_detection/lib/python3.6/site-packages/pyproj/crs/crs.py:53: FutureWarning: '+init=<authority>:<code>' syntax is deprecated. '<authority>:<code>' is the preferred initialization method. When making the change, be mindful of axis order changes: https://pyproj4.github.io/pyproj/stable/gotchas.html#axis-order-changes-in-proj-6\n",
      "  return _prepare_from_string(\" \".join(pjargs))\n",
      "/home/rpartsey/.virtualenvs/change_detection/lib/python3.6/site-packages/pyproj/crs/crs.py:53: FutureWarning: '+init=<authority>:<code>' syntax is deprecated. '<authority>:<code>' is the preferred initialization method. When making the change, be mindful of axis order changes: https://pyproj4.github.io/pyproj/stable/gotchas.html#axis-order-changes-in-proj-6\n",
      "  return _prepare_from_string(\" \".join(pjargs))\n",
      "/home/rpartsey/.virtualenvs/change_detection/lib/python3.6/site-packages/pyproj/crs/crs.py:53: FutureWarning: '+init=<authority>:<code>' syntax is deprecated. '<authority>:<code>' is the preferred initialization method. When making the change, be mindful of axis order changes: https://pyproj4.github.io/pyproj/stable/gotchas.html#axis-order-changes-in-proj-6\n",
      "  return _prepare_from_string(\" \".join(pjargs))\n",
      "/home/rpartsey/.virtualenvs/change_detection/lib/python3.6/site-packages/pyproj/crs/crs.py:53: FutureWarning: '+init=<authority>:<code>' syntax is deprecated. '<authority>:<code>' is the preferred initialization method. When making the change, be mindful of axis order changes: https://pyproj4.github.io/pyproj/stable/gotchas.html#axis-order-changes-in-proj-6\n",
      "  return _prepare_from_string(\" \".join(pjargs))\n",
      "/home/rpartsey/.virtualenvs/change_detection/lib/python3.6/site-packages/pyproj/crs/crs.py:53: FutureWarning: '+init=<authority>:<code>' syntax is deprecated. '<authority>:<code>' is the preferred initialization method. When making the change, be mindful of axis order changes: https://pyproj4.github.io/pyproj/stable/gotchas.html#axis-order-changes-in-proj-6\n",
      "  return _prepare_from_string(\" \".join(pjargs))\n",
      "/home/rpartsey/.virtualenvs/change_detection/lib/python3.6/site-packages/pyproj/crs/crs.py:53: FutureWarning: '+init=<authority>:<code>' syntax is deprecated. '<authority>:<code>' is the preferred initialization method. When making the change, be mindful of axis order changes: https://pyproj4.github.io/pyproj/stable/gotchas.html#axis-order-changes-in-proj-6\n",
      "  return _prepare_from_string(\" \".join(pjargs))\n",
      "/home/rpartsey/.virtualenvs/change_detection/lib/python3.6/site-packages/pyproj/crs/crs.py:53: FutureWarning: '+init=<authority>:<code>' syntax is deprecated. '<authority>:<code>' is the preferred initialization method. When making the change, be mindful of axis order changes: https://pyproj4.github.io/pyproj/stable/gotchas.html#axis-order-changes-in-proj-6\n",
      "  return _prepare_from_string(\" \".join(pjargs))\n",
      "/home/rpartsey/.virtualenvs/change_detection/lib/python3.6/site-packages/pyproj/crs/crs.py:53: FutureWarning: '+init=<authority>:<code>' syntax is deprecated. '<authority>:<code>' is the preferred initialization method. When making the change, be mindful of axis order changes: https://pyproj4.github.io/pyproj/stable/gotchas.html#axis-order-changes-in-proj-6\n",
      "  return _prepare_from_string(\" \".join(pjargs))\n",
      "/home/rpartsey/.virtualenvs/change_detection/lib/python3.6/site-packages/pyproj/crs/crs.py:53: FutureWarning: '+init=<authority>:<code>' syntax is deprecated. '<authority>:<code>' is the preferred initialization method. When making the change, be mindful of axis order changes: https://pyproj4.github.io/pyproj/stable/gotchas.html#axis-order-changes-in-proj-6\n",
      "  return _prepare_from_string(\" \".join(pjargs))\n",
      "/home/rpartsey/.virtualenvs/change_detection/lib/python3.6/site-packages/pyproj/crs/crs.py:53: FutureWarning: '+init=<authority>:<code>' syntax is deprecated. '<authority>:<code>' is the preferred initialization method. When making the change, be mindful of axis order changes: https://pyproj4.github.io/pyproj/stable/gotchas.html#axis-order-changes-in-proj-6\n",
      "  return _prepare_from_string(\" \".join(pjargs))\n",
      "/home/rpartsey/.virtualenvs/change_detection/lib/python3.6/site-packages/pyproj/crs/crs.py:53: FutureWarning: '+init=<authority>:<code>' syntax is deprecated. '<authority>:<code>' is the preferred initialization method. When making the change, be mindful of axis order changes: https://pyproj4.github.io/pyproj/stable/gotchas.html#axis-order-changes-in-proj-6\n",
      "  return _prepare_from_string(\" \".join(pjargs))\n",
      "/home/rpartsey/.virtualenvs/change_detection/lib/python3.6/site-packages/pyproj/crs/crs.py:53: FutureWarning: '+init=<authority>:<code>' syntax is deprecated. '<authority>:<code>' is the preferred initialization method. When making the change, be mindful of axis order changes: https://pyproj4.github.io/pyproj/stable/gotchas.html#axis-order-changes-in-proj-6\n",
      "  return _prepare_from_string(\" \".join(pjargs))\n",
      "/home/rpartsey/.virtualenvs/change_detection/lib/python3.6/site-packages/pyproj/crs/crs.py:53: FutureWarning: '+init=<authority>:<code>' syntax is deprecated. '<authority>:<code>' is the preferred initialization method. When making the change, be mindful of axis order changes: https://pyproj4.github.io/pyproj/stable/gotchas.html#axis-order-changes-in-proj-6\n",
      "  return _prepare_from_string(\" \".join(pjargs))\n",
      "/home/rpartsey/.virtualenvs/change_detection/lib/python3.6/site-packages/pyproj/crs/crs.py:53: FutureWarning: '+init=<authority>:<code>' syntax is deprecated. '<authority>:<code>' is the preferred initialization method. When making the change, be mindful of axis order changes: https://pyproj4.github.io/pyproj/stable/gotchas.html#axis-order-changes-in-proj-6\n",
      "  return _prepare_from_string(\" \".join(pjargs))\n",
      "/home/rpartsey/.virtualenvs/change_detection/lib/python3.6/site-packages/pyproj/crs/crs.py:53: FutureWarning: '+init=<authority>:<code>' syntax is deprecated. '<authority>:<code>' is the preferred initialization method. When making the change, be mindful of axis order changes: https://pyproj4.github.io/pyproj/stable/gotchas.html#axis-order-changes-in-proj-6\n",
      "  return _prepare_from_string(\" \".join(pjargs))\n",
      "/home/rpartsey/.virtualenvs/change_detection/lib/python3.6/site-packages/pyproj/crs/crs.py:53: FutureWarning: '+init=<authority>:<code>' syntax is deprecated. '<authority>:<code>' is the preferred initialization method. When making the change, be mindful of axis order changes: https://pyproj4.github.io/pyproj/stable/gotchas.html#axis-order-changes-in-proj-6\n",
      "  return _prepare_from_string(\" \".join(pjargs))\n",
      "/home/rpartsey/.virtualenvs/change_detection/lib/python3.6/site-packages/pyproj/crs/crs.py:53: FutureWarning: '+init=<authority>:<code>' syntax is deprecated. '<authority>:<code>' is the preferred initialization method. When making the change, be mindful of axis order changes: https://pyproj4.github.io/pyproj/stable/gotchas.html#axis-order-changes-in-proj-6\n",
      "  return _prepare_from_string(\" \".join(pjargs))\n",
      "/home/rpartsey/.virtualenvs/change_detection/lib/python3.6/site-packages/pyproj/crs/crs.py:53: FutureWarning: '+init=<authority>:<code>' syntax is deprecated. '<authority>:<code>' is the preferred initialization method. When making the change, be mindful of axis order changes: https://pyproj4.github.io/pyproj/stable/gotchas.html#axis-order-changes-in-proj-6\n",
      "  return _prepare_from_string(\" \".join(pjargs))\n"
     ]
    },
    {
     "name": "stderr",
     "output_type": "stream",
     "text": [
      "/home/rpartsey/.virtualenvs/change_detection/lib/python3.6/site-packages/pyproj/crs/crs.py:53: FutureWarning: '+init=<authority>:<code>' syntax is deprecated. '<authority>:<code>' is the preferred initialization method. When making the change, be mindful of axis order changes: https://pyproj4.github.io/pyproj/stable/gotchas.html#axis-order-changes-in-proj-6\n",
      "  return _prepare_from_string(\" \".join(pjargs))\n",
      "/home/rpartsey/.virtualenvs/change_detection/lib/python3.6/site-packages/pyproj/crs/crs.py:53: FutureWarning: '+init=<authority>:<code>' syntax is deprecated. '<authority>:<code>' is the preferred initialization method. When making the change, be mindful of axis order changes: https://pyproj4.github.io/pyproj/stable/gotchas.html#axis-order-changes-in-proj-6\n",
      "  return _prepare_from_string(\" \".join(pjargs))\n",
      "/home/rpartsey/.virtualenvs/change_detection/lib/python3.6/site-packages/pyproj/crs/crs.py:53: FutureWarning: '+init=<authority>:<code>' syntax is deprecated. '<authority>:<code>' is the preferred initialization method. When making the change, be mindful of axis order changes: https://pyproj4.github.io/pyproj/stable/gotchas.html#axis-order-changes-in-proj-6\n",
      "  return _prepare_from_string(\" \".join(pjargs))\n",
      "/home/rpartsey/.virtualenvs/change_detection/lib/python3.6/site-packages/pyproj/crs/crs.py:53: FutureWarning: '+init=<authority>:<code>' syntax is deprecated. '<authority>:<code>' is the preferred initialization method. When making the change, be mindful of axis order changes: https://pyproj4.github.io/pyproj/stable/gotchas.html#axis-order-changes-in-proj-6\n",
      "  return _prepare_from_string(\" \".join(pjargs))\n",
      "/home/rpartsey/.virtualenvs/change_detection/lib/python3.6/site-packages/pyproj/crs/crs.py:53: FutureWarning: '+init=<authority>:<code>' syntax is deprecated. '<authority>:<code>' is the preferred initialization method. When making the change, be mindful of axis order changes: https://pyproj4.github.io/pyproj/stable/gotchas.html#axis-order-changes-in-proj-6\n",
      "  return _prepare_from_string(\" \".join(pjargs))\n",
      "/home/rpartsey/.virtualenvs/change_detection/lib/python3.6/site-packages/pyproj/crs/crs.py:53: FutureWarning: '+init=<authority>:<code>' syntax is deprecated. '<authority>:<code>' is the preferred initialization method. When making the change, be mindful of axis order changes: https://pyproj4.github.io/pyproj/stable/gotchas.html#axis-order-changes-in-proj-6\n",
      "  return _prepare_from_string(\" \".join(pjargs))\n",
      "/home/rpartsey/.virtualenvs/change_detection/lib/python3.6/site-packages/pyproj/crs/crs.py:53: FutureWarning: '+init=<authority>:<code>' syntax is deprecated. '<authority>:<code>' is the preferred initialization method. When making the change, be mindful of axis order changes: https://pyproj4.github.io/pyproj/stable/gotchas.html#axis-order-changes-in-proj-6\n",
      "  return _prepare_from_string(\" \".join(pjargs))\n",
      "/home/rpartsey/.virtualenvs/change_detection/lib/python3.6/site-packages/pyproj/crs/crs.py:53: FutureWarning: '+init=<authority>:<code>' syntax is deprecated. '<authority>:<code>' is the preferred initialization method. When making the change, be mindful of axis order changes: https://pyproj4.github.io/pyproj/stable/gotchas.html#axis-order-changes-in-proj-6\n",
      "  return _prepare_from_string(\" \".join(pjargs))\n",
      "/home/rpartsey/.virtualenvs/change_detection/lib/python3.6/site-packages/pyproj/crs/crs.py:53: FutureWarning: '+init=<authority>:<code>' syntax is deprecated. '<authority>:<code>' is the preferred initialization method. When making the change, be mindful of axis order changes: https://pyproj4.github.io/pyproj/stable/gotchas.html#axis-order-changes-in-proj-6\n",
      "  return _prepare_from_string(\" \".join(pjargs))\n",
      "/home/rpartsey/.virtualenvs/change_detection/lib/python3.6/site-packages/pyproj/crs/crs.py:53: FutureWarning: '+init=<authority>:<code>' syntax is deprecated. '<authority>:<code>' is the preferred initialization method. When making the change, be mindful of axis order changes: https://pyproj4.github.io/pyproj/stable/gotchas.html#axis-order-changes-in-proj-6\n",
      "  return _prepare_from_string(\" \".join(pjargs))\n",
      "/home/rpartsey/.virtualenvs/change_detection/lib/python3.6/site-packages/pyproj/crs/crs.py:53: FutureWarning: '+init=<authority>:<code>' syntax is deprecated. '<authority>:<code>' is the preferred initialization method. When making the change, be mindful of axis order changes: https://pyproj4.github.io/pyproj/stable/gotchas.html#axis-order-changes-in-proj-6\n",
      "  return _prepare_from_string(\" \".join(pjargs))\n",
      "/home/rpartsey/.virtualenvs/change_detection/lib/python3.6/site-packages/pyproj/crs/crs.py:53: FutureWarning: '+init=<authority>:<code>' syntax is deprecated. '<authority>:<code>' is the preferred initialization method. When making the change, be mindful of axis order changes: https://pyproj4.github.io/pyproj/stable/gotchas.html#axis-order-changes-in-proj-6\n",
      "  return _prepare_from_string(\" \".join(pjargs))\n",
      "/home/rpartsey/.virtualenvs/change_detection/lib/python3.6/site-packages/pyproj/crs/crs.py:53: FutureWarning: '+init=<authority>:<code>' syntax is deprecated. '<authority>:<code>' is the preferred initialization method. When making the change, be mindful of axis order changes: https://pyproj4.github.io/pyproj/stable/gotchas.html#axis-order-changes-in-proj-6\n",
      "  return _prepare_from_string(\" \".join(pjargs))\n",
      "/home/rpartsey/.virtualenvs/change_detection/lib/python3.6/site-packages/pyproj/crs/crs.py:53: FutureWarning: '+init=<authority>:<code>' syntax is deprecated. '<authority>:<code>' is the preferred initialization method. When making the change, be mindful of axis order changes: https://pyproj4.github.io/pyproj/stable/gotchas.html#axis-order-changes-in-proj-6\n",
      "  return _prepare_from_string(\" \".join(pjargs))\n",
      "/home/rpartsey/.virtualenvs/change_detection/lib/python3.6/site-packages/pyproj/crs/crs.py:53: FutureWarning: '+init=<authority>:<code>' syntax is deprecated. '<authority>:<code>' is the preferred initialization method. When making the change, be mindful of axis order changes: https://pyproj4.github.io/pyproj/stable/gotchas.html#axis-order-changes-in-proj-6\n",
      "  return _prepare_from_string(\" \".join(pjargs))\n",
      "/home/rpartsey/.virtualenvs/change_detection/lib/python3.6/site-packages/pyproj/crs/crs.py:53: FutureWarning: '+init=<authority>:<code>' syntax is deprecated. '<authority>:<code>' is the preferred initialization method. When making the change, be mindful of axis order changes: https://pyproj4.github.io/pyproj/stable/gotchas.html#axis-order-changes-in-proj-6\n",
      "  return _prepare_from_string(\" \".join(pjargs))\n",
      "/home/rpartsey/.virtualenvs/change_detection/lib/python3.6/site-packages/pyproj/crs/crs.py:53: FutureWarning: '+init=<authority>:<code>' syntax is deprecated. '<authority>:<code>' is the preferred initialization method. When making the change, be mindful of axis order changes: https://pyproj4.github.io/pyproj/stable/gotchas.html#axis-order-changes-in-proj-6\n",
      "  return _prepare_from_string(\" \".join(pjargs))\n",
      "/home/rpartsey/.virtualenvs/change_detection/lib/python3.6/site-packages/pyproj/crs/crs.py:53: FutureWarning: '+init=<authority>:<code>' syntax is deprecated. '<authority>:<code>' is the preferred initialization method. When making the change, be mindful of axis order changes: https://pyproj4.github.io/pyproj/stable/gotchas.html#axis-order-changes-in-proj-6\n",
      "  return _prepare_from_string(\" \".join(pjargs))\n",
      "/home/rpartsey/.virtualenvs/change_detection/lib/python3.6/site-packages/pyproj/crs/crs.py:53: FutureWarning: '+init=<authority>:<code>' syntax is deprecated. '<authority>:<code>' is the preferred initialization method. When making the change, be mindful of axis order changes: https://pyproj4.github.io/pyproj/stable/gotchas.html#axis-order-changes-in-proj-6\n",
      "  return _prepare_from_string(\" \".join(pjargs))\n",
      "/home/rpartsey/.virtualenvs/change_detection/lib/python3.6/site-packages/pyproj/crs/crs.py:53: FutureWarning: '+init=<authority>:<code>' syntax is deprecated. '<authority>:<code>' is the preferred initialization method. When making the change, be mindful of axis order changes: https://pyproj4.github.io/pyproj/stable/gotchas.html#axis-order-changes-in-proj-6\n",
      "  return _prepare_from_string(\" \".join(pjargs))\n",
      "/home/rpartsey/.virtualenvs/change_detection/lib/python3.6/site-packages/pyproj/crs/crs.py:53: FutureWarning: '+init=<authority>:<code>' syntax is deprecated. '<authority>:<code>' is the preferred initialization method. When making the change, be mindful of axis order changes: https://pyproj4.github.io/pyproj/stable/gotchas.html#axis-order-changes-in-proj-6\n",
      "  return _prepare_from_string(\" \".join(pjargs))\n",
      "/home/rpartsey/.virtualenvs/change_detection/lib/python3.6/site-packages/pyproj/crs/crs.py:53: FutureWarning: '+init=<authority>:<code>' syntax is deprecated. '<authority>:<code>' is the preferred initialization method. When making the change, be mindful of axis order changes: https://pyproj4.github.io/pyproj/stable/gotchas.html#axis-order-changes-in-proj-6\n",
      "  return _prepare_from_string(\" \".join(pjargs))\n",
      "/home/rpartsey/.virtualenvs/change_detection/lib/python3.6/site-packages/pyproj/crs/crs.py:53: FutureWarning: '+init=<authority>:<code>' syntax is deprecated. '<authority>:<code>' is the preferred initialization method. When making the change, be mindful of axis order changes: https://pyproj4.github.io/pyproj/stable/gotchas.html#axis-order-changes-in-proj-6\n",
      "  return _prepare_from_string(\" \".join(pjargs))\n",
      "/home/rpartsey/.virtualenvs/change_detection/lib/python3.6/site-packages/pyproj/crs/crs.py:53: FutureWarning: '+init=<authority>:<code>' syntax is deprecated. '<authority>:<code>' is the preferred initialization method. When making the change, be mindful of axis order changes: https://pyproj4.github.io/pyproj/stable/gotchas.html#axis-order-changes-in-proj-6\n",
      "  return _prepare_from_string(\" \".join(pjargs))\n",
      "/home/rpartsey/.virtualenvs/change_detection/lib/python3.6/site-packages/pyproj/crs/crs.py:53: FutureWarning: '+init=<authority>:<code>' syntax is deprecated. '<authority>:<code>' is the preferred initialization method. When making the change, be mindful of axis order changes: https://pyproj4.github.io/pyproj/stable/gotchas.html#axis-order-changes-in-proj-6\n",
      "  return _prepare_from_string(\" \".join(pjargs))\n"
     ]
    },
    {
     "name": "stderr",
     "output_type": "stream",
     "text": [
      "/home/rpartsey/.virtualenvs/change_detection/lib/python3.6/site-packages/pyproj/crs/crs.py:53: FutureWarning: '+init=<authority>:<code>' syntax is deprecated. '<authority>:<code>' is the preferred initialization method. When making the change, be mindful of axis order changes: https://pyproj4.github.io/pyproj/stable/gotchas.html#axis-order-changes-in-proj-6\n",
      "  return _prepare_from_string(\" \".join(pjargs))\n",
      "/home/rpartsey/.virtualenvs/change_detection/lib/python3.6/site-packages/pyproj/crs/crs.py:53: FutureWarning: '+init=<authority>:<code>' syntax is deprecated. '<authority>:<code>' is the preferred initialization method. When making the change, be mindful of axis order changes: https://pyproj4.github.io/pyproj/stable/gotchas.html#axis-order-changes-in-proj-6\n",
      "  return _prepare_from_string(\" \".join(pjargs))\n",
      "/home/rpartsey/.virtualenvs/change_detection/lib/python3.6/site-packages/pyproj/crs/crs.py:53: FutureWarning: '+init=<authority>:<code>' syntax is deprecated. '<authority>:<code>' is the preferred initialization method. When making the change, be mindful of axis order changes: https://pyproj4.github.io/pyproj/stable/gotchas.html#axis-order-changes-in-proj-6\n",
      "  return _prepare_from_string(\" \".join(pjargs))\n",
      "/home/rpartsey/.virtualenvs/change_detection/lib/python3.6/site-packages/pyproj/crs/crs.py:53: FutureWarning: '+init=<authority>:<code>' syntax is deprecated. '<authority>:<code>' is the preferred initialization method. When making the change, be mindful of axis order changes: https://pyproj4.github.io/pyproj/stable/gotchas.html#axis-order-changes-in-proj-6\n",
      "  return _prepare_from_string(\" \".join(pjargs))\n",
      "/home/rpartsey/.virtualenvs/change_detection/lib/python3.6/site-packages/pyproj/crs/crs.py:53: FutureWarning: '+init=<authority>:<code>' syntax is deprecated. '<authority>:<code>' is the preferred initialization method. When making the change, be mindful of axis order changes: https://pyproj4.github.io/pyproj/stable/gotchas.html#axis-order-changes-in-proj-6\n",
      "  return _prepare_from_string(\" \".join(pjargs))\n",
      "/home/rpartsey/.virtualenvs/change_detection/lib/python3.6/site-packages/pyproj/crs/crs.py:53: FutureWarning: '+init=<authority>:<code>' syntax is deprecated. '<authority>:<code>' is the preferred initialization method. When making the change, be mindful of axis order changes: https://pyproj4.github.io/pyproj/stable/gotchas.html#axis-order-changes-in-proj-6\n",
      "  return _prepare_from_string(\" \".join(pjargs))\n",
      "/home/rpartsey/.virtualenvs/change_detection/lib/python3.6/site-packages/pyproj/crs/crs.py:53: FutureWarning: '+init=<authority>:<code>' syntax is deprecated. '<authority>:<code>' is the preferred initialization method. When making the change, be mindful of axis order changes: https://pyproj4.github.io/pyproj/stable/gotchas.html#axis-order-changes-in-proj-6\n",
      "  return _prepare_from_string(\" \".join(pjargs))\n",
      "/home/rpartsey/.virtualenvs/change_detection/lib/python3.6/site-packages/pyproj/crs/crs.py:53: FutureWarning: '+init=<authority>:<code>' syntax is deprecated. '<authority>:<code>' is the preferred initialization method. When making the change, be mindful of axis order changes: https://pyproj4.github.io/pyproj/stable/gotchas.html#axis-order-changes-in-proj-6\n",
      "  return _prepare_from_string(\" \".join(pjargs))\n",
      "/home/rpartsey/.virtualenvs/change_detection/lib/python3.6/site-packages/pyproj/crs/crs.py:53: FutureWarning: '+init=<authority>:<code>' syntax is deprecated. '<authority>:<code>' is the preferred initialization method. When making the change, be mindful of axis order changes: https://pyproj4.github.io/pyproj/stable/gotchas.html#axis-order-changes-in-proj-6\n",
      "  return _prepare_from_string(\" \".join(pjargs))\n",
      "/home/rpartsey/.virtualenvs/change_detection/lib/python3.6/site-packages/pyproj/crs/crs.py:53: FutureWarning: '+init=<authority>:<code>' syntax is deprecated. '<authority>:<code>' is the preferred initialization method. When making the change, be mindful of axis order changes: https://pyproj4.github.io/pyproj/stable/gotchas.html#axis-order-changes-in-proj-6\n",
      "  return _prepare_from_string(\" \".join(pjargs))\n",
      "/home/rpartsey/.virtualenvs/change_detection/lib/python3.6/site-packages/pyproj/crs/crs.py:53: FutureWarning: '+init=<authority>:<code>' syntax is deprecated. '<authority>:<code>' is the preferred initialization method. When making the change, be mindful of axis order changes: https://pyproj4.github.io/pyproj/stable/gotchas.html#axis-order-changes-in-proj-6\n",
      "  return _prepare_from_string(\" \".join(pjargs))\n",
      "/home/rpartsey/.virtualenvs/change_detection/lib/python3.6/site-packages/pyproj/crs/crs.py:53: FutureWarning: '+init=<authority>:<code>' syntax is deprecated. '<authority>:<code>' is the preferred initialization method. When making the change, be mindful of axis order changes: https://pyproj4.github.io/pyproj/stable/gotchas.html#axis-order-changes-in-proj-6\n",
      "  return _prepare_from_string(\" \".join(pjargs))\n",
      "/home/rpartsey/.virtualenvs/change_detection/lib/python3.6/site-packages/pyproj/crs/crs.py:53: FutureWarning: '+init=<authority>:<code>' syntax is deprecated. '<authority>:<code>' is the preferred initialization method. When making the change, be mindful of axis order changes: https://pyproj4.github.io/pyproj/stable/gotchas.html#axis-order-changes-in-proj-6\n",
      "  return _prepare_from_string(\" \".join(pjargs))\n",
      "/home/rpartsey/.virtualenvs/change_detection/lib/python3.6/site-packages/pyproj/crs/crs.py:53: FutureWarning: '+init=<authority>:<code>' syntax is deprecated. '<authority>:<code>' is the preferred initialization method. When making the change, be mindful of axis order changes: https://pyproj4.github.io/pyproj/stable/gotchas.html#axis-order-changes-in-proj-6\n",
      "  return _prepare_from_string(\" \".join(pjargs))\n",
      "/home/rpartsey/.virtualenvs/change_detection/lib/python3.6/site-packages/pyproj/crs/crs.py:53: FutureWarning: '+init=<authority>:<code>' syntax is deprecated. '<authority>:<code>' is the preferred initialization method. When making the change, be mindful of axis order changes: https://pyproj4.github.io/pyproj/stable/gotchas.html#axis-order-changes-in-proj-6\n",
      "  return _prepare_from_string(\" \".join(pjargs))\n",
      "/home/rpartsey/.virtualenvs/change_detection/lib/python3.6/site-packages/pyproj/crs/crs.py:53: FutureWarning: '+init=<authority>:<code>' syntax is deprecated. '<authority>:<code>' is the preferred initialization method. When making the change, be mindful of axis order changes: https://pyproj4.github.io/pyproj/stable/gotchas.html#axis-order-changes-in-proj-6\n",
      "  return _prepare_from_string(\" \".join(pjargs))\n",
      "/home/rpartsey/.virtualenvs/change_detection/lib/python3.6/site-packages/pyproj/crs/crs.py:53: FutureWarning: '+init=<authority>:<code>' syntax is deprecated. '<authority>:<code>' is the preferred initialization method. When making the change, be mindful of axis order changes: https://pyproj4.github.io/pyproj/stable/gotchas.html#axis-order-changes-in-proj-6\n",
      "  return _prepare_from_string(\" \".join(pjargs))\n",
      "/home/rpartsey/.virtualenvs/change_detection/lib/python3.6/site-packages/pyproj/crs/crs.py:53: FutureWarning: '+init=<authority>:<code>' syntax is deprecated. '<authority>:<code>' is the preferred initialization method. When making the change, be mindful of axis order changes: https://pyproj4.github.io/pyproj/stable/gotchas.html#axis-order-changes-in-proj-6\n",
      "  return _prepare_from_string(\" \".join(pjargs))\n",
      "/home/rpartsey/.virtualenvs/change_detection/lib/python3.6/site-packages/pyproj/crs/crs.py:53: FutureWarning: '+init=<authority>:<code>' syntax is deprecated. '<authority>:<code>' is the preferred initialization method. When making the change, be mindful of axis order changes: https://pyproj4.github.io/pyproj/stable/gotchas.html#axis-order-changes-in-proj-6\n",
      "  return _prepare_from_string(\" \".join(pjargs))\n",
      "/home/rpartsey/.virtualenvs/change_detection/lib/python3.6/site-packages/pyproj/crs/crs.py:53: FutureWarning: '+init=<authority>:<code>' syntax is deprecated. '<authority>:<code>' is the preferred initialization method. When making the change, be mindful of axis order changes: https://pyproj4.github.io/pyproj/stable/gotchas.html#axis-order-changes-in-proj-6\n",
      "  return _prepare_from_string(\" \".join(pjargs))\n",
      "/home/rpartsey/.virtualenvs/change_detection/lib/python3.6/site-packages/pyproj/crs/crs.py:53: FutureWarning: '+init=<authority>:<code>' syntax is deprecated. '<authority>:<code>' is the preferred initialization method. When making the change, be mindful of axis order changes: https://pyproj4.github.io/pyproj/stable/gotchas.html#axis-order-changes-in-proj-6\n",
      "  return _prepare_from_string(\" \".join(pjargs))\n",
      "/home/rpartsey/.virtualenvs/change_detection/lib/python3.6/site-packages/pyproj/crs/crs.py:53: FutureWarning: '+init=<authority>:<code>' syntax is deprecated. '<authority>:<code>' is the preferred initialization method. When making the change, be mindful of axis order changes: https://pyproj4.github.io/pyproj/stable/gotchas.html#axis-order-changes-in-proj-6\n",
      "  return _prepare_from_string(\" \".join(pjargs))\n",
      "/home/rpartsey/.virtualenvs/change_detection/lib/python3.6/site-packages/pyproj/crs/crs.py:53: FutureWarning: '+init=<authority>:<code>' syntax is deprecated. '<authority>:<code>' is the preferred initialization method. When making the change, be mindful of axis order changes: https://pyproj4.github.io/pyproj/stable/gotchas.html#axis-order-changes-in-proj-6\n",
      "  return _prepare_from_string(\" \".join(pjargs))\n",
      "/home/rpartsey/.virtualenvs/change_detection/lib/python3.6/site-packages/pyproj/crs/crs.py:53: FutureWarning: '+init=<authority>:<code>' syntax is deprecated. '<authority>:<code>' is the preferred initialization method. When making the change, be mindful of axis order changes: https://pyproj4.github.io/pyproj/stable/gotchas.html#axis-order-changes-in-proj-6\n",
      "  return _prepare_from_string(\" \".join(pjargs))\n",
      "/home/rpartsey/.virtualenvs/change_detection/lib/python3.6/site-packages/pyproj/crs/crs.py:53: FutureWarning: '+init=<authority>:<code>' syntax is deprecated. '<authority>:<code>' is the preferred initialization method. When making the change, be mindful of axis order changes: https://pyproj4.github.io/pyproj/stable/gotchas.html#axis-order-changes-in-proj-6\n",
      "  return _prepare_from_string(\" \".join(pjargs))\n"
     ]
    },
    {
     "name": "stderr",
     "output_type": "stream",
     "text": [
      "/home/rpartsey/.virtualenvs/change_detection/lib/python3.6/site-packages/pyproj/crs/crs.py:53: FutureWarning: '+init=<authority>:<code>' syntax is deprecated. '<authority>:<code>' is the preferred initialization method. When making the change, be mindful of axis order changes: https://pyproj4.github.io/pyproj/stable/gotchas.html#axis-order-changes-in-proj-6\n",
      "  return _prepare_from_string(\" \".join(pjargs))\n",
      "/home/rpartsey/.virtualenvs/change_detection/lib/python3.6/site-packages/pyproj/crs/crs.py:53: FutureWarning: '+init=<authority>:<code>' syntax is deprecated. '<authority>:<code>' is the preferred initialization method. When making the change, be mindful of axis order changes: https://pyproj4.github.io/pyproj/stable/gotchas.html#axis-order-changes-in-proj-6\n",
      "  return _prepare_from_string(\" \".join(pjargs))\n",
      "/home/rpartsey/.virtualenvs/change_detection/lib/python3.6/site-packages/pyproj/crs/crs.py:53: FutureWarning: '+init=<authority>:<code>' syntax is deprecated. '<authority>:<code>' is the preferred initialization method. When making the change, be mindful of axis order changes: https://pyproj4.github.io/pyproj/stable/gotchas.html#axis-order-changes-in-proj-6\n",
      "  return _prepare_from_string(\" \".join(pjargs))\n",
      "/home/rpartsey/.virtualenvs/change_detection/lib/python3.6/site-packages/pyproj/crs/crs.py:53: FutureWarning: '+init=<authority>:<code>' syntax is deprecated. '<authority>:<code>' is the preferred initialization method. When making the change, be mindful of axis order changes: https://pyproj4.github.io/pyproj/stable/gotchas.html#axis-order-changes-in-proj-6\n",
      "  return _prepare_from_string(\" \".join(pjargs))\n",
      "/home/rpartsey/.virtualenvs/change_detection/lib/python3.6/site-packages/pyproj/crs/crs.py:53: FutureWarning: '+init=<authority>:<code>' syntax is deprecated. '<authority>:<code>' is the preferred initialization method. When making the change, be mindful of axis order changes: https://pyproj4.github.io/pyproj/stable/gotchas.html#axis-order-changes-in-proj-6\n",
      "  return _prepare_from_string(\" \".join(pjargs))\n",
      "/home/rpartsey/.virtualenvs/change_detection/lib/python3.6/site-packages/pyproj/crs/crs.py:53: FutureWarning: '+init=<authority>:<code>' syntax is deprecated. '<authority>:<code>' is the preferred initialization method. When making the change, be mindful of axis order changes: https://pyproj4.github.io/pyproj/stable/gotchas.html#axis-order-changes-in-proj-6\n",
      "  return _prepare_from_string(\" \".join(pjargs))\n",
      "/home/rpartsey/.virtualenvs/change_detection/lib/python3.6/site-packages/pyproj/crs/crs.py:53: FutureWarning: '+init=<authority>:<code>' syntax is deprecated. '<authority>:<code>' is the preferred initialization method. When making the change, be mindful of axis order changes: https://pyproj4.github.io/pyproj/stable/gotchas.html#axis-order-changes-in-proj-6\n",
      "  return _prepare_from_string(\" \".join(pjargs))\n",
      "/home/rpartsey/.virtualenvs/change_detection/lib/python3.6/site-packages/pyproj/crs/crs.py:53: FutureWarning: '+init=<authority>:<code>' syntax is deprecated. '<authority>:<code>' is the preferred initialization method. When making the change, be mindful of axis order changes: https://pyproj4.github.io/pyproj/stable/gotchas.html#axis-order-changes-in-proj-6\n",
      "  return _prepare_from_string(\" \".join(pjargs))\n",
      "/home/rpartsey/.virtualenvs/change_detection/lib/python3.6/site-packages/pyproj/crs/crs.py:53: FutureWarning: '+init=<authority>:<code>' syntax is deprecated. '<authority>:<code>' is the preferred initialization method. When making the change, be mindful of axis order changes: https://pyproj4.github.io/pyproj/stable/gotchas.html#axis-order-changes-in-proj-6\n",
      "  return _prepare_from_string(\" \".join(pjargs))\n",
      "/home/rpartsey/.virtualenvs/change_detection/lib/python3.6/site-packages/pyproj/crs/crs.py:53: FutureWarning: '+init=<authority>:<code>' syntax is deprecated. '<authority>:<code>' is the preferred initialization method. When making the change, be mindful of axis order changes: https://pyproj4.github.io/pyproj/stable/gotchas.html#axis-order-changes-in-proj-6\n",
      "  return _prepare_from_string(\" \".join(pjargs))\n",
      "/home/rpartsey/.virtualenvs/change_detection/lib/python3.6/site-packages/pyproj/crs/crs.py:53: FutureWarning: '+init=<authority>:<code>' syntax is deprecated. '<authority>:<code>' is the preferred initialization method. When making the change, be mindful of axis order changes: https://pyproj4.github.io/pyproj/stable/gotchas.html#axis-order-changes-in-proj-6\n",
      "  return _prepare_from_string(\" \".join(pjargs))\n",
      "/home/rpartsey/.virtualenvs/change_detection/lib/python3.6/site-packages/pyproj/crs/crs.py:53: FutureWarning: '+init=<authority>:<code>' syntax is deprecated. '<authority>:<code>' is the preferred initialization method. When making the change, be mindful of axis order changes: https://pyproj4.github.io/pyproj/stable/gotchas.html#axis-order-changes-in-proj-6\n",
      "  return _prepare_from_string(\" \".join(pjargs))\n",
      "/home/rpartsey/.virtualenvs/change_detection/lib/python3.6/site-packages/pyproj/crs/crs.py:53: FutureWarning: '+init=<authority>:<code>' syntax is deprecated. '<authority>:<code>' is the preferred initialization method. When making the change, be mindful of axis order changes: https://pyproj4.github.io/pyproj/stable/gotchas.html#axis-order-changes-in-proj-6\n",
      "  return _prepare_from_string(\" \".join(pjargs))\n",
      "/home/rpartsey/.virtualenvs/change_detection/lib/python3.6/site-packages/pyproj/crs/crs.py:53: FutureWarning: '+init=<authority>:<code>' syntax is deprecated. '<authority>:<code>' is the preferred initialization method. When making the change, be mindful of axis order changes: https://pyproj4.github.io/pyproj/stable/gotchas.html#axis-order-changes-in-proj-6\n",
      "  return _prepare_from_string(\" \".join(pjargs))\n",
      "/home/rpartsey/.virtualenvs/change_detection/lib/python3.6/site-packages/pyproj/crs/crs.py:53: FutureWarning: '+init=<authority>:<code>' syntax is deprecated. '<authority>:<code>' is the preferred initialization method. When making the change, be mindful of axis order changes: https://pyproj4.github.io/pyproj/stable/gotchas.html#axis-order-changes-in-proj-6\n",
      "  return _prepare_from_string(\" \".join(pjargs))\n",
      "/home/rpartsey/.virtualenvs/change_detection/lib/python3.6/site-packages/pyproj/crs/crs.py:53: FutureWarning: '+init=<authority>:<code>' syntax is deprecated. '<authority>:<code>' is the preferred initialization method. When making the change, be mindful of axis order changes: https://pyproj4.github.io/pyproj/stable/gotchas.html#axis-order-changes-in-proj-6\n",
      "  return _prepare_from_string(\" \".join(pjargs))\n",
      "/home/rpartsey/.virtualenvs/change_detection/lib/python3.6/site-packages/pyproj/crs/crs.py:53: FutureWarning: '+init=<authority>:<code>' syntax is deprecated. '<authority>:<code>' is the preferred initialization method. When making the change, be mindful of axis order changes: https://pyproj4.github.io/pyproj/stable/gotchas.html#axis-order-changes-in-proj-6\n",
      "  return _prepare_from_string(\" \".join(pjargs))\n",
      "/home/rpartsey/.virtualenvs/change_detection/lib/python3.6/site-packages/pyproj/crs/crs.py:53: FutureWarning: '+init=<authority>:<code>' syntax is deprecated. '<authority>:<code>' is the preferred initialization method. When making the change, be mindful of axis order changes: https://pyproj4.github.io/pyproj/stable/gotchas.html#axis-order-changes-in-proj-6\n",
      "  return _prepare_from_string(\" \".join(pjargs))\n",
      "/home/rpartsey/.virtualenvs/change_detection/lib/python3.6/site-packages/pyproj/crs/crs.py:53: FutureWarning: '+init=<authority>:<code>' syntax is deprecated. '<authority>:<code>' is the preferred initialization method. When making the change, be mindful of axis order changes: https://pyproj4.github.io/pyproj/stable/gotchas.html#axis-order-changes-in-proj-6\n",
      "  return _prepare_from_string(\" \".join(pjargs))\n",
      "/home/rpartsey/.virtualenvs/change_detection/lib/python3.6/site-packages/pyproj/crs/crs.py:53: FutureWarning: '+init=<authority>:<code>' syntax is deprecated. '<authority>:<code>' is the preferred initialization method. When making the change, be mindful of axis order changes: https://pyproj4.github.io/pyproj/stable/gotchas.html#axis-order-changes-in-proj-6\n",
      "  return _prepare_from_string(\" \".join(pjargs))\n",
      "/home/rpartsey/.virtualenvs/change_detection/lib/python3.6/site-packages/pyproj/crs/crs.py:53: FutureWarning: '+init=<authority>:<code>' syntax is deprecated. '<authority>:<code>' is the preferred initialization method. When making the change, be mindful of axis order changes: https://pyproj4.github.io/pyproj/stable/gotchas.html#axis-order-changes-in-proj-6\n",
      "  return _prepare_from_string(\" \".join(pjargs))\n",
      "/home/rpartsey/.virtualenvs/change_detection/lib/python3.6/site-packages/pyproj/crs/crs.py:53: FutureWarning: '+init=<authority>:<code>' syntax is deprecated. '<authority>:<code>' is the preferred initialization method. When making the change, be mindful of axis order changes: https://pyproj4.github.io/pyproj/stable/gotchas.html#axis-order-changes-in-proj-6\n",
      "  return _prepare_from_string(\" \".join(pjargs))\n"
     ]
    },
    {
     "name": "stderr",
     "output_type": "stream",
     "text": [
      "/home/rpartsey/.virtualenvs/change_detection/lib/python3.6/site-packages/pyproj/crs/crs.py:53: FutureWarning: '+init=<authority>:<code>' syntax is deprecated. '<authority>:<code>' is the preferred initialization method. When making the change, be mindful of axis order changes: https://pyproj4.github.io/pyproj/stable/gotchas.html#axis-order-changes-in-proj-6\n",
      "  return _prepare_from_string(\" \".join(pjargs))\n",
      "/home/rpartsey/.virtualenvs/change_detection/lib/python3.6/site-packages/pyproj/crs/crs.py:53: FutureWarning: '+init=<authority>:<code>' syntax is deprecated. '<authority>:<code>' is the preferred initialization method. When making the change, be mindful of axis order changes: https://pyproj4.github.io/pyproj/stable/gotchas.html#axis-order-changes-in-proj-6\n",
      "  return _prepare_from_string(\" \".join(pjargs))\n",
      "/home/rpartsey/.virtualenvs/change_detection/lib/python3.6/site-packages/pyproj/crs/crs.py:53: FutureWarning: '+init=<authority>:<code>' syntax is deprecated. '<authority>:<code>' is the preferred initialization method. When making the change, be mindful of axis order changes: https://pyproj4.github.io/pyproj/stable/gotchas.html#axis-order-changes-in-proj-6\n",
      "  return _prepare_from_string(\" \".join(pjargs))\n",
      "/home/rpartsey/.virtualenvs/change_detection/lib/python3.6/site-packages/pyproj/crs/crs.py:53: FutureWarning: '+init=<authority>:<code>' syntax is deprecated. '<authority>:<code>' is the preferred initialization method. When making the change, be mindful of axis order changes: https://pyproj4.github.io/pyproj/stable/gotchas.html#axis-order-changes-in-proj-6\n",
      "  return _prepare_from_string(\" \".join(pjargs))\n",
      "/home/rpartsey/.virtualenvs/change_detection/lib/python3.6/site-packages/pyproj/crs/crs.py:53: FutureWarning: '+init=<authority>:<code>' syntax is deprecated. '<authority>:<code>' is the preferred initialization method. When making the change, be mindful of axis order changes: https://pyproj4.github.io/pyproj/stable/gotchas.html#axis-order-changes-in-proj-6\n",
      "  return _prepare_from_string(\" \".join(pjargs))\n",
      "/home/rpartsey/.virtualenvs/change_detection/lib/python3.6/site-packages/pyproj/crs/crs.py:53: FutureWarning: '+init=<authority>:<code>' syntax is deprecated. '<authority>:<code>' is the preferred initialization method. When making the change, be mindful of axis order changes: https://pyproj4.github.io/pyproj/stable/gotchas.html#axis-order-changes-in-proj-6\n",
      "  return _prepare_from_string(\" \".join(pjargs))\n",
      "/home/rpartsey/.virtualenvs/change_detection/lib/python3.6/site-packages/pyproj/crs/crs.py:53: FutureWarning: '+init=<authority>:<code>' syntax is deprecated. '<authority>:<code>' is the preferred initialization method. When making the change, be mindful of axis order changes: https://pyproj4.github.io/pyproj/stable/gotchas.html#axis-order-changes-in-proj-6\n",
      "  return _prepare_from_string(\" \".join(pjargs))\n",
      "/home/rpartsey/.virtualenvs/change_detection/lib/python3.6/site-packages/pyproj/crs/crs.py:53: FutureWarning: '+init=<authority>:<code>' syntax is deprecated. '<authority>:<code>' is the preferred initialization method. When making the change, be mindful of axis order changes: https://pyproj4.github.io/pyproj/stable/gotchas.html#axis-order-changes-in-proj-6\n",
      "  return _prepare_from_string(\" \".join(pjargs))\n",
      "/home/rpartsey/.virtualenvs/change_detection/lib/python3.6/site-packages/pyproj/crs/crs.py:53: FutureWarning: '+init=<authority>:<code>' syntax is deprecated. '<authority>:<code>' is the preferred initialization method. When making the change, be mindful of axis order changes: https://pyproj4.github.io/pyproj/stable/gotchas.html#axis-order-changes-in-proj-6\n",
      "  return _prepare_from_string(\" \".join(pjargs))\n",
      "/home/rpartsey/.virtualenvs/change_detection/lib/python3.6/site-packages/pyproj/crs/crs.py:53: FutureWarning: '+init=<authority>:<code>' syntax is deprecated. '<authority>:<code>' is the preferred initialization method. When making the change, be mindful of axis order changes: https://pyproj4.github.io/pyproj/stable/gotchas.html#axis-order-changes-in-proj-6\n",
      "  return _prepare_from_string(\" \".join(pjargs))\n",
      "/home/rpartsey/.virtualenvs/change_detection/lib/python3.6/site-packages/pyproj/crs/crs.py:53: FutureWarning: '+init=<authority>:<code>' syntax is deprecated. '<authority>:<code>' is the preferred initialization method. When making the change, be mindful of axis order changes: https://pyproj4.github.io/pyproj/stable/gotchas.html#axis-order-changes-in-proj-6\n",
      "  return _prepare_from_string(\" \".join(pjargs))\n",
      "/home/rpartsey/.virtualenvs/change_detection/lib/python3.6/site-packages/pyproj/crs/crs.py:53: FutureWarning: '+init=<authority>:<code>' syntax is deprecated. '<authority>:<code>' is the preferred initialization method. When making the change, be mindful of axis order changes: https://pyproj4.github.io/pyproj/stable/gotchas.html#axis-order-changes-in-proj-6\n",
      "  return _prepare_from_string(\" \".join(pjargs))\n",
      "/home/rpartsey/.virtualenvs/change_detection/lib/python3.6/site-packages/pyproj/crs/crs.py:53: FutureWarning: '+init=<authority>:<code>' syntax is deprecated. '<authority>:<code>' is the preferred initialization method. When making the change, be mindful of axis order changes: https://pyproj4.github.io/pyproj/stable/gotchas.html#axis-order-changes-in-proj-6\n",
      "  return _prepare_from_string(\" \".join(pjargs))\n",
      "/home/rpartsey/.virtualenvs/change_detection/lib/python3.6/site-packages/pyproj/crs/crs.py:53: FutureWarning: '+init=<authority>:<code>' syntax is deprecated. '<authority>:<code>' is the preferred initialization method. When making the change, be mindful of axis order changes: https://pyproj4.github.io/pyproj/stable/gotchas.html#axis-order-changes-in-proj-6\n",
      "  return _prepare_from_string(\" \".join(pjargs))\n",
      "/home/rpartsey/.virtualenvs/change_detection/lib/python3.6/site-packages/pyproj/crs/crs.py:53: FutureWarning: '+init=<authority>:<code>' syntax is deprecated. '<authority>:<code>' is the preferred initialization method. When making the change, be mindful of axis order changes: https://pyproj4.github.io/pyproj/stable/gotchas.html#axis-order-changes-in-proj-6\n",
      "  return _prepare_from_string(\" \".join(pjargs))\n",
      "/home/rpartsey/.virtualenvs/change_detection/lib/python3.6/site-packages/pyproj/crs/crs.py:53: FutureWarning: '+init=<authority>:<code>' syntax is deprecated. '<authority>:<code>' is the preferred initialization method. When making the change, be mindful of axis order changes: https://pyproj4.github.io/pyproj/stable/gotchas.html#axis-order-changes-in-proj-6\n",
      "  return _prepare_from_string(\" \".join(pjargs))\n",
      "/home/rpartsey/.virtualenvs/change_detection/lib/python3.6/site-packages/pyproj/crs/crs.py:53: FutureWarning: '+init=<authority>:<code>' syntax is deprecated. '<authority>:<code>' is the preferred initialization method. When making the change, be mindful of axis order changes: https://pyproj4.github.io/pyproj/stable/gotchas.html#axis-order-changes-in-proj-6\n",
      "  return _prepare_from_string(\" \".join(pjargs))\n",
      "/home/rpartsey/.virtualenvs/change_detection/lib/python3.6/site-packages/pyproj/crs/crs.py:53: FutureWarning: '+init=<authority>:<code>' syntax is deprecated. '<authority>:<code>' is the preferred initialization method. When making the change, be mindful of axis order changes: https://pyproj4.github.io/pyproj/stable/gotchas.html#axis-order-changes-in-proj-6\n",
      "  return _prepare_from_string(\" \".join(pjargs))\n",
      "/home/rpartsey/.virtualenvs/change_detection/lib/python3.6/site-packages/pyproj/crs/crs.py:53: FutureWarning: '+init=<authority>:<code>' syntax is deprecated. '<authority>:<code>' is the preferred initialization method. When making the change, be mindful of axis order changes: https://pyproj4.github.io/pyproj/stable/gotchas.html#axis-order-changes-in-proj-6\n",
      "  return _prepare_from_string(\" \".join(pjargs))\n",
      "/home/rpartsey/.virtualenvs/change_detection/lib/python3.6/site-packages/pyproj/crs/crs.py:53: FutureWarning: '+init=<authority>:<code>' syntax is deprecated. '<authority>:<code>' is the preferred initialization method. When making the change, be mindful of axis order changes: https://pyproj4.github.io/pyproj/stable/gotchas.html#axis-order-changes-in-proj-6\n",
      "  return _prepare_from_string(\" \".join(pjargs))\n",
      "/home/rpartsey/.virtualenvs/change_detection/lib/python3.6/site-packages/pyproj/crs/crs.py:53: FutureWarning: '+init=<authority>:<code>' syntax is deprecated. '<authority>:<code>' is the preferred initialization method. When making the change, be mindful of axis order changes: https://pyproj4.github.io/pyproj/stable/gotchas.html#axis-order-changes-in-proj-6\n",
      "  return _prepare_from_string(\" \".join(pjargs))\n",
      "/home/rpartsey/.virtualenvs/change_detection/lib/python3.6/site-packages/pyproj/crs/crs.py:53: FutureWarning: '+init=<authority>:<code>' syntax is deprecated. '<authority>:<code>' is the preferred initialization method. When making the change, be mindful of axis order changes: https://pyproj4.github.io/pyproj/stable/gotchas.html#axis-order-changes-in-proj-6\n",
      "  return _prepare_from_string(\" \".join(pjargs))\n",
      "/home/rpartsey/.virtualenvs/change_detection/lib/python3.6/site-packages/pyproj/crs/crs.py:53: FutureWarning: '+init=<authority>:<code>' syntax is deprecated. '<authority>:<code>' is the preferred initialization method. When making the change, be mindful of axis order changes: https://pyproj4.github.io/pyproj/stable/gotchas.html#axis-order-changes-in-proj-6\n",
      "  return _prepare_from_string(\" \".join(pjargs))\n",
      "/home/rpartsey/.virtualenvs/change_detection/lib/python3.6/site-packages/pyproj/crs/crs.py:53: FutureWarning: '+init=<authority>:<code>' syntax is deprecated. '<authority>:<code>' is the preferred initialization method. When making the change, be mindful of axis order changes: https://pyproj4.github.io/pyproj/stable/gotchas.html#axis-order-changes-in-proj-6\n",
      "  return _prepare_from_string(\" \".join(pjargs))\n",
      "/home/rpartsey/.virtualenvs/change_detection/lib/python3.6/site-packages/pyproj/crs/crs.py:53: FutureWarning: '+init=<authority>:<code>' syntax is deprecated. '<authority>:<code>' is the preferred initialization method. When making the change, be mindful of axis order changes: https://pyproj4.github.io/pyproj/stable/gotchas.html#axis-order-changes-in-proj-6\n",
      "  return _prepare_from_string(\" \".join(pjargs))\n"
     ]
    },
    {
     "name": "stderr",
     "output_type": "stream",
     "text": [
      "/home/rpartsey/.virtualenvs/change_detection/lib/python3.6/site-packages/pyproj/crs/crs.py:53: FutureWarning: '+init=<authority>:<code>' syntax is deprecated. '<authority>:<code>' is the preferred initialization method. When making the change, be mindful of axis order changes: https://pyproj4.github.io/pyproj/stable/gotchas.html#axis-order-changes-in-proj-6\n",
      "  return _prepare_from_string(\" \".join(pjargs))\n",
      "/home/rpartsey/.virtualenvs/change_detection/lib/python3.6/site-packages/pyproj/crs/crs.py:53: FutureWarning: '+init=<authority>:<code>' syntax is deprecated. '<authority>:<code>' is the preferred initialization method. When making the change, be mindful of axis order changes: https://pyproj4.github.io/pyproj/stable/gotchas.html#axis-order-changes-in-proj-6\n",
      "  return _prepare_from_string(\" \".join(pjargs))\n",
      "/home/rpartsey/.virtualenvs/change_detection/lib/python3.6/site-packages/pyproj/crs/crs.py:53: FutureWarning: '+init=<authority>:<code>' syntax is deprecated. '<authority>:<code>' is the preferred initialization method. When making the change, be mindful of axis order changes: https://pyproj4.github.io/pyproj/stable/gotchas.html#axis-order-changes-in-proj-6\n",
      "  return _prepare_from_string(\" \".join(pjargs))\n",
      "/home/rpartsey/.virtualenvs/change_detection/lib/python3.6/site-packages/pyproj/crs/crs.py:53: FutureWarning: '+init=<authority>:<code>' syntax is deprecated. '<authority>:<code>' is the preferred initialization method. When making the change, be mindful of axis order changes: https://pyproj4.github.io/pyproj/stable/gotchas.html#axis-order-changes-in-proj-6\n",
      "  return _prepare_from_string(\" \".join(pjargs))\n",
      "/home/rpartsey/.virtualenvs/change_detection/lib/python3.6/site-packages/pyproj/crs/crs.py:53: FutureWarning: '+init=<authority>:<code>' syntax is deprecated. '<authority>:<code>' is the preferred initialization method. When making the change, be mindful of axis order changes: https://pyproj4.github.io/pyproj/stable/gotchas.html#axis-order-changes-in-proj-6\n",
      "  return _prepare_from_string(\" \".join(pjargs))\n",
      "/home/rpartsey/.virtualenvs/change_detection/lib/python3.6/site-packages/pyproj/crs/crs.py:53: FutureWarning: '+init=<authority>:<code>' syntax is deprecated. '<authority>:<code>' is the preferred initialization method. When making the change, be mindful of axis order changes: https://pyproj4.github.io/pyproj/stable/gotchas.html#axis-order-changes-in-proj-6\n",
      "  return _prepare_from_string(\" \".join(pjargs))\n",
      "/home/rpartsey/.virtualenvs/change_detection/lib/python3.6/site-packages/pyproj/crs/crs.py:53: FutureWarning: '+init=<authority>:<code>' syntax is deprecated. '<authority>:<code>' is the preferred initialization method. When making the change, be mindful of axis order changes: https://pyproj4.github.io/pyproj/stable/gotchas.html#axis-order-changes-in-proj-6\n",
      "  return _prepare_from_string(\" \".join(pjargs))\n",
      "/home/rpartsey/.virtualenvs/change_detection/lib/python3.6/site-packages/pyproj/crs/crs.py:53: FutureWarning: '+init=<authority>:<code>' syntax is deprecated. '<authority>:<code>' is the preferred initialization method. When making the change, be mindful of axis order changes: https://pyproj4.github.io/pyproj/stable/gotchas.html#axis-order-changes-in-proj-6\n",
      "  return _prepare_from_string(\" \".join(pjargs))\n",
      "/home/rpartsey/.virtualenvs/change_detection/lib/python3.6/site-packages/pyproj/crs/crs.py:53: FutureWarning: '+init=<authority>:<code>' syntax is deprecated. '<authority>:<code>' is the preferred initialization method. When making the change, be mindful of axis order changes: https://pyproj4.github.io/pyproj/stable/gotchas.html#axis-order-changes-in-proj-6\n",
      "  return _prepare_from_string(\" \".join(pjargs))\n",
      "/home/rpartsey/.virtualenvs/change_detection/lib/python3.6/site-packages/pyproj/crs/crs.py:53: FutureWarning: '+init=<authority>:<code>' syntax is deprecated. '<authority>:<code>' is the preferred initialization method. When making the change, be mindful of axis order changes: https://pyproj4.github.io/pyproj/stable/gotchas.html#axis-order-changes-in-proj-6\n",
      "  return _prepare_from_string(\" \".join(pjargs))\n",
      "/home/rpartsey/.virtualenvs/change_detection/lib/python3.6/site-packages/pyproj/crs/crs.py:53: FutureWarning: '+init=<authority>:<code>' syntax is deprecated. '<authority>:<code>' is the preferred initialization method. When making the change, be mindful of axis order changes: https://pyproj4.github.io/pyproj/stable/gotchas.html#axis-order-changes-in-proj-6\n",
      "  return _prepare_from_string(\" \".join(pjargs))\n",
      "/home/rpartsey/.virtualenvs/change_detection/lib/python3.6/site-packages/pyproj/crs/crs.py:53: FutureWarning: '+init=<authority>:<code>' syntax is deprecated. '<authority>:<code>' is the preferred initialization method. When making the change, be mindful of axis order changes: https://pyproj4.github.io/pyproj/stable/gotchas.html#axis-order-changes-in-proj-6\n",
      "  return _prepare_from_string(\" \".join(pjargs))\n",
      "/home/rpartsey/.virtualenvs/change_detection/lib/python3.6/site-packages/pyproj/crs/crs.py:53: FutureWarning: '+init=<authority>:<code>' syntax is deprecated. '<authority>:<code>' is the preferred initialization method. When making the change, be mindful of axis order changes: https://pyproj4.github.io/pyproj/stable/gotchas.html#axis-order-changes-in-proj-6\n",
      "  return _prepare_from_string(\" \".join(pjargs))\n",
      "/home/rpartsey/.virtualenvs/change_detection/lib/python3.6/site-packages/pyproj/crs/crs.py:53: FutureWarning: '+init=<authority>:<code>' syntax is deprecated. '<authority>:<code>' is the preferred initialization method. When making the change, be mindful of axis order changes: https://pyproj4.github.io/pyproj/stable/gotchas.html#axis-order-changes-in-proj-6\n",
      "  return _prepare_from_string(\" \".join(pjargs))\n",
      "/home/rpartsey/.virtualenvs/change_detection/lib/python3.6/site-packages/pyproj/crs/crs.py:53: FutureWarning: '+init=<authority>:<code>' syntax is deprecated. '<authority>:<code>' is the preferred initialization method. When making the change, be mindful of axis order changes: https://pyproj4.github.io/pyproj/stable/gotchas.html#axis-order-changes-in-proj-6\n",
      "  return _prepare_from_string(\" \".join(pjargs))\n",
      "/home/rpartsey/.virtualenvs/change_detection/lib/python3.6/site-packages/pyproj/crs/crs.py:53: FutureWarning: '+init=<authority>:<code>' syntax is deprecated. '<authority>:<code>' is the preferred initialization method. When making the change, be mindful of axis order changes: https://pyproj4.github.io/pyproj/stable/gotchas.html#axis-order-changes-in-proj-6\n",
      "  return _prepare_from_string(\" \".join(pjargs))\n",
      "/home/rpartsey/.virtualenvs/change_detection/lib/python3.6/site-packages/pyproj/crs/crs.py:53: FutureWarning: '+init=<authority>:<code>' syntax is deprecated. '<authority>:<code>' is the preferred initialization method. When making the change, be mindful of axis order changes: https://pyproj4.github.io/pyproj/stable/gotchas.html#axis-order-changes-in-proj-6\n",
      "  return _prepare_from_string(\" \".join(pjargs))\n",
      "/home/rpartsey/.virtualenvs/change_detection/lib/python3.6/site-packages/pyproj/crs/crs.py:53: FutureWarning: '+init=<authority>:<code>' syntax is deprecated. '<authority>:<code>' is the preferred initialization method. When making the change, be mindful of axis order changes: https://pyproj4.github.io/pyproj/stable/gotchas.html#axis-order-changes-in-proj-6\n",
      "  return _prepare_from_string(\" \".join(pjargs))\n",
      "/home/rpartsey/.virtualenvs/change_detection/lib/python3.6/site-packages/pyproj/crs/crs.py:53: FutureWarning: '+init=<authority>:<code>' syntax is deprecated. '<authority>:<code>' is the preferred initialization method. When making the change, be mindful of axis order changes: https://pyproj4.github.io/pyproj/stable/gotchas.html#axis-order-changes-in-proj-6\n",
      "  return _prepare_from_string(\" \".join(pjargs))\n",
      "/home/rpartsey/.virtualenvs/change_detection/lib/python3.6/site-packages/pyproj/crs/crs.py:53: FutureWarning: '+init=<authority>:<code>' syntax is deprecated. '<authority>:<code>' is the preferred initialization method. When making the change, be mindful of axis order changes: https://pyproj4.github.io/pyproj/stable/gotchas.html#axis-order-changes-in-proj-6\n",
      "  return _prepare_from_string(\" \".join(pjargs))\n",
      "/home/rpartsey/.virtualenvs/change_detection/lib/python3.6/site-packages/pyproj/crs/crs.py:53: FutureWarning: '+init=<authority>:<code>' syntax is deprecated. '<authority>:<code>' is the preferred initialization method. When making the change, be mindful of axis order changes: https://pyproj4.github.io/pyproj/stable/gotchas.html#axis-order-changes-in-proj-6\n",
      "  return _prepare_from_string(\" \".join(pjargs))\n",
      "/home/rpartsey/.virtualenvs/change_detection/lib/python3.6/site-packages/pyproj/crs/crs.py:53: FutureWarning: '+init=<authority>:<code>' syntax is deprecated. '<authority>:<code>' is the preferred initialization method. When making the change, be mindful of axis order changes: https://pyproj4.github.io/pyproj/stable/gotchas.html#axis-order-changes-in-proj-6\n",
      "  return _prepare_from_string(\" \".join(pjargs))\n",
      "/home/rpartsey/.virtualenvs/change_detection/lib/python3.6/site-packages/pyproj/crs/crs.py:53: FutureWarning: '+init=<authority>:<code>' syntax is deprecated. '<authority>:<code>' is the preferred initialization method. When making the change, be mindful of axis order changes: https://pyproj4.github.io/pyproj/stable/gotchas.html#axis-order-changes-in-proj-6\n",
      "  return _prepare_from_string(\" \".join(pjargs))\n",
      "/home/rpartsey/.virtualenvs/change_detection/lib/python3.6/site-packages/pyproj/crs/crs.py:53: FutureWarning: '+init=<authority>:<code>' syntax is deprecated. '<authority>:<code>' is the preferred initialization method. When making the change, be mindful of axis order changes: https://pyproj4.github.io/pyproj/stable/gotchas.html#axis-order-changes-in-proj-6\n",
      "  return _prepare_from_string(\" \".join(pjargs))\n"
     ]
    },
    {
     "name": "stderr",
     "output_type": "stream",
     "text": [
      "/home/rpartsey/.virtualenvs/change_detection/lib/python3.6/site-packages/pyproj/crs/crs.py:53: FutureWarning: '+init=<authority>:<code>' syntax is deprecated. '<authority>:<code>' is the preferred initialization method. When making the change, be mindful of axis order changes: https://pyproj4.github.io/pyproj/stable/gotchas.html#axis-order-changes-in-proj-6\n",
      "  return _prepare_from_string(\" \".join(pjargs))\n",
      "/home/rpartsey/.virtualenvs/change_detection/lib/python3.6/site-packages/pyproj/crs/crs.py:53: FutureWarning: '+init=<authority>:<code>' syntax is deprecated. '<authority>:<code>' is the preferred initialization method. When making the change, be mindful of axis order changes: https://pyproj4.github.io/pyproj/stable/gotchas.html#axis-order-changes-in-proj-6\n",
      "  return _prepare_from_string(\" \".join(pjargs))\n",
      "/home/rpartsey/.virtualenvs/change_detection/lib/python3.6/site-packages/pyproj/crs/crs.py:53: FutureWarning: '+init=<authority>:<code>' syntax is deprecated. '<authority>:<code>' is the preferred initialization method. When making the change, be mindful of axis order changes: https://pyproj4.github.io/pyproj/stable/gotchas.html#axis-order-changes-in-proj-6\n",
      "  return _prepare_from_string(\" \".join(pjargs))\n",
      "/home/rpartsey/.virtualenvs/change_detection/lib/python3.6/site-packages/pyproj/crs/crs.py:53: FutureWarning: '+init=<authority>:<code>' syntax is deprecated. '<authority>:<code>' is the preferred initialization method. When making the change, be mindful of axis order changes: https://pyproj4.github.io/pyproj/stable/gotchas.html#axis-order-changes-in-proj-6\n",
      "  return _prepare_from_string(\" \".join(pjargs))\n",
      "/home/rpartsey/.virtualenvs/change_detection/lib/python3.6/site-packages/pyproj/crs/crs.py:53: FutureWarning: '+init=<authority>:<code>' syntax is deprecated. '<authority>:<code>' is the preferred initialization method. When making the change, be mindful of axis order changes: https://pyproj4.github.io/pyproj/stable/gotchas.html#axis-order-changes-in-proj-6\n",
      "  return _prepare_from_string(\" \".join(pjargs))\n",
      "/home/rpartsey/.virtualenvs/change_detection/lib/python3.6/site-packages/pyproj/crs/crs.py:53: FutureWarning: '+init=<authority>:<code>' syntax is deprecated. '<authority>:<code>' is the preferred initialization method. When making the change, be mindful of axis order changes: https://pyproj4.github.io/pyproj/stable/gotchas.html#axis-order-changes-in-proj-6\n",
      "  return _prepare_from_string(\" \".join(pjargs))\n",
      "/home/rpartsey/.virtualenvs/change_detection/lib/python3.6/site-packages/pyproj/crs/crs.py:53: FutureWarning: '+init=<authority>:<code>' syntax is deprecated. '<authority>:<code>' is the preferred initialization method. When making the change, be mindful of axis order changes: https://pyproj4.github.io/pyproj/stable/gotchas.html#axis-order-changes-in-proj-6\n",
      "  return _prepare_from_string(\" \".join(pjargs))\n",
      "/home/rpartsey/.virtualenvs/change_detection/lib/python3.6/site-packages/pyproj/crs/crs.py:53: FutureWarning: '+init=<authority>:<code>' syntax is deprecated. '<authority>:<code>' is the preferred initialization method. When making the change, be mindful of axis order changes: https://pyproj4.github.io/pyproj/stable/gotchas.html#axis-order-changes-in-proj-6\n",
      "  return _prepare_from_string(\" \".join(pjargs))\n",
      "/home/rpartsey/.virtualenvs/change_detection/lib/python3.6/site-packages/pyproj/crs/crs.py:53: FutureWarning: '+init=<authority>:<code>' syntax is deprecated. '<authority>:<code>' is the preferred initialization method. When making the change, be mindful of axis order changes: https://pyproj4.github.io/pyproj/stable/gotchas.html#axis-order-changes-in-proj-6\n",
      "  return _prepare_from_string(\" \".join(pjargs))\n",
      "/home/rpartsey/.virtualenvs/change_detection/lib/python3.6/site-packages/pyproj/crs/crs.py:53: FutureWarning: '+init=<authority>:<code>' syntax is deprecated. '<authority>:<code>' is the preferred initialization method. When making the change, be mindful of axis order changes: https://pyproj4.github.io/pyproj/stable/gotchas.html#axis-order-changes-in-proj-6\n",
      "  return _prepare_from_string(\" \".join(pjargs))\n",
      "/home/rpartsey/.virtualenvs/change_detection/lib/python3.6/site-packages/pyproj/crs/crs.py:53: FutureWarning: '+init=<authority>:<code>' syntax is deprecated. '<authority>:<code>' is the preferred initialization method. When making the change, be mindful of axis order changes: https://pyproj4.github.io/pyproj/stable/gotchas.html#axis-order-changes-in-proj-6\n",
      "  return _prepare_from_string(\" \".join(pjargs))\n",
      "/home/rpartsey/.virtualenvs/change_detection/lib/python3.6/site-packages/pyproj/crs/crs.py:53: FutureWarning: '+init=<authority>:<code>' syntax is deprecated. '<authority>:<code>' is the preferred initialization method. When making the change, be mindful of axis order changes: https://pyproj4.github.io/pyproj/stable/gotchas.html#axis-order-changes-in-proj-6\n",
      "  return _prepare_from_string(\" \".join(pjargs))\n",
      "/home/rpartsey/.virtualenvs/change_detection/lib/python3.6/site-packages/pyproj/crs/crs.py:53: FutureWarning: '+init=<authority>:<code>' syntax is deprecated. '<authority>:<code>' is the preferred initialization method. When making the change, be mindful of axis order changes: https://pyproj4.github.io/pyproj/stable/gotchas.html#axis-order-changes-in-proj-6\n",
      "  return _prepare_from_string(\" \".join(pjargs))\n",
      "/home/rpartsey/.virtualenvs/change_detection/lib/python3.6/site-packages/pyproj/crs/crs.py:53: FutureWarning: '+init=<authority>:<code>' syntax is deprecated. '<authority>:<code>' is the preferred initialization method. When making the change, be mindful of axis order changes: https://pyproj4.github.io/pyproj/stable/gotchas.html#axis-order-changes-in-proj-6\n",
      "  return _prepare_from_string(\" \".join(pjargs))\n",
      "/home/rpartsey/.virtualenvs/change_detection/lib/python3.6/site-packages/pyproj/crs/crs.py:53: FutureWarning: '+init=<authority>:<code>' syntax is deprecated. '<authority>:<code>' is the preferred initialization method. When making the change, be mindful of axis order changes: https://pyproj4.github.io/pyproj/stable/gotchas.html#axis-order-changes-in-proj-6\n",
      "  return _prepare_from_string(\" \".join(pjargs))\n",
      "/home/rpartsey/.virtualenvs/change_detection/lib/python3.6/site-packages/pyproj/crs/crs.py:53: FutureWarning: '+init=<authority>:<code>' syntax is deprecated. '<authority>:<code>' is the preferred initialization method. When making the change, be mindful of axis order changes: https://pyproj4.github.io/pyproj/stable/gotchas.html#axis-order-changes-in-proj-6\n",
      "  return _prepare_from_string(\" \".join(pjargs))\n",
      "/home/rpartsey/.virtualenvs/change_detection/lib/python3.6/site-packages/pyproj/crs/crs.py:53: FutureWarning: '+init=<authority>:<code>' syntax is deprecated. '<authority>:<code>' is the preferred initialization method. When making the change, be mindful of axis order changes: https://pyproj4.github.io/pyproj/stable/gotchas.html#axis-order-changes-in-proj-6\n",
      "  return _prepare_from_string(\" \".join(pjargs))\n",
      "/home/rpartsey/.virtualenvs/change_detection/lib/python3.6/site-packages/pyproj/crs/crs.py:53: FutureWarning: '+init=<authority>:<code>' syntax is deprecated. '<authority>:<code>' is the preferred initialization method. When making the change, be mindful of axis order changes: https://pyproj4.github.io/pyproj/stable/gotchas.html#axis-order-changes-in-proj-6\n",
      "  return _prepare_from_string(\" \".join(pjargs))\n",
      "/home/rpartsey/.virtualenvs/change_detection/lib/python3.6/site-packages/pyproj/crs/crs.py:53: FutureWarning: '+init=<authority>:<code>' syntax is deprecated. '<authority>:<code>' is the preferred initialization method. When making the change, be mindful of axis order changes: https://pyproj4.github.io/pyproj/stable/gotchas.html#axis-order-changes-in-proj-6\n",
      "  return _prepare_from_string(\" \".join(pjargs))\n",
      "/home/rpartsey/.virtualenvs/change_detection/lib/python3.6/site-packages/pyproj/crs/crs.py:53: FutureWarning: '+init=<authority>:<code>' syntax is deprecated. '<authority>:<code>' is the preferred initialization method. When making the change, be mindful of axis order changes: https://pyproj4.github.io/pyproj/stable/gotchas.html#axis-order-changes-in-proj-6\n",
      "  return _prepare_from_string(\" \".join(pjargs))\n",
      "/home/rpartsey/.virtualenvs/change_detection/lib/python3.6/site-packages/pyproj/crs/crs.py:53: FutureWarning: '+init=<authority>:<code>' syntax is deprecated. '<authority>:<code>' is the preferred initialization method. When making the change, be mindful of axis order changes: https://pyproj4.github.io/pyproj/stable/gotchas.html#axis-order-changes-in-proj-6\n",
      "  return _prepare_from_string(\" \".join(pjargs))\n",
      "/home/rpartsey/.virtualenvs/change_detection/lib/python3.6/site-packages/pyproj/crs/crs.py:53: FutureWarning: '+init=<authority>:<code>' syntax is deprecated. '<authority>:<code>' is the preferred initialization method. When making the change, be mindful of axis order changes: https://pyproj4.github.io/pyproj/stable/gotchas.html#axis-order-changes-in-proj-6\n",
      "  return _prepare_from_string(\" \".join(pjargs))\n",
      "/home/rpartsey/.virtualenvs/change_detection/lib/python3.6/site-packages/pyproj/crs/crs.py:53: FutureWarning: '+init=<authority>:<code>' syntax is deprecated. '<authority>:<code>' is the preferred initialization method. When making the change, be mindful of axis order changes: https://pyproj4.github.io/pyproj/stable/gotchas.html#axis-order-changes-in-proj-6\n",
      "  return _prepare_from_string(\" \".join(pjargs))\n",
      "/home/rpartsey/.virtualenvs/change_detection/lib/python3.6/site-packages/pyproj/crs/crs.py:53: FutureWarning: '+init=<authority>:<code>' syntax is deprecated. '<authority>:<code>' is the preferred initialization method. When making the change, be mindful of axis order changes: https://pyproj4.github.io/pyproj/stable/gotchas.html#axis-order-changes-in-proj-6\n",
      "  return _prepare_from_string(\" \".join(pjargs))\n",
      "/home/rpartsey/.virtualenvs/change_detection/lib/python3.6/site-packages/pyproj/crs/crs.py:53: FutureWarning: '+init=<authority>:<code>' syntax is deprecated. '<authority>:<code>' is the preferred initialization method. When making the change, be mindful of axis order changes: https://pyproj4.github.io/pyproj/stable/gotchas.html#axis-order-changes-in-proj-6\n",
      "  return _prepare_from_string(\" \".join(pjargs))\n"
     ]
    },
    {
     "name": "stderr",
     "output_type": "stream",
     "text": [
      "/home/rpartsey/.virtualenvs/change_detection/lib/python3.6/site-packages/pyproj/crs/crs.py:53: FutureWarning: '+init=<authority>:<code>' syntax is deprecated. '<authority>:<code>' is the preferred initialization method. When making the change, be mindful of axis order changes: https://pyproj4.github.io/pyproj/stable/gotchas.html#axis-order-changes-in-proj-6\n",
      "  return _prepare_from_string(\" \".join(pjargs))\n",
      "/home/rpartsey/.virtualenvs/change_detection/lib/python3.6/site-packages/pyproj/crs/crs.py:53: FutureWarning: '+init=<authority>:<code>' syntax is deprecated. '<authority>:<code>' is the preferred initialization method. When making the change, be mindful of axis order changes: https://pyproj4.github.io/pyproj/stable/gotchas.html#axis-order-changes-in-proj-6\n",
      "  return _prepare_from_string(\" \".join(pjargs))\n",
      "/home/rpartsey/.virtualenvs/change_detection/lib/python3.6/site-packages/pyproj/crs/crs.py:53: FutureWarning: '+init=<authority>:<code>' syntax is deprecated. '<authority>:<code>' is the preferred initialization method. When making the change, be mindful of axis order changes: https://pyproj4.github.io/pyproj/stable/gotchas.html#axis-order-changes-in-proj-6\n",
      "  return _prepare_from_string(\" \".join(pjargs))\n",
      "/home/rpartsey/.virtualenvs/change_detection/lib/python3.6/site-packages/pyproj/crs/crs.py:53: FutureWarning: '+init=<authority>:<code>' syntax is deprecated. '<authority>:<code>' is the preferred initialization method. When making the change, be mindful of axis order changes: https://pyproj4.github.io/pyproj/stable/gotchas.html#axis-order-changes-in-proj-6\n",
      "  return _prepare_from_string(\" \".join(pjargs))\n",
      "/home/rpartsey/.virtualenvs/change_detection/lib/python3.6/site-packages/pyproj/crs/crs.py:53: FutureWarning: '+init=<authority>:<code>' syntax is deprecated. '<authority>:<code>' is the preferred initialization method. When making the change, be mindful of axis order changes: https://pyproj4.github.io/pyproj/stable/gotchas.html#axis-order-changes-in-proj-6\n",
      "  return _prepare_from_string(\" \".join(pjargs))\n",
      "/home/rpartsey/.virtualenvs/change_detection/lib/python3.6/site-packages/pyproj/crs/crs.py:53: FutureWarning: '+init=<authority>:<code>' syntax is deprecated. '<authority>:<code>' is the preferred initialization method. When making the change, be mindful of axis order changes: https://pyproj4.github.io/pyproj/stable/gotchas.html#axis-order-changes-in-proj-6\n",
      "  return _prepare_from_string(\" \".join(pjargs))\n",
      "/home/rpartsey/.virtualenvs/change_detection/lib/python3.6/site-packages/pyproj/crs/crs.py:53: FutureWarning: '+init=<authority>:<code>' syntax is deprecated. '<authority>:<code>' is the preferred initialization method. When making the change, be mindful of axis order changes: https://pyproj4.github.io/pyproj/stable/gotchas.html#axis-order-changes-in-proj-6\n",
      "  return _prepare_from_string(\" \".join(pjargs))\n",
      "/home/rpartsey/.virtualenvs/change_detection/lib/python3.6/site-packages/pyproj/crs/crs.py:53: FutureWarning: '+init=<authority>:<code>' syntax is deprecated. '<authority>:<code>' is the preferred initialization method. When making the change, be mindful of axis order changes: https://pyproj4.github.io/pyproj/stable/gotchas.html#axis-order-changes-in-proj-6\n",
      "  return _prepare_from_string(\" \".join(pjargs))\n",
      "/home/rpartsey/.virtualenvs/change_detection/lib/python3.6/site-packages/pyproj/crs/crs.py:53: FutureWarning: '+init=<authority>:<code>' syntax is deprecated. '<authority>:<code>' is the preferred initialization method. When making the change, be mindful of axis order changes: https://pyproj4.github.io/pyproj/stable/gotchas.html#axis-order-changes-in-proj-6\n",
      "  return _prepare_from_string(\" \".join(pjargs))\n",
      "/home/rpartsey/.virtualenvs/change_detection/lib/python3.6/site-packages/pyproj/crs/crs.py:53: FutureWarning: '+init=<authority>:<code>' syntax is deprecated. '<authority>:<code>' is the preferred initialization method. When making the change, be mindful of axis order changes: https://pyproj4.github.io/pyproj/stable/gotchas.html#axis-order-changes-in-proj-6\n",
      "  return _prepare_from_string(\" \".join(pjargs))\n",
      "/home/rpartsey/.virtualenvs/change_detection/lib/python3.6/site-packages/pyproj/crs/crs.py:53: FutureWarning: '+init=<authority>:<code>' syntax is deprecated. '<authority>:<code>' is the preferred initialization method. When making the change, be mindful of axis order changes: https://pyproj4.github.io/pyproj/stable/gotchas.html#axis-order-changes-in-proj-6\n",
      "  return _prepare_from_string(\" \".join(pjargs))\n",
      "/home/rpartsey/.virtualenvs/change_detection/lib/python3.6/site-packages/pyproj/crs/crs.py:53: FutureWarning: '+init=<authority>:<code>' syntax is deprecated. '<authority>:<code>' is the preferred initialization method. When making the change, be mindful of axis order changes: https://pyproj4.github.io/pyproj/stable/gotchas.html#axis-order-changes-in-proj-6\n",
      "  return _prepare_from_string(\" \".join(pjargs))\n",
      "/home/rpartsey/.virtualenvs/change_detection/lib/python3.6/site-packages/pyproj/crs/crs.py:53: FutureWarning: '+init=<authority>:<code>' syntax is deprecated. '<authority>:<code>' is the preferred initialization method. When making the change, be mindful of axis order changes: https://pyproj4.github.io/pyproj/stable/gotchas.html#axis-order-changes-in-proj-6\n",
      "  return _prepare_from_string(\" \".join(pjargs))\n",
      "/home/rpartsey/.virtualenvs/change_detection/lib/python3.6/site-packages/pyproj/crs/crs.py:53: FutureWarning: '+init=<authority>:<code>' syntax is deprecated. '<authority>:<code>' is the preferred initialization method. When making the change, be mindful of axis order changes: https://pyproj4.github.io/pyproj/stable/gotchas.html#axis-order-changes-in-proj-6\n",
      "  return _prepare_from_string(\" \".join(pjargs))\n",
      "/home/rpartsey/.virtualenvs/change_detection/lib/python3.6/site-packages/pyproj/crs/crs.py:53: FutureWarning: '+init=<authority>:<code>' syntax is deprecated. '<authority>:<code>' is the preferred initialization method. When making the change, be mindful of axis order changes: https://pyproj4.github.io/pyproj/stable/gotchas.html#axis-order-changes-in-proj-6\n",
      "  return _prepare_from_string(\" \".join(pjargs))\n",
      "/home/rpartsey/.virtualenvs/change_detection/lib/python3.6/site-packages/pyproj/crs/crs.py:53: FutureWarning: '+init=<authority>:<code>' syntax is deprecated. '<authority>:<code>' is the preferred initialization method. When making the change, be mindful of axis order changes: https://pyproj4.github.io/pyproj/stable/gotchas.html#axis-order-changes-in-proj-6\n",
      "  return _prepare_from_string(\" \".join(pjargs))\n",
      "/home/rpartsey/.virtualenvs/change_detection/lib/python3.6/site-packages/pyproj/crs/crs.py:53: FutureWarning: '+init=<authority>:<code>' syntax is deprecated. '<authority>:<code>' is the preferred initialization method. When making the change, be mindful of axis order changes: https://pyproj4.github.io/pyproj/stable/gotchas.html#axis-order-changes-in-proj-6\n",
      "  return _prepare_from_string(\" \".join(pjargs))\n",
      "/home/rpartsey/.virtualenvs/change_detection/lib/python3.6/site-packages/pyproj/crs/crs.py:53: FutureWarning: '+init=<authority>:<code>' syntax is deprecated. '<authority>:<code>' is the preferred initialization method. When making the change, be mindful of axis order changes: https://pyproj4.github.io/pyproj/stable/gotchas.html#axis-order-changes-in-proj-6\n",
      "  return _prepare_from_string(\" \".join(pjargs))\n",
      "/home/rpartsey/.virtualenvs/change_detection/lib/python3.6/site-packages/pyproj/crs/crs.py:53: FutureWarning: '+init=<authority>:<code>' syntax is deprecated. '<authority>:<code>' is the preferred initialization method. When making the change, be mindful of axis order changes: https://pyproj4.github.io/pyproj/stable/gotchas.html#axis-order-changes-in-proj-6\n",
      "  return _prepare_from_string(\" \".join(pjargs))\n",
      "/home/rpartsey/.virtualenvs/change_detection/lib/python3.6/site-packages/pyproj/crs/crs.py:53: FutureWarning: '+init=<authority>:<code>' syntax is deprecated. '<authority>:<code>' is the preferred initialization method. When making the change, be mindful of axis order changes: https://pyproj4.github.io/pyproj/stable/gotchas.html#axis-order-changes-in-proj-6\n",
      "  return _prepare_from_string(\" \".join(pjargs))\n",
      "/home/rpartsey/.virtualenvs/change_detection/lib/python3.6/site-packages/pyproj/crs/crs.py:53: FutureWarning: '+init=<authority>:<code>' syntax is deprecated. '<authority>:<code>' is the preferred initialization method. When making the change, be mindful of axis order changes: https://pyproj4.github.io/pyproj/stable/gotchas.html#axis-order-changes-in-proj-6\n",
      "  return _prepare_from_string(\" \".join(pjargs))\n",
      "/home/rpartsey/.virtualenvs/change_detection/lib/python3.6/site-packages/pyproj/crs/crs.py:53: FutureWarning: '+init=<authority>:<code>' syntax is deprecated. '<authority>:<code>' is the preferred initialization method. When making the change, be mindful of axis order changes: https://pyproj4.github.io/pyproj/stable/gotchas.html#axis-order-changes-in-proj-6\n",
      "  return _prepare_from_string(\" \".join(pjargs))\n",
      "/home/rpartsey/.virtualenvs/change_detection/lib/python3.6/site-packages/pyproj/crs/crs.py:53: FutureWarning: '+init=<authority>:<code>' syntax is deprecated. '<authority>:<code>' is the preferred initialization method. When making the change, be mindful of axis order changes: https://pyproj4.github.io/pyproj/stable/gotchas.html#axis-order-changes-in-proj-6\n",
      "  return _prepare_from_string(\" \".join(pjargs))\n",
      "/home/rpartsey/.virtualenvs/change_detection/lib/python3.6/site-packages/pyproj/crs/crs.py:53: FutureWarning: '+init=<authority>:<code>' syntax is deprecated. '<authority>:<code>' is the preferred initialization method. When making the change, be mindful of axis order changes: https://pyproj4.github.io/pyproj/stable/gotchas.html#axis-order-changes-in-proj-6\n",
      "  return _prepare_from_string(\" \".join(pjargs))\n",
      "/home/rpartsey/.virtualenvs/change_detection/lib/python3.6/site-packages/pyproj/crs/crs.py:53: FutureWarning: '+init=<authority>:<code>' syntax is deprecated. '<authority>:<code>' is the preferred initialization method. When making the change, be mindful of axis order changes: https://pyproj4.github.io/pyproj/stable/gotchas.html#axis-order-changes-in-proj-6\n",
      "  return _prepare_from_string(\" \".join(pjargs))\n"
     ]
    },
    {
     "name": "stderr",
     "output_type": "stream",
     "text": [
      "/home/rpartsey/.virtualenvs/change_detection/lib/python3.6/site-packages/pyproj/crs/crs.py:53: FutureWarning: '+init=<authority>:<code>' syntax is deprecated. '<authority>:<code>' is the preferred initialization method. When making the change, be mindful of axis order changes: https://pyproj4.github.io/pyproj/stable/gotchas.html#axis-order-changes-in-proj-6\n",
      "  return _prepare_from_string(\" \".join(pjargs))\n",
      "/home/rpartsey/.virtualenvs/change_detection/lib/python3.6/site-packages/pyproj/crs/crs.py:53: FutureWarning: '+init=<authority>:<code>' syntax is deprecated. '<authority>:<code>' is the preferred initialization method. When making the change, be mindful of axis order changes: https://pyproj4.github.io/pyproj/stable/gotchas.html#axis-order-changes-in-proj-6\n",
      "  return _prepare_from_string(\" \".join(pjargs))\n",
      "/home/rpartsey/.virtualenvs/change_detection/lib/python3.6/site-packages/pyproj/crs/crs.py:53: FutureWarning: '+init=<authority>:<code>' syntax is deprecated. '<authority>:<code>' is the preferred initialization method. When making the change, be mindful of axis order changes: https://pyproj4.github.io/pyproj/stable/gotchas.html#axis-order-changes-in-proj-6\n",
      "  return _prepare_from_string(\" \".join(pjargs))\n",
      "/home/rpartsey/.virtualenvs/change_detection/lib/python3.6/site-packages/pyproj/crs/crs.py:53: FutureWarning: '+init=<authority>:<code>' syntax is deprecated. '<authority>:<code>' is the preferred initialization method. When making the change, be mindful of axis order changes: https://pyproj4.github.io/pyproj/stable/gotchas.html#axis-order-changes-in-proj-6\n",
      "  return _prepare_from_string(\" \".join(pjargs))\n",
      "/home/rpartsey/.virtualenvs/change_detection/lib/python3.6/site-packages/pyproj/crs/crs.py:53: FutureWarning: '+init=<authority>:<code>' syntax is deprecated. '<authority>:<code>' is the preferred initialization method. When making the change, be mindful of axis order changes: https://pyproj4.github.io/pyproj/stable/gotchas.html#axis-order-changes-in-proj-6\n",
      "  return _prepare_from_string(\" \".join(pjargs))\n",
      "/home/rpartsey/.virtualenvs/change_detection/lib/python3.6/site-packages/pyproj/crs/crs.py:53: FutureWarning: '+init=<authority>:<code>' syntax is deprecated. '<authority>:<code>' is the preferred initialization method. When making the change, be mindful of axis order changes: https://pyproj4.github.io/pyproj/stable/gotchas.html#axis-order-changes-in-proj-6\n",
      "  return _prepare_from_string(\" \".join(pjargs))\n",
      "/home/rpartsey/.virtualenvs/change_detection/lib/python3.6/site-packages/pyproj/crs/crs.py:53: FutureWarning: '+init=<authority>:<code>' syntax is deprecated. '<authority>:<code>' is the preferred initialization method. When making the change, be mindful of axis order changes: https://pyproj4.github.io/pyproj/stable/gotchas.html#axis-order-changes-in-proj-6\n",
      "  return _prepare_from_string(\" \".join(pjargs))\n",
      "/home/rpartsey/.virtualenvs/change_detection/lib/python3.6/site-packages/pyproj/crs/crs.py:53: FutureWarning: '+init=<authority>:<code>' syntax is deprecated. '<authority>:<code>' is the preferred initialization method. When making the change, be mindful of axis order changes: https://pyproj4.github.io/pyproj/stable/gotchas.html#axis-order-changes-in-proj-6\n",
      "  return _prepare_from_string(\" \".join(pjargs))\n",
      "/home/rpartsey/.virtualenvs/change_detection/lib/python3.6/site-packages/pyproj/crs/crs.py:53: FutureWarning: '+init=<authority>:<code>' syntax is deprecated. '<authority>:<code>' is the preferred initialization method. When making the change, be mindful of axis order changes: https://pyproj4.github.io/pyproj/stable/gotchas.html#axis-order-changes-in-proj-6\n",
      "  return _prepare_from_string(\" \".join(pjargs))\n",
      "/home/rpartsey/.virtualenvs/change_detection/lib/python3.6/site-packages/pyproj/crs/crs.py:53: FutureWarning: '+init=<authority>:<code>' syntax is deprecated. '<authority>:<code>' is the preferred initialization method. When making the change, be mindful of axis order changes: https://pyproj4.github.io/pyproj/stable/gotchas.html#axis-order-changes-in-proj-6\n",
      "  return _prepare_from_string(\" \".join(pjargs))\n",
      "/home/rpartsey/.virtualenvs/change_detection/lib/python3.6/site-packages/pyproj/crs/crs.py:53: FutureWarning: '+init=<authority>:<code>' syntax is deprecated. '<authority>:<code>' is the preferred initialization method. When making the change, be mindful of axis order changes: https://pyproj4.github.io/pyproj/stable/gotchas.html#axis-order-changes-in-proj-6\n",
      "  return _prepare_from_string(\" \".join(pjargs))\n",
      "/home/rpartsey/.virtualenvs/change_detection/lib/python3.6/site-packages/pyproj/crs/crs.py:53: FutureWarning: '+init=<authority>:<code>' syntax is deprecated. '<authority>:<code>' is the preferred initialization method. When making the change, be mindful of axis order changes: https://pyproj4.github.io/pyproj/stable/gotchas.html#axis-order-changes-in-proj-6\n",
      "  return _prepare_from_string(\" \".join(pjargs))\n",
      "/home/rpartsey/.virtualenvs/change_detection/lib/python3.6/site-packages/pyproj/crs/crs.py:53: FutureWarning: '+init=<authority>:<code>' syntax is deprecated. '<authority>:<code>' is the preferred initialization method. When making the change, be mindful of axis order changes: https://pyproj4.github.io/pyproj/stable/gotchas.html#axis-order-changes-in-proj-6\n",
      "  return _prepare_from_string(\" \".join(pjargs))\n",
      "/home/rpartsey/.virtualenvs/change_detection/lib/python3.6/site-packages/pyproj/crs/crs.py:53: FutureWarning: '+init=<authority>:<code>' syntax is deprecated. '<authority>:<code>' is the preferred initialization method. When making the change, be mindful of axis order changes: https://pyproj4.github.io/pyproj/stable/gotchas.html#axis-order-changes-in-proj-6\n",
      "  return _prepare_from_string(\" \".join(pjargs))\n",
      "/home/rpartsey/.virtualenvs/change_detection/lib/python3.6/site-packages/pyproj/crs/crs.py:53: FutureWarning: '+init=<authority>:<code>' syntax is deprecated. '<authority>:<code>' is the preferred initialization method. When making the change, be mindful of axis order changes: https://pyproj4.github.io/pyproj/stable/gotchas.html#axis-order-changes-in-proj-6\n",
      "  return _prepare_from_string(\" \".join(pjargs))\n",
      "/home/rpartsey/.virtualenvs/change_detection/lib/python3.6/site-packages/pyproj/crs/crs.py:53: FutureWarning: '+init=<authority>:<code>' syntax is deprecated. '<authority>:<code>' is the preferred initialization method. When making the change, be mindful of axis order changes: https://pyproj4.github.io/pyproj/stable/gotchas.html#axis-order-changes-in-proj-6\n",
      "  return _prepare_from_string(\" \".join(pjargs))\n",
      "/home/rpartsey/.virtualenvs/change_detection/lib/python3.6/site-packages/pyproj/crs/crs.py:53: FutureWarning: '+init=<authority>:<code>' syntax is deprecated. '<authority>:<code>' is the preferred initialization method. When making the change, be mindful of axis order changes: https://pyproj4.github.io/pyproj/stable/gotchas.html#axis-order-changes-in-proj-6\n",
      "  return _prepare_from_string(\" \".join(pjargs))\n",
      "/home/rpartsey/.virtualenvs/change_detection/lib/python3.6/site-packages/pyproj/crs/crs.py:53: FutureWarning: '+init=<authority>:<code>' syntax is deprecated. '<authority>:<code>' is the preferred initialization method. When making the change, be mindful of axis order changes: https://pyproj4.github.io/pyproj/stable/gotchas.html#axis-order-changes-in-proj-6\n",
      "  return _prepare_from_string(\" \".join(pjargs))\n",
      "/home/rpartsey/.virtualenvs/change_detection/lib/python3.6/site-packages/pyproj/crs/crs.py:53: FutureWarning: '+init=<authority>:<code>' syntax is deprecated. '<authority>:<code>' is the preferred initialization method. When making the change, be mindful of axis order changes: https://pyproj4.github.io/pyproj/stable/gotchas.html#axis-order-changes-in-proj-6\n",
      "  return _prepare_from_string(\" \".join(pjargs))\n",
      "/home/rpartsey/.virtualenvs/change_detection/lib/python3.6/site-packages/pyproj/crs/crs.py:53: FutureWarning: '+init=<authority>:<code>' syntax is deprecated. '<authority>:<code>' is the preferred initialization method. When making the change, be mindful of axis order changes: https://pyproj4.github.io/pyproj/stable/gotchas.html#axis-order-changes-in-proj-6\n",
      "  return _prepare_from_string(\" \".join(pjargs))\n",
      "/home/rpartsey/.virtualenvs/change_detection/lib/python3.6/site-packages/pyproj/crs/crs.py:53: FutureWarning: '+init=<authority>:<code>' syntax is deprecated. '<authority>:<code>' is the preferred initialization method. When making the change, be mindful of axis order changes: https://pyproj4.github.io/pyproj/stable/gotchas.html#axis-order-changes-in-proj-6\n",
      "  return _prepare_from_string(\" \".join(pjargs))\n",
      "/home/rpartsey/.virtualenvs/change_detection/lib/python3.6/site-packages/pyproj/crs/crs.py:53: FutureWarning: '+init=<authority>:<code>' syntax is deprecated. '<authority>:<code>' is the preferred initialization method. When making the change, be mindful of axis order changes: https://pyproj4.github.io/pyproj/stable/gotchas.html#axis-order-changes-in-proj-6\n",
      "  return _prepare_from_string(\" \".join(pjargs))\n",
      "/home/rpartsey/.virtualenvs/change_detection/lib/python3.6/site-packages/pyproj/crs/crs.py:53: FutureWarning: '+init=<authority>:<code>' syntax is deprecated. '<authority>:<code>' is the preferred initialization method. When making the change, be mindful of axis order changes: https://pyproj4.github.io/pyproj/stable/gotchas.html#axis-order-changes-in-proj-6\n",
      "  return _prepare_from_string(\" \".join(pjargs))\n",
      "/home/rpartsey/.virtualenvs/change_detection/lib/python3.6/site-packages/pyproj/crs/crs.py:53: FutureWarning: '+init=<authority>:<code>' syntax is deprecated. '<authority>:<code>' is the preferred initialization method. When making the change, be mindful of axis order changes: https://pyproj4.github.io/pyproj/stable/gotchas.html#axis-order-changes-in-proj-6\n",
      "  return _prepare_from_string(\" \".join(pjargs))\n",
      "/home/rpartsey/.virtualenvs/change_detection/lib/python3.6/site-packages/pyproj/crs/crs.py:53: FutureWarning: '+init=<authority>:<code>' syntax is deprecated. '<authority>:<code>' is the preferred initialization method. When making the change, be mindful of axis order changes: https://pyproj4.github.io/pyproj/stable/gotchas.html#axis-order-changes-in-proj-6\n",
      "  return _prepare_from_string(\" \".join(pjargs))\n"
     ]
    },
    {
     "name": "stderr",
     "output_type": "stream",
     "text": [
      "/home/rpartsey/.virtualenvs/change_detection/lib/python3.6/site-packages/pyproj/crs/crs.py:53: FutureWarning: '+init=<authority>:<code>' syntax is deprecated. '<authority>:<code>' is the preferred initialization method. When making the change, be mindful of axis order changes: https://pyproj4.github.io/pyproj/stable/gotchas.html#axis-order-changes-in-proj-6\n",
      "  return _prepare_from_string(\" \".join(pjargs))\n",
      "/home/rpartsey/.virtualenvs/change_detection/lib/python3.6/site-packages/pyproj/crs/crs.py:53: FutureWarning: '+init=<authority>:<code>' syntax is deprecated. '<authority>:<code>' is the preferred initialization method. When making the change, be mindful of axis order changes: https://pyproj4.github.io/pyproj/stable/gotchas.html#axis-order-changes-in-proj-6\n",
      "  return _prepare_from_string(\" \".join(pjargs))\n",
      "/home/rpartsey/.virtualenvs/change_detection/lib/python3.6/site-packages/pyproj/crs/crs.py:53: FutureWarning: '+init=<authority>:<code>' syntax is deprecated. '<authority>:<code>' is the preferred initialization method. When making the change, be mindful of axis order changes: https://pyproj4.github.io/pyproj/stable/gotchas.html#axis-order-changes-in-proj-6\n",
      "  return _prepare_from_string(\" \".join(pjargs))\n",
      "/home/rpartsey/.virtualenvs/change_detection/lib/python3.6/site-packages/pyproj/crs/crs.py:53: FutureWarning: '+init=<authority>:<code>' syntax is deprecated. '<authority>:<code>' is the preferred initialization method. When making the change, be mindful of axis order changes: https://pyproj4.github.io/pyproj/stable/gotchas.html#axis-order-changes-in-proj-6\n",
      "  return _prepare_from_string(\" \".join(pjargs))\n",
      "/home/rpartsey/.virtualenvs/change_detection/lib/python3.6/site-packages/pyproj/crs/crs.py:53: FutureWarning: '+init=<authority>:<code>' syntax is deprecated. '<authority>:<code>' is the preferred initialization method. When making the change, be mindful of axis order changes: https://pyproj4.github.io/pyproj/stable/gotchas.html#axis-order-changes-in-proj-6\n",
      "  return _prepare_from_string(\" \".join(pjargs))\n",
      "/home/rpartsey/.virtualenvs/change_detection/lib/python3.6/site-packages/pyproj/crs/crs.py:53: FutureWarning: '+init=<authority>:<code>' syntax is deprecated. '<authority>:<code>' is the preferred initialization method. When making the change, be mindful of axis order changes: https://pyproj4.github.io/pyproj/stable/gotchas.html#axis-order-changes-in-proj-6\n",
      "  return _prepare_from_string(\" \".join(pjargs))\n",
      "/home/rpartsey/.virtualenvs/change_detection/lib/python3.6/site-packages/pyproj/crs/crs.py:53: FutureWarning: '+init=<authority>:<code>' syntax is deprecated. '<authority>:<code>' is the preferred initialization method. When making the change, be mindful of axis order changes: https://pyproj4.github.io/pyproj/stable/gotchas.html#axis-order-changes-in-proj-6\n",
      "  return _prepare_from_string(\" \".join(pjargs))\n",
      "/home/rpartsey/.virtualenvs/change_detection/lib/python3.6/site-packages/pyproj/crs/crs.py:53: FutureWarning: '+init=<authority>:<code>' syntax is deprecated. '<authority>:<code>' is the preferred initialization method. When making the change, be mindful of axis order changes: https://pyproj4.github.io/pyproj/stable/gotchas.html#axis-order-changes-in-proj-6\n",
      "  return _prepare_from_string(\" \".join(pjargs))\n",
      "/home/rpartsey/.virtualenvs/change_detection/lib/python3.6/site-packages/pyproj/crs/crs.py:53: FutureWarning: '+init=<authority>:<code>' syntax is deprecated. '<authority>:<code>' is the preferred initialization method. When making the change, be mindful of axis order changes: https://pyproj4.github.io/pyproj/stable/gotchas.html#axis-order-changes-in-proj-6\n",
      "  return _prepare_from_string(\" \".join(pjargs))\n",
      "/home/rpartsey/.virtualenvs/change_detection/lib/python3.6/site-packages/pyproj/crs/crs.py:53: FutureWarning: '+init=<authority>:<code>' syntax is deprecated. '<authority>:<code>' is the preferred initialization method. When making the change, be mindful of axis order changes: https://pyproj4.github.io/pyproj/stable/gotchas.html#axis-order-changes-in-proj-6\n",
      "  return _prepare_from_string(\" \".join(pjargs))\n",
      "/home/rpartsey/.virtualenvs/change_detection/lib/python3.6/site-packages/pyproj/crs/crs.py:53: FutureWarning: '+init=<authority>:<code>' syntax is deprecated. '<authority>:<code>' is the preferred initialization method. When making the change, be mindful of axis order changes: https://pyproj4.github.io/pyproj/stable/gotchas.html#axis-order-changes-in-proj-6\n",
      "  return _prepare_from_string(\" \".join(pjargs))\n",
      "/home/rpartsey/.virtualenvs/change_detection/lib/python3.6/site-packages/pyproj/crs/crs.py:53: FutureWarning: '+init=<authority>:<code>' syntax is deprecated. '<authority>:<code>' is the preferred initialization method. When making the change, be mindful of axis order changes: https://pyproj4.github.io/pyproj/stable/gotchas.html#axis-order-changes-in-proj-6\n",
      "  return _prepare_from_string(\" \".join(pjargs))\n",
      "/home/rpartsey/.virtualenvs/change_detection/lib/python3.6/site-packages/pyproj/crs/crs.py:53: FutureWarning: '+init=<authority>:<code>' syntax is deprecated. '<authority>:<code>' is the preferred initialization method. When making the change, be mindful of axis order changes: https://pyproj4.github.io/pyproj/stable/gotchas.html#axis-order-changes-in-proj-6\n",
      "  return _prepare_from_string(\" \".join(pjargs))\n",
      "/home/rpartsey/.virtualenvs/change_detection/lib/python3.6/site-packages/pyproj/crs/crs.py:53: FutureWarning: '+init=<authority>:<code>' syntax is deprecated. '<authority>:<code>' is the preferred initialization method. When making the change, be mindful of axis order changes: https://pyproj4.github.io/pyproj/stable/gotchas.html#axis-order-changes-in-proj-6\n",
      "  return _prepare_from_string(\" \".join(pjargs))\n",
      "/home/rpartsey/.virtualenvs/change_detection/lib/python3.6/site-packages/pyproj/crs/crs.py:53: FutureWarning: '+init=<authority>:<code>' syntax is deprecated. '<authority>:<code>' is the preferred initialization method. When making the change, be mindful of axis order changes: https://pyproj4.github.io/pyproj/stable/gotchas.html#axis-order-changes-in-proj-6\n",
      "  return _prepare_from_string(\" \".join(pjargs))\n",
      "/home/rpartsey/.virtualenvs/change_detection/lib/python3.6/site-packages/pyproj/crs/crs.py:53: FutureWarning: '+init=<authority>:<code>' syntax is deprecated. '<authority>:<code>' is the preferred initialization method. When making the change, be mindful of axis order changes: https://pyproj4.github.io/pyproj/stable/gotchas.html#axis-order-changes-in-proj-6\n",
      "  return _prepare_from_string(\" \".join(pjargs))\n",
      "/home/rpartsey/.virtualenvs/change_detection/lib/python3.6/site-packages/pyproj/crs/crs.py:53: FutureWarning: '+init=<authority>:<code>' syntax is deprecated. '<authority>:<code>' is the preferred initialization method. When making the change, be mindful of axis order changes: https://pyproj4.github.io/pyproj/stable/gotchas.html#axis-order-changes-in-proj-6\n",
      "  return _prepare_from_string(\" \".join(pjargs))\n",
      "/home/rpartsey/.virtualenvs/change_detection/lib/python3.6/site-packages/pyproj/crs/crs.py:53: FutureWarning: '+init=<authority>:<code>' syntax is deprecated. '<authority>:<code>' is the preferred initialization method. When making the change, be mindful of axis order changes: https://pyproj4.github.io/pyproj/stable/gotchas.html#axis-order-changes-in-proj-6\n",
      "  return _prepare_from_string(\" \".join(pjargs))\n",
      "/home/rpartsey/.virtualenvs/change_detection/lib/python3.6/site-packages/pyproj/crs/crs.py:53: FutureWarning: '+init=<authority>:<code>' syntax is deprecated. '<authority>:<code>' is the preferred initialization method. When making the change, be mindful of axis order changes: https://pyproj4.github.io/pyproj/stable/gotchas.html#axis-order-changes-in-proj-6\n",
      "  return _prepare_from_string(\" \".join(pjargs))\n",
      "/home/rpartsey/.virtualenvs/change_detection/lib/python3.6/site-packages/pyproj/crs/crs.py:53: FutureWarning: '+init=<authority>:<code>' syntax is deprecated. '<authority>:<code>' is the preferred initialization method. When making the change, be mindful of axis order changes: https://pyproj4.github.io/pyproj/stable/gotchas.html#axis-order-changes-in-proj-6\n",
      "  return _prepare_from_string(\" \".join(pjargs))\n",
      "/home/rpartsey/.virtualenvs/change_detection/lib/python3.6/site-packages/pyproj/crs/crs.py:53: FutureWarning: '+init=<authority>:<code>' syntax is deprecated. '<authority>:<code>' is the preferred initialization method. When making the change, be mindful of axis order changes: https://pyproj4.github.io/pyproj/stable/gotchas.html#axis-order-changes-in-proj-6\n",
      "  return _prepare_from_string(\" \".join(pjargs))\n",
      "/home/rpartsey/.virtualenvs/change_detection/lib/python3.6/site-packages/pyproj/crs/crs.py:53: FutureWarning: '+init=<authority>:<code>' syntax is deprecated. '<authority>:<code>' is the preferred initialization method. When making the change, be mindful of axis order changes: https://pyproj4.github.io/pyproj/stable/gotchas.html#axis-order-changes-in-proj-6\n",
      "  return _prepare_from_string(\" \".join(pjargs))\n",
      "/home/rpartsey/.virtualenvs/change_detection/lib/python3.6/site-packages/pyproj/crs/crs.py:53: FutureWarning: '+init=<authority>:<code>' syntax is deprecated. '<authority>:<code>' is the preferred initialization method. When making the change, be mindful of axis order changes: https://pyproj4.github.io/pyproj/stable/gotchas.html#axis-order-changes-in-proj-6\n",
      "  return _prepare_from_string(\" \".join(pjargs))\n",
      "/home/rpartsey/.virtualenvs/change_detection/lib/python3.6/site-packages/pyproj/crs/crs.py:53: FutureWarning: '+init=<authority>:<code>' syntax is deprecated. '<authority>:<code>' is the preferred initialization method. When making the change, be mindful of axis order changes: https://pyproj4.github.io/pyproj/stable/gotchas.html#axis-order-changes-in-proj-6\n",
      "  return _prepare_from_string(\" \".join(pjargs))\n"
     ]
    },
    {
     "name": "stderr",
     "output_type": "stream",
     "text": [
      "/home/rpartsey/.virtualenvs/change_detection/lib/python3.6/site-packages/pyproj/crs/crs.py:53: FutureWarning: '+init=<authority>:<code>' syntax is deprecated. '<authority>:<code>' is the preferred initialization method. When making the change, be mindful of axis order changes: https://pyproj4.github.io/pyproj/stable/gotchas.html#axis-order-changes-in-proj-6\n",
      "  return _prepare_from_string(\" \".join(pjargs))\n",
      "/home/rpartsey/.virtualenvs/change_detection/lib/python3.6/site-packages/pyproj/crs/crs.py:53: FutureWarning: '+init=<authority>:<code>' syntax is deprecated. '<authority>:<code>' is the preferred initialization method. When making the change, be mindful of axis order changes: https://pyproj4.github.io/pyproj/stable/gotchas.html#axis-order-changes-in-proj-6\n",
      "  return _prepare_from_string(\" \".join(pjargs))\n",
      "/home/rpartsey/.virtualenvs/change_detection/lib/python3.6/site-packages/pyproj/crs/crs.py:53: FutureWarning: '+init=<authority>:<code>' syntax is deprecated. '<authority>:<code>' is the preferred initialization method. When making the change, be mindful of axis order changes: https://pyproj4.github.io/pyproj/stable/gotchas.html#axis-order-changes-in-proj-6\n",
      "  return _prepare_from_string(\" \".join(pjargs))\n",
      "/home/rpartsey/.virtualenvs/change_detection/lib/python3.6/site-packages/pyproj/crs/crs.py:53: FutureWarning: '+init=<authority>:<code>' syntax is deprecated. '<authority>:<code>' is the preferred initialization method. When making the change, be mindful of axis order changes: https://pyproj4.github.io/pyproj/stable/gotchas.html#axis-order-changes-in-proj-6\n",
      "  return _prepare_from_string(\" \".join(pjargs))\n",
      "/home/rpartsey/.virtualenvs/change_detection/lib/python3.6/site-packages/pyproj/crs/crs.py:53: FutureWarning: '+init=<authority>:<code>' syntax is deprecated. '<authority>:<code>' is the preferred initialization method. When making the change, be mindful of axis order changes: https://pyproj4.github.io/pyproj/stable/gotchas.html#axis-order-changes-in-proj-6\n",
      "  return _prepare_from_string(\" \".join(pjargs))\n",
      "/home/rpartsey/.virtualenvs/change_detection/lib/python3.6/site-packages/pyproj/crs/crs.py:53: FutureWarning: '+init=<authority>:<code>' syntax is deprecated. '<authority>:<code>' is the preferred initialization method. When making the change, be mindful of axis order changes: https://pyproj4.github.io/pyproj/stable/gotchas.html#axis-order-changes-in-proj-6\n",
      "  return _prepare_from_string(\" \".join(pjargs))\n",
      "/home/rpartsey/.virtualenvs/change_detection/lib/python3.6/site-packages/pyproj/crs/crs.py:53: FutureWarning: '+init=<authority>:<code>' syntax is deprecated. '<authority>:<code>' is the preferred initialization method. When making the change, be mindful of axis order changes: https://pyproj4.github.io/pyproj/stable/gotchas.html#axis-order-changes-in-proj-6\n",
      "  return _prepare_from_string(\" \".join(pjargs))\n",
      "/home/rpartsey/.virtualenvs/change_detection/lib/python3.6/site-packages/pyproj/crs/crs.py:53: FutureWarning: '+init=<authority>:<code>' syntax is deprecated. '<authority>:<code>' is the preferred initialization method. When making the change, be mindful of axis order changes: https://pyproj4.github.io/pyproj/stable/gotchas.html#axis-order-changes-in-proj-6\n",
      "  return _prepare_from_string(\" \".join(pjargs))\n",
      "/home/rpartsey/.virtualenvs/change_detection/lib/python3.6/site-packages/pyproj/crs/crs.py:53: FutureWarning: '+init=<authority>:<code>' syntax is deprecated. '<authority>:<code>' is the preferred initialization method. When making the change, be mindful of axis order changes: https://pyproj4.github.io/pyproj/stable/gotchas.html#axis-order-changes-in-proj-6\n",
      "  return _prepare_from_string(\" \".join(pjargs))\n",
      "/home/rpartsey/.virtualenvs/change_detection/lib/python3.6/site-packages/pyproj/crs/crs.py:53: FutureWarning: '+init=<authority>:<code>' syntax is deprecated. '<authority>:<code>' is the preferred initialization method. When making the change, be mindful of axis order changes: https://pyproj4.github.io/pyproj/stable/gotchas.html#axis-order-changes-in-proj-6\n",
      "  return _prepare_from_string(\" \".join(pjargs))\n",
      "/home/rpartsey/.virtualenvs/change_detection/lib/python3.6/site-packages/pyproj/crs/crs.py:53: FutureWarning: '+init=<authority>:<code>' syntax is deprecated. '<authority>:<code>' is the preferred initialization method. When making the change, be mindful of axis order changes: https://pyproj4.github.io/pyproj/stable/gotchas.html#axis-order-changes-in-proj-6\n",
      "  return _prepare_from_string(\" \".join(pjargs))\n",
      "/home/rpartsey/.virtualenvs/change_detection/lib/python3.6/site-packages/pyproj/crs/crs.py:53: FutureWarning: '+init=<authority>:<code>' syntax is deprecated. '<authority>:<code>' is the preferred initialization method. When making the change, be mindful of axis order changes: https://pyproj4.github.io/pyproj/stable/gotchas.html#axis-order-changes-in-proj-6\n",
      "  return _prepare_from_string(\" \".join(pjargs))\n",
      "/home/rpartsey/.virtualenvs/change_detection/lib/python3.6/site-packages/pyproj/crs/crs.py:53: FutureWarning: '+init=<authority>:<code>' syntax is deprecated. '<authority>:<code>' is the preferred initialization method. When making the change, be mindful of axis order changes: https://pyproj4.github.io/pyproj/stable/gotchas.html#axis-order-changes-in-proj-6\n",
      "  return _prepare_from_string(\" \".join(pjargs))\n",
      "/home/rpartsey/.virtualenvs/change_detection/lib/python3.6/site-packages/pyproj/crs/crs.py:53: FutureWarning: '+init=<authority>:<code>' syntax is deprecated. '<authority>:<code>' is the preferred initialization method. When making the change, be mindful of axis order changes: https://pyproj4.github.io/pyproj/stable/gotchas.html#axis-order-changes-in-proj-6\n",
      "  return _prepare_from_string(\" \".join(pjargs))\n",
      "/home/rpartsey/.virtualenvs/change_detection/lib/python3.6/site-packages/pyproj/crs/crs.py:53: FutureWarning: '+init=<authority>:<code>' syntax is deprecated. '<authority>:<code>' is the preferred initialization method. When making the change, be mindful of axis order changes: https://pyproj4.github.io/pyproj/stable/gotchas.html#axis-order-changes-in-proj-6\n",
      "  return _prepare_from_string(\" \".join(pjargs))\n",
      "/home/rpartsey/.virtualenvs/change_detection/lib/python3.6/site-packages/pyproj/crs/crs.py:53: FutureWarning: '+init=<authority>:<code>' syntax is deprecated. '<authority>:<code>' is the preferred initialization method. When making the change, be mindful of axis order changes: https://pyproj4.github.io/pyproj/stable/gotchas.html#axis-order-changes-in-proj-6\n",
      "  return _prepare_from_string(\" \".join(pjargs))\n",
      "/home/rpartsey/.virtualenvs/change_detection/lib/python3.6/site-packages/pyproj/crs/crs.py:53: FutureWarning: '+init=<authority>:<code>' syntax is deprecated. '<authority>:<code>' is the preferred initialization method. When making the change, be mindful of axis order changes: https://pyproj4.github.io/pyproj/stable/gotchas.html#axis-order-changes-in-proj-6\n",
      "  return _prepare_from_string(\" \".join(pjargs))\n",
      "/home/rpartsey/.virtualenvs/change_detection/lib/python3.6/site-packages/pyproj/crs/crs.py:53: FutureWarning: '+init=<authority>:<code>' syntax is deprecated. '<authority>:<code>' is the preferred initialization method. When making the change, be mindful of axis order changes: https://pyproj4.github.io/pyproj/stable/gotchas.html#axis-order-changes-in-proj-6\n",
      "  return _prepare_from_string(\" \".join(pjargs))\n",
      "/home/rpartsey/.virtualenvs/change_detection/lib/python3.6/site-packages/pyproj/crs/crs.py:53: FutureWarning: '+init=<authority>:<code>' syntax is deprecated. '<authority>:<code>' is the preferred initialization method. When making the change, be mindful of axis order changes: https://pyproj4.github.io/pyproj/stable/gotchas.html#axis-order-changes-in-proj-6\n",
      "  return _prepare_from_string(\" \".join(pjargs))\n",
      "/home/rpartsey/.virtualenvs/change_detection/lib/python3.6/site-packages/pyproj/crs/crs.py:53: FutureWarning: '+init=<authority>:<code>' syntax is deprecated. '<authority>:<code>' is the preferred initialization method. When making the change, be mindful of axis order changes: https://pyproj4.github.io/pyproj/stable/gotchas.html#axis-order-changes-in-proj-6\n",
      "  return _prepare_from_string(\" \".join(pjargs))\n",
      "/home/rpartsey/.virtualenvs/change_detection/lib/python3.6/site-packages/pyproj/crs/crs.py:53: FutureWarning: '+init=<authority>:<code>' syntax is deprecated. '<authority>:<code>' is the preferred initialization method. When making the change, be mindful of axis order changes: https://pyproj4.github.io/pyproj/stable/gotchas.html#axis-order-changes-in-proj-6\n",
      "  return _prepare_from_string(\" \".join(pjargs))\n",
      "/home/rpartsey/.virtualenvs/change_detection/lib/python3.6/site-packages/pyproj/crs/crs.py:53: FutureWarning: '+init=<authority>:<code>' syntax is deprecated. '<authority>:<code>' is the preferred initialization method. When making the change, be mindful of axis order changes: https://pyproj4.github.io/pyproj/stable/gotchas.html#axis-order-changes-in-proj-6\n",
      "  return _prepare_from_string(\" \".join(pjargs))\n"
     ]
    },
    {
     "name": "stderr",
     "output_type": "stream",
     "text": [
      "/home/rpartsey/.virtualenvs/change_detection/lib/python3.6/site-packages/pyproj/crs/crs.py:53: FutureWarning: '+init=<authority>:<code>' syntax is deprecated. '<authority>:<code>' is the preferred initialization method. When making the change, be mindful of axis order changes: https://pyproj4.github.io/pyproj/stable/gotchas.html#axis-order-changes-in-proj-6\n",
      "  return _prepare_from_string(\" \".join(pjargs))\n",
      "/home/rpartsey/.virtualenvs/change_detection/lib/python3.6/site-packages/pyproj/crs/crs.py:53: FutureWarning: '+init=<authority>:<code>' syntax is deprecated. '<authority>:<code>' is the preferred initialization method. When making the change, be mindful of axis order changes: https://pyproj4.github.io/pyproj/stable/gotchas.html#axis-order-changes-in-proj-6\n",
      "  return _prepare_from_string(\" \".join(pjargs))\n",
      "/home/rpartsey/.virtualenvs/change_detection/lib/python3.6/site-packages/pyproj/crs/crs.py:53: FutureWarning: '+init=<authority>:<code>' syntax is deprecated. '<authority>:<code>' is the preferred initialization method. When making the change, be mindful of axis order changes: https://pyproj4.github.io/pyproj/stable/gotchas.html#axis-order-changes-in-proj-6\n",
      "  return _prepare_from_string(\" \".join(pjargs))\n",
      "/home/rpartsey/.virtualenvs/change_detection/lib/python3.6/site-packages/pyproj/crs/crs.py:53: FutureWarning: '+init=<authority>:<code>' syntax is deprecated. '<authority>:<code>' is the preferred initialization method. When making the change, be mindful of axis order changes: https://pyproj4.github.io/pyproj/stable/gotchas.html#axis-order-changes-in-proj-6\n",
      "  return _prepare_from_string(\" \".join(pjargs))\n",
      "/home/rpartsey/.virtualenvs/change_detection/lib/python3.6/site-packages/pyproj/crs/crs.py:53: FutureWarning: '+init=<authority>:<code>' syntax is deprecated. '<authority>:<code>' is the preferred initialization method. When making the change, be mindful of axis order changes: https://pyproj4.github.io/pyproj/stable/gotchas.html#axis-order-changes-in-proj-6\n",
      "  return _prepare_from_string(\" \".join(pjargs))\n",
      "/home/rpartsey/.virtualenvs/change_detection/lib/python3.6/site-packages/pyproj/crs/crs.py:53: FutureWarning: '+init=<authority>:<code>' syntax is deprecated. '<authority>:<code>' is the preferred initialization method. When making the change, be mindful of axis order changes: https://pyproj4.github.io/pyproj/stable/gotchas.html#axis-order-changes-in-proj-6\n",
      "  return _prepare_from_string(\" \".join(pjargs))\n",
      "/home/rpartsey/.virtualenvs/change_detection/lib/python3.6/site-packages/pyproj/crs/crs.py:53: FutureWarning: '+init=<authority>:<code>' syntax is deprecated. '<authority>:<code>' is the preferred initialization method. When making the change, be mindful of axis order changes: https://pyproj4.github.io/pyproj/stable/gotchas.html#axis-order-changes-in-proj-6\n",
      "  return _prepare_from_string(\" \".join(pjargs))\n",
      "/home/rpartsey/.virtualenvs/change_detection/lib/python3.6/site-packages/pyproj/crs/crs.py:53: FutureWarning: '+init=<authority>:<code>' syntax is deprecated. '<authority>:<code>' is the preferred initialization method. When making the change, be mindful of axis order changes: https://pyproj4.github.io/pyproj/stable/gotchas.html#axis-order-changes-in-proj-6\n",
      "  return _prepare_from_string(\" \".join(pjargs))\n",
      "/home/rpartsey/.virtualenvs/change_detection/lib/python3.6/site-packages/pyproj/crs/crs.py:53: FutureWarning: '+init=<authority>:<code>' syntax is deprecated. '<authority>:<code>' is the preferred initialization method. When making the change, be mindful of axis order changes: https://pyproj4.github.io/pyproj/stable/gotchas.html#axis-order-changes-in-proj-6\n",
      "  return _prepare_from_string(\" \".join(pjargs))\n",
      "/home/rpartsey/.virtualenvs/change_detection/lib/python3.6/site-packages/pyproj/crs/crs.py:53: FutureWarning: '+init=<authority>:<code>' syntax is deprecated. '<authority>:<code>' is the preferred initialization method. When making the change, be mindful of axis order changes: https://pyproj4.github.io/pyproj/stable/gotchas.html#axis-order-changes-in-proj-6\n",
      "  return _prepare_from_string(\" \".join(pjargs))\n",
      "/home/rpartsey/.virtualenvs/change_detection/lib/python3.6/site-packages/pyproj/crs/crs.py:53: FutureWarning: '+init=<authority>:<code>' syntax is deprecated. '<authority>:<code>' is the preferred initialization method. When making the change, be mindful of axis order changes: https://pyproj4.github.io/pyproj/stable/gotchas.html#axis-order-changes-in-proj-6\n",
      "  return _prepare_from_string(\" \".join(pjargs))\n",
      "/home/rpartsey/.virtualenvs/change_detection/lib/python3.6/site-packages/pyproj/crs/crs.py:53: FutureWarning: '+init=<authority>:<code>' syntax is deprecated. '<authority>:<code>' is the preferred initialization method. When making the change, be mindful of axis order changes: https://pyproj4.github.io/pyproj/stable/gotchas.html#axis-order-changes-in-proj-6\n",
      "  return _prepare_from_string(\" \".join(pjargs))\n",
      "/home/rpartsey/.virtualenvs/change_detection/lib/python3.6/site-packages/pyproj/crs/crs.py:53: FutureWarning: '+init=<authority>:<code>' syntax is deprecated. '<authority>:<code>' is the preferred initialization method. When making the change, be mindful of axis order changes: https://pyproj4.github.io/pyproj/stable/gotchas.html#axis-order-changes-in-proj-6\n",
      "  return _prepare_from_string(\" \".join(pjargs))\n",
      "/home/rpartsey/.virtualenvs/change_detection/lib/python3.6/site-packages/pyproj/crs/crs.py:53: FutureWarning: '+init=<authority>:<code>' syntax is deprecated. '<authority>:<code>' is the preferred initialization method. When making the change, be mindful of axis order changes: https://pyproj4.github.io/pyproj/stable/gotchas.html#axis-order-changes-in-proj-6\n",
      "  return _prepare_from_string(\" \".join(pjargs))\n",
      "/home/rpartsey/.virtualenvs/change_detection/lib/python3.6/site-packages/pyproj/crs/crs.py:53: FutureWarning: '+init=<authority>:<code>' syntax is deprecated. '<authority>:<code>' is the preferred initialization method. When making the change, be mindful of axis order changes: https://pyproj4.github.io/pyproj/stable/gotchas.html#axis-order-changes-in-proj-6\n",
      "  return _prepare_from_string(\" \".join(pjargs))\n",
      "/home/rpartsey/.virtualenvs/change_detection/lib/python3.6/site-packages/pyproj/crs/crs.py:53: FutureWarning: '+init=<authority>:<code>' syntax is deprecated. '<authority>:<code>' is the preferred initialization method. When making the change, be mindful of axis order changes: https://pyproj4.github.io/pyproj/stable/gotchas.html#axis-order-changes-in-proj-6\n",
      "  return _prepare_from_string(\" \".join(pjargs))\n",
      "/home/rpartsey/.virtualenvs/change_detection/lib/python3.6/site-packages/pyproj/crs/crs.py:53: FutureWarning: '+init=<authority>:<code>' syntax is deprecated. '<authority>:<code>' is the preferred initialization method. When making the change, be mindful of axis order changes: https://pyproj4.github.io/pyproj/stable/gotchas.html#axis-order-changes-in-proj-6\n",
      "  return _prepare_from_string(\" \".join(pjargs))\n",
      "/home/rpartsey/.virtualenvs/change_detection/lib/python3.6/site-packages/pyproj/crs/crs.py:53: FutureWarning: '+init=<authority>:<code>' syntax is deprecated. '<authority>:<code>' is the preferred initialization method. When making the change, be mindful of axis order changes: https://pyproj4.github.io/pyproj/stable/gotchas.html#axis-order-changes-in-proj-6\n",
      "  return _prepare_from_string(\" \".join(pjargs))\n",
      "/home/rpartsey/.virtualenvs/change_detection/lib/python3.6/site-packages/pyproj/crs/crs.py:53: FutureWarning: '+init=<authority>:<code>' syntax is deprecated. '<authority>:<code>' is the preferred initialization method. When making the change, be mindful of axis order changes: https://pyproj4.github.io/pyproj/stable/gotchas.html#axis-order-changes-in-proj-6\n",
      "  return _prepare_from_string(\" \".join(pjargs))\n",
      "/home/rpartsey/.virtualenvs/change_detection/lib/python3.6/site-packages/pyproj/crs/crs.py:53: FutureWarning: '+init=<authority>:<code>' syntax is deprecated. '<authority>:<code>' is the preferred initialization method. When making the change, be mindful of axis order changes: https://pyproj4.github.io/pyproj/stable/gotchas.html#axis-order-changes-in-proj-6\n",
      "  return _prepare_from_string(\" \".join(pjargs))\n",
      "/home/rpartsey/.virtualenvs/change_detection/lib/python3.6/site-packages/pyproj/crs/crs.py:53: FutureWarning: '+init=<authority>:<code>' syntax is deprecated. '<authority>:<code>' is the preferred initialization method. When making the change, be mindful of axis order changes: https://pyproj4.github.io/pyproj/stable/gotchas.html#axis-order-changes-in-proj-6\n",
      "  return _prepare_from_string(\" \".join(pjargs))\n",
      "/home/rpartsey/.virtualenvs/change_detection/lib/python3.6/site-packages/pyproj/crs/crs.py:53: FutureWarning: '+init=<authority>:<code>' syntax is deprecated. '<authority>:<code>' is the preferred initialization method. When making the change, be mindful of axis order changes: https://pyproj4.github.io/pyproj/stable/gotchas.html#axis-order-changes-in-proj-6\n",
      "  return _prepare_from_string(\" \".join(pjargs))\n",
      "/home/rpartsey/.virtualenvs/change_detection/lib/python3.6/site-packages/pyproj/crs/crs.py:53: FutureWarning: '+init=<authority>:<code>' syntax is deprecated. '<authority>:<code>' is the preferred initialization method. When making the change, be mindful of axis order changes: https://pyproj4.github.io/pyproj/stable/gotchas.html#axis-order-changes-in-proj-6\n",
      "  return _prepare_from_string(\" \".join(pjargs))\n",
      "/home/rpartsey/.virtualenvs/change_detection/lib/python3.6/site-packages/pyproj/crs/crs.py:53: FutureWarning: '+init=<authority>:<code>' syntax is deprecated. '<authority>:<code>' is the preferred initialization method. When making the change, be mindful of axis order changes: https://pyproj4.github.io/pyproj/stable/gotchas.html#axis-order-changes-in-proj-6\n",
      "  return _prepare_from_string(\" \".join(pjargs))\n"
     ]
    },
    {
     "name": "stderr",
     "output_type": "stream",
     "text": [
      "/home/rpartsey/.virtualenvs/change_detection/lib/python3.6/site-packages/pyproj/crs/crs.py:53: FutureWarning: '+init=<authority>:<code>' syntax is deprecated. '<authority>:<code>' is the preferred initialization method. When making the change, be mindful of axis order changes: https://pyproj4.github.io/pyproj/stable/gotchas.html#axis-order-changes-in-proj-6\n",
      "  return _prepare_from_string(\" \".join(pjargs))\n",
      "/home/rpartsey/.virtualenvs/change_detection/lib/python3.6/site-packages/pyproj/crs/crs.py:53: FutureWarning: '+init=<authority>:<code>' syntax is deprecated. '<authority>:<code>' is the preferred initialization method. When making the change, be mindful of axis order changes: https://pyproj4.github.io/pyproj/stable/gotchas.html#axis-order-changes-in-proj-6\n",
      "  return _prepare_from_string(\" \".join(pjargs))\n",
      "/home/rpartsey/.virtualenvs/change_detection/lib/python3.6/site-packages/pyproj/crs/crs.py:53: FutureWarning: '+init=<authority>:<code>' syntax is deprecated. '<authority>:<code>' is the preferred initialization method. When making the change, be mindful of axis order changes: https://pyproj4.github.io/pyproj/stable/gotchas.html#axis-order-changes-in-proj-6\n",
      "  return _prepare_from_string(\" \".join(pjargs))\n",
      "/home/rpartsey/.virtualenvs/change_detection/lib/python3.6/site-packages/pyproj/crs/crs.py:53: FutureWarning: '+init=<authority>:<code>' syntax is deprecated. '<authority>:<code>' is the preferred initialization method. When making the change, be mindful of axis order changes: https://pyproj4.github.io/pyproj/stable/gotchas.html#axis-order-changes-in-proj-6\n",
      "  return _prepare_from_string(\" \".join(pjargs))\n",
      "/home/rpartsey/.virtualenvs/change_detection/lib/python3.6/site-packages/pyproj/crs/crs.py:53: FutureWarning: '+init=<authority>:<code>' syntax is deprecated. '<authority>:<code>' is the preferred initialization method. When making the change, be mindful of axis order changes: https://pyproj4.github.io/pyproj/stable/gotchas.html#axis-order-changes-in-proj-6\n",
      "  return _prepare_from_string(\" \".join(pjargs))\n",
      "/home/rpartsey/.virtualenvs/change_detection/lib/python3.6/site-packages/pyproj/crs/crs.py:53: FutureWarning: '+init=<authority>:<code>' syntax is deprecated. '<authority>:<code>' is the preferred initialization method. When making the change, be mindful of axis order changes: https://pyproj4.github.io/pyproj/stable/gotchas.html#axis-order-changes-in-proj-6\n",
      "  return _prepare_from_string(\" \".join(pjargs))\n",
      "/home/rpartsey/.virtualenvs/change_detection/lib/python3.6/site-packages/pyproj/crs/crs.py:53: FutureWarning: '+init=<authority>:<code>' syntax is deprecated. '<authority>:<code>' is the preferred initialization method. When making the change, be mindful of axis order changes: https://pyproj4.github.io/pyproj/stable/gotchas.html#axis-order-changes-in-proj-6\n",
      "  return _prepare_from_string(\" \".join(pjargs))\n",
      "/home/rpartsey/.virtualenvs/change_detection/lib/python3.6/site-packages/pyproj/crs/crs.py:53: FutureWarning: '+init=<authority>:<code>' syntax is deprecated. '<authority>:<code>' is the preferred initialization method. When making the change, be mindful of axis order changes: https://pyproj4.github.io/pyproj/stable/gotchas.html#axis-order-changes-in-proj-6\n",
      "  return _prepare_from_string(\" \".join(pjargs))\n",
      "/home/rpartsey/.virtualenvs/change_detection/lib/python3.6/site-packages/pyproj/crs/crs.py:53: FutureWarning: '+init=<authority>:<code>' syntax is deprecated. '<authority>:<code>' is the preferred initialization method. When making the change, be mindful of axis order changes: https://pyproj4.github.io/pyproj/stable/gotchas.html#axis-order-changes-in-proj-6\n",
      "  return _prepare_from_string(\" \".join(pjargs))\n",
      "/home/rpartsey/.virtualenvs/change_detection/lib/python3.6/site-packages/pyproj/crs/crs.py:53: FutureWarning: '+init=<authority>:<code>' syntax is deprecated. '<authority>:<code>' is the preferred initialization method. When making the change, be mindful of axis order changes: https://pyproj4.github.io/pyproj/stable/gotchas.html#axis-order-changes-in-proj-6\n",
      "  return _prepare_from_string(\" \".join(pjargs))\n",
      "/home/rpartsey/.virtualenvs/change_detection/lib/python3.6/site-packages/pyproj/crs/crs.py:53: FutureWarning: '+init=<authority>:<code>' syntax is deprecated. '<authority>:<code>' is the preferred initialization method. When making the change, be mindful of axis order changes: https://pyproj4.github.io/pyproj/stable/gotchas.html#axis-order-changes-in-proj-6\n",
      "  return _prepare_from_string(\" \".join(pjargs))\n",
      "/home/rpartsey/.virtualenvs/change_detection/lib/python3.6/site-packages/pyproj/crs/crs.py:53: FutureWarning: '+init=<authority>:<code>' syntax is deprecated. '<authority>:<code>' is the preferred initialization method. When making the change, be mindful of axis order changes: https://pyproj4.github.io/pyproj/stable/gotchas.html#axis-order-changes-in-proj-6\n",
      "  return _prepare_from_string(\" \".join(pjargs))\n",
      "/home/rpartsey/.virtualenvs/change_detection/lib/python3.6/site-packages/pyproj/crs/crs.py:53: FutureWarning: '+init=<authority>:<code>' syntax is deprecated. '<authority>:<code>' is the preferred initialization method. When making the change, be mindful of axis order changes: https://pyproj4.github.io/pyproj/stable/gotchas.html#axis-order-changes-in-proj-6\n",
      "  return _prepare_from_string(\" \".join(pjargs))\n",
      "/home/rpartsey/.virtualenvs/change_detection/lib/python3.6/site-packages/pyproj/crs/crs.py:53: FutureWarning: '+init=<authority>:<code>' syntax is deprecated. '<authority>:<code>' is the preferred initialization method. When making the change, be mindful of axis order changes: https://pyproj4.github.io/pyproj/stable/gotchas.html#axis-order-changes-in-proj-6\n",
      "  return _prepare_from_string(\" \".join(pjargs))\n",
      "/home/rpartsey/.virtualenvs/change_detection/lib/python3.6/site-packages/pyproj/crs/crs.py:53: FutureWarning: '+init=<authority>:<code>' syntax is deprecated. '<authority>:<code>' is the preferred initialization method. When making the change, be mindful of axis order changes: https://pyproj4.github.io/pyproj/stable/gotchas.html#axis-order-changes-in-proj-6\n",
      "  return _prepare_from_string(\" \".join(pjargs))\n",
      "/home/rpartsey/.virtualenvs/change_detection/lib/python3.6/site-packages/pyproj/crs/crs.py:53: FutureWarning: '+init=<authority>:<code>' syntax is deprecated. '<authority>:<code>' is the preferred initialization method. When making the change, be mindful of axis order changes: https://pyproj4.github.io/pyproj/stable/gotchas.html#axis-order-changes-in-proj-6\n",
      "  return _prepare_from_string(\" \".join(pjargs))\n",
      "/home/rpartsey/.virtualenvs/change_detection/lib/python3.6/site-packages/pyproj/crs/crs.py:53: FutureWarning: '+init=<authority>:<code>' syntax is deprecated. '<authority>:<code>' is the preferred initialization method. When making the change, be mindful of axis order changes: https://pyproj4.github.io/pyproj/stable/gotchas.html#axis-order-changes-in-proj-6\n",
      "  return _prepare_from_string(\" \".join(pjargs))\n",
      "/home/rpartsey/.virtualenvs/change_detection/lib/python3.6/site-packages/pyproj/crs/crs.py:53: FutureWarning: '+init=<authority>:<code>' syntax is deprecated. '<authority>:<code>' is the preferred initialization method. When making the change, be mindful of axis order changes: https://pyproj4.github.io/pyproj/stable/gotchas.html#axis-order-changes-in-proj-6\n",
      "  return _prepare_from_string(\" \".join(pjargs))\n",
      "/home/rpartsey/.virtualenvs/change_detection/lib/python3.6/site-packages/pyproj/crs/crs.py:53: FutureWarning: '+init=<authority>:<code>' syntax is deprecated. '<authority>:<code>' is the preferred initialization method. When making the change, be mindful of axis order changes: https://pyproj4.github.io/pyproj/stable/gotchas.html#axis-order-changes-in-proj-6\n",
      "  return _prepare_from_string(\" \".join(pjargs))\n",
      "/home/rpartsey/.virtualenvs/change_detection/lib/python3.6/site-packages/pyproj/crs/crs.py:53: FutureWarning: '+init=<authority>:<code>' syntax is deprecated. '<authority>:<code>' is the preferred initialization method. When making the change, be mindful of axis order changes: https://pyproj4.github.io/pyproj/stable/gotchas.html#axis-order-changes-in-proj-6\n",
      "  return _prepare_from_string(\" \".join(pjargs))\n",
      "/home/rpartsey/.virtualenvs/change_detection/lib/python3.6/site-packages/pyproj/crs/crs.py:53: FutureWarning: '+init=<authority>:<code>' syntax is deprecated. '<authority>:<code>' is the preferred initialization method. When making the change, be mindful of axis order changes: https://pyproj4.github.io/pyproj/stable/gotchas.html#axis-order-changes-in-proj-6\n",
      "  return _prepare_from_string(\" \".join(pjargs))\n",
      "/home/rpartsey/.virtualenvs/change_detection/lib/python3.6/site-packages/pyproj/crs/crs.py:53: FutureWarning: '+init=<authority>:<code>' syntax is deprecated. '<authority>:<code>' is the preferred initialization method. When making the change, be mindful of axis order changes: https://pyproj4.github.io/pyproj/stable/gotchas.html#axis-order-changes-in-proj-6\n",
      "  return _prepare_from_string(\" \".join(pjargs))\n",
      "/home/rpartsey/.virtualenvs/change_detection/lib/python3.6/site-packages/pyproj/crs/crs.py:53: FutureWarning: '+init=<authority>:<code>' syntax is deprecated. '<authority>:<code>' is the preferred initialization method. When making the change, be mindful of axis order changes: https://pyproj4.github.io/pyproj/stable/gotchas.html#axis-order-changes-in-proj-6\n",
      "  return _prepare_from_string(\" \".join(pjargs))\n",
      "/home/rpartsey/.virtualenvs/change_detection/lib/python3.6/site-packages/pyproj/crs/crs.py:53: FutureWarning: '+init=<authority>:<code>' syntax is deprecated. '<authority>:<code>' is the preferred initialization method. When making the change, be mindful of axis order changes: https://pyproj4.github.io/pyproj/stable/gotchas.html#axis-order-changes-in-proj-6\n",
      "  return _prepare_from_string(\" \".join(pjargs))\n",
      "/home/rpartsey/.virtualenvs/change_detection/lib/python3.6/site-packages/pyproj/crs/crs.py:53: FutureWarning: '+init=<authority>:<code>' syntax is deprecated. '<authority>:<code>' is the preferred initialization method. When making the change, be mindful of axis order changes: https://pyproj4.github.io/pyproj/stable/gotchas.html#axis-order-changes-in-proj-6\n",
      "  return _prepare_from_string(\" \".join(pjargs))\n"
     ]
    },
    {
     "name": "stderr",
     "output_type": "stream",
     "text": [
      "/home/rpartsey/.virtualenvs/change_detection/lib/python3.6/site-packages/pyproj/crs/crs.py:53: FutureWarning: '+init=<authority>:<code>' syntax is deprecated. '<authority>:<code>' is the preferred initialization method. When making the change, be mindful of axis order changes: https://pyproj4.github.io/pyproj/stable/gotchas.html#axis-order-changes-in-proj-6\n",
      "  return _prepare_from_string(\" \".join(pjargs))\n",
      "/home/rpartsey/.virtualenvs/change_detection/lib/python3.6/site-packages/pyproj/crs/crs.py:53: FutureWarning: '+init=<authority>:<code>' syntax is deprecated. '<authority>:<code>' is the preferred initialization method. When making the change, be mindful of axis order changes: https://pyproj4.github.io/pyproj/stable/gotchas.html#axis-order-changes-in-proj-6\n",
      "  return _prepare_from_string(\" \".join(pjargs))\n",
      "/home/rpartsey/.virtualenvs/change_detection/lib/python3.6/site-packages/pyproj/crs/crs.py:53: FutureWarning: '+init=<authority>:<code>' syntax is deprecated. '<authority>:<code>' is the preferred initialization method. When making the change, be mindful of axis order changes: https://pyproj4.github.io/pyproj/stable/gotchas.html#axis-order-changes-in-proj-6\n",
      "  return _prepare_from_string(\" \".join(pjargs))\n",
      "/home/rpartsey/.virtualenvs/change_detection/lib/python3.6/site-packages/pyproj/crs/crs.py:53: FutureWarning: '+init=<authority>:<code>' syntax is deprecated. '<authority>:<code>' is the preferred initialization method. When making the change, be mindful of axis order changes: https://pyproj4.github.io/pyproj/stable/gotchas.html#axis-order-changes-in-proj-6\n",
      "  return _prepare_from_string(\" \".join(pjargs))\n",
      "/home/rpartsey/.virtualenvs/change_detection/lib/python3.6/site-packages/pyproj/crs/crs.py:53: FutureWarning: '+init=<authority>:<code>' syntax is deprecated. '<authority>:<code>' is the preferred initialization method. When making the change, be mindful of axis order changes: https://pyproj4.github.io/pyproj/stable/gotchas.html#axis-order-changes-in-proj-6\n",
      "  return _prepare_from_string(\" \".join(pjargs))\n",
      "/home/rpartsey/.virtualenvs/change_detection/lib/python3.6/site-packages/pyproj/crs/crs.py:53: FutureWarning: '+init=<authority>:<code>' syntax is deprecated. '<authority>:<code>' is the preferred initialization method. When making the change, be mindful of axis order changes: https://pyproj4.github.io/pyproj/stable/gotchas.html#axis-order-changes-in-proj-6\n",
      "  return _prepare_from_string(\" \".join(pjargs))\n",
      "/home/rpartsey/.virtualenvs/change_detection/lib/python3.6/site-packages/pyproj/crs/crs.py:53: FutureWarning: '+init=<authority>:<code>' syntax is deprecated. '<authority>:<code>' is the preferred initialization method. When making the change, be mindful of axis order changes: https://pyproj4.github.io/pyproj/stable/gotchas.html#axis-order-changes-in-proj-6\n",
      "  return _prepare_from_string(\" \".join(pjargs))\n",
      "/home/rpartsey/.virtualenvs/change_detection/lib/python3.6/site-packages/pyproj/crs/crs.py:53: FutureWarning: '+init=<authority>:<code>' syntax is deprecated. '<authority>:<code>' is the preferred initialization method. When making the change, be mindful of axis order changes: https://pyproj4.github.io/pyproj/stable/gotchas.html#axis-order-changes-in-proj-6\n",
      "  return _prepare_from_string(\" \".join(pjargs))\n",
      "/home/rpartsey/.virtualenvs/change_detection/lib/python3.6/site-packages/pyproj/crs/crs.py:53: FutureWarning: '+init=<authority>:<code>' syntax is deprecated. '<authority>:<code>' is the preferred initialization method. When making the change, be mindful of axis order changes: https://pyproj4.github.io/pyproj/stable/gotchas.html#axis-order-changes-in-proj-6\n",
      "  return _prepare_from_string(\" \".join(pjargs))\n",
      "/home/rpartsey/.virtualenvs/change_detection/lib/python3.6/site-packages/pyproj/crs/crs.py:53: FutureWarning: '+init=<authority>:<code>' syntax is deprecated. '<authority>:<code>' is the preferred initialization method. When making the change, be mindful of axis order changes: https://pyproj4.github.io/pyproj/stable/gotchas.html#axis-order-changes-in-proj-6\n",
      "  return _prepare_from_string(\" \".join(pjargs))\n",
      "/home/rpartsey/.virtualenvs/change_detection/lib/python3.6/site-packages/pyproj/crs/crs.py:53: FutureWarning: '+init=<authority>:<code>' syntax is deprecated. '<authority>:<code>' is the preferred initialization method. When making the change, be mindful of axis order changes: https://pyproj4.github.io/pyproj/stable/gotchas.html#axis-order-changes-in-proj-6\n",
      "  return _prepare_from_string(\" \".join(pjargs))\n",
      "/home/rpartsey/.virtualenvs/change_detection/lib/python3.6/site-packages/pyproj/crs/crs.py:53: FutureWarning: '+init=<authority>:<code>' syntax is deprecated. '<authority>:<code>' is the preferred initialization method. When making the change, be mindful of axis order changes: https://pyproj4.github.io/pyproj/stable/gotchas.html#axis-order-changes-in-proj-6\n",
      "  return _prepare_from_string(\" \".join(pjargs))\n",
      "/home/rpartsey/.virtualenvs/change_detection/lib/python3.6/site-packages/pyproj/crs/crs.py:53: FutureWarning: '+init=<authority>:<code>' syntax is deprecated. '<authority>:<code>' is the preferred initialization method. When making the change, be mindful of axis order changes: https://pyproj4.github.io/pyproj/stable/gotchas.html#axis-order-changes-in-proj-6\n",
      "  return _prepare_from_string(\" \".join(pjargs))\n",
      "/home/rpartsey/.virtualenvs/change_detection/lib/python3.6/site-packages/pyproj/crs/crs.py:53: FutureWarning: '+init=<authority>:<code>' syntax is deprecated. '<authority>:<code>' is the preferred initialization method. When making the change, be mindful of axis order changes: https://pyproj4.github.io/pyproj/stable/gotchas.html#axis-order-changes-in-proj-6\n",
      "  return _prepare_from_string(\" \".join(pjargs))\n",
      "/home/rpartsey/.virtualenvs/change_detection/lib/python3.6/site-packages/pyproj/crs/crs.py:53: FutureWarning: '+init=<authority>:<code>' syntax is deprecated. '<authority>:<code>' is the preferred initialization method. When making the change, be mindful of axis order changes: https://pyproj4.github.io/pyproj/stable/gotchas.html#axis-order-changes-in-proj-6\n",
      "  return _prepare_from_string(\" \".join(pjargs))\n",
      "/home/rpartsey/.virtualenvs/change_detection/lib/python3.6/site-packages/pyproj/crs/crs.py:53: FutureWarning: '+init=<authority>:<code>' syntax is deprecated. '<authority>:<code>' is the preferred initialization method. When making the change, be mindful of axis order changes: https://pyproj4.github.io/pyproj/stable/gotchas.html#axis-order-changes-in-proj-6\n",
      "  return _prepare_from_string(\" \".join(pjargs))\n",
      "/home/rpartsey/.virtualenvs/change_detection/lib/python3.6/site-packages/pyproj/crs/crs.py:53: FutureWarning: '+init=<authority>:<code>' syntax is deprecated. '<authority>:<code>' is the preferred initialization method. When making the change, be mindful of axis order changes: https://pyproj4.github.io/pyproj/stable/gotchas.html#axis-order-changes-in-proj-6\n",
      "  return _prepare_from_string(\" \".join(pjargs))\n",
      "/home/rpartsey/.virtualenvs/change_detection/lib/python3.6/site-packages/pyproj/crs/crs.py:53: FutureWarning: '+init=<authority>:<code>' syntax is deprecated. '<authority>:<code>' is the preferred initialization method. When making the change, be mindful of axis order changes: https://pyproj4.github.io/pyproj/stable/gotchas.html#axis-order-changes-in-proj-6\n",
      "  return _prepare_from_string(\" \".join(pjargs))\n",
      "/home/rpartsey/.virtualenvs/change_detection/lib/python3.6/site-packages/pyproj/crs/crs.py:53: FutureWarning: '+init=<authority>:<code>' syntax is deprecated. '<authority>:<code>' is the preferred initialization method. When making the change, be mindful of axis order changes: https://pyproj4.github.io/pyproj/stable/gotchas.html#axis-order-changes-in-proj-6\n",
      "  return _prepare_from_string(\" \".join(pjargs))\n",
      "/home/rpartsey/.virtualenvs/change_detection/lib/python3.6/site-packages/pyproj/crs/crs.py:53: FutureWarning: '+init=<authority>:<code>' syntax is deprecated. '<authority>:<code>' is the preferred initialization method. When making the change, be mindful of axis order changes: https://pyproj4.github.io/pyproj/stable/gotchas.html#axis-order-changes-in-proj-6\n",
      "  return _prepare_from_string(\" \".join(pjargs))\n",
      "/home/rpartsey/.virtualenvs/change_detection/lib/python3.6/site-packages/pyproj/crs/crs.py:53: FutureWarning: '+init=<authority>:<code>' syntax is deprecated. '<authority>:<code>' is the preferred initialization method. When making the change, be mindful of axis order changes: https://pyproj4.github.io/pyproj/stable/gotchas.html#axis-order-changes-in-proj-6\n",
      "  return _prepare_from_string(\" \".join(pjargs))\n",
      "/home/rpartsey/.virtualenvs/change_detection/lib/python3.6/site-packages/pyproj/crs/crs.py:53: FutureWarning: '+init=<authority>:<code>' syntax is deprecated. '<authority>:<code>' is the preferred initialization method. When making the change, be mindful of axis order changes: https://pyproj4.github.io/pyproj/stable/gotchas.html#axis-order-changes-in-proj-6\n",
      "  return _prepare_from_string(\" \".join(pjargs))\n",
      "/home/rpartsey/.virtualenvs/change_detection/lib/python3.6/site-packages/pyproj/crs/crs.py:53: FutureWarning: '+init=<authority>:<code>' syntax is deprecated. '<authority>:<code>' is the preferred initialization method. When making the change, be mindful of axis order changes: https://pyproj4.github.io/pyproj/stable/gotchas.html#axis-order-changes-in-proj-6\n",
      "  return _prepare_from_string(\" \".join(pjargs))\n"
     ]
    },
    {
     "name": "stderr",
     "output_type": "stream",
     "text": [
      "/home/rpartsey/.virtualenvs/change_detection/lib/python3.6/site-packages/pyproj/crs/crs.py:53: FutureWarning: '+init=<authority>:<code>' syntax is deprecated. '<authority>:<code>' is the preferred initialization method. When making the change, be mindful of axis order changes: https://pyproj4.github.io/pyproj/stable/gotchas.html#axis-order-changes-in-proj-6\n",
      "  return _prepare_from_string(\" \".join(pjargs))\n",
      "/home/rpartsey/.virtualenvs/change_detection/lib/python3.6/site-packages/pyproj/crs/crs.py:53: FutureWarning: '+init=<authority>:<code>' syntax is deprecated. '<authority>:<code>' is the preferred initialization method. When making the change, be mindful of axis order changes: https://pyproj4.github.io/pyproj/stable/gotchas.html#axis-order-changes-in-proj-6\n",
      "  return _prepare_from_string(\" \".join(pjargs))\n",
      "/home/rpartsey/.virtualenvs/change_detection/lib/python3.6/site-packages/pyproj/crs/crs.py:53: FutureWarning: '+init=<authority>:<code>' syntax is deprecated. '<authority>:<code>' is the preferred initialization method. When making the change, be mindful of axis order changes: https://pyproj4.github.io/pyproj/stable/gotchas.html#axis-order-changes-in-proj-6\n",
      "  return _prepare_from_string(\" \".join(pjargs))\n",
      "/home/rpartsey/.virtualenvs/change_detection/lib/python3.6/site-packages/pyproj/crs/crs.py:53: FutureWarning: '+init=<authority>:<code>' syntax is deprecated. '<authority>:<code>' is the preferred initialization method. When making the change, be mindful of axis order changes: https://pyproj4.github.io/pyproj/stable/gotchas.html#axis-order-changes-in-proj-6\n",
      "  return _prepare_from_string(\" \".join(pjargs))\n",
      "/home/rpartsey/.virtualenvs/change_detection/lib/python3.6/site-packages/pyproj/crs/crs.py:53: FutureWarning: '+init=<authority>:<code>' syntax is deprecated. '<authority>:<code>' is the preferred initialization method. When making the change, be mindful of axis order changes: https://pyproj4.github.io/pyproj/stable/gotchas.html#axis-order-changes-in-proj-6\n",
      "  return _prepare_from_string(\" \".join(pjargs))\n",
      "/home/rpartsey/.virtualenvs/change_detection/lib/python3.6/site-packages/pyproj/crs/crs.py:53: FutureWarning: '+init=<authority>:<code>' syntax is deprecated. '<authority>:<code>' is the preferred initialization method. When making the change, be mindful of axis order changes: https://pyproj4.github.io/pyproj/stable/gotchas.html#axis-order-changes-in-proj-6\n",
      "  return _prepare_from_string(\" \".join(pjargs))\n",
      "/home/rpartsey/.virtualenvs/change_detection/lib/python3.6/site-packages/pyproj/crs/crs.py:53: FutureWarning: '+init=<authority>:<code>' syntax is deprecated. '<authority>:<code>' is the preferred initialization method. When making the change, be mindful of axis order changes: https://pyproj4.github.io/pyproj/stable/gotchas.html#axis-order-changes-in-proj-6\n",
      "  return _prepare_from_string(\" \".join(pjargs))\n",
      "/home/rpartsey/.virtualenvs/change_detection/lib/python3.6/site-packages/pyproj/crs/crs.py:53: FutureWarning: '+init=<authority>:<code>' syntax is deprecated. '<authority>:<code>' is the preferred initialization method. When making the change, be mindful of axis order changes: https://pyproj4.github.io/pyproj/stable/gotchas.html#axis-order-changes-in-proj-6\n",
      "  return _prepare_from_string(\" \".join(pjargs))\n",
      "/home/rpartsey/.virtualenvs/change_detection/lib/python3.6/site-packages/pyproj/crs/crs.py:53: FutureWarning: '+init=<authority>:<code>' syntax is deprecated. '<authority>:<code>' is the preferred initialization method. When making the change, be mindful of axis order changes: https://pyproj4.github.io/pyproj/stable/gotchas.html#axis-order-changes-in-proj-6\n",
      "  return _prepare_from_string(\" \".join(pjargs))\n",
      "/home/rpartsey/.virtualenvs/change_detection/lib/python3.6/site-packages/pyproj/crs/crs.py:53: FutureWarning: '+init=<authority>:<code>' syntax is deprecated. '<authority>:<code>' is the preferred initialization method. When making the change, be mindful of axis order changes: https://pyproj4.github.io/pyproj/stable/gotchas.html#axis-order-changes-in-proj-6\n",
      "  return _prepare_from_string(\" \".join(pjargs))\n",
      "/home/rpartsey/.virtualenvs/change_detection/lib/python3.6/site-packages/pyproj/crs/crs.py:53: FutureWarning: '+init=<authority>:<code>' syntax is deprecated. '<authority>:<code>' is the preferred initialization method. When making the change, be mindful of axis order changes: https://pyproj4.github.io/pyproj/stable/gotchas.html#axis-order-changes-in-proj-6\n",
      "  return _prepare_from_string(\" \".join(pjargs))\n",
      "/home/rpartsey/.virtualenvs/change_detection/lib/python3.6/site-packages/pyproj/crs/crs.py:53: FutureWarning: '+init=<authority>:<code>' syntax is deprecated. '<authority>:<code>' is the preferred initialization method. When making the change, be mindful of axis order changes: https://pyproj4.github.io/pyproj/stable/gotchas.html#axis-order-changes-in-proj-6\n",
      "  return _prepare_from_string(\" \".join(pjargs))\n",
      "/home/rpartsey/.virtualenvs/change_detection/lib/python3.6/site-packages/pyproj/crs/crs.py:53: FutureWarning: '+init=<authority>:<code>' syntax is deprecated. '<authority>:<code>' is the preferred initialization method. When making the change, be mindful of axis order changes: https://pyproj4.github.io/pyproj/stable/gotchas.html#axis-order-changes-in-proj-6\n",
      "  return _prepare_from_string(\" \".join(pjargs))\n"
     ]
    }
   ],
   "source": [
    "def create_shapes_bitmask(source_meta, shapes, mask_path):\n",
    "    \"\"\"\n",
    "    Creates bit masks for shapes that intersect with raster image coordinates.\n",
    "\n",
    "    :param source_meta: opened raster image\n",
    "    :param shapes: iterable with shapes\n",
    "    :param mask_file_name: file name to store mask on disk\n",
    "    :return: None\n",
    "    \"\"\"\n",
    "    im_size = (source_meta['height'], source_meta['width'])\n",
    "\n",
    "    bitmask = rasterize(\n",
    "        shapes=shapes,\n",
    "        out_shape=im_size,\n",
    "        transform=source_meta['transform']\n",
    "    )\n",
    "\n",
    "    bitmask_meta = {\n",
    "        **source_meta,\n",
    "        'dtype': rasterio.uint8,\n",
    "        'count': 1\n",
    "    }\n",
    "\n",
    "    with rasterio.open(mask_path, 'w', **bitmask_meta) as dest:\n",
    "        dest.write(bitmask, indexes=1)\n",
    "\n",
    "\n",
    "images = sorted(glob('/datasets/rpartsey/satellite/planet/smart_crop/images/*.tif'))\n",
    "geojsons = sorted(glob('/datasets/rpartsey/satellite/planet/smart_crop/geojsons/*.geojson'))\n",
    "        \n",
    "for image_path, shapes_path in zip(images, geojsons):\n",
    "    mask_path = image_path.replace('images', 'masks')\n",
    "    shapes_df = gpd.read_file(shapes_path)\n",
    "\n",
    "    with rasterio.open(image_path) as src:\n",
    "        shapes_df = shapes_df.to_crs({'init' : src.meta['crs']['init']})\n",
    "\n",
    "        create_shapes_bitmask(\n",
    "            source_meta=src.meta,\n",
    "            shapes=shapes_df.geometry,\n",
    "            mask_path=mask_path\n",
    "        )"
   ]
  },
  {
   "cell_type": "code",
   "execution_count": 48,
   "metadata": {},
   "outputs": [],
   "source": [
    "# NOTE: run with caution, this will regenerate masks \n",
    "\n",
    "# generate_masks(merged_df)"
   ]
  },
  {
   "cell_type": "code",
   "execution_count": 2,
   "metadata": {},
   "outputs": [],
   "source": []
  },
  {
   "cell_type": "code",
   "execution_count": 6,
   "metadata": {},
   "outputs": [],
   "source": [
    "df = pd.DataFrame()"
   ]
  },
  {
   "cell_type": "code",
   "execution_count": 7,
   "metadata": {},
   "outputs": [],
   "source": [
    "df['image_path'] = sorted(glob('/datasets/rpartsey/satellite/planet/smart_crop/with_mask/images/*.tif'))\n",
    "df['mask_path'] = sorted(glob('/datasets/rpartsey/satellite/planet/smart_crop/with_mask/masks/*.tif'))\n",
    "df['bbox_path'] = sorted(glob('/datasets/rpartsey/satellite/planet/smart_crop/with_mask/bboxes/*.geojson'))\n",
    "# df['geojson'] = sorted(glob('/datasets/rpartsey/satellite/planet/smart_crop/with_mask/geojsons/*.geojson'))"
   ]
  },
  {
   "cell_type": "code",
   "execution_count": 8,
   "metadata": {},
   "outputs": [],
   "source": [
    "for _, (image, mask, bbox) in df.iterrows():\n",
    "    assert os.path.exists(image) and os.path.exists(mask) and os.path.exists(bbox) # and os.path.exists(geojson)"
   ]
  },
  {
   "cell_type": "code",
   "execution_count": 6,
   "metadata": {},
   "outputs": [
    {
     "data": {
      "text/plain": [
       "(372, 2)"
      ]
     },
     "execution_count": 6,
     "metadata": {},
     "output_type": "execute_result"
    }
   ],
   "source": [
    "df.shape"
   ]
  },
  {
   "cell_type": "code",
   "execution_count": 9,
   "metadata": {},
   "outputs": [],
   "source": [
    "df.to_csv('/datasets/rpartsey/satellite/planet/smart_crop/with_mask/files.csv', index=False)"
   ]
  },
  {
   "cell_type": "code",
   "execution_count": null,
   "metadata": {},
   "outputs": [],
   "source": []
  },
  {
   "cell_type": "code",
   "execution_count": null,
   "metadata": {},
   "outputs": [],
   "source": []
  },
  {
   "cell_type": "code",
   "execution_count": 12,
   "metadata": {},
   "outputs": [],
   "source": [
    "df = pd.DataFrame()\n",
    "df['image_path'] = sorted(glob('/datasets/rpartsey/satellite/planet/smart_crop/without_mask/images/*.tif'))\n",
    "df['mask_path'] = sorted(glob('/datasets/rpartsey/satellite/planet/smart_crop/without_mask/masks/*.tif'))\n",
    "df['bbox_path'] = sorted(glob('/datasets/rpartsey/satellite/planet/smart_crop/without_mask/bboxes/*.geojson'))\n",
    "# df['geojson'] = sorted(glob('/datasets/rpartsey/satellite/planet/smart_crop/without_mask/geojsons/*.geojson'))"
   ]
  },
  {
   "cell_type": "code",
   "execution_count": 13,
   "metadata": {},
   "outputs": [],
   "source": [
    "for _, (image, mask, bbox) in df.iterrows():\n",
    "    assert os.path.exists(image) and os.path.exists(mask) and os.path.exists(bbox) # and os.path.exists(geojson)"
   ]
  },
  {
   "cell_type": "code",
   "execution_count": 14,
   "metadata": {},
   "outputs": [
    {
     "data": {
      "text/plain": [
       "(408, 3)"
      ]
     },
     "execution_count": 14,
     "metadata": {},
     "output_type": "execute_result"
    }
   ],
   "source": [
    "df.shape"
   ]
  },
  {
   "cell_type": "code",
   "execution_count": 15,
   "metadata": {},
   "outputs": [],
   "source": [
    "df.to_csv('/datasets/rpartsey/satellite/planet/smart_crop/without_mask/files.csv', index=False)"
   ]
  },
  {
   "cell_type": "code",
   "execution_count": null,
   "metadata": {},
   "outputs": [],
   "source": []
  },
  {
   "cell_type": "code",
   "execution_count": 3,
   "metadata": {},
   "outputs": [
    {
     "name": "stdout",
     "output_type": "stream",
     "text": [
      "(372, 3)\n"
     ]
    },
    {
     "data": {
      "text/html": [
       "<div>\n",
       "<style scoped>\n",
       "    .dataframe tbody tr th:only-of-type {\n",
       "        vertical-align: middle;\n",
       "    }\n",
       "\n",
       "    .dataframe tbody tr th {\n",
       "        vertical-align: top;\n",
       "    }\n",
       "\n",
       "    .dataframe thead th {\n",
       "        text-align: right;\n",
       "    }\n",
       "</style>\n",
       "<table border=\"1\" class=\"dataframe\">\n",
       "  <thead>\n",
       "    <tr style=\"text-align: right;\">\n",
       "      <th></th>\n",
       "      <th>image_path</th>\n",
       "      <th>mask_path</th>\n",
       "      <th>bbox_path</th>\n",
       "    </tr>\n",
       "  </thead>\n",
       "  <tbody>\n",
       "    <tr>\n",
       "      <th>0</th>\n",
       "      <td>/datasets/rpartsey/satellite/planet/smart_crop...</td>\n",
       "      <td>/datasets/rpartsey/satellite/planet/smart_crop...</td>\n",
       "      <td>/datasets/rpartsey/satellite/planet/smart_crop...</td>\n",
       "    </tr>\n",
       "    <tr>\n",
       "      <th>1</th>\n",
       "      <td>/datasets/rpartsey/satellite/planet/smart_crop...</td>\n",
       "      <td>/datasets/rpartsey/satellite/planet/smart_crop...</td>\n",
       "      <td>/datasets/rpartsey/satellite/planet/smart_crop...</td>\n",
       "    </tr>\n",
       "    <tr>\n",
       "      <th>2</th>\n",
       "      <td>/datasets/rpartsey/satellite/planet/smart_crop...</td>\n",
       "      <td>/datasets/rpartsey/satellite/planet/smart_crop...</td>\n",
       "      <td>/datasets/rpartsey/satellite/planet/smart_crop...</td>\n",
       "    </tr>\n",
       "    <tr>\n",
       "      <th>3</th>\n",
       "      <td>/datasets/rpartsey/satellite/planet/smart_crop...</td>\n",
       "      <td>/datasets/rpartsey/satellite/planet/smart_crop...</td>\n",
       "      <td>/datasets/rpartsey/satellite/planet/smart_crop...</td>\n",
       "    </tr>\n",
       "    <tr>\n",
       "      <th>4</th>\n",
       "      <td>/datasets/rpartsey/satellite/planet/smart_crop...</td>\n",
       "      <td>/datasets/rpartsey/satellite/planet/smart_crop...</td>\n",
       "      <td>/datasets/rpartsey/satellite/planet/smart_crop...</td>\n",
       "    </tr>\n",
       "  </tbody>\n",
       "</table>\n",
       "</div>"
      ],
      "text/plain": [
       "                                          image_path  \\\n",
       "0  /datasets/rpartsey/satellite/planet/smart_crop...   \n",
       "1  /datasets/rpartsey/satellite/planet/smart_crop...   \n",
       "2  /datasets/rpartsey/satellite/planet/smart_crop...   \n",
       "3  /datasets/rpartsey/satellite/planet/smart_crop...   \n",
       "4  /datasets/rpartsey/satellite/planet/smart_crop...   \n",
       "\n",
       "                                           mask_path  \\\n",
       "0  /datasets/rpartsey/satellite/planet/smart_crop...   \n",
       "1  /datasets/rpartsey/satellite/planet/smart_crop...   \n",
       "2  /datasets/rpartsey/satellite/planet/smart_crop...   \n",
       "3  /datasets/rpartsey/satellite/planet/smart_crop...   \n",
       "4  /datasets/rpartsey/satellite/planet/smart_crop...   \n",
       "\n",
       "                                           bbox_path  \n",
       "0  /datasets/rpartsey/satellite/planet/smart_crop...  \n",
       "1  /datasets/rpartsey/satellite/planet/smart_crop...  \n",
       "2  /datasets/rpartsey/satellite/planet/smart_crop...  \n",
       "3  /datasets/rpartsey/satellite/planet/smart_crop...  \n",
       "4  /datasets/rpartsey/satellite/planet/smart_crop...  "
      ]
     },
     "execution_count": 3,
     "metadata": {},
     "output_type": "execute_result"
    }
   ],
   "source": [
    "df_with = pd.read_csv('/datasets/rpartsey/satellite/planet/smart_crop/with_mask/files.csv')\n",
    "print(df_with.shape)\n",
    "df_with.head()"
   ]
  },
  {
   "cell_type": "code",
   "execution_count": 33,
   "metadata": {},
   "outputs": [
    {
     "name": "stdout",
     "output_type": "stream",
     "text": [
      "(408, 3)\n"
     ]
    },
    {
     "data": {
      "text/html": [
       "<div>\n",
       "<style scoped>\n",
       "    .dataframe tbody tr th:only-of-type {\n",
       "        vertical-align: middle;\n",
       "    }\n",
       "\n",
       "    .dataframe tbody tr th {\n",
       "        vertical-align: top;\n",
       "    }\n",
       "\n",
       "    .dataframe thead th {\n",
       "        text-align: right;\n",
       "    }\n",
       "</style>\n",
       "<table border=\"1\" class=\"dataframe\">\n",
       "  <thead>\n",
       "    <tr style=\"text-align: right;\">\n",
       "      <th></th>\n",
       "      <th>image_path</th>\n",
       "      <th>mask_path</th>\n",
       "      <th>bbox_path</th>\n",
       "    </tr>\n",
       "  </thead>\n",
       "  <tbody>\n",
       "    <tr>\n",
       "      <th>0</th>\n",
       "      <td>/datasets/rpartsey/satellite/planet/smart_crop...</td>\n",
       "      <td>/datasets/rpartsey/satellite/planet/smart_crop...</td>\n",
       "      <td>/datasets/rpartsey/satellite/planet/smart_crop...</td>\n",
       "    </tr>\n",
       "    <tr>\n",
       "      <th>1</th>\n",
       "      <td>/datasets/rpartsey/satellite/planet/smart_crop...</td>\n",
       "      <td>/datasets/rpartsey/satellite/planet/smart_crop...</td>\n",
       "      <td>/datasets/rpartsey/satellite/planet/smart_crop...</td>\n",
       "    </tr>\n",
       "    <tr>\n",
       "      <th>2</th>\n",
       "      <td>/datasets/rpartsey/satellite/planet/smart_crop...</td>\n",
       "      <td>/datasets/rpartsey/satellite/planet/smart_crop...</td>\n",
       "      <td>/datasets/rpartsey/satellite/planet/smart_crop...</td>\n",
       "    </tr>\n",
       "    <tr>\n",
       "      <th>3</th>\n",
       "      <td>/datasets/rpartsey/satellite/planet/smart_crop...</td>\n",
       "      <td>/datasets/rpartsey/satellite/planet/smart_crop...</td>\n",
       "      <td>/datasets/rpartsey/satellite/planet/smart_crop...</td>\n",
       "    </tr>\n",
       "    <tr>\n",
       "      <th>4</th>\n",
       "      <td>/datasets/rpartsey/satellite/planet/smart_crop...</td>\n",
       "      <td>/datasets/rpartsey/satellite/planet/smart_crop...</td>\n",
       "      <td>/datasets/rpartsey/satellite/planet/smart_crop...</td>\n",
       "    </tr>\n",
       "  </tbody>\n",
       "</table>\n",
       "</div>"
      ],
      "text/plain": [
       "                                          image_path  \\\n",
       "0  /datasets/rpartsey/satellite/planet/smart_crop...   \n",
       "1  /datasets/rpartsey/satellite/planet/smart_crop...   \n",
       "2  /datasets/rpartsey/satellite/planet/smart_crop...   \n",
       "3  /datasets/rpartsey/satellite/planet/smart_crop...   \n",
       "4  /datasets/rpartsey/satellite/planet/smart_crop...   \n",
       "\n",
       "                                           mask_path  \\\n",
       "0  /datasets/rpartsey/satellite/planet/smart_crop...   \n",
       "1  /datasets/rpartsey/satellite/planet/smart_crop...   \n",
       "2  /datasets/rpartsey/satellite/planet/smart_crop...   \n",
       "3  /datasets/rpartsey/satellite/planet/smart_crop...   \n",
       "4  /datasets/rpartsey/satellite/planet/smart_crop...   \n",
       "\n",
       "                                           bbox_path  \n",
       "0  /datasets/rpartsey/satellite/planet/smart_crop...  \n",
       "1  /datasets/rpartsey/satellite/planet/smart_crop...  \n",
       "2  /datasets/rpartsey/satellite/planet/smart_crop...  \n",
       "3  /datasets/rpartsey/satellite/planet/smart_crop...  \n",
       "4  /datasets/rpartsey/satellite/planet/smart_crop...  "
      ]
     },
     "execution_count": 33,
     "metadata": {},
     "output_type": "execute_result"
    }
   ],
   "source": [
    "df_without = pd.read_csv('/datasets/rpartsey/satellite/planet/smart_crop/without_mask/files.csv')\n",
    "print(df_without.shape)\n",
    "df_without.head()"
   ]
  },
  {
   "cell_type": "code",
   "execution_count": 34,
   "metadata": {},
   "outputs": [
    {
     "data": {
      "text/html": [
       "<div>\n",
       "<style scoped>\n",
       "    .dataframe tbody tr th:only-of-type {\n",
       "        vertical-align: middle;\n",
       "    }\n",
       "\n",
       "    .dataframe tbody tr th {\n",
       "        vertical-align: top;\n",
       "    }\n",
       "\n",
       "    .dataframe thead th {\n",
       "        text-align: right;\n",
       "    }\n",
       "</style>\n",
       "<table border=\"1\" class=\"dataframe\">\n",
       "  <thead>\n",
       "    <tr style=\"text-align: right;\">\n",
       "      <th></th>\n",
       "      <th>image_path</th>\n",
       "      <th>mask_path</th>\n",
       "      <th>bbox_path</th>\n",
       "      <th>label</th>\n",
       "    </tr>\n",
       "  </thead>\n",
       "  <tbody>\n",
       "    <tr>\n",
       "      <th>0</th>\n",
       "      <td>/datasets/rpartsey/satellite/planet/smart_crop...</td>\n",
       "      <td>/datasets/rpartsey/satellite/planet/smart_crop...</td>\n",
       "      <td>/datasets/rpartsey/satellite/planet/smart_crop...</td>\n",
       "      <td>1</td>\n",
       "    </tr>\n",
       "    <tr>\n",
       "      <th>1</th>\n",
       "      <td>/datasets/rpartsey/satellite/planet/smart_crop...</td>\n",
       "      <td>/datasets/rpartsey/satellite/planet/smart_crop...</td>\n",
       "      <td>/datasets/rpartsey/satellite/planet/smart_crop...</td>\n",
       "      <td>1</td>\n",
       "    </tr>\n",
       "    <tr>\n",
       "      <th>2</th>\n",
       "      <td>/datasets/rpartsey/satellite/planet/smart_crop...</td>\n",
       "      <td>/datasets/rpartsey/satellite/planet/smart_crop...</td>\n",
       "      <td>/datasets/rpartsey/satellite/planet/smart_crop...</td>\n",
       "      <td>1</td>\n",
       "    </tr>\n",
       "    <tr>\n",
       "      <th>3</th>\n",
       "      <td>/datasets/rpartsey/satellite/planet/smart_crop...</td>\n",
       "      <td>/datasets/rpartsey/satellite/planet/smart_crop...</td>\n",
       "      <td>/datasets/rpartsey/satellite/planet/smart_crop...</td>\n",
       "      <td>1</td>\n",
       "    </tr>\n",
       "    <tr>\n",
       "      <th>4</th>\n",
       "      <td>/datasets/rpartsey/satellite/planet/smart_crop...</td>\n",
       "      <td>/datasets/rpartsey/satellite/planet/smart_crop...</td>\n",
       "      <td>/datasets/rpartsey/satellite/planet/smart_crop...</td>\n",
       "      <td>1</td>\n",
       "    </tr>\n",
       "  </tbody>\n",
       "</table>\n",
       "</div>"
      ],
      "text/plain": [
       "                                          image_path  \\\n",
       "0  /datasets/rpartsey/satellite/planet/smart_crop...   \n",
       "1  /datasets/rpartsey/satellite/planet/smart_crop...   \n",
       "2  /datasets/rpartsey/satellite/planet/smart_crop...   \n",
       "3  /datasets/rpartsey/satellite/planet/smart_crop...   \n",
       "4  /datasets/rpartsey/satellite/planet/smart_crop...   \n",
       "\n",
       "                                           mask_path  \\\n",
       "0  /datasets/rpartsey/satellite/planet/smart_crop...   \n",
       "1  /datasets/rpartsey/satellite/planet/smart_crop...   \n",
       "2  /datasets/rpartsey/satellite/planet/smart_crop...   \n",
       "3  /datasets/rpartsey/satellite/planet/smart_crop...   \n",
       "4  /datasets/rpartsey/satellite/planet/smart_crop...   \n",
       "\n",
       "                                           bbox_path  label  \n",
       "0  /datasets/rpartsey/satellite/planet/smart_crop...      1  \n",
       "1  /datasets/rpartsey/satellite/planet/smart_crop...      1  \n",
       "2  /datasets/rpartsey/satellite/planet/smart_crop...      1  \n",
       "3  /datasets/rpartsey/satellite/planet/smart_crop...      1  \n",
       "4  /datasets/rpartsey/satellite/planet/smart_crop...      1  "
      ]
     },
     "execution_count": 34,
     "metadata": {},
     "output_type": "execute_result"
    }
   ],
   "source": [
    "df_with['label'] = 1\n",
    "df_with.head()"
   ]
  },
  {
   "cell_type": "code",
   "execution_count": 35,
   "metadata": {},
   "outputs": [
    {
     "data": {
      "text/html": [
       "<div>\n",
       "<style scoped>\n",
       "    .dataframe tbody tr th:only-of-type {\n",
       "        vertical-align: middle;\n",
       "    }\n",
       "\n",
       "    .dataframe tbody tr th {\n",
       "        vertical-align: top;\n",
       "    }\n",
       "\n",
       "    .dataframe thead th {\n",
       "        text-align: right;\n",
       "    }\n",
       "</style>\n",
       "<table border=\"1\" class=\"dataframe\">\n",
       "  <thead>\n",
       "    <tr style=\"text-align: right;\">\n",
       "      <th></th>\n",
       "      <th>image_path</th>\n",
       "      <th>mask_path</th>\n",
       "      <th>bbox_path</th>\n",
       "      <th>label</th>\n",
       "    </tr>\n",
       "  </thead>\n",
       "  <tbody>\n",
       "    <tr>\n",
       "      <th>0</th>\n",
       "      <td>/datasets/rpartsey/satellite/planet/smart_crop...</td>\n",
       "      <td>/datasets/rpartsey/satellite/planet/smart_crop...</td>\n",
       "      <td>/datasets/rpartsey/satellite/planet/smart_crop...</td>\n",
       "      <td>0</td>\n",
       "    </tr>\n",
       "    <tr>\n",
       "      <th>1</th>\n",
       "      <td>/datasets/rpartsey/satellite/planet/smart_crop...</td>\n",
       "      <td>/datasets/rpartsey/satellite/planet/smart_crop...</td>\n",
       "      <td>/datasets/rpartsey/satellite/planet/smart_crop...</td>\n",
       "      <td>0</td>\n",
       "    </tr>\n",
       "    <tr>\n",
       "      <th>2</th>\n",
       "      <td>/datasets/rpartsey/satellite/planet/smart_crop...</td>\n",
       "      <td>/datasets/rpartsey/satellite/planet/smart_crop...</td>\n",
       "      <td>/datasets/rpartsey/satellite/planet/smart_crop...</td>\n",
       "      <td>0</td>\n",
       "    </tr>\n",
       "    <tr>\n",
       "      <th>3</th>\n",
       "      <td>/datasets/rpartsey/satellite/planet/smart_crop...</td>\n",
       "      <td>/datasets/rpartsey/satellite/planet/smart_crop...</td>\n",
       "      <td>/datasets/rpartsey/satellite/planet/smart_crop...</td>\n",
       "      <td>0</td>\n",
       "    </tr>\n",
       "    <tr>\n",
       "      <th>4</th>\n",
       "      <td>/datasets/rpartsey/satellite/planet/smart_crop...</td>\n",
       "      <td>/datasets/rpartsey/satellite/planet/smart_crop...</td>\n",
       "      <td>/datasets/rpartsey/satellite/planet/smart_crop...</td>\n",
       "      <td>0</td>\n",
       "    </tr>\n",
       "  </tbody>\n",
       "</table>\n",
       "</div>"
      ],
      "text/plain": [
       "                                          image_path  \\\n",
       "0  /datasets/rpartsey/satellite/planet/smart_crop...   \n",
       "1  /datasets/rpartsey/satellite/planet/smart_crop...   \n",
       "2  /datasets/rpartsey/satellite/planet/smart_crop...   \n",
       "3  /datasets/rpartsey/satellite/planet/smart_crop...   \n",
       "4  /datasets/rpartsey/satellite/planet/smart_crop...   \n",
       "\n",
       "                                           mask_path  \\\n",
       "0  /datasets/rpartsey/satellite/planet/smart_crop...   \n",
       "1  /datasets/rpartsey/satellite/planet/smart_crop...   \n",
       "2  /datasets/rpartsey/satellite/planet/smart_crop...   \n",
       "3  /datasets/rpartsey/satellite/planet/smart_crop...   \n",
       "4  /datasets/rpartsey/satellite/planet/smart_crop...   \n",
       "\n",
       "                                           bbox_path  label  \n",
       "0  /datasets/rpartsey/satellite/planet/smart_crop...      0  \n",
       "1  /datasets/rpartsey/satellite/planet/smart_crop...      0  \n",
       "2  /datasets/rpartsey/satellite/planet/smart_crop...      0  \n",
       "3  /datasets/rpartsey/satellite/planet/smart_crop...      0  \n",
       "4  /datasets/rpartsey/satellite/planet/smart_crop...      0  "
      ]
     },
     "execution_count": 35,
     "metadata": {},
     "output_type": "execute_result"
    }
   ],
   "source": [
    "df_without['label'] = 0\n",
    "df_without.head()"
   ]
  },
  {
   "cell_type": "code",
   "execution_count": 36,
   "metadata": {},
   "outputs": [],
   "source": [
    "df = pd.concat([df_with, df_without])"
   ]
  },
  {
   "cell_type": "code",
   "execution_count": 38,
   "metadata": {},
   "outputs": [],
   "source": [
    "date_part = file_name.map(lambda file_name: file_name[7:15] if 'spring' in file_name else file_name[14:22])"
   ]
  },
  {
   "cell_type": "code",
   "execution_count": 39,
   "metadata": {},
   "outputs": [],
   "source": [
    "date = date_part.map(lambda s: '{}-{}-{}'.format(s[:4], s[4:6], s[6:]))"
   ]
  },
  {
   "cell_type": "code",
   "execution_count": 40,
   "metadata": {},
   "outputs": [],
   "source": [
    "df['date'] = date"
   ]
  },
  {
   "cell_type": "code",
   "execution_count": 44,
   "metadata": {},
   "outputs": [
    {
     "data": {
      "text/html": [
       "<div>\n",
       "<style scoped>\n",
       "    .dataframe tbody tr th:only-of-type {\n",
       "        vertical-align: middle;\n",
       "    }\n",
       "\n",
       "    .dataframe tbody tr th {\n",
       "        vertical-align: top;\n",
       "    }\n",
       "\n",
       "    .dataframe thead th {\n",
       "        text-align: right;\n",
       "    }\n",
       "</style>\n",
       "<table border=\"1\" class=\"dataframe\">\n",
       "  <thead>\n",
       "    <tr style=\"text-align: right;\">\n",
       "      <th></th>\n",
       "      <th>date</th>\n",
       "      <th>image_path</th>\n",
       "      <th>mask_path</th>\n",
       "      <th>bbox_path</th>\n",
       "      <th>label</th>\n",
       "    </tr>\n",
       "  </thead>\n",
       "  <tbody>\n",
       "    <tr>\n",
       "      <th>0</th>\n",
       "      <td>2017-03-11</td>\n",
       "      <td>/datasets/rpartsey/satellite/planet/smart_crop...</td>\n",
       "      <td>/datasets/rpartsey/satellite/planet/smart_crop...</td>\n",
       "      <td>/datasets/rpartsey/satellite/planet/smart_crop...</td>\n",
       "      <td>1</td>\n",
       "    </tr>\n",
       "    <tr>\n",
       "      <th>1</th>\n",
       "      <td>2017-03-11</td>\n",
       "      <td>/datasets/rpartsey/satellite/planet/smart_crop...</td>\n",
       "      <td>/datasets/rpartsey/satellite/planet/smart_crop...</td>\n",
       "      <td>/datasets/rpartsey/satellite/planet/smart_crop...</td>\n",
       "      <td>1</td>\n",
       "    </tr>\n",
       "    <tr>\n",
       "      <th>2</th>\n",
       "      <td>2017-03-11</td>\n",
       "      <td>/datasets/rpartsey/satellite/planet/smart_crop...</td>\n",
       "      <td>/datasets/rpartsey/satellite/planet/smart_crop...</td>\n",
       "      <td>/datasets/rpartsey/satellite/planet/smart_crop...</td>\n",
       "      <td>1</td>\n",
       "    </tr>\n",
       "    <tr>\n",
       "      <th>3</th>\n",
       "      <td>2017-03-11</td>\n",
       "      <td>/datasets/rpartsey/satellite/planet/smart_crop...</td>\n",
       "      <td>/datasets/rpartsey/satellite/planet/smart_crop...</td>\n",
       "      <td>/datasets/rpartsey/satellite/planet/smart_crop...</td>\n",
       "      <td>1</td>\n",
       "    </tr>\n",
       "    <tr>\n",
       "      <th>4</th>\n",
       "      <td>2017-03-11</td>\n",
       "      <td>/datasets/rpartsey/satellite/planet/smart_crop...</td>\n",
       "      <td>/datasets/rpartsey/satellite/planet/smart_crop...</td>\n",
       "      <td>/datasets/rpartsey/satellite/planet/smart_crop...</td>\n",
       "      <td>1</td>\n",
       "    </tr>\n",
       "  </tbody>\n",
       "</table>\n",
       "</div>"
      ],
      "text/plain": [
       "         date                                         image_path  \\\n",
       "0  2017-03-11  /datasets/rpartsey/satellite/planet/smart_crop...   \n",
       "1  2017-03-11  /datasets/rpartsey/satellite/planet/smart_crop...   \n",
       "2  2017-03-11  /datasets/rpartsey/satellite/planet/smart_crop...   \n",
       "3  2017-03-11  /datasets/rpartsey/satellite/planet/smart_crop...   \n",
       "4  2017-03-11  /datasets/rpartsey/satellite/planet/smart_crop...   \n",
       "\n",
       "                                           mask_path  \\\n",
       "0  /datasets/rpartsey/satellite/planet/smart_crop...   \n",
       "1  /datasets/rpartsey/satellite/planet/smart_crop...   \n",
       "2  /datasets/rpartsey/satellite/planet/smart_crop...   \n",
       "3  /datasets/rpartsey/satellite/planet/smart_crop...   \n",
       "4  /datasets/rpartsey/satellite/planet/smart_crop...   \n",
       "\n",
       "                                           bbox_path  label  \n",
       "0  /datasets/rpartsey/satellite/planet/smart_crop...      1  \n",
       "1  /datasets/rpartsey/satellite/planet/smart_crop...      1  \n",
       "2  /datasets/rpartsey/satellite/planet/smart_crop...      1  \n",
       "3  /datasets/rpartsey/satellite/planet/smart_crop...      1  \n",
       "4  /datasets/rpartsey/satellite/planet/smart_crop...      1  "
      ]
     },
     "execution_count": 44,
     "metadata": {},
     "output_type": "execute_result"
    }
   ],
   "source": [
    "df.head()"
   ]
  },
  {
   "cell_type": "code",
   "execution_count": 43,
   "metadata": {},
   "outputs": [],
   "source": [
    "df = df[['date', 'image_path', 'mask_path', 'bbox_path', 'label']]"
   ]
  },
  {
   "cell_type": "code",
   "execution_count": 45,
   "metadata": {},
   "outputs": [],
   "source": [
    "df.to_csv('/datasets/rpartsey/satellite/planet/smart_crop/all_files.csv', index=False)"
   ]
  },
  {
   "cell_type": "code",
   "execution_count": 30,
   "metadata": {},
   "outputs": [
    {
     "data": {
      "text/plain": [
       "(780, 4)"
      ]
     },
     "execution_count": 30,
     "metadata": {},
     "output_type": "execute_result"
    }
   ],
   "source": [
    "df.shape"
   ]
  },
  {
   "cell_type": "code",
   "execution_count": null,
   "metadata": {},
   "outputs": [],
   "source": []
  },
  {
   "cell_type": "code",
   "execution_count": 38,
   "metadata": {},
   "outputs": [],
   "source": [
    "df = pd.read_csv('/datasets/rpartsey/satellite/planet/smart_crop/val.csv')"
   ]
  },
  {
   "cell_type": "code",
   "execution_count": 39,
   "metadata": {},
   "outputs": [
    {
     "data": {
      "text/html": [
       "<div>\n",
       "<style scoped>\n",
       "    .dataframe tbody tr th:only-of-type {\n",
       "        vertical-align: middle;\n",
       "    }\n",
       "\n",
       "    .dataframe tbody tr th {\n",
       "        vertical-align: top;\n",
       "    }\n",
       "\n",
       "    .dataframe thead th {\n",
       "        text-align: right;\n",
       "    }\n",
       "</style>\n",
       "<table border=\"1\" class=\"dataframe\">\n",
       "  <thead>\n",
       "    <tr style=\"text-align: right;\">\n",
       "      <th></th>\n",
       "      <th>image_path</th>\n",
       "      <th>mask_path</th>\n",
       "      <th>bbox_path</th>\n",
       "      <th>label</th>\n",
       "    </tr>\n",
       "  </thead>\n",
       "  <tbody>\n",
       "    <tr>\n",
       "      <th>0</th>\n",
       "      <td>/datasets/rpartsey/satellite/planet/smart_crop...</td>\n",
       "      <td>/datasets/rpartsey/satellite/planet/smart_crop...</td>\n",
       "      <td>/datasets/rpartsey/satellite/planet/smart_crop...</td>\n",
       "      <td>1</td>\n",
       "    </tr>\n",
       "    <tr>\n",
       "      <th>1</th>\n",
       "      <td>/datasets/rpartsey/satellite/planet/smart_crop...</td>\n",
       "      <td>/datasets/rpartsey/satellite/planet/smart_crop...</td>\n",
       "      <td>/datasets/rpartsey/satellite/planet/smart_crop...</td>\n",
       "      <td>1</td>\n",
       "    </tr>\n",
       "    <tr>\n",
       "      <th>2</th>\n",
       "      <td>/datasets/rpartsey/satellite/planet/smart_crop...</td>\n",
       "      <td>/datasets/rpartsey/satellite/planet/smart_crop...</td>\n",
       "      <td>/datasets/rpartsey/satellite/planet/smart_crop...</td>\n",
       "      <td>1</td>\n",
       "    </tr>\n",
       "    <tr>\n",
       "      <th>3</th>\n",
       "      <td>/datasets/rpartsey/satellite/planet/smart_crop...</td>\n",
       "      <td>/datasets/rpartsey/satellite/planet/smart_crop...</td>\n",
       "      <td>/datasets/rpartsey/satellite/planet/smart_crop...</td>\n",
       "      <td>1</td>\n",
       "    </tr>\n",
       "    <tr>\n",
       "      <th>4</th>\n",
       "      <td>/datasets/rpartsey/satellite/planet/smart_crop...</td>\n",
       "      <td>/datasets/rpartsey/satellite/planet/smart_crop...</td>\n",
       "      <td>/datasets/rpartsey/satellite/planet/smart_crop...</td>\n",
       "      <td>1</td>\n",
       "    </tr>\n",
       "  </tbody>\n",
       "</table>\n",
       "</div>"
      ],
      "text/plain": [
       "                                          image_path  \\\n",
       "0  /datasets/rpartsey/satellite/planet/smart_crop...   \n",
       "1  /datasets/rpartsey/satellite/planet/smart_crop...   \n",
       "2  /datasets/rpartsey/satellite/planet/smart_crop...   \n",
       "3  /datasets/rpartsey/satellite/planet/smart_crop...   \n",
       "4  /datasets/rpartsey/satellite/planet/smart_crop...   \n",
       "\n",
       "                                           mask_path  \\\n",
       "0  /datasets/rpartsey/satellite/planet/smart_crop...   \n",
       "1  /datasets/rpartsey/satellite/planet/smart_crop...   \n",
       "2  /datasets/rpartsey/satellite/planet/smart_crop...   \n",
       "3  /datasets/rpartsey/satellite/planet/smart_crop...   \n",
       "4  /datasets/rpartsey/satellite/planet/smart_crop...   \n",
       "\n",
       "                                           bbox_path  label  \n",
       "0  /datasets/rpartsey/satellite/planet/smart_crop...      1  \n",
       "1  /datasets/rpartsey/satellite/planet/smart_crop...      1  \n",
       "2  /datasets/rpartsey/satellite/planet/smart_crop...      1  \n",
       "3  /datasets/rpartsey/satellite/planet/smart_crop...      1  \n",
       "4  /datasets/rpartsey/satellite/planet/smart_crop...      1  "
      ]
     },
     "execution_count": 39,
     "metadata": {},
     "output_type": "execute_result"
    }
   ],
   "source": [
    "df.head()"
   ]
  },
  {
   "cell_type": "code",
   "execution_count": 50,
   "metadata": {},
   "outputs": [
    {
     "data": {
      "text/plain": [
       "64"
      ]
     },
     "execution_count": 50,
     "metadata": {},
     "output_type": "execute_result"
    }
   ],
   "source": [
    "df.image_path[df.label == 1].map(lambda path: 'spring' in path).sum()"
   ]
  },
  {
   "cell_type": "code",
   "execution_count": null,
   "metadata": {},
   "outputs": [],
   "source": []
  },
  {
   "cell_type": "code",
   "execution_count": null,
   "metadata": {},
   "outputs": [],
   "source": [
    "df = pd.read_csv('/datasets/rpartsey/satellite/planet/smart_crop/all_files.csv')"
   ]
  },
  {
   "cell_type": "code",
   "execution_count": 52,
   "metadata": {},
   "outputs": [],
   "source": [
    "b_mean = []\n",
    "g_mean = []\n",
    "r_mean = []\n",
    "nir_mean = []\n",
    "\n",
    "b_std = []\n",
    "g_std = []\n",
    "r_std = []\n",
    "nir_std = []\n",
    "\n",
    "for index, row in df.iterrows():\n",
    "    with rasterio.open(row.image_path) as src:\n",
    "        b, g, r, nir = src.read()\n",
    "        \n",
    "        b_mean.append(b.mean())\n",
    "        g_mean.append(g.mean())\n",
    "        r_mean.append(r.mean())\n",
    "        nir_mean.append(nir.mean())\n",
    "        \n",
    "        b_std.append(b.std())\n",
    "        g_std.append(g.std())\n",
    "        r_std.append(r.std())\n",
    "        nir_std.append(nir.std())"
   ]
  },
  {
   "cell_type": "code",
   "execution_count": 54,
   "metadata": {},
   "outputs": [],
   "source": [
    "b_mean = np.array(b_mean).mean()\n",
    "g_mean = np.array(g_mean).mean()\n",
    "r_mean = np.array(r_mean).mean()\n",
    "nir_mean = np.array(nir_mean).mean()\n",
    "\n",
    "b_std = np.array(b_std).mean()\n",
    "g_std = np.array(g_std).mean()\n",
    "r_std = np.array(r_std).mean()\n",
    "nir_std = np.array(nir_std).mean()"
   ]
  },
  {
   "cell_type": "code",
   "execution_count": 55,
   "metadata": {},
   "outputs": [
    {
     "data": {
      "text/plain": [
       "(4417.258621276464, 3835.2537312971936, 3065.427994856266, 3783.5501700000373)"
      ]
     },
     "execution_count": 55,
     "metadata": {},
     "output_type": "execute_result"
    }
   ],
   "source": [
    "b_mean, g_mean, r_mean, nir_mean"
   ]
  },
  {
   "cell_type": "code",
   "execution_count": 56,
   "metadata": {},
   "outputs": [
    {
     "data": {
      "text/plain": [
       "(805.3352649209319, 752.9507977334065, 769.0657720493105, 1136.0581964787941)"
      ]
     },
     "execution_count": 56,
     "metadata": {},
     "output_type": "execute_result"
    }
   ],
   "source": [
    "b_std, g_std, r_std, nir_std "
   ]
  },
  {
   "cell_type": "code",
   "execution_count": null,
   "metadata": {},
   "outputs": [],
   "source": []
  }
 ],
 "metadata": {
  "kernelspec": {
   "display_name": "Python 3",
   "language": "python",
   "name": "python3"
  },
  "language_info": {
   "codemirror_mode": {
    "name": "ipython",
    "version": 3
   },
   "file_extension": ".py",
   "mimetype": "text/x-python",
   "name": "python",
   "nbconvert_exporter": "python",
   "pygments_lexer": "ipython3",
   "version": "3.6.9"
  }
 },
 "nbformat": 4,
 "nbformat_minor": 2
}
